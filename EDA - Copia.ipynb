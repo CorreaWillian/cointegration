{
 "cells": [
  {
   "cell_type": "code",
   "execution_count": 42,
   "id": "d59771fe",
   "metadata": {
    "ExecuteTime": {
     "end_time": "2022-08-09T01:35:08.388988Z",
     "start_time": "2022-08-09T01:35:08.364951Z"
    },
    "hideCode": false,
    "hidePrompt": false
   },
   "outputs": [],
   "source": [
    "import pandas as pd\n",
    "import numpy as np\n",
    "import seaborn as sns\n",
    "# from backtest import executer\n",
    "import matplotlib.pyplot as plt\n",
    "import plotly.express as px\n",
    "import math\n",
    "import ast"
   ]
  },
  {
   "cell_type": "code",
   "execution_count": 43,
   "id": "263db144",
   "metadata": {
    "ExecuteTime": {
     "end_time": "2022-08-09T01:35:08.596951Z",
     "start_time": "2022-08-09T01:35:08.580954Z"
    }
   },
   "outputs": [],
   "source": [
    "sns.set(rc={'figure.figsize':(15,8)})"
   ]
  },
  {
   "cell_type": "code",
   "execution_count": 558,
   "id": "365a80f1",
   "metadata": {
    "ExecuteTime": {
     "end_time": "2022-08-09T12:31:03.346066Z",
     "start_time": "2022-08-09T12:31:03.091064Z"
    },
    "hideCode": false,
    "hidePrompt": false
   },
   "outputs": [],
   "source": [
    "portfolio = pd.read_excel('PORTFOLIO.xlsx')\n",
    "\n",
    "df = pd.read_csv('noRisk_corr90_CloseEnd.csv')\n",
    "df['date'] = pd.to_datetime(df.date)\n",
    "\n",
    "df['stock1'] = [pair.split(\"'\")[1] for pair in df.pair]"
   ]
  },
  {
   "cell_type": "code",
   "execution_count": 559,
   "id": "a0d3a87f",
   "metadata": {
    "ExecuteTime": {
     "end_time": "2022-08-09T12:31:03.788063Z",
     "start_time": "2022-08-09T12:31:03.495065Z"
    },
    "hideCode": false,
    "hidePrompt": false
   },
   "outputs": [],
   "source": [
    "df = df.merge(portfolio.drop_duplicates('ticker'), left_on='stock1', right_on='ticker',how='left')\n",
    "df.drop(columns=['stock1', 'ticker'], inplace=True)\n",
    "df['pair'] = df.pair.apply(ast.literal_eval)\n",
    "df['sorted_pair'] = df.pair.apply(sorted).apply(tuple)"
   ]
  },
  {
   "cell_type": "code",
   "execution_count": 560,
   "id": "7aebde0b",
   "metadata": {
    "ExecuteTime": {
     "end_time": "2022-08-09T12:31:04.044065Z",
     "start_time": "2022-08-09T12:31:04.015065Z"
    },
    "hideCode": false,
    "hidePrompt": false
   },
   "outputs": [],
   "source": [
    "df.drop_duplicates(subset=['date', 'sorted_pair'], keep='first',inplace=True)"
   ]
  },
  {
   "cell_type": "code",
   "execution_count": 561,
   "id": "2a776aee",
   "metadata": {
    "ExecuteTime": {
     "end_time": "2022-08-09T12:31:04.502067Z",
     "start_time": "2022-08-09T12:31:04.453063Z"
    },
    "hideCode": false,
    "hidePrompt": false
   },
   "outputs": [
    {
     "data": {
      "text/html": [
       "<div>\n",
       "<style scoped>\n",
       "    .dataframe tbody tr th:only-of-type {\n",
       "        vertical-align: middle;\n",
       "    }\n",
       "\n",
       "    .dataframe tbody tr th {\n",
       "        vertical-align: top;\n",
       "    }\n",
       "\n",
       "    .dataframe thead th {\n",
       "        text-align: right;\n",
       "    }\n",
       "</style>\n",
       "<table border=\"1\" class=\"dataframe\">\n",
       "  <thead>\n",
       "    <tr style=\"text-align: right;\">\n",
       "      <th></th>\n",
       "      <th>date</th>\n",
       "      <th>pair</th>\n",
       "      <th>status</th>\n",
       "      <th>price_fst_stock</th>\n",
       "      <th>price_scnd_stock</th>\n",
       "      <th>beta_open</th>\n",
       "      <th>beta_close</th>\n",
       "      <th>last_residual</th>\n",
       "      <th>std_residual</th>\n",
       "      <th>std_open_residual</th>\n",
       "      <th>...</th>\n",
       "      <th>open_price_scnd_stock</th>\n",
       "      <th>open_date</th>\n",
       "      <th>close_limit</th>\n",
       "      <th>stop_limit</th>\n",
       "      <th>halflife</th>\n",
       "      <th>days_open</th>\n",
       "      <th>data_ini</th>\n",
       "      <th>data_fin</th>\n",
       "      <th>setor</th>\n",
       "      <th>sorted_pair</th>\n",
       "    </tr>\n",
       "  </thead>\n",
       "  <tbody>\n",
       "  </tbody>\n",
       "</table>\n",
       "<p>0 rows × 22 columns</p>\n",
       "</div>"
      ],
      "text/plain": [
       "Empty DataFrame\n",
       "Columns: [date, pair, status, price_fst_stock, price_scnd_stock, beta_open, beta_close, last_residual, std_residual, std_open_residual, residual_open, open_price_first_stock, open_price_scnd_stock, open_date, close_limit, stop_limit, halflife, days_open, data_ini, data_fin, setor, sorted_pair]\n",
       "Index: []\n",
       "\n",
       "[0 rows x 22 columns]"
      ]
     },
     "execution_count": 561,
     "metadata": {},
     "output_type": "execute_result"
    }
   ],
   "source": [
    "df.loc[(df.duplicated(subset=['date', 'sorted_pair'], keep=False))].sort_values(by=['date', 'sorted_pair'])"
   ]
  },
  {
   "cell_type": "code",
   "execution_count": 562,
   "id": "36353893",
   "metadata": {
    "ExecuteTime": {
     "end_time": "2022-08-09T12:31:05.297162Z",
     "start_time": "2022-08-09T12:31:05.285159Z"
    }
   },
   "outputs": [],
   "source": [
    "def result_calculator(row, kind='CN'):\n",
    "    \n",
    "    if kind=='CN':\n",
    "        multiplier = 1\n",
    "    if kind == 'BN':\n",
    "        multiplier = row.beta_open\n",
    "    \n",
    "    \n",
    "    if row['residual_open'] < row['std_open_residual']:\n",
    "        long_result = np.log(row['price_fst_stock'] / row['open_price_first_stock'])\n",
    "        short_result = np.log(row['open_price_scnd_stock'] / row['price_scnd_stock'])\n",
    "        \n",
    "        short_result = multiplier * short_result\n",
    "        result = long_result + short_result\n",
    "    \n",
    "    elif row['residual_open'] > row['std_open_residual']:\n",
    "        long_result = np.log(row['open_price_first_stock'] / row['price_fst_stock'])\n",
    "        short_result = np.log(row['price_scnd_stock'] / row['open_price_scnd_stock'])\n",
    "        \n",
    "        short_result = multiplier * short_result\n",
    "        result = long_result + short_result\n",
    "\n",
    "    return result "
   ]
  },
  {
   "cell_type": "code",
   "execution_count": 563,
   "id": "1c7b3c7c",
   "metadata": {
    "ExecuteTime": {
     "end_time": "2022-08-09T12:31:05.715216Z",
     "start_time": "2022-08-09T12:31:05.700186Z"
    },
    "hideCode": false,
    "hidePrompt": false
   },
   "outputs": [],
   "source": [
    "cond = (df.status.isin(['True', 'close']))"
   ]
  },
  {
   "cell_type": "code",
   "execution_count": 564,
   "id": "8b82d849",
   "metadata": {
    "ExecuteTime": {
     "end_time": "2022-08-09T12:31:06.871164Z",
     "start_time": "2022-08-09T12:31:06.053497Z"
    },
    "hideCode": false,
    "hidePrompt": false
   },
   "outputs": [],
   "source": [
    "df.loc[cond, 'result'] = df.loc[cond].apply(lambda row: result_calculator(row), axis=1)\n",
    "df.loc[cond, 'result_beta_neutral'] = df.loc[cond].apply(lambda row: result_calculator(row, kind='BN'), axis=1)\n"
   ]
  },
  {
   "cell_type": "code",
   "execution_count": 613,
   "id": "ea2a5678",
   "metadata": {
    "ExecuteTime": {
     "end_time": "2022-08-09T12:36:31.129479Z",
     "start_time": "2022-08-09T12:36:31.110447Z"
    }
   },
   "outputs": [
    {
     "data": {
      "text/plain": [
       "result                -0.171935\n",
       "result_beta_neutral   -0.237635\n",
       "Name: 2022-06-30 00:00:00, dtype: float64"
      ]
     },
     "execution_count": 613,
     "metadata": {},
     "output_type": "execute_result"
    }
   ],
   "source": [
    "closed_daily.loc['2022-06-30']"
   ]
  },
  {
   "cell_type": "code",
   "execution_count": 614,
   "id": "ee209959",
   "metadata": {
    "ExecuteTime": {
     "end_time": "2022-08-09T12:36:38.071720Z",
     "start_time": "2022-08-09T12:36:38.031726Z"
    }
   },
   "outputs": [
    {
     "name": "stderr",
     "output_type": "stream",
     "text": [
      "<ipython-input-614-126641abf49e>:1: FutureWarning: Dropping of nuisance columns in DataFrame reductions (with 'numeric_only=None') is deprecated; in a future version this will raise TypeError.  Select only valid columns before calling the reduction.\n",
      "  df.loc[(df.status=='close') & (df.date == '2022-06-30'), ['open_date', 'days_open', 'result']].mean()\n"
     ]
    },
    {
     "data": {
      "text/plain": [
       "days_open    57.600000\n",
       "result       -0.171935\n",
       "dtype: float64"
      ]
     },
     "execution_count": 614,
     "metadata": {},
     "output_type": "execute_result"
    }
   ],
   "source": [
    "df.loc[(df.status=='close') & (df.date == '2022-06-30'), ['open_date', 'days_open', 'result']].mean()"
   ]
  },
  {
   "cell_type": "code",
   "execution_count": null,
   "id": "a52ea18e",
   "metadata": {},
   "outputs": [],
   "source": []
  },
  {
   "cell_type": "code",
   "execution_count": 567,
   "id": "5522995f",
   "metadata": {
    "ExecuteTime": {
     "end_time": "2022-08-09T12:31:17.998590Z",
     "start_time": "2022-08-09T12:31:17.983586Z"
    }
   },
   "outputs": [
    {
     "data": {
      "text/html": [
       "<div>\n",
       "<style scoped>\n",
       "    .dataframe tbody tr th:only-of-type {\n",
       "        vertical-align: middle;\n",
       "    }\n",
       "\n",
       "    .dataframe tbody tr th {\n",
       "        vertical-align: top;\n",
       "    }\n",
       "\n",
       "    .dataframe thead th {\n",
       "        text-align: right;\n",
       "    }\n",
       "</style>\n",
       "<table border=\"1\" class=\"dataframe\">\n",
       "  <thead>\n",
       "    <tr style=\"text-align: right;\">\n",
       "      <th></th>\n",
       "      <th>date</th>\n",
       "      <th>pair</th>\n",
       "      <th>status</th>\n",
       "      <th>price_fst_stock</th>\n",
       "      <th>price_scnd_stock</th>\n",
       "      <th>beta_open</th>\n",
       "      <th>beta_close</th>\n",
       "      <th>last_residual</th>\n",
       "      <th>std_residual</th>\n",
       "      <th>std_open_residual</th>\n",
       "      <th>...</th>\n",
       "      <th>close_limit</th>\n",
       "      <th>stop_limit</th>\n",
       "      <th>halflife</th>\n",
       "      <th>days_open</th>\n",
       "      <th>data_ini</th>\n",
       "      <th>data_fin</th>\n",
       "      <th>setor</th>\n",
       "      <th>sorted_pair</th>\n",
       "      <th>result</th>\n",
       "      <th>result_beta_neutral</th>\n",
       "    </tr>\n",
       "  </thead>\n",
       "  <tbody>\n",
       "  </tbody>\n",
       "</table>\n",
       "<p>0 rows × 24 columns</p>\n",
       "</div>"
      ],
      "text/plain": [
       "Empty DataFrame\n",
       "Columns: [date, pair, status, price_fst_stock, price_scnd_stock, beta_open, beta_close, last_residual, std_residual, std_open_residual, residual_open, open_price_first_stock, open_price_scnd_stock, open_date, close_limit, stop_limit, halflife, days_open, data_ini, data_fin, setor, sorted_pair, result, result_beta_neutral]\n",
       "Index: []\n",
       "\n",
       "[0 rows x 24 columns]"
      ]
     },
     "execution_count": 567,
     "metadata": {},
     "output_type": "execute_result"
    }
   ],
   "source": [
    "df.loc[df.status=='']"
   ]
  },
  {
   "cell_type": "code",
   "execution_count": 568,
   "id": "8691035b",
   "metadata": {
    "ExecuteTime": {
     "end_time": "2022-08-09T12:31:19.740513Z",
     "start_time": "2022-08-09T12:31:19.719520Z"
    }
   },
   "outputs": [
    {
     "data": {
      "text/plain": [
       "Timestamp('2022-06-30 00:00:00')"
      ]
     },
     "execution_count": 568,
     "metadata": {},
     "output_type": "execute_result"
    }
   ],
   "source": [
    "df.date.max()"
   ]
  },
  {
   "cell_type": "code",
   "execution_count": 571,
   "id": "0cbadf4d",
   "metadata": {
    "ExecuteTime": {
     "end_time": "2022-08-09T12:31:37.082251Z",
     "start_time": "2022-08-09T12:31:37.072243Z"
    },
    "hideCode": false,
    "hidePrompt": false
   },
   "outputs": [],
   "source": [
    "closed = df.loc[df.status=='close'].copy()\n",
    "\n",
    "closed['is_profit'] = closed['result'] > 0\n",
    "# closed['is_profit_CN'] = closed['result_cash_neutral'] > 0\n",
    "closed['is_profit_BN'] = closed['result_beta_neutral'] > 0\n"
   ]
  },
  {
   "cell_type": "code",
   "execution_count": 639,
   "id": "5485028c",
   "metadata": {
    "ExecuteTime": {
     "end_time": "2022-08-09T12:48:15.775417Z",
     "start_time": "2022-08-09T12:48:15.759418Z"
    },
    "hideCode": false,
    "hidePrompt": false
   },
   "outputs": [],
   "source": [
    "result = closed[['result', 'result_beta_neutral']].mean()\n",
    "accuracy = closed[['is_profit','is_profit_BN']].mean()\n",
    "days_open = closed.days_open.mean()"
   ]
  },
  {
   "cell_type": "code",
   "execution_count": 640,
   "id": "b9465bbb",
   "metadata": {
    "ExecuteTime": {
     "end_time": "2022-08-09T12:48:16.221821Z",
     "start_time": "2022-08-09T12:48:16.197828Z"
    },
    "hideCode": false,
    "hidePrompt": false
   },
   "outputs": [
    {
     "data": {
      "text/html": [
       "<div>\n",
       "<style scoped>\n",
       "    .dataframe tbody tr th:only-of-type {\n",
       "        vertical-align: middle;\n",
       "    }\n",
       "\n",
       "    .dataframe tbody tr th {\n",
       "        vertical-align: top;\n",
       "    }\n",
       "\n",
       "    .dataframe thead th {\n",
       "        text-align: right;\n",
       "    }\n",
       "</style>\n",
       "<table border=\"1\" class=\"dataframe\">\n",
       "  <thead>\n",
       "    <tr style=\"text-align: right;\">\n",
       "      <th></th>\n",
       "      <th>result</th>\n",
       "      <th>accuracy</th>\n",
       "      <th>days open</th>\n",
       "    </tr>\n",
       "  </thead>\n",
       "  <tbody>\n",
       "    <tr>\n",
       "      <th>normal</th>\n",
       "      <td>0.010379</td>\n",
       "      <td>0.696429</td>\n",
       "      <td>32.171429</td>\n",
       "    </tr>\n",
       "    <tr>\n",
       "      <th>beta_neutral</th>\n",
       "      <td>0.022461</td>\n",
       "      <td>0.653571</td>\n",
       "      <td>32.171429</td>\n",
       "    </tr>\n",
       "  </tbody>\n",
       "</table>\n",
       "</div>"
      ],
      "text/plain": [
       "                result  accuracy  days open\n",
       "normal        0.010379  0.696429  32.171429\n",
       "beta_neutral  0.022461  0.653571  32.171429"
      ]
     },
     "execution_count": 640,
     "metadata": {},
     "output_type": "execute_result"
    }
   ],
   "source": [
    "result_table = {'result': result.values,\n",
    "                'accuracy': accuracy.values,\n",
    "                'days open': days_open\n",
    "               }\n",
    "pd.DataFrame(result_table, index=['normal', 'beta_neutral'])"
   ]
  },
  {
   "cell_type": "code",
   "execution_count": 641,
   "id": "97619f55",
   "metadata": {
    "ExecuteTime": {
     "end_time": "2022-08-09T12:48:49.135964Z",
     "start_time": "2022-08-09T12:48:48.859856Z"
    },
    "hideCode": false,
    "hidePrompt": false,
    "scrolled": false
   },
   "outputs": [
    {
     "data": {
      "image/png": "[encoded data removed]",
      "text/plain": [
       "<Figure size 1080x576 with 1 Axes>"
      ]
     },
     "metadata": {},
     "output_type": "display_data"
    }
   ],
   "source": [
    "sns.kdeplot(x=closed.result, color='blue', label='normal', bw_adjust=5, cut=0, fill=True)\n",
    "# sns.kdeplot(x=closed.result_cash_neutral, color='red', label='cash neutral', bw_adjust=5, cut=0, fill=True)\n",
    "sns.kdeplot(x=closed.result_beta_neutral, color='green', label='beta neutral', bw_adjust=5, cut=0, fill=True)\n",
    "\n",
    "plt.axvline(x=0, linestyle='dotted')\n",
    "plt.legend()\n",
    "plt.show()"
   ]
  },
  {
   "cell_type": "code",
   "execution_count": 643,
   "id": "686039b8",
   "metadata": {
    "ExecuteTime": {
     "end_time": "2022-08-09T12:49:18.881249Z",
     "start_time": "2022-08-09T12:49:18.841216Z"
    },
    "hideCode": false,
    "hidePrompt": false
   },
   "outputs": [
    {
     "data": {
      "text/html": [
       "<div>\n",
       "<style scoped>\n",
       "    .dataframe tbody tr th:only-of-type {\n",
       "        vertical-align: middle;\n",
       "    }\n",
       "\n",
       "    .dataframe tbody tr th {\n",
       "        vertical-align: top;\n",
       "    }\n",
       "\n",
       "    .dataframe thead th {\n",
       "        text-align: right;\n",
       "    }\n",
       "</style>\n",
       "<table border=\"1\" class=\"dataframe\">\n",
       "  <thead>\n",
       "    <tr style=\"text-align: right;\">\n",
       "      <th></th>\n",
       "      <th>mean</th>\n",
       "      <th>count</th>\n",
       "    </tr>\n",
       "  </thead>\n",
       "  <tbody>\n",
       "    <tr>\n",
       "      <th>result</th>\n",
       "      <td>0.054848</td>\n",
       "      <td>195.0</td>\n",
       "    </tr>\n",
       "    <tr>\n",
       "      <th>result_beta_neutral</th>\n",
       "      <td>0.086737</td>\n",
       "      <td>195.0</td>\n",
       "    </tr>\n",
       "    <tr>\n",
       "      <th>is_profit</th>\n",
       "      <td>0.871795</td>\n",
       "      <td>195.0</td>\n",
       "    </tr>\n",
       "    <tr>\n",
       "      <th>is_profit_BN</th>\n",
       "      <td>0.830769</td>\n",
       "      <td>195.0</td>\n",
       "    </tr>\n",
       "  </tbody>\n",
       "</table>\n",
       "</div>"
      ],
      "text/plain": [
       "                         mean  count\n",
       "result               0.054848  195.0\n",
       "result_beta_neutral  0.086737  195.0\n",
       "is_profit            0.871795  195.0\n",
       "is_profit_BN         0.830769  195.0"
      ]
     },
     "execution_count": 643,
     "metadata": {},
     "output_type": "execute_result"
    }
   ],
   "source": [
    "# Close by residual\n",
    "closed_by_residual = closed.loc[abs(df.last_residual) < df.close_limit,['result', 'result_beta_neutral', 'is_profit','is_profit_BN']].agg(['mean', 'count']).T\n",
    "closed_by_residual"
   ]
  },
  {
   "cell_type": "code",
   "execution_count": 576,
   "id": "0a402794",
   "metadata": {
    "ExecuteTime": {
     "end_time": "2022-08-09T12:31:57.749772Z",
     "start_time": "2022-08-09T12:31:57.721749Z"
    },
    "hideCode": false,
    "hidePrompt": false
   },
   "outputs": [
    {
     "data": {
      "text/html": [
       "<div>\n",
       "<style scoped>\n",
       "    .dataframe tbody tr th:only-of-type {\n",
       "        vertical-align: middle;\n",
       "    }\n",
       "\n",
       "    .dataframe tbody tr th {\n",
       "        vertical-align: top;\n",
       "    }\n",
       "\n",
       "    .dataframe thead th {\n",
       "        text-align: right;\n",
       "    }\n",
       "</style>\n",
       "<table border=\"1\" class=\"dataframe\">\n",
       "  <thead>\n",
       "    <tr style=\"text-align: right;\">\n",
       "      <th></th>\n",
       "      <th>sum</th>\n",
       "      <th>count</th>\n",
       "    </tr>\n",
       "  </thead>\n",
       "  <tbody>\n",
       "    <tr>\n",
       "      <th>result</th>\n",
       "      <td>0.0</td>\n",
       "      <td>0.0</td>\n",
       "    </tr>\n",
       "    <tr>\n",
       "      <th>result_beta_neutral</th>\n",
       "      <td>0.0</td>\n",
       "      <td>0.0</td>\n",
       "    </tr>\n",
       "    <tr>\n",
       "      <th>is_profit</th>\n",
       "      <td>0.0</td>\n",
       "      <td>0.0</td>\n",
       "    </tr>\n",
       "    <tr>\n",
       "      <th>is_profit_BN</th>\n",
       "      <td>0.0</td>\n",
       "      <td>0.0</td>\n",
       "    </tr>\n",
       "  </tbody>\n",
       "</table>\n",
       "</div>"
      ],
      "text/plain": [
       "                     sum  count\n",
       "result               0.0    0.0\n",
       "result_beta_neutral  0.0    0.0\n",
       "is_profit            0.0    0.0\n",
       "is_profit_BN         0.0    0.0"
      ]
     },
     "execution_count": 576,
     "metadata": {},
     "output_type": "execute_result"
    }
   ],
   "source": [
    "# stop by stop\n",
    "closed_by_stop = closed.loc[abs(df.last_residual) > df.stop_limit,['result', 'result_beta_neutral', 'is_profit','is_profit_BN']].agg([sum, 'count']).T\n",
    "closed_by_stop"
   ]
  },
  {
   "cell_type": "code",
   "execution_count": 577,
   "id": "65cfa6b9",
   "metadata": {
    "ExecuteTime": {
     "end_time": "2022-08-09T12:31:59.023998Z",
     "start_time": "2022-08-09T12:31:58.995995Z"
    },
    "hideCode": false,
    "hidePrompt": false
   },
   "outputs": [
    {
     "data": {
      "text/html": [
       "<div>\n",
       "<style scoped>\n",
       "    .dataframe tbody tr th:only-of-type {\n",
       "        vertical-align: middle;\n",
       "    }\n",
       "\n",
       "    .dataframe tbody tr th {\n",
       "        vertical-align: top;\n",
       "    }\n",
       "\n",
       "    .dataframe thead th {\n",
       "        text-align: right;\n",
       "    }\n",
       "</style>\n",
       "<table border=\"1\" class=\"dataframe\">\n",
       "  <thead>\n",
       "    <tr style=\"text-align: right;\">\n",
       "      <th></th>\n",
       "      <th>sum</th>\n",
       "      <th>count</th>\n",
       "    </tr>\n",
       "  </thead>\n",
       "  <tbody>\n",
       "    <tr>\n",
       "      <th>result</th>\n",
       "      <td>0.0</td>\n",
       "      <td>0.0</td>\n",
       "    </tr>\n",
       "    <tr>\n",
       "      <th>result_beta_neutral</th>\n",
       "      <td>0.0</td>\n",
       "      <td>0.0</td>\n",
       "    </tr>\n",
       "    <tr>\n",
       "      <th>is_profit</th>\n",
       "      <td>0.0</td>\n",
       "      <td>0.0</td>\n",
       "    </tr>\n",
       "    <tr>\n",
       "      <th>is_profit_BN</th>\n",
       "      <td>0.0</td>\n",
       "      <td>0.0</td>\n",
       "    </tr>\n",
       "  </tbody>\n",
       "</table>\n",
       "</div>"
      ],
      "text/plain": [
       "                     sum  count\n",
       "result               0.0    0.0\n",
       "result_beta_neutral  0.0    0.0\n",
       "is_profit            0.0    0.0\n",
       "is_profit_BN         0.0    0.0"
      ]
     },
     "execution_count": 577,
     "metadata": {},
     "output_type": "execute_result"
    }
   ],
   "source": [
    "# stop by halflife\n",
    "closed_by_halflife = closed.loc[closed.days_open > closed.halflife, ['result', 'result_beta_neutral', 'is_profit','is_profit_BN']].agg([sum, 'count']).T\n",
    "closed_by_halflife"
   ]
  },
  {
   "cell_type": "code",
   "execution_count": 578,
   "id": "9bd0470a",
   "metadata": {
    "ExecuteTime": {
     "end_time": "2022-08-09T12:31:59.986012Z",
     "start_time": "2022-08-09T12:31:59.943083Z"
    }
   },
   "outputs": [
    {
     "data": {
      "text/html": [
       "<div>\n",
       "<style scoped>\n",
       "    .dataframe tbody tr th:only-of-type {\n",
       "        vertical-align: middle;\n",
       "    }\n",
       "\n",
       "    .dataframe tbody tr th {\n",
       "        vertical-align: top;\n",
       "    }\n",
       "\n",
       "    .dataframe thead th {\n",
       "        text-align: right;\n",
       "    }\n",
       "</style>\n",
       "<table border=\"1\" class=\"dataframe\">\n",
       "  <thead>\n",
       "    <tr style=\"text-align: right;\">\n",
       "      <th></th>\n",
       "      <th>date</th>\n",
       "      <th>pair</th>\n",
       "      <th>status</th>\n",
       "      <th>price_fst_stock</th>\n",
       "      <th>price_scnd_stock</th>\n",
       "      <th>beta_open</th>\n",
       "      <th>beta_close</th>\n",
       "      <th>last_residual</th>\n",
       "      <th>std_residual</th>\n",
       "      <th>std_open_residual</th>\n",
       "      <th>...</th>\n",
       "      <th>halflife</th>\n",
       "      <th>days_open</th>\n",
       "      <th>data_ini</th>\n",
       "      <th>data_fin</th>\n",
       "      <th>setor</th>\n",
       "      <th>sorted_pair</th>\n",
       "      <th>result</th>\n",
       "      <th>result_beta_neutral</th>\n",
       "      <th>is_profit</th>\n",
       "      <th>is_profit_BN</th>\n",
       "    </tr>\n",
       "  </thead>\n",
       "  <tbody>\n",
       "    <tr>\n",
       "      <th>7</th>\n",
       "      <td>2019-07-15</td>\n",
       "      <td>(AZUL4, GOLL4)</td>\n",
       "      <td>close</td>\n",
       "      <td>49.36</td>\n",
       "      <td>38.30</td>\n",
       "      <td>0.985577</td>\n",
       "      <td>0.958189</td>\n",
       "      <td>0.194602</td>\n",
       "      <td>1.308762</td>\n",
       "      <td>1.262734</td>\n",
       "      <td>...</td>\n",
       "      <td>5000.0</td>\n",
       "      <td>7</td>\n",
       "      <td>2019-07-01</td>\n",
       "      <td>2019-12-31</td>\n",
       "      <td>Aéreas</td>\n",
       "      <td>(AZUL4, GOLL4)</td>\n",
       "      <td>0.037374</td>\n",
       "      <td>0.038440</td>\n",
       "      <td>True</td>\n",
       "      <td>True</td>\n",
       "    </tr>\n",
       "    <tr>\n",
       "      <th>106</th>\n",
       "      <td>2019-12-27</td>\n",
       "      <td>(AZUL4, GOLL4)</td>\n",
       "      <td>close</td>\n",
       "      <td>57.80</td>\n",
       "      <td>36.92</td>\n",
       "      <td>0.947513</td>\n",
       "      <td>1.221358</td>\n",
       "      <td>6.151639</td>\n",
       "      <td>2.780245</td>\n",
       "      <td>1.258947</td>\n",
       "      <td>...</td>\n",
       "      <td>5000.0</td>\n",
       "      <td>98</td>\n",
       "      <td>2019-07-01</td>\n",
       "      <td>2019-12-31</td>\n",
       "      <td>Aéreas</td>\n",
       "      <td>(AZUL4, GOLL4)</td>\n",
       "      <td>-0.155521</td>\n",
       "      <td>-0.151790</td>\n",
       "      <td>False</td>\n",
       "      <td>False</td>\n",
       "    </tr>\n",
       "    <tr>\n",
       "      <th>190</th>\n",
       "      <td>2019-08-30</td>\n",
       "      <td>(BRFS3, JBSS3)</td>\n",
       "      <td>close</td>\n",
       "      <td>38.14</td>\n",
       "      <td>25.71</td>\n",
       "      <td>0.912186</td>\n",
       "      <td>0.999857</td>\n",
       "      <td>0.779814</td>\n",
       "      <td>1.633379</td>\n",
       "      <td>1.596046</td>\n",
       "      <td>...</td>\n",
       "      <td>11000.0</td>\n",
       "      <td>15</td>\n",
       "      <td>2019-07-01</td>\n",
       "      <td>2019-12-31</td>\n",
       "      <td>Alimentos e Bebidas</td>\n",
       "      <td>(BRFS3, JBSS3)</td>\n",
       "      <td>0.078559</td>\n",
       "      <td>0.071707</td>\n",
       "      <td>True</td>\n",
       "      <td>True</td>\n",
       "    </tr>\n",
       "    <tr>\n",
       "      <th>214</th>\n",
       "      <td>2019-11-22</td>\n",
       "      <td>(CCRO3, RAIL3)</td>\n",
       "      <td>close</td>\n",
       "      <td>16.79</td>\n",
       "      <td>24.16</td>\n",
       "      <td>0.729863</td>\n",
       "      <td>0.747719</td>\n",
       "      <td>0.226744</td>\n",
       "      <td>0.738815</td>\n",
       "      <td>0.688756</td>\n",
       "      <td>...</td>\n",
       "      <td>7000.0</td>\n",
       "      <td>23</td>\n",
       "      <td>2019-07-01</td>\n",
       "      <td>2019-12-31</td>\n",
       "      <td>Bens Industriais</td>\n",
       "      <td>(CCRO3, RAIL3)</td>\n",
       "      <td>0.073761</td>\n",
       "      <td>0.059881</td>\n",
       "      <td>True</td>\n",
       "      <td>True</td>\n",
       "    </tr>\n",
       "    <tr>\n",
       "      <th>258</th>\n",
       "      <td>2019-12-27</td>\n",
       "      <td>(RAIL3, WEGE3)</td>\n",
       "      <td>close</td>\n",
       "      <td>26.84</td>\n",
       "      <td>17.10</td>\n",
       "      <td>2.012557</td>\n",
       "      <td>1.107561</td>\n",
       "      <td>-1.211327</td>\n",
       "      <td>1.166806</td>\n",
       "      <td>0.966243</td>\n",
       "      <td>...</td>\n",
       "      <td>10000.0</td>\n",
       "      <td>43</td>\n",
       "      <td>2019-07-01</td>\n",
       "      <td>2019-12-31</td>\n",
       "      <td>Bens Industriais</td>\n",
       "      <td>(RAIL3, WEGE3)</td>\n",
       "      <td>-0.158446</td>\n",
       "      <td>-0.476541</td>\n",
       "      <td>False</td>\n",
       "      <td>False</td>\n",
       "    </tr>\n",
       "    <tr>\n",
       "      <th>...</th>\n",
       "      <td>...</td>\n",
       "      <td>...</td>\n",
       "      <td>...</td>\n",
       "      <td>...</td>\n",
       "      <td>...</td>\n",
       "      <td>...</td>\n",
       "      <td>...</td>\n",
       "      <td>...</td>\n",
       "      <td>...</td>\n",
       "      <td>...</td>\n",
       "      <td>...</td>\n",
       "      <td>...</td>\n",
       "      <td>...</td>\n",
       "      <td>...</td>\n",
       "      <td>...</td>\n",
       "      <td>...</td>\n",
       "      <td>...</td>\n",
       "      <td>...</td>\n",
       "      <td>...</td>\n",
       "      <td>...</td>\n",
       "      <td>...</td>\n",
       "    </tr>\n",
       "    <tr>\n",
       "      <th>12473</th>\n",
       "      <td>2022-06-09</td>\n",
       "      <td>(LREN3, VIIA3)</td>\n",
       "      <td>close</td>\n",
       "      <td>25.07</td>\n",
       "      <td>2.91</td>\n",
       "      <td>1.333153</td>\n",
       "      <td>1.305167</td>\n",
       "      <td>0.606552</td>\n",
       "      <td>1.530042</td>\n",
       "      <td>1.570381</td>\n",
       "      <td>...</td>\n",
       "      <td>10000.0</td>\n",
       "      <td>4</td>\n",
       "      <td>2019-07-01</td>\n",
       "      <td>2019-12-31</td>\n",
       "      <td>Varejo</td>\n",
       "      <td>(LREN3, VIIA3)</td>\n",
       "      <td>0.038367</td>\n",
       "      <td>0.014087</td>\n",
       "      <td>True</td>\n",
       "      <td>True</td>\n",
       "    </tr>\n",
       "    <tr>\n",
       "      <th>12511</th>\n",
       "      <td>2022-06-30</td>\n",
       "      <td>(PETZ3, ALPA4)</td>\n",
       "      <td>close</td>\n",
       "      <td>9.93</td>\n",
       "      <td>19.14</td>\n",
       "      <td>0.286549</td>\n",
       "      <td>0.323871</td>\n",
       "      <td>-3.477779</td>\n",
       "      <td>1.865421</td>\n",
       "      <td>1.575374</td>\n",
       "      <td>...</td>\n",
       "      <td>9000.0</td>\n",
       "      <td>37</td>\n",
       "      <td>2022-01-01</td>\n",
       "      <td>2022-07-01</td>\n",
       "      <td>Varejo</td>\n",
       "      <td>(ALPA4, PETZ3)</td>\n",
       "      <td>-0.081810</td>\n",
       "      <td>-0.145936</td>\n",
       "      <td>False</td>\n",
       "      <td>False</td>\n",
       "    </tr>\n",
       "    <tr>\n",
       "      <th>12531</th>\n",
       "      <td>2022-05-03</td>\n",
       "      <td>(VIIA3, CVCB3)</td>\n",
       "      <td>close</td>\n",
       "      <td>2.86</td>\n",
       "      <td>12.47</td>\n",
       "      <td>0.773178</td>\n",
       "      <td>0.783732</td>\n",
       "      <td>-0.589983</td>\n",
       "      <td>1.390562</td>\n",
       "      <td>1.518323</td>\n",
       "      <td>...</td>\n",
       "      <td>13000.0</td>\n",
       "      <td>19</td>\n",
       "      <td>2019-07-01</td>\n",
       "      <td>2019-12-31</td>\n",
       "      <td>Varejo</td>\n",
       "      <td>(CVCB3, VIIA3)</td>\n",
       "      <td>-0.085623</td>\n",
       "      <td>-0.156579</td>\n",
       "      <td>False</td>\n",
       "      <td>False</td>\n",
       "    </tr>\n",
       "    <tr>\n",
       "      <th>12573</th>\n",
       "      <td>2022-04-26</td>\n",
       "      <td>(VIIA3, LREN3)</td>\n",
       "      <td>close</td>\n",
       "      <td>3.04</td>\n",
       "      <td>24.31</td>\n",
       "      <td>0.645305</td>\n",
       "      <td>0.657941</td>\n",
       "      <td>-0.416682</td>\n",
       "      <td>1.170359</td>\n",
       "      <td>1.150397</td>\n",
       "      <td>...</td>\n",
       "      <td>8000.0</td>\n",
       "      <td>14</td>\n",
       "      <td>2019-07-01</td>\n",
       "      <td>2019-12-31</td>\n",
       "      <td>Varejo</td>\n",
       "      <td>(LREN3, VIIA3)</td>\n",
       "      <td>-0.153788</td>\n",
       "      <td>-0.218919</td>\n",
       "      <td>False</td>\n",
       "      <td>False</td>\n",
       "    </tr>\n",
       "    <tr>\n",
       "      <th>12580</th>\n",
       "      <td>2022-06-10</td>\n",
       "      <td>(VIIA3, LREN3)</td>\n",
       "      <td>close</td>\n",
       "      <td>2.83</td>\n",
       "      <td>23.93</td>\n",
       "      <td>0.691625</td>\n",
       "      <td>0.711599</td>\n",
       "      <td>-0.003470</td>\n",
       "      <td>1.124270</td>\n",
       "      <td>1.130945</td>\n",
       "      <td>...</td>\n",
       "      <td>10000.0</td>\n",
       "      <td>6</td>\n",
       "      <td>2019-07-01</td>\n",
       "      <td>2019-12-31</td>\n",
       "      <td>Varejo</td>\n",
       "      <td>(LREN3, VIIA3)</td>\n",
       "      <td>0.032315</td>\n",
       "      <td>-0.014576</td>\n",
       "      <td>True</td>\n",
       "      <td>False</td>\n",
       "    </tr>\n",
       "  </tbody>\n",
       "</table>\n",
       "<p>280 rows × 26 columns</p>\n",
       "</div>"
      ],
      "text/plain": [
       "            date            pair status  price_fst_stock  price_scnd_stock  \\\n",
       "7     2019-07-15  (AZUL4, GOLL4)  close            49.36             38.30   \n",
       "106   2019-12-27  (AZUL4, GOLL4)  close            57.80             36.92   \n",
       "190   2019-08-30  (BRFS3, JBSS3)  close            38.14             25.71   \n",
       "214   2019-11-22  (CCRO3, RAIL3)  close            16.79             24.16   \n",
       "258   2019-12-27  (RAIL3, WEGE3)  close            26.84             17.10   \n",
       "...          ...             ...    ...              ...               ...   \n",
       "12473 2022-06-09  (LREN3, VIIA3)  close            25.07              2.91   \n",
       "12511 2022-06-30  (PETZ3, ALPA4)  close             9.93             19.14   \n",
       "12531 2022-05-03  (VIIA3, CVCB3)  close             2.86             12.47   \n",
       "12573 2022-04-26  (VIIA3, LREN3)  close             3.04             24.31   \n",
       "12580 2022-06-10  (VIIA3, LREN3)  close             2.83             23.93   \n",
       "\n",
       "       beta_open  beta_close  last_residual  std_residual  std_open_residual  \\\n",
       "7       0.985577    0.958189       0.194602      1.308762           1.262734   \n",
       "106     0.947513    1.221358       6.151639      2.780245           1.258947   \n",
       "190     0.912186    0.999857       0.779814      1.633379           1.596046   \n",
       "214     0.729863    0.747719       0.226744      0.738815           0.688756   \n",
       "258     2.012557    1.107561      -1.211327      1.166806           0.966243   \n",
       "...          ...         ...            ...           ...                ...   \n",
       "12473   1.333153    1.305167       0.606552      1.530042           1.570381   \n",
       "12511   0.286549    0.323871      -3.477779      1.865421           1.575374   \n",
       "12531   0.773178    0.783732      -0.589983      1.390562           1.518323   \n",
       "12573   0.645305    0.657941      -0.416682      1.170359           1.150397   \n",
       "12580   0.691625    0.711599      -0.003470      1.124270           1.130945   \n",
       "\n",
       "       ...  halflife  days_open   data_ini   data_fin                setor  \\\n",
       "7      ...    5000.0          7 2019-07-01 2019-12-31               Aéreas   \n",
       "106    ...    5000.0         98 2019-07-01 2019-12-31               Aéreas   \n",
       "190    ...   11000.0         15 2019-07-01 2019-12-31  Alimentos e Bebidas   \n",
       "214    ...    7000.0         23 2019-07-01 2019-12-31     Bens Industriais   \n",
       "258    ...   10000.0         43 2019-07-01 2019-12-31     Bens Industriais   \n",
       "...    ...       ...        ...        ...        ...                  ...   \n",
       "12473  ...   10000.0          4 2019-07-01 2019-12-31               Varejo   \n",
       "12511  ...    9000.0         37 2022-01-01 2022-07-01               Varejo   \n",
       "12531  ...   13000.0         19 2019-07-01 2019-12-31               Varejo   \n",
       "12573  ...    8000.0         14 2019-07-01 2019-12-31               Varejo   \n",
       "12580  ...   10000.0          6 2019-07-01 2019-12-31               Varejo   \n",
       "\n",
       "          sorted_pair    result  result_beta_neutral is_profit is_profit_BN  \n",
       "7      (AZUL4, GOLL4)  0.037374             0.038440      True         True  \n",
       "106    (AZUL4, GOLL4) -0.155521            -0.151790     False        False  \n",
       "190    (BRFS3, JBSS3)  0.078559             0.071707      True         True  \n",
       "214    (CCRO3, RAIL3)  0.073761             0.059881      True         True  \n",
       "258    (RAIL3, WEGE3) -0.158446            -0.476541     False        False  \n",
       "...               ...       ...                  ...       ...          ...  \n",
       "12473  (LREN3, VIIA3)  0.038367             0.014087      True         True  \n",
       "12511  (ALPA4, PETZ3) -0.081810            -0.145936     False        False  \n",
       "12531  (CVCB3, VIIA3) -0.085623            -0.156579     False        False  \n",
       "12573  (LREN3, VIIA3) -0.153788            -0.218919     False        False  \n",
       "12580  (LREN3, VIIA3)  0.032315            -0.014576      True        False  \n",
       "\n",
       "[280 rows x 26 columns]"
      ]
     },
     "execution_count": 578,
     "metadata": {},
     "output_type": "execute_result"
    }
   ],
   "source": [
    "closed"
   ]
  },
  {
   "cell_type": "code",
   "execution_count": 579,
   "id": "fd088746",
   "metadata": {
    "ExecuteTime": {
     "end_time": "2022-08-09T12:32:01.502159Z",
     "start_time": "2022-08-09T12:32:01.488163Z"
    },
    "hideCode": false,
    "hidePrompt": false
   },
   "outputs": [],
   "source": [
    "# closed = closed.loc[closed.halflife.between(0,21)]"
   ]
  },
  {
   "cell_type": "code",
   "execution_count": 580,
   "id": "d219be3e",
   "metadata": {
    "ExecuteTime": {
     "end_time": "2022-08-09T12:32:02.616599Z",
     "start_time": "2022-08-09T12:32:02.590904Z"
    },
    "hideCode": false,
    "hidePrompt": false
   },
   "outputs": [
    {
     "data": {
      "text/html": [
       "<div>\n",
       "<style scoped>\n",
       "    .dataframe tbody tr th:only-of-type {\n",
       "        vertical-align: middle;\n",
       "    }\n",
       "\n",
       "    .dataframe tbody tr th {\n",
       "        vertical-align: top;\n",
       "    }\n",
       "\n",
       "    .dataframe thead th {\n",
       "        text-align: right;\n",
       "    }\n",
       "</style>\n",
       "<table border=\"1\" class=\"dataframe\">\n",
       "  <thead>\n",
       "    <tr style=\"text-align: right;\">\n",
       "      <th></th>\n",
       "      <th>date</th>\n",
       "      <th>variable</th>\n",
       "      <th>accuracy</th>\n",
       "    </tr>\n",
       "  </thead>\n",
       "  <tbody>\n",
       "    <tr>\n",
       "      <th>0</th>\n",
       "      <td>2019-07-31</td>\n",
       "      <td>normal</td>\n",
       "      <td>1.000000</td>\n",
       "    </tr>\n",
       "    <tr>\n",
       "      <th>1</th>\n",
       "      <td>2020-01-31</td>\n",
       "      <td>normal</td>\n",
       "      <td>0.840000</td>\n",
       "    </tr>\n",
       "    <tr>\n",
       "      <th>2</th>\n",
       "      <td>2020-07-31</td>\n",
       "      <td>normal</td>\n",
       "      <td>0.843373</td>\n",
       "    </tr>\n",
       "    <tr>\n",
       "      <th>3</th>\n",
       "      <td>2021-01-31</td>\n",
       "      <td>normal</td>\n",
       "      <td>0.918919</td>\n",
       "    </tr>\n",
       "    <tr>\n",
       "      <th>4</th>\n",
       "      <td>2021-07-31</td>\n",
       "      <td>normal</td>\n",
       "      <td>0.866667</td>\n",
       "    </tr>\n",
       "    <tr>\n",
       "      <th>5</th>\n",
       "      <td>2022-01-31</td>\n",
       "      <td>normal</td>\n",
       "      <td>0.904762</td>\n",
       "    </tr>\n",
       "    <tr>\n",
       "      <th>6</th>\n",
       "      <td>2022-07-31</td>\n",
       "      <td>normal</td>\n",
       "      <td>0.755102</td>\n",
       "    </tr>\n",
       "    <tr>\n",
       "      <th>7</th>\n",
       "      <td>2019-07-31</td>\n",
       "      <td>beta neutral</td>\n",
       "      <td>1.000000</td>\n",
       "    </tr>\n",
       "    <tr>\n",
       "      <th>8</th>\n",
       "      <td>2020-01-31</td>\n",
       "      <td>beta neutral</td>\n",
       "      <td>0.820000</td>\n",
       "    </tr>\n",
       "    <tr>\n",
       "      <th>9</th>\n",
       "      <td>2020-07-31</td>\n",
       "      <td>beta neutral</td>\n",
       "      <td>0.783133</td>\n",
       "    </tr>\n",
       "    <tr>\n",
       "      <th>10</th>\n",
       "      <td>2021-01-31</td>\n",
       "      <td>beta neutral</td>\n",
       "      <td>0.972973</td>\n",
       "    </tr>\n",
       "    <tr>\n",
       "      <th>11</th>\n",
       "      <td>2021-07-31</td>\n",
       "      <td>beta neutral</td>\n",
       "      <td>0.844444</td>\n",
       "    </tr>\n",
       "    <tr>\n",
       "      <th>12</th>\n",
       "      <td>2022-01-31</td>\n",
       "      <td>beta neutral</td>\n",
       "      <td>0.904762</td>\n",
       "    </tr>\n",
       "    <tr>\n",
       "      <th>13</th>\n",
       "      <td>2022-07-31</td>\n",
       "      <td>beta neutral</td>\n",
       "      <td>0.734694</td>\n",
       "    </tr>\n",
       "  </tbody>\n",
       "</table>\n",
       "</div>"
      ],
      "text/plain": [
       "          date      variable  accuracy\n",
       "0   2019-07-31        normal  1.000000\n",
       "1   2020-01-31        normal  0.840000\n",
       "2   2020-07-31        normal  0.843373\n",
       "3   2021-01-31        normal  0.918919\n",
       "4   2021-07-31        normal  0.866667\n",
       "5   2022-01-31        normal  0.904762\n",
       "6   2022-07-31        normal  0.755102\n",
       "7   2019-07-31  beta neutral  1.000000\n",
       "8   2020-01-31  beta neutral  0.820000\n",
       "9   2020-07-31  beta neutral  0.783133\n",
       "10  2021-01-31  beta neutral  0.972973\n",
       "11  2021-07-31  beta neutral  0.844444\n",
       "12  2022-01-31  beta neutral  0.904762\n",
       "13  2022-07-31  beta neutral  0.734694"
      ]
     },
     "execution_count": 580,
     "metadata": {},
     "output_type": "execute_result"
    }
   ],
   "source": [
    "halfyear_accuracy"
   ]
  },
  {
   "cell_type": "code",
   "execution_count": 581,
   "id": "9589a3b7",
   "metadata": {
    "ExecuteTime": {
     "end_time": "2022-08-09T12:32:04.326335Z",
     "start_time": "2022-08-09T12:32:04.293295Z"
    }
   },
   "outputs": [
    {
     "data": {
      "text/html": [
       "<div>\n",
       "<style scoped>\n",
       "    .dataframe tbody tr th:only-of-type {\n",
       "        vertical-align: middle;\n",
       "    }\n",
       "\n",
       "    .dataframe tbody tr th {\n",
       "        vertical-align: top;\n",
       "    }\n",
       "\n",
       "    .dataframe thead th {\n",
       "        text-align: right;\n",
       "    }\n",
       "</style>\n",
       "<table border=\"1\" class=\"dataframe\">\n",
       "  <thead>\n",
       "    <tr style=\"text-align: right;\">\n",
       "      <th></th>\n",
       "      <th>is_profit</th>\n",
       "      <th>is_profit_BN</th>\n",
       "    </tr>\n",
       "    <tr>\n",
       "      <th>date</th>\n",
       "      <th></th>\n",
       "      <th></th>\n",
       "    </tr>\n",
       "  </thead>\n",
       "  <tbody>\n",
       "    <tr>\n",
       "      <th>2019-07-31</th>\n",
       "      <td>4</td>\n",
       "      <td>4</td>\n",
       "    </tr>\n",
       "    <tr>\n",
       "      <th>2020-01-31</th>\n",
       "      <td>60</td>\n",
       "      <td>60</td>\n",
       "    </tr>\n",
       "    <tr>\n",
       "      <th>2020-07-31</th>\n",
       "      <td>68</td>\n",
       "      <td>68</td>\n",
       "    </tr>\n",
       "    <tr>\n",
       "      <th>2021-01-31</th>\n",
       "      <td>54</td>\n",
       "      <td>54</td>\n",
       "    </tr>\n",
       "    <tr>\n",
       "      <th>2021-07-31</th>\n",
       "      <td>37</td>\n",
       "      <td>37</td>\n",
       "    </tr>\n",
       "    <tr>\n",
       "      <th>2022-01-31</th>\n",
       "      <td>14</td>\n",
       "      <td>14</td>\n",
       "    </tr>\n",
       "    <tr>\n",
       "      <th>2022-07-31</th>\n",
       "      <td>43</td>\n",
       "      <td>43</td>\n",
       "    </tr>\n",
       "  </tbody>\n",
       "</table>\n",
       "</div>"
      ],
      "text/plain": [
       "            is_profit  is_profit_BN\n",
       "date                               \n",
       "2019-07-31          4             4\n",
       "2020-01-31         60            60\n",
       "2020-07-31         68            68\n",
       "2021-01-31         54            54\n",
       "2021-07-31         37            37\n",
       "2022-01-31         14            14\n",
       "2022-07-31         43            43"
      ]
     },
     "execution_count": 581,
     "metadata": {},
     "output_type": "execute_result"
    }
   ],
   "source": [
    "closed.set_index('date').resample('6M')[['is_profit', 'is_profit_BN']].count()"
   ]
  },
  {
   "cell_type": "code",
   "execution_count": 644,
   "id": "a2dff44d",
   "metadata": {
    "ExecuteTime": {
     "end_time": "2022-08-09T12:50:05.843107Z",
     "start_time": "2022-08-09T12:50:05.606135Z"
    },
    "hideCode": false,
    "hidePrompt": false
   },
   "outputs": [
    {
     "data": {
      "image/png": "[encoded data removed]",
      "text/plain": [
       "<Figure size 1080x576 with 1 Axes>"
      ]
     },
     "metadata": {},
     "output_type": "display_data"
    }
   ],
   "source": [
    "# Halfyear accuracy\n",
    "halfyear_accuracy = closed.set_index('date').resample('6M')[['is_profit', 'is_profit_BN']].mean().reset_index()\n",
    "halfyear_accuracy.columns = ['date', 'normal', 'beta neutral']\n",
    "halfyear_accuracy['date'] = halfyear_accuracy['date'].dt.date\n",
    "halfyear_accuracy = halfyear_accuracy.melt(id_vars='date', value_name='accuracy')\n",
    "\n",
    "sns.barplot(x='date', y='accuracy', hue='variable', data=halfyear_accuracy)\n",
    "plt.axhline(y=0.5, color='blue', linestyle='--')\n",
    "# plt.xticks(rotation=90)\n",
    "plt.legend(bbox_to_anchor=(1.05, 1), loc=2, borderaxespad=0.)\n",
    "\n",
    "plt.show()"
   ]
  },
  {
   "cell_type": "code",
   "execution_count": 647,
   "id": "5fa4ab08",
   "metadata": {
    "ExecuteTime": {
     "end_time": "2022-08-09T12:50:37.889287Z",
     "start_time": "2022-08-09T12:50:37.666111Z"
    },
    "hideCode": false,
    "hidePrompt": false
   },
   "outputs": [
    {
     "data": {
      "image/png": "[encoded data removed]",
      "text/plain": [
       "<Figure size 1080x576 with 1 Axes>"
      ]
     },
     "metadata": {},
     "output_type": "display_data"
    }
   ],
   "source": [
    "# Halfyear results\n",
    "halfyear_results = closed.set_index('date').resample('6M')[['result', 'result_beta_neutral']].mean().reset_index()\n",
    "halfyear_results.columns = ['date', 'normal', 'beta neutral']\n",
    "halfyear_results['date'] = halfyear_results.date.dt.date\n",
    "halfyear_results = halfyear_results.melt(id_vars='date', value_name='result')\n",
    "\n",
    "sns.barplot(x='date', y='result', hue='variable', data=halfyear_results)\n",
    "# plt.xticks(rotation=90)\n",
    "plt.legend(bbox_to_anchor=(1.05, 1), loc=2, borderaxespad=0.)\n",
    "\n",
    "plt.show()"
   ]
  },
  {
   "cell_type": "code",
   "execution_count": 648,
   "id": "e2a4c671",
   "metadata": {
    "ExecuteTime": {
     "end_time": "2022-08-09T12:51:17.501858Z",
     "start_time": "2022-08-09T12:51:17.477823Z"
    },
    "hideCode": false,
    "hidePrompt": false
   },
   "outputs": [],
   "source": [
    "closed_daily = closed.groupby('date').agg({'result':'mean', 'result_beta_neutral':'mean'})"
   ]
  },
  {
   "cell_type": "code",
   "execution_count": 649,
   "id": "7237a691",
   "metadata": {
    "ExecuteTime": {
     "end_time": "2022-08-09T12:51:22.086184Z",
     "start_time": "2022-08-09T12:51:21.713537Z"
    },
    "hideCode": false,
    "hidePrompt": false
   },
   "outputs": [
    {
     "data": {
      "image/png": "[encoded data removed]",
      "text/plain": [
       "<Figure size 1080x576 with 1 Axes>"
      ]
     },
     "metadata": {},
     "output_type": "display_data"
    }
   ],
   "source": [
    "sns.lineplot(x=closed_daily.index, y=closed_daily.result.cumsum(), label='result')\n",
    "# sns.lineplot(x=closed_daily.index, y=closed_daily.result_cash_neutral.cumsum(),color='red', label='cash neutral')\n",
    "sns.lineplot(x=closed_daily.index, y=closed_daily.result_beta_neutral.cumsum(),color='green', label='beta neutral')\n",
    "\n",
    "\n",
    "plt.xticks(rotation=45)\n",
    "plt.show()"
   ]
  },
  {
   "cell_type": "code",
   "execution_count": 651,
   "id": "9c9a7be1",
   "metadata": {
    "ExecuteTime": {
     "end_time": "2022-08-09T12:52:00.992616Z",
     "start_time": "2022-08-09T12:52:00.657278Z"
    }
   },
   "outputs": [
    {
     "data": {
      "text/plain": [
       "[]"
      ]
     },
     "execution_count": 651,
     "metadata": {},
     "output_type": "execute_result"
    },
    {
     "data": {
      "image/png": "[encoded data removed]",
      "text/plain": [
       "<Figure size 1080x576 with 1 Axes>"
      ]
     },
     "metadata": {},
     "output_type": "display_data"
    }
   ],
   "source": [
    "closed_setor = closed[['setor', 'result', 'result_beta_neutral']].melt(id_vars='setor')\n",
    "closed_setor = closed_setor.groupby(['setor', 'variable'], as_index=False).mean()\n",
    "\n",
    "plt.figure(figsize=(15,8))\n",
    "\n",
    "sns.barplot(x='setor', y='value', hue='variable', data=closed_setor, orient='v')\n",
    "# plt.grid(axis='x')\n",
    "plt.xticks(rotation=90)\n",
    "plt.xlabel(None)\n",
    "plt.plot()"
   ]
  },
  {
   "cell_type": "code",
   "execution_count": 593,
   "id": "d825f80b",
   "metadata": {
    "ExecuteTime": {
     "end_time": "2022-08-09T12:34:19.152853Z",
     "start_time": "2022-08-09T12:34:19.129826Z"
    },
    "hideCode": false,
    "hidePrompt": false
   },
   "outputs": [
    {
     "data": {
      "text/html": [
       "<div>\n",
       "<style scoped>\n",
       "    .dataframe tbody tr th:only-of-type {\n",
       "        vertical-align: middle;\n",
       "    }\n",
       "\n",
       "    .dataframe tbody tr th {\n",
       "        vertical-align: top;\n",
       "    }\n",
       "\n",
       "    .dataframe thead th {\n",
       "        text-align: right;\n",
       "    }\n",
       "</style>\n",
       "<table border=\"1\" class=\"dataframe\">\n",
       "  <thead>\n",
       "    <tr style=\"text-align: right;\">\n",
       "      <th>variable</th>\n",
       "      <th>result</th>\n",
       "      <th>result_beta_neutral</th>\n",
       "    </tr>\n",
       "    <tr>\n",
       "      <th>setor</th>\n",
       "      <th></th>\n",
       "      <th></th>\n",
       "    </tr>\n",
       "  </thead>\n",
       "  <tbody>\n",
       "    <tr>\n",
       "      <th>Alimentos e Bebidas</th>\n",
       "      <td>0.323798</td>\n",
       "      <td>0.574727</td>\n",
       "    </tr>\n",
       "    <tr>\n",
       "      <th>Aéreas</th>\n",
       "      <td>-0.108428</td>\n",
       "      <td>-0.169141</td>\n",
       "    </tr>\n",
       "    <tr>\n",
       "      <th>Bens Industriais</th>\n",
       "      <td>0.634099</td>\n",
       "      <td>0.386803</td>\n",
       "    </tr>\n",
       "    <tr>\n",
       "      <th>Construção Civil</th>\n",
       "      <td>0.001210</td>\n",
       "      <td>0.078479</td>\n",
       "    </tr>\n",
       "    <tr>\n",
       "      <th>Educação</th>\n",
       "      <td>-0.234223</td>\n",
       "      <td>-0.122463</td>\n",
       "    </tr>\n",
       "    <tr>\n",
       "      <th>Exploração de imóveis</th>\n",
       "      <td>0.102905</td>\n",
       "      <td>0.191336</td>\n",
       "    </tr>\n",
       "    <tr>\n",
       "      <th>Financeiro</th>\n",
       "      <td>-1.093231</td>\n",
       "      <td>1.065000</td>\n",
       "    </tr>\n",
       "    <tr>\n",
       "      <th>Mineração e Siderurgia</th>\n",
       "      <td>0.330549</td>\n",
       "      <td>1.021636</td>\n",
       "    </tr>\n",
       "    <tr>\n",
       "      <th>Papel e Celulose</th>\n",
       "      <td>0.137403</td>\n",
       "      <td>0.163326</td>\n",
       "    </tr>\n",
       "    <tr>\n",
       "      <th>Petroleo, gás e biocombustíveis</th>\n",
       "      <td>0.022016</td>\n",
       "      <td>-0.020606</td>\n",
       "    </tr>\n",
       "    <tr>\n",
       "      <th>Saúde</th>\n",
       "      <td>0.903853</td>\n",
       "      <td>-0.115031</td>\n",
       "    </tr>\n",
       "    <tr>\n",
       "      <th>Telecomunicações</th>\n",
       "      <td>0.099491</td>\n",
       "      <td>0.109703</td>\n",
       "    </tr>\n",
       "    <tr>\n",
       "      <th>Utilidade Pública</th>\n",
       "      <td>2.404199</td>\n",
       "      <td>3.597113</td>\n",
       "    </tr>\n",
       "    <tr>\n",
       "      <th>Varejo</th>\n",
       "      <td>-0.617423</td>\n",
       "      <td>-0.471882</td>\n",
       "    </tr>\n",
       "  </tbody>\n",
       "</table>\n",
       "</div>"
      ],
      "text/plain": [
       "variable                           result  result_beta_neutral\n",
       "setor                                                         \n",
       "Alimentos e Bebidas              0.323798             0.574727\n",
       "Aéreas                          -0.108428            -0.169141\n",
       "Bens Industriais                 0.634099             0.386803\n",
       "Construção Civil                 0.001210             0.078479\n",
       "Educação                        -0.234223            -0.122463\n",
       "Exploração de imóveis            0.102905             0.191336\n",
       "Financeiro                      -1.093231             1.065000\n",
       "Mineração e Siderurgia           0.330549             1.021636\n",
       "Papel e Celulose                 0.137403             0.163326\n",
       "Petroleo, gás e biocombustíveis  0.022016            -0.020606\n",
       "Saúde                            0.903853            -0.115031\n",
       "Telecomunicações                 0.099491             0.109703\n",
       "Utilidade Pública                2.404199             3.597113\n",
       "Varejo                          -0.617423            -0.471882"
      ]
     },
     "execution_count": 593,
     "metadata": {},
     "output_type": "execute_result"
    }
   ],
   "source": [
    "closed_setor.pivot(index='setor', columns='variable', values='value')"
   ]
  },
  {
   "cell_type": "code",
   "execution_count": 652,
   "id": "d5a8c7c4",
   "metadata": {
    "ExecuteTime": {
     "end_time": "2022-08-09T12:54:42.986920Z",
     "start_time": "2022-08-09T12:54:42.613830Z"
    }
   },
   "outputs": [
    {
     "data": {
      "text/plain": [
       "[]"
      ]
     },
     "execution_count": 652,
     "metadata": {},
     "output_type": "execute_result"
    },
    {
     "data": {
      "image/png": "[encoded data removed]",
      "text/plain": [
       "<Figure size 1080x576 with 1 Axes>"
      ]
     },
     "metadata": {},
     "output_type": "display_data"
    }
   ],
   "source": [
    "closed_setor_accuracy = closed[['setor', 'is_profit', 'is_profit_BN']].melt(id_vars='setor', value_name='accuracy')\n",
    "closed_setor_accuracy = closed_setor_accuracy.groupby(['setor', 'variable'], as_index=False).mean()\n",
    "sns.barplot(x='setor', y='accuracy', hue='variable', data=closed_setor_accuracy, orient='v', )\n",
    "plt.axhline(y=0.5, linestyle='--')\n",
    "plt.xlabel(None)\n",
    "plt.xticks(rotation=90)\n",
    "# plt.grid(axis='x')\n",
    "plt.plot()"
   ]
  },
  {
   "cell_type": "code",
   "execution_count": 596,
   "id": "6fb4721f",
   "metadata": {
    "ExecuteTime": {
     "end_time": "2022-08-09T12:34:37.271310Z",
     "start_time": "2022-08-09T12:34:37.257367Z"
    }
   },
   "outputs": [
    {
     "data": {
      "text/html": [
       "<div>\n",
       "<style scoped>\n",
       "    .dataframe tbody tr th:only-of-type {\n",
       "        vertical-align: middle;\n",
       "    }\n",
       "\n",
       "    .dataframe tbody tr th {\n",
       "        vertical-align: top;\n",
       "    }\n",
       "\n",
       "    .dataframe thead th {\n",
       "        text-align: right;\n",
       "    }\n",
       "</style>\n",
       "<table border=\"1\" class=\"dataframe\">\n",
       "  <thead>\n",
       "    <tr style=\"text-align: right;\">\n",
       "      <th>variable</th>\n",
       "      <th>is_profit</th>\n",
       "      <th>is_profit_BN</th>\n",
       "    </tr>\n",
       "    <tr>\n",
       "      <th>setor</th>\n",
       "      <th></th>\n",
       "      <th></th>\n",
       "    </tr>\n",
       "  </thead>\n",
       "  <tbody>\n",
       "    <tr>\n",
       "      <th>Alimentos e Bebidas</th>\n",
       "      <td>0.800000</td>\n",
       "      <td>0.800000</td>\n",
       "    </tr>\n",
       "    <tr>\n",
       "      <th>Aéreas</th>\n",
       "      <td>0.666667</td>\n",
       "      <td>0.333333</td>\n",
       "    </tr>\n",
       "    <tr>\n",
       "      <th>Bens Industriais</th>\n",
       "      <td>0.750000</td>\n",
       "      <td>0.750000</td>\n",
       "    </tr>\n",
       "    <tr>\n",
       "      <th>Construção Civil</th>\n",
       "      <td>0.333333</td>\n",
       "      <td>1.000000</td>\n",
       "    </tr>\n",
       "    <tr>\n",
       "      <th>Educação</th>\n",
       "      <td>0.000000</td>\n",
       "      <td>0.000000</td>\n",
       "    </tr>\n",
       "    <tr>\n",
       "      <th>Exploração de imóveis</th>\n",
       "      <td>0.857143</td>\n",
       "      <td>0.857143</td>\n",
       "    </tr>\n",
       "    <tr>\n",
       "      <th>Financeiro</th>\n",
       "      <td>0.641304</td>\n",
       "      <td>0.586957</td>\n",
       "    </tr>\n",
       "    <tr>\n",
       "      <th>Mineração e Siderurgia</th>\n",
       "      <td>0.678571</td>\n",
       "      <td>0.607143</td>\n",
       "    </tr>\n",
       "    <tr>\n",
       "      <th>Papel e Celulose</th>\n",
       "      <td>0.800000</td>\n",
       "      <td>0.800000</td>\n",
       "    </tr>\n",
       "    <tr>\n",
       "      <th>Petroleo, gás e biocombustíveis</th>\n",
       "      <td>0.600000</td>\n",
       "      <td>0.666667</td>\n",
       "    </tr>\n",
       "    <tr>\n",
       "      <th>Saúde</th>\n",
       "      <td>0.760000</td>\n",
       "      <td>0.600000</td>\n",
       "    </tr>\n",
       "    <tr>\n",
       "      <th>Telecomunicações</th>\n",
       "      <td>1.000000</td>\n",
       "      <td>1.000000</td>\n",
       "    </tr>\n",
       "    <tr>\n",
       "      <th>Utilidade Pública</th>\n",
       "      <td>0.828125</td>\n",
       "      <td>0.796875</td>\n",
       "    </tr>\n",
       "    <tr>\n",
       "      <th>Varejo</th>\n",
       "      <td>0.523810</td>\n",
       "      <td>0.476190</td>\n",
       "    </tr>\n",
       "  </tbody>\n",
       "</table>\n",
       "</div>"
      ],
      "text/plain": [
       "variable                         is_profit  is_profit_BN\n",
       "setor                                                   \n",
       "Alimentos e Bebidas               0.800000      0.800000\n",
       "Aéreas                            0.666667      0.333333\n",
       "Bens Industriais                  0.750000      0.750000\n",
       "Construção Civil                  0.333333      1.000000\n",
       "Educação                          0.000000      0.000000\n",
       "Exploração de imóveis             0.857143      0.857143\n",
       "Financeiro                        0.641304      0.586957\n",
       "Mineração e Siderurgia            0.678571      0.607143\n",
       "Papel e Celulose                  0.800000      0.800000\n",
       "Petroleo, gás e biocombustíveis   0.600000      0.666667\n",
       "Saúde                             0.760000      0.600000\n",
       "Telecomunicações                  1.000000      1.000000\n",
       "Utilidade Pública                 0.828125      0.796875\n",
       "Varejo                            0.523810      0.476190"
      ]
     },
     "execution_count": 596,
     "metadata": {},
     "output_type": "execute_result"
    }
   ],
   "source": [
    "closed_setor_accuracy.pivot(index='setor', columns='variable', values='accuracy')"
   ]
  },
  {
   "cell_type": "code",
   "execution_count": 597,
   "id": "60c2d941",
   "metadata": {
    "ExecuteTime": {
     "end_time": "2022-08-09T12:34:50.717524Z",
     "start_time": "2022-08-09T12:34:50.670264Z"
    },
    "hideCode": false,
    "hidePrompt": false
   },
   "outputs": [
    {
     "data": {
      "text/html": [
       "<div>\n",
       "<style scoped>\n",
       "    .dataframe tbody tr th:only-of-type {\n",
       "        vertical-align: middle;\n",
       "    }\n",
       "\n",
       "    .dataframe tbody tr th {\n",
       "        vertical-align: top;\n",
       "    }\n",
       "\n",
       "    .dataframe thead th {\n",
       "        text-align: right;\n",
       "    }\n",
       "</style>\n",
       "<table border=\"1\" class=\"dataframe\">\n",
       "  <thead>\n",
       "    <tr style=\"text-align: right;\">\n",
       "      <th></th>\n",
       "      <th>result_sum</th>\n",
       "      <th>result_mean</th>\n",
       "      <th>count</th>\n",
       "      <th>accuracy</th>\n",
       "      <th>sector</th>\n",
       "    </tr>\n",
       "    <tr>\n",
       "      <th>sorted_pair</th>\n",
       "      <th></th>\n",
       "      <th></th>\n",
       "      <th></th>\n",
       "      <th></th>\n",
       "      <th></th>\n",
       "    </tr>\n",
       "  </thead>\n",
       "  <tbody>\n",
       "    <tr>\n",
       "      <th>(SBSP3, TAEE11)</th>\n",
       "      <td>0.045077</td>\n",
       "      <td>0.045077</td>\n",
       "      <td>7</td>\n",
       "      <td>1.000000</td>\n",
       "      <td>Utilidade Pública</td>\n",
       "    </tr>\n",
       "    <tr>\n",
       "      <th>(EQTL3, TAEE11)</th>\n",
       "      <td>0.086219</td>\n",
       "      <td>0.086219</td>\n",
       "      <td>6</td>\n",
       "      <td>1.000000</td>\n",
       "      <td>Utilidade Pública</td>\n",
       "    </tr>\n",
       "    <tr>\n",
       "      <th>(FLRY3, QUAL3)</th>\n",
       "      <td>0.135351</td>\n",
       "      <td>0.135351</td>\n",
       "      <td>6</td>\n",
       "      <td>1.000000</td>\n",
       "      <td>Saúde</td>\n",
       "    </tr>\n",
       "    <tr>\n",
       "      <th>(CCRO3, RAIL3)</th>\n",
       "      <td>0.119715</td>\n",
       "      <td>0.119715</td>\n",
       "      <td>4</td>\n",
       "      <td>1.000000</td>\n",
       "      <td>Bens Industriais</td>\n",
       "    </tr>\n",
       "    <tr>\n",
       "      <th>(HYPE3, RADL3)</th>\n",
       "      <td>0.102030</td>\n",
       "      <td>0.102030</td>\n",
       "      <td>4</td>\n",
       "      <td>1.000000</td>\n",
       "      <td>Saúde</td>\n",
       "    </tr>\n",
       "    <tr>\n",
       "      <th>(BRML3, MULT3)</th>\n",
       "      <td>0.014701</td>\n",
       "      <td>0.014701</td>\n",
       "      <td>7</td>\n",
       "      <td>0.857143</td>\n",
       "      <td>Exploração de imóveis</td>\n",
       "    </tr>\n",
       "    <tr>\n",
       "      <th>(ELET3, ELET6)</th>\n",
       "      <td>0.027574</td>\n",
       "      <td>0.027574</td>\n",
       "      <td>7</td>\n",
       "      <td>0.857143</td>\n",
       "      <td>Utilidade Pública</td>\n",
       "    </tr>\n",
       "    <tr>\n",
       "      <th>(GGBR4, GOAU4)</th>\n",
       "      <td>0.012322</td>\n",
       "      <td>0.012322</td>\n",
       "      <td>7</td>\n",
       "      <td>0.857143</td>\n",
       "      <td>Mineração e Siderurgia</td>\n",
       "    </tr>\n",
       "    <tr>\n",
       "      <th>(BBDC3, BBDC4)</th>\n",
       "      <td>0.003222</td>\n",
       "      <td>0.003222</td>\n",
       "      <td>6</td>\n",
       "      <td>0.833333</td>\n",
       "      <td>Financeiro</td>\n",
       "    </tr>\n",
       "    <tr>\n",
       "      <th>(AMER3, MGLU3)</th>\n",
       "      <td>-0.010306</td>\n",
       "      <td>-0.010306</td>\n",
       "      <td>5</td>\n",
       "      <td>0.800000</td>\n",
       "      <td>Varejo</td>\n",
       "    </tr>\n",
       "    <tr>\n",
       "      <th>(BBDC3, SANB11)</th>\n",
       "      <td>0.013471</td>\n",
       "      <td>0.013471</td>\n",
       "      <td>5</td>\n",
       "      <td>0.800000</td>\n",
       "      <td>Financeiro</td>\n",
       "    </tr>\n",
       "    <tr>\n",
       "      <th>(BRAP4, GGBR4)</th>\n",
       "      <td>0.056323</td>\n",
       "      <td>0.056323</td>\n",
       "      <td>5</td>\n",
       "      <td>0.800000</td>\n",
       "      <td>Mineração e Siderurgia</td>\n",
       "    </tr>\n",
       "    <tr>\n",
       "      <th>(GOAU4, USIM5)</th>\n",
       "      <td>0.020328</td>\n",
       "      <td>0.020328</td>\n",
       "      <td>5</td>\n",
       "      <td>0.800000</td>\n",
       "      <td>Mineração e Siderurgia</td>\n",
       "    </tr>\n",
       "    <tr>\n",
       "      <th>(KLBN11, SUZB3)</th>\n",
       "      <td>0.027481</td>\n",
       "      <td>0.027481</td>\n",
       "      <td>5</td>\n",
       "      <td>0.800000</td>\n",
       "      <td>Papel e Celulose</td>\n",
       "    </tr>\n",
       "    <tr>\n",
       "      <th>(BBSE3, ITSA4)</th>\n",
       "      <td>0.012589</td>\n",
       "      <td>0.012589</td>\n",
       "      <td>4</td>\n",
       "      <td>0.750000</td>\n",
       "      <td>Financeiro</td>\n",
       "    </tr>\n",
       "    <tr>\n",
       "      <th>(CMIG4, ENBR3)</th>\n",
       "      <td>0.045498</td>\n",
       "      <td>0.045498</td>\n",
       "      <td>4</td>\n",
       "      <td>0.750000</td>\n",
       "      <td>Utilidade Pública</td>\n",
       "    </tr>\n",
       "    <tr>\n",
       "      <th>(ELET3, EQTL3)</th>\n",
       "      <td>0.040313</td>\n",
       "      <td>0.040313</td>\n",
       "      <td>4</td>\n",
       "      <td>0.750000</td>\n",
       "      <td>Utilidade Pública</td>\n",
       "    </tr>\n",
       "    <tr>\n",
       "      <th>(ENBR3, SBSP3)</th>\n",
       "      <td>0.016084</td>\n",
       "      <td>0.016084</td>\n",
       "      <td>4</td>\n",
       "      <td>0.750000</td>\n",
       "      <td>Utilidade Pública</td>\n",
       "    </tr>\n",
       "    <tr>\n",
       "      <th>(PETR3, PETR4)</th>\n",
       "      <td>0.011402</td>\n",
       "      <td>0.011402</td>\n",
       "      <td>12</td>\n",
       "      <td>0.666667</td>\n",
       "      <td>Petroleo, gás e biocombustíveis</td>\n",
       "    </tr>\n",
       "    <tr>\n",
       "      <th>(GGBR4, USIM5)</th>\n",
       "      <td>0.006212</td>\n",
       "      <td>0.006212</td>\n",
       "      <td>6</td>\n",
       "      <td>0.500000</td>\n",
       "      <td>Mineração e Siderurgia</td>\n",
       "    </tr>\n",
       "    <tr>\n",
       "      <th>(BBDC4, ITSA4)</th>\n",
       "      <td>-0.041828</td>\n",
       "      <td>-0.041828</td>\n",
       "      <td>4</td>\n",
       "      <td>0.250000</td>\n",
       "      <td>Financeiro</td>\n",
       "    </tr>\n",
       "  </tbody>\n",
       "</table>\n",
       "</div>"
      ],
      "text/plain": [
       "                 result_sum  result_mean  count  accuracy  \\\n",
       "sorted_pair                                                 \n",
       "(SBSP3, TAEE11)    0.045077     0.045077      7  1.000000   \n",
       "(EQTL3, TAEE11)    0.086219     0.086219      6  1.000000   \n",
       "(FLRY3, QUAL3)     0.135351     0.135351      6  1.000000   \n",
       "(CCRO3, RAIL3)     0.119715     0.119715      4  1.000000   \n",
       "(HYPE3, RADL3)     0.102030     0.102030      4  1.000000   \n",
       "(BRML3, MULT3)     0.014701     0.014701      7  0.857143   \n",
       "(ELET3, ELET6)     0.027574     0.027574      7  0.857143   \n",
       "(GGBR4, GOAU4)     0.012322     0.012322      7  0.857143   \n",
       "(BBDC3, BBDC4)     0.003222     0.003222      6  0.833333   \n",
       "(AMER3, MGLU3)    -0.010306    -0.010306      5  0.800000   \n",
       "(BBDC3, SANB11)    0.013471     0.013471      5  0.800000   \n",
       "(BRAP4, GGBR4)     0.056323     0.056323      5  0.800000   \n",
       "(GOAU4, USIM5)     0.020328     0.020328      5  0.800000   \n",
       "(KLBN11, SUZB3)    0.027481     0.027481      5  0.800000   \n",
       "(BBSE3, ITSA4)     0.012589     0.012589      4  0.750000   \n",
       "(CMIG4, ENBR3)     0.045498     0.045498      4  0.750000   \n",
       "(ELET3, EQTL3)     0.040313     0.040313      4  0.750000   \n",
       "(ENBR3, SBSP3)     0.016084     0.016084      4  0.750000   \n",
       "(PETR3, PETR4)     0.011402     0.011402     12  0.666667   \n",
       "(GGBR4, USIM5)     0.006212     0.006212      6  0.500000   \n",
       "(BBDC4, ITSA4)    -0.041828    -0.041828      4  0.250000   \n",
       "\n",
       "                                          sector  \n",
       "sorted_pair                                       \n",
       "(SBSP3, TAEE11)                Utilidade Pública  \n",
       "(EQTL3, TAEE11)                Utilidade Pública  \n",
       "(FLRY3, QUAL3)                             Saúde  \n",
       "(CCRO3, RAIL3)                  Bens Industriais  \n",
       "(HYPE3, RADL3)                             Saúde  \n",
       "(BRML3, MULT3)             Exploração de imóveis  \n",
       "(ELET3, ELET6)                 Utilidade Pública  \n",
       "(GGBR4, GOAU4)            Mineração e Siderurgia  \n",
       "(BBDC3, BBDC4)                        Financeiro  \n",
       "(AMER3, MGLU3)                            Varejo  \n",
       "(BBDC3, SANB11)                       Financeiro  \n",
       "(BRAP4, GGBR4)            Mineração e Siderurgia  \n",
       "(GOAU4, USIM5)            Mineração e Siderurgia  \n",
       "(KLBN11, SUZB3)                 Papel e Celulose  \n",
       "(BBSE3, ITSA4)                        Financeiro  \n",
       "(CMIG4, ENBR3)                 Utilidade Pública  \n",
       "(ELET3, EQTL3)                 Utilidade Pública  \n",
       "(ENBR3, SBSP3)                 Utilidade Pública  \n",
       "(PETR3, PETR4)   Petroleo, gás e biocombustíveis  \n",
       "(GGBR4, USIM5)            Mineração e Siderurgia  \n",
       "(BBDC4, ITSA4)                        Financeiro  "
      ]
     },
     "execution_count": 597,
     "metadata": {},
     "output_type": "execute_result"
    }
   ],
   "source": [
    "pair_closed = closed.groupby('sorted_pair').agg(\n",
    "    result_sum=('result', 'mean'),\n",
    "    result_mean=('result', 'mean'),\n",
    "    count=('result', 'count'),\n",
    "    accuracy=('is_profit', 'mean'),\n",
    "    sector=('setor', 'last')\n",
    "    )\n",
    "\n",
    "pair_closed.loc[pair_closed['count']>3].sort_values(by=['accuracy', 'count'], ascending=False).tail(25)"
   ]
  },
  {
   "cell_type": "code",
   "execution_count": 598,
   "id": "4ad646ba",
   "metadata": {
    "ExecuteTime": {
     "end_time": "2022-08-09T12:34:52.683219Z",
     "start_time": "2022-08-09T12:34:52.679213Z"
    },
    "hideCode": false,
    "hidePrompt": false
   },
   "outputs": [],
   "source": [
    "# pair_closed.to_excel('pares_parcial.xlsx')"
   ]
  },
  {
   "cell_type": "code",
   "execution_count": 653,
   "id": "28a3cb29",
   "metadata": {
    "ExecuteTime": {
     "end_time": "2022-08-09T12:54:56.671149Z",
     "start_time": "2022-08-09T12:54:56.337637Z"
    },
    "hideCode": false,
    "hidePrompt": false
   },
   "outputs": [
    {
     "data": {
      "text/plain": [
       "<matplotlib.axes._subplots.AxesSubplot at 0x1c50b11d9a0>"
      ]
     },
     "execution_count": 653,
     "metadata": {},
     "output_type": "execute_result"
    },
    {
     "data": {
      "image/png": "[encoded data removed]",
      "text/plain": [
       "<Figure size 1080x576 with 1 Axes>"
      ]
     },
     "metadata": {},
     "output_type": "display_data"
    }
   ],
   "source": [
    "closed_daily.result.cumsum().plot()"
   ]
  },
  {
   "cell_type": "code",
   "execution_count": 600,
   "id": "45409436",
   "metadata": {
    "ExecuteTime": {
     "end_time": "2022-08-09T12:34:59.048580Z",
     "start_time": "2022-08-09T12:34:59.030615Z"
    }
   },
   "outputs": [
    {
     "data": {
      "text/plain": [
       "Index(['date', 'pair', 'status', 'price_fst_stock', 'price_scnd_stock',\n",
       "       'beta_open', 'beta_close', 'last_residual', 'std_residual',\n",
       "       'std_open_residual', 'residual_open', 'open_price_first_stock',\n",
       "       'open_price_scnd_stock', 'open_date', 'close_limit', 'stop_limit',\n",
       "       'halflife', 'days_open', 'data_ini', 'data_fin', 'setor', 'sorted_pair',\n",
       "       'result', 'result_beta_neutral', 'is_profit', 'is_profit_BN'],\n",
       "      dtype='object')"
      ]
     },
     "execution_count": 600,
     "metadata": {},
     "output_type": "execute_result"
    }
   ],
   "source": [
    "closed.columns"
   ]
  },
  {
   "cell_type": "code",
   "execution_count": 601,
   "id": "e528e810",
   "metadata": {
    "ExecuteTime": {
     "end_time": "2022-08-09T12:34:59.834745Z",
     "start_time": "2022-08-09T12:34:59.821089Z"
    }
   },
   "outputs": [
    {
     "data": {
      "text/html": [
       "<div>\n",
       "<style scoped>\n",
       "    .dataframe tbody tr th:only-of-type {\n",
       "        vertical-align: middle;\n",
       "    }\n",
       "\n",
       "    .dataframe tbody tr th {\n",
       "        vertical-align: top;\n",
       "    }\n",
       "\n",
       "    .dataframe thead th {\n",
       "        text-align: right;\n",
       "    }\n",
       "</style>\n",
       "<table border=\"1\" class=\"dataframe\">\n",
       "  <thead>\n",
       "    <tr style=\"text-align: right;\">\n",
       "      <th></th>\n",
       "      <th>price_fst_stock</th>\n",
       "      <th>price_scnd_stock</th>\n",
       "      <th>open_price_first_stock</th>\n",
       "      <th>open_price_scnd_stock</th>\n",
       "      <th>result</th>\n",
       "    </tr>\n",
       "  </thead>\n",
       "  <tbody>\n",
       "    <tr>\n",
       "      <th>7</th>\n",
       "      <td>49.36</td>\n",
       "      <td>38.30</td>\n",
       "      <td>44.16</td>\n",
       "      <td>35.57</td>\n",
       "      <td>0.037374</td>\n",
       "    </tr>\n",
       "    <tr>\n",
       "      <th>106</th>\n",
       "      <td>57.80</td>\n",
       "      <td>36.92</td>\n",
       "      <td>53.12</td>\n",
       "      <td>39.64</td>\n",
       "      <td>-0.155521</td>\n",
       "    </tr>\n",
       "    <tr>\n",
       "      <th>190</th>\n",
       "      <td>38.14</td>\n",
       "      <td>25.71</td>\n",
       "      <td>38.16</td>\n",
       "      <td>23.78</td>\n",
       "      <td>0.078559</td>\n",
       "    </tr>\n",
       "    <tr>\n",
       "      <th>214</th>\n",
       "      <td>16.79</td>\n",
       "      <td>24.16</td>\n",
       "      <td>17.17</td>\n",
       "      <td>22.95</td>\n",
       "      <td>0.073761</td>\n",
       "    </tr>\n",
       "    <tr>\n",
       "      <th>258</th>\n",
       "      <td>26.84</td>\n",
       "      <td>17.10</td>\n",
       "      <td>22.97</td>\n",
       "      <td>12.49</td>\n",
       "      <td>-0.158446</td>\n",
       "    </tr>\n",
       "    <tr>\n",
       "      <th>...</th>\n",
       "      <td>...</td>\n",
       "      <td>...</td>\n",
       "      <td>...</td>\n",
       "      <td>...</td>\n",
       "      <td>...</td>\n",
       "    </tr>\n",
       "    <tr>\n",
       "      <th>12473</th>\n",
       "      <td>25.07</td>\n",
       "      <td>2.91</td>\n",
       "      <td>28.02</td>\n",
       "      <td>3.13</td>\n",
       "      <td>0.038367</td>\n",
       "    </tr>\n",
       "    <tr>\n",
       "      <th>12511</th>\n",
       "      <td>9.93</td>\n",
       "      <td>19.14</td>\n",
       "      <td>11.79</td>\n",
       "      <td>20.94</td>\n",
       "      <td>-0.081810</td>\n",
       "    </tr>\n",
       "    <tr>\n",
       "      <th>12531</th>\n",
       "      <td>2.86</td>\n",
       "      <td>12.47</td>\n",
       "      <td>4.26</td>\n",
       "      <td>17.05</td>\n",
       "      <td>-0.085623</td>\n",
       "    </tr>\n",
       "    <tr>\n",
       "      <th>12573</th>\n",
       "      <td>3.04</td>\n",
       "      <td>24.31</td>\n",
       "      <td>4.26</td>\n",
       "      <td>29.21</td>\n",
       "      <td>-0.153788</td>\n",
       "    </tr>\n",
       "    <tr>\n",
       "      <th>12580</th>\n",
       "      <td>2.83</td>\n",
       "      <td>23.93</td>\n",
       "      <td>3.19</td>\n",
       "      <td>27.86</td>\n",
       "      <td>0.032315</td>\n",
       "    </tr>\n",
       "  </tbody>\n",
       "</table>\n",
       "<p>280 rows × 5 columns</p>\n",
       "</div>"
      ],
      "text/plain": [
       "       price_fst_stock  price_scnd_stock  open_price_first_stock  \\\n",
       "7                49.36             38.30                   44.16   \n",
       "106              57.80             36.92                   53.12   \n",
       "190              38.14             25.71                   38.16   \n",
       "214              16.79             24.16                   17.17   \n",
       "258              26.84             17.10                   22.97   \n",
       "...                ...               ...                     ...   \n",
       "12473            25.07              2.91                   28.02   \n",
       "12511             9.93             19.14                   11.79   \n",
       "12531             2.86             12.47                    4.26   \n",
       "12573             3.04             24.31                    4.26   \n",
       "12580             2.83             23.93                    3.19   \n",
       "\n",
       "       open_price_scnd_stock    result  \n",
       "7                      35.57  0.037374  \n",
       "106                    39.64 -0.155521  \n",
       "190                    23.78  0.078559  \n",
       "214                    22.95  0.073761  \n",
       "258                    12.49 -0.158446  \n",
       "...                      ...       ...  \n",
       "12473                   3.13  0.038367  \n",
       "12511                  20.94 -0.081810  \n",
       "12531                  17.05 -0.085623  \n",
       "12573                  29.21 -0.153788  \n",
       "12580                  27.86  0.032315  \n",
       "\n",
       "[280 rows x 5 columns]"
      ]
     },
     "execution_count": 601,
     "metadata": {},
     "output_type": "execute_result"
    }
   ],
   "source": [
    "closed[['price_fst_stock','price_scnd_stock', 'open_price_first_stock', 'open_price_scnd_stock','result']]"
   ]
  },
  {
   "cell_type": "code",
   "execution_count": 602,
   "id": "a57a912f",
   "metadata": {
    "ExecuteTime": {
     "end_time": "2022-08-09T12:35:01.392991Z",
     "start_time": "2022-08-09T12:35:01.380991Z"
    }
   },
   "outputs": [
    {
     "data": {
      "text/plain": [
       "sum        2.906219\n",
       "count    280.000000\n",
       "dtype: float64"
      ]
     },
     "execution_count": 602,
     "metadata": {},
     "output_type": "execute_result"
    }
   ],
   "source": [
    "closed.groupby('sorted_pair').result.agg(['sum', 'count']).sort_values(by='sum', ascending=False).sum()"
   ]
  },
  {
   "cell_type": "code",
   "execution_count": 638,
   "id": "a7f4ef99",
   "metadata": {
    "ExecuteTime": {
     "end_time": "2022-08-09T12:47:46.694231Z",
     "start_time": "2022-08-09T12:47:46.305849Z"
    }
   },
   "outputs": [
    {
     "data": {
      "text/plain": [
       "<matplotlib.axes._subplots.AxesSubplot at 0x1c5062f2cd0>"
      ]
     },
     "execution_count": 638,
     "metadata": {},
     "output_type": "execute_result"
    },
    {
     "data": {
      "image/png": "[encoded data removed]",
      "text/plain": [
       "<Figure size 1080x576 with 1 Axes>"
      ]
     },
     "metadata": {},
     "output_type": "display_data"
    }
   ],
   "source": [
    "df.groupby('date').result.mean().plot()"
   ]
  },
  {
   "cell_type": "code",
   "execution_count": 637,
   "id": "8af08f63",
   "metadata": {
    "ExecuteTime": {
     "end_time": "2022-08-09T12:47:41.778627Z",
     "start_time": "2022-08-09T12:47:41.762602Z"
    }
   },
   "outputs": [
    {
     "data": {
      "text/plain": [
       "8.363897135984756"
      ]
     },
     "execution_count": 637,
     "metadata": {},
     "output_type": "execute_result"
    }
   ],
   "source": [
    "cumsum_result.iloc[-1]"
   ]
  },
  {
   "cell_type": "code",
   "execution_count": 635,
   "id": "84fbad95",
   "metadata": {
    "ExecuteTime": {
     "end_time": "2022-08-09T12:47:18.117195Z",
     "start_time": "2022-08-09T12:47:18.093195Z"
    }
   },
   "outputs": [],
   "source": [
    "# cumsum_ibov = np.cumsum(np.log(ibov/ibov.shift()))\n",
    "cumsum_result = np.cumsum(closed.groupby('date').result.mean())\n",
    "cumsum_result_BN = np.cumsum(closed.groupby('date').result_beta_neutral.mean())"
   ]
  },
  {
   "cell_type": "code",
   "execution_count": 636,
   "id": "cf8ede19",
   "metadata": {
    "ExecuteTime": {
     "end_time": "2022-08-09T12:47:18.930822Z",
     "start_time": "2022-08-09T12:47:18.603315Z"
    }
   },
   "outputs": [
    {
     "data": {
      "text/plain": [
       "<matplotlib.axes._subplots.AxesSubplot at 0x1c50b0d36d0>"
      ]
     },
     "execution_count": 636,
     "metadata": {},
     "output_type": "execute_result"
    },
    {
     "data": {
      "image/png": "[encoded data removed]",
      "text/plain": [
       "<Figure size 1080x576 with 1 Axes>"
      ]
     },
     "metadata": {},
     "output_type": "display_data"
    }
   ],
   "source": [
    "cumsum_result.plot()"
   ]
  },
  {
   "cell_type": "code",
   "execution_count": 629,
   "id": "3938daed",
   "metadata": {
    "ExecuteTime": {
     "end_time": "2022-08-09T12:46:41.777189Z",
     "start_time": "2022-08-09T12:46:41.745249Z"
    }
   },
   "outputs": [
    {
     "data": {
      "text/plain": [
       "75.85744628035002"
      ]
     },
     "execution_count": 629,
     "metadata": {},
     "output_type": "execute_result"
    }
   ],
   "source": [
    "vol = (df.groupby('date').result.mean().std()* math.sqrt(252) * 100)\n",
    "vol"
   ]
  },
  {
   "cell_type": "code",
   "execution_count": 630,
   "id": "f755bf25",
   "metadata": {
    "ExecuteTime": {
     "end_time": "2022-08-09T12:46:42.307433Z",
     "start_time": "2022-08-09T12:46:42.283394Z"
    }
   },
   "outputs": [
    {
     "data": {
      "text/plain": [
       "290.62185113333584"
      ]
     },
     "execution_count": 630,
     "metadata": {},
     "output_type": "execute_result"
    }
   ],
   "source": [
    "cumsum_result.iloc[-1]*100"
   ]
  },
  {
   "cell_type": "code",
   "execution_count": 631,
   "id": "59d91a8b",
   "metadata": {
    "ExecuteTime": {
     "end_time": "2022-08-09T12:46:43.694356Z",
     "start_time": "2022-08-09T12:46:43.678314Z"
    }
   },
   "outputs": [
    {
     "data": {
      "text/plain": [
       "2.1858832029012256"
      ]
     },
     "execution_count": 631,
     "metadata": {},
     "output_type": "execute_result"
    }
   ],
   "source": [
    "#sharpe\n",
    "(cumsum_result.iloc[-1]*100 )/ (closed.groupby('date').result.mean().std()* math.sqrt(252) * 100)"
   ]
  },
  {
   "cell_type": "code",
   "execution_count": 632,
   "id": "de855ac7",
   "metadata": {
    "ExecuteTime": {
     "end_time": "2022-08-09T12:46:48.206425Z",
     "start_time": "2022-08-09T12:46:48.190390Z"
    }
   },
   "outputs": [
    {
     "data": {
      "text/plain": [
       "132.95397061819514"
      ]
     },
     "execution_count": 632,
     "metadata": {},
     "output_type": "execute_result"
    }
   ],
   "source": [
    "closed.groupby('date').result.mean().std()* math.sqrt(252) * 100"
   ]
  },
  {
   "cell_type": "code",
   "execution_count": 633,
   "id": "f18cc710",
   "metadata": {
    "ExecuteTime": {
     "end_time": "2022-08-09T12:46:48.736715Z",
     "start_time": "2022-08-09T12:46:48.711979Z"
    }
   },
   "outputs": [
    {
     "data": {
      "text/plain": [
       "3.4733416526926937"
      ]
     },
     "execution_count": 633,
     "metadata": {},
     "output_type": "execute_result"
    }
   ],
   "source": [
    "(cumsum_result_BN.iloc[-1]*100 )/ (closed.groupby('date').result_beta_neutral.mean().std()* math.sqrt(252) * 100)"
   ]
  },
  {
   "cell_type": "code",
   "execution_count": 375,
   "id": "3f7261f7",
   "metadata": {
    "ExecuteTime": {
     "end_time": "2022-08-09T10:27:17.463601Z",
     "start_time": "2022-08-09T10:27:17.431595Z"
    }
   },
   "outputs": [
    {
     "ename": "NameError",
     "evalue": "name 'cumsum_ibov' is not defined",
     "output_type": "error",
     "traceback": [
      "\u001b[1;31m---------------------------------------------------------------------------\u001b[0m",
      "\u001b[1;31mNameError\u001b[0m                                 Traceback (most recent call last)",
      "\u001b[1;32m<ipython-input-375-07037e0bc43c>\u001b[0m in \u001b[0;36m<module>\u001b[1;34m\u001b[0m\n\u001b[1;32m----> 1\u001b[1;33m \u001b[0msns\u001b[0m\u001b[1;33m.\u001b[0m\u001b[0mlineplot\u001b[0m\u001b[1;33m(\u001b[0m\u001b[0mx\u001b[0m\u001b[1;33m=\u001b[0m\u001b[0mcumsum_ibov\u001b[0m\u001b[1;33m.\u001b[0m\u001b[0mindex\u001b[0m\u001b[1;33m,\u001b[0m \u001b[0my\u001b[0m\u001b[1;33m=\u001b[0m\u001b[0mcumsum_ibov\u001b[0m\u001b[1;33m.\u001b[0m\u001b[0mclose\u001b[0m\u001b[1;33m,\u001b[0m \u001b[0mlabel\u001b[0m\u001b[1;33m=\u001b[0m\u001b[1;34m'ibov'\u001b[0m\u001b[1;33m)\u001b[0m\u001b[1;33m\u001b[0m\u001b[1;33m\u001b[0m\u001b[0m\n\u001b[0m\u001b[0;32m      2\u001b[0m \u001b[0msns\u001b[0m\u001b[1;33m.\u001b[0m\u001b[0mlineplot\u001b[0m\u001b[1;33m(\u001b[0m\u001b[0mx\u001b[0m\u001b[1;33m=\u001b[0m\u001b[0mcumsum_result\u001b[0m\u001b[1;33m.\u001b[0m\u001b[0mindex\u001b[0m\u001b[1;33m,\u001b[0m \u001b[0my\u001b[0m\u001b[1;33m=\u001b[0m\u001b[0mcumsum_result\u001b[0m\u001b[1;33m,\u001b[0m \u001b[0mlabel\u001b[0m\u001b[1;33m=\u001b[0m\u001b[1;34m'cointegration'\u001b[0m\u001b[1;33m)\u001b[0m\u001b[1;33m\u001b[0m\u001b[1;33m\u001b[0m\u001b[0m\n\u001b[0;32m      3\u001b[0m \u001b[0msns\u001b[0m\u001b[1;33m.\u001b[0m\u001b[0mlineplot\u001b[0m\u001b[1;33m(\u001b[0m\u001b[0mx\u001b[0m\u001b[1;33m=\u001b[0m\u001b[0mcumsum_result_BN\u001b[0m\u001b[1;33m.\u001b[0m\u001b[0mindex\u001b[0m\u001b[1;33m,\u001b[0m \u001b[0my\u001b[0m\u001b[1;33m=\u001b[0m\u001b[0mcumsum_result_BN\u001b[0m\u001b[1;33m,\u001b[0m \u001b[0mlabel\u001b[0m\u001b[1;33m=\u001b[0m\u001b[1;34m'cointegration beta neutral'\u001b[0m\u001b[1;33m)\u001b[0m\u001b[1;33m\u001b[0m\u001b[1;33m\u001b[0m\u001b[0m\n",
      "\u001b[1;31mNameError\u001b[0m: name 'cumsum_ibov' is not defined"
     ]
    }
   ],
   "source": [
    "sns.lineplot(x=cumsum_ibov.index, y=cumsum_ibov.close, label='ibov')\n",
    "sns.lineplot(x=cumsum_result.index, y=cumsum_result, label='cointegration')\n",
    "sns.lineplot(x=cumsum_result_BN.index, y=cumsum_result_BN, label='cointegration beta neutral')\n"
   ]
  },
  {
   "cell_type": "code",
   "execution_count": null,
   "id": "67abb0e6",
   "metadata": {
    "ExecuteTime": {
     "end_time": "2022-08-09T01:40:23.335919Z",
     "start_time": "2022-08-09T01:40:21.556Z"
    }
   },
   "outputs": [],
   "source": [
    "ibov.loc['2020'].pct_change().std()[0]* math.sqrt(252) * 100"
   ]
  },
  {
   "cell_type": "code",
   "execution_count": null,
   "id": "584e70eb",
   "metadata": {},
   "outputs": [],
   "source": []
  }
 ],
 "metadata": {
  "hide_code_all_hidden": false,
  "kernelspec": {
   "display_name": "Python 3",
   "language": "python",
   "name": "python3"
  },
  "language_info": {
   "codemirror_mode": {
    "name": "ipython",
    "version": 3
   },
   "file_extension": ".py",
   "mimetype": "text/x-python",
   "name": "python",
   "nbconvert_exporter": "python",
   "pygments_lexer": "ipython3",
   "version": "3.8.4"
  },
  "vscode": {
   "interpreter": {
    "hash": "e337efa0dbf50a479327a09a7ca80daa2467993c275d2b4497525709bdc18a22"
   }
  }
 },
 "nbformat": 4,
 "nbformat_minor": 5
}
