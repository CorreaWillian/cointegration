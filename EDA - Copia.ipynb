{
 "cells": [
  {
   "cell_type": "code",
   "execution_count": 1382,
   "id": "33190753",
   "metadata": {
    "ExecuteTime": {
     "end_time": "2022-08-07T21:21:22.448116Z",
     "start_time": "2022-08-07T21:21:22.432118Z"
    },
    "hideCode": false,
    "hidePrompt": false
   },
   "outputs": [],
   "source": [
    "import pandas as pd\n",
    "import numpy as np\n",
    "import seaborn as sns\n",
    "# from backtest import executer\n",
    "import matplotlib.pyplot as plt\n",
    "import plotly.express as px\n",
    "import math\n",
    "import ast"
   ]
  },
  {
   "cell_type": "code",
   "execution_count": 1818,
   "id": "081095bb",
   "metadata": {
    "ExecuteTime": {
     "end_time": "2022-08-08T12:46:46.251636Z",
     "start_time": "2022-08-08T12:46:46.234672Z"
    }
   },
   "outputs": [],
   "source": [
    "sns.set(rc={'figure.figsize':(15,8)})"
   ]
  },
  {
   "cell_type": "code",
   "execution_count": 1644,
   "id": "903681cc",
   "metadata": {
    "ExecuteTime": {
     "end_time": "2022-08-08T11:15:29.353692Z",
     "start_time": "2022-08-08T11:15:29.211032Z"
    },
    "hideCode": false,
    "hidePrompt": false
   },
   "outputs": [],
   "source": [
    "portfolio = pd.read_excel('PORTFOLIO.xlsx')\n",
    "\n",
    "df = pd.read_csv('result_std1.csv')\n",
    "df['date'] = pd.to_datetime(df.date)\n",
    "\n",
    "df['stock1'] = [pair.split(\"'\")[1] for pair in df.pair]"
   ]
  },
  {
   "cell_type": "code",
   "execution_count": 1645,
   "id": "53536f05",
   "metadata": {
    "ExecuteTime": {
     "end_time": "2022-08-08T11:15:29.837121Z",
     "start_time": "2022-08-08T11:15:29.708485Z"
    },
    "hideCode": false,
    "hidePrompt": false
   },
   "outputs": [],
   "source": [
    "df = df.merge(portfolio.drop_duplicates('ticker'), left_on='stock1', right_on='ticker',how='left')\n",
    "df.drop(columns=['stock1', 'ticker'], inplace=True)\n",
    "df['pair'] = df.pair.apply(ast.literal_eval)\n",
    "df['sorted_pair'] = df.pair.apply(sorted).apply(tuple)"
   ]
  },
  {
   "cell_type": "code",
   "execution_count": 1646,
   "id": "3e746bf9",
   "metadata": {
    "ExecuteTime": {
     "end_time": "2022-08-08T11:15:30.210038Z",
     "start_time": "2022-08-08T11:15:30.181004Z"
    },
    "hideCode": false,
    "hidePrompt": false
   },
   "outputs": [],
   "source": [
    "df.drop_duplicates(subset=['date', 'sorted_pair'], keep='first',inplace=True)"
   ]
  },
  {
   "cell_type": "code",
   "execution_count": 1647,
   "id": "c983d677",
   "metadata": {
    "ExecuteTime": {
     "end_time": "2022-08-08T11:15:30.649302Z",
     "start_time": "2022-08-08T11:15:30.619310Z"
    },
    "hideCode": false,
    "hidePrompt": false
   },
   "outputs": [
    {
     "data": {
      "text/html": [
       "<div>\n",
       "<style scoped>\n",
       "    .dataframe tbody tr th:only-of-type {\n",
       "        vertical-align: middle;\n",
       "    }\n",
       "\n",
       "    .dataframe tbody tr th {\n",
       "        vertical-align: top;\n",
       "    }\n",
       "\n",
       "    .dataframe thead th {\n",
       "        text-align: right;\n",
       "    }\n",
       "</style>\n",
       "<table border=\"1\" class=\"dataframe\">\n",
       "  <thead>\n",
       "    <tr style=\"text-align: right;\">\n",
       "      <th></th>\n",
       "      <th>date</th>\n",
       "      <th>pair</th>\n",
       "      <th>status</th>\n",
       "      <th>price_fst_stock</th>\n",
       "      <th>price_scnd_stock</th>\n",
       "      <th>beta_open</th>\n",
       "      <th>beta_close</th>\n",
       "      <th>last_residual</th>\n",
       "      <th>std_residual</th>\n",
       "      <th>std_open_residual</th>\n",
       "      <th>...</th>\n",
       "      <th>open_price_scnd_stock</th>\n",
       "      <th>open_date</th>\n",
       "      <th>close_limit</th>\n",
       "      <th>stop_limit</th>\n",
       "      <th>halflife</th>\n",
       "      <th>days_open</th>\n",
       "      <th>data_ini</th>\n",
       "      <th>data_fin</th>\n",
       "      <th>setor</th>\n",
       "      <th>sorted_pair</th>\n",
       "    </tr>\n",
       "  </thead>\n",
       "  <tbody>\n",
       "  </tbody>\n",
       "</table>\n",
       "<p>0 rows × 22 columns</p>\n",
       "</div>"
      ],
      "text/plain": [
       "Empty DataFrame\n",
       "Columns: [date, pair, status, price_fst_stock, price_scnd_stock, beta_open, beta_close, last_residual, std_residual, std_open_residual, residual_open, open_price_first_stock, open_price_scnd_stock, open_date, close_limit, stop_limit, halflife, days_open, data_ini, data_fin, setor, sorted_pair]\n",
       "Index: []\n",
       "\n",
       "[0 rows x 22 columns]"
      ]
     },
     "execution_count": 1647,
     "metadata": {},
     "output_type": "execute_result"
    }
   ],
   "source": [
    "df.loc[(df.duplicated(subset=['date', 'sorted_pair'], keep='first'))].sort_values(by=['date', 'sorted_pair'])"
   ]
  },
  {
   "cell_type": "code",
   "execution_count": 1648,
   "id": "7a0ffbbf",
   "metadata": {
    "ExecuteTime": {
     "end_time": "2022-08-08T11:15:31.623878Z",
     "start_time": "2022-08-08T11:15:31.611894Z"
    },
    "hideCode": false,
    "hidePrompt": false
   },
   "outputs": [],
   "source": [
    "def result_calculator(row):\n",
    "    \n",
    "    \n",
    "    long_result = row['price_fst_stock'] - row['open_price_first_stock']\n",
    "    short_result = row['open_price_scnd_stock'] - row['price_scnd_stock']\n",
    "    \n",
    "#     long_result = row['open_price_first_stock'] - row['price_fst_stock']\n",
    "#     short_result = row['price_scnd_stock'] - row['open_price_scnd_stock']\n",
    "\n",
    "    result = long_result + short_result\n",
    "    \n",
    "    if row['residual_open'] > row['std_open_residual']:\n",
    "        result = - result\n",
    "\n",
    "    return result "
   ]
  },
  {
   "cell_type": "code",
   "execution_count": 1649,
   "id": "87f1aa68",
   "metadata": {
    "ExecuteTime": {
     "end_time": "2022-08-08T11:15:32.101955Z",
     "start_time": "2022-08-08T11:15:32.089961Z"
    },
    "hideCode": false,
    "hidePrompt": false
   },
   "outputs": [],
   "source": [
    "cond = (df.status.isin(['True', 'close']))"
   ]
  },
  {
   "cell_type": "code",
   "execution_count": 1650,
   "id": "7b544207",
   "metadata": {
    "ExecuteTime": {
     "end_time": "2022-08-08T11:15:32.757195Z",
     "start_time": "2022-08-08T11:15:32.508859Z"
    },
    "hideCode": false,
    "hidePrompt": false
   },
   "outputs": [],
   "source": [
    "df.loc[cond, 'result'] = df.loc[cond].apply(lambda row: result_calculator(row), axis=1)"
   ]
  },
  {
   "cell_type": "code",
   "execution_count": 1651,
   "id": "a36df035",
   "metadata": {
    "ExecuteTime": {
     "end_time": "2022-08-08T11:15:32.937864Z",
     "start_time": "2022-08-08T11:15:32.900870Z"
    },
    "hideCode": false,
    "hidePrompt": false
   },
   "outputs": [],
   "source": [
    "# Cash Neutral\n",
    "\n",
    "quant2 = df.loc[cond].open_price_first_stock / df.loc[cond].open_price_scnd_stock\n",
    "quant1 = 1\n",
    "\n",
    "long_result = df.loc[cond,'price_fst_stock'] - df.loc[cond,'open_price_first_stock']\n",
    "short_result = df.loc[cond,'open_price_scnd_stock'] - df.loc[cond,'price_scnd_stock']\n",
    "\n",
    "result = (quant1 * long_result) + (short_result * quant2)\n",
    "\n",
    "df.loc[cond,'cash'] = (quant1 * df.loc[cond, 'open_price_first_stock']) + (quant2 * df.loc[cond, 'open_price_scnd_stock'])\n",
    "\n",
    "df.loc[cond, 'result_cash_neutral'] = result\n",
    "df.loc[(cond) & (df.residual_open > df.std_open_residual), 'result_cash_neutral'] = - result\n"
   ]
  },
  {
   "cell_type": "code",
   "execution_count": 1652,
   "id": "2d346578",
   "metadata": {
    "ExecuteTime": {
     "end_time": "2022-08-08T11:15:33.315179Z",
     "start_time": "2022-08-08T11:15:33.293128Z"
    },
    "hideCode": false,
    "hidePrompt": false
   },
   "outputs": [],
   "source": [
    "# Beta Neutral\n",
    "\n",
    "quant2 = df.loc[cond].beta_open\n",
    "quant1 = 1\n",
    "\n",
    "result = (quant1) * (df.loc[cond, 'price_fst_stock'] - df.loc[cond, 'open_price_first_stock']) + (df.loc[cond, 'open_price_scnd_stock'] - df.loc[cond,'price_scnd_stock']) * (quant2)\n",
    "\n",
    "df.loc[cond,'cash'] = (quant1 * df.loc[cond, 'open_price_first_stock']) + (quant2 * df.loc[cond, 'open_price_scnd_stock'])\n",
    "\n",
    "df.loc[cond, 'result_beta_neutral'] = result\n",
    "df.loc[(cond) & (df.residual_open > df.std_open_residual), 'result_beta_neutral'] = - result"
   ]
  },
  {
   "cell_type": "code",
   "execution_count": 1654,
   "id": "82c41795",
   "metadata": {
    "ExecuteTime": {
     "end_time": "2022-08-08T11:15:40.509235Z",
     "start_time": "2022-08-08T11:15:40.494476Z"
    },
    "hideCode": false,
    "hidePrompt": false
   },
   "outputs": [],
   "source": [
    "closed = df.loc[df.status=='close'].copy()\n",
    "\n",
    "closed['is_profit'] = closed['result'] > 0\n",
    "closed['is_profit_CN'] = closed['result_cash_neutral'] > 0\n",
    "closed['is_profit_BN'] = closed['result_beta_neutral'] > 0\n"
   ]
  },
  {
   "cell_type": "code",
   "execution_count": 1717,
   "id": "ed0d9dde",
   "metadata": {
    "ExecuteTime": {
     "end_time": "2022-08-08T11:49:56.922099Z",
     "start_time": "2022-08-08T11:49:56.911098Z"
    },
    "hideCode": false,
    "hidePrompt": false
   },
   "outputs": [],
   "source": [
    "result = closed[['result', 'result_cash_neutral', 'result_beta_neutral']].sum()\n",
    "accuracy = closed[['is_profit', 'is_profit_CN', 'is_profit_BN']].mean()"
   ]
  },
  {
   "cell_type": "code",
   "execution_count": 1718,
   "id": "92ebb09f",
   "metadata": {
    "ExecuteTime": {
     "end_time": "2022-08-08T11:49:57.330429Z",
     "start_time": "2022-08-08T11:49:57.307426Z"
    },
    "hideCode": false,
    "hidePrompt": false
   },
   "outputs": [
    {
     "data": {
      "text/html": [
       "<div>\n",
       "<style scoped>\n",
       "    .dataframe tbody tr th:only-of-type {\n",
       "        vertical-align: middle;\n",
       "    }\n",
       "\n",
       "    .dataframe tbody tr th {\n",
       "        vertical-align: top;\n",
       "    }\n",
       "\n",
       "    .dataframe thead th {\n",
       "        text-align: right;\n",
       "    }\n",
       "</style>\n",
       "<table border=\"1\" class=\"dataframe\">\n",
       "  <thead>\n",
       "    <tr style=\"text-align: right;\">\n",
       "      <th></th>\n",
       "      <th>result</th>\n",
       "      <th>accuracy</th>\n",
       "    </tr>\n",
       "  </thead>\n",
       "  <tbody>\n",
       "    <tr>\n",
       "      <th>normal</th>\n",
       "      <td>131.940000</td>\n",
       "      <td>0.515826</td>\n",
       "    </tr>\n",
       "    <tr>\n",
       "      <th>cash_neutral</th>\n",
       "      <td>135.488846</td>\n",
       "      <td>0.511137</td>\n",
       "    </tr>\n",
       "    <tr>\n",
       "      <th>beta_neutral</th>\n",
       "      <td>128.220265</td>\n",
       "      <td>0.501758</td>\n",
       "    </tr>\n",
       "  </tbody>\n",
       "</table>\n",
       "</div>"
      ],
      "text/plain": [
       "                  result  accuracy\n",
       "normal        131.940000  0.515826\n",
       "cash_neutral  135.488846  0.511137\n",
       "beta_neutral  128.220265  0.501758"
      ]
     },
     "execution_count": 1718,
     "metadata": {},
     "output_type": "execute_result"
    }
   ],
   "source": [
    "result_table = {'result': result.values,\n",
    "                'accuracy': accuracy.values,                \n",
    "               }\n",
    "pd.DataFrame(result_table, index=['normal', 'cash_neutral', 'beta_neutral'])"
   ]
  },
  {
   "cell_type": "code",
   "execution_count": 1819,
   "id": "c016ea76",
   "metadata": {
    "ExecuteTime": {
     "end_time": "2022-08-08T12:46:49.431282Z",
     "start_time": "2022-08-08T12:46:49.084553Z"
    },
    "hideCode": false,
    "hidePrompt": false,
    "scrolled": false
   },
   "outputs": [
    {
     "data": {
      "image/png": "[encoded data removed]",
      "text/plain": [
       "<Figure size 1080x576 with 1 Axes>"
      ]
     },
     "metadata": {},
     "output_type": "display_data"
    }
   ],
   "source": [
    "sns.kdeplot(x=closed.result, color='blue', label='normal', bw_adjust=5, cut=0, fill=True)\n",
    "sns.kdeplot(x=closed.result_cash_neutral, color='red', label='cash neutral', bw_adjust=5, cut=0, fill=True)\n",
    "sns.kdeplot(x=closed.result_beta_neutral, color='green', label='beta neutral', bw_adjust=5, cut=0, fill=True)\n",
    "\n",
    "plt.axvline(x=0, linestyle='dotted')\n",
    "plt.legend()\n",
    "plt.show()"
   ]
  },
  {
   "cell_type": "code",
   "execution_count": 1728,
   "id": "192927b8",
   "metadata": {
    "ExecuteTime": {
     "end_time": "2022-08-08T11:56:25.423945Z",
     "start_time": "2022-08-08T11:56:25.395972Z"
    },
    "hideCode": false,
    "hidePrompt": false
   },
   "outputs": [
    {
     "data": {
      "text/html": [
       "<div>\n",
       "<style scoped>\n",
       "    .dataframe tbody tr th:only-of-type {\n",
       "        vertical-align: middle;\n",
       "    }\n",
       "\n",
       "    .dataframe tbody tr th {\n",
       "        vertical-align: top;\n",
       "    }\n",
       "\n",
       "    .dataframe thead th {\n",
       "        text-align: right;\n",
       "    }\n",
       "</style>\n",
       "<table border=\"1\" class=\"dataframe\">\n",
       "  <thead>\n",
       "    <tr style=\"text-align: right;\">\n",
       "      <th></th>\n",
       "      <th>sum</th>\n",
       "      <th>count</th>\n",
       "    </tr>\n",
       "  </thead>\n",
       "  <tbody>\n",
       "    <tr>\n",
       "      <th>result</th>\n",
       "      <td>76.890000</td>\n",
       "      <td>27.0</td>\n",
       "    </tr>\n",
       "    <tr>\n",
       "      <th>result_cash_neutral</th>\n",
       "      <td>59.558230</td>\n",
       "      <td>27.0</td>\n",
       "    </tr>\n",
       "    <tr>\n",
       "      <th>result_beta_neutral</th>\n",
       "      <td>80.075961</td>\n",
       "      <td>27.0</td>\n",
       "    </tr>\n",
       "  </tbody>\n",
       "</table>\n",
       "</div>"
      ],
      "text/plain": [
       "                           sum  count\n",
       "result               76.890000   27.0\n",
       "result_cash_neutral  59.558230   27.0\n",
       "result_beta_neutral  80.075961   27.0"
      ]
     },
     "execution_count": 1728,
     "metadata": {},
     "output_type": "execute_result"
    }
   ],
   "source": [
    "# Close by residual\n",
    "closed_by_residual = closed.loc[abs(df.last_residual) < df.close_limit,['result', 'result_cash_neutral', 'result_beta_neutral']].agg([sum, 'count']).T\n",
    "closed_by_residual"
   ]
  },
  {
   "cell_type": "code",
   "execution_count": 1729,
   "id": "14b9205e",
   "metadata": {
    "ExecuteTime": {
     "end_time": "2022-08-08T11:56:35.341411Z",
     "start_time": "2022-08-08T11:56:35.314385Z"
    },
    "hideCode": false,
    "hidePrompt": false
   },
   "outputs": [
    {
     "data": {
      "text/html": [
       "<div>\n",
       "<style scoped>\n",
       "    .dataframe tbody tr th:only-of-type {\n",
       "        vertical-align: middle;\n",
       "    }\n",
       "\n",
       "    .dataframe tbody tr th {\n",
       "        vertical-align: top;\n",
       "    }\n",
       "\n",
       "    .dataframe thead th {\n",
       "        text-align: right;\n",
       "    }\n",
       "</style>\n",
       "<table border=\"1\" class=\"dataframe\">\n",
       "  <thead>\n",
       "    <tr style=\"text-align: right;\">\n",
       "      <th></th>\n",
       "      <th>sum</th>\n",
       "      <th>count</th>\n",
       "    </tr>\n",
       "  </thead>\n",
       "  <tbody>\n",
       "    <tr>\n",
       "      <th>result</th>\n",
       "      <td>-221.340000</td>\n",
       "      <td>322.0</td>\n",
       "    </tr>\n",
       "    <tr>\n",
       "      <th>result_cash_neutral</th>\n",
       "      <td>-210.390263</td>\n",
       "      <td>322.0</td>\n",
       "    </tr>\n",
       "    <tr>\n",
       "      <th>result_beta_neutral</th>\n",
       "      <td>-305.667564</td>\n",
       "      <td>322.0</td>\n",
       "    </tr>\n",
       "  </tbody>\n",
       "</table>\n",
       "</div>"
      ],
      "text/plain": [
       "                            sum  count\n",
       "result              -221.340000  322.0\n",
       "result_cash_neutral -210.390263  322.0\n",
       "result_beta_neutral -305.667564  322.0"
      ]
     },
     "execution_count": 1729,
     "metadata": {},
     "output_type": "execute_result"
    }
   ],
   "source": [
    "# stop by stop\n",
    "closed_by_stop = closed.loc[abs(df.last_residual) > df.stop_limit,['result', 'result_cash_neutral', 'result_beta_neutral']].agg([sum, 'count']).T\n",
    "closed_by_stop"
   ]
  },
  {
   "cell_type": "code",
   "execution_count": 1730,
   "id": "5c76e5a5",
   "metadata": {
    "ExecuteTime": {
     "end_time": "2022-08-08T11:56:53.343237Z",
     "start_time": "2022-08-08T11:56:53.319504Z"
    },
    "hideCode": false,
    "hidePrompt": false
   },
   "outputs": [
    {
     "data": {
      "text/html": [
       "<div>\n",
       "<style scoped>\n",
       "    .dataframe tbody tr th:only-of-type {\n",
       "        vertical-align: middle;\n",
       "    }\n",
       "\n",
       "    .dataframe tbody tr th {\n",
       "        vertical-align: top;\n",
       "    }\n",
       "\n",
       "    .dataframe thead th {\n",
       "        text-align: right;\n",
       "    }\n",
       "</style>\n",
       "<table border=\"1\" class=\"dataframe\">\n",
       "  <thead>\n",
       "    <tr style=\"text-align: right;\">\n",
       "      <th></th>\n",
       "      <th>sum</th>\n",
       "      <th>count</th>\n",
       "    </tr>\n",
       "  </thead>\n",
       "  <tbody>\n",
       "    <tr>\n",
       "      <th>result</th>\n",
       "      <td>283.830000</td>\n",
       "      <td>521.0</td>\n",
       "    </tr>\n",
       "    <tr>\n",
       "      <th>result_cash_neutral</th>\n",
       "      <td>288.459338</td>\n",
       "      <td>521.0</td>\n",
       "    </tr>\n",
       "    <tr>\n",
       "      <th>result_beta_neutral</th>\n",
       "      <td>355.085527</td>\n",
       "      <td>521.0</td>\n",
       "    </tr>\n",
       "  </tbody>\n",
       "</table>\n",
       "</div>"
      ],
      "text/plain": [
       "                            sum  count\n",
       "result               283.830000  521.0\n",
       "result_cash_neutral  288.459338  521.0\n",
       "result_beta_neutral  355.085527  521.0"
      ]
     },
     "execution_count": 1730,
     "metadata": {},
     "output_type": "execute_result"
    }
   ],
   "source": [
    "# stop by halflife\n",
    "closed_by_halflife = closed.loc[closed.days_open > closed.halflife,['result', 'result_cash_neutral', 'result_beta_neutral']].agg([sum, 'count']).T\n",
    "closed_by_halflife"
   ]
  },
  {
   "cell_type": "code",
   "execution_count": 1661,
   "id": "fba200d1",
   "metadata": {
    "ExecuteTime": {
     "end_time": "2022-08-08T11:16:21.135913Z",
     "start_time": "2022-08-08T11:16:21.129331Z"
    },
    "hideCode": false,
    "hidePrompt": false
   },
   "outputs": [],
   "source": [
    "# closed = closed.loc[closed.halflife.between(0,21)]"
   ]
  },
  {
   "cell_type": "code",
   "execution_count": 1736,
   "id": "c8e6b921",
   "metadata": {
    "ExecuteTime": {
     "end_time": "2022-08-08T12:00:47.275034Z",
     "start_time": "2022-08-08T12:00:47.265041Z"
    },
    "hideCode": false,
    "hidePrompt": false
   },
   "outputs": [
    {
     "data": {
      "text/html": [
       "<div>\n",
       "<style scoped>\n",
       "    .dataframe tbody tr th:only-of-type {\n",
       "        vertical-align: middle;\n",
       "    }\n",
       "\n",
       "    .dataframe tbody tr th {\n",
       "        vertical-align: top;\n",
       "    }\n",
       "\n",
       "    .dataframe thead th {\n",
       "        text-align: right;\n",
       "    }\n",
       "</style>\n",
       "<table border=\"1\" class=\"dataframe\">\n",
       "  <thead>\n",
       "    <tr style=\"text-align: right;\">\n",
       "      <th></th>\n",
       "      <th>is_profit</th>\n",
       "      <th>is_profit_CN</th>\n",
       "      <th>is_profit_BN</th>\n",
       "    </tr>\n",
       "    <tr>\n",
       "      <th>date</th>\n",
       "      <th></th>\n",
       "      <th></th>\n",
       "      <th></th>\n",
       "    </tr>\n",
       "  </thead>\n",
       "  <tbody>\n",
       "    <tr>\n",
       "      <th>2019-07-31</th>\n",
       "      <td>0.500000</td>\n",
       "      <td>0.625000</td>\n",
       "      <td>0.687500</td>\n",
       "    </tr>\n",
       "    <tr>\n",
       "      <th>2020-01-31</th>\n",
       "      <td>0.540741</td>\n",
       "      <td>0.511111</td>\n",
       "      <td>0.548148</td>\n",
       "    </tr>\n",
       "    <tr>\n",
       "      <th>2020-07-31</th>\n",
       "      <td>0.521053</td>\n",
       "      <td>0.521053</td>\n",
       "      <td>0.447368</td>\n",
       "    </tr>\n",
       "    <tr>\n",
       "      <th>2021-01-31</th>\n",
       "      <td>0.504587</td>\n",
       "      <td>0.532110</td>\n",
       "      <td>0.559633</td>\n",
       "    </tr>\n",
       "    <tr>\n",
       "      <th>2021-07-31</th>\n",
       "      <td>0.428571</td>\n",
       "      <td>0.436090</td>\n",
       "      <td>0.466165</td>\n",
       "    </tr>\n",
       "    <tr>\n",
       "      <th>2022-01-31</th>\n",
       "      <td>0.568807</td>\n",
       "      <td>0.559633</td>\n",
       "      <td>0.477064</td>\n",
       "    </tr>\n",
       "    <tr>\n",
       "      <th>2022-07-31</th>\n",
       "      <td>0.534161</td>\n",
       "      <td>0.503106</td>\n",
       "      <td>0.515528</td>\n",
       "    </tr>\n",
       "  </tbody>\n",
       "</table>\n",
       "</div>"
      ],
      "text/plain": [
       "            is_profit  is_profit_CN  is_profit_BN\n",
       "date                                             \n",
       "2019-07-31   0.500000      0.625000      0.687500\n",
       "2020-01-31   0.540741      0.511111      0.548148\n",
       "2020-07-31   0.521053      0.521053      0.447368\n",
       "2021-01-31   0.504587      0.532110      0.559633\n",
       "2021-07-31   0.428571      0.436090      0.466165\n",
       "2022-01-31   0.568807      0.559633      0.477064\n",
       "2022-07-31   0.534161      0.503106      0.515528"
      ]
     },
     "execution_count": 1736,
     "metadata": {},
     "output_type": "execute_result"
    }
   ],
   "source": [
    "halfyear_accuracy"
   ]
  },
  {
   "cell_type": "code",
   "execution_count": 1820,
   "id": "8b7ff2e8",
   "metadata": {
    "ExecuteTime": {
     "end_time": "2022-08-08T12:47:03.744580Z",
     "start_time": "2022-08-08T12:47:03.456126Z"
    },
    "hideCode": false,
    "hidePrompt": false
   },
   "outputs": [
    {
     "data": {
      "image/png": "[encoded data removed]",
      "text/plain": [
       "<Figure size 1080x576 with 1 Axes>"
      ]
     },
     "metadata": {},
     "output_type": "display_data"
    }
   ],
   "source": [
    "# Halfyear accuracy\n",
    "halfyear_accuracy = closed.set_index('date').resample('6M')[['is_profit', 'is_profit_CN', 'is_profit_BN']].mean().reset_index()\n",
    "halfyear_accuracy.columns = ['date', 'normal', 'cash neutral', 'beta neutral']\n",
    "halfyear_accuracy['date'] = halfyear_accuracy['date'].dt.date\n",
    "halfyear_accuracy = halfyear_accuracy.melt(id_vars='date', value_name='accuracy')\n",
    "\n",
    "sns.barplot(x='date', y='accuracy', hue='variable', data=halfyear_accuracy)\n",
    "plt.xticks(rotation=90)\n",
    "plt.legend(bbox_to_anchor=(1.05, 1), loc=2, borderaxespad=0.)\n",
    "\n",
    "plt.show()"
   ]
  },
  {
   "cell_type": "code",
   "execution_count": 1821,
   "id": "a5a9ab33",
   "metadata": {
    "ExecuteTime": {
     "end_time": "2022-08-08T12:47:49.223191Z",
     "start_time": "2022-08-08T12:47:48.918710Z"
    },
    "hideCode": false,
    "hidePrompt": false
   },
   "outputs": [
    {
     "data": {
      "image/png": "[encoded data removed]",
      "text/plain": [
       "<Figure size 1080x576 with 1 Axes>"
      ]
     },
     "metadata": {},
     "output_type": "display_data"
    }
   ],
   "source": [
    "# Halfyear results\n",
    "halfyear_results = closed.set_index('date').resample('6M')[['result', 'result_cash_neutral', 'result_beta_neutral']].sum().reset_index()\n",
    "halfyear_results.columns = ['date', 'normal', 'cash neutral', 'beta neutral']\n",
    "halfyear_results['date'] = halfyear_results.date.dt.date\n",
    "halfyear_results = halfyear_results.melt(id_vars='date', value_name='result')\n",
    "\n",
    "sns.barplot(x='date', y='result', hue='variable', data=halfyear_results)\n",
    "plt.xticks(rotation=90)\n",
    "plt.legend(bbox_to_anchor=(1.05, 1), loc=2, borderaxespad=0.)\n",
    "\n",
    "plt.show()"
   ]
  },
  {
   "cell_type": "code",
   "execution_count": 1767,
   "id": "c8f4e656",
   "metadata": {
    "ExecuteTime": {
     "end_time": "2022-08-08T12:20:43.249742Z",
     "start_time": "2022-08-08T12:20:43.235802Z"
    },
    "hideCode": false,
    "hidePrompt": false
   },
   "outputs": [],
   "source": [
    "closed_daily = closed.groupby('date').agg({'result':sum, 'result_cash_neutral':sum,'result_beta_neutral':sum})"
   ]
  },
  {
   "cell_type": "code",
   "execution_count": 1822,
   "id": "8c8a24f3",
   "metadata": {
    "ExecuteTime": {
     "end_time": "2022-08-08T12:48:07.131601Z",
     "start_time": "2022-08-08T12:48:06.681878Z"
    },
    "hideCode": false,
    "hidePrompt": false
   },
   "outputs": [
    {
     "data": {
      "image/png": "[encoded data removed]",
      "text/plain": [
       "<Figure size 1080x576 with 1 Axes>"
      ]
     },
     "metadata": {},
     "output_type": "display_data"
    }
   ],
   "source": [
    "sns.lineplot(x=closed_daily.index, y=closed_daily.result.cumsum(), label='result')\n",
    "sns.lineplot(x=closed_daily.index, y=closed_daily.result_cash_neutral.cumsum(),color='red', label='cash neutral')\n",
    "sns.lineplot(x=closed_daily.index, y=closed_daily.result_beta_neutral.cumsum(),color='green', label='beta neutral')\n",
    "\n",
    "\n",
    "plt.xticks(rotation=45)\n",
    "plt.show()"
   ]
  },
  {
   "cell_type": "code",
   "execution_count": 1824,
   "id": "bad7a814",
   "metadata": {
    "ExecuteTime": {
     "end_time": "2022-08-08T12:48:18.613252Z",
     "start_time": "2022-08-08T12:48:18.155661Z"
    }
   },
   "outputs": [
    {
     "data": {
      "text/plain": [
       "[]"
      ]
     },
     "execution_count": 1824,
     "metadata": {},
     "output_type": "execute_result"
    },
    {
     "data": {
      "image/png": "[encoded data removed]",
      "text/plain": [
       "<Figure size 1080x576 with 1 Axes>"
      ]
     },
     "metadata": {},
     "output_type": "display_data"
    }
   ],
   "source": [
    "closed_setor = closed[['setor', 'result', 'result_cash_neutral', 'result_beta_neutral']].melt(id_vars='setor')\n",
    "closed_setor = closed_setor.groupby(['setor', 'variable'], as_index=False).sum()\n",
    "\n",
    "plt.figure(figsize=(15,8))\n",
    "\n",
    "sns.barplot(y='setor', x='value', hue='variable', data=closed_setor, orient='h')\n",
    "# plt.grid(axis='x')\n",
    "plt.ylabel(None)\n",
    "plt.plot()"
   ]
  },
  {
   "cell_type": "code",
   "execution_count": 1801,
   "id": "09e5bc34",
   "metadata": {
    "ExecuteTime": {
     "end_time": "2022-08-08T12:36:30.033143Z",
     "start_time": "2022-08-08T12:36:30.003222Z"
    },
    "hideCode": false,
    "hidePrompt": false
   },
   "outputs": [
    {
     "data": {
      "text/html": [
       "<div>\n",
       "<style scoped>\n",
       "    .dataframe tbody tr th:only-of-type {\n",
       "        vertical-align: middle;\n",
       "    }\n",
       "\n",
       "    .dataframe tbody tr th {\n",
       "        vertical-align: top;\n",
       "    }\n",
       "\n",
       "    .dataframe thead th {\n",
       "        text-align: right;\n",
       "    }\n",
       "</style>\n",
       "<table border=\"1\" class=\"dataframe\">\n",
       "  <thead>\n",
       "    <tr style=\"text-align: right;\">\n",
       "      <th>variable</th>\n",
       "      <th>result</th>\n",
       "      <th>result_beta_neutral</th>\n",
       "      <th>result_cash_neutral</th>\n",
       "    </tr>\n",
       "    <tr>\n",
       "      <th>setor</th>\n",
       "      <th></th>\n",
       "      <th></th>\n",
       "      <th></th>\n",
       "    </tr>\n",
       "  </thead>\n",
       "  <tbody>\n",
       "    <tr>\n",
       "      <th>Alimentos e Bebidas</th>\n",
       "      <td>9.47</td>\n",
       "      <td>0.132410</td>\n",
       "      <td>5.536947</td>\n",
       "    </tr>\n",
       "    <tr>\n",
       "      <th>Aéreas</th>\n",
       "      <td>3.44</td>\n",
       "      <td>3.525172</td>\n",
       "      <td>3.094137</td>\n",
       "    </tr>\n",
       "    <tr>\n",
       "      <th>Bens Industriais</th>\n",
       "      <td>12.83</td>\n",
       "      <td>3.894289</td>\n",
       "      <td>15.153790</td>\n",
       "    </tr>\n",
       "    <tr>\n",
       "      <th>Construção Civil</th>\n",
       "      <td>-2.35</td>\n",
       "      <td>-3.968271</td>\n",
       "      <td>-3.543908</td>\n",
       "    </tr>\n",
       "    <tr>\n",
       "      <th>Educação</th>\n",
       "      <td>1.98</td>\n",
       "      <td>-1.031729</td>\n",
       "      <td>-1.119002</td>\n",
       "    </tr>\n",
       "    <tr>\n",
       "      <th>Exploração de imóveis</th>\n",
       "      <td>1.16</td>\n",
       "      <td>4.911189</td>\n",
       "      <td>5.359375</td>\n",
       "    </tr>\n",
       "    <tr>\n",
       "      <th>Financeiro</th>\n",
       "      <td>63.86</td>\n",
       "      <td>22.946025</td>\n",
       "      <td>51.993596</td>\n",
       "    </tr>\n",
       "    <tr>\n",
       "      <th>Mineração e Siderurgia</th>\n",
       "      <td>-6.14</td>\n",
       "      <td>-3.383387</td>\n",
       "      <td>13.682216</td>\n",
       "    </tr>\n",
       "    <tr>\n",
       "      <th>Papel e Celulose</th>\n",
       "      <td>11.64</td>\n",
       "      <td>7.932651</td>\n",
       "      <td>7.439877</td>\n",
       "    </tr>\n",
       "    <tr>\n",
       "      <th>Petroleo, gás e biocombustíveis</th>\n",
       "      <td>-16.05</td>\n",
       "      <td>-9.605205</td>\n",
       "      <td>-20.464017</td>\n",
       "    </tr>\n",
       "    <tr>\n",
       "      <th>Saúde</th>\n",
       "      <td>64.12</td>\n",
       "      <td>75.534408</td>\n",
       "      <td>49.334798</td>\n",
       "    </tr>\n",
       "    <tr>\n",
       "      <th>Telecomunicações</th>\n",
       "      <td>-4.52</td>\n",
       "      <td>3.286773</td>\n",
       "      <td>2.701509</td>\n",
       "    </tr>\n",
       "    <tr>\n",
       "      <th>Utilidade Pública</th>\n",
       "      <td>-0.77</td>\n",
       "      <td>36.509902</td>\n",
       "      <td>20.378348</td>\n",
       "    </tr>\n",
       "    <tr>\n",
       "      <th>Varejo</th>\n",
       "      <td>-6.73</td>\n",
       "      <td>-12.463962</td>\n",
       "      <td>-14.058821</td>\n",
       "    </tr>\n",
       "  </tbody>\n",
       "</table>\n",
       "</div>"
      ],
      "text/plain": [
       "variable                         result  result_beta_neutral  \\\n",
       "setor                                                          \n",
       "Alimentos e Bebidas                9.47             0.132410   \n",
       "Aéreas                             3.44             3.525172   \n",
       "Bens Industriais                  12.83             3.894289   \n",
       "Construção Civil                  -2.35            -3.968271   \n",
       "Educação                           1.98            -1.031729   \n",
       "Exploração de imóveis              1.16             4.911189   \n",
       "Financeiro                        63.86            22.946025   \n",
       "Mineração e Siderurgia            -6.14            -3.383387   \n",
       "Papel e Celulose                  11.64             7.932651   \n",
       "Petroleo, gás e biocombustíveis  -16.05            -9.605205   \n",
       "Saúde                             64.12            75.534408   \n",
       "Telecomunicações                  -4.52             3.286773   \n",
       "Utilidade Pública                 -0.77            36.509902   \n",
       "Varejo                            -6.73           -12.463962   \n",
       "\n",
       "variable                         result_cash_neutral  \n",
       "setor                                                 \n",
       "Alimentos e Bebidas                         5.536947  \n",
       "Aéreas                                      3.094137  \n",
       "Bens Industriais                           15.153790  \n",
       "Construção Civil                           -3.543908  \n",
       "Educação                                   -1.119002  \n",
       "Exploração de imóveis                       5.359375  \n",
       "Financeiro                                 51.993596  \n",
       "Mineração e Siderurgia                     13.682216  \n",
       "Papel e Celulose                            7.439877  \n",
       "Petroleo, gás e biocombustíveis           -20.464017  \n",
       "Saúde                                      49.334798  \n",
       "Telecomunicações                            2.701509  \n",
       "Utilidade Pública                          20.378348  \n",
       "Varejo                                    -14.058821  "
      ]
     },
     "execution_count": 1801,
     "metadata": {},
     "output_type": "execute_result"
    }
   ],
   "source": [
    "closed_setor.pivot(index='setor', columns='variable', values='value')"
   ]
  },
  {
   "cell_type": "code",
   "execution_count": 1828,
   "id": "8bdf3220",
   "metadata": {
    "ExecuteTime": {
     "end_time": "2022-08-08T12:51:17.659738Z",
     "start_time": "2022-08-08T12:51:17.232095Z"
    }
   },
   "outputs": [
    {
     "data": {
      "text/plain": [
       "[]"
      ]
     },
     "execution_count": 1828,
     "metadata": {},
     "output_type": "execute_result"
    },
    {
     "data": {
      "image/png": "[encoded data removed]",
      "text/plain": [
       "<Figure size 1080x576 with 1 Axes>"
      ]
     },
     "metadata": {},
     "output_type": "display_data"
    }
   ],
   "source": [
    "closed_setor_accuracy = closed[['setor', 'is_profit', 'is_profit_CN', 'is_profit_BN']].melt(id_vars='setor', value_name='accuracy')\n",
    "closed_setor_accuracy = closed_setor_accuracy.groupby(['setor', 'variable'], as_index=False).mean()\n",
    "sns.barplot(y='setor', x='accuracy', hue='variable', data=closed_setor_accuracy, orient='h', )\n",
    "plt.axvline(x=0.5, linestyle='dotted')\n",
    "plt.ylabel(None)\n",
    "# plt.grid(axis='x')\n",
    "plt.plot()"
   ]
  },
  {
   "cell_type": "code",
   "execution_count": 1834,
   "id": "c688152a",
   "metadata": {
    "ExecuteTime": {
     "end_time": "2022-08-08T12:51:55.255496Z",
     "start_time": "2022-08-08T12:51:55.232480Z"
    }
   },
   "outputs": [
    {
     "data": {
      "text/html": [
       "<div>\n",
       "<style scoped>\n",
       "    .dataframe tbody tr th:only-of-type {\n",
       "        vertical-align: middle;\n",
       "    }\n",
       "\n",
       "    .dataframe tbody tr th {\n",
       "        vertical-align: top;\n",
       "    }\n",
       "\n",
       "    .dataframe thead th {\n",
       "        text-align: right;\n",
       "    }\n",
       "</style>\n",
       "<table border=\"1\" class=\"dataframe\">\n",
       "  <thead>\n",
       "    <tr style=\"text-align: right;\">\n",
       "      <th>variable</th>\n",
       "      <th>is_profit</th>\n",
       "      <th>is_profit_BN</th>\n",
       "      <th>is_profit_CN</th>\n",
       "    </tr>\n",
       "    <tr>\n",
       "      <th>setor</th>\n",
       "      <th></th>\n",
       "      <th></th>\n",
       "      <th></th>\n",
       "    </tr>\n",
       "  </thead>\n",
       "  <tbody>\n",
       "    <tr>\n",
       "      <th>Alimentos e Bebidas</th>\n",
       "      <td>0.500000</td>\n",
       "      <td>0.406250</td>\n",
       "      <td>0.531250</td>\n",
       "    </tr>\n",
       "    <tr>\n",
       "      <th>Aéreas</th>\n",
       "      <td>0.545455</td>\n",
       "      <td>0.545455</td>\n",
       "      <td>0.545455</td>\n",
       "    </tr>\n",
       "    <tr>\n",
       "      <th>Bens Industriais</th>\n",
       "      <td>0.625000</td>\n",
       "      <td>0.468750</td>\n",
       "      <td>0.593750</td>\n",
       "    </tr>\n",
       "    <tr>\n",
       "      <th>Construção Civil</th>\n",
       "      <td>0.666667</td>\n",
       "      <td>0.333333</td>\n",
       "      <td>0.333333</td>\n",
       "    </tr>\n",
       "    <tr>\n",
       "      <th>Educação</th>\n",
       "      <td>0.250000</td>\n",
       "      <td>0.500000</td>\n",
       "      <td>0.500000</td>\n",
       "    </tr>\n",
       "    <tr>\n",
       "      <th>Exploração de imóveis</th>\n",
       "      <td>0.555556</td>\n",
       "      <td>0.666667</td>\n",
       "      <td>0.666667</td>\n",
       "    </tr>\n",
       "    <tr>\n",
       "      <th>Financeiro</th>\n",
       "      <td>0.509434</td>\n",
       "      <td>0.486792</td>\n",
       "      <td>0.509434</td>\n",
       "    </tr>\n",
       "    <tr>\n",
       "      <th>Mineração e Siderurgia</th>\n",
       "      <td>0.462687</td>\n",
       "      <td>0.477612</td>\n",
       "      <td>0.477612</td>\n",
       "    </tr>\n",
       "    <tr>\n",
       "      <th>Papel e Celulose</th>\n",
       "      <td>0.857143</td>\n",
       "      <td>0.714286</td>\n",
       "      <td>1.000000</td>\n",
       "    </tr>\n",
       "    <tr>\n",
       "      <th>Petroleo, gás e biocombustíveis</th>\n",
       "      <td>0.422222</td>\n",
       "      <td>0.377778</td>\n",
       "      <td>0.400000</td>\n",
       "    </tr>\n",
       "    <tr>\n",
       "      <th>Saúde</th>\n",
       "      <td>0.609756</td>\n",
       "      <td>0.621951</td>\n",
       "      <td>0.573171</td>\n",
       "    </tr>\n",
       "    <tr>\n",
       "      <th>Telecomunicações</th>\n",
       "      <td>0.250000</td>\n",
       "      <td>1.000000</td>\n",
       "      <td>1.000000</td>\n",
       "    </tr>\n",
       "    <tr>\n",
       "      <th>Utilidade Pública</th>\n",
       "      <td>0.508696</td>\n",
       "      <td>0.530435</td>\n",
       "      <td>0.504348</td>\n",
       "    </tr>\n",
       "    <tr>\n",
       "      <th>Varejo</th>\n",
       "      <td>0.482143</td>\n",
       "      <td>0.410714</td>\n",
       "      <td>0.428571</td>\n",
       "    </tr>\n",
       "  </tbody>\n",
       "</table>\n",
       "</div>"
      ],
      "text/plain": [
       "variable                         is_profit  is_profit_BN  is_profit_CN\n",
       "setor                                                                 \n",
       "Alimentos e Bebidas               0.500000      0.406250      0.531250\n",
       "Aéreas                            0.545455      0.545455      0.545455\n",
       "Bens Industriais                  0.625000      0.468750      0.593750\n",
       "Construção Civil                  0.666667      0.333333      0.333333\n",
       "Educação                          0.250000      0.500000      0.500000\n",
       "Exploração de imóveis             0.555556      0.666667      0.666667\n",
       "Financeiro                        0.509434      0.486792      0.509434\n",
       "Mineração e Siderurgia            0.462687      0.477612      0.477612\n",
       "Papel e Celulose                  0.857143      0.714286      1.000000\n",
       "Petroleo, gás e biocombustíveis   0.422222      0.377778      0.400000\n",
       "Saúde                             0.609756      0.621951      0.573171\n",
       "Telecomunicações                  0.250000      1.000000      1.000000\n",
       "Utilidade Pública                 0.508696      0.530435      0.504348\n",
       "Varejo                            0.482143      0.410714      0.428571"
      ]
     },
     "execution_count": 1834,
     "metadata": {},
     "output_type": "execute_result"
    }
   ],
   "source": [
    "closed_setor_accuracy.pivot(index='setor', columns='variable', values='accuracy')"
   ]
  },
  {
   "cell_type": "code",
   "execution_count": 1479,
   "id": "295d9e32",
   "metadata": {
    "ExecuteTime": {
     "end_time": "2022-08-07T23:31:32.050569Z",
     "start_time": "2022-08-07T23:31:31.970130Z"
    },
    "hideCode": false,
    "hidePrompt": false
   },
   "outputs": [
    {
     "data": {
      "text/html": [
       "<div>\n",
       "<style scoped>\n",
       "    .dataframe tbody tr th:only-of-type {\n",
       "        vertical-align: middle;\n",
       "    }\n",
       "\n",
       "    .dataframe tbody tr th {\n",
       "        vertical-align: top;\n",
       "    }\n",
       "\n",
       "    .dataframe thead th {\n",
       "        text-align: right;\n",
       "    }\n",
       "</style>\n",
       "<table border=\"1\" class=\"dataframe\">\n",
       "  <thead>\n",
       "    <tr style=\"text-align: right;\">\n",
       "      <th></th>\n",
       "      <th>result_sum</th>\n",
       "      <th>result_mean</th>\n",
       "      <th>result_sum_CN</th>\n",
       "      <th>result_mean_CN</th>\n",
       "      <th>count</th>\n",
       "      <th>accuracy</th>\n",
       "      <th>accuracy_CN</th>\n",
       "      <th>sector</th>\n",
       "    </tr>\n",
       "    <tr>\n",
       "      <th>sorted_pair</th>\n",
       "      <th></th>\n",
       "      <th></th>\n",
       "      <th></th>\n",
       "      <th></th>\n",
       "      <th></th>\n",
       "      <th></th>\n",
       "      <th></th>\n",
       "      <th></th>\n",
       "    </tr>\n",
       "  </thead>\n",
       "  <tbody>\n",
       "    <tr>\n",
       "      <th>(KLBN11, SUZB3)</th>\n",
       "      <td>11.46</td>\n",
       "      <td>1.432500</td>\n",
       "      <td>10.438215</td>\n",
       "      <td>1.304777</td>\n",
       "      <td>8</td>\n",
       "      <td>0.875000</td>\n",
       "      <td>1.000000</td>\n",
       "      <td>Papel e Celulose</td>\n",
       "    </tr>\n",
       "    <tr>\n",
       "      <th>(TIMS3, VIVT3)</th>\n",
       "      <td>-3.15</td>\n",
       "      <td>-0.787500</td>\n",
       "      <td>2.917459</td>\n",
       "      <td>0.729365</td>\n",
       "      <td>4</td>\n",
       "      <td>0.250000</td>\n",
       "      <td>1.000000</td>\n",
       "      <td>Telecomunicações</td>\n",
       "    </tr>\n",
       "    <tr>\n",
       "      <th>(BBDC3, BBDC4)</th>\n",
       "      <td>0.83</td>\n",
       "      <td>0.092222</td>\n",
       "      <td>1.356925</td>\n",
       "      <td>0.150769</td>\n",
       "      <td>9</td>\n",
       "      <td>0.666667</td>\n",
       "      <td>0.888889</td>\n",
       "      <td>Financeiro</td>\n",
       "    </tr>\n",
       "    <tr>\n",
       "      <th>(BBAS3, ITSA4)</th>\n",
       "      <td>1.30</td>\n",
       "      <td>0.216667</td>\n",
       "      <td>3.460445</td>\n",
       "      <td>0.576741</td>\n",
       "      <td>6</td>\n",
       "      <td>0.666667</td>\n",
       "      <td>0.833333</td>\n",
       "      <td>Financeiro</td>\n",
       "    </tr>\n",
       "    <tr>\n",
       "      <th>(ELET6, EQTL3)</th>\n",
       "      <td>6.32</td>\n",
       "      <td>0.632000</td>\n",
       "      <td>8.158183</td>\n",
       "      <td>0.815818</td>\n",
       "      <td>10</td>\n",
       "      <td>0.700000</td>\n",
       "      <td>0.800000</td>\n",
       "      <td>Utilidade Pública</td>\n",
       "    </tr>\n",
       "    <tr>\n",
       "      <th>(EGIE3, SBSP3)</th>\n",
       "      <td>-1.31</td>\n",
       "      <td>-0.262000</td>\n",
       "      <td>-1.123499</td>\n",
       "      <td>-0.224700</td>\n",
       "      <td>5</td>\n",
       "      <td>0.400000</td>\n",
       "      <td>0.800000</td>\n",
       "      <td>Utilidade Pública</td>\n",
       "    </tr>\n",
       "    <tr>\n",
       "      <th>(ITSA4, ITUB4)</th>\n",
       "      <td>1.20</td>\n",
       "      <td>0.240000</td>\n",
       "      <td>1.274313</td>\n",
       "      <td>0.254863</td>\n",
       "      <td>5</td>\n",
       "      <td>0.600000</td>\n",
       "      <td>0.800000</td>\n",
       "      <td>Financeiro</td>\n",
       "    </tr>\n",
       "    <tr>\n",
       "      <th>(ABEV3, BRFS3)</th>\n",
       "      <td>15.57</td>\n",
       "      <td>1.946250</td>\n",
       "      <td>10.701986</td>\n",
       "      <td>1.337748</td>\n",
       "      <td>8</td>\n",
       "      <td>0.750000</td>\n",
       "      <td>0.750000</td>\n",
       "      <td>Alimentos e Bebidas</td>\n",
       "    </tr>\n",
       "    <tr>\n",
       "      <th>(BBAS3, BBSE3)</th>\n",
       "      <td>4.36</td>\n",
       "      <td>0.545000</td>\n",
       "      <td>5.546111</td>\n",
       "      <td>0.693264</td>\n",
       "      <td>8</td>\n",
       "      <td>0.750000</td>\n",
       "      <td>0.750000</td>\n",
       "      <td>Financeiro</td>\n",
       "    </tr>\n",
       "    <tr>\n",
       "      <th>(CSAN3, VBBR3)</th>\n",
       "      <td>1.54</td>\n",
       "      <td>0.385000</td>\n",
       "      <td>1.304738</td>\n",
       "      <td>0.326184</td>\n",
       "      <td>4</td>\n",
       "      <td>0.750000</td>\n",
       "      <td>0.750000</td>\n",
       "      <td>Petroleo, gás e biocombustíveis</td>\n",
       "    </tr>\n",
       "    <tr>\n",
       "      <th>(EGIE3, TAEE11)</th>\n",
       "      <td>1.26</td>\n",
       "      <td>0.315000</td>\n",
       "      <td>0.849294</td>\n",
       "      <td>0.212324</td>\n",
       "      <td>4</td>\n",
       "      <td>0.500000</td>\n",
       "      <td>0.750000</td>\n",
       "      <td>Utilidade Pública</td>\n",
       "    </tr>\n",
       "    <tr>\n",
       "      <th>(BRAP4, GGBR4)</th>\n",
       "      <td>2.76</td>\n",
       "      <td>0.250909</td>\n",
       "      <td>3.008623</td>\n",
       "      <td>0.273511</td>\n",
       "      <td>11</td>\n",
       "      <td>0.727273</td>\n",
       "      <td>0.727273</td>\n",
       "      <td>Mineração e Siderurgia</td>\n",
       "    </tr>\n",
       "    <tr>\n",
       "      <th>(CCRO3, RAIL3)</th>\n",
       "      <td>5.40</td>\n",
       "      <td>0.490909</td>\n",
       "      <td>8.696935</td>\n",
       "      <td>0.790630</td>\n",
       "      <td>11</td>\n",
       "      <td>0.727273</td>\n",
       "      <td>0.727273</td>\n",
       "      <td>Bens Industriais</td>\n",
       "    </tr>\n",
       "    <tr>\n",
       "      <th>(FLRY3, RADL3)</th>\n",
       "      <td>10.16</td>\n",
       "      <td>0.923636</td>\n",
       "      <td>9.648590</td>\n",
       "      <td>0.877145</td>\n",
       "      <td>11</td>\n",
       "      <td>0.727273</td>\n",
       "      <td>0.727273</td>\n",
       "      <td>Saúde</td>\n",
       "    </tr>\n",
       "    <tr>\n",
       "      <th>(HYPE3, QUAL3)</th>\n",
       "      <td>8.15</td>\n",
       "      <td>1.164286</td>\n",
       "      <td>8.343912</td>\n",
       "      <td>1.191987</td>\n",
       "      <td>7</td>\n",
       "      <td>0.857143</td>\n",
       "      <td>0.714286</td>\n",
       "      <td>Saúde</td>\n",
       "    </tr>\n",
       "    <tr>\n",
       "      <th>(FLRY3, QUAL3)</th>\n",
       "      <td>13.65</td>\n",
       "      <td>1.137500</td>\n",
       "      <td>13.098324</td>\n",
       "      <td>1.091527</td>\n",
       "      <td>12</td>\n",
       "      <td>0.666667</td>\n",
       "      <td>0.666667</td>\n",
       "      <td>Saúde</td>\n",
       "    </tr>\n",
       "    <tr>\n",
       "      <th>(B3SA3, SULA11)</th>\n",
       "      <td>7.63</td>\n",
       "      <td>0.847778</td>\n",
       "      <td>8.776413</td>\n",
       "      <td>0.975157</td>\n",
       "      <td>9</td>\n",
       "      <td>0.666667</td>\n",
       "      <td>0.666667</td>\n",
       "      <td>Financeiro</td>\n",
       "    </tr>\n",
       "    <tr>\n",
       "      <th>(BRML3, MULT3)</th>\n",
       "      <td>1.58</td>\n",
       "      <td>0.175556</td>\n",
       "      <td>6.049808</td>\n",
       "      <td>0.672201</td>\n",
       "      <td>9</td>\n",
       "      <td>0.555556</td>\n",
       "      <td>0.666667</td>\n",
       "      <td>Exploração de imóveis</td>\n",
       "    </tr>\n",
       "    <tr>\n",
       "      <th>(CSNA3, GGBR4)</th>\n",
       "      <td>0.29</td>\n",
       "      <td>0.048333</td>\n",
       "      <td>0.438264</td>\n",
       "      <td>0.073044</td>\n",
       "      <td>6</td>\n",
       "      <td>0.666667</td>\n",
       "      <td>0.666667</td>\n",
       "      <td>Mineração e Siderurgia</td>\n",
       "    </tr>\n",
       "    <tr>\n",
       "      <th>(ELET3, ELET6)</th>\n",
       "      <td>2.15</td>\n",
       "      <td>0.134375</td>\n",
       "      <td>2.799145</td>\n",
       "      <td>0.174947</td>\n",
       "      <td>16</td>\n",
       "      <td>0.625000</td>\n",
       "      <td>0.625000</td>\n",
       "      <td>Utilidade Pública</td>\n",
       "    </tr>\n",
       "    <tr>\n",
       "      <th>(HYPE3, RADL3)</th>\n",
       "      <td>9.09</td>\n",
       "      <td>0.568125</td>\n",
       "      <td>8.625293</td>\n",
       "      <td>0.539081</td>\n",
       "      <td>16</td>\n",
       "      <td>0.562500</td>\n",
       "      <td>0.625000</td>\n",
       "      <td>Saúde</td>\n",
       "    </tr>\n",
       "    <tr>\n",
       "      <th>(CMIG4, ENBR3)</th>\n",
       "      <td>1.32</td>\n",
       "      <td>0.165000</td>\n",
       "      <td>2.060248</td>\n",
       "      <td>0.257531</td>\n",
       "      <td>8</td>\n",
       "      <td>0.750000</td>\n",
       "      <td>0.625000</td>\n",
       "      <td>Utilidade Pública</td>\n",
       "    </tr>\n",
       "    <tr>\n",
       "      <th>(B3SA3, BBSE3)</th>\n",
       "      <td>3.17</td>\n",
       "      <td>0.634000</td>\n",
       "      <td>2.022342</td>\n",
       "      <td>0.404468</td>\n",
       "      <td>5</td>\n",
       "      <td>0.600000</td>\n",
       "      <td>0.600000</td>\n",
       "      <td>Financeiro</td>\n",
       "    </tr>\n",
       "    <tr>\n",
       "      <th>(BBAS3, BBDC3)</th>\n",
       "      <td>1.31</td>\n",
       "      <td>0.262000</td>\n",
       "      <td>2.056716</td>\n",
       "      <td>0.411343</td>\n",
       "      <td>5</td>\n",
       "      <td>0.400000</td>\n",
       "      <td>0.600000</td>\n",
       "      <td>Financeiro</td>\n",
       "    </tr>\n",
       "    <tr>\n",
       "      <th>(BBDC4, SANB11)</th>\n",
       "      <td>-0.97</td>\n",
       "      <td>-0.194000</td>\n",
       "      <td>0.565533</td>\n",
       "      <td>0.113107</td>\n",
       "      <td>5</td>\n",
       "      <td>0.400000</td>\n",
       "      <td>0.600000</td>\n",
       "      <td>Financeiro</td>\n",
       "    </tr>\n",
       "  </tbody>\n",
       "</table>\n",
       "</div>"
      ],
      "text/plain": [
       "                 result_sum  result_mean  result_sum_CN  result_mean_CN  \\\n",
       "sorted_pair                                                               \n",
       "(KLBN11, SUZB3)       11.46     1.432500      10.438215        1.304777   \n",
       "(TIMS3, VIVT3)        -3.15    -0.787500       2.917459        0.729365   \n",
       "(BBDC3, BBDC4)         0.83     0.092222       1.356925        0.150769   \n",
       "(BBAS3, ITSA4)         1.30     0.216667       3.460445        0.576741   \n",
       "(ELET6, EQTL3)         6.32     0.632000       8.158183        0.815818   \n",
       "(EGIE3, SBSP3)        -1.31    -0.262000      -1.123499       -0.224700   \n",
       "(ITSA4, ITUB4)         1.20     0.240000       1.274313        0.254863   \n",
       "(ABEV3, BRFS3)        15.57     1.946250      10.701986        1.337748   \n",
       "(BBAS3, BBSE3)         4.36     0.545000       5.546111        0.693264   \n",
       "(CSAN3, VBBR3)         1.54     0.385000       1.304738        0.326184   \n",
       "(EGIE3, TAEE11)        1.26     0.315000       0.849294        0.212324   \n",
       "(BRAP4, GGBR4)         2.76     0.250909       3.008623        0.273511   \n",
       "(CCRO3, RAIL3)         5.40     0.490909       8.696935        0.790630   \n",
       "(FLRY3, RADL3)        10.16     0.923636       9.648590        0.877145   \n",
       "(HYPE3, QUAL3)         8.15     1.164286       8.343912        1.191987   \n",
       "(FLRY3, QUAL3)        13.65     1.137500      13.098324        1.091527   \n",
       "(B3SA3, SULA11)        7.63     0.847778       8.776413        0.975157   \n",
       "(BRML3, MULT3)         1.58     0.175556       6.049808        0.672201   \n",
       "(CSNA3, GGBR4)         0.29     0.048333       0.438264        0.073044   \n",
       "(ELET3, ELET6)         2.15     0.134375       2.799145        0.174947   \n",
       "(HYPE3, RADL3)         9.09     0.568125       8.625293        0.539081   \n",
       "(CMIG4, ENBR3)         1.32     0.165000       2.060248        0.257531   \n",
       "(B3SA3, BBSE3)         3.17     0.634000       2.022342        0.404468   \n",
       "(BBAS3, BBDC3)         1.31     0.262000       2.056716        0.411343   \n",
       "(BBDC4, SANB11)       -0.97    -0.194000       0.565533        0.113107   \n",
       "\n",
       "                 count  accuracy  accuracy_CN                           sector  \n",
       "sorted_pair                                                                     \n",
       "(KLBN11, SUZB3)      8  0.875000     1.000000                 Papel e Celulose  \n",
       "(TIMS3, VIVT3)       4  0.250000     1.000000                 Telecomunicações  \n",
       "(BBDC3, BBDC4)       9  0.666667     0.888889                       Financeiro  \n",
       "(BBAS3, ITSA4)       6  0.666667     0.833333                       Financeiro  \n",
       "(ELET6, EQTL3)      10  0.700000     0.800000                Utilidade Pública  \n",
       "(EGIE3, SBSP3)       5  0.400000     0.800000                Utilidade Pública  \n",
       "(ITSA4, ITUB4)       5  0.600000     0.800000                       Financeiro  \n",
       "(ABEV3, BRFS3)       8  0.750000     0.750000              Alimentos e Bebidas  \n",
       "(BBAS3, BBSE3)       8  0.750000     0.750000                       Financeiro  \n",
       "(CSAN3, VBBR3)       4  0.750000     0.750000  Petroleo, gás e biocombustíveis  \n",
       "(EGIE3, TAEE11)      4  0.500000     0.750000                Utilidade Pública  \n",
       "(BRAP4, GGBR4)      11  0.727273     0.727273           Mineração e Siderurgia  \n",
       "(CCRO3, RAIL3)      11  0.727273     0.727273                 Bens Industriais  \n",
       "(FLRY3, RADL3)      11  0.727273     0.727273                            Saúde  \n",
       "(HYPE3, QUAL3)       7  0.857143     0.714286                            Saúde  \n",
       "(FLRY3, QUAL3)      12  0.666667     0.666667                            Saúde  \n",
       "(B3SA3, SULA11)      9  0.666667     0.666667                       Financeiro  \n",
       "(BRML3, MULT3)       9  0.555556     0.666667            Exploração de imóveis  \n",
       "(CSNA3, GGBR4)       6  0.666667     0.666667           Mineração e Siderurgia  \n",
       "(ELET3, ELET6)      16  0.625000     0.625000                Utilidade Pública  \n",
       "(HYPE3, RADL3)      16  0.562500     0.625000                            Saúde  \n",
       "(CMIG4, ENBR3)       8  0.750000     0.625000                Utilidade Pública  \n",
       "(B3SA3, BBSE3)       5  0.600000     0.600000                       Financeiro  \n",
       "(BBAS3, BBDC3)       5  0.400000     0.600000                       Financeiro  \n",
       "(BBDC4, SANB11)      5  0.400000     0.600000                       Financeiro  "
      ]
     },
     "execution_count": 1479,
     "metadata": {},
     "output_type": "execute_result"
    }
   ],
   "source": [
    "pair_closed = closed.groupby('sorted_pair').agg(\n",
    "    result_sum=('result', 'sum'),\n",
    "    result_mean=('result', 'mean'),\n",
    "    result_sum_CN=('result_cash_neutral', 'sum'),\n",
    "    result_mean_CN=('result_cash_neutral', 'mean'),\n",
    "    count=('result', 'count'),\n",
    "    accuracy=('is_profit', 'mean'),\n",
    "    accuracy_CN=('is_profit_CN', 'mean'),\n",
    "    sector=('setor', 'last')\n",
    "    )\n",
    "\n",
    "pair_closed.loc[pair_closed['count']>3].sort_values(by=['accuracy_CN', 'count'], ascending=False).head(25)"
   ]
  },
  {
   "cell_type": "code",
   "execution_count": 55,
   "id": "a91fdb79",
   "metadata": {
    "ExecuteTime": {
     "end_time": "2022-08-05T16:26:54.725516Z",
     "start_time": "2022-08-05T16:26:54.528530Z"
    },
    "hideCode": false,
    "hidePrompt": false
   },
   "outputs": [],
   "source": [
    "# pair_closed.to_excel('pares_parcial.xlsx')"
   ]
  },
  {
   "cell_type": "code",
   "execution_count": null,
   "id": "d948f74d",
   "metadata": {
    "hideCode": false,
    "hidePrompt": false
   },
   "outputs": [],
   "source": []
  }
 ],
 "metadata": {
  "hide_code_all_hidden": false,
  "kernelspec": {
   "display_name": "Python 3",
   "language": "python",
   "name": "python3"
  },
  "language_info": {
   "codemirror_mode": {
    "name": "ipython",
    "version": 3
   },
   "file_extension": ".py",
   "mimetype": "text/x-python",
   "name": "python",
   "nbconvert_exporter": "python",
   "pygments_lexer": "ipython3",
   "version": "3.8.4"
  },
  "vscode": {
   "interpreter": {
    "hash": "e337efa0dbf50a479327a09a7ca80daa2467993c275d2b4497525709bdc18a22"
   }
  }
 },
 "nbformat": 4,
 "nbformat_minor": 5
}
