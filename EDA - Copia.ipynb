{
 "cells": [
  {
   "cell_type": "code",
   "execution_count": 42,
   "id": "d9b8b256",
   "metadata": {
    "ExecuteTime": {
     "end_time": "2022-08-09T01:35:08.388988Z",
     "start_time": "2022-08-09T01:35:08.364951Z"
    },
    "hideCode": false,
    "hidePrompt": false
   },
   "outputs": [],
   "source": [
    "import pandas as pd\n",
    "import numpy as np\n",
    "import seaborn as sns\n",
    "# from backtest import executer\n",
    "import matplotlib.pyplot as plt\n",
    "import plotly.express as px\n",
    "import math\n",
    "import ast"
   ]
  },
  {
   "cell_type": "code",
   "execution_count": 43,
   "id": "50251c03",
   "metadata": {
    "ExecuteTime": {
     "end_time": "2022-08-09T01:35:08.596951Z",
     "start_time": "2022-08-09T01:35:08.580954Z"
    }
   },
   "outputs": [],
   "source": [
    "sns.set(rc={'figure.figsize':(15,8)})"
   ]
  },
  {
   "cell_type": "code",
   "execution_count": 925,
   "id": "91c9c09d",
   "metadata": {
    "ExecuteTime": {
     "end_time": "2022-08-09T16:08:53.849698Z",
     "start_time": "2022-08-09T16:08:53.690603Z"
    },
    "hideCode": false,
    "hidePrompt": false
   },
   "outputs": [],
   "source": [
    "portfolio = pd.read_excel('PORTFOLIO.xlsx')\n",
    "\n",
    "df = pd.read_csv('var01.csv')\n",
    "df['date'] = pd.to_datetime(df.date)\n",
    "\n",
    "df['stock1'] = [pair.split(\"'\")[1] for pair in df.pair]"
   ]
  },
  {
   "cell_type": "code",
   "execution_count": 926,
   "id": "690085df",
   "metadata": {
    "ExecuteTime": {
     "end_time": "2022-08-09T16:08:54.476630Z",
     "start_time": "2022-08-09T16:08:54.086670Z"
    },
    "hideCode": false,
    "hidePrompt": false
   },
   "outputs": [],
   "source": [
    "df = df.merge(portfolio.drop_duplicates('ticker'), left_on='stock1', right_on='ticker',how='left')\n",
    "df.drop(columns=['stock1', 'ticker'], inplace=True)\n",
    "df['pair'] = df.pair.apply(ast.literal_eval)\n",
    "df['sorted_pair'] = df.pair.apply(sorted).apply(tuple)"
   ]
  },
  {
   "cell_type": "code",
   "execution_count": 927,
   "id": "41bb72b1",
   "metadata": {
    "ExecuteTime": {
     "end_time": "2022-08-09T16:08:54.552617Z",
     "start_time": "2022-08-09T16:08:54.528582Z"
    },
    "hideCode": false,
    "hidePrompt": false
   },
   "outputs": [],
   "source": [
    "df.drop_duplicates(subset=['date', 'sorted_pair'], keep='first',inplace=True)"
   ]
  },
  {
   "cell_type": "code",
   "execution_count": 928,
   "id": "0d9a73f9",
   "metadata": {
    "ExecuteTime": {
     "end_time": "2022-08-09T16:08:55.604336Z",
     "start_time": "2022-08-09T16:08:55.572361Z"
    },
    "hideCode": false,
    "hidePrompt": false
   },
   "outputs": [
    {
     "data": {
      "text/html": [
       "<div>\n",
       "<style scoped>\n",
       "    .dataframe tbody tr th:only-of-type {\n",
       "        vertical-align: middle;\n",
       "    }\n",
       "\n",
       "    .dataframe tbody tr th {\n",
       "        vertical-align: top;\n",
       "    }\n",
       "\n",
       "    .dataframe thead th {\n",
       "        text-align: right;\n",
       "    }\n",
       "</style>\n",
       "<table border=\"1\" class=\"dataframe\">\n",
       "  <thead>\n",
       "    <tr style=\"text-align: right;\">\n",
       "      <th></th>\n",
       "      <th>date</th>\n",
       "      <th>pair</th>\n",
       "      <th>status</th>\n",
       "      <th>price_fst_stock</th>\n",
       "      <th>price_scnd_stock</th>\n",
       "      <th>beta_open</th>\n",
       "      <th>beta_close</th>\n",
       "      <th>last_residual</th>\n",
       "      <th>std_residual</th>\n",
       "      <th>std_open_residual</th>\n",
       "      <th>...</th>\n",
       "      <th>open_price_scnd_stock</th>\n",
       "      <th>open_date</th>\n",
       "      <th>close_limit</th>\n",
       "      <th>stop_limit</th>\n",
       "      <th>halflife</th>\n",
       "      <th>days_open</th>\n",
       "      <th>data_ini</th>\n",
       "      <th>data_fin</th>\n",
       "      <th>setor</th>\n",
       "      <th>sorted_pair</th>\n",
       "    </tr>\n",
       "  </thead>\n",
       "  <tbody>\n",
       "  </tbody>\n",
       "</table>\n",
       "<p>0 rows × 22 columns</p>\n",
       "</div>"
      ],
      "text/plain": [
       "Empty DataFrame\n",
       "Columns: [date, pair, status, price_fst_stock, price_scnd_stock, beta_open, beta_close, last_residual, std_residual, std_open_residual, residual_open, open_price_first_stock, open_price_scnd_stock, open_date, close_limit, stop_limit, halflife, days_open, data_ini, data_fin, setor, sorted_pair]\n",
       "Index: []\n",
       "\n",
       "[0 rows x 22 columns]"
      ]
     },
     "execution_count": 928,
     "metadata": {},
     "output_type": "execute_result"
    }
   ],
   "source": [
    "df.loc[(df.duplicated(subset=['date', 'sorted_pair'], keep=False))].sort_values(by=['date', 'sorted_pair'])"
   ]
  },
  {
   "cell_type": "code",
   "execution_count": 929,
   "id": "10e24d6a",
   "metadata": {
    "ExecuteTime": {
     "end_time": "2022-08-09T16:08:56.512048Z",
     "start_time": "2022-08-09T16:08:56.488068Z"
    }
   },
   "outputs": [],
   "source": [
    "def result_calculator(row, kind='CN'):\n",
    "    \n",
    "    if kind=='CN':\n",
    "        multiplier = 1\n",
    "    if kind == 'BN':\n",
    "        multiplier = row.beta_open\n",
    "    \n",
    "    \n",
    "    if row['residual_open'] < row['std_open_residual']:\n",
    "        long_result = np.log(row['price_fst_stock'] / row['open_price_first_stock'])\n",
    "        short_result = np.log(row['open_price_scnd_stock'] / row['price_scnd_stock'])\n",
    "        \n",
    "        short_result = multiplier * short_result\n",
    "        result = long_result + short_result\n",
    "    \n",
    "    elif row['residual_open'] > row['std_open_residual']:\n",
    "        long_result = np.log(row['open_price_first_stock'] / row['price_fst_stock'])\n",
    "        short_result = np.log(row['price_scnd_stock'] / row['open_price_scnd_stock'])\n",
    "        \n",
    "        short_result = multiplier * short_result\n",
    "        result = long_result + short_result\n",
    "\n",
    "    return result "
   ]
  },
  {
   "cell_type": "code",
   "execution_count": 930,
   "id": "47d44668",
   "metadata": {
    "ExecuteTime": {
     "end_time": "2022-08-09T16:08:57.504681Z",
     "start_time": "2022-08-09T16:08:57.488685Z"
    },
    "hideCode": false,
    "hidePrompt": false
   },
   "outputs": [],
   "source": [
    "cond = (df.status.isin(['True', 'close']))"
   ]
  },
  {
   "cell_type": "code",
   "execution_count": 931,
   "id": "3f1cfd3e",
   "metadata": {
    "ExecuteTime": {
     "end_time": "2022-08-09T16:08:58.819503Z",
     "start_time": "2022-08-09T16:08:58.217787Z"
    },
    "hideCode": false,
    "hidePrompt": false
   },
   "outputs": [],
   "source": [
    "df.loc[cond, 'result'] = df.loc[cond].apply(lambda row: result_calculator(row), axis=1)\n",
    "df.loc[cond, 'result_beta_neutral'] = df.loc[cond].apply(lambda row: result_calculator(row, kind='BN'), axis=1)\n"
   ]
  },
  {
   "cell_type": "code",
   "execution_count": 932,
   "id": "1dcb1fe6",
   "metadata": {
    "ExecuteTime": {
     "end_time": "2022-08-09T16:08:58.855008Z",
     "start_time": "2022-08-09T16:08:58.819503Z"
    }
   },
   "outputs": [
    {
     "data": {
      "text/html": [
       "<div>\n",
       "<style scoped>\n",
       "    .dataframe tbody tr th:only-of-type {\n",
       "        vertical-align: middle;\n",
       "    }\n",
       "\n",
       "    .dataframe tbody tr th {\n",
       "        vertical-align: top;\n",
       "    }\n",
       "\n",
       "    .dataframe thead th {\n",
       "        text-align: right;\n",
       "    }\n",
       "</style>\n",
       "<table border=\"1\" class=\"dataframe\">\n",
       "  <thead>\n",
       "    <tr style=\"text-align: right;\">\n",
       "      <th></th>\n",
       "      <th>date</th>\n",
       "      <th>pair</th>\n",
       "      <th>status</th>\n",
       "      <th>price_fst_stock</th>\n",
       "      <th>price_scnd_stock</th>\n",
       "      <th>beta_open</th>\n",
       "      <th>beta_close</th>\n",
       "      <th>last_residual</th>\n",
       "      <th>std_residual</th>\n",
       "      <th>std_open_residual</th>\n",
       "      <th>...</th>\n",
       "      <th>close_limit</th>\n",
       "      <th>stop_limit</th>\n",
       "      <th>halflife</th>\n",
       "      <th>days_open</th>\n",
       "      <th>data_ini</th>\n",
       "      <th>data_fin</th>\n",
       "      <th>setor</th>\n",
       "      <th>sorted_pair</th>\n",
       "      <th>result</th>\n",
       "      <th>result_beta_neutral</th>\n",
       "    </tr>\n",
       "  </thead>\n",
       "  <tbody>\n",
       "  </tbody>\n",
       "</table>\n",
       "<p>0 rows × 24 columns</p>\n",
       "</div>"
      ],
      "text/plain": [
       "Empty DataFrame\n",
       "Columns: [date, pair, status, price_fst_stock, price_scnd_stock, beta_open, beta_close, last_residual, std_residual, std_open_residual, residual_open, open_price_first_stock, open_price_scnd_stock, open_date, close_limit, stop_limit, halflife, days_open, data_ini, data_fin, setor, sorted_pair, result, result_beta_neutral]\n",
       "Index: []\n",
       "\n",
       "[0 rows x 24 columns]"
      ]
     },
     "execution_count": 932,
     "metadata": {},
     "output_type": "execute_result"
    }
   ],
   "source": [
    "df.loc[df.status=='']"
   ]
  },
  {
   "cell_type": "code",
   "execution_count": 933,
   "id": "cfb500da",
   "metadata": {
    "ExecuteTime": {
     "end_time": "2022-08-09T16:08:59.815050Z",
     "start_time": "2022-08-09T16:08:59.783050Z"
    },
    "hideCode": false,
    "hidePrompt": false
   },
   "outputs": [],
   "source": [
    "closed = df.loc[df.status=='close'].copy()\n",
    "\n",
    "closed['is_profit'] = closed['result'] > 0\n",
    "# closed['is_profit_CN'] = closed['result_cash_neutral'] > 0\n",
    "closed['is_profit_BN'] = closed['result_beta_neutral'] > 0\n"
   ]
  },
  {
   "cell_type": "code",
   "execution_count": 934,
   "id": "adbb795f",
   "metadata": {
    "ExecuteTime": {
     "end_time": "2022-08-09T16:09:00.130589Z",
     "start_time": "2022-08-09T16:09:00.106594Z"
    },
    "hideCode": false,
    "hidePrompt": false
   },
   "outputs": [],
   "source": [
    "result = closed[['result', 'result_beta_neutral']].mean()\n",
    "accuracy = closed[['is_profit','is_profit_BN']].mean()\n",
    "days_open = closed.days_open.mean()\n",
    "coint_op = closed.shape[0]"
   ]
  },
  {
   "cell_type": "code",
   "execution_count": 935,
   "id": "89646b36",
   "metadata": {
    "ExecuteTime": {
     "end_time": "2022-08-09T16:09:02.979841Z",
     "start_time": "2022-08-09T16:09:02.955805Z"
    }
   },
   "outputs": [
    {
     "data": {
      "text/html": [
       "<div>\n",
       "<style scoped>\n",
       "    .dataframe tbody tr th:only-of-type {\n",
       "        vertical-align: middle;\n",
       "    }\n",
       "\n",
       "    .dataframe tbody tr th {\n",
       "        vertical-align: top;\n",
       "    }\n",
       "\n",
       "    .dataframe thead th {\n",
       "        text-align: right;\n",
       "    }\n",
       "</style>\n",
       "<table border=\"1\" class=\"dataframe\">\n",
       "  <thead>\n",
       "    <tr style=\"text-align: right;\">\n",
       "      <th></th>\n",
       "      <th>result</th>\n",
       "      <th>accuracy</th>\n",
       "      <th>days open</th>\n",
       "      <th>count</th>\n",
       "    </tr>\n",
       "  </thead>\n",
       "  <tbody>\n",
       "    <tr>\n",
       "      <th>normal</th>\n",
       "      <td>0.008546</td>\n",
       "      <td>0.671329</td>\n",
       "      <td>29.681818</td>\n",
       "      <td>286</td>\n",
       "    </tr>\n",
       "    <tr>\n",
       "      <th>beta_neutral</th>\n",
       "      <td>0.030422</td>\n",
       "      <td>0.643357</td>\n",
       "      <td>29.681818</td>\n",
       "      <td>286</td>\n",
       "    </tr>\n",
       "  </tbody>\n",
       "</table>\n",
       "</div>"
      ],
      "text/plain": [
       "                result  accuracy  days open  count\n",
       "normal        0.008546  0.671329  29.681818    286\n",
       "beta_neutral  0.030422  0.643357  29.681818    286"
      ]
     },
     "execution_count": 935,
     "metadata": {},
     "output_type": "execute_result"
    }
   ],
   "source": [
    "result_table = {'result': result.values,\n",
    "                'accuracy': accuracy.values,\n",
    "                'days open': days_open,\n",
    "                'count': coint_op\n",
    "               }\n",
    "pd.DataFrame(result_table, index=['normal', 'beta_neutral'])"
   ]
  },
  {
   "cell_type": "code",
   "execution_count": 936,
   "id": "03181299",
   "metadata": {
    "ExecuteTime": {
     "end_time": "2022-08-09T16:09:07.998587Z",
     "start_time": "2022-08-09T16:09:07.974553Z"
    },
    "hideCode": false,
    "hidePrompt": false
   },
   "outputs": [
    {
     "data": {
      "text/html": [
       "<div>\n",
       "<style scoped>\n",
       "    .dataframe tbody tr th:only-of-type {\n",
       "        vertical-align: middle;\n",
       "    }\n",
       "\n",
       "    .dataframe tbody tr th {\n",
       "        vertical-align: top;\n",
       "    }\n",
       "\n",
       "    .dataframe thead th {\n",
       "        text-align: right;\n",
       "    }\n",
       "</style>\n",
       "<table border=\"1\" class=\"dataframe\">\n",
       "  <thead>\n",
       "    <tr style=\"text-align: right;\">\n",
       "      <th></th>\n",
       "      <th>result</th>\n",
       "      <th>accuracy</th>\n",
       "      <th>days open</th>\n",
       "      <th>count</th>\n",
       "    </tr>\n",
       "  </thead>\n",
       "  <tbody>\n",
       "    <tr>\n",
       "      <th>normal</th>\n",
       "      <td>0.008546</td>\n",
       "      <td>0.671329</td>\n",
       "      <td>29.681818</td>\n",
       "      <td>286</td>\n",
       "    </tr>\n",
       "    <tr>\n",
       "      <th>beta_neutral</th>\n",
       "      <td>0.030422</td>\n",
       "      <td>0.643357</td>\n",
       "      <td>29.681818</td>\n",
       "      <td>286</td>\n",
       "    </tr>\n",
       "  </tbody>\n",
       "</table>\n",
       "</div>"
      ],
      "text/plain": [
       "                result  accuracy  days open  count\n",
       "normal        0.008546  0.671329  29.681818    286\n",
       "beta_neutral  0.030422  0.643357  29.681818    286"
      ]
     },
     "execution_count": 936,
     "metadata": {},
     "output_type": "execute_result"
    }
   ],
   "source": [
    "result_table = {'result': result.values,\n",
    "                'accuracy': accuracy.values,\n",
    "                'days open': days_open,\n",
    "                'count': coint_op\n",
    "               }\n",
    "pd.DataFrame(result_table, index=['normal', 'beta_neutral'])"
   ]
  },
  {
   "cell_type": "code",
   "execution_count": 937,
   "id": "0b028e54",
   "metadata": {
    "ExecuteTime": {
     "end_time": "2022-08-09T16:09:16.614609Z",
     "start_time": "2022-08-09T16:09:16.328888Z"
    },
    "hideCode": false,
    "hidePrompt": false,
    "scrolled": false
   },
   "outputs": [
    {
     "data": {
      "image/png": "[encoded data removed]",
      "text/plain": [
       "<Figure size 1080x576 with 1 Axes>"
      ]
     },
     "metadata": {},
     "output_type": "display_data"
    }
   ],
   "source": [
    "sns.kdeplot(x=closed.result, color='blue', label='normal', bw_adjust=5, cut=0, fill=True)\n",
    "# sns.kdeplot(x=closed.result_cash_neutral, color='red', label='cash neutral', bw_adjust=5, cut=0, fill=True)\n",
    "sns.kdeplot(x=closed.result_beta_neutral, color='green', label='beta neutral', bw_adjust=5, cut=0, fill=True)\n",
    "\n",
    "plt.axvline(x=0, linestyle='dotted')\n",
    "plt.legend()\n",
    "plt.show()"
   ]
  },
  {
   "cell_type": "code",
   "execution_count": 938,
   "id": "3367e2e3",
   "metadata": {
    "ExecuteTime": {
     "end_time": "2022-08-09T16:09:21.982202Z",
     "start_time": "2022-08-09T16:09:21.958164Z"
    },
    "hideCode": false,
    "hidePrompt": false
   },
   "outputs": [
    {
     "data": {
      "text/html": [
       "<div>\n",
       "<style scoped>\n",
       "    .dataframe tbody tr th:only-of-type {\n",
       "        vertical-align: middle;\n",
       "    }\n",
       "\n",
       "    .dataframe tbody tr th {\n",
       "        vertical-align: top;\n",
       "    }\n",
       "\n",
       "    .dataframe thead th {\n",
       "        text-align: right;\n",
       "    }\n",
       "</style>\n",
       "<table border=\"1\" class=\"dataframe\">\n",
       "  <thead>\n",
       "    <tr style=\"text-align: right;\">\n",
       "      <th></th>\n",
       "      <th>mean</th>\n",
       "      <th>count</th>\n",
       "    </tr>\n",
       "  </thead>\n",
       "  <tbody>\n",
       "    <tr>\n",
       "      <th>result</th>\n",
       "      <td>0.050851</td>\n",
       "      <td>171.0</td>\n",
       "    </tr>\n",
       "    <tr>\n",
       "      <th>result_beta_neutral</th>\n",
       "      <td>0.105813</td>\n",
       "      <td>171.0</td>\n",
       "    </tr>\n",
       "    <tr>\n",
       "      <th>is_profit</th>\n",
       "      <td>0.877193</td>\n",
       "      <td>171.0</td>\n",
       "    </tr>\n",
       "    <tr>\n",
       "      <th>is_profit_BN</th>\n",
       "      <td>0.859649</td>\n",
       "      <td>171.0</td>\n",
       "    </tr>\n",
       "  </tbody>\n",
       "</table>\n",
       "</div>"
      ],
      "text/plain": [
       "                         mean  count\n",
       "result               0.050851  171.0\n",
       "result_beta_neutral  0.105813  171.0\n",
       "is_profit            0.877193  171.0\n",
       "is_profit_BN         0.859649  171.0"
      ]
     },
     "execution_count": 938,
     "metadata": {},
     "output_type": "execute_result"
    }
   ],
   "source": [
    "# Close by residual\n",
    "    closed_by_residual = closed.loc[abs(df.last_residual) < df.close_limit,['result', 'result_beta_neutral', 'is_profit','is_profit_BN']].agg(['mean', 'count']).T\n",
    "closed_by_residual"
   ]
  },
  {
   "cell_type": "code",
   "execution_count": 939,
   "id": "1cf0543b",
   "metadata": {
    "ExecuteTime": {
     "end_time": "2022-08-09T16:09:38.541666Z",
     "start_time": "2022-08-09T16:09:38.509629Z"
    },
    "hideCode": false,
    "hidePrompt": false
   },
   "outputs": [
    {
     "data": {
      "text/html": [
       "<div>\n",
       "<style scoped>\n",
       "    .dataframe tbody tr th:only-of-type {\n",
       "        vertical-align: middle;\n",
       "    }\n",
       "\n",
       "    .dataframe tbody tr th {\n",
       "        vertical-align: top;\n",
       "    }\n",
       "\n",
       "    .dataframe thead th {\n",
       "        text-align: right;\n",
       "    }\n",
       "</style>\n",
       "<table border=\"1\" class=\"dataframe\">\n",
       "  <thead>\n",
       "    <tr style=\"text-align: right;\">\n",
       "      <th></th>\n",
       "      <th>sum</th>\n",
       "      <th>count</th>\n",
       "    </tr>\n",
       "  </thead>\n",
       "  <tbody>\n",
       "    <tr>\n",
       "      <th>result</th>\n",
       "      <td>0.0</td>\n",
       "      <td>0.0</td>\n",
       "    </tr>\n",
       "    <tr>\n",
       "      <th>result_beta_neutral</th>\n",
       "      <td>0.0</td>\n",
       "      <td>0.0</td>\n",
       "    </tr>\n",
       "    <tr>\n",
       "      <th>is_profit</th>\n",
       "      <td>0.0</td>\n",
       "      <td>0.0</td>\n",
       "    </tr>\n",
       "    <tr>\n",
       "      <th>is_profit_BN</th>\n",
       "      <td>0.0</td>\n",
       "      <td>0.0</td>\n",
       "    </tr>\n",
       "  </tbody>\n",
       "</table>\n",
       "</div>"
      ],
      "text/plain": [
       "                     sum  count\n",
       "result               0.0    0.0\n",
       "result_beta_neutral  0.0    0.0\n",
       "is_profit            0.0    0.0\n",
       "is_profit_BN         0.0    0.0"
      ]
     },
     "execution_count": 939,
     "metadata": {},
     "output_type": "execute_result"
    }
   ],
   "source": [
    "# stop by stop\n",
    "closed_by_stop = closed.loc[abs(df.last_residual) > df.stop_limit,['result', 'result_beta_neutral', 'is_profit','is_profit_BN']].agg([sum, 'count']).T\n",
    "closed_by_stop"
   ]
  },
  {
   "cell_type": "code",
   "execution_count": 940,
   "id": "00870c6b",
   "metadata": {
    "ExecuteTime": {
     "end_time": "2022-08-09T16:09:39.156366Z",
     "start_time": "2022-08-09T16:09:39.132369Z"
    },
    "hideCode": false,
    "hidePrompt": false
   },
   "outputs": [
    {
     "data": {
      "text/html": [
       "<div>\n",
       "<style scoped>\n",
       "    .dataframe tbody tr th:only-of-type {\n",
       "        vertical-align: middle;\n",
       "    }\n",
       "\n",
       "    .dataframe tbody tr th {\n",
       "        vertical-align: top;\n",
       "    }\n",
       "\n",
       "    .dataframe thead th {\n",
       "        text-align: right;\n",
       "    }\n",
       "</style>\n",
       "<table border=\"1\" class=\"dataframe\">\n",
       "  <thead>\n",
       "    <tr style=\"text-align: right;\">\n",
       "      <th></th>\n",
       "      <th>sum</th>\n",
       "      <th>count</th>\n",
       "    </tr>\n",
       "  </thead>\n",
       "  <tbody>\n",
       "    <tr>\n",
       "      <th>result</th>\n",
       "      <td>0.0</td>\n",
       "      <td>0.0</td>\n",
       "    </tr>\n",
       "    <tr>\n",
       "      <th>result_beta_neutral</th>\n",
       "      <td>0.0</td>\n",
       "      <td>0.0</td>\n",
       "    </tr>\n",
       "    <tr>\n",
       "      <th>is_profit</th>\n",
       "      <td>0.0</td>\n",
       "      <td>0.0</td>\n",
       "    </tr>\n",
       "    <tr>\n",
       "      <th>is_profit_BN</th>\n",
       "      <td>0.0</td>\n",
       "      <td>0.0</td>\n",
       "    </tr>\n",
       "  </tbody>\n",
       "</table>\n",
       "</div>"
      ],
      "text/plain": [
       "                     sum  count\n",
       "result               0.0    0.0\n",
       "result_beta_neutral  0.0    0.0\n",
       "is_profit            0.0    0.0\n",
       "is_profit_BN         0.0    0.0"
      ]
     },
     "execution_count": 940,
     "metadata": {},
     "output_type": "execute_result"
    }
   ],
   "source": [
    "# stop by halflife\n",
    "closed_by_halflife = closed.loc[closed.days_open > closed.halflife, ['result', 'result_beta_neutral', 'is_profit','is_profit_BN']].agg([sum, 'count']).T\n",
    "closed_by_halflife"
   ]
  },
  {
   "cell_type": "code",
   "execution_count": 941,
   "id": "e736dfec",
   "metadata": {
    "ExecuteTime": {
     "end_time": "2022-08-09T16:09:39.697508Z",
     "start_time": "2022-08-09T16:09:39.649015Z"
    }
   },
   "outputs": [
    {
     "data": {
      "text/html": [
       "<div>\n",
       "<style scoped>\n",
       "    .dataframe tbody tr th:only-of-type {\n",
       "        vertical-align: middle;\n",
       "    }\n",
       "\n",
       "    .dataframe tbody tr th {\n",
       "        vertical-align: top;\n",
       "    }\n",
       "\n",
       "    .dataframe thead th {\n",
       "        text-align: right;\n",
       "    }\n",
       "</style>\n",
       "<table border=\"1\" class=\"dataframe\">\n",
       "  <thead>\n",
       "    <tr style=\"text-align: right;\">\n",
       "      <th></th>\n",
       "      <th>date</th>\n",
       "      <th>pair</th>\n",
       "      <th>status</th>\n",
       "      <th>price_fst_stock</th>\n",
       "      <th>price_scnd_stock</th>\n",
       "      <th>beta_open</th>\n",
       "      <th>beta_close</th>\n",
       "      <th>last_residual</th>\n",
       "      <th>std_residual</th>\n",
       "      <th>std_open_residual</th>\n",
       "      <th>...</th>\n",
       "      <th>halflife</th>\n",
       "      <th>days_open</th>\n",
       "      <th>data_ini</th>\n",
       "      <th>data_fin</th>\n",
       "      <th>setor</th>\n",
       "      <th>sorted_pair</th>\n",
       "      <th>result</th>\n",
       "      <th>result_beta_neutral</th>\n",
       "      <th>is_profit</th>\n",
       "      <th>is_profit_BN</th>\n",
       "    </tr>\n",
       "  </thead>\n",
       "  <tbody>\n",
       "    <tr>\n",
       "      <th>7</th>\n",
       "      <td>2019-07-15</td>\n",
       "      <td>(AZUL4, GOLL4)</td>\n",
       "      <td>close</td>\n",
       "      <td>49.36</td>\n",
       "      <td>38.30</td>\n",
       "      <td>0.985577</td>\n",
       "      <td>VAR CLOSE</td>\n",
       "      <td>0.194602</td>\n",
       "      <td>1.308762</td>\n",
       "      <td>1.262734</td>\n",
       "      <td>...</td>\n",
       "      <td>5000.0</td>\n",
       "      <td>7</td>\n",
       "      <td>2019-07-01</td>\n",
       "      <td>2019-12-31</td>\n",
       "      <td>Aéreas</td>\n",
       "      <td>(AZUL4, GOLL4)</td>\n",
       "      <td>0.037374</td>\n",
       "      <td>0.038440</td>\n",
       "      <td>True</td>\n",
       "      <td>True</td>\n",
       "    </tr>\n",
       "    <tr>\n",
       "      <th>106</th>\n",
       "      <td>2019-12-27</td>\n",
       "      <td>(AZUL4, GOLL4)</td>\n",
       "      <td>close</td>\n",
       "      <td>57.80</td>\n",
       "      <td>36.92</td>\n",
       "      <td>0.947513</td>\n",
       "      <td>1.2213577572059122</td>\n",
       "      <td>6.151639</td>\n",
       "      <td>2.780245</td>\n",
       "      <td>1.258947</td>\n",
       "      <td>...</td>\n",
       "      <td>5000.0</td>\n",
       "      <td>98</td>\n",
       "      <td>2019-07-01</td>\n",
       "      <td>2019-12-31</td>\n",
       "      <td>Aéreas</td>\n",
       "      <td>(AZUL4, GOLL4)</td>\n",
       "      <td>-0.155521</td>\n",
       "      <td>-0.151790</td>\n",
       "      <td>False</td>\n",
       "      <td>False</td>\n",
       "    </tr>\n",
       "    <tr>\n",
       "      <th>184</th>\n",
       "      <td>2019-08-22</td>\n",
       "      <td>(BRFS3, JBSS3)</td>\n",
       "      <td>close</td>\n",
       "      <td>39.56</td>\n",
       "      <td>25.20</td>\n",
       "      <td>0.912186</td>\n",
       "      <td>VAR CLOSE</td>\n",
       "      <td>3.011260</td>\n",
       "      <td>1.597168</td>\n",
       "      <td>1.596046</td>\n",
       "      <td>...</td>\n",
       "      <td>11000.0</td>\n",
       "      <td>9</td>\n",
       "      <td>2019-07-01</td>\n",
       "      <td>2019-12-31</td>\n",
       "      <td>Alimentos e Bebidas</td>\n",
       "      <td>(BRFS3, JBSS3)</td>\n",
       "      <td>0.021968</td>\n",
       "      <td>0.016875</td>\n",
       "      <td>True</td>\n",
       "      <td>True</td>\n",
       "    </tr>\n",
       "    <tr>\n",
       "      <th>199</th>\n",
       "      <td>2019-11-07</td>\n",
       "      <td>(CCRO3, RAIL3)</td>\n",
       "      <td>close</td>\n",
       "      <td>17.49</td>\n",
       "      <td>23.75</td>\n",
       "      <td>0.729863</td>\n",
       "      <td>VAR CLOSE</td>\n",
       "      <td>1.295075</td>\n",
       "      <td>0.736595</td>\n",
       "      <td>0.688756</td>\n",
       "      <td>...</td>\n",
       "      <td>7000.0</td>\n",
       "      <td>14</td>\n",
       "      <td>2019-07-01</td>\n",
       "      <td>2019-12-31</td>\n",
       "      <td>Bens Industriais</td>\n",
       "      <td>(CCRO3, RAIL3)</td>\n",
       "      <td>0.015799</td>\n",
       "      <td>0.006543</td>\n",
       "      <td>True</td>\n",
       "      <td>True</td>\n",
       "    </tr>\n",
       "    <tr>\n",
       "      <th>243</th>\n",
       "      <td>2019-12-27</td>\n",
       "      <td>(RAIL3, WEGE3)</td>\n",
       "      <td>close</td>\n",
       "      <td>26.84</td>\n",
       "      <td>17.10</td>\n",
       "      <td>2.012557</td>\n",
       "      <td>1.1075611421254958</td>\n",
       "      <td>-1.211327</td>\n",
       "      <td>1.166806</td>\n",
       "      <td>0.966243</td>\n",
       "      <td>...</td>\n",
       "      <td>10000.0</td>\n",
       "      <td>43</td>\n",
       "      <td>2019-07-01</td>\n",
       "      <td>2019-12-31</td>\n",
       "      <td>Bens Industriais</td>\n",
       "      <td>(RAIL3, WEGE3)</td>\n",
       "      <td>-0.158446</td>\n",
       "      <td>-0.476541</td>\n",
       "      <td>False</td>\n",
       "      <td>False</td>\n",
       "    </tr>\n",
       "    <tr>\n",
       "      <th>...</th>\n",
       "      <td>...</td>\n",
       "      <td>...</td>\n",
       "      <td>...</td>\n",
       "      <td>...</td>\n",
       "      <td>...</td>\n",
       "      <td>...</td>\n",
       "      <td>...</td>\n",
       "      <td>...</td>\n",
       "      <td>...</td>\n",
       "      <td>...</td>\n",
       "      <td>...</td>\n",
       "      <td>...</td>\n",
       "      <td>...</td>\n",
       "      <td>...</td>\n",
       "      <td>...</td>\n",
       "      <td>...</td>\n",
       "      <td>...</td>\n",
       "      <td>...</td>\n",
       "      <td>...</td>\n",
       "      <td>...</td>\n",
       "      <td>...</td>\n",
       "    </tr>\n",
       "    <tr>\n",
       "      <th>11633</th>\n",
       "      <td>2022-06-09</td>\n",
       "      <td>(LREN3, VIIA3)</td>\n",
       "      <td>close</td>\n",
       "      <td>25.07</td>\n",
       "      <td>2.91</td>\n",
       "      <td>1.333153</td>\n",
       "      <td>1.3051668765911315</td>\n",
       "      <td>0.606552</td>\n",
       "      <td>1.530042</td>\n",
       "      <td>1.570381</td>\n",
       "      <td>...</td>\n",
       "      <td>10000.0</td>\n",
       "      <td>4</td>\n",
       "      <td>2019-07-01</td>\n",
       "      <td>2019-12-31</td>\n",
       "      <td>Varejo</td>\n",
       "      <td>(LREN3, VIIA3)</td>\n",
       "      <td>0.038367</td>\n",
       "      <td>0.014087</td>\n",
       "      <td>True</td>\n",
       "      <td>True</td>\n",
       "    </tr>\n",
       "    <tr>\n",
       "      <th>11671</th>\n",
       "      <td>2022-06-30</td>\n",
       "      <td>(PETZ3, ALPA4)</td>\n",
       "      <td>close</td>\n",
       "      <td>9.93</td>\n",
       "      <td>19.14</td>\n",
       "      <td>0.286549</td>\n",
       "      <td>0.323871299485856</td>\n",
       "      <td>-3.477779</td>\n",
       "      <td>1.865421</td>\n",
       "      <td>1.575374</td>\n",
       "      <td>...</td>\n",
       "      <td>9000.0</td>\n",
       "      <td>37</td>\n",
       "      <td>2022-01-01</td>\n",
       "      <td>2022-07-01</td>\n",
       "      <td>Varejo</td>\n",
       "      <td>(ALPA4, PETZ3)</td>\n",
       "      <td>-0.081810</td>\n",
       "      <td>-0.145936</td>\n",
       "      <td>False</td>\n",
       "      <td>False</td>\n",
       "    </tr>\n",
       "    <tr>\n",
       "      <th>11691</th>\n",
       "      <td>2022-05-03</td>\n",
       "      <td>(VIIA3, CVCB3)</td>\n",
       "      <td>close</td>\n",
       "      <td>2.86</td>\n",
       "      <td>12.47</td>\n",
       "      <td>0.773178</td>\n",
       "      <td>0.7837318136042812</td>\n",
       "      <td>-0.589983</td>\n",
       "      <td>1.390562</td>\n",
       "      <td>1.518323</td>\n",
       "      <td>...</td>\n",
       "      <td>13000.0</td>\n",
       "      <td>19</td>\n",
       "      <td>2019-07-01</td>\n",
       "      <td>2019-12-31</td>\n",
       "      <td>Varejo</td>\n",
       "      <td>(CVCB3, VIIA3)</td>\n",
       "      <td>-0.085623</td>\n",
       "      <td>-0.156579</td>\n",
       "      <td>False</td>\n",
       "      <td>False</td>\n",
       "    </tr>\n",
       "    <tr>\n",
       "      <th>11733</th>\n",
       "      <td>2022-04-26</td>\n",
       "      <td>(VIIA3, LREN3)</td>\n",
       "      <td>close</td>\n",
       "      <td>3.04</td>\n",
       "      <td>24.31</td>\n",
       "      <td>0.645305</td>\n",
       "      <td>0.6579410566154967</td>\n",
       "      <td>-0.416682</td>\n",
       "      <td>1.170359</td>\n",
       "      <td>1.150397</td>\n",
       "      <td>...</td>\n",
       "      <td>8000.0</td>\n",
       "      <td>14</td>\n",
       "      <td>2019-07-01</td>\n",
       "      <td>2019-12-31</td>\n",
       "      <td>Varejo</td>\n",
       "      <td>(LREN3, VIIA3)</td>\n",
       "      <td>-0.153788</td>\n",
       "      <td>-0.218919</td>\n",
       "      <td>False</td>\n",
       "      <td>False</td>\n",
       "    </tr>\n",
       "    <tr>\n",
       "      <th>11740</th>\n",
       "      <td>2022-06-10</td>\n",
       "      <td>(VIIA3, LREN3)</td>\n",
       "      <td>close</td>\n",
       "      <td>2.83</td>\n",
       "      <td>23.93</td>\n",
       "      <td>0.691625</td>\n",
       "      <td>VAR CLOSE</td>\n",
       "      <td>-0.003470</td>\n",
       "      <td>1.124270</td>\n",
       "      <td>1.130945</td>\n",
       "      <td>...</td>\n",
       "      <td>10000.0</td>\n",
       "      <td>6</td>\n",
       "      <td>2019-07-01</td>\n",
       "      <td>2019-12-31</td>\n",
       "      <td>Varejo</td>\n",
       "      <td>(LREN3, VIIA3)</td>\n",
       "      <td>0.032315</td>\n",
       "      <td>-0.014576</td>\n",
       "      <td>True</td>\n",
       "      <td>False</td>\n",
       "    </tr>\n",
       "  </tbody>\n",
       "</table>\n",
       "<p>286 rows × 26 columns</p>\n",
       "</div>"
      ],
      "text/plain": [
       "            date            pair status  price_fst_stock  price_scnd_stock  \\\n",
       "7     2019-07-15  (AZUL4, GOLL4)  close            49.36             38.30   \n",
       "106   2019-12-27  (AZUL4, GOLL4)  close            57.80             36.92   \n",
       "184   2019-08-22  (BRFS3, JBSS3)  close            39.56             25.20   \n",
       "199   2019-11-07  (CCRO3, RAIL3)  close            17.49             23.75   \n",
       "243   2019-12-27  (RAIL3, WEGE3)  close            26.84             17.10   \n",
       "...          ...             ...    ...              ...               ...   \n",
       "11633 2022-06-09  (LREN3, VIIA3)  close            25.07              2.91   \n",
       "11671 2022-06-30  (PETZ3, ALPA4)  close             9.93             19.14   \n",
       "11691 2022-05-03  (VIIA3, CVCB3)  close             2.86             12.47   \n",
       "11733 2022-04-26  (VIIA3, LREN3)  close             3.04             24.31   \n",
       "11740 2022-06-10  (VIIA3, LREN3)  close             2.83             23.93   \n",
       "\n",
       "       beta_open          beta_close  last_residual  std_residual  \\\n",
       "7       0.985577           VAR CLOSE       0.194602      1.308762   \n",
       "106     0.947513  1.2213577572059122       6.151639      2.780245   \n",
       "184     0.912186           VAR CLOSE       3.011260      1.597168   \n",
       "199     0.729863           VAR CLOSE       1.295075      0.736595   \n",
       "243     2.012557  1.1075611421254958      -1.211327      1.166806   \n",
       "...          ...                 ...            ...           ...   \n",
       "11633   1.333153  1.3051668765911315       0.606552      1.530042   \n",
       "11671   0.286549   0.323871299485856      -3.477779      1.865421   \n",
       "11691   0.773178  0.7837318136042812      -0.589983      1.390562   \n",
       "11733   0.645305  0.6579410566154967      -0.416682      1.170359   \n",
       "11740   0.691625           VAR CLOSE      -0.003470      1.124270   \n",
       "\n",
       "       std_open_residual  ...  halflife  days_open   data_ini   data_fin  \\\n",
       "7               1.262734  ...    5000.0          7 2019-07-01 2019-12-31   \n",
       "106             1.258947  ...    5000.0         98 2019-07-01 2019-12-31   \n",
       "184             1.596046  ...   11000.0          9 2019-07-01 2019-12-31   \n",
       "199             0.688756  ...    7000.0         14 2019-07-01 2019-12-31   \n",
       "243             0.966243  ...   10000.0         43 2019-07-01 2019-12-31   \n",
       "...                  ...  ...       ...        ...        ...        ...   \n",
       "11633           1.570381  ...   10000.0          4 2019-07-01 2019-12-31   \n",
       "11671           1.575374  ...    9000.0         37 2022-01-01 2022-07-01   \n",
       "11691           1.518323  ...   13000.0         19 2019-07-01 2019-12-31   \n",
       "11733           1.150397  ...    8000.0         14 2019-07-01 2019-12-31   \n",
       "11740           1.130945  ...   10000.0          6 2019-07-01 2019-12-31   \n",
       "\n",
       "                     setor     sorted_pair    result  result_beta_neutral  \\\n",
       "7                   Aéreas  (AZUL4, GOLL4)  0.037374             0.038440   \n",
       "106                 Aéreas  (AZUL4, GOLL4) -0.155521            -0.151790   \n",
       "184    Alimentos e Bebidas  (BRFS3, JBSS3)  0.021968             0.016875   \n",
       "199       Bens Industriais  (CCRO3, RAIL3)  0.015799             0.006543   \n",
       "243       Bens Industriais  (RAIL3, WEGE3) -0.158446            -0.476541   \n",
       "...                    ...             ...       ...                  ...   \n",
       "11633               Varejo  (LREN3, VIIA3)  0.038367             0.014087   \n",
       "11671               Varejo  (ALPA4, PETZ3) -0.081810            -0.145936   \n",
       "11691               Varejo  (CVCB3, VIIA3) -0.085623            -0.156579   \n",
       "11733               Varejo  (LREN3, VIIA3) -0.153788            -0.218919   \n",
       "11740               Varejo  (LREN3, VIIA3)  0.032315            -0.014576   \n",
       "\n",
       "      is_profit is_profit_BN  \n",
       "7          True         True  \n",
       "106       False        False  \n",
       "184        True         True  \n",
       "199        True         True  \n",
       "243       False        False  \n",
       "...         ...          ...  \n",
       "11633      True         True  \n",
       "11671     False        False  \n",
       "11691     False        False  \n",
       "11733     False        False  \n",
       "11740      True        False  \n",
       "\n",
       "[286 rows x 26 columns]"
      ]
     },
     "execution_count": 941,
     "metadata": {},
     "output_type": "execute_result"
    }
   ],
   "source": [
    "closed"
   ]
  },
  {
   "cell_type": "code",
   "execution_count": 942,
   "id": "62cf51c3",
   "metadata": {
    "ExecuteTime": {
     "end_time": "2022-08-09T16:09:40.188730Z",
     "start_time": "2022-08-09T16:09:40.172792Z"
    },
    "hideCode": false,
    "hidePrompt": false
   },
   "outputs": [],
   "source": [
    "# closed = closed.loc[closed.halflife.between(0,21)]"
   ]
  },
  {
   "cell_type": "code",
   "execution_count": 943,
   "id": "6fa62305",
   "metadata": {
    "ExecuteTime": {
     "end_time": "2022-08-09T16:09:40.651740Z",
     "start_time": "2022-08-09T16:09:40.635712Z"
    },
    "hideCode": false,
    "hidePrompt": false
   },
   "outputs": [
    {
     "data": {
      "text/html": [
       "<div>\n",
       "<style scoped>\n",
       "    .dataframe tbody tr th:only-of-type {\n",
       "        vertical-align: middle;\n",
       "    }\n",
       "\n",
       "    .dataframe tbody tr th {\n",
       "        vertical-align: top;\n",
       "    }\n",
       "\n",
       "    .dataframe thead th {\n",
       "        text-align: right;\n",
       "    }\n",
       "</style>\n",
       "<table border=\"1\" class=\"dataframe\">\n",
       "  <thead>\n",
       "    <tr style=\"text-align: right;\">\n",
       "      <th></th>\n",
       "      <th>date</th>\n",
       "      <th>variable</th>\n",
       "      <th>accuracy</th>\n",
       "    </tr>\n",
       "  </thead>\n",
       "  <tbody>\n",
       "    <tr>\n",
       "      <th>0</th>\n",
       "      <td>2019-07-31</td>\n",
       "      <td>normal</td>\n",
       "      <td>1.000000</td>\n",
       "    </tr>\n",
       "    <tr>\n",
       "      <th>1</th>\n",
       "      <td>2020-01-31</td>\n",
       "      <td>normal</td>\n",
       "      <td>0.683333</td>\n",
       "    </tr>\n",
       "    <tr>\n",
       "      <th>2</th>\n",
       "      <td>2020-07-31</td>\n",
       "      <td>normal</td>\n",
       "      <td>0.811594</td>\n",
       "    </tr>\n",
       "    <tr>\n",
       "      <th>3</th>\n",
       "      <td>2021-01-31</td>\n",
       "      <td>normal</td>\n",
       "      <td>0.629630</td>\n",
       "    </tr>\n",
       "    <tr>\n",
       "      <th>4</th>\n",
       "      <td>2021-07-31</td>\n",
       "      <td>normal</td>\n",
       "      <td>0.763158</td>\n",
       "    </tr>\n",
       "    <tr>\n",
       "      <th>5</th>\n",
       "      <td>2022-01-31</td>\n",
       "      <td>normal</td>\n",
       "      <td>0.428571</td>\n",
       "    </tr>\n",
       "    <tr>\n",
       "      <th>6</th>\n",
       "      <td>2022-07-31</td>\n",
       "      <td>normal</td>\n",
       "      <td>0.558140</td>\n",
       "    </tr>\n",
       "    <tr>\n",
       "      <th>7</th>\n",
       "      <td>2019-07-31</td>\n",
       "      <td>beta neutral</td>\n",
       "      <td>1.000000</td>\n",
       "    </tr>\n",
       "    <tr>\n",
       "      <th>8</th>\n",
       "      <td>2020-01-31</td>\n",
       "      <td>beta neutral</td>\n",
       "      <td>0.616667</td>\n",
       "    </tr>\n",
       "    <tr>\n",
       "      <th>9</th>\n",
       "      <td>2020-07-31</td>\n",
       "      <td>beta neutral</td>\n",
       "      <td>0.753623</td>\n",
       "    </tr>\n",
       "    <tr>\n",
       "      <th>10</th>\n",
       "      <td>2021-01-31</td>\n",
       "      <td>beta neutral</td>\n",
       "      <td>0.629630</td>\n",
       "    </tr>\n",
       "    <tr>\n",
       "      <th>11</th>\n",
       "      <td>2021-07-31</td>\n",
       "      <td>beta neutral</td>\n",
       "      <td>0.763158</td>\n",
       "    </tr>\n",
       "    <tr>\n",
       "      <th>12</th>\n",
       "      <td>2022-01-31</td>\n",
       "      <td>beta neutral</td>\n",
       "      <td>0.500000</td>\n",
       "    </tr>\n",
       "    <tr>\n",
       "      <th>13</th>\n",
       "      <td>2022-07-31</td>\n",
       "      <td>beta neutral</td>\n",
       "      <td>0.488372</td>\n",
       "    </tr>\n",
       "  </tbody>\n",
       "</table>\n",
       "</div>"
      ],
      "text/plain": [
       "          date      variable  accuracy\n",
       "0   2019-07-31        normal  1.000000\n",
       "1   2020-01-31        normal  0.683333\n",
       "2   2020-07-31        normal  0.811594\n",
       "3   2021-01-31        normal  0.629630\n",
       "4   2021-07-31        normal  0.763158\n",
       "5   2022-01-31        normal  0.428571\n",
       "6   2022-07-31        normal  0.558140\n",
       "7   2019-07-31  beta neutral  1.000000\n",
       "8   2020-01-31  beta neutral  0.616667\n",
       "9   2020-07-31  beta neutral  0.753623\n",
       "10  2021-01-31  beta neutral  0.629630\n",
       "11  2021-07-31  beta neutral  0.763158\n",
       "12  2022-01-31  beta neutral  0.500000\n",
       "13  2022-07-31  beta neutral  0.488372"
      ]
     },
     "execution_count": 943,
     "metadata": {},
     "output_type": "execute_result"
    }
   ],
   "source": [
    "halfyear_accuracy"
   ]
  },
  {
   "cell_type": "code",
   "execution_count": 944,
   "id": "6f4fb24d",
   "metadata": {
    "ExecuteTime": {
     "end_time": "2022-08-09T16:09:41.584583Z",
     "start_time": "2022-08-09T16:09:41.560552Z"
    }
   },
   "outputs": [
    {
     "data": {
      "text/html": [
       "<div>\n",
       "<style scoped>\n",
       "    .dataframe tbody tr th:only-of-type {\n",
       "        vertical-align: middle;\n",
       "    }\n",
       "\n",
       "    .dataframe tbody tr th {\n",
       "        vertical-align: top;\n",
       "    }\n",
       "\n",
       "    .dataframe thead th {\n",
       "        text-align: right;\n",
       "    }\n",
       "</style>\n",
       "<table border=\"1\" class=\"dataframe\">\n",
       "  <thead>\n",
       "    <tr style=\"text-align: right;\">\n",
       "      <th></th>\n",
       "      <th>is_profit</th>\n",
       "      <th>is_profit_BN</th>\n",
       "    </tr>\n",
       "    <tr>\n",
       "      <th>date</th>\n",
       "      <th></th>\n",
       "      <th></th>\n",
       "    </tr>\n",
       "  </thead>\n",
       "  <tbody>\n",
       "    <tr>\n",
       "      <th>2019-07-31</th>\n",
       "      <td>6</td>\n",
       "      <td>6</td>\n",
       "    </tr>\n",
       "    <tr>\n",
       "      <th>2020-01-31</th>\n",
       "      <td>59</td>\n",
       "      <td>59</td>\n",
       "    </tr>\n",
       "    <tr>\n",
       "      <th>2020-07-31</th>\n",
       "      <td>72</td>\n",
       "      <td>72</td>\n",
       "    </tr>\n",
       "    <tr>\n",
       "      <th>2021-01-31</th>\n",
       "      <td>56</td>\n",
       "      <td>56</td>\n",
       "    </tr>\n",
       "    <tr>\n",
       "      <th>2021-07-31</th>\n",
       "      <td>37</td>\n",
       "      <td>37</td>\n",
       "    </tr>\n",
       "    <tr>\n",
       "      <th>2022-01-31</th>\n",
       "      <td>15</td>\n",
       "      <td>15</td>\n",
       "    </tr>\n",
       "    <tr>\n",
       "      <th>2022-07-31</th>\n",
       "      <td>41</td>\n",
       "      <td>41</td>\n",
       "    </tr>\n",
       "  </tbody>\n",
       "</table>\n",
       "</div>"
      ],
      "text/plain": [
       "            is_profit  is_profit_BN\n",
       "date                               \n",
       "2019-07-31          6             6\n",
       "2020-01-31         59            59\n",
       "2020-07-31         72            72\n",
       "2021-01-31         56            56\n",
       "2021-07-31         37            37\n",
       "2022-01-31         15            15\n",
       "2022-07-31         41            41"
      ]
     },
     "execution_count": 944,
     "metadata": {},
     "output_type": "execute_result"
    }
   ],
   "source": [
    "closed.set_index('date').resample('6M')[['is_profit', 'is_profit_BN']].count()"
   ]
  },
  {
   "cell_type": "code",
   "execution_count": 945,
   "id": "870d96bc",
   "metadata": {
    "ExecuteTime": {
     "end_time": "2022-08-09T16:09:42.465083Z",
     "start_time": "2022-08-09T16:09:42.229501Z"
    },
    "hideCode": false,
    "hidePrompt": false
   },
   "outputs": [
    {
     "data": {
      "image/png": "[encoded data removed]",
      "text/plain": [
       "<Figure size 1080x576 with 1 Axes>"
      ]
     },
     "metadata": {},
     "output_type": "display_data"
    }
   ],
   "source": [
    "# Halfyear accuracy\n",
    "halfyear_accuracy = closed.set_index('date').resample('6M')[['is_profit', 'is_profit_BN']].mean().reset_index()\n",
    "halfyear_accuracy.columns = ['date', 'normal', 'beta neutral']\n",
    "halfyear_accuracy['date'] = halfyear_accuracy['date'].dt.date\n",
    "halfyear_accuracy = halfyear_accuracy.melt(id_vars='date', value_name='accuracy')\n",
    "\n",
    "sns.barplot(x='date', y='accuracy', hue='variable', data=halfyear_accuracy)\n",
    "plt.axhline(y=0.5, color='blue', linestyle='--')\n",
    "# plt.xticks(rotation=90)\n",
    "plt.legend(bbox_to_anchor=(1.05, 1), loc=2, borderaxespad=0.)\n",
    "\n",
    "plt.show()"
   ]
  },
  {
   "cell_type": "code",
   "execution_count": 946,
   "id": "bce2fdf8",
   "metadata": {
    "ExecuteTime": {
     "end_time": "2022-08-09T16:09:49.678076Z",
     "start_time": "2022-08-09T16:09:49.441121Z"
    },
    "hideCode": false,
    "hidePrompt": false
   },
   "outputs": [
    {
     "data": {
      "image/png": "[encoded data removed]",
      "text/plain": [
       "<Figure size 1080x576 with 1 Axes>"
      ]
     },
     "metadata": {},
     "output_type": "display_data"
    }
   ],
   "source": [
    "# Halfyear results\n",
    "halfyear_results = closed.set_index('date').resample('6M')[['result', 'result_beta_neutral']].mean().reset_index()\n",
    "halfyear_results.columns = ['date', 'normal', 'beta neutral']\n",
    "halfyear_results['date'] = halfyear_results.date.dt.date\n",
    "halfyear_results = halfyear_results.melt(id_vars='date', value_name='result')\n",
    "\n",
    "sns.barplot(x='date', y='result', hue='variable', data=halfyear_results)\n",
    "# plt.xticks(rotation=90)\n",
    "plt.legend(bbox_to_anchor=(1.05, 1), loc=2, borderaxespad=0.)\n",
    "\n",
    "plt.show()"
   ]
  },
  {
   "cell_type": "code",
   "execution_count": 947,
   "id": "594ecc53",
   "metadata": {
    "ExecuteTime": {
     "end_time": "2022-08-09T16:09:53.301627Z",
     "start_time": "2022-08-09T16:09:53.277588Z"
    },
    "hideCode": false,
    "hidePrompt": false
   },
   "outputs": [],
   "source": [
    "closed_daily = closed.groupby('date').agg({'result':'mean', 'result_beta_neutral':'mean'})"
   ]
  },
  {
   "cell_type": "code",
   "execution_count": 948,
   "id": "bd206368",
   "metadata": {
    "ExecuteTime": {
     "end_time": "2022-08-09T16:09:54.215693Z",
     "start_time": "2022-08-09T16:09:53.845876Z"
    },
    "hideCode": false,
    "hidePrompt": false
   },
   "outputs": [
    {
     "data": {
      "image/png": "[encoded data removed]",
      "text/plain": [
       "<Figure size 1080x576 with 1 Axes>"
      ]
     },
     "metadata": {},
     "output_type": "display_data"
    }
   ],
   "source": [
    "sns.lineplot(x=closed_daily.index, y=closed_daily.result.cumsum(), label='result')\n",
    "# sns.lineplot(x=closed_daily.index, y=closed_daily.result_cash_neutral.cumsum(),color='red', label='cash neutral')\n",
    "sns.lineplot(x=closed_daily.index, y=closed_daily.result_beta_neutral.cumsum(),color='green', label='beta neutral')\n",
    "\n",
    "\n",
    "plt.xticks(rotation=45)\n",
    "plt.show()"
   ]
  },
  {
   "cell_type": "code",
   "execution_count": 949,
   "id": "2fd5f8de",
   "metadata": {
    "ExecuteTime": {
     "end_time": "2022-08-09T16:09:57.085354Z",
     "start_time": "2022-08-09T16:09:56.747280Z"
    }
   },
   "outputs": [
    {
     "data": {
      "text/plain": [
       "[]"
      ]
     },
     "execution_count": 949,
     "metadata": {},
     "output_type": "execute_result"
    },
    {
     "data": {
      "image/png": "[encoded data removed]",
      "text/plain": [
       "<Figure size 1080x576 with 1 Axes>"
      ]
     },
     "metadata": {},
     "output_type": "display_data"
    }
   ],
   "source": [
    "closed_setor = closed[['setor', 'result', 'result_beta_neutral']].melt(id_vars='setor')\n",
    "closed_setor = closed_setor.groupby(['setor', 'variable'], as_index=False).mean()\n",
    "\n",
    "plt.figure(figsize=(15,8))\n",
    "\n",
    "sns.barplot(x='setor', y='value', hue='variable', data=closed_setor, orient='v')\n",
    "# plt.grid(axis='x')\n",
    "plt.xticks(rotation=90)\n",
    "plt.xlabel(None)\n",
    "plt.plot()"
   ]
  },
  {
   "cell_type": "code",
   "execution_count": 950,
   "id": "60bec060",
   "metadata": {
    "ExecuteTime": {
     "end_time": "2022-08-09T16:09:57.674218Z",
     "start_time": "2022-08-09T16:09:57.660703Z"
    },
    "hideCode": false,
    "hidePrompt": false
   },
   "outputs": [
    {
     "data": {
      "text/html": [
       "<div>\n",
       "<style scoped>\n",
       "    .dataframe tbody tr th:only-of-type {\n",
       "        vertical-align: middle;\n",
       "    }\n",
       "\n",
       "    .dataframe tbody tr th {\n",
       "        vertical-align: top;\n",
       "    }\n",
       "\n",
       "    .dataframe thead th {\n",
       "        text-align: right;\n",
       "    }\n",
       "</style>\n",
       "<table border=\"1\" class=\"dataframe\">\n",
       "  <thead>\n",
       "    <tr style=\"text-align: right;\">\n",
       "      <th>variable</th>\n",
       "      <th>result</th>\n",
       "      <th>result_beta_neutral</th>\n",
       "    </tr>\n",
       "    <tr>\n",
       "      <th>setor</th>\n",
       "      <th></th>\n",
       "      <th></th>\n",
       "    </tr>\n",
       "  </thead>\n",
       "  <tbody>\n",
       "    <tr>\n",
       "      <th>Alimentos e Bebidas</th>\n",
       "      <td>0.053441</td>\n",
       "      <td>0.103979</td>\n",
       "    </tr>\n",
       "    <tr>\n",
       "      <th>Aéreas</th>\n",
       "      <td>-0.036143</td>\n",
       "      <td>-0.056380</td>\n",
       "    </tr>\n",
       "    <tr>\n",
       "      <th>Bens Industriais</th>\n",
       "      <td>0.072099</td>\n",
       "      <td>0.042941</td>\n",
       "    </tr>\n",
       "    <tr>\n",
       "      <th>Construção Civil</th>\n",
       "      <td>0.000403</td>\n",
       "      <td>0.026160</td>\n",
       "    </tr>\n",
       "    <tr>\n",
       "      <th>Educação</th>\n",
       "      <td>-0.117112</td>\n",
       "      <td>-0.061231</td>\n",
       "    </tr>\n",
       "    <tr>\n",
       "      <th>Exploração de imóveis</th>\n",
       "      <td>0.014701</td>\n",
       "      <td>0.027334</td>\n",
       "    </tr>\n",
       "    <tr>\n",
       "      <th>Financeiro</th>\n",
       "      <td>-0.009440</td>\n",
       "      <td>0.031214</td>\n",
       "    </tr>\n",
       "    <tr>\n",
       "      <th>Mineração e Siderurgia</th>\n",
       "      <td>0.009488</td>\n",
       "      <td>0.025082</td>\n",
       "    </tr>\n",
       "    <tr>\n",
       "      <th>Papel e Celulose</th>\n",
       "      <td>0.027481</td>\n",
       "      <td>0.032665</td>\n",
       "    </tr>\n",
       "    <tr>\n",
       "      <th>Petroleo, gás e biocombustíveis</th>\n",
       "      <td>0.002962</td>\n",
       "      <td>-0.000883</td>\n",
       "    </tr>\n",
       "    <tr>\n",
       "      <th>Saúde</th>\n",
       "      <td>0.026529</td>\n",
       "      <td>0.009981</td>\n",
       "    </tr>\n",
       "    <tr>\n",
       "      <th>Telecomunicações</th>\n",
       "      <td>0.049746</td>\n",
       "      <td>0.054852</td>\n",
       "    </tr>\n",
       "    <tr>\n",
       "      <th>Utilidade Pública</th>\n",
       "      <td>0.027530</td>\n",
       "      <td>0.057032</td>\n",
       "    </tr>\n",
       "    <tr>\n",
       "      <th>Varejo</th>\n",
       "      <td>-0.014935</td>\n",
       "      <td>-0.003567</td>\n",
       "    </tr>\n",
       "  </tbody>\n",
       "</table>\n",
       "</div>"
      ],
      "text/plain": [
       "variable                           result  result_beta_neutral\n",
       "setor                                                         \n",
       "Alimentos e Bebidas              0.053441             0.103979\n",
       "Aéreas                          -0.036143            -0.056380\n",
       "Bens Industriais                 0.072099             0.042941\n",
       "Construção Civil                 0.000403             0.026160\n",
       "Educação                        -0.117112            -0.061231\n",
       "Exploração de imóveis            0.014701             0.027334\n",
       "Financeiro                      -0.009440             0.031214\n",
       "Mineração e Siderurgia           0.009488             0.025082\n",
       "Papel e Celulose                 0.027481             0.032665\n",
       "Petroleo, gás e biocombustíveis  0.002962            -0.000883\n",
       "Saúde                            0.026529             0.009981\n",
       "Telecomunicações                 0.049746             0.054852\n",
       "Utilidade Pública                0.027530             0.057032\n",
       "Varejo                          -0.014935            -0.003567"
      ]
     },
     "execution_count": 950,
     "metadata": {},
     "output_type": "execute_result"
    }
   ],
   "source": [
    "closed_setor.pivot(index='setor', columns='variable', values='value')"
   ]
  },
  {
   "cell_type": "code",
   "execution_count": 951,
   "id": "e4610a6b",
   "metadata": {
    "ExecuteTime": {
     "end_time": "2022-08-09T16:09:58.667283Z",
     "start_time": "2022-08-09T16:09:58.290584Z"
    }
   },
   "outputs": [
    {
     "data": {
      "text/plain": [
       "[]"
      ]
     },
     "execution_count": 951,
     "metadata": {},
     "output_type": "execute_result"
    },
    {
     "data": {
      "image/png": "[encoded data removed]",
      "text/plain": [
       "<Figure size 1080x576 with 1 Axes>"
      ]
     },
     "metadata": {},
     "output_type": "display_data"
    }
   ],
   "source": [
    "closed_setor_accuracy = closed[['setor', 'is_profit', 'is_profit_BN']].melt(id_vars='setor', value_name='accuracy')\n",
    "closed_setor_accuracy = closed_setor_accuracy.groupby(['setor', 'variable'], as_index=False).mean()\n",
    "sns.barplot(x='setor', y='accuracy', hue='variable', data=closed_setor_accuracy, orient='v', )\n",
    "plt.axhline(y=0.5, linestyle='--')\n",
    "plt.xlabel(None)\n",
    "plt.xticks(rotation=90)\n",
    "# plt.grid(axis='x')\n",
    "plt.plot()"
   ]
  },
  {
   "cell_type": "code",
   "execution_count": 952,
   "id": "3409d797",
   "metadata": {
    "ExecuteTime": {
     "end_time": "2022-08-09T16:10:07.768704Z",
     "start_time": "2022-08-09T16:10:07.744660Z"
    }
   },
   "outputs": [
    {
     "data": {
      "text/html": [
       "<div>\n",
       "<style scoped>\n",
       "    .dataframe tbody tr th:only-of-type {\n",
       "        vertical-align: middle;\n",
       "    }\n",
       "\n",
       "    .dataframe tbody tr th {\n",
       "        vertical-align: top;\n",
       "    }\n",
       "\n",
       "    .dataframe thead th {\n",
       "        text-align: right;\n",
       "    }\n",
       "</style>\n",
       "<table border=\"1\" class=\"dataframe\">\n",
       "  <thead>\n",
       "    <tr style=\"text-align: right;\">\n",
       "      <th>variable</th>\n",
       "      <th>is_profit</th>\n",
       "      <th>is_profit_BN</th>\n",
       "    </tr>\n",
       "    <tr>\n",
       "      <th>setor</th>\n",
       "      <th></th>\n",
       "      <th></th>\n",
       "    </tr>\n",
       "  </thead>\n",
       "  <tbody>\n",
       "    <tr>\n",
       "      <th>Alimentos e Bebidas</th>\n",
       "      <td>0.800000</td>\n",
       "      <td>0.800000</td>\n",
       "    </tr>\n",
       "    <tr>\n",
       "      <th>Aéreas</th>\n",
       "      <td>0.666667</td>\n",
       "      <td>0.333333</td>\n",
       "    </tr>\n",
       "    <tr>\n",
       "      <th>Bens Industriais</th>\n",
       "      <td>0.750000</td>\n",
       "      <td>0.750000</td>\n",
       "    </tr>\n",
       "    <tr>\n",
       "      <th>Construção Civil</th>\n",
       "      <td>0.333333</td>\n",
       "      <td>1.000000</td>\n",
       "    </tr>\n",
       "    <tr>\n",
       "      <th>Educação</th>\n",
       "      <td>0.000000</td>\n",
       "      <td>0.000000</td>\n",
       "    </tr>\n",
       "    <tr>\n",
       "      <th>Exploração de imóveis</th>\n",
       "      <td>0.857143</td>\n",
       "      <td>0.857143</td>\n",
       "    </tr>\n",
       "    <tr>\n",
       "      <th>Financeiro</th>\n",
       "      <td>0.617021</td>\n",
       "      <td>0.585106</td>\n",
       "    </tr>\n",
       "    <tr>\n",
       "      <th>Mineração e Siderurgia</th>\n",
       "      <td>0.655172</td>\n",
       "      <td>0.551724</td>\n",
       "    </tr>\n",
       "    <tr>\n",
       "      <th>Papel e Celulose</th>\n",
       "      <td>0.800000</td>\n",
       "      <td>0.800000</td>\n",
       "    </tr>\n",
       "    <tr>\n",
       "      <th>Petroleo, gás e biocombustíveis</th>\n",
       "      <td>0.625000</td>\n",
       "      <td>0.687500</td>\n",
       "    </tr>\n",
       "    <tr>\n",
       "      <th>Saúde</th>\n",
       "      <td>0.760000</td>\n",
       "      <td>0.600000</td>\n",
       "    </tr>\n",
       "    <tr>\n",
       "      <th>Telecomunicações</th>\n",
       "      <td>1.000000</td>\n",
       "      <td>1.000000</td>\n",
       "    </tr>\n",
       "    <tr>\n",
       "      <th>Utilidade Pública</th>\n",
       "      <td>0.757576</td>\n",
       "      <td>0.772727</td>\n",
       "    </tr>\n",
       "    <tr>\n",
       "      <th>Varejo</th>\n",
       "      <td>0.523810</td>\n",
       "      <td>0.476190</td>\n",
       "    </tr>\n",
       "  </tbody>\n",
       "</table>\n",
       "</div>"
      ],
      "text/plain": [
       "variable                         is_profit  is_profit_BN\n",
       "setor                                                   \n",
       "Alimentos e Bebidas               0.800000      0.800000\n",
       "Aéreas                            0.666667      0.333333\n",
       "Bens Industriais                  0.750000      0.750000\n",
       "Construção Civil                  0.333333      1.000000\n",
       "Educação                          0.000000      0.000000\n",
       "Exploração de imóveis             0.857143      0.857143\n",
       "Financeiro                        0.617021      0.585106\n",
       "Mineração e Siderurgia            0.655172      0.551724\n",
       "Papel e Celulose                  0.800000      0.800000\n",
       "Petroleo, gás e biocombustíveis   0.625000      0.687500\n",
       "Saúde                             0.760000      0.600000\n",
       "Telecomunicações                  1.000000      1.000000\n",
       "Utilidade Pública                 0.757576      0.772727\n",
       "Varejo                            0.523810      0.476190"
      ]
     },
     "execution_count": 952,
     "metadata": {},
     "output_type": "execute_result"
    }
   ],
   "source": [
    "closed_setor_accuracy.pivot(index='setor', columns='variable', values='accuracy')"
   ]
  },
  {
   "cell_type": "code",
   "execution_count": 953,
   "id": "4e2a2253",
   "metadata": {
    "ExecuteTime": {
     "end_time": "2022-08-09T16:10:08.404421Z",
     "start_time": "2022-08-09T16:10:08.356362Z"
    },
    "hideCode": false,
    "hidePrompt": false
   },
   "outputs": [
    {
     "data": {
      "text/html": [
       "<div>\n",
       "<style scoped>\n",
       "    .dataframe tbody tr th:only-of-type {\n",
       "        vertical-align: middle;\n",
       "    }\n",
       "\n",
       "    .dataframe tbody tr th {\n",
       "        vertical-align: top;\n",
       "    }\n",
       "\n",
       "    .dataframe thead th {\n",
       "        text-align: right;\n",
       "    }\n",
       "</style>\n",
       "<table border=\"1\" class=\"dataframe\">\n",
       "  <thead>\n",
       "    <tr style=\"text-align: right;\">\n",
       "      <th></th>\n",
       "      <th>result_sum</th>\n",
       "      <th>result_mean</th>\n",
       "      <th>count</th>\n",
       "      <th>accuracy</th>\n",
       "      <th>sector</th>\n",
       "    </tr>\n",
       "    <tr>\n",
       "      <th>sorted_pair</th>\n",
       "      <th></th>\n",
       "      <th></th>\n",
       "      <th></th>\n",
       "      <th></th>\n",
       "      <th></th>\n",
       "    </tr>\n",
       "  </thead>\n",
       "  <tbody>\n",
       "    <tr>\n",
       "      <th>(SBSP3, TAEE11)</th>\n",
       "      <td>0.045077</td>\n",
       "      <td>0.045077</td>\n",
       "      <td>7</td>\n",
       "      <td>1.000000</td>\n",
       "      <td>Utilidade Pública</td>\n",
       "    </tr>\n",
       "    <tr>\n",
       "      <th>(EQTL3, TAEE11)</th>\n",
       "      <td>0.086219</td>\n",
       "      <td>0.086219</td>\n",
       "      <td>6</td>\n",
       "      <td>1.000000</td>\n",
       "      <td>Utilidade Pública</td>\n",
       "    </tr>\n",
       "    <tr>\n",
       "      <th>(FLRY3, QUAL3)</th>\n",
       "      <td>0.135351</td>\n",
       "      <td>0.135351</td>\n",
       "      <td>6</td>\n",
       "      <td>1.000000</td>\n",
       "      <td>Saúde</td>\n",
       "    </tr>\n",
       "    <tr>\n",
       "      <th>(CCRO3, RAIL3)</th>\n",
       "      <td>0.105224</td>\n",
       "      <td>0.105224</td>\n",
       "      <td>4</td>\n",
       "      <td>1.000000</td>\n",
       "      <td>Bens Industriais</td>\n",
       "    </tr>\n",
       "    <tr>\n",
       "      <th>(HYPE3, RADL3)</th>\n",
       "      <td>0.092903</td>\n",
       "      <td>0.092903</td>\n",
       "      <td>4</td>\n",
       "      <td>1.000000</td>\n",
       "      <td>Saúde</td>\n",
       "    </tr>\n",
       "    <tr>\n",
       "      <th>(GGBR4, GOAU4)</th>\n",
       "      <td>0.012233</td>\n",
       "      <td>0.012233</td>\n",
       "      <td>8</td>\n",
       "      <td>0.875000</td>\n",
       "      <td>Mineração e Siderurgia</td>\n",
       "    </tr>\n",
       "    <tr>\n",
       "      <th>(BRML3, MULT3)</th>\n",
       "      <td>0.014701</td>\n",
       "      <td>0.014701</td>\n",
       "      <td>7</td>\n",
       "      <td>0.857143</td>\n",
       "      <td>Exploração de imóveis</td>\n",
       "    </tr>\n",
       "    <tr>\n",
       "      <th>(ELET3, ELET6)</th>\n",
       "      <td>0.027574</td>\n",
       "      <td>0.027574</td>\n",
       "      <td>7</td>\n",
       "      <td>0.857143</td>\n",
       "      <td>Utilidade Pública</td>\n",
       "    </tr>\n",
       "    <tr>\n",
       "      <th>(BBDC3, BBDC4)</th>\n",
       "      <td>0.003222</td>\n",
       "      <td>0.003222</td>\n",
       "      <td>6</td>\n",
       "      <td>0.833333</td>\n",
       "      <td>Financeiro</td>\n",
       "    </tr>\n",
       "    <tr>\n",
       "      <th>(AMER3, MGLU3)</th>\n",
       "      <td>-0.010306</td>\n",
       "      <td>-0.010306</td>\n",
       "      <td>5</td>\n",
       "      <td>0.800000</td>\n",
       "      <td>Varejo</td>\n",
       "    </tr>\n",
       "    <tr>\n",
       "      <th>(BBDC3, SANB11)</th>\n",
       "      <td>0.013471</td>\n",
       "      <td>0.013471</td>\n",
       "      <td>5</td>\n",
       "      <td>0.800000</td>\n",
       "      <td>Financeiro</td>\n",
       "    </tr>\n",
       "    <tr>\n",
       "      <th>(BRAP4, GGBR4)</th>\n",
       "      <td>0.056323</td>\n",
       "      <td>0.056323</td>\n",
       "      <td>5</td>\n",
       "      <td>0.800000</td>\n",
       "      <td>Mineração e Siderurgia</td>\n",
       "    </tr>\n",
       "    <tr>\n",
       "      <th>(KLBN11, SUZB3)</th>\n",
       "      <td>0.027481</td>\n",
       "      <td>0.027481</td>\n",
       "      <td>5</td>\n",
       "      <td>0.800000</td>\n",
       "      <td>Papel e Celulose</td>\n",
       "    </tr>\n",
       "    <tr>\n",
       "      <th>(BBSE3, ITSA4)</th>\n",
       "      <td>0.012589</td>\n",
       "      <td>0.012589</td>\n",
       "      <td>4</td>\n",
       "      <td>0.750000</td>\n",
       "      <td>Financeiro</td>\n",
       "    </tr>\n",
       "    <tr>\n",
       "      <th>(BBSE3, SULA11)</th>\n",
       "      <td>0.070342</td>\n",
       "      <td>0.070342</td>\n",
       "      <td>4</td>\n",
       "      <td>0.750000</td>\n",
       "      <td>Financeiro</td>\n",
       "    </tr>\n",
       "    <tr>\n",
       "      <th>(CMIG4, ENBR3)</th>\n",
       "      <td>0.045498</td>\n",
       "      <td>0.045498</td>\n",
       "      <td>4</td>\n",
       "      <td>0.750000</td>\n",
       "      <td>Utilidade Pública</td>\n",
       "    </tr>\n",
       "    <tr>\n",
       "      <th>(ELET3, EQTL3)</th>\n",
       "      <td>0.019194</td>\n",
       "      <td>0.019194</td>\n",
       "      <td>4</td>\n",
       "      <td>0.750000</td>\n",
       "      <td>Utilidade Pública</td>\n",
       "    </tr>\n",
       "    <tr>\n",
       "      <th>(ENBR3, SBSP3)</th>\n",
       "      <td>0.016084</td>\n",
       "      <td>0.016084</td>\n",
       "      <td>4</td>\n",
       "      <td>0.750000</td>\n",
       "      <td>Utilidade Pública</td>\n",
       "    </tr>\n",
       "    <tr>\n",
       "      <th>(GOAU4, USIM5)</th>\n",
       "      <td>0.016112</td>\n",
       "      <td>0.016112</td>\n",
       "      <td>4</td>\n",
       "      <td>0.750000</td>\n",
       "      <td>Mineração e Siderurgia</td>\n",
       "    </tr>\n",
       "    <tr>\n",
       "      <th>(PETR3, PETR4)</th>\n",
       "      <td>0.012477</td>\n",
       "      <td>0.012477</td>\n",
       "      <td>13</td>\n",
       "      <td>0.692308</td>\n",
       "      <td>Petroleo, gás e biocombustíveis</td>\n",
       "    </tr>\n",
       "    <tr>\n",
       "      <th>(GGBR4, USIM5)</th>\n",
       "      <td>-0.008408</td>\n",
       "      <td>-0.008408</td>\n",
       "      <td>6</td>\n",
       "      <td>0.333333</td>\n",
       "      <td>Mineração e Siderurgia</td>\n",
       "    </tr>\n",
       "    <tr>\n",
       "      <th>(BBDC4, ITSA4)</th>\n",
       "      <td>-0.031605</td>\n",
       "      <td>-0.031605</td>\n",
       "      <td>4</td>\n",
       "      <td>0.250000</td>\n",
       "      <td>Financeiro</td>\n",
       "    </tr>\n",
       "  </tbody>\n",
       "</table>\n",
       "</div>"
      ],
      "text/plain": [
       "                 result_sum  result_mean  count  accuracy  \\\n",
       "sorted_pair                                                 \n",
       "(SBSP3, TAEE11)    0.045077     0.045077      7  1.000000   \n",
       "(EQTL3, TAEE11)    0.086219     0.086219      6  1.000000   \n",
       "(FLRY3, QUAL3)     0.135351     0.135351      6  1.000000   \n",
       "(CCRO3, RAIL3)     0.105224     0.105224      4  1.000000   \n",
       "(HYPE3, RADL3)     0.092903     0.092903      4  1.000000   \n",
       "(GGBR4, GOAU4)     0.012233     0.012233      8  0.875000   \n",
       "(BRML3, MULT3)     0.014701     0.014701      7  0.857143   \n",
       "(ELET3, ELET6)     0.027574     0.027574      7  0.857143   \n",
       "(BBDC3, BBDC4)     0.003222     0.003222      6  0.833333   \n",
       "(AMER3, MGLU3)    -0.010306    -0.010306      5  0.800000   \n",
       "(BBDC3, SANB11)    0.013471     0.013471      5  0.800000   \n",
       "(BRAP4, GGBR4)     0.056323     0.056323      5  0.800000   \n",
       "(KLBN11, SUZB3)    0.027481     0.027481      5  0.800000   \n",
       "(BBSE3, ITSA4)     0.012589     0.012589      4  0.750000   \n",
       "(BBSE3, SULA11)    0.070342     0.070342      4  0.750000   \n",
       "(CMIG4, ENBR3)     0.045498     0.045498      4  0.750000   \n",
       "(ELET3, EQTL3)     0.019194     0.019194      4  0.750000   \n",
       "(ENBR3, SBSP3)     0.016084     0.016084      4  0.750000   \n",
       "(GOAU4, USIM5)     0.016112     0.016112      4  0.750000   \n",
       "(PETR3, PETR4)     0.012477     0.012477     13  0.692308   \n",
       "(GGBR4, USIM5)    -0.008408    -0.008408      6  0.333333   \n",
       "(BBDC4, ITSA4)    -0.031605    -0.031605      4  0.250000   \n",
       "\n",
       "                                          sector  \n",
       "sorted_pair                                       \n",
       "(SBSP3, TAEE11)                Utilidade Pública  \n",
       "(EQTL3, TAEE11)                Utilidade Pública  \n",
       "(FLRY3, QUAL3)                             Saúde  \n",
       "(CCRO3, RAIL3)                  Bens Industriais  \n",
       "(HYPE3, RADL3)                             Saúde  \n",
       "(GGBR4, GOAU4)            Mineração e Siderurgia  \n",
       "(BRML3, MULT3)             Exploração de imóveis  \n",
       "(ELET3, ELET6)                 Utilidade Pública  \n",
       "(BBDC3, BBDC4)                        Financeiro  \n",
       "(AMER3, MGLU3)                            Varejo  \n",
       "(BBDC3, SANB11)                       Financeiro  \n",
       "(BRAP4, GGBR4)            Mineração e Siderurgia  \n",
       "(KLBN11, SUZB3)                 Papel e Celulose  \n",
       "(BBSE3, ITSA4)                        Financeiro  \n",
       "(BBSE3, SULA11)                       Financeiro  \n",
       "(CMIG4, ENBR3)                 Utilidade Pública  \n",
       "(ELET3, EQTL3)                 Utilidade Pública  \n",
       "(ENBR3, SBSP3)                 Utilidade Pública  \n",
       "(GOAU4, USIM5)            Mineração e Siderurgia  \n",
       "(PETR3, PETR4)   Petroleo, gás e biocombustíveis  \n",
       "(GGBR4, USIM5)            Mineração e Siderurgia  \n",
       "(BBDC4, ITSA4)                        Financeiro  "
      ]
     },
     "execution_count": 953,
     "metadata": {},
     "output_type": "execute_result"
    }
   ],
   "source": [
    "pair_closed = closed.groupby('sorted_pair').agg(\n",
    "    result_sum=('result', 'mean'),\n",
    "    result_mean=('result', 'mean'),\n",
    "    count=('result', 'count'),\n",
    "    accuracy=('is_profit', 'mean'),\n",
    "    sector=('setor', 'last')\n",
    "    )\n",
    "\n",
    "pair_closed.loc[pair_closed['count']>3].sort_values(by=['accuracy', 'count'], ascending=False).tail(25)"
   ]
  },
  {
   "cell_type": "code",
   "execution_count": 954,
   "id": "03c85f02",
   "metadata": {
    "ExecuteTime": {
     "end_time": "2022-08-09T16:10:09.121959Z",
     "start_time": "2022-08-09T16:10:09.113924Z"
    },
    "hideCode": false,
    "hidePrompt": false
   },
   "outputs": [],
   "source": [
    "# pair_closed.to_excel('pares_parcial.xlsx')"
   ]
  },
  {
   "cell_type": "code",
   "execution_count": 955,
   "id": "6a9bf952",
   "metadata": {
    "ExecuteTime": {
     "end_time": "2022-08-09T16:10:10.202483Z",
     "start_time": "2022-08-09T16:10:09.788492Z"
    },
    "hideCode": false,
    "hidePrompt": false
   },
   "outputs": [
    {
     "data": {
      "text/plain": [
       "<matplotlib.axes._subplots.AxesSubplot at 0x1c50c4ab430>"
      ]
     },
     "execution_count": 955,
     "metadata": {},
     "output_type": "execute_result"
    },
    {
     "data": {
      "image/png": "[encoded data removed]",
      "text/plain": [
       "<Figure size 1080x576 with 1 Axes>"
      ]
     },
     "metadata": {},
     "output_type": "display_data"
    }
   ],
   "source": [
    "closed_daily.result.cumsum().plot()"
   ]
  },
  {
   "cell_type": "code",
   "execution_count": 956,
   "id": "c02191c8",
   "metadata": {
    "ExecuteTime": {
     "end_time": "2022-08-09T16:10:17.286973Z",
     "start_time": "2022-08-09T16:10:17.256375Z"
    }
   },
   "outputs": [
    {
     "data": {
      "text/plain": [
       "Index(['date', 'pair', 'status', 'price_fst_stock', 'price_scnd_stock',\n",
       "       'beta_open', 'beta_close', 'last_residual', 'std_residual',\n",
       "       'std_open_residual', 'residual_open', 'open_price_first_stock',\n",
       "       'open_price_scnd_stock', 'open_date', 'close_limit', 'stop_limit',\n",
       "       'halflife', 'days_open', 'data_ini', 'data_fin', 'setor', 'sorted_pair',\n",
       "       'result', 'result_beta_neutral', 'is_profit', 'is_profit_BN'],\n",
       "      dtype='object')"
      ]
     },
     "execution_count": 956,
     "metadata": {},
     "output_type": "execute_result"
    }
   ],
   "source": [
    "closed.columns"
   ]
  },
  {
   "cell_type": "code",
   "execution_count": 957,
   "id": "ed5bf9c3",
   "metadata": {
    "ExecuteTime": {
     "end_time": "2022-08-09T16:10:18.014351Z",
     "start_time": "2022-08-09T16:10:17.990315Z"
    }
   },
   "outputs": [
    {
     "data": {
      "text/html": [
       "<div>\n",
       "<style scoped>\n",
       "    .dataframe tbody tr th:only-of-type {\n",
       "        vertical-align: middle;\n",
       "    }\n",
       "\n",
       "    .dataframe tbody tr th {\n",
       "        vertical-align: top;\n",
       "    }\n",
       "\n",
       "    .dataframe thead th {\n",
       "        text-align: right;\n",
       "    }\n",
       "</style>\n",
       "<table border=\"1\" class=\"dataframe\">\n",
       "  <thead>\n",
       "    <tr style=\"text-align: right;\">\n",
       "      <th></th>\n",
       "      <th>price_fst_stock</th>\n",
       "      <th>price_scnd_stock</th>\n",
       "      <th>open_price_first_stock</th>\n",
       "      <th>open_price_scnd_stock</th>\n",
       "      <th>result</th>\n",
       "    </tr>\n",
       "  </thead>\n",
       "  <tbody>\n",
       "    <tr>\n",
       "      <th>7</th>\n",
       "      <td>49.36</td>\n",
       "      <td>38.30</td>\n",
       "      <td>44.16</td>\n",
       "      <td>35.57</td>\n",
       "      <td>0.037374</td>\n",
       "    </tr>\n",
       "    <tr>\n",
       "      <th>106</th>\n",
       "      <td>57.80</td>\n",
       "      <td>36.92</td>\n",
       "      <td>53.12</td>\n",
       "      <td>39.64</td>\n",
       "      <td>-0.155521</td>\n",
       "    </tr>\n",
       "    <tr>\n",
       "      <th>184</th>\n",
       "      <td>39.56</td>\n",
       "      <td>25.20</td>\n",
       "      <td>38.16</td>\n",
       "      <td>23.78</td>\n",
       "      <td>0.021968</td>\n",
       "    </tr>\n",
       "    <tr>\n",
       "      <th>199</th>\n",
       "      <td>17.49</td>\n",
       "      <td>23.75</td>\n",
       "      <td>17.17</td>\n",
       "      <td>22.95</td>\n",
       "      <td>0.015799</td>\n",
       "    </tr>\n",
       "    <tr>\n",
       "      <th>243</th>\n",
       "      <td>26.84</td>\n",
       "      <td>17.10</td>\n",
       "      <td>22.97</td>\n",
       "      <td>12.49</td>\n",
       "      <td>-0.158446</td>\n",
       "    </tr>\n",
       "    <tr>\n",
       "      <th>...</th>\n",
       "      <td>...</td>\n",
       "      <td>...</td>\n",
       "      <td>...</td>\n",
       "      <td>...</td>\n",
       "      <td>...</td>\n",
       "    </tr>\n",
       "    <tr>\n",
       "      <th>11633</th>\n",
       "      <td>25.07</td>\n",
       "      <td>2.91</td>\n",
       "      <td>28.02</td>\n",
       "      <td>3.13</td>\n",
       "      <td>0.038367</td>\n",
       "    </tr>\n",
       "    <tr>\n",
       "      <th>11671</th>\n",
       "      <td>9.93</td>\n",
       "      <td>19.14</td>\n",
       "      <td>11.79</td>\n",
       "      <td>20.94</td>\n",
       "      <td>-0.081810</td>\n",
       "    </tr>\n",
       "    <tr>\n",
       "      <th>11691</th>\n",
       "      <td>2.86</td>\n",
       "      <td>12.47</td>\n",
       "      <td>4.26</td>\n",
       "      <td>17.05</td>\n",
       "      <td>-0.085623</td>\n",
       "    </tr>\n",
       "    <tr>\n",
       "      <th>11733</th>\n",
       "      <td>3.04</td>\n",
       "      <td>24.31</td>\n",
       "      <td>4.26</td>\n",
       "      <td>29.21</td>\n",
       "      <td>-0.153788</td>\n",
       "    </tr>\n",
       "    <tr>\n",
       "      <th>11740</th>\n",
       "      <td>2.83</td>\n",
       "      <td>23.93</td>\n",
       "      <td>3.19</td>\n",
       "      <td>27.86</td>\n",
       "      <td>0.032315</td>\n",
       "    </tr>\n",
       "  </tbody>\n",
       "</table>\n",
       "<p>286 rows × 5 columns</p>\n",
       "</div>"
      ],
      "text/plain": [
       "       price_fst_stock  price_scnd_stock  open_price_first_stock  \\\n",
       "7                49.36             38.30                   44.16   \n",
       "106              57.80             36.92                   53.12   \n",
       "184              39.56             25.20                   38.16   \n",
       "199              17.49             23.75                   17.17   \n",
       "243              26.84             17.10                   22.97   \n",
       "...                ...               ...                     ...   \n",
       "11633            25.07              2.91                   28.02   \n",
       "11671             9.93             19.14                   11.79   \n",
       "11691             2.86             12.47                    4.26   \n",
       "11733             3.04             24.31                    4.26   \n",
       "11740             2.83             23.93                    3.19   \n",
       "\n",
       "       open_price_scnd_stock    result  \n",
       "7                      35.57  0.037374  \n",
       "106                    39.64 -0.155521  \n",
       "184                    23.78  0.021968  \n",
       "199                    22.95  0.015799  \n",
       "243                    12.49 -0.158446  \n",
       "...                      ...       ...  \n",
       "11633                   3.13  0.038367  \n",
       "11671                  20.94 -0.081810  \n",
       "11691                  17.05 -0.085623  \n",
       "11733                  29.21 -0.153788  \n",
       "11740                  27.86  0.032315  \n",
       "\n",
       "[286 rows x 5 columns]"
      ]
     },
     "execution_count": 957,
     "metadata": {},
     "output_type": "execute_result"
    }
   ],
   "source": [
    "closed[['price_fst_stock','price_scnd_stock', 'open_price_first_stock', 'open_price_scnd_stock','result']]"
   ]
  },
  {
   "cell_type": "code",
   "execution_count": 958,
   "id": "a4ac2013",
   "metadata": {
    "ExecuteTime": {
     "end_time": "2022-08-09T16:10:18.545985Z",
     "start_time": "2022-08-09T16:10:18.513987Z"
    }
   },
   "outputs": [
    {
     "data": {
      "text/plain": [
       "sum        2.444106\n",
       "count    286.000000\n",
       "dtype: float64"
      ]
     },
     "execution_count": 958,
     "metadata": {},
     "output_type": "execute_result"
    }
   ],
   "source": [
    "closed.groupby('sorted_pair').result.agg(['sum', 'count']).sort_values(by='sum', ascending=False).sum()"
   ]
  },
  {
   "cell_type": "code",
   "execution_count": 959,
   "id": "e41ba2e9",
   "metadata": {
    "ExecuteTime": {
     "end_time": "2022-08-09T16:10:19.398069Z",
     "start_time": "2022-08-09T16:10:19.067889Z"
    }
   },
   "outputs": [
    {
     "data": {
      "text/plain": [
       "<matplotlib.axes._subplots.AxesSubplot at 0x1c506315160>"
      ]
     },
     "execution_count": 959,
     "metadata": {},
     "output_type": "execute_result"
    },
    {
     "data": {
      "image/png": "[encoded data removed]",
      "text/plain": [
       "<Figure size 1080x576 with 1 Axes>"
      ]
     },
     "metadata": {},
     "output_type": "display_data"
    }
   ],
   "source": [
    "df.groupby('date').result.mean().plot()"
   ]
  },
  {
   "cell_type": "code",
   "execution_count": 960,
   "id": "ac13d3e7",
   "metadata": {
    "ExecuteTime": {
     "end_time": "2022-08-09T16:10:27.954055Z",
     "start_time": "2022-08-09T16:10:27.930047Z"
    }
   },
   "outputs": [],
   "source": [
    "# cumsum_ibov = np.cumsum(np.log(ibov/ibov.shift()))\n",
    "cumsum_result = np.cumsum(closed.groupby('date').result.mean())\n",
    "cumsum_result_BN = np.cumsum(closed.groupby('date').result_beta_neutral.mean())"
   ]
  },
  {
   "cell_type": "code",
   "execution_count": 961,
   "id": "3c3cea04",
   "metadata": {
    "ExecuteTime": {
     "end_time": "2022-08-09T16:10:28.787777Z",
     "start_time": "2022-08-09T16:10:28.463346Z"
    }
   },
   "outputs": [
    {
     "data": {
      "text/plain": [
       "<matplotlib.axes._subplots.AxesSubplot at 0x1c50b2ab280>"
      ]
     },
     "execution_count": 961,
     "metadata": {},
     "output_type": "execute_result"
    },
    {
     "data": {
      "image/png": "[encoded data removed]",
      "text/plain": [
       "<Figure size 1080x576 with 1 Axes>"
      ]
     },
     "metadata": {},
     "output_type": "display_data"
    }
   ],
   "source": [
    "cumsum_result.plot()"
   ]
  },
  {
   "cell_type": "code",
   "execution_count": 962,
   "id": "a368f6ad",
   "metadata": {
    "ExecuteTime": {
     "end_time": "2022-08-09T16:10:29.870896Z",
     "start_time": "2022-08-09T16:10:29.846862Z"
    }
   },
   "outputs": [
    {
     "data": {
      "text/plain": [
       "73.4283202153676"
      ]
     },
     "execution_count": 962,
     "metadata": {},
     "output_type": "execute_result"
    }
   ],
   "source": [
    "vol_coint = (df.groupby('date').result.mean().std()* math.sqrt(252) * 100)\n",
    "vol_coint"
   ]
  },
  {
   "cell_type": "code",
   "execution_count": 971,
   "id": "fe55cb96",
   "metadata": {
    "ExecuteTime": {
     "end_time": "2022-08-09T16:27:21.512347Z",
     "start_time": "2022-08-09T16:27:21.488314Z"
    }
   },
   "outputs": [
    {
     "data": {
      "text/plain": [
       "1017.3117648964487"
      ]
     },
     "execution_count": 971,
     "metadata": {},
     "output_type": "execute_result"
    }
   ],
   "source": [
    "closed.groupby('date').result.mean().mean() * 252 *100"
   ]
  },
  {
   "cell_type": "code",
   "execution_count": 970,
   "id": "5b884007",
   "metadata": {
    "ExecuteTime": {
     "end_time": "2022-08-09T16:22:43.821732Z",
     "start_time": "2022-08-09T16:22:43.805733Z"
    }
   },
   "outputs": [
    {
     "data": {
      "text/plain": [
       "710.5034548483138"
      ]
     },
     "execution_count": 970,
     "metadata": {},
     "output_type": "execute_result"
    }
   ],
   "source": [
    "return_coint = cumsum_result.iloc[-1]*100\n",
    "return_coint"
   ]
  },
  {
   "cell_type": "code",
   "execution_count": 964,
   "id": "7ceb1b80",
   "metadata": {
    "ExecuteTime": {
     "end_time": "2022-08-09T16:10:32.543086Z",
     "start_time": "2022-08-09T16:10:32.527087Z"
    }
   },
   "outputs": [
    {
     "data": {
      "text/plain": [
       "9.676150193336637"
      ]
     },
     "execution_count": 964,
     "metadata": {},
     "output_type": "execute_result"
    }
   ],
   "source": [
    "#sharpe\n",
    "sharpe_coint = return_coint/ vol_coint\n",
    "sharpe_coint"
   ]
  },
  {
   "cell_type": "code",
   "execution_count": 916,
   "id": "6f43f4c0",
   "metadata": {
    "ExecuteTime": {
     "end_time": "2022-08-09T16:06:31.107912Z",
     "start_time": "2022-08-09T16:06:31.083900Z"
    }
   },
   "outputs": [
    {
     "data": {
      "text/plain": [
       "6.090219494148479"
      ]
     },
     "execution_count": 916,
     "metadata": {},
     "output_type": "execute_result"
    }
   ],
   "source": [
    "return_coint /(closed.groupby('date').result.mean().std()* math.sqrt(252) * 100)"
   ]
  },
  {
   "cell_type": "code",
   "execution_count": 917,
   "id": "d6f210ff",
   "metadata": {
    "ExecuteTime": {
     "end_time": "2022-08-09T16:07:27.673431Z",
     "start_time": "2022-08-09T16:07:27.641428Z"
    }
   },
   "outputs": [],
   "source": [
    "ibov = pd.read_csv('ibov.csv', usecols=[0,4], index_col=0)\n",
    "ibov.index = pd.to_datetime(ibov.index)\n",
    "ibov = ibov.loc[closed.date.min():closed.date.max()]"
   ]
  },
  {
   "cell_type": "code",
   "execution_count": 921,
   "id": "9d23e045",
   "metadata": {
    "ExecuteTime": {
     "end_time": "2022-08-09T16:07:54.538064Z",
     "start_time": "2022-08-09T16:07:54.530032Z"
    }
   },
   "outputs": [],
   "source": [
    "log_ret_ibov = np.log(ibov/ibov.shift())\n",
    "cumsum_ibov = np.cumsum(log_ret_ibov)"
   ]
  },
  {
   "cell_type": "code",
   "execution_count": 922,
   "id": "6315eed8",
   "metadata": {
    "ExecuteTime": {
     "end_time": "2022-08-09T16:07:55.112323Z",
     "start_time": "2022-08-09T16:07:55.088283Z"
    }
   },
   "outputs": [
    {
     "data": {
      "text/plain": [
       "30.731835789636257"
      ]
     },
     "execution_count": 922,
     "metadata": {},
     "output_type": "execute_result"
    }
   ],
   "source": [
    "vol_ibov = log_ret_ibov.close.std() * math.sqrt(252) * 100\n",
    "vol_ibov"
   ]
  },
  {
   "cell_type": "code",
   "execution_count": 923,
   "id": "00c97fa6",
   "metadata": {
    "ExecuteTime": {
     "end_time": "2022-08-09T16:07:56.002513Z",
     "start_time": "2022-08-09T16:07:55.568009Z"
    }
   },
   "outputs": [
    {
     "data": {
      "text/plain": [
       "<matplotlib.axes._subplots.AxesSubplot at 0x1c50eb65f10>"
      ]
     },
     "execution_count": 923,
     "metadata": {},
     "output_type": "execute_result"
    },
    {
     "data": {
      "image/png": "[encoded data removed]",
      "text/plain": [
       "<Figure size 1080x576 with 1 Axes>"
      ]
     },
     "metadata": {},
     "output_type": "display_data"
    }
   ],
   "source": [
    "sns.lineplot(x=cumsum_ibov.index, y=cumsum_ibov.close, label='ibov')\n",
    "sns.lineplot(x=cumsum_result.index, y=cumsum_result, label='cointegration')\n",
    "sns.lineplot(x=cumsum_result_BN.index, y=cumsum_result_BN, label='cointegration beta neutral')\n"
   ]
  },
  {
   "cell_type": "code",
   "execution_count": null,
   "id": "8d59e867",
   "metadata": {},
   "outputs": [],
   "source": []
  },
  {
   "cell_type": "code",
   "execution_count": null,
   "id": "3fe08dba",
   "metadata": {},
   "outputs": [],
   "source": []
  }
 ],
 "metadata": {
  "hide_code_all_hidden": false,
  "kernelspec": {
   "display_name": "Python 3",
   "language": "python",
   "name": "python3"
  },
  "language_info": {
   "codemirror_mode": {
    "name": "ipython",
    "version": 3
   },
   "file_extension": ".py",
   "mimetype": "text/x-python",
   "name": "python",
   "nbconvert_exporter": "python",
   "pygments_lexer": "ipython3",
   "version": "3.8.4"
  },
  "vscode": {
   "interpreter": {
    "hash": "e337efa0dbf50a479327a09a7ca80daa2467993c275d2b4497525709bdc18a22"
   }
  }
 },
 "nbformat": 4,
 "nbformat_minor": 5
}
