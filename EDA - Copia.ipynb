{
 "cells": [
  {
   "cell_type": "code",
   "execution_count": 2454,
   "id": "92947b9e",
   "metadata": {
    "ExecuteTime": {
     "end_time": "2022-08-08T20:49:24.340011Z",
     "start_time": "2022-08-08T20:49:24.333044Z"
    },
    "hideCode": false,
    "hidePrompt": false
   },
   "outputs": [],
   "source": [
    "import pandas as pd\n",
    "import numpy as np\n",
    "import seaborn as sns\n",
    "# from backtest import executer\n",
    "import matplotlib.pyplot as plt\n",
    "import plotly.express as px\n",
    "import math\n",
    "import ast"
   ]
  },
  {
   "cell_type": "code",
   "execution_count": 2455,
   "id": "497d01a2",
   "metadata": {
    "ExecuteTime": {
     "end_time": "2022-08-08T20:49:24.497191Z",
     "start_time": "2022-08-08T20:49:24.468187Z"
    }
   },
   "outputs": [],
   "source": [
    "sns.set(rc={'figure.figsize':(15,8)})"
   ]
  },
  {
   "cell_type": "code",
   "execution_count": 2456,
   "id": "d3ec46bd",
   "metadata": {
    "ExecuteTime": {
     "end_time": "2022-08-08T20:49:24.855209Z",
     "start_time": "2022-08-08T20:49:24.620552Z"
    },
    "hideCode": false,
    "hidePrompt": false
   },
   "outputs": [],
   "source": [
    "portfolio = pd.read_excel('PORTFOLIO.xlsx')\n",
    "\n",
    "df = pd.read_csv('result_std1.csv')\n",
    "df['date'] = pd.to_datetime(df.date)\n",
    "\n",
    "df['stock1'] = [pair.split(\"'\")[1] for pair in df.pair]"
   ]
  },
  {
   "cell_type": "code",
   "execution_count": 2457,
   "id": "1ce93f56",
   "metadata": {
    "ExecuteTime": {
     "end_time": "2022-08-08T20:49:25.026613Z",
     "start_time": "2022-08-08T20:49:24.859246Z"
    },
    "hideCode": false,
    "hidePrompt": false
   },
   "outputs": [],
   "source": [
    "df = df.merge(portfolio.drop_duplicates('ticker'), left_on='stock1', right_on='ticker',how='left')\n",
    "df.drop(columns=['stock1', 'ticker'], inplace=True)\n",
    "df['pair'] = df.pair.apply(ast.literal_eval)\n",
    "df['sorted_pair'] = df.pair.apply(sorted).apply(tuple)"
   ]
  },
  {
   "cell_type": "code",
   "execution_count": 2458,
   "id": "1f04a7e5",
   "metadata": {
    "ExecuteTime": {
     "end_time": "2022-08-08T20:49:25.058553Z",
     "start_time": "2022-08-08T20:49:25.029583Z"
    },
    "hideCode": false,
    "hidePrompt": false
   },
   "outputs": [],
   "source": [
    "df.drop_duplicates(subset=['date', 'sorted_pair'], keep='first',inplace=True)"
   ]
  },
  {
   "cell_type": "code",
   "execution_count": 2459,
   "id": "d6faaa45",
   "metadata": {
    "ExecuteTime": {
     "end_time": "2022-08-08T20:49:25.122541Z",
     "start_time": "2022-08-08T20:49:25.082590Z"
    },
    "hideCode": false,
    "hidePrompt": false
   },
   "outputs": [
    {
     "data": {
      "text/html": [
       "<div>\n",
       "<style scoped>\n",
       "    .dataframe tbody tr th:only-of-type {\n",
       "        vertical-align: middle;\n",
       "    }\n",
       "\n",
       "    .dataframe tbody tr th {\n",
       "        vertical-align: top;\n",
       "    }\n",
       "\n",
       "    .dataframe thead th {\n",
       "        text-align: right;\n",
       "    }\n",
       "</style>\n",
       "<table border=\"1\" class=\"dataframe\">\n",
       "  <thead>\n",
       "    <tr style=\"text-align: right;\">\n",
       "      <th></th>\n",
       "      <th>date</th>\n",
       "      <th>pair</th>\n",
       "      <th>status</th>\n",
       "      <th>price_fst_stock</th>\n",
       "      <th>price_scnd_stock</th>\n",
       "      <th>beta_open</th>\n",
       "      <th>beta_close</th>\n",
       "      <th>last_residual</th>\n",
       "      <th>std_residual</th>\n",
       "      <th>std_open_residual</th>\n",
       "      <th>...</th>\n",
       "      <th>open_price_scnd_stock</th>\n",
       "      <th>open_date</th>\n",
       "      <th>close_limit</th>\n",
       "      <th>stop_limit</th>\n",
       "      <th>halflife</th>\n",
       "      <th>days_open</th>\n",
       "      <th>data_ini</th>\n",
       "      <th>data_fin</th>\n",
       "      <th>setor</th>\n",
       "      <th>sorted_pair</th>\n",
       "    </tr>\n",
       "  </thead>\n",
       "  <tbody>\n",
       "  </tbody>\n",
       "</table>\n",
       "<p>0 rows × 22 columns</p>\n",
       "</div>"
      ],
      "text/plain": [
       "Empty DataFrame\n",
       "Columns: [date, pair, status, price_fst_stock, price_scnd_stock, beta_open, beta_close, last_residual, std_residual, std_open_residual, residual_open, open_price_first_stock, open_price_scnd_stock, open_date, close_limit, stop_limit, halflife, days_open, data_ini, data_fin, setor, sorted_pair]\n",
       "Index: []\n",
       "\n",
       "[0 rows x 22 columns]"
      ]
     },
     "execution_count": 2459,
     "metadata": {},
     "output_type": "execute_result"
    }
   ],
   "source": [
    "df.loc[(df.duplicated(subset=['date', 'sorted_pair'], keep='first'))].sort_values(by=['date', 'sorted_pair'])"
   ]
  },
  {
   "cell_type": "code",
   "execution_count": 2460,
   "id": "677dcb9c",
   "metadata": {
    "ExecuteTime": {
     "end_time": "2022-08-08T20:49:25.248137Z",
     "start_time": "2022-08-08T20:49:25.229103Z"
    },
    "hideCode": false,
    "hidePrompt": false
   },
   "outputs": [],
   "source": [
    "def result_calculator(row):\n",
    "    \n",
    "    \n",
    "    long_result = row['price_fst_stock'] - row['open_price_first_stock']\n",
    "    short_result = row['open_price_scnd_stock'] - row['price_scnd_stock']\n",
    "    \n",
    "#     long_result = row['open_price_first_stock'] - row['price_fst_stock']\n",
    "#     short_result = row['price_scnd_stock'] - row['open_price_scnd_stock']\n",
    "\n",
    "    result = long_result + short_result\n",
    "    \n",
    "    if row['residual_open'] > row['std_open_residual']:\n",
    "        result = - result\n",
    "\n",
    "    return result "
   ]
  },
  {
   "cell_type": "code",
   "execution_count": 2726,
   "id": "3fca547e",
   "metadata": {
    "ExecuteTime": {
     "end_time": "2022-08-09T00:09:54.034658Z",
     "start_time": "2022-08-09T00:09:54.002669Z"
    }
   },
   "outputs": [],
   "source": [
    "def result_calculator(row, kind='CN'):\n",
    "    \n",
    "    if kind=='CN':\n",
    "        multiplier = 1\n",
    "    if kind == 'BN':\n",
    "        multiplier = row.beta_open\n",
    "    \n",
    "    \n",
    "    if row['residual_open'] < row['std_open_residual']:\n",
    "        long_result = np.log(row['price_fst_stock'] / row['open_price_first_stock'])\n",
    "        short_result = np.log(row['open_price_scnd_stock'] / row['price_scnd_stock'])\n",
    "        \n",
    "        short_result = multiplier * short_result\n",
    "        result = long_result + short_result\n",
    "    \n",
    "    elif row['residual_open'] > row['std_open_residual']:\n",
    "        long_result = np.log(row['open_price_first_stock'] / row['price_fst_stock'])\n",
    "        short_result = np.log(row['price_scnd_stock'] / row['open_price_scnd_stock'])\n",
    "        \n",
    "        short_result = multiplier * short_result\n",
    "        result = long_result + short_result\n",
    "\n",
    "    return result "
   ]
  },
  {
   "cell_type": "code",
   "execution_count": 2727,
   "id": "f5738e67",
   "metadata": {
    "ExecuteTime": {
     "end_time": "2022-08-09T00:10:09.310048Z",
     "start_time": "2022-08-09T00:10:09.286012Z"
    },
    "hideCode": false,
    "hidePrompt": false
   },
   "outputs": [],
   "source": [
    "cond = (df.status.isin(['True', 'close']))"
   ]
  },
  {
   "cell_type": "code",
   "execution_count": 2729,
   "id": "e72e3b3c",
   "metadata": {
    "ExecuteTime": {
     "end_time": "2022-08-09T00:10:36.838252Z",
     "start_time": "2022-08-09T00:10:36.272126Z"
    },
    "hideCode": false,
    "hidePrompt": false
   },
   "outputs": [],
   "source": [
    "df.loc[cond, 'result'] = df.loc[cond].apply(lambda row: result_calculator(row), axis=1)\n",
    "df.loc[cond, 'result_beta_neutral'] = df.loc[cond].apply(lambda row: result_calculator(row, kind='BN'), axis=1)\n"
   ]
  },
  {
   "cell_type": "code",
   "execution_count": 2532,
   "id": "6d9c9bc5",
   "metadata": {
    "ExecuteTime": {
     "end_time": "2022-08-08T21:29:39.075895Z",
     "start_time": "2022-08-08T21:29:39.042903Z"
    },
    "hideCode": false,
    "hidePrompt": false
   },
   "outputs": [],
   "source": [
    "# Cash Neutral\n",
    "\n",
    "quant2 = df.loc[cond].open_price_first_stock / df.loc[cond].open_price_scnd_stock\n",
    "quant1 = 1\n",
    "\n",
    "long_result = df.loc[cond,'price_fst_stock'] - df.loc[cond,'open_price_first_stock']\n",
    "short_result = df.loc[cond,'open_price_scnd_stock'] - df.loc[cond,'price_scnd_stock']\n",
    "\n",
    "result = (quant1 * long_result) + (short_result * quant2)\n",
    "\n",
    "df.loc[cond,'cash'] = (quant1 * df.loc[cond, 'open_price_first_stock']) + (quant2 * df.loc[cond, 'open_price_scnd_stock'])\n",
    "\n",
    "df.loc[cond, 'result_cash_neutral'] = result\n",
    "df.loc[(cond) & (df.residual_open > df.std_open_residual), 'result_cash_neutral'] = - result\n"
   ]
  },
  {
   "cell_type": "code",
   "execution_count": 2533,
   "id": "62dd0c1c",
   "metadata": {
    "ExecuteTime": {
     "end_time": "2022-08-08T21:29:39.267192Z",
     "start_time": "2022-08-08T21:29:39.233188Z"
    },
    "hideCode": false,
    "hidePrompt": false
   },
   "outputs": [],
   "source": [
    "# Beta Neutral\n",
    "\n",
    "quant2 = df.loc[cond].beta_open\n",
    "quant1 = 1\n",
    "\n",
    "result = (quant1) * (df.loc[cond, 'price_fst_stock'] - df.loc[cond, 'open_price_first_stock']) + (df.loc[cond, 'open_price_scnd_stock'] - df.loc[cond,'price_scnd_stock']) * (quant2)\n",
    "\n",
    "df.loc[cond,'cash'] = (quant1 * df.loc[cond, 'open_price_first_stock']) + (quant2 * df.loc[cond, 'open_price_scnd_stock'])\n",
    "\n",
    "df.loc[cond, 'result_beta_neutral'] = result\n",
    "df.loc[(cond) & (df.residual_open > df.std_open_residual), 'result_beta_neutral'] = - result"
   ]
  },
  {
   "cell_type": "code",
   "execution_count": 2730,
   "id": "73e53512",
   "metadata": {
    "ExecuteTime": {
     "end_time": "2022-08-09T00:10:53.073482Z",
     "start_time": "2022-08-09T00:10:53.049447Z"
    },
    "hideCode": false,
    "hidePrompt": false
   },
   "outputs": [],
   "source": [
    "closed = df.loc[df.status=='close'].copy()\n",
    "\n",
    "closed['is_profit'] = closed['result'] > 0\n",
    "# closed['is_profit_CN'] = closed['result_cash_neutral'] > 0\n",
    "closed['is_profit_BN'] = closed['result_beta_neutral'] > 0\n"
   ]
  },
  {
   "cell_type": "code",
   "execution_count": 2736,
   "id": "0c46f2da",
   "metadata": {
    "ExecuteTime": {
     "end_time": "2022-08-09T00:11:47.324501Z",
     "start_time": "2022-08-09T00:11:47.308499Z"
    },
    "hideCode": false,
    "hidePrompt": false
   },
   "outputs": [],
   "source": [
    "result = closed[['result', 'result_beta_neutral']].sum()\n",
    "accuracy = closed[['is_profit','is_profit_BN']].mean()"
   ]
  },
  {
   "cell_type": "code",
   "execution_count": 2737,
   "id": "e5595341",
   "metadata": {
    "ExecuteTime": {
     "end_time": "2022-08-09T00:11:47.824973Z",
     "start_time": "2022-08-09T00:11:47.800950Z"
    },
    "hideCode": false,
    "hidePrompt": false
   },
   "outputs": [
    {
     "data": {
      "text/html": [
       "<div>\n",
       "<style scoped>\n",
       "    .dataframe tbody tr th:only-of-type {\n",
       "        vertical-align: middle;\n",
       "    }\n",
       "\n",
       "    .dataframe tbody tr th {\n",
       "        vertical-align: top;\n",
       "    }\n",
       "\n",
       "    .dataframe thead th {\n",
       "        text-align: right;\n",
       "    }\n",
       "</style>\n",
       "<table border=\"1\" class=\"dataframe\">\n",
       "  <thead>\n",
       "    <tr style=\"text-align: right;\">\n",
       "      <th></th>\n",
       "      <th>result</th>\n",
       "      <th>accuracy</th>\n",
       "    </tr>\n",
       "  </thead>\n",
       "  <tbody>\n",
       "    <tr>\n",
       "      <th>normal</th>\n",
       "      <td>4.109702</td>\n",
       "      <td>0.511137</td>\n",
       "    </tr>\n",
       "    <tr>\n",
       "      <th>beta_neutral</th>\n",
       "      <td>8.356766</td>\n",
       "      <td>0.507620</td>\n",
       "    </tr>\n",
       "  </tbody>\n",
       "</table>\n",
       "</div>"
      ],
      "text/plain": [
       "                result  accuracy\n",
       "normal        4.109702  0.511137\n",
       "beta_neutral  8.356766  0.507620"
      ]
     },
     "execution_count": 2737,
     "metadata": {},
     "output_type": "execute_result"
    }
   ],
   "source": [
    "result_table = {'result': result.values,\n",
    "                'accuracy': accuracy.values,                \n",
    "               }\n",
    "pd.DataFrame(result_table, index=['normal', 'beta_neutral'])"
   ]
  },
  {
   "cell_type": "code",
   "execution_count": 2738,
   "id": "aeccb768",
   "metadata": {
    "ExecuteTime": {
     "end_time": "2022-08-09T00:12:01.894447Z",
     "start_time": "2022-08-09T00:12:01.582531Z"
    },
    "hideCode": false,
    "hidePrompt": false,
    "scrolled": false
   },
   "outputs": [
    {
     "data": {
      "image/png": "[encoded data removed]",
      "text/plain": [
       "<Figure size 1080x576 with 1 Axes>"
      ]
     },
     "metadata": {},
     "output_type": "display_data"
    }
   ],
   "source": [
    "sns.kdeplot(x=closed.result, color='blue', label='normal', bw_adjust=5, cut=0, fill=True)\n",
    "# sns.kdeplot(x=closed.result_cash_neutral, color='red', label='cash neutral', bw_adjust=5, cut=0, fill=True)\n",
    "sns.kdeplot(x=closed.result_beta_neutral, color='green', label='beta neutral', bw_adjust=5, cut=0, fill=True)\n",
    "\n",
    "plt.axvline(x=0, linestyle='dotted')\n",
    "plt.legend()\n",
    "plt.show()"
   ]
  },
  {
   "cell_type": "code",
   "execution_count": 2538,
   "id": "c7ac8e0f",
   "metadata": {
    "ExecuteTime": {
     "end_time": "2022-08-08T21:29:40.456094Z",
     "start_time": "2022-08-08T21:29:40.412122Z"
    },
    "hideCode": false,
    "hidePrompt": false
   },
   "outputs": [
    {
     "data": {
      "text/html": [
       "<div>\n",
       "<style scoped>\n",
       "    .dataframe tbody tr th:only-of-type {\n",
       "        vertical-align: middle;\n",
       "    }\n",
       "\n",
       "    .dataframe tbody tr th {\n",
       "        vertical-align: top;\n",
       "    }\n",
       "\n",
       "    .dataframe thead th {\n",
       "        text-align: right;\n",
       "    }\n",
       "</style>\n",
       "<table border=\"1\" class=\"dataframe\">\n",
       "  <thead>\n",
       "    <tr style=\"text-align: right;\">\n",
       "      <th></th>\n",
       "      <th>sum</th>\n",
       "      <th>count</th>\n",
       "    </tr>\n",
       "  </thead>\n",
       "  <tbody>\n",
       "    <tr>\n",
       "      <th>result</th>\n",
       "      <td>1.854394</td>\n",
       "      <td>27.0</td>\n",
       "    </tr>\n",
       "    <tr>\n",
       "      <th>result_cash_neutral</th>\n",
       "      <td>59.558230</td>\n",
       "      <td>27.0</td>\n",
       "    </tr>\n",
       "    <tr>\n",
       "      <th>result_beta_neutral</th>\n",
       "      <td>80.075961</td>\n",
       "      <td>27.0</td>\n",
       "    </tr>\n",
       "  </tbody>\n",
       "</table>\n",
       "</div>"
      ],
      "text/plain": [
       "                           sum  count\n",
       "result                1.854394   27.0\n",
       "result_cash_neutral  59.558230   27.0\n",
       "result_beta_neutral  80.075961   27.0"
      ]
     },
     "execution_count": 2538,
     "metadata": {},
     "output_type": "execute_result"
    }
   ],
   "source": [
    "# Close by residual\n",
    "closed_by_residual = closed.loc[abs(df.last_residual) < df.close_limit,['result', 'result_cash_neutral', 'result_beta_neutral']].agg([sum, 'count']).T\n",
    "closed_by_residual"
   ]
  },
  {
   "cell_type": "code",
   "execution_count": 2539,
   "id": "ee948625",
   "metadata": {
    "ExecuteTime": {
     "end_time": "2022-08-08T21:30:00.336494Z",
     "start_time": "2022-08-08T21:30:00.312319Z"
    },
    "hideCode": false,
    "hidePrompt": false
   },
   "outputs": [
    {
     "data": {
      "text/html": [
       "<div>\n",
       "<style scoped>\n",
       "    .dataframe tbody tr th:only-of-type {\n",
       "        vertical-align: middle;\n",
       "    }\n",
       "\n",
       "    .dataframe tbody tr th {\n",
       "        vertical-align: top;\n",
       "    }\n",
       "\n",
       "    .dataframe thead th {\n",
       "        text-align: right;\n",
       "    }\n",
       "</style>\n",
       "<table border=\"1\" class=\"dataframe\">\n",
       "  <thead>\n",
       "    <tr style=\"text-align: right;\">\n",
       "      <th></th>\n",
       "      <th>sum</th>\n",
       "      <th>count</th>\n",
       "    </tr>\n",
       "  </thead>\n",
       "  <tbody>\n",
       "    <tr>\n",
       "      <th>result</th>\n",
       "      <td>-8.848446</td>\n",
       "      <td>322.0</td>\n",
       "    </tr>\n",
       "    <tr>\n",
       "      <th>result_cash_neutral</th>\n",
       "      <td>-210.390263</td>\n",
       "      <td>322.0</td>\n",
       "    </tr>\n",
       "    <tr>\n",
       "      <th>result_beta_neutral</th>\n",
       "      <td>-305.667564</td>\n",
       "      <td>322.0</td>\n",
       "    </tr>\n",
       "  </tbody>\n",
       "</table>\n",
       "</div>"
      ],
      "text/plain": [
       "                            sum  count\n",
       "result                -8.848446  322.0\n",
       "result_cash_neutral -210.390263  322.0\n",
       "result_beta_neutral -305.667564  322.0"
      ]
     },
     "execution_count": 2539,
     "metadata": {},
     "output_type": "execute_result"
    }
   ],
   "source": [
    "# stop by stop\n",
    "closed_by_stop = closed.loc[abs(df.last_residual) > df.stop_limit,['result', 'result_cash_neutral', 'result_beta_neutral']].agg([sum, 'count']).T\n",
    "closed_by_stop"
   ]
  },
  {
   "cell_type": "code",
   "execution_count": 2740,
   "id": "02349722",
   "metadata": {
    "ExecuteTime": {
     "end_time": "2022-08-09T00:12:53.896802Z",
     "start_time": "2022-08-09T00:12:53.864768Z"
    },
    "hideCode": false,
    "hidePrompt": false
   },
   "outputs": [
    {
     "data": {
      "text/html": [
       "<div>\n",
       "<style scoped>\n",
       "    .dataframe tbody tr th:only-of-type {\n",
       "        vertical-align: middle;\n",
       "    }\n",
       "\n",
       "    .dataframe tbody tr th {\n",
       "        vertical-align: top;\n",
       "    }\n",
       "\n",
       "    .dataframe thead th {\n",
       "        text-align: right;\n",
       "    }\n",
       "</style>\n",
       "<table border=\"1\" class=\"dataframe\">\n",
       "  <thead>\n",
       "    <tr style=\"text-align: right;\">\n",
       "      <th></th>\n",
       "      <th>sum</th>\n",
       "      <th>count</th>\n",
       "    </tr>\n",
       "  </thead>\n",
       "  <tbody>\n",
       "    <tr>\n",
       "      <th>result</th>\n",
       "      <td>10.894514</td>\n",
       "      <td>521.0</td>\n",
       "    </tr>\n",
       "    <tr>\n",
       "      <th>result_beta_neutral</th>\n",
       "      <td>19.022849</td>\n",
       "      <td>521.0</td>\n",
       "    </tr>\n",
       "  </tbody>\n",
       "</table>\n",
       "</div>"
      ],
      "text/plain": [
       "                           sum  count\n",
       "result               10.894514  521.0\n",
       "result_beta_neutral  19.022849  521.0"
      ]
     },
     "execution_count": 2740,
     "metadata": {},
     "output_type": "execute_result"
    }
   ],
   "source": [
    "# stop by halflife\n",
    "closed_by_halflife = closed.loc[closed.days_open > closed.halflife,['result', 'result_beta_neutral']].agg([sum, 'count']).T\n",
    "closed_by_halflife"
   ]
  },
  {
   "cell_type": "code",
   "execution_count": 2741,
   "id": "f55d849e",
   "metadata": {
    "ExecuteTime": {
     "end_time": "2022-08-09T00:13:00.150845Z",
     "start_time": "2022-08-09T00:13:00.142819Z"
    },
    "hideCode": false,
    "hidePrompt": false
   },
   "outputs": [],
   "source": [
    "# closed = closed.loc[closed.halflife.between(0,21)]"
   ]
  },
  {
   "cell_type": "code",
   "execution_count": 2744,
   "id": "7002ef2c",
   "metadata": {
    "ExecuteTime": {
     "end_time": "2022-08-09T00:14:45.592472Z",
     "start_time": "2022-08-09T00:14:45.568477Z"
    },
    "hideCode": false,
    "hidePrompt": false
   },
   "outputs": [
    {
     "data": {
      "text/html": [
       "<div>\n",
       "<style scoped>\n",
       "    .dataframe tbody tr th:only-of-type {\n",
       "        vertical-align: middle;\n",
       "    }\n",
       "\n",
       "    .dataframe tbody tr th {\n",
       "        vertical-align: top;\n",
       "    }\n",
       "\n",
       "    .dataframe thead th {\n",
       "        text-align: right;\n",
       "    }\n",
       "</style>\n",
       "<table border=\"1\" class=\"dataframe\">\n",
       "  <thead>\n",
       "    <tr style=\"text-align: right;\">\n",
       "      <th></th>\n",
       "      <th>date</th>\n",
       "      <th>variable</th>\n",
       "      <th>accuracy</th>\n",
       "    </tr>\n",
       "  </thead>\n",
       "  <tbody>\n",
       "    <tr>\n",
       "      <th>0</th>\n",
       "      <td>2019-07-31</td>\n",
       "      <td>normal</td>\n",
       "      <td>0.625000</td>\n",
       "    </tr>\n",
       "    <tr>\n",
       "      <th>1</th>\n",
       "      <td>2020-01-31</td>\n",
       "      <td>normal</td>\n",
       "      <td>0.511111</td>\n",
       "    </tr>\n",
       "    <tr>\n",
       "      <th>2</th>\n",
       "      <td>2020-07-31</td>\n",
       "      <td>normal</td>\n",
       "      <td>0.521053</td>\n",
       "    </tr>\n",
       "    <tr>\n",
       "      <th>3</th>\n",
       "      <td>2021-01-31</td>\n",
       "      <td>normal</td>\n",
       "      <td>0.532110</td>\n",
       "    </tr>\n",
       "    <tr>\n",
       "      <th>4</th>\n",
       "      <td>2021-07-31</td>\n",
       "      <td>normal</td>\n",
       "      <td>0.436090</td>\n",
       "    </tr>\n",
       "    <tr>\n",
       "      <th>5</th>\n",
       "      <td>2022-01-31</td>\n",
       "      <td>normal</td>\n",
       "      <td>0.559633</td>\n",
       "    </tr>\n",
       "    <tr>\n",
       "      <th>6</th>\n",
       "      <td>2022-07-31</td>\n",
       "      <td>normal</td>\n",
       "      <td>0.503106</td>\n",
       "    </tr>\n",
       "    <tr>\n",
       "      <th>7</th>\n",
       "      <td>2019-07-31</td>\n",
       "      <td>beta neutral</td>\n",
       "      <td>0.625000</td>\n",
       "    </tr>\n",
       "    <tr>\n",
       "      <th>8</th>\n",
       "      <td>2020-01-31</td>\n",
       "      <td>beta neutral</td>\n",
       "      <td>0.570370</td>\n",
       "    </tr>\n",
       "    <tr>\n",
       "      <th>9</th>\n",
       "      <td>2020-07-31</td>\n",
       "      <td>beta neutral</td>\n",
       "      <td>0.468421</td>\n",
       "    </tr>\n",
       "    <tr>\n",
       "      <th>10</th>\n",
       "      <td>2021-01-31</td>\n",
       "      <td>beta neutral</td>\n",
       "      <td>0.559633</td>\n",
       "    </tr>\n",
       "    <tr>\n",
       "      <th>11</th>\n",
       "      <td>2021-07-31</td>\n",
       "      <td>beta neutral</td>\n",
       "      <td>0.473684</td>\n",
       "    </tr>\n",
       "    <tr>\n",
       "      <th>12</th>\n",
       "      <td>2022-01-31</td>\n",
       "      <td>beta neutral</td>\n",
       "      <td>0.467890</td>\n",
       "    </tr>\n",
       "    <tr>\n",
       "      <th>13</th>\n",
       "      <td>2022-07-31</td>\n",
       "      <td>beta neutral</td>\n",
       "      <td>0.509317</td>\n",
       "    </tr>\n",
       "  </tbody>\n",
       "</table>\n",
       "</div>"
      ],
      "text/plain": [
       "          date      variable  accuracy\n",
       "0   2019-07-31        normal  0.625000\n",
       "1   2020-01-31        normal  0.511111\n",
       "2   2020-07-31        normal  0.521053\n",
       "3   2021-01-31        normal  0.532110\n",
       "4   2021-07-31        normal  0.436090\n",
       "5   2022-01-31        normal  0.559633\n",
       "6   2022-07-31        normal  0.503106\n",
       "7   2019-07-31  beta neutral  0.625000\n",
       "8   2020-01-31  beta neutral  0.570370\n",
       "9   2020-07-31  beta neutral  0.468421\n",
       "10  2021-01-31  beta neutral  0.559633\n",
       "11  2021-07-31  beta neutral  0.473684\n",
       "12  2022-01-31  beta neutral  0.467890\n",
       "13  2022-07-31  beta neutral  0.509317"
      ]
     },
     "execution_count": 2744,
     "metadata": {},
     "output_type": "execute_result"
    }
   ],
   "source": [
    "halfyear_accuracy"
   ]
  },
  {
   "cell_type": "code",
   "execution_count": 2743,
   "id": "4b3b600d",
   "metadata": {
    "ExecuteTime": {
     "end_time": "2022-08-09T00:13:16.521462Z",
     "start_time": "2022-08-09T00:13:16.251372Z"
    },
    "hideCode": false,
    "hidePrompt": false
   },
   "outputs": [
    {
     "data": {
      "image/png": "[encoded data removed]",
      "text/plain": [
       "<Figure size 1080x576 with 1 Axes>"
      ]
     },
     "metadata": {},
     "output_type": "display_data"
    }
   ],
   "source": [
    "# Halfyear accuracy\n",
    "halfyear_accuracy = closed.set_index('date').resample('6M')[['is_profit', 'is_profit_BN']].mean().reset_index()\n",
    "halfyear_accuracy.columns = ['date', 'normal', 'beta neutral']\n",
    "halfyear_accuracy['date'] = halfyear_accuracy['date'].dt.date\n",
    "halfyear_accuracy = halfyear_accuracy.melt(id_vars='date', value_name='accuracy')\n",
    "\n",
    "sns.barplot(x='date', y='accuracy', hue='variable', data=halfyear_accuracy)\n",
    "plt.xticks(rotation=90)\n",
    "plt.legend(bbox_to_anchor=(1.05, 1), loc=2, borderaxespad=0.)\n",
    "\n",
    "plt.show()"
   ]
  },
  {
   "cell_type": "code",
   "execution_count": 2762,
   "id": "54f0f274",
   "metadata": {
    "ExecuteTime": {
     "end_time": "2022-08-09T00:25:52.778161Z",
     "start_time": "2022-08-09T00:25:52.524947Z"
    },
    "hideCode": false,
    "hidePrompt": false
   },
   "outputs": [
    {
     "data": {
      "image/png": "[encoded data removed]",
      "text/plain": [
       "<Figure size 1080x576 with 1 Axes>"
      ]
     },
     "metadata": {},
     "output_type": "display_data"
    }
   ],
   "source": [
    "# Halfyear results\n",
    "halfyear_results = closed.set_index('date').resample('6M')[['result', 'result_beta_neutral']].sum().reset_index()\n",
    "halfyear_results.columns = ['date', 'normal', 'beta neutral']\n",
    "halfyear_results['date'] = halfyear_results.date.dt.date\n",
    "halfyear_results = halfyear_results.melt(id_vars='date', value_name='result')\n",
    "\n",
    "sns.barplot(x='date', y='result', hue='variable', data=halfyear_results)\n",
    "# plt.xticks(rotation=90)\n",
    "plt.legend(bbox_to_anchor=(1.05, 1), loc=2, borderaxespad=0.)\n",
    "\n",
    "plt.show()"
   ]
  },
  {
   "cell_type": "code",
   "execution_count": 2746,
   "id": "80572321",
   "metadata": {
    "ExecuteTime": {
     "end_time": "2022-08-09T00:15:38.543675Z",
     "start_time": "2022-08-09T00:15:38.519666Z"
    },
    "hideCode": false,
    "hidePrompt": false
   },
   "outputs": [],
   "source": [
    "closed_daily = closed.groupby('date').agg({'result':'mean', 'result_beta_neutral':'mean'})"
   ]
  },
  {
   "cell_type": "code",
   "execution_count": 2747,
   "id": "3e350f64",
   "metadata": {
    "ExecuteTime": {
     "end_time": "2022-08-09T00:15:42.357300Z",
     "start_time": "2022-08-09T00:15:41.962089Z"
    },
    "hideCode": false,
    "hidePrompt": false
   },
   "outputs": [
    {
     "data": {
      "image/png": "[encoded data removed]",
      "text/plain": [
       "<Figure size 1080x576 with 1 Axes>"
      ]
     },
     "metadata": {},
     "output_type": "display_data"
    }
   ],
   "source": [
    "sns.lineplot(x=closed_daily.index, y=closed_daily.result.cumsum(), label='result')\n",
    "# sns.lineplot(x=closed_daily.index, y=closed_daily.result_cash_neutral.cumsum(),color='red', label='cash neutral')\n",
    "sns.lineplot(x=closed_daily.index, y=closed_daily.result_beta_neutral.cumsum(),color='green', label='beta neutral')\n",
    "\n",
    "\n",
    "plt.xticks(rotation=45)\n",
    "plt.show()"
   ]
  },
  {
   "cell_type": "code",
   "execution_count": 2750,
   "id": "9f4d8a70",
   "metadata": {
    "ExecuteTime": {
     "end_time": "2022-08-09T00:16:52.768200Z",
     "start_time": "2022-08-09T00:16:52.408271Z"
    }
   },
   "outputs": [
    {
     "data": {
      "text/plain": [
       "[]"
      ]
     },
     "execution_count": 2750,
     "metadata": {},
     "output_type": "execute_result"
    },
    {
     "data": {
      "image/png": "[encoded data removed]",
      "text/plain": [
       "<Figure size 1080x576 with 1 Axes>"
      ]
     },
     "metadata": {},
     "output_type": "display_data"
    }
   ],
   "source": [
    "closed_setor = closed[['setor', 'result', 'result_beta_neutral']].melt(id_vars='setor')\n",
    "closed_setor = closed_setor.groupby(['setor', 'variable'], as_index=False).sum()\n",
    "\n",
    "plt.figure(figsize=(15,8))\n",
    "\n",
    "sns.barplot(x='setor', y='value', hue='variable', data=closed_setor, orient='v')\n",
    "# plt.grid(axis='x')\n",
    "plt.xticks(rotation=90)\n",
    "plt.xlabel(None)\n",
    "plt.plot()"
   ]
  },
  {
   "cell_type": "code",
   "execution_count": 2751,
   "id": "cb4417fa",
   "metadata": {
    "ExecuteTime": {
     "end_time": "2022-08-09T00:17:59.906574Z",
     "start_time": "2022-08-09T00:17:59.872995Z"
    },
    "hideCode": false,
    "hidePrompt": false
   },
   "outputs": [
    {
     "data": {
      "text/html": [
       "<div>\n",
       "<style scoped>\n",
       "    .dataframe tbody tr th:only-of-type {\n",
       "        vertical-align: middle;\n",
       "    }\n",
       "\n",
       "    .dataframe tbody tr th {\n",
       "        vertical-align: top;\n",
       "    }\n",
       "\n",
       "    .dataframe thead th {\n",
       "        text-align: right;\n",
       "    }\n",
       "</style>\n",
       "<table border=\"1\" class=\"dataframe\">\n",
       "  <thead>\n",
       "    <tr style=\"text-align: right;\">\n",
       "      <th>variable</th>\n",
       "      <th>result</th>\n",
       "      <th>result_beta_neutral</th>\n",
       "    </tr>\n",
       "    <tr>\n",
       "      <th>setor</th>\n",
       "      <th></th>\n",
       "      <th></th>\n",
       "    </tr>\n",
       "  </thead>\n",
       "  <tbody>\n",
       "    <tr>\n",
       "      <th>Alimentos e Bebidas</th>\n",
       "      <td>0.347434</td>\n",
       "      <td>0.080648</td>\n",
       "    </tr>\n",
       "    <tr>\n",
       "      <th>Aéreas</th>\n",
       "      <td>0.072371</td>\n",
       "      <td>0.071178</td>\n",
       "    </tr>\n",
       "    <tr>\n",
       "      <th>Bens Industriais</th>\n",
       "      <td>0.824567</td>\n",
       "      <td>0.340602</td>\n",
       "    </tr>\n",
       "    <tr>\n",
       "      <th>Construção Civil</th>\n",
       "      <td>-0.104085</td>\n",
       "      <td>-0.239988</td>\n",
       "    </tr>\n",
       "    <tr>\n",
       "      <th>Educação</th>\n",
       "      <td>-0.047222</td>\n",
       "      <td>-0.186650</td>\n",
       "    </tr>\n",
       "    <tr>\n",
       "      <th>Exploração de imóveis</th>\n",
       "      <td>0.236697</td>\n",
       "      <td>0.493060</td>\n",
       "    </tr>\n",
       "    <tr>\n",
       "      <th>Financeiro</th>\n",
       "      <td>0.706203</td>\n",
       "      <td>1.986108</td>\n",
       "    </tr>\n",
       "    <tr>\n",
       "      <th>Mineração e Siderurgia</th>\n",
       "      <td>0.093632</td>\n",
       "      <td>0.169157</td>\n",
       "    </tr>\n",
       "    <tr>\n",
       "      <th>Papel e Celulose</th>\n",
       "      <td>0.260459</td>\n",
       "      <td>0.151085</td>\n",
       "    </tr>\n",
       "    <tr>\n",
       "      <th>Petroleo, gás e biocombustíveis</th>\n",
       "      <td>-0.976153</td>\n",
       "      <td>-0.603262</td>\n",
       "    </tr>\n",
       "    <tr>\n",
       "      <th>Saúde</th>\n",
       "      <td>2.123372</td>\n",
       "      <td>2.465570</td>\n",
       "    </tr>\n",
       "    <tr>\n",
       "      <th>Telecomunicações</th>\n",
       "      <td>0.089433</td>\n",
       "      <td>0.403526</td>\n",
       "    </tr>\n",
       "    <tr>\n",
       "      <th>Utilidade Pública</th>\n",
       "      <td>1.026948</td>\n",
       "      <td>2.897936</td>\n",
       "    </tr>\n",
       "    <tr>\n",
       "      <th>Varejo</th>\n",
       "      <td>-0.543954</td>\n",
       "      <td>0.327796</td>\n",
       "    </tr>\n",
       "  </tbody>\n",
       "</table>\n",
       "</div>"
      ],
      "text/plain": [
       "variable                           result  result_beta_neutral\n",
       "setor                                                         \n",
       "Alimentos e Bebidas              0.347434             0.080648\n",
       "Aéreas                           0.072371             0.071178\n",
       "Bens Industriais                 0.824567             0.340602\n",
       "Construção Civil                -0.104085            -0.239988\n",
       "Educação                        -0.047222            -0.186650\n",
       "Exploração de imóveis            0.236697             0.493060\n",
       "Financeiro                       0.706203             1.986108\n",
       "Mineração e Siderurgia           0.093632             0.169157\n",
       "Papel e Celulose                 0.260459             0.151085\n",
       "Petroleo, gás e biocombustíveis -0.976153            -0.603262\n",
       "Saúde                            2.123372             2.465570\n",
       "Telecomunicações                 0.089433             0.403526\n",
       "Utilidade Pública                1.026948             2.897936\n",
       "Varejo                          -0.543954             0.327796"
      ]
     },
     "execution_count": 2751,
     "metadata": {},
     "output_type": "execute_result"
    }
   ],
   "source": [
    "closed_setor.pivot(index='setor', columns='variable', values='value')"
   ]
  },
  {
   "cell_type": "code",
   "execution_count": 2753,
   "id": "75e8d8bf",
   "metadata": {
    "ExecuteTime": {
     "end_time": "2022-08-09T00:18:44.101141Z",
     "start_time": "2022-08-09T00:18:43.736333Z"
    }
   },
   "outputs": [
    {
     "data": {
      "text/plain": [
       "[]"
      ]
     },
     "execution_count": 2753,
     "metadata": {},
     "output_type": "execute_result"
    },
    {
     "data": {
      "image/png": "[encoded data removed]",
      "text/plain": [
       "<Figure size 1080x576 with 1 Axes>"
      ]
     },
     "metadata": {},
     "output_type": "display_data"
    }
   ],
   "source": [
    "closed_setor_accuracy = closed[['setor', 'is_profit', 'is_profit_BN']].melt(id_vars='setor', value_name='accuracy')\n",
    "closed_setor_accuracy = closed_setor_accuracy.groupby(['setor', 'variable'], as_index=False).mean()\n",
    "sns.barplot(x='setor', y='accuracy', hue='variable', data=closed_setor_accuracy, orient='v', )\n",
    "plt.axhline(y=0.5, linestyle='dotted')\n",
    "plt.xlabel(None)\n",
    "plt.xticks(rotation=90)\n",
    "# plt.grid(axis='x')\n",
    "plt.plot()"
   ]
  },
  {
   "cell_type": "code",
   "execution_count": 2754,
   "id": "cd163cd7",
   "metadata": {
    "ExecuteTime": {
     "end_time": "2022-08-09T00:19:00.501718Z",
     "start_time": "2022-08-09T00:19:00.483735Z"
    }
   },
   "outputs": [
    {
     "data": {
      "text/html": [
       "<div>\n",
       "<style scoped>\n",
       "    .dataframe tbody tr th:only-of-type {\n",
       "        vertical-align: middle;\n",
       "    }\n",
       "\n",
       "    .dataframe tbody tr th {\n",
       "        vertical-align: top;\n",
       "    }\n",
       "\n",
       "    .dataframe thead th {\n",
       "        text-align: right;\n",
       "    }\n",
       "</style>\n",
       "<table border=\"1\" class=\"dataframe\">\n",
       "  <thead>\n",
       "    <tr style=\"text-align: right;\">\n",
       "      <th>variable</th>\n",
       "      <th>is_profit</th>\n",
       "      <th>is_profit_BN</th>\n",
       "    </tr>\n",
       "    <tr>\n",
       "      <th>setor</th>\n",
       "      <th></th>\n",
       "      <th></th>\n",
       "    </tr>\n",
       "  </thead>\n",
       "  <tbody>\n",
       "    <tr>\n",
       "      <th>Alimentos e Bebidas</th>\n",
       "      <td>0.531250</td>\n",
       "      <td>0.375000</td>\n",
       "    </tr>\n",
       "    <tr>\n",
       "      <th>Aéreas</th>\n",
       "      <td>0.545455</td>\n",
       "      <td>0.545455</td>\n",
       "    </tr>\n",
       "    <tr>\n",
       "      <th>Bens Industriais</th>\n",
       "      <td>0.593750</td>\n",
       "      <td>0.500000</td>\n",
       "    </tr>\n",
       "    <tr>\n",
       "      <th>Construção Civil</th>\n",
       "      <td>0.333333</td>\n",
       "      <td>0.222222</td>\n",
       "    </tr>\n",
       "    <tr>\n",
       "      <th>Educação</th>\n",
       "      <td>0.500000</td>\n",
       "      <td>0.500000</td>\n",
       "    </tr>\n",
       "    <tr>\n",
       "      <th>Exploração de imóveis</th>\n",
       "      <td>0.666667</td>\n",
       "      <td>0.888889</td>\n",
       "    </tr>\n",
       "    <tr>\n",
       "      <th>Financeiro</th>\n",
       "      <td>0.509434</td>\n",
       "      <td>0.498113</td>\n",
       "    </tr>\n",
       "    <tr>\n",
       "      <th>Mineração e Siderurgia</th>\n",
       "      <td>0.477612</td>\n",
       "      <td>0.492537</td>\n",
       "    </tr>\n",
       "    <tr>\n",
       "      <th>Papel e Celulose</th>\n",
       "      <td>1.000000</td>\n",
       "      <td>0.714286</td>\n",
       "    </tr>\n",
       "    <tr>\n",
       "      <th>Petroleo, gás e biocombustíveis</th>\n",
       "      <td>0.400000</td>\n",
       "      <td>0.400000</td>\n",
       "    </tr>\n",
       "    <tr>\n",
       "      <th>Saúde</th>\n",
       "      <td>0.573171</td>\n",
       "      <td>0.609756</td>\n",
       "    </tr>\n",
       "    <tr>\n",
       "      <th>Telecomunicações</th>\n",
       "      <td>1.000000</td>\n",
       "      <td>0.750000</td>\n",
       "    </tr>\n",
       "    <tr>\n",
       "      <th>Utilidade Pública</th>\n",
       "      <td>0.504348</td>\n",
       "      <td>0.552174</td>\n",
       "    </tr>\n",
       "    <tr>\n",
       "      <th>Varejo</th>\n",
       "      <td>0.428571</td>\n",
       "      <td>0.339286</td>\n",
       "    </tr>\n",
       "  </tbody>\n",
       "</table>\n",
       "</div>"
      ],
      "text/plain": [
       "variable                         is_profit  is_profit_BN\n",
       "setor                                                   \n",
       "Alimentos e Bebidas               0.531250      0.375000\n",
       "Aéreas                            0.545455      0.545455\n",
       "Bens Industriais                  0.593750      0.500000\n",
       "Construção Civil                  0.333333      0.222222\n",
       "Educação                          0.500000      0.500000\n",
       "Exploração de imóveis             0.666667      0.888889\n",
       "Financeiro                        0.509434      0.498113\n",
       "Mineração e Siderurgia            0.477612      0.492537\n",
       "Papel e Celulose                  1.000000      0.714286\n",
       "Petroleo, gás e biocombustíveis   0.400000      0.400000\n",
       "Saúde                             0.573171      0.609756\n",
       "Telecomunicações                  1.000000      0.750000\n",
       "Utilidade Pública                 0.504348      0.552174\n",
       "Varejo                            0.428571      0.339286"
      ]
     },
     "execution_count": 2754,
     "metadata": {},
     "output_type": "execute_result"
    }
   ],
   "source": [
    "closed_setor_accuracy.pivot(index='setor', columns='variable', values='accuracy')"
   ]
  },
  {
   "cell_type": "code",
   "execution_count": 2756,
   "id": "082c1994",
   "metadata": {
    "ExecuteTime": {
     "end_time": "2022-08-09T00:19:47.555765Z",
     "start_time": "2022-08-09T00:19:47.515702Z"
    },
    "hideCode": false,
    "hidePrompt": false
   },
   "outputs": [
    {
     "data": {
      "text/html": [
       "<div>\n",
       "<style scoped>\n",
       "    .dataframe tbody tr th:only-of-type {\n",
       "        vertical-align: middle;\n",
       "    }\n",
       "\n",
       "    .dataframe tbody tr th {\n",
       "        vertical-align: top;\n",
       "    }\n",
       "\n",
       "    .dataframe thead th {\n",
       "        text-align: right;\n",
       "    }\n",
       "</style>\n",
       "<table border=\"1\" class=\"dataframe\">\n",
       "  <thead>\n",
       "    <tr style=\"text-align: right;\">\n",
       "      <th></th>\n",
       "      <th>result_sum</th>\n",
       "      <th>result_mean</th>\n",
       "      <th>count</th>\n",
       "      <th>accuracy</th>\n",
       "      <th>sector</th>\n",
       "    </tr>\n",
       "    <tr>\n",
       "      <th>sorted_pair</th>\n",
       "      <th></th>\n",
       "      <th></th>\n",
       "      <th></th>\n",
       "      <th></th>\n",
       "      <th></th>\n",
       "    </tr>\n",
       "  </thead>\n",
       "  <tbody>\n",
       "    <tr>\n",
       "      <th>(KLBN11, SUZB3)</th>\n",
       "      <td>0.037208</td>\n",
       "      <td>0.037208</td>\n",
       "      <td>7</td>\n",
       "      <td>1.000000</td>\n",
       "      <td>Papel e Celulose</td>\n",
       "    </tr>\n",
       "    <tr>\n",
       "      <th>(TIMS3, VIVT3)</th>\n",
       "      <td>0.022358</td>\n",
       "      <td>0.022358</td>\n",
       "      <td>4</td>\n",
       "      <td>1.000000</td>\n",
       "      <td>Telecomunicações</td>\n",
       "    </tr>\n",
       "    <tr>\n",
       "      <th>(BBDC3, BBDC4)</th>\n",
       "      <td>0.007150</td>\n",
       "      <td>0.007150</td>\n",
       "      <td>9</td>\n",
       "      <td>0.888889</td>\n",
       "      <td>Financeiro</td>\n",
       "    </tr>\n",
       "    <tr>\n",
       "      <th>(BBAS3, ITSA4)</th>\n",
       "      <td>0.021131</td>\n",
       "      <td>0.021131</td>\n",
       "      <td>6</td>\n",
       "      <td>0.833333</td>\n",
       "      <td>Financeiro</td>\n",
       "    </tr>\n",
       "    <tr>\n",
       "      <th>(ELET6, EQTL3)</th>\n",
       "      <td>0.027408</td>\n",
       "      <td>0.027408</td>\n",
       "      <td>10</td>\n",
       "      <td>0.800000</td>\n",
       "      <td>Utilidade Pública</td>\n",
       "    </tr>\n",
       "    <tr>\n",
       "      <th>(ITSA4, ITUB4)</th>\n",
       "      <td>0.010456</td>\n",
       "      <td>0.010456</td>\n",
       "      <td>5</td>\n",
       "      <td>0.800000</td>\n",
       "      <td>Financeiro</td>\n",
       "    </tr>\n",
       "    <tr>\n",
       "      <th>(BRAP4, GGBR4)</th>\n",
       "      <td>0.068471</td>\n",
       "      <td>0.068471</td>\n",
       "      <td>9</td>\n",
       "      <td>0.777778</td>\n",
       "      <td>Mineração e Siderurgia</td>\n",
       "    </tr>\n",
       "    <tr>\n",
       "      <th>(CCRO3, RAIL3)</th>\n",
       "      <td>0.053841</td>\n",
       "      <td>0.053841</td>\n",
       "      <td>12</td>\n",
       "      <td>0.750000</td>\n",
       "      <td>Bens Industriais</td>\n",
       "    </tr>\n",
       "    <tr>\n",
       "      <th>(ABEV3, BRFS3)</th>\n",
       "      <td>0.075996</td>\n",
       "      <td>0.075996</td>\n",
       "      <td>8</td>\n",
       "      <td>0.750000</td>\n",
       "      <td>Alimentos e Bebidas</td>\n",
       "    </tr>\n",
       "    <tr>\n",
       "      <th>(BBAS3, BBSE3)</th>\n",
       "      <td>0.015531</td>\n",
       "      <td>0.015531</td>\n",
       "      <td>8</td>\n",
       "      <td>0.750000</td>\n",
       "      <td>Financeiro</td>\n",
       "    </tr>\n",
       "    <tr>\n",
       "      <th>(CSAN3, VBBR3)</th>\n",
       "      <td>0.026009</td>\n",
       "      <td>0.026009</td>\n",
       "      <td>4</td>\n",
       "      <td>0.750000</td>\n",
       "      <td>Petroleo, gás e biocombustíveis</td>\n",
       "    </tr>\n",
       "    <tr>\n",
       "      <th>(EGIE3, TAEE11)</th>\n",
       "      <td>0.008493</td>\n",
       "      <td>0.008493</td>\n",
       "      <td>4</td>\n",
       "      <td>0.750000</td>\n",
       "      <td>Utilidade Pública</td>\n",
       "    </tr>\n",
       "    <tr>\n",
       "      <th>(FLRY3, RADL3)</th>\n",
       "      <td>0.050041</td>\n",
       "      <td>0.050041</td>\n",
       "      <td>11</td>\n",
       "      <td>0.727273</td>\n",
       "      <td>Saúde</td>\n",
       "    </tr>\n",
       "    <tr>\n",
       "      <th>(B3SA3, SULA11)</th>\n",
       "      <td>0.008801</td>\n",
       "      <td>0.008801</td>\n",
       "      <td>9</td>\n",
       "      <td>0.666667</td>\n",
       "      <td>Financeiro</td>\n",
       "    </tr>\n",
       "    <tr>\n",
       "      <th>(BRML3, MULT3)</th>\n",
       "      <td>0.026300</td>\n",
       "      <td>0.026300</td>\n",
       "      <td>9</td>\n",
       "      <td>0.666667</td>\n",
       "      <td>Exploração de imóveis</td>\n",
       "    </tr>\n",
       "    <tr>\n",
       "      <th>(CSNA3, GGBR4)</th>\n",
       "      <td>0.006418</td>\n",
       "      <td>0.006418</td>\n",
       "      <td>6</td>\n",
       "      <td>0.666667</td>\n",
       "      <td>Mineração e Siderurgia</td>\n",
       "    </tr>\n",
       "    <tr>\n",
       "      <th>(ELET3, ELET6)</th>\n",
       "      <td>0.006225</td>\n",
       "      <td>0.006225</td>\n",
       "      <td>16</td>\n",
       "      <td>0.625000</td>\n",
       "      <td>Utilidade Pública</td>\n",
       "    </tr>\n",
       "    <tr>\n",
       "      <th>(HYPE3, RADL3)</th>\n",
       "      <td>0.019781</td>\n",
       "      <td>0.019781</td>\n",
       "      <td>16</td>\n",
       "      <td>0.625000</td>\n",
       "      <td>Saúde</td>\n",
       "    </tr>\n",
       "    <tr>\n",
       "      <th>(CMIG4, ENBR3)</th>\n",
       "      <td>0.019074</td>\n",
       "      <td>0.019074</td>\n",
       "      <td>8</td>\n",
       "      <td>0.625000</td>\n",
       "      <td>Utilidade Pública</td>\n",
       "    </tr>\n",
       "    <tr>\n",
       "      <th>(HYPE3, QUAL3)</th>\n",
       "      <td>0.021256</td>\n",
       "      <td>0.021256</td>\n",
       "      <td>8</td>\n",
       "      <td>0.625000</td>\n",
       "      <td>Saúde</td>\n",
       "    </tr>\n",
       "    <tr>\n",
       "      <th>(B3SA3, BBSE3)</th>\n",
       "      <td>-0.000839</td>\n",
       "      <td>-0.000839</td>\n",
       "      <td>5</td>\n",
       "      <td>0.600000</td>\n",
       "      <td>Financeiro</td>\n",
       "    </tr>\n",
       "    <tr>\n",
       "      <th>(BBAS3, BBDC3)</th>\n",
       "      <td>0.015091</td>\n",
       "      <td>0.015091</td>\n",
       "      <td>5</td>\n",
       "      <td>0.600000</td>\n",
       "      <td>Financeiro</td>\n",
       "    </tr>\n",
       "    <tr>\n",
       "      <th>(BBDC4, SANB11)</th>\n",
       "      <td>0.006913</td>\n",
       "      <td>0.006913</td>\n",
       "      <td>5</td>\n",
       "      <td>0.600000</td>\n",
       "      <td>Financeiro</td>\n",
       "    </tr>\n",
       "    <tr>\n",
       "      <th>(BBDC4, SULA11)</th>\n",
       "      <td>0.027389</td>\n",
       "      <td>0.027389</td>\n",
       "      <td>5</td>\n",
       "      <td>0.600000</td>\n",
       "      <td>Financeiro</td>\n",
       "    </tr>\n",
       "    <tr>\n",
       "      <th>(CPFE3, ENGI11)</th>\n",
       "      <td>0.010460</td>\n",
       "      <td>0.010460</td>\n",
       "      <td>5</td>\n",
       "      <td>0.600000</td>\n",
       "      <td>Utilidade Pública</td>\n",
       "    </tr>\n",
       "  </tbody>\n",
       "</table>\n",
       "</div>"
      ],
      "text/plain": [
       "                 result_sum  result_mean  count  accuracy  \\\n",
       "sorted_pair                                                 \n",
       "(KLBN11, SUZB3)    0.037208     0.037208      7  1.000000   \n",
       "(TIMS3, VIVT3)     0.022358     0.022358      4  1.000000   \n",
       "(BBDC3, BBDC4)     0.007150     0.007150      9  0.888889   \n",
       "(BBAS3, ITSA4)     0.021131     0.021131      6  0.833333   \n",
       "(ELET6, EQTL3)     0.027408     0.027408     10  0.800000   \n",
       "(ITSA4, ITUB4)     0.010456     0.010456      5  0.800000   \n",
       "(BRAP4, GGBR4)     0.068471     0.068471      9  0.777778   \n",
       "(CCRO3, RAIL3)     0.053841     0.053841     12  0.750000   \n",
       "(ABEV3, BRFS3)     0.075996     0.075996      8  0.750000   \n",
       "(BBAS3, BBSE3)     0.015531     0.015531      8  0.750000   \n",
       "(CSAN3, VBBR3)     0.026009     0.026009      4  0.750000   \n",
       "(EGIE3, TAEE11)    0.008493     0.008493      4  0.750000   \n",
       "(FLRY3, RADL3)     0.050041     0.050041     11  0.727273   \n",
       "(B3SA3, SULA11)    0.008801     0.008801      9  0.666667   \n",
       "(BRML3, MULT3)     0.026300     0.026300      9  0.666667   \n",
       "(CSNA3, GGBR4)     0.006418     0.006418      6  0.666667   \n",
       "(ELET3, ELET6)     0.006225     0.006225     16  0.625000   \n",
       "(HYPE3, RADL3)     0.019781     0.019781     16  0.625000   \n",
       "(CMIG4, ENBR3)     0.019074     0.019074      8  0.625000   \n",
       "(HYPE3, QUAL3)     0.021256     0.021256      8  0.625000   \n",
       "(B3SA3, BBSE3)    -0.000839    -0.000839      5  0.600000   \n",
       "(BBAS3, BBDC3)     0.015091     0.015091      5  0.600000   \n",
       "(BBDC4, SANB11)    0.006913     0.006913      5  0.600000   \n",
       "(BBDC4, SULA11)    0.027389     0.027389      5  0.600000   \n",
       "(CPFE3, ENGI11)    0.010460     0.010460      5  0.600000   \n",
       "\n",
       "                                          sector  \n",
       "sorted_pair                                       \n",
       "(KLBN11, SUZB3)                 Papel e Celulose  \n",
       "(TIMS3, VIVT3)                  Telecomunicações  \n",
       "(BBDC3, BBDC4)                        Financeiro  \n",
       "(BBAS3, ITSA4)                        Financeiro  \n",
       "(ELET6, EQTL3)                 Utilidade Pública  \n",
       "(ITSA4, ITUB4)                        Financeiro  \n",
       "(BRAP4, GGBR4)            Mineração e Siderurgia  \n",
       "(CCRO3, RAIL3)                  Bens Industriais  \n",
       "(ABEV3, BRFS3)               Alimentos e Bebidas  \n",
       "(BBAS3, BBSE3)                        Financeiro  \n",
       "(CSAN3, VBBR3)   Petroleo, gás e biocombustíveis  \n",
       "(EGIE3, TAEE11)                Utilidade Pública  \n",
       "(FLRY3, RADL3)                             Saúde  \n",
       "(B3SA3, SULA11)                       Financeiro  \n",
       "(BRML3, MULT3)             Exploração de imóveis  \n",
       "(CSNA3, GGBR4)            Mineração e Siderurgia  \n",
       "(ELET3, ELET6)                 Utilidade Pública  \n",
       "(HYPE3, RADL3)                             Saúde  \n",
       "(CMIG4, ENBR3)                 Utilidade Pública  \n",
       "(HYPE3, QUAL3)                             Saúde  \n",
       "(B3SA3, BBSE3)                        Financeiro  \n",
       "(BBAS3, BBDC3)                        Financeiro  \n",
       "(BBDC4, SANB11)                       Financeiro  \n",
       "(BBDC4, SULA11)                       Financeiro  \n",
       "(CPFE3, ENGI11)                Utilidade Pública  "
      ]
     },
     "execution_count": 2756,
     "metadata": {},
     "output_type": "execute_result"
    }
   ],
   "source": [
    "pair_closed = closed.groupby('sorted_pair').agg(\n",
    "    result_sum=('result', 'mean'),\n",
    "    result_mean=('result', 'mean'),\n",
    "    count=('result', 'count'),\n",
    "    accuracy=('is_profit', 'mean'),\n",
    "    sector=('setor', 'last')\n",
    "    )\n",
    "\n",
    "pair_closed.loc[pair_closed['count']>3].sort_values(by=['accuracy', 'count'], ascending=False).head(25)"
   ]
  },
  {
   "cell_type": "code",
   "execution_count": 55,
   "id": "0369f555",
   "metadata": {
    "ExecuteTime": {
     "end_time": "2022-08-05T16:26:54.725516Z",
     "start_time": "2022-08-05T16:26:54.528530Z"
    },
    "hideCode": false,
    "hidePrompt": false
   },
   "outputs": [],
   "source": [
    "# pair_closed.to_excel('pares_parcial.xlsx')"
   ]
  },
  {
   "cell_type": "code",
   "execution_count": 2757,
   "id": "addc2e84",
   "metadata": {
    "ExecuteTime": {
     "end_time": "2022-08-09T00:20:58.998342Z",
     "start_time": "2022-08-09T00:20:58.669974Z"
    },
    "hideCode": false,
    "hidePrompt": false
   },
   "outputs": [
    {
     "data": {
      "text/plain": [
       "<matplotlib.axes._subplots.AxesSubplot at 0x23d0f20bdc0>"
      ]
     },
     "execution_count": 2757,
     "metadata": {},
     "output_type": "execute_result"
    },
    {
     "data": {
      "image/png": "[encoded data removed]",
      "text/plain": [
       "<Figure size 1080x576 with 1 Axes>"
      ]
     },
     "metadata": {},
     "output_type": "display_data"
    }
   ],
   "source": [
    "closed_daily.result.cumsum().plot()"
   ]
  },
  {
   "cell_type": "code",
   "execution_count": 2446,
   "id": "17573866",
   "metadata": {
    "ExecuteTime": {
     "end_time": "2022-08-08T20:47:18.816836Z",
     "start_time": "2022-08-08T20:47:18.806795Z"
    }
   },
   "outputs": [
    {
     "data": {
      "text/plain": [
       "Index(['date', 'pair', 'status', 'price_fst_stock', 'price_scnd_stock',\n",
       "       'beta_open', 'beta_close', 'last_residual', 'std_residual',\n",
       "       'std_open_residual', 'residual_open', 'open_price_first_stock',\n",
       "       'open_price_scnd_stock', 'open_date', 'close_limit', 'stop_limit',\n",
       "       'halflife', 'days_open', 'data_ini', 'data_fin', 'setor', 'sorted_pair',\n",
       "       'result', 'cash', 'result_cash_neutral', 'result_beta_neutral',\n",
       "       'is_profit', 'is_profit_CN', 'is_profit_BN'],\n",
       "      dtype='object')"
      ]
     },
     "execution_count": 2446,
     "metadata": {},
     "output_type": "execute_result"
    }
   ],
   "source": [
    "closed.columns"
   ]
  },
  {
   "cell_type": "code",
   "execution_count": 2556,
   "id": "b775402a",
   "metadata": {
    "ExecuteTime": {
     "end_time": "2022-08-08T21:35:22.020487Z",
     "start_time": "2022-08-08T21:35:22.004450Z"
    }
   },
   "outputs": [
    {
     "data": {
      "text/html": [
       "<div>\n",
       "<style scoped>\n",
       "    .dataframe tbody tr th:only-of-type {\n",
       "        vertical-align: middle;\n",
       "    }\n",
       "\n",
       "    .dataframe tbody tr th {\n",
       "        vertical-align: top;\n",
       "    }\n",
       "\n",
       "    .dataframe thead th {\n",
       "        text-align: right;\n",
       "    }\n",
       "</style>\n",
       "<table border=\"1\" class=\"dataframe\">\n",
       "  <thead>\n",
       "    <tr style=\"text-align: right;\">\n",
       "      <th></th>\n",
       "      <th>price_fst_stock</th>\n",
       "      <th>price_scnd_stock</th>\n",
       "      <th>open_price_first_stock</th>\n",
       "      <th>open_price_scnd_stock</th>\n",
       "      <th>result</th>\n",
       "    </tr>\n",
       "  </thead>\n",
       "  <tbody>\n",
       "    <tr>\n",
       "      <th>6</th>\n",
       "      <td>49.09</td>\n",
       "      <td>39.25</td>\n",
       "      <td>44.16</td>\n",
       "      <td>35.57</td>\n",
       "      <td>0.007387</td>\n",
       "    </tr>\n",
       "    <tr>\n",
       "      <th>9</th>\n",
       "      <td>55.47</td>\n",
       "      <td>40.71</td>\n",
       "      <td>53.12</td>\n",
       "      <td>39.64</td>\n",
       "      <td>-0.016654</td>\n",
       "    </tr>\n",
       "    <tr>\n",
       "      <th>11</th>\n",
       "      <td>53.55</td>\n",
       "      <td>38.24</td>\n",
       "      <td>54.30</td>\n",
       "      <td>37.78</td>\n",
       "      <td>0.026011</td>\n",
       "    </tr>\n",
       "    <tr>\n",
       "      <th>17</th>\n",
       "      <td>50.85</td>\n",
       "      <td>35.31</td>\n",
       "      <td>50.97</td>\n",
       "      <td>36.53</td>\n",
       "      <td>-0.031611</td>\n",
       "    </tr>\n",
       "    <tr>\n",
       "      <th>24</th>\n",
       "      <td>47.10</td>\n",
       "      <td>33.32</td>\n",
       "      <td>48.94</td>\n",
       "      <td>33.52</td>\n",
       "      <td>0.032338</td>\n",
       "    </tr>\n",
       "    <tr>\n",
       "      <th>...</th>\n",
       "      <td>...</td>\n",
       "      <td>...</td>\n",
       "      <td>...</td>\n",
       "      <td>...</td>\n",
       "      <td>...</td>\n",
       "    </tr>\n",
       "    <tr>\n",
       "      <th>8856</th>\n",
       "      <td>12.29</td>\n",
       "      <td>20.76</td>\n",
       "      <td>11.79</td>\n",
       "      <td>20.94</td>\n",
       "      <td>0.050167</td>\n",
       "    </tr>\n",
       "    <tr>\n",
       "      <th>8869</th>\n",
       "      <td>13.28</td>\n",
       "      <td>27.09</td>\n",
       "      <td>14.39</td>\n",
       "      <td>29.08</td>\n",
       "      <td>0.009388</td>\n",
       "    </tr>\n",
       "    <tr>\n",
       "      <th>8884</th>\n",
       "      <td>3.04</td>\n",
       "      <td>13.10</td>\n",
       "      <td>4.26</td>\n",
       "      <td>17.05</td>\n",
       "      <td>-0.073874</td>\n",
       "    </tr>\n",
       "    <tr>\n",
       "      <th>8893</th>\n",
       "      <td>3.13</td>\n",
       "      <td>11.43</td>\n",
       "      <td>3.03</td>\n",
       "      <td>11.10</td>\n",
       "      <td>-0.003174</td>\n",
       "    </tr>\n",
       "    <tr>\n",
       "      <th>8903</th>\n",
       "      <td>3.44</td>\n",
       "      <td>26.27</td>\n",
       "      <td>4.26</td>\n",
       "      <td>29.21</td>\n",
       "      <td>-0.107714</td>\n",
       "    </tr>\n",
       "  </tbody>\n",
       "</table>\n",
       "<p>853 rows × 5 columns</p>\n",
       "</div>"
      ],
      "text/plain": [
       "      price_fst_stock  price_scnd_stock  open_price_first_stock  \\\n",
       "6               49.09             39.25                   44.16   \n",
       "9               55.47             40.71                   53.12   \n",
       "11              53.55             38.24                   54.30   \n",
       "17              50.85             35.31                   50.97   \n",
       "24              47.10             33.32                   48.94   \n",
       "...               ...               ...                     ...   \n",
       "8856            12.29             20.76                   11.79   \n",
       "8869            13.28             27.09                   14.39   \n",
       "8884             3.04             13.10                    4.26   \n",
       "8893             3.13             11.43                    3.03   \n",
       "8903             3.44             26.27                    4.26   \n",
       "\n",
       "      open_price_scnd_stock    result  \n",
       "6                     35.57  0.007387  \n",
       "9                     39.64 -0.016654  \n",
       "11                    37.78  0.026011  \n",
       "17                    36.53 -0.031611  \n",
       "24                    33.52  0.032338  \n",
       "...                     ...       ...  \n",
       "8856                  20.94  0.050167  \n",
       "8869                  29.08  0.009388  \n",
       "8884                  17.05 -0.073874  \n",
       "8893                  11.10 -0.003174  \n",
       "8903                  29.21 -0.107714  \n",
       "\n",
       "[853 rows x 5 columns]"
      ]
     },
     "execution_count": 2556,
     "metadata": {},
     "output_type": "execute_result"
    }
   ],
   "source": [
    "closed[['price_fst_stock','price_scnd_stock', 'open_price_first_stock', 'open_price_scnd_stock','result']]"
   ]
  },
  {
   "cell_type": "code",
   "execution_count": 2758,
   "id": "0867e164",
   "metadata": {
    "ExecuteTime": {
     "end_time": "2022-08-09T00:21:12.157711Z",
     "start_time": "2022-08-09T00:21:12.133715Z"
    }
   },
   "outputs": [
    {
     "data": {
      "text/plain": [
       "sum        4.109702\n",
       "count    853.000000\n",
       "dtype: float64"
      ]
     },
     "execution_count": 2758,
     "metadata": {},
     "output_type": "execute_result"
    }
   ],
   "source": [
    "closed.groupby('sorted_pair').result.agg(['sum', 'count']).sort_values(by='sum', ascending=False).sum()"
   ]
  },
  {
   "cell_type": "code",
   "execution_count": null,
   "id": "b27e3c7f",
   "metadata": {},
   "outputs": [],
   "source": []
  },
  {
   "cell_type": "code",
   "execution_count": 2719,
   "id": "ab3d4208",
   "metadata": {
    "ExecuteTime": {
     "end_time": "2022-08-09T00:04:57.274010Z",
     "start_time": "2022-08-09T00:04:57.257971Z"
    }
   },
   "outputs": [
    {
     "data": {
      "text/plain": [
       "1.873770875739889"
      ]
     },
     "execution_count": 2719,
     "metadata": {},
     "output_type": "execute_result"
    }
   ],
   "source": [
    "cumsum_result.iloc[-1]"
   ]
  },
  {
   "cell_type": "code",
   "execution_count": 2759,
   "id": "5de1c27c",
   "metadata": {
    "ExecuteTime": {
     "end_time": "2022-08-09T00:22:04.729402Z",
     "start_time": "2022-08-09T00:22:04.713403Z"
    }
   },
   "outputs": [],
   "source": [
    "cumsum_ibov = np.cumsum(np.log(ibov/ibov.shift()))\n",
    "cumsum_result = np.cumsum(closed.groupby('date').result.mean())\n",
    "cumsum_result_BN = np.cumsum(closed.groupby('date').result_beta_neutral.mean())"
   ]
  },
  {
   "cell_type": "code",
   "execution_count": 2725,
   "id": "241aca63",
   "metadata": {
    "ExecuteTime": {
     "end_time": "2022-08-09T00:05:38.505856Z",
     "start_time": "2022-08-09T00:05:38.489858Z"
    }
   },
   "outputs": [
    {
     "data": {
      "text/plain": [
       "1.9763646857691681"
      ]
     },
     "execution_count": 2725,
     "metadata": {},
     "output_type": "execute_result"
    }
   ],
   "source": [
    "(cumsum_result.iloc[-1]*100 )/ (closed.groupby('date').result.mean().std()* math.sqrt(252) * 100)"
   ]
  },
  {
   "cell_type": "code",
   "execution_count": 2760,
   "id": "533a2bfd",
   "metadata": {
    "ExecuteTime": {
     "end_time": "2022-08-09T00:22:36.988150Z",
     "start_time": "2022-08-09T00:22:36.964113Z"
    }
   },
   "outputs": [
    {
     "data": {
      "text/plain": [
       "3.618321998410413"
      ]
     },
     "execution_count": 2760,
     "metadata": {},
     "output_type": "execute_result"
    }
   ],
   "source": [
    "(cumsum_result_BN.iloc[-1]*100 )/ (closed.groupby('date').result_beta_neutral.mean().std()* math.sqrt(252) * 100)"
   ]
  },
  {
   "cell_type": "code",
   "execution_count": 2761,
   "id": "05cb5a75",
   "metadata": {
    "ExecuteTime": {
     "end_time": "2022-08-09T00:22:56.697746Z",
     "start_time": "2022-08-09T00:22:56.247829Z"
    }
   },
   "outputs": [
    {
     "data": {
      "text/plain": [
       "<matplotlib.axes._subplots.AxesSubplot at 0x23d0f3542b0>"
      ]
     },
     "execution_count": 2761,
     "metadata": {},
     "output_type": "execute_result"
    },
    {
     "data": {
      "image/png": "[encoded data removed]",
      "text/plain": [
       "<Figure size 1080x576 with 1 Axes>"
      ]
     },
     "metadata": {},
     "output_type": "display_data"
    }
   ],
   "source": [
    "sns.lineplot(x=cumsum_ibov.index, y=cumsum_ibov.close, label='ibov')\n",
    "sns.lineplot(x=cumsum_result.index, y=cumsum_result, label='cointegration')\n",
    "sns.lineplot(x=cumsum_result_BN.index, y=cumsum_result_BN, label='cointegration beta neutral')\n"
   ]
  },
  {
   "cell_type": "code",
   "execution_count": 2644,
   "id": "99dd917a",
   "metadata": {
    "ExecuteTime": {
     "end_time": "2022-08-08T22:35:57.022455Z",
     "start_time": "2022-08-08T22:35:56.998454Z"
    }
   },
   "outputs": [
    {
     "data": {
      "text/plain": [
       "44.60894729318973"
      ]
     },
     "execution_count": 2644,
     "metadata": {},
     "output_type": "execute_result"
    }
   ],
   "source": [
    "ibov.loc['2020'].pct_change().std()[0]* math.sqrt(252) * 100"
   ]
  },
  {
   "cell_type": "code",
   "execution_count": null,
   "id": "756853e5",
   "metadata": {},
   "outputs": [],
   "source": []
  }
 ],
 "metadata": {
  "hide_code_all_hidden": false,
  "kernelspec": {
   "display_name": "Python 3",
   "language": "python",
   "name": "python3"
  },
  "language_info": {
   "codemirror_mode": {
    "name": "ipython",
    "version": 3
   },
   "file_extension": ".py",
   "mimetype": "text/x-python",
   "name": "python",
   "nbconvert_exporter": "python",
   "pygments_lexer": "ipython3",
   "version": "3.8.4"
  },
  "vscode": {
   "interpreter": {
    "hash": "e337efa0dbf50a479327a09a7ca80daa2467993c275d2b4497525709bdc18a22"
   }
  }
 },
 "nbformat": 4,
 "nbformat_minor": 5
}
