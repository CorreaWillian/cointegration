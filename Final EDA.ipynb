{
 "cells": [
  {
   "cell_type": "code",
   "execution_count": 1,
   "id": "4c5bd3e7",
   "metadata": {
    "ExecuteTime": {
     "end_time": "2022-08-12T19:53:48.671530Z",
     "start_time": "2022-08-12T19:53:47.196508Z"
    }
   },
   "outputs": [],
   "source": [
    "import pandas as pd\n",
    "import numpy as np\n",
    "import seaborn as sns\n",
    "# from backtest import executer\n",
    "import matplotlib.pyplot as plt\n",
    "import plotly.express as px\n",
    "import math\n",
    "import ast\n",
    "from scipy.stats import spearmanr, kstest\n"
   ]
  },
  {
   "cell_type": "code",
   "execution_count": 2,
   "id": "03221649",
   "metadata": {
    "ExecuteTime": {
     "end_time": "2022-08-12T19:53:48.687291Z",
     "start_time": "2022-08-12T19:53:48.671530Z"
    }
   },
   "outputs": [],
   "source": [
    "sns.set(rc={'figure.figsize':(15,8)})"
   ]
  },
  {
   "cell_type": "code",
   "execution_count": 96,
   "id": "261f108d",
   "metadata": {
    "ExecuteTime": {
     "end_time": "2022-08-12T19:58:50.864338Z",
     "start_time": "2022-08-12T19:58:50.696227Z"
    }
   },
   "outputs": [],
   "source": [
    "portfolio = pd.read_excel('PORTFOLIO.xlsx')\n",
    "\n",
    "df = pd.read_csv('resultado_VAR05_.csv')\n",
    "\n",
    "df['date'] = pd.to_datetime(df.date)\n",
    "df['open_date'] = pd.to_datetime(df.open_date)\n",
    "df['days_open'] = df['days_open'].astype(float)\n",
    "df['stock1'] = [pair.split(\"'\")[1] for pair in df.pair]"
   ]
  },
  {
   "cell_type": "code",
   "execution_count": 97,
   "id": "042a131b",
   "metadata": {
    "ExecuteTime": {
     "end_time": "2022-08-12T19:58:51.663760Z",
     "start_time": "2022-08-12T19:58:51.495386Z"
    }
   },
   "outputs": [],
   "source": [
    "df = df.merge(portfolio.drop_duplicates('ticker'), left_on='stock1', right_on='ticker',how='left')\n",
    "\n",
    "df.drop(columns=['stock1', 'ticker'], inplace=True)\n",
    "df['pair'] = df.pair.apply(ast.literal_eval)\n",
    "df['sorted_pair'] = df.pair.apply(sorted).apply(tuple)"
   ]
  },
  {
   "cell_type": "code",
   "execution_count": 98,
   "id": "5facd737",
   "metadata": {
    "ExecuteTime": {
     "end_time": "2022-08-12T19:58:51.986347Z",
     "start_time": "2022-08-12T19:58:51.946438Z"
    }
   },
   "outputs": [],
   "source": [
    "df.drop_duplicates(subset=['date', 'sorted_pair'], keep='first',inplace=True)"
   ]
  },
  {
   "cell_type": "code",
   "execution_count": 99,
   "id": "cf604788",
   "metadata": {
    "ExecuteTime": {
     "end_time": "2022-08-12T19:58:52.351450Z",
     "start_time": "2022-08-12T19:58:52.327687Z"
    }
   },
   "outputs": [],
   "source": [
    "df.loc[df['residual_open'] < df['std_open_residual'], 'side'] = 'lower'\n",
    "df.loc[df['residual_open'] > df['std_open_residual'], 'side'] = 'upper'"
   ]
  },
  {
   "cell_type": "code",
   "execution_count": 100,
   "id": "8a4ae762",
   "metadata": {
    "ExecuteTime": {
     "end_time": "2022-08-12T19:58:56.585639Z",
     "start_time": "2022-08-12T19:58:52.761401Z"
    }
   },
   "outputs": [],
   "source": [
    "returns_list = []\n",
    "i=1\n",
    "closed = df.loc[df.status=='close']\n",
    "\n",
    "for row in closed.itertuples():\n",
    "\n",
    "    historico_par = df.loc[(df.pair==row.pair) & (df.date.between(row.open_date,row.date))].copy()\n",
    "    historico_par.set_index('date', inplace=True)\n",
    "    historico_par['id'] = i\n",
    "    \n",
    "    \n",
    "#     display(historico_par)\n",
    "#     Custo entrada: 1,22% + 0,1% = 1,31%\n",
    "#     Custo saida: 1,22% + 0,25% + 0,1% = 1,57% + Aluguel\n",
    "    \n",
    "#     display(historico_par)\n",
    "    aluguel = (1.0143)**((row.days_open+2)/252) -1\n",
    "    try:\n",
    "        if row.side == 'lower':\n",
    "            \n",
    "            historico_par['ratio_sem_custos'] = historico_par['price_fst_stock'] / historico_par['price_scnd_stock']\n",
    "            \n",
    "            historico_par.at[row.open_date, 'price_fst_stock'] = historico_par.at[row.open_date, 'price_fst_stock']\n",
    "            \n",
    "            # Entrada\n",
    "            historico_par.at[row.open_date, 'price_fst_stock'] = historico_par.loc[row.open_date, 'price_fst_stock'] * (1+0.0071)\n",
    "            historico_par.at[row.open_date, 'price_scnd_stock'] = historico_par.loc[row.open_date, 'price_scnd_stock'] * (1-0.0071)\n",
    "            \n",
    "                    \n",
    "            # Saída\n",
    "            historico_par.at[row.date, 'price_fst_stock'] = historico_par.loc[row.date, 'price_fst_stock'] * (1-0.0071)\n",
    "            historico_par.at[row.date, 'price_scnd_stock'] = historico_par.loc[row.date, 'price_scnd_stock'] * (1+(0.0071+aluguel))\n",
    "\n",
    "            historico_par['ratio'] = historico_par['price_fst_stock'] / historico_par['price_scnd_stock']\n",
    "            \n",
    "        else:\n",
    "            \n",
    "            historico_par['ratio_sem_custos'] = historico_par['price_scnd_stock'] / historico_par['price_fst_stock']\n",
    "            \n",
    "            historico_par.at[row.open_date, 'price_scnd_stock'] = historico_par.loc[row.open_date, 'price_scnd_stock']\n",
    "            # Entrada\n",
    "            historico_par.at[row.open_date, 'price_scnd_stock'] = historico_par.loc[row.open_date, 'price_scnd_stock'] * (1+0.0071)\n",
    "            historico_par.at[row.open_date, 'price_fst_stock'] = historico_par.loc[row.open_date, 'price_fst_stock'] * (1-0.0071)\n",
    "\n",
    "            # Saida\n",
    "            historico_par.at[row.date, 'price_scnd_stock'] = historico_par.loc[row.date, 'price_scnd_stock'] * (1-0.0071)\n",
    "            historico_par.at[row.date, 'price_fst_stock'] = historico_par.loc[row.date, 'price_fst_stock'] * (1+(0.0071+aluguel))\n",
    "\n",
    "            historico_par['ratio'] = historico_par['price_scnd_stock'] / historico_par['price_fst_stock']\n",
    "        \n",
    "        \n",
    "        historico_par['open_price_first_stock'] = historico_par.at[row.open_date, 'price_fst_stock']\n",
    "        historico_par['open_price_scnd_stock'] = historico_par.at[row.open_date, 'price_scnd_stock']\n",
    "        \n",
    "        historico_par['return'] = (historico_par.ratio / historico_par.ratio.shift(1)) -1\n",
    "        historico_par['retorno_acumulado'] = np.cumprod(1+historico_par['return']) -1\n",
    "        \n",
    "        historico_par['return_sem_custos'] = (historico_par.ratio_sem_custos / historico_par.ratio_sem_custos.shift(1)) -1\n",
    "        historico_par['retorno_acumulado_sem_custos'] = (np.cumprod(1+historico_par['return_sem_custos']) -1)\n",
    "        \n",
    "        returns_list.append(historico_par)\n",
    "        \n",
    "    except Exception as e:\n",
    "#         print(e)\n",
    "        pass\n",
    "    \n",
    "    i+=1"
   ]
  },
  {
   "cell_type": "code",
   "execution_count": 101,
   "id": "6ba8fc9c",
   "metadata": {
    "ExecuteTime": {
     "end_time": "2022-08-12T19:58:56.601362Z",
     "start_time": "2022-08-12T19:58:56.585639Z"
    }
   },
   "outputs": [],
   "source": [
    "def result_calculator(row, kind='CN'):\n",
    "    \n",
    "    if kind=='CN':\n",
    "        multiplier = 1\n",
    "    if kind == 'BN':\n",
    "        multiplier = row.beta_open\n",
    "    \n",
    "    if row['residual_open'] < row['std_open_residual']:\n",
    "        long_result =(row['price_fst_stock'] / row['open_price_first_stock'])\n",
    "        short_result = (row['open_price_scnd_stock'] / row['price_scnd_stock'])\n",
    "        \n",
    "        short_result = multiplier * short_result\n",
    "        result = (long_result * short_result) - 1\n",
    "        \n",
    "        return result, 'lower'\n",
    "    \n",
    "    elif row['residual_open'] > row['std_open_residual']:\n",
    "        long_result = (row['open_price_first_stock'] / row['price_fst_stock'])\n",
    "        short_result = (row['price_scnd_stock'] / row['open_price_scnd_stock'])\n",
    "        \n",
    "        short_result = multiplier * short_result\n",
    "        result = (long_result * short_result) - 1\n",
    "\n",
    "        return result, 'upper'"
   ]
  },
  {
   "cell_type": "code",
   "execution_count": 102,
   "id": "c5b74104",
   "metadata": {
    "ExecuteTime": {
     "end_time": "2022-08-12T19:58:56.841665Z",
     "start_time": "2022-08-12T19:58:56.601362Z"
    }
   },
   "outputs": [],
   "source": [
    "df_returns = pd.concat(returns_list)\n",
    "df_returns.reset_index(inplace=True)"
   ]
  },
  {
   "cell_type": "code",
   "execution_count": 103,
   "id": "a779d5bf",
   "metadata": {
    "ExecuteTime": {
     "end_time": "2022-08-12T19:58:56.873363Z",
     "start_time": "2022-08-12T19:58:56.841665Z"
    }
   },
   "outputs": [
    {
     "name": "stderr",
     "output_type": "stream",
     "text": [
      "<ipython-input-103-8e37df69150d>:1: FutureWarning: Value based partial slicing on non-monotonic DatetimeIndexes with non-existing keys is deprecated and will raise a KeyError in a future Version.\n",
      "  df_returns = df_returns.set_index('date').loc['2019-01-01':]\n"
     ]
    }
   ],
   "source": [
    "df_returns = df_returns.set_index('date').loc['2019-01-01':]"
   ]
  },
  {
   "cell_type": "code",
   "execution_count": 104,
   "id": "ddda24de",
   "metadata": {
    "ExecuteTime": {
     "end_time": "2022-08-12T19:58:56.889386Z",
     "start_time": "2022-08-12T19:58:56.873363Z"
    }
   },
   "outputs": [],
   "source": [
    "df_returns.reset_index(inplace=True)"
   ]
  },
  {
   "cell_type": "code",
   "execution_count": 105,
   "id": "f4fd76c2",
   "metadata": {
    "ExecuteTime": {
     "end_time": "2022-08-12T19:58:56.953366Z",
     "start_time": "2022-08-12T19:58:56.889386Z"
    }
   },
   "outputs": [],
   "source": [
    "log_retorno = np.log(1+df_returns.set_index(['date', 'pair', 'open_date','status'])[['return', 'return_sem_custos']]).fillna(0)\n",
    "retorno_acumulado =  np.exp(log_retorno.cumsum()) - 1\n",
    "retorno_acumulado.reset_index(inplace=True)"
   ]
  },
  {
   "cell_type": "code",
   "execution_count": 106,
   "id": "dbbd82e7",
   "metadata": {
    "ExecuteTime": {
     "end_time": "2022-08-12T19:58:56.969383Z",
     "start_time": "2022-08-12T19:58:56.953366Z"
    }
   },
   "outputs": [
    {
     "data": {
      "text/plain": [
       "7.941331417624521"
      ]
     },
     "execution_count": 106,
     "metadata": {},
     "output_type": "execute_result"
    }
   ],
   "source": [
    "df_returns.halflife.mean()"
   ]
  },
  {
   "cell_type": "code",
   "execution_count": 107,
   "id": "5215e81e",
   "metadata": {
    "ExecuteTime": {
     "end_time": "2022-08-12T19:58:56.993359Z",
     "start_time": "2022-08-12T19:58:56.969383Z"
    }
   },
   "outputs": [],
   "source": [
    "closed = df_returns.loc[df_returns.status=='close']"
   ]
  },
  {
   "cell_type": "code",
   "execution_count": 108,
   "id": "3bf922b0",
   "metadata": {
    "ExecuteTime": {
     "end_time": "2022-08-12T19:58:57.049358Z",
     "start_time": "2022-08-12T19:58:57.025361Z"
    }
   },
   "outputs": [],
   "source": [
    "ibov = pd.read_csv('ibov.csv', usecols=[0,4], index_col=0)\n",
    "ibov.index = pd.to_datetime(ibov.index)\n",
    "ibov = ibov.loc[df_returns.date.min():df_returns.date.max()]"
   ]
  },
  {
   "cell_type": "code",
   "execution_count": 109,
   "id": "9771310b",
   "metadata": {
    "ExecuteTime": {
     "end_time": "2022-08-12T19:58:57.225368Z",
     "start_time": "2022-08-12T19:58:57.209421Z"
    }
   },
   "outputs": [],
   "source": [
    "log_ret_ibov = np.log(ibov/ibov.shift())\n",
    "ibov_return = ibov/ibov.shift() -1\n",
    "ibov_retornos = ibov/ibov.shift() -1\n",
    "cumsum_ibov = np.cumsum(log_ret_ibov)\n",
    "ibov_pct = np.exp(cumsum_ibov) -1"
   ]
  },
  {
   "cell_type": "code",
   "execution_count": 110,
   "id": "5c095f95",
   "metadata": {
    "ExecuteTime": {
     "end_time": "2022-08-12T19:58:57.882585Z",
     "start_time": "2022-08-12T19:58:57.858557Z"
    },
    "scrolled": false
   },
   "outputs": [],
   "source": [
    "# Retorno com custos\n",
    "acumulado_com_custos = np.cumprod(1+df_returns.groupby('date').mean()['return']) -1"
   ]
  },
  {
   "cell_type": "code",
   "execution_count": 111,
   "id": "c1ae4d0d",
   "metadata": {
    "ExecuteTime": {
     "end_time": "2022-08-12T19:58:58.122588Z",
     "start_time": "2022-08-12T19:58:58.090603Z"
    }
   },
   "outputs": [],
   "source": [
    "# Resultado sem custos por dia\n",
    "acumulado_sem_custo = np.cumprod(1+df_returns.groupby('date').mean().return_sem_custos) -1"
   ]
  },
  {
   "cell_type": "code",
   "execution_count": 112,
   "id": "9fa35bcb",
   "metadata": {
    "ExecuteTime": {
     "end_time": "2022-08-12T19:58:58.298582Z",
     "start_time": "2022-08-12T19:58:58.274586Z"
    }
   },
   "outputs": [
    {
     "data": {
      "text/plain": [
       "date\n",
       "2019-01-02         NaN\n",
       "2019-01-03    0.000550\n",
       "2019-01-04    0.008547\n",
       "2019-01-07    0.006639\n",
       "2019-01-08    0.006101\n",
       "                ...   \n",
       "2022-06-27    0.891176\n",
       "2022-06-28    0.866628\n",
       "2022-06-29    0.865692\n",
       "2022-06-30    0.869881\n",
       "2022-07-01    0.846945\n",
       "Name: return_sem_custos, Length: 869, dtype: float64"
      ]
     },
     "execution_count": 112,
     "metadata": {},
     "output_type": "execute_result"
    }
   ],
   "source": [
    "acumulado_sem_custo"
   ]
  },
  {
   "cell_type": "code",
   "execution_count": 113,
   "id": "d00a1a8e",
   "metadata": {
    "ExecuteTime": {
     "end_time": "2022-08-12T19:58:58.466583Z",
     "start_time": "2022-08-12T19:58:58.442553Z"
    }
   },
   "outputs": [
    {
     "data": {
      "text/plain": [
       "0             NaN\n",
       "1        1.004461\n",
       "2        0.991460\n",
       "3        1.003117\n",
       "4        0.974504\n",
       "          ...    \n",
       "8347    83.592844\n",
       "8348    85.627998\n",
       "8349    79.106127\n",
       "8350          NaN\n",
       "8351    81.704182\n",
       "Name: return_sem_custos, Length: 8352, dtype: float64"
      ]
     },
     "execution_count": 113,
     "metadata": {},
     "output_type": "execute_result"
    }
   ],
   "source": [
    "np.cumprod(1+df_returns.return_sem_custos)"
   ]
  },
  {
   "cell_type": "code",
   "execution_count": 114,
   "id": "08f8c1b9",
   "metadata": {
    "ExecuteTime": {
     "end_time": "2022-08-12T19:58:59.567534Z",
     "start_time": "2022-08-12T19:58:59.503569Z"
    }
   },
   "outputs": [
    {
     "name": "stderr",
     "output_type": "stream",
     "text": [
      "<ipython-input-114-df0e1999672d>:4: SettingWithCopyWarning: \n",
      "A value is trying to be set on a copy of a slice from a DataFrame.\n",
      "Try using .loc[row_indexer,col_indexer] = value instead\n",
      "\n",
      "See the caveats in the documentation: https://pandas.pydata.org/pandas-docs/stable/user_guide/indexing.html#returning-a-view-versus-a-copy\n",
      "  fechadas['e_lucro_bruto'] = fechadas['retorno_acumulado_sem_custos'] > 0\n",
      "<ipython-input-114-df0e1999672d>:5: SettingWithCopyWarning: \n",
      "A value is trying to be set on a copy of a slice from a DataFrame.\n",
      "Try using .loc[row_indexer,col_indexer] = value instead\n",
      "\n",
      "See the caveats in the documentation: https://pandas.pydata.org/pandas-docs/stable/user_guide/indexing.html#returning-a-view-versus-a-copy\n",
      "  fechadas['e_lucro_liquido'] = fechadas['retorno_acumulado'] > 0\n"
     ]
    }
   ],
   "source": [
    "# Operações Fechadas\n",
    "fechadas = df_returns.loc[df_returns.status=='close']\n",
    "\n",
    "fechadas['e_lucro_bruto'] = fechadas['retorno_acumulado_sem_custos'] > 0\n",
    "fechadas['e_lucro_liquido'] = fechadas['retorno_acumulado'] > 0\n",
    "\n",
    "retorno_diario = df_returns.groupby('date').mean()"
   ]
  },
  {
   "cell_type": "markdown",
   "id": "3e407336",
   "metadata": {},
   "source": [
    "# Graficos"
   ]
  },
  {
   "cell_type": "code",
   "execution_count": 115,
   "id": "ce8e8362",
   "metadata": {
    "ExecuteTime": {
     "end_time": "2022-08-12T19:59:00.679823Z",
     "start_time": "2022-08-12T19:59:00.199757Z"
    }
   },
   "outputs": [
    {
     "data": {
      "text/plain": [
       "<matplotlib.legend.Legend at 0x1844ef221f0>"
      ]
     },
     "execution_count": 115,
     "metadata": {},
     "output_type": "execute_result"
    },
    {
     "data": {
      "image/png": "[encoded data removed]",
      "text/plain": [
       "<Figure size 1080x576 with 1 Axes>"
      ]
     },
     "metadata": {},
     "output_type": "display_data"
    }
   ],
   "source": [
    "sns.lineplot(x=ibov_pct.index, y=ibov_pct.close, label='ibov')\n",
    "sns.lineplot(x=acumulado_com_custos.index, y=acumulado_com_custos, label='retorno acumulado')\n",
    "plt.ylabel('retorno')\n",
    "plt.xlabel('data')\n",
    "\n",
    "plt.legend()\n",
    "plt.legend(bbox_to_anchor=(1.01, 1), loc=2, borderaxespad=0.)\n",
    "\n",
    "# sns.lineplot(x=cumsum_result_BN.index, y=cumsum_result_BN, label='cointegration beta neutral')\n"
   ]
  },
  {
   "cell_type": "code",
   "execution_count": 116,
   "id": "ced1ebff",
   "metadata": {
    "ExecuteTime": {
     "end_time": "2022-08-12T19:59:02.753453Z",
     "start_time": "2022-08-12T19:59:02.265466Z"
    },
    "scrolled": false
   },
   "outputs": [
    {
     "data": {
      "text/plain": [
       "<matplotlib.legend.Legend at 0x1844a787e50>"
      ]
     },
     "execution_count": 116,
     "metadata": {},
     "output_type": "execute_result"
    },
    {
     "data": {
      "image/png": "[encoded data removed]",
      "text/plain": [
       "<Figure size 1080x576 with 1 Axes>"
      ]
     },
     "metadata": {},
     "output_type": "display_data"
    }
   ],
   "source": [
    "sns.lineplot(x=ibov_pct.index, y=ibov_pct.close, label='ibov')\n",
    "sns.lineplot(x=acumulado_sem_custo.index, y=acumulado_sem_custo, label='retorno acumulado\\nsem custos')\n",
    "plt.ylabel('retorno')\n",
    "plt.xlabel('data')\n",
    "\n",
    "plt.legend()\n",
    "plt.legend(bbox_to_anchor=(1.01, 1), loc=2, borderaxespad=0.)"
   ]
  },
  {
   "cell_type": "code",
   "execution_count": 117,
   "id": "4f6b3113",
   "metadata": {
    "ExecuteTime": {
     "end_time": "2022-08-12T19:59:04.518868Z",
     "start_time": "2022-08-12T19:59:04.486930Z"
    }
   },
   "outputs": [],
   "source": [
    "retornos_diarios = pd.concat([ibov_return, retorno_diario[['return', 'return_sem_custos']]], axis=1)\n",
    "retornos_diarios.fillna(0, inplace=True)\n",
    "retornos_diarios.columns = ['ibov', 'retorno_com_custos', 'retorno_sem_custos']"
   ]
  },
  {
   "cell_type": "code",
   "execution_count": 118,
   "id": "632b4e94",
   "metadata": {
    "ExecuteTime": {
     "end_time": "2022-08-12T19:59:04.790904Z",
     "start_time": "2022-08-12T19:59:04.766869Z"
    }
   },
   "outputs": [
    {
     "data": {
      "text/html": [
       "<div>\n",
       "<style scoped>\n",
       "    .dataframe tbody tr th:only-of-type {\n",
       "        vertical-align: middle;\n",
       "    }\n",
       "\n",
       "    .dataframe tbody tr th {\n",
       "        vertical-align: top;\n",
       "    }\n",
       "\n",
       "    .dataframe thead th {\n",
       "        text-align: right;\n",
       "    }\n",
       "</style>\n",
       "<table border=\"1\" class=\"dataframe\">\n",
       "  <thead>\n",
       "    <tr style=\"text-align: right;\">\n",
       "      <th></th>\n",
       "      <th>ibov</th>\n",
       "      <th>retorno_com_custos</th>\n",
       "      <th>retorno_sem_custos</th>\n",
       "    </tr>\n",
       "  </thead>\n",
       "  <tbody>\n",
       "    <tr>\n",
       "      <th>2019-01-02</th>\n",
       "      <td>0.000000</td>\n",
       "      <td>0.000000</td>\n",
       "      <td>0.000000</td>\n",
       "    </tr>\n",
       "    <tr>\n",
       "      <th>2019-01-03</th>\n",
       "      <td>0.006065</td>\n",
       "      <td>-0.013558</td>\n",
       "      <td>0.000550</td>\n",
       "    </tr>\n",
       "    <tr>\n",
       "      <th>2019-01-04</th>\n",
       "      <td>0.009109</td>\n",
       "      <td>-0.005673</td>\n",
       "      <td>0.008547</td>\n",
       "    </tr>\n",
       "    <tr>\n",
       "      <th>2019-01-07</th>\n",
       "      <td>0.007548</td>\n",
       "      <td>-0.016838</td>\n",
       "      <td>0.006639</td>\n",
       "    </tr>\n",
       "    <tr>\n",
       "      <th>2019-01-08</th>\n",
       "      <td>0.011207</td>\n",
       "      <td>-0.020816</td>\n",
       "      <td>0.006101</td>\n",
       "    </tr>\n",
       "    <tr>\n",
       "      <th>...</th>\n",
       "      <td>...</td>\n",
       "      <td>...</td>\n",
       "      <td>...</td>\n",
       "    </tr>\n",
       "    <tr>\n",
       "      <th>2022-06-27</th>\n",
       "      <td>0.107151</td>\n",
       "      <td>-0.660407</td>\n",
       "      <td>0.891176</td>\n",
       "    </tr>\n",
       "    <tr>\n",
       "      <th>2022-06-28</th>\n",
       "      <td>0.105250</td>\n",
       "      <td>-0.665498</td>\n",
       "      <td>0.866628</td>\n",
       "    </tr>\n",
       "    <tr>\n",
       "      <th>2022-06-29</th>\n",
       "      <td>0.094603</td>\n",
       "      <td>-0.665666</td>\n",
       "      <td>0.865692</td>\n",
       "    </tr>\n",
       "    <tr>\n",
       "      <th>2022-06-30</th>\n",
       "      <td>0.082736</td>\n",
       "      <td>-0.664915</td>\n",
       "      <td>0.869881</td>\n",
       "    </tr>\n",
       "    <tr>\n",
       "      <th>2022-07-01</th>\n",
       "      <td>0.087263</td>\n",
       "      <td>-0.674096</td>\n",
       "      <td>0.846945</td>\n",
       "    </tr>\n",
       "  </tbody>\n",
       "</table>\n",
       "<p>869 rows × 3 columns</p>\n",
       "</div>"
      ],
      "text/plain": [
       "                ibov  retorno_com_custos  retorno_sem_custos\n",
       "2019-01-02  0.000000            0.000000            0.000000\n",
       "2019-01-03  0.006065           -0.013558            0.000550\n",
       "2019-01-04  0.009109           -0.005673            0.008547\n",
       "2019-01-07  0.007548           -0.016838            0.006639\n",
       "2019-01-08  0.011207           -0.020816            0.006101\n",
       "...              ...                 ...                 ...\n",
       "2022-06-27  0.107151           -0.660407            0.891176\n",
       "2022-06-28  0.105250           -0.665498            0.866628\n",
       "2022-06-29  0.094603           -0.665666            0.865692\n",
       "2022-06-30  0.082736           -0.664915            0.869881\n",
       "2022-07-01  0.087263           -0.674096            0.846945\n",
       "\n",
       "[869 rows x 3 columns]"
      ]
     },
     "execution_count": 118,
     "metadata": {},
     "output_type": "execute_result"
    }
   ],
   "source": [
    "log_retornos = np.log(1+retornos_diarios)\n",
    "retornos_acumulados = np.exp(log_retornos.cumsum()) -1\n",
    "retornos_acumulados"
   ]
  },
  {
   "cell_type": "markdown",
   "id": "95ca4672",
   "metadata": {},
   "source": [
    "# Descritivas"
   ]
  },
  {
   "cell_type": "code",
   "execution_count": 119,
   "id": "c8f49c06",
   "metadata": {
    "ExecuteTime": {
     "end_time": "2022-08-12T19:59:06.013729Z",
     "start_time": "2022-08-12T19:59:05.981695Z"
    }
   },
   "outputs": [
    {
     "data": {
      "text/html": [
       "<div>\n",
       "<style scoped>\n",
       "    .dataframe tbody tr th:only-of-type {\n",
       "        vertical-align: middle;\n",
       "    }\n",
       "\n",
       "    .dataframe tbody tr th {\n",
       "        vertical-align: top;\n",
       "    }\n",
       "\n",
       "    .dataframe thead th {\n",
       "        text-align: right;\n",
       "    }\n",
       "</style>\n",
       "<table border=\"1\" class=\"dataframe\">\n",
       "  <thead>\n",
       "    <tr style=\"text-align: right;\">\n",
       "      <th></th>\n",
       "      <th>ibov</th>\n",
       "      <th>retorno_com_custos</th>\n",
       "      <th>retorno_sem_custos</th>\n",
       "    </tr>\n",
       "  </thead>\n",
       "  <tbody>\n",
       "    <tr>\n",
       "      <th>count</th>\n",
       "      <td>869.000000</td>\n",
       "      <td>869.000000</td>\n",
       "      <td>869.000000</td>\n",
       "    </tr>\n",
       "    <tr>\n",
       "      <th>mean</th>\n",
       "      <td>0.000264</td>\n",
       "      <td>-0.001218</td>\n",
       "      <td>0.000778</td>\n",
       "    </tr>\n",
       "    <tr>\n",
       "      <th>std</th>\n",
       "      <td>0.018184</td>\n",
       "      <td>0.011998</td>\n",
       "      <td>0.012065</td>\n",
       "    </tr>\n",
       "    <tr>\n",
       "      <th>min</th>\n",
       "      <td>-0.147797</td>\n",
       "      <td>-0.059177</td>\n",
       "      <td>-0.053780</td>\n",
       "    </tr>\n",
       "    <tr>\n",
       "      <th>25%</th>\n",
       "      <td>-0.007812</td>\n",
       "      <td>-0.007206</td>\n",
       "      <td>-0.005540</td>\n",
       "    </tr>\n",
       "    <tr>\n",
       "      <th>50%</th>\n",
       "      <td>0.000781</td>\n",
       "      <td>-0.000752</td>\n",
       "      <td>0.000410</td>\n",
       "    </tr>\n",
       "    <tr>\n",
       "      <th>75%</th>\n",
       "      <td>0.009616</td>\n",
       "      <td>0.005255</td>\n",
       "      <td>0.006846</td>\n",
       "    </tr>\n",
       "    <tr>\n",
       "      <th>max</th>\n",
       "      <td>0.139082</td>\n",
       "      <td>0.083922</td>\n",
       "      <td>0.093424</td>\n",
       "    </tr>\n",
       "  </tbody>\n",
       "</table>\n",
       "</div>"
      ],
      "text/plain": [
       "             ibov  retorno_com_custos  retorno_sem_custos\n",
       "count  869.000000          869.000000          869.000000\n",
       "mean     0.000264           -0.001218            0.000778\n",
       "std      0.018184            0.011998            0.012065\n",
       "min     -0.147797           -0.059177           -0.053780\n",
       "25%     -0.007812           -0.007206           -0.005540\n",
       "50%      0.000781           -0.000752            0.000410\n",
       "75%      0.009616            0.005255            0.006846\n",
       "max      0.139082            0.083922            0.093424"
      ]
     },
     "execution_count": 119,
     "metadata": {},
     "output_type": "execute_result"
    }
   ],
   "source": [
    "retornos_diarios.describe()"
   ]
  },
  {
   "cell_type": "code",
   "execution_count": 120,
   "id": "1731af4d",
   "metadata": {
    "ExecuteTime": {
     "end_time": "2022-08-12T19:59:06.966199Z",
     "start_time": "2022-08-12T19:59:06.950194Z"
    }
   },
   "outputs": [
    {
     "name": "stdout",
     "output_type": "stream",
     "text": [
      "Correlação de Spearman Resutado líquido: 0.0658\n"
     ]
    }
   ],
   "source": [
    "coeficiente_liquido, p_valor = spearmanr(retornos_diarios[['ibov', 'retorno_com_custos']])\n",
    "print('Correlação de Spearman Resutado líquido: {:0.3}'.format(coeficiente_liquido))"
   ]
  },
  {
   "cell_type": "code",
   "execution_count": 121,
   "id": "383048a3",
   "metadata": {
    "ExecuteTime": {
     "end_time": "2022-08-12T19:59:07.158238Z",
     "start_time": "2022-08-12T19:59:07.126585Z"
    }
   },
   "outputs": [
    {
     "name": "stdout",
     "output_type": "stream",
     "text": [
      "Correlação de Spearman Resutado bruto: 0.0686\n"
     ]
    }
   ],
   "source": [
    "coeficiente_bruto, p_valor = spearmanr(retornos_diarios[['ibov', 'retorno_sem_custos']])\n",
    "print('Correlação de Spearman Resutado bruto: {:0.3}'.format(coeficiente_bruto))"
   ]
  },
  {
   "cell_type": "code",
   "execution_count": 122,
   "id": "705ecf40",
   "metadata": {
    "ExecuteTime": {
     "end_time": "2022-08-12T19:59:07.988210Z",
     "start_time": "2022-08-12T19:59:07.964274Z"
    }
   },
   "outputs": [
    {
     "data": {
      "text/plain": [
       "KstestResult(statistic=0.48310712960569746, pvalue=3.413149358982242e-187)"
      ]
     },
     "execution_count": 122,
     "metadata": {},
     "output_type": "execute_result"
    }
   ],
   "source": [
    "# TESTE NORMALIDADE\n",
    "#perform Kolmogorov-Smirnov test\n",
    "kstest(retornos_diarios.retorno_sem_custos, 'norm')"
   ]
  },
  {
   "cell_type": "code",
   "execution_count": 123,
   "id": "616e2bf4",
   "metadata": {
    "ExecuteTime": {
     "end_time": "2022-08-12T19:59:08.132217Z",
     "start_time": "2022-08-12T19:59:08.116210Z"
    }
   },
   "outputs": [
    {
     "data": {
      "text/plain": [
       "KstestResult(statistic=0.4808056336333154, pvalue=2.642445370337738e-185)"
      ]
     },
     "execution_count": 123,
     "metadata": {},
     "output_type": "execute_result"
    }
   ],
   "source": [
    "# TESTE NORMALIDADE\n",
    "#perform Kolmogorov-Smirnov test\n",
    "kstest(retornos_diarios.retorno_com_custos, 'norm')"
   ]
  },
  {
   "cell_type": "markdown",
   "id": "b8de0788",
   "metadata": {
    "ExecuteTime": {
     "end_time": "2022-08-12T03:45:46.655213Z",
     "start_time": "2022-08-12T03:45:46.631172Z"
    }
   },
   "source": [
    "# Eficacia"
   ]
  },
  {
   "cell_type": "code",
   "execution_count": 124,
   "id": "40cf69d3",
   "metadata": {
    "ExecuteTime": {
     "end_time": "2022-08-12T19:59:09.187381Z",
     "start_time": "2022-08-12T19:59:09.139406Z"
    }
   },
   "outputs": [
    {
     "data": {
      "text/html": [
       "<div>\n",
       "<style scoped>\n",
       "    .dataframe tbody tr th:only-of-type {\n",
       "        vertical-align: middle;\n",
       "    }\n",
       "\n",
       "    .dataframe tbody tr th {\n",
       "        vertical-align: top;\n",
       "    }\n",
       "\n",
       "    .dataframe thead th {\n",
       "        text-align: right;\n",
       "    }\n",
       "</style>\n",
       "<table border=\"1\" class=\"dataframe\">\n",
       "  <thead>\n",
       "    <tr style=\"text-align: right;\">\n",
       "      <th></th>\n",
       "      <th>num_operacoes</th>\n",
       "      <th>taxa_acerto</th>\n",
       "      <th>tempo_medio_operacao</th>\n",
       "    </tr>\n",
       "    <tr>\n",
       "      <th>open_date</th>\n",
       "      <th></th>\n",
       "      <th></th>\n",
       "      <th></th>\n",
       "    </tr>\n",
       "  </thead>\n",
       "  <tbody>\n",
       "    <tr>\n",
       "      <th>2019-01-31</th>\n",
       "      <td>17</td>\n",
       "      <td>0.588235</td>\n",
       "      <td>10.117647</td>\n",
       "    </tr>\n",
       "    <tr>\n",
       "      <th>2019-07-31</th>\n",
       "      <td>83</td>\n",
       "      <td>0.674699</td>\n",
       "      <td>24.807229</td>\n",
       "    </tr>\n",
       "    <tr>\n",
       "      <th>2020-01-31</th>\n",
       "      <td>51</td>\n",
       "      <td>0.647059</td>\n",
       "      <td>13.431373</td>\n",
       "    </tr>\n",
       "    <tr>\n",
       "      <th>2020-07-31</th>\n",
       "      <td>103</td>\n",
       "      <td>0.601942</td>\n",
       "      <td>9.067961</td>\n",
       "    </tr>\n",
       "    <tr>\n",
       "      <th>2021-01-31</th>\n",
       "      <td>55</td>\n",
       "      <td>0.527273</td>\n",
       "      <td>27.745455</td>\n",
       "    </tr>\n",
       "    <tr>\n",
       "      <th>2021-07-31</th>\n",
       "      <td>45</td>\n",
       "      <td>0.644444</td>\n",
       "      <td>25.644444</td>\n",
       "    </tr>\n",
       "    <tr>\n",
       "      <th>2022-01-31</th>\n",
       "      <td>46</td>\n",
       "      <td>0.565217</td>\n",
       "      <td>13.695652</td>\n",
       "    </tr>\n",
       "    <tr>\n",
       "      <th>2022-07-31</th>\n",
       "      <td>97</td>\n",
       "      <td>0.556701</td>\n",
       "      <td>9.319588</td>\n",
       "    </tr>\n",
       "  </tbody>\n",
       "</table>\n",
       "</div>"
      ],
      "text/plain": [
       "            num_operacoes  taxa_acerto  tempo_medio_operacao\n",
       "open_date                                                   \n",
       "2019-01-31             17     0.588235             10.117647\n",
       "2019-07-31             83     0.674699             24.807229\n",
       "2020-01-31             51     0.647059             13.431373\n",
       "2020-07-31            103     0.601942              9.067961\n",
       "2021-01-31             55     0.527273             27.745455\n",
       "2021-07-31             45     0.644444             25.644444\n",
       "2022-01-31             46     0.565217             13.695652\n",
       "2022-07-31             97     0.556701              9.319588"
      ]
     },
     "execution_count": 124,
     "metadata": {},
     "output_type": "execute_result"
    }
   ],
   "source": [
    "eficacia = fechadas.set_index('open_date').resample('6M').agg(\n",
    "    num_operacoes = ('pair', 'count'),\n",
    "    taxa_acerto = ('e_lucro_bruto', 'mean'),\n",
    "    tempo_medio_operacao = ('days_open', 'mean')\n",
    ")\n",
    "\n",
    "eficacia"
   ]
  },
  {
   "cell_type": "markdown",
   "id": "d4497066",
   "metadata": {},
   "source": [
    "# Desempenho"
   ]
  },
  {
   "cell_type": "code",
   "execution_count": 125,
   "id": "785c3602",
   "metadata": {
    "ExecuteTime": {
     "end_time": "2022-08-12T19:59:10.190042Z",
     "start_time": "2022-08-12T19:59:10.166048Z"
    }
   },
   "outputs": [
    {
     "data": {
      "text/plain": [
       "0.2925497675155498"
      ]
     },
     "execution_count": 125,
     "metadata": {},
     "output_type": "execute_result"
    }
   ],
   "source": [
    "vol_ibov = log_ret_ibov.close.std() * math.sqrt(252)\n",
    "vol_ibov"
   ]
  },
  {
   "cell_type": "code",
   "execution_count": 126,
   "id": "797a47bc",
   "metadata": {
    "ExecuteTime": {
     "end_time": "2022-08-12T19:59:11.489223Z",
     "start_time": "2022-08-12T19:59:11.465230Z"
    }
   },
   "outputs": [
    {
     "data": {
      "text/plain": [
       "0.19046643974114943"
      ]
     },
     "execution_count": 126,
     "metadata": {},
     "output_type": "execute_result"
    }
   ],
   "source": [
    "log_return = np.log(1+retorno_diario['return'])\n",
    "vol_return = log_return.std() * math.sqrt(252)\n",
    "vol_return"
   ]
  },
  {
   "cell_type": "code",
   "execution_count": 127,
   "id": "9c991762",
   "metadata": {
    "ExecuteTime": {
     "end_time": "2022-08-12T19:59:11.649230Z",
     "start_time": "2022-08-12T19:59:11.625219Z"
    }
   },
   "outputs": [
    {
     "data": {
      "text/plain": [
       "0.19063589911070272"
      ]
     },
     "execution_count": 127,
     "metadata": {},
     "output_type": "execute_result"
    }
   ],
   "source": [
    "log_return_sem_custo = np.log(1+retorno_diario['return_sem_custos'])\n",
    "vol_return_sem_custo = log_return_sem_custo.std() * math.sqrt(252)\n",
    "vol_return_sem_custo"
   ]
  },
  {
   "cell_type": "code",
   "execution_count": 128,
   "id": "e408c8ec",
   "metadata": {
    "ExecuteTime": {
     "end_time": "2022-08-12T19:59:12.548262Z",
     "start_time": "2022-08-12T19:59:12.524328Z"
    }
   },
   "outputs": [
    {
     "data": {
      "text/html": [
       "<div>\n",
       "<style scoped>\n",
       "    .dataframe tbody tr th:only-of-type {\n",
       "        vertical-align: middle;\n",
       "    }\n",
       "\n",
       "    .dataframe tbody tr th {\n",
       "        vertical-align: top;\n",
       "    }\n",
       "\n",
       "    .dataframe thead th {\n",
       "        text-align: right;\n",
       "    }\n",
       "</style>\n",
       "<table border=\"1\" class=\"dataframe\">\n",
       "  <thead>\n",
       "    <tr style=\"text-align: right;\">\n",
       "      <th></th>\n",
       "      <th>retorno_acumulado_bruto</th>\n",
       "      <th>taxa_acerto</th>\n",
       "      <th>retorno_acumulado_liquido</th>\n",
       "      <th>desvio_padrao</th>\n",
       "      <th>sharpe</th>\n",
       "      <th>correlacao_ibov</th>\n",
       "    </tr>\n",
       "  </thead>\n",
       "  <tbody>\n",
       "    <tr>\n",
       "      <th>0</th>\n",
       "      <td>80.704182</td>\n",
       "      <td>0.60161</td>\n",
       "      <td>-0.999964</td>\n",
       "      <td>0.190466</td>\n",
       "      <td>-5.250077</td>\n",
       "      <td>0.065777</td>\n",
       "    </tr>\n",
       "  </tbody>\n",
       "</table>\n",
       "</div>"
      ],
      "text/plain": [
       "   retorno_acumulado_bruto  taxa_acerto  retorno_acumulado_liquido  \\\n",
       "0                80.704182      0.60161                  -0.999964   \n",
       "\n",
       "   desvio_padrao    sharpe  correlacao_ibov  \n",
       "0       0.190466 -5.250077         0.065777  "
      ]
     },
     "execution_count": 128,
     "metadata": {},
     "output_type": "execute_result"
    }
   ],
   "source": [
    "retorno_acumulado_bruto = retorno_acumulado['return_sem_custos'].iloc[-1]\n",
    "taxa_acerto = fechadas['e_lucro_bruto'].mean()\n",
    "retorno_acumulado_liquido = retorno_acumulado['return'].iloc[-1]\n",
    "\n",
    "desempenho = pd.DataFrame([{\n",
    "    'retorno_acumulado_bruto':retorno_acumulado_bruto,\n",
    "    'taxa_acerto': taxa_acerto,\n",
    "    'retorno_acumulado_liquido': retorno_acumulado_liquido,\n",
    "    'desvio_padrao': vol_return,\n",
    "    'sharpe': retorno_acumulado_liquido/vol_return,\n",
    "    'correlacao_ibov': coeficiente_liquido\n",
    "    }])\n",
    "\n",
    "desempenho"
   ]
  },
  {
   "cell_type": "code",
   "execution_count": 129,
   "id": "200e1c6d",
   "metadata": {
    "ExecuteTime": {
     "end_time": "2022-08-12T19:59:13.390659Z",
     "start_time": "2022-08-12T19:59:13.374678Z"
    }
   },
   "outputs": [],
   "source": [
    "fechadas_halflife = fechadas.loc[(fechadas.days_open > fechadas.halflife) & (fechadas.beta_close!='VAR CLOSE')]\n",
    "fechadas_stop_var = fechadas.loc[(fechadas.beta_close=='VAR CLOSE')]\n",
    "fechadas_retorno = fechadas.loc[(abs(fechadas.last_residual) <= fechadas.close_limit) & (fechadas.beta_close!='VAR CLOSE') & (fechadas.days_open <= fechadas.halflife)]"
   ]
  },
  {
   "cell_type": "code",
   "execution_count": 130,
   "id": "0467567f",
   "metadata": {
    "ExecuteTime": {
     "end_time": "2022-08-12T19:59:13.575207Z",
     "start_time": "2022-08-12T19:59:13.559241Z"
    }
   },
   "outputs": [],
   "source": [
    "todos_indices = fechadas_stop_var.index.tolist() + fechadas_halflife.index.tolist() + fechadas_retorno.index.tolist()\n",
    "\n",
    "seen = set()\n",
    "dupes = [x for x in todos_indices if x in seen or seen.add(x)]    "
   ]
  },
  {
   "cell_type": "code",
   "execution_count": 131,
   "id": "b652e606",
   "metadata": {
    "ExecuteTime": {
     "end_time": "2022-08-12T19:59:14.429707Z",
     "start_time": "2022-08-12T19:59:14.405712Z"
    }
   },
   "outputs": [
    {
     "data": {
      "text/plain": [
       "{7678, 8053, 8099}"
      ]
     },
     "execution_count": 131,
     "metadata": {},
     "output_type": "execute_result"
    }
   ],
   "source": [
    "set(fechadas.index.tolist()) - set(todos_indices)"
   ]
  },
  {
   "cell_type": "code",
   "execution_count": 132,
   "id": "4ac2571a",
   "metadata": {
    "ExecuteTime": {
     "end_time": "2022-08-12T19:59:15.332607Z",
     "start_time": "2022-08-12T19:59:15.292647Z"
    }
   },
   "outputs": [
    {
     "data": {
      "text/html": [
       "<div>\n",
       "<style scoped>\n",
       "    .dataframe tbody tr th:only-of-type {\n",
       "        vertical-align: middle;\n",
       "    }\n",
       "\n",
       "    .dataframe tbody tr th {\n",
       "        vertical-align: top;\n",
       "    }\n",
       "\n",
       "    .dataframe thead th {\n",
       "        text-align: right;\n",
       "    }\n",
       "</style>\n",
       "<table border=\"1\" class=\"dataframe\">\n",
       "  <thead>\n",
       "    <tr style=\"text-align: right;\">\n",
       "      <th></th>\n",
       "      <th>price_fst_stock</th>\n",
       "      <th>price_scnd_stock</th>\n",
       "      <th>beta_open</th>\n",
       "      <th>last_residual</th>\n",
       "      <th>std_residual</th>\n",
       "      <th>std_open_residual</th>\n",
       "      <th>residual_open</th>\n",
       "      <th>open_price_first_stock</th>\n",
       "      <th>open_price_scnd_stock</th>\n",
       "      <th>close_limit</th>\n",
       "      <th>...</th>\n",
       "      <th>var_limit</th>\n",
       "      <th>id</th>\n",
       "      <th>ratio_sem_custos</th>\n",
       "      <th>ratio</th>\n",
       "      <th>return</th>\n",
       "      <th>retorno_acumulado</th>\n",
       "      <th>return_sem_custos</th>\n",
       "      <th>retorno_acumulado_sem_custos</th>\n",
       "      <th>e_lucro_bruto</th>\n",
       "      <th>e_lucro_liquido</th>\n",
       "    </tr>\n",
       "    <tr>\n",
       "      <th>setor</th>\n",
       "      <th></th>\n",
       "      <th></th>\n",
       "      <th></th>\n",
       "      <th></th>\n",
       "      <th></th>\n",
       "      <th></th>\n",
       "      <th></th>\n",
       "      <th></th>\n",
       "      <th></th>\n",
       "      <th></th>\n",
       "      <th></th>\n",
       "      <th></th>\n",
       "      <th></th>\n",
       "      <th></th>\n",
       "      <th></th>\n",
       "      <th></th>\n",
       "      <th></th>\n",
       "      <th></th>\n",
       "      <th></th>\n",
       "      <th></th>\n",
       "      <th></th>\n",
       "    </tr>\n",
       "  </thead>\n",
       "  <tbody>\n",
       "    <tr>\n",
       "      <th>Alimentos e Bebidas</th>\n",
       "      <td>129.488542</td>\n",
       "      <td>138.522371</td>\n",
       "      <td>8.492752</td>\n",
       "      <td>-16.358828</td>\n",
       "      <td>14.005609</td>\n",
       "      <td>11.869967</td>\n",
       "      <td>-9.362041</td>\n",
       "      <td>145.632609</td>\n",
       "      <td>142.731268</td>\n",
       "      <td>5.934984</td>\n",
       "      <td>...</td>\n",
       "      <td>-0.321289</td>\n",
       "      <td>1449</td>\n",
       "      <td>6.478981</td>\n",
       "      <td>6.382540</td>\n",
       "      <td>0.122741</td>\n",
       "      <td>-0.102883</td>\n",
       "      <td>0.230597</td>\n",
       "      <td>0.101477</td>\n",
       "      <td>5</td>\n",
       "      <td>4</td>\n",
       "    </tr>\n",
       "    <tr>\n",
       "      <th>Aéreas</th>\n",
       "      <td>210.514931</td>\n",
       "      <td>188.227954</td>\n",
       "      <td>4.527120</td>\n",
       "      <td>5.108977</td>\n",
       "      <td>8.196917</td>\n",
       "      <td>7.467467</td>\n",
       "      <td>-4.814386</td>\n",
       "      <td>202.775521</td>\n",
       "      <td>190.034908</td>\n",
       "      <td>3.733733</td>\n",
       "      <td>...</td>\n",
       "      <td>-0.203077</td>\n",
       "      <td>1233</td>\n",
       "      <td>4.787757</td>\n",
       "      <td>4.716656</td>\n",
       "      <td>-0.197088</td>\n",
       "      <td>-0.199487</td>\n",
       "      <td>-0.095711</td>\n",
       "      <td>-0.027567</td>\n",
       "      <td>3</td>\n",
       "      <td>2</td>\n",
       "    </tr>\n",
       "    <tr>\n",
       "      <th>Bens Industriais</th>\n",
       "      <td>237.987911</td>\n",
       "      <td>261.508150</td>\n",
       "      <td>15.517782</td>\n",
       "      <td>-11.260333</td>\n",
       "      <td>15.522407</td>\n",
       "      <td>14.157377</td>\n",
       "      <td>-5.585036</td>\n",
       "      <td>249.243091</td>\n",
       "      <td>266.124365</td>\n",
       "      <td>7.078688</td>\n",
       "      <td>...</td>\n",
       "      <td>-0.574102</td>\n",
       "      <td>3647</td>\n",
       "      <td>14.025389</td>\n",
       "      <td>13.815428</td>\n",
       "      <td>-0.036965</td>\n",
       "      <td>0.257782</td>\n",
       "      <td>0.262397</td>\n",
       "      <td>0.769629</td>\n",
       "      <td>11</td>\n",
       "      <td>10</td>\n",
       "    </tr>\n",
       "    <tr>\n",
       "      <th>Construção Civil</th>\n",
       "      <td>83.789468</td>\n",
       "      <td>85.539630</td>\n",
       "      <td>4.285753</td>\n",
       "      <td>-1.379260</td>\n",
       "      <td>6.249487</td>\n",
       "      <td>5.903019</td>\n",
       "      <td>-7.656836</td>\n",
       "      <td>95.157020</td>\n",
       "      <td>92.279955</td>\n",
       "      <td>2.951510</td>\n",
       "      <td>...</td>\n",
       "      <td>-0.134128</td>\n",
       "      <td>1902</td>\n",
       "      <td>5.650436</td>\n",
       "      <td>5.552957</td>\n",
       "      <td>-0.015644</td>\n",
       "      <td>-0.205693</td>\n",
       "      <td>0.070026</td>\n",
       "      <td>-0.053731</td>\n",
       "      <td>1</td>\n",
       "      <td>0</td>\n",
       "    </tr>\n",
       "    <tr>\n",
       "      <th>Educação</th>\n",
       "      <td>8.709432</td>\n",
       "      <td>64.317841</td>\n",
       "      <td>0.599018</td>\n",
       "      <td>-0.390983</td>\n",
       "      <td>1.651538</td>\n",
       "      <td>1.420656</td>\n",
       "      <td>-1.126202</td>\n",
       "      <td>10.302130</td>\n",
       "      <td>70.874768</td>\n",
       "      <td>0.710328</td>\n",
       "      <td>...</td>\n",
       "      <td>-0.128887</td>\n",
       "      <td>1091</td>\n",
       "      <td>14.561775</td>\n",
       "      <td>14.349107</td>\n",
       "      <td>0.033241</td>\n",
       "      <td>-0.257656</td>\n",
       "      <td>0.098674</td>\n",
       "      <td>-0.172932</td>\n",
       "      <td>1</td>\n",
       "      <td>1</td>\n",
       "    </tr>\n",
       "    <tr>\n",
       "      <th>Exploração de imóveis</th>\n",
       "      <td>161.992479</td>\n",
       "      <td>222.443100</td>\n",
       "      <td>8.699860</td>\n",
       "      <td>-3.928344</td>\n",
       "      <td>4.509078</td>\n",
       "      <td>4.278500</td>\n",
       "      <td>2.025311</td>\n",
       "      <td>162.891936</td>\n",
       "      <td>216.309938</td>\n",
       "      <td>2.139250</td>\n",
       "      <td>...</td>\n",
       "      <td>-0.224090</td>\n",
       "      <td>2026</td>\n",
       "      <td>7.921265</td>\n",
       "      <td>7.804031</td>\n",
       "      <td>-0.241846</td>\n",
       "      <td>-0.047606</td>\n",
       "      <td>-0.051415</td>\n",
       "      <td>0.277312</td>\n",
       "      <td>7</td>\n",
       "      <td>7</td>\n",
       "    </tr>\n",
       "    <tr>\n",
       "      <th>Financeiro</th>\n",
       "      <td>3408.354698</td>\n",
       "      <td>3864.067995</td>\n",
       "      <td>255.548358</td>\n",
       "      <td>-68.707705</td>\n",
       "      <td>203.260405</td>\n",
       "      <td>180.521290</td>\n",
       "      <td>-57.012486</td>\n",
       "      <td>3458.950333</td>\n",
       "      <td>3893.555820</td>\n",
       "      <td>90.260645</td>\n",
       "      <td>...</td>\n",
       "      <td>-6.820529</td>\n",
       "      <td>41118</td>\n",
       "      <td>256.667596</td>\n",
       "      <td>252.753228</td>\n",
       "      <td>-1.160786</td>\n",
       "      <td>-4.447933</td>\n",
       "      <td>1.875697</td>\n",
       "      <td>0.993870</td>\n",
       "      <td>104</td>\n",
       "      <td>71</td>\n",
       "    </tr>\n",
       "    <tr>\n",
       "      <th>Mineração e Siderurgia</th>\n",
       "      <td>730.782713</td>\n",
       "      <td>559.993573</td>\n",
       "      <td>46.272009</td>\n",
       "      <td>3.819339</td>\n",
       "      <td>28.931745</td>\n",
       "      <td>26.376177</td>\n",
       "      <td>15.602826</td>\n",
       "      <td>721.420190</td>\n",
       "      <td>546.019515</td>\n",
       "      <td>13.188088</td>\n",
       "      <td>...</td>\n",
       "      <td>-1.051299</td>\n",
       "      <td>9729</td>\n",
       "      <td>35.352462</td>\n",
       "      <td>34.818067</td>\n",
       "      <td>-0.348262</td>\n",
       "      <td>-1.009416</td>\n",
       "      <td>0.275448</td>\n",
       "      <td>-0.003029</td>\n",
       "      <td>20</td>\n",
       "      <td>12</td>\n",
       "    </tr>\n",
       "    <tr>\n",
       "      <th>Papel e Celulose</th>\n",
       "      <td>159.933179</td>\n",
       "      <td>294.270384</td>\n",
       "      <td>3.012716</td>\n",
       "      <td>-0.794471</td>\n",
       "      <td>5.467993</td>\n",
       "      <td>5.596192</td>\n",
       "      <td>0.238764</td>\n",
       "      <td>163.715730</td>\n",
       "      <td>298.236508</td>\n",
       "      <td>2.798096</td>\n",
       "      <td>...</td>\n",
       "      <td>-0.153175</td>\n",
       "      <td>2402</td>\n",
       "      <td>4.505727</td>\n",
       "      <td>4.439278</td>\n",
       "      <td>-0.078712</td>\n",
       "      <td>0.062927</td>\n",
       "      <td>0.011324</td>\n",
       "      <td>0.243131</td>\n",
       "      <td>5</td>\n",
       "      <td>4</td>\n",
       "    </tr>\n",
       "    <tr>\n",
       "      <th>Petroleo, gás e biocombustíveis</th>\n",
       "      <td>536.132107</td>\n",
       "      <td>517.005228</td>\n",
       "      <td>24.279591</td>\n",
       "      <td>-0.070385</td>\n",
       "      <td>15.917736</td>\n",
       "      <td>13.672550</td>\n",
       "      <td>-2.205518</td>\n",
       "      <td>536.789384</td>\n",
       "      <td>512.753173</td>\n",
       "      <td>6.836275</td>\n",
       "      <td>...</td>\n",
       "      <td>-0.499999</td>\n",
       "      <td>7263</td>\n",
       "      <td>25.023210</td>\n",
       "      <td>24.644756</td>\n",
       "      <td>0.166768</td>\n",
       "      <td>-0.619947</td>\n",
       "      <td>0.595403</td>\n",
       "      <td>0.078667</td>\n",
       "      <td>18</td>\n",
       "      <td>3</td>\n",
       "    </tr>\n",
       "    <tr>\n",
       "      <th>Saúde</th>\n",
       "      <td>845.282620</td>\n",
       "      <td>839.386862</td>\n",
       "      <td>30.191299</td>\n",
       "      <td>-26.652080</td>\n",
       "      <td>45.378118</td>\n",
       "      <td>43.309864</td>\n",
       "      <td>-32.561091</td>\n",
       "      <td>855.321429</td>\n",
       "      <td>838.442483</td>\n",
       "      <td>21.654932</td>\n",
       "      <td>...</td>\n",
       "      <td>-1.569873</td>\n",
       "      <td>13646</td>\n",
       "      <td>36.819987</td>\n",
       "      <td>36.280767</td>\n",
       "      <td>-0.188499</td>\n",
       "      <td>-0.557454</td>\n",
       "      <td>0.403525</td>\n",
       "      <td>0.601663</td>\n",
       "      <td>22</td>\n",
       "      <td>16</td>\n",
       "    </tr>\n",
       "    <tr>\n",
       "      <th>Telecomunicações</th>\n",
       "      <td>129.672575</td>\n",
       "      <td>127.822071</td>\n",
       "      <td>9.060746</td>\n",
       "      <td>0.039717</td>\n",
       "      <td>3.861781</td>\n",
       "      <td>3.971771</td>\n",
       "      <td>7.027790</td>\n",
       "      <td>126.624167</td>\n",
       "      <td>126.124469</td>\n",
       "      <td>1.985885</td>\n",
       "      <td>...</td>\n",
       "      <td>-0.075544</td>\n",
       "      <td>1938</td>\n",
       "      <td>4.470242</td>\n",
       "      <td>4.405421</td>\n",
       "      <td>0.010600</td>\n",
       "      <td>0.049515</td>\n",
       "      <td>0.070528</td>\n",
       "      <td>0.168797</td>\n",
       "      <td>4</td>\n",
       "      <td>4</td>\n",
       "    </tr>\n",
       "    <tr>\n",
       "      <th>Utilidade Pública</th>\n",
       "      <td>3434.919304</td>\n",
       "      <td>3409.201946</td>\n",
       "      <td>158.976714</td>\n",
       "      <td>-15.453976</td>\n",
       "      <td>146.911839</td>\n",
       "      <td>135.833692</td>\n",
       "      <td>24.484591</td>\n",
       "      <td>3467.618127</td>\n",
       "      <td>3394.628086</td>\n",
       "      <td>67.916846</td>\n",
       "      <td>...</td>\n",
       "      <td>-3.864942</td>\n",
       "      <td>31724</td>\n",
       "      <td>173.348022</td>\n",
       "      <td>170.729109</td>\n",
       "      <td>0.346589</td>\n",
       "      <td>-0.490387</td>\n",
       "      <td>2.276193</td>\n",
       "      <td>3.104365</td>\n",
       "      <td>80</td>\n",
       "      <td>59</td>\n",
       "    </tr>\n",
       "    <tr>\n",
       "      <th>Varejo</th>\n",
       "      <td>937.131898</td>\n",
       "      <td>854.074544</td>\n",
       "      <td>51.661684</td>\n",
       "      <td>-68.942407</td>\n",
       "      <td>85.872101</td>\n",
       "      <td>71.661116</td>\n",
       "      <td>-56.124993</td>\n",
       "      <td>946.657997</td>\n",
       "      <td>849.481592</td>\n",
       "      <td>35.830558</td>\n",
       "      <td>...</td>\n",
       "      <td>-1.549283</td>\n",
       "      <td>12554</td>\n",
       "      <td>44.664853</td>\n",
       "      <td>43.978052</td>\n",
       "      <td>0.396085</td>\n",
       "      <td>-0.554653</td>\n",
       "      <td>0.917528</td>\n",
       "      <td>0.378132</td>\n",
       "      <td>18</td>\n",
       "      <td>17</td>\n",
       "    </tr>\n",
       "  </tbody>\n",
       "</table>\n",
       "<p>14 rows × 25 columns</p>\n",
       "</div>"
      ],
      "text/plain": [
       "                                 price_fst_stock  price_scnd_stock  \\\n",
       "setor                                                                \n",
       "Alimentos e Bebidas                   129.488542        138.522371   \n",
       "Aéreas                                210.514931        188.227954   \n",
       "Bens Industriais                      237.987911        261.508150   \n",
       "Construção Civil                       83.789468         85.539630   \n",
       "Educação                                8.709432         64.317841   \n",
       "Exploração de imóveis                 161.992479        222.443100   \n",
       "Financeiro                           3408.354698       3864.067995   \n",
       "Mineração e Siderurgia                730.782713        559.993573   \n",
       "Papel e Celulose                      159.933179        294.270384   \n",
       "Petroleo, gás e biocombustíveis       536.132107        517.005228   \n",
       "Saúde                                 845.282620        839.386862   \n",
       "Telecomunicações                      129.672575        127.822071   \n",
       "Utilidade Pública                    3434.919304       3409.201946   \n",
       "Varejo                                937.131898        854.074544   \n",
       "\n",
       "                                  beta_open  last_residual  std_residual  \\\n",
       "setor                                                                      \n",
       "Alimentos e Bebidas                8.492752     -16.358828     14.005609   \n",
       "Aéreas                             4.527120       5.108977      8.196917   \n",
       "Bens Industriais                  15.517782     -11.260333     15.522407   \n",
       "Construção Civil                   4.285753      -1.379260      6.249487   \n",
       "Educação                           0.599018      -0.390983      1.651538   \n",
       "Exploração de imóveis              8.699860      -3.928344      4.509078   \n",
       "Financeiro                       255.548358     -68.707705    203.260405   \n",
       "Mineração e Siderurgia            46.272009       3.819339     28.931745   \n",
       "Papel e Celulose                   3.012716      -0.794471      5.467993   \n",
       "Petroleo, gás e biocombustíveis   24.279591      -0.070385     15.917736   \n",
       "Saúde                             30.191299     -26.652080     45.378118   \n",
       "Telecomunicações                   9.060746       0.039717      3.861781   \n",
       "Utilidade Pública                158.976714     -15.453976    146.911839   \n",
       "Varejo                            51.661684     -68.942407     85.872101   \n",
       "\n",
       "                                 std_open_residual  residual_open  \\\n",
       "setor                                                               \n",
       "Alimentos e Bebidas                      11.869967      -9.362041   \n",
       "Aéreas                                    7.467467      -4.814386   \n",
       "Bens Industriais                         14.157377      -5.585036   \n",
       "Construção Civil                          5.903019      -7.656836   \n",
       "Educação                                  1.420656      -1.126202   \n",
       "Exploração de imóveis                     4.278500       2.025311   \n",
       "Financeiro                              180.521290     -57.012486   \n",
       "Mineração e Siderurgia                   26.376177      15.602826   \n",
       "Papel e Celulose                          5.596192       0.238764   \n",
       "Petroleo, gás e biocombustíveis          13.672550      -2.205518   \n",
       "Saúde                                    43.309864     -32.561091   \n",
       "Telecomunicações                          3.971771       7.027790   \n",
       "Utilidade Pública                       135.833692      24.484591   \n",
       "Varejo                                   71.661116     -56.124993   \n",
       "\n",
       "                                 open_price_first_stock  \\\n",
       "setor                                                     \n",
       "Alimentos e Bebidas                          145.632609   \n",
       "Aéreas                                       202.775521   \n",
       "Bens Industriais                             249.243091   \n",
       "Construção Civil                              95.157020   \n",
       "Educação                                      10.302130   \n",
       "Exploração de imóveis                        162.891936   \n",
       "Financeiro                                  3458.950333   \n",
       "Mineração e Siderurgia                       721.420190   \n",
       "Papel e Celulose                             163.715730   \n",
       "Petroleo, gás e biocombustíveis              536.789384   \n",
       "Saúde                                        855.321429   \n",
       "Telecomunicações                             126.624167   \n",
       "Utilidade Pública                           3467.618127   \n",
       "Varejo                                       946.657997   \n",
       "\n",
       "                                 open_price_scnd_stock  close_limit  ...  \\\n",
       "setor                                                                ...   \n",
       "Alimentos e Bebidas                         142.731268     5.934984  ...   \n",
       "Aéreas                                      190.034908     3.733733  ...   \n",
       "Bens Industriais                            266.124365     7.078688  ...   \n",
       "Construção Civil                             92.279955     2.951510  ...   \n",
       "Educação                                     70.874768     0.710328  ...   \n",
       "Exploração de imóveis                       216.309938     2.139250  ...   \n",
       "Financeiro                                 3893.555820    90.260645  ...   \n",
       "Mineração e Siderurgia                      546.019515    13.188088  ...   \n",
       "Papel e Celulose                            298.236508     2.798096  ...   \n",
       "Petroleo, gás e biocombustíveis             512.753173     6.836275  ...   \n",
       "Saúde                                       838.442483    21.654932  ...   \n",
       "Telecomunicações                            126.124469     1.985885  ...   \n",
       "Utilidade Pública                          3394.628086    67.916846  ...   \n",
       "Varejo                                      849.481592    35.830558  ...   \n",
       "\n",
       "                                 var_limit     id  ratio_sem_custos  \\\n",
       "setor                                                                 \n",
       "Alimentos e Bebidas              -0.321289   1449          6.478981   \n",
       "Aéreas                           -0.203077   1233          4.787757   \n",
       "Bens Industriais                 -0.574102   3647         14.025389   \n",
       "Construção Civil                 -0.134128   1902          5.650436   \n",
       "Educação                         -0.128887   1091         14.561775   \n",
       "Exploração de imóveis            -0.224090   2026          7.921265   \n",
       "Financeiro                       -6.820529  41118        256.667596   \n",
       "Mineração e Siderurgia           -1.051299   9729         35.352462   \n",
       "Papel e Celulose                 -0.153175   2402          4.505727   \n",
       "Petroleo, gás e biocombustíveis  -0.499999   7263         25.023210   \n",
       "Saúde                            -1.569873  13646         36.819987   \n",
       "Telecomunicações                 -0.075544   1938          4.470242   \n",
       "Utilidade Pública                -3.864942  31724        173.348022   \n",
       "Varejo                           -1.549283  12554         44.664853   \n",
       "\n",
       "                                      ratio    return  retorno_acumulado  \\\n",
       "setor                                                                      \n",
       "Alimentos e Bebidas                6.382540  0.122741          -0.102883   \n",
       "Aéreas                             4.716656 -0.197088          -0.199487   \n",
       "Bens Industriais                  13.815428 -0.036965           0.257782   \n",
       "Construção Civil                   5.552957 -0.015644          -0.205693   \n",
       "Educação                          14.349107  0.033241          -0.257656   \n",
       "Exploração de imóveis              7.804031 -0.241846          -0.047606   \n",
       "Financeiro                       252.753228 -1.160786          -4.447933   \n",
       "Mineração e Siderurgia            34.818067 -0.348262          -1.009416   \n",
       "Papel e Celulose                   4.439278 -0.078712           0.062927   \n",
       "Petroleo, gás e biocombustíveis   24.644756  0.166768          -0.619947   \n",
       "Saúde                             36.280767 -0.188499          -0.557454   \n",
       "Telecomunicações                   4.405421  0.010600           0.049515   \n",
       "Utilidade Pública                170.729109  0.346589          -0.490387   \n",
       "Varejo                            43.978052  0.396085          -0.554653   \n",
       "\n",
       "                                 return_sem_custos  \\\n",
       "setor                                                \n",
       "Alimentos e Bebidas                       0.230597   \n",
       "Aéreas                                   -0.095711   \n",
       "Bens Industriais                          0.262397   \n",
       "Construção Civil                          0.070026   \n",
       "Educação                                  0.098674   \n",
       "Exploração de imóveis                    -0.051415   \n",
       "Financeiro                                1.875697   \n",
       "Mineração e Siderurgia                    0.275448   \n",
       "Papel e Celulose                          0.011324   \n",
       "Petroleo, gás e biocombustíveis           0.595403   \n",
       "Saúde                                     0.403525   \n",
       "Telecomunicações                          0.070528   \n",
       "Utilidade Pública                         2.276193   \n",
       "Varejo                                    0.917528   \n",
       "\n",
       "                                 retorno_acumulado_sem_custos  e_lucro_bruto  \\\n",
       "setor                                                                          \n",
       "Alimentos e Bebidas                                  0.101477              5   \n",
       "Aéreas                                              -0.027567              3   \n",
       "Bens Industriais                                     0.769629             11   \n",
       "Construção Civil                                    -0.053731              1   \n",
       "Educação                                            -0.172932              1   \n",
       "Exploração de imóveis                                0.277312              7   \n",
       "Financeiro                                           0.993870            104   \n",
       "Mineração e Siderurgia                              -0.003029             20   \n",
       "Papel e Celulose                                     0.243131              5   \n",
       "Petroleo, gás e biocombustíveis                      0.078667             18   \n",
       "Saúde                                                0.601663             22   \n",
       "Telecomunicações                                     0.168797              4   \n",
       "Utilidade Pública                                    3.104365             80   \n",
       "Varejo                                               0.378132             18   \n",
       "\n",
       "                                 e_lucro_liquido  \n",
       "setor                                             \n",
       "Alimentos e Bebidas                            4  \n",
       "Aéreas                                         2  \n",
       "Bens Industriais                              10  \n",
       "Construção Civil                               0  \n",
       "Educação                                       1  \n",
       "Exploração de imóveis                          7  \n",
       "Financeiro                                    71  \n",
       "Mineração e Siderurgia                        12  \n",
       "Papel e Celulose                               4  \n",
       "Petroleo, gás e biocombustíveis                3  \n",
       "Saúde                                         16  \n",
       "Telecomunicações                               4  \n",
       "Utilidade Pública                             59  \n",
       "Varejo                                        17  \n",
       "\n",
       "[14 rows x 25 columns]"
      ]
     },
     "execution_count": 132,
     "metadata": {},
     "output_type": "execute_result"
    }
   ],
   "source": [
    "fechadas.groupby('setor').agg('sum')"
   ]
  },
  {
   "cell_type": "code",
   "execution_count": 133,
   "id": "b53355e3",
   "metadata": {
    "ExecuteTime": {
     "end_time": "2022-08-12T19:59:17.503098Z",
     "start_time": "2022-08-12T19:59:17.239164Z"
    }
   },
   "outputs": [
    {
     "data": {
      "image/png": "[encoded data removed]",
      "text/plain": [
       "<Figure size 1080x576 with 1 Axes>"
      ]
     },
     "metadata": {},
     "output_type": "display_data"
    }
   ],
   "source": [
    "halfyear_accuracy = fechadas.set_index('open_date').resample('6M')[['e_lucro_bruto']].mean().reset_index()\n",
    "halfyear_accuracy.columns = ['open_date', 'retorno']\n",
    "halfyear_accuracy['open_date'] = halfyear_accuracy['open_date'].dt.date\n",
    "halfyear_accuracy = halfyear_accuracy.melt(id_vars='open_date', value_name='acerto')\n",
    "\n",
    "sns.barplot(x='open_date', y='acerto', hue='variable', data=halfyear_accuracy)\n",
    "plt.axhline(y=0.5, color='blue', linestyle='--')\n",
    "plt.xlabel('data')\n",
    "# plt.xticks(rotation=90)\n",
    "plt.legend(bbox_to_anchor=(1.05, 1), loc=2, borderaxespad=0.)\n",
    "plt.show()"
   ]
  },
  {
   "cell_type": "code",
   "execution_count": 134,
   "id": "f0726ee1",
   "metadata": {
    "ExecuteTime": {
     "end_time": "2022-08-12T19:59:17.519097Z",
     "start_time": "2022-08-12T19:59:17.503098Z"
    }
   },
   "outputs": [
    {
     "data": {
      "text/html": [
       "<div>\n",
       "<style scoped>\n",
       "    .dataframe tbody tr th:only-of-type {\n",
       "        vertical-align: middle;\n",
       "    }\n",
       "\n",
       "    .dataframe tbody tr th {\n",
       "        vertical-align: top;\n",
       "    }\n",
       "\n",
       "    .dataframe thead th {\n",
       "        text-align: right;\n",
       "    }\n",
       "</style>\n",
       "<table border=\"1\" class=\"dataframe\">\n",
       "  <thead>\n",
       "    <tr style=\"text-align: right;\">\n",
       "      <th></th>\n",
       "      <th>open_date</th>\n",
       "      <th>variable</th>\n",
       "      <th>acerto</th>\n",
       "    </tr>\n",
       "  </thead>\n",
       "  <tbody>\n",
       "    <tr>\n",
       "      <th>0</th>\n",
       "      <td>2019-01-31</td>\n",
       "      <td>retorno</td>\n",
       "      <td>0.588235</td>\n",
       "    </tr>\n",
       "    <tr>\n",
       "      <th>1</th>\n",
       "      <td>2019-07-31</td>\n",
       "      <td>retorno</td>\n",
       "      <td>0.674699</td>\n",
       "    </tr>\n",
       "    <tr>\n",
       "      <th>2</th>\n",
       "      <td>2020-01-31</td>\n",
       "      <td>retorno</td>\n",
       "      <td>0.647059</td>\n",
       "    </tr>\n",
       "    <tr>\n",
       "      <th>3</th>\n",
       "      <td>2020-07-31</td>\n",
       "      <td>retorno</td>\n",
       "      <td>0.601942</td>\n",
       "    </tr>\n",
       "    <tr>\n",
       "      <th>4</th>\n",
       "      <td>2021-01-31</td>\n",
       "      <td>retorno</td>\n",
       "      <td>0.527273</td>\n",
       "    </tr>\n",
       "    <tr>\n",
       "      <th>5</th>\n",
       "      <td>2021-07-31</td>\n",
       "      <td>retorno</td>\n",
       "      <td>0.644444</td>\n",
       "    </tr>\n",
       "    <tr>\n",
       "      <th>6</th>\n",
       "      <td>2022-01-31</td>\n",
       "      <td>retorno</td>\n",
       "      <td>0.565217</td>\n",
       "    </tr>\n",
       "    <tr>\n",
       "      <th>7</th>\n",
       "      <td>2022-07-31</td>\n",
       "      <td>retorno</td>\n",
       "      <td>0.556701</td>\n",
       "    </tr>\n",
       "  </tbody>\n",
       "</table>\n",
       "</div>"
      ],
      "text/plain": [
       "    open_date variable    acerto\n",
       "0  2019-01-31  retorno  0.588235\n",
       "1  2019-07-31  retorno  0.674699\n",
       "2  2020-01-31  retorno  0.647059\n",
       "3  2020-07-31  retorno  0.601942\n",
       "4  2021-01-31  retorno  0.527273\n",
       "5  2021-07-31  retorno  0.644444\n",
       "6  2022-01-31  retorno  0.565217\n",
       "7  2022-07-31  retorno  0.556701"
      ]
     },
     "execution_count": 134,
     "metadata": {},
     "output_type": "execute_result"
    }
   ],
   "source": [
    "halfyear_accuracy"
   ]
  },
  {
   "cell_type": "code",
   "execution_count": 135,
   "id": "e8c4f76f",
   "metadata": {
    "ExecuteTime": {
     "end_time": "2022-08-12T19:59:19.057106Z",
     "start_time": "2022-08-12T19:59:19.009106Z"
    }
   },
   "outputs": [
    {
     "data": {
      "text/html": [
       "<div>\n",
       "<style scoped>\n",
       "    .dataframe tbody tr th:only-of-type {\n",
       "        vertical-align: middle;\n",
       "    }\n",
       "\n",
       "    .dataframe tbody tr th {\n",
       "        vertical-align: top;\n",
       "    }\n",
       "\n",
       "    .dataframe thead th {\n",
       "        text-align: right;\n",
       "    }\n",
       "</style>\n",
       "<table border=\"1\" class=\"dataframe\">\n",
       "  <thead>\n",
       "    <tr style=\"text-align: right;\">\n",
       "      <th></th>\n",
       "      <th>date</th>\n",
       "      <th>pair</th>\n",
       "      <th>status</th>\n",
       "      <th>price_fst_stock</th>\n",
       "      <th>price_scnd_stock</th>\n",
       "      <th>beta_open</th>\n",
       "      <th>beta_close</th>\n",
       "      <th>last_residual</th>\n",
       "      <th>std_residual</th>\n",
       "      <th>std_open_residual</th>\n",
       "      <th>...</th>\n",
       "      <th>side</th>\n",
       "      <th>id</th>\n",
       "      <th>ratio_sem_custos</th>\n",
       "      <th>ratio</th>\n",
       "      <th>return</th>\n",
       "      <th>retorno_acumulado</th>\n",
       "      <th>return_sem_custos</th>\n",
       "      <th>retorno_acumulado_sem_custos</th>\n",
       "      <th>e_lucro_bruto</th>\n",
       "      <th>e_lucro_liquido</th>\n",
       "    </tr>\n",
       "  </thead>\n",
       "  <tbody>\n",
       "    <tr>\n",
       "      <th>44</th>\n",
       "      <td>2019-06-27</td>\n",
       "      <td>(CCRO3, ECOR3)</td>\n",
       "      <td>close</td>\n",
       "      <td>13.277492</td>\n",
       "      <td>10.524740</td>\n",
       "      <td>1.192578</td>\n",
       "      <td>1.237477988311964</td>\n",
       "      <td>0.113545</td>\n",
       "      <td>0.655360</td>\n",
       "      <td>0.424324</td>\n",
       "      <td>...</td>\n",
       "      <td>upper</td>\n",
       "      <td>1</td>\n",
       "      <td>0.806084</td>\n",
       "      <td>0.792675</td>\n",
       "      <td>0.001948</td>\n",
       "      <td>0.038595</td>\n",
       "      <td>0.018896</td>\n",
       "      <td>0.071268</td>\n",
       "      <td>True</td>\n",
       "      <td>True</td>\n",
       "    </tr>\n",
       "    <tr>\n",
       "      <th>49</th>\n",
       "      <td>2019-02-01</td>\n",
       "      <td>(BRML3, MULT3)</td>\n",
       "      <td>close</td>\n",
       "      <td>13.439225</td>\n",
       "      <td>24.385624</td>\n",
       "      <td>0.599995</td>\n",
       "      <td>VAR CLOSE</td>\n",
       "      <td>0.019772</td>\n",
       "      <td>0.321958</td>\n",
       "      <td>0.322953</td>\n",
       "      <td>...</td>\n",
       "      <td>upper</td>\n",
       "      <td>2</td>\n",
       "      <td>1.841079</td>\n",
       "      <td>1.814511</td>\n",
       "      <td>0.005838</td>\n",
       "      <td>0.014003</td>\n",
       "      <td>0.020566</td>\n",
       "      <td>0.043565</td>\n",
       "      <td>True</td>\n",
       "      <td>True</td>\n",
       "    </tr>\n",
       "    <tr>\n",
       "      <th>62</th>\n",
       "      <td>2019-05-16</td>\n",
       "      <td>(BRML3, MULT3)</td>\n",
       "      <td>close</td>\n",
       "      <td>10.882184</td>\n",
       "      <td>21.034646</td>\n",
       "      <td>0.609782</td>\n",
       "      <td>0.6016952811957026</td>\n",
       "      <td>-0.124353</td>\n",
       "      <td>0.301041</td>\n",
       "      <td>0.299057</td>\n",
       "      <td>...</td>\n",
       "      <td>lower</td>\n",
       "      <td>3</td>\n",
       "      <td>0.525156</td>\n",
       "      <td>0.517346</td>\n",
       "      <td>-0.008576</td>\n",
       "      <td>0.002012</td>\n",
       "      <td>0.006391</td>\n",
       "      <td>0.031686</td>\n",
       "      <td>True</td>\n",
       "      <td>True</td>\n",
       "    </tr>\n",
       "    <tr>\n",
       "      <th>98</th>\n",
       "      <td>2019-07-29</td>\n",
       "      <td>(BRML3, MULT3)</td>\n",
       "      <td>close</td>\n",
       "      <td>13.970103</td>\n",
       "      <td>26.894831</td>\n",
       "      <td>0.591845</td>\n",
       "      <td>0.5583000438611563</td>\n",
       "      <td>-0.133123</td>\n",
       "      <td>0.347485</td>\n",
       "      <td>0.305714</td>\n",
       "      <td>...</td>\n",
       "      <td>lower</td>\n",
       "      <td>4</td>\n",
       "      <td>0.527955</td>\n",
       "      <td>0.519434</td>\n",
       "      <td>0.009110</td>\n",
       "      <td>0.003483</td>\n",
       "      <td>0.025663</td>\n",
       "      <td>0.034530</td>\n",
       "      <td>True</td>\n",
       "      <td>True</td>\n",
       "    </tr>\n",
       "    <tr>\n",
       "      <th>106</th>\n",
       "      <td>2019-08-05</td>\n",
       "      <td>(MULT3, BRML3)</td>\n",
       "      <td>close</td>\n",
       "      <td>26.260703</td>\n",
       "      <td>13.761594</td>\n",
       "      <td>1.612919</td>\n",
       "      <td>1.7071945376963982</td>\n",
       "      <td>0.162806</td>\n",
       "      <td>0.607337</td>\n",
       "      <td>0.491615</td>\n",
       "      <td>...</td>\n",
       "      <td>upper</td>\n",
       "      <td>5</td>\n",
       "      <td>0.532872</td>\n",
       "      <td>0.524038</td>\n",
       "      <td>-0.008388</td>\n",
       "      <td>0.004810</td>\n",
       "      <td>0.008329</td>\n",
       "      <td>0.036363</td>\n",
       "      <td>True</td>\n",
       "      <td>True</td>\n",
       "    </tr>\n",
       "    <tr>\n",
       "      <th>...</th>\n",
       "      <td>...</td>\n",
       "      <td>...</td>\n",
       "      <td>...</td>\n",
       "      <td>...</td>\n",
       "      <td>...</td>\n",
       "      <td>...</td>\n",
       "      <td>...</td>\n",
       "      <td>...</td>\n",
       "      <td>...</td>\n",
       "      <td>...</td>\n",
       "      <td>...</td>\n",
       "      <td>...</td>\n",
       "      <td>...</td>\n",
       "      <td>...</td>\n",
       "      <td>...</td>\n",
       "      <td>...</td>\n",
       "      <td>...</td>\n",
       "      <td>...</td>\n",
       "      <td>...</td>\n",
       "      <td>...</td>\n",
       "      <td>...</td>\n",
       "    </tr>\n",
       "    <tr>\n",
       "      <th>8320</th>\n",
       "      <td>2022-03-14</td>\n",
       "      <td>(SOMA3, ALPA4)</td>\n",
       "      <td>close</td>\n",
       "      <td>11.701984</td>\n",
       "      <td>22.002664</td>\n",
       "      <td>0.213015</td>\n",
       "      <td>0.1820249811011287</td>\n",
       "      <td>0.533469</td>\n",
       "      <td>1.322106</td>\n",
       "      <td>1.245217</td>\n",
       "      <td>...</td>\n",
       "      <td>upper</td>\n",
       "      <td>520</td>\n",
       "      <td>1.910345</td>\n",
       "      <td>1.880251</td>\n",
       "      <td>0.000985</td>\n",
       "      <td>-0.082692</td>\n",
       "      <td>0.017006</td>\n",
       "      <td>-0.054681</td>\n",
       "      <td>False</td>\n",
       "      <td>False</td>\n",
       "    </tr>\n",
       "    <tr>\n",
       "      <th>8342</th>\n",
       "      <td>2022-06-07</td>\n",
       "      <td>(SOMA3, ASAI3)</td>\n",
       "      <td>close</td>\n",
       "      <td>10.564456</td>\n",
       "      <td>15.831829</td>\n",
       "      <td>0.811444</td>\n",
       "      <td>VAR CLOSE</td>\n",
       "      <td>-4.103269</td>\n",
       "      <td>1.635415</td>\n",
       "      <td>1.529091</td>\n",
       "      <td>...</td>\n",
       "      <td>lower</td>\n",
       "      <td>521</td>\n",
       "      <td>0.677707</td>\n",
       "      <td>0.667292</td>\n",
       "      <td>-0.069999</td>\n",
       "      <td>-0.087372</td>\n",
       "      <td>-0.055484</td>\n",
       "      <td>-0.059873</td>\n",
       "      <td>False</td>\n",
       "      <td>False</td>\n",
       "    </tr>\n",
       "    <tr>\n",
       "      <th>8344</th>\n",
       "      <td>2022-04-05</td>\n",
       "      <td>(VIIA3, CVCB3)</td>\n",
       "      <td>close</td>\n",
       "      <td>4.001387</td>\n",
       "      <td>17.405609</td>\n",
       "      <td>0.773178</td>\n",
       "      <td>VAR CLOSE</td>\n",
       "      <td>-3.501767</td>\n",
       "      <td>1.520897</td>\n",
       "      <td>1.518323</td>\n",
       "      <td>...</td>\n",
       "      <td>lower</td>\n",
       "      <td>522</td>\n",
       "      <td>0.233218</td>\n",
       "      <td>0.229891</td>\n",
       "      <td>-0.092871</td>\n",
       "      <td>-0.092871</td>\n",
       "      <td>-0.066582</td>\n",
       "      <td>-0.066582</td>\n",
       "      <td>False</td>\n",
       "      <td>False</td>\n",
       "    </tr>\n",
       "    <tr>\n",
       "      <th>8349</th>\n",
       "      <td>2022-04-08</td>\n",
       "      <td>(VIIA3, LREN3)</td>\n",
       "      <td>close</td>\n",
       "      <td>3.574440</td>\n",
       "      <td>26.767631</td>\n",
       "      <td>0.645305</td>\n",
       "      <td>VAR CLOSE</td>\n",
       "      <td>-1.436871</td>\n",
       "      <td>1.164183</td>\n",
       "      <td>1.150397</td>\n",
       "      <td>...</td>\n",
       "      <td>lower</td>\n",
       "      <td>523</td>\n",
       "      <td>0.135491</td>\n",
       "      <td>0.133536</td>\n",
       "      <td>-0.089497</td>\n",
       "      <td>-0.097280</td>\n",
       "      <td>-0.076165</td>\n",
       "      <td>-0.070963</td>\n",
       "      <td>False</td>\n",
       "      <td>False</td>\n",
       "    </tr>\n",
       "    <tr>\n",
       "      <th>8351</th>\n",
       "      <td>2022-06-10</td>\n",
       "      <td>(VIIA3, LREN3)</td>\n",
       "      <td>close</td>\n",
       "      <td>2.809907</td>\n",
       "      <td>24.110692</td>\n",
       "      <td>0.691625</td>\n",
       "      <td>0.7115990310168517</td>\n",
       "      <td>-0.003470</td>\n",
       "      <td>1.124270</td>\n",
       "      <td>1.130945</td>\n",
       "      <td>...</td>\n",
       "      <td>lower</td>\n",
       "      <td>524</td>\n",
       "      <td>0.118262</td>\n",
       "      <td>0.116542</td>\n",
       "      <td>0.003473</td>\n",
       "      <td>0.003473</td>\n",
       "      <td>0.032843</td>\n",
       "      <td>0.032843</td>\n",
       "      <td>True</td>\n",
       "      <td>True</td>\n",
       "    </tr>\n",
       "  </tbody>\n",
       "</table>\n",
       "<p>497 rows × 35 columns</p>\n",
       "</div>"
      ],
      "text/plain": [
       "           date            pair status  price_fst_stock  price_scnd_stock  \\\n",
       "44   2019-06-27  (CCRO3, ECOR3)  close        13.277492         10.524740   \n",
       "49   2019-02-01  (BRML3, MULT3)  close        13.439225         24.385624   \n",
       "62   2019-05-16  (BRML3, MULT3)  close        10.882184         21.034646   \n",
       "98   2019-07-29  (BRML3, MULT3)  close        13.970103         26.894831   \n",
       "106  2019-08-05  (MULT3, BRML3)  close        26.260703         13.761594   \n",
       "...         ...             ...    ...              ...               ...   \n",
       "8320 2022-03-14  (SOMA3, ALPA4)  close        11.701984         22.002664   \n",
       "8342 2022-06-07  (SOMA3, ASAI3)  close        10.564456         15.831829   \n",
       "8344 2022-04-05  (VIIA3, CVCB3)  close         4.001387         17.405609   \n",
       "8349 2022-04-08  (VIIA3, LREN3)  close         3.574440         26.767631   \n",
       "8351 2022-06-10  (VIIA3, LREN3)  close         2.809907         24.110692   \n",
       "\n",
       "      beta_open          beta_close  last_residual  std_residual  \\\n",
       "44     1.192578   1.237477988311964       0.113545      0.655360   \n",
       "49     0.599995           VAR CLOSE       0.019772      0.321958   \n",
       "62     0.609782  0.6016952811957026      -0.124353      0.301041   \n",
       "98     0.591845  0.5583000438611563      -0.133123      0.347485   \n",
       "106    1.612919  1.7071945376963982       0.162806      0.607337   \n",
       "...         ...                 ...            ...           ...   \n",
       "8320   0.213015  0.1820249811011287       0.533469      1.322106   \n",
       "8342   0.811444           VAR CLOSE      -4.103269      1.635415   \n",
       "8344   0.773178           VAR CLOSE      -3.501767      1.520897   \n",
       "8349   0.645305           VAR CLOSE      -1.436871      1.164183   \n",
       "8351   0.691625  0.7115990310168517      -0.003470      1.124270   \n",
       "\n",
       "      std_open_residual  ...   side   id  ratio_sem_custos     ratio  \\\n",
       "44             0.424324  ...  upper    1          0.806084  0.792675   \n",
       "49             0.322953  ...  upper    2          1.841079  1.814511   \n",
       "62             0.299057  ...  lower    3          0.525156  0.517346   \n",
       "98             0.305714  ...  lower    4          0.527955  0.519434   \n",
       "106            0.491615  ...  upper    5          0.532872  0.524038   \n",
       "...                 ...  ...    ...  ...               ...       ...   \n",
       "8320           1.245217  ...  upper  520          1.910345  1.880251   \n",
       "8342           1.529091  ...  lower  521          0.677707  0.667292   \n",
       "8344           1.518323  ...  lower  522          0.233218  0.229891   \n",
       "8349           1.150397  ...  lower  523          0.135491  0.133536   \n",
       "8351           1.130945  ...  lower  524          0.118262  0.116542   \n",
       "\n",
       "        return  retorno_acumulado  return_sem_custos  \\\n",
       "44    0.001948           0.038595           0.018896   \n",
       "49    0.005838           0.014003           0.020566   \n",
       "62   -0.008576           0.002012           0.006391   \n",
       "98    0.009110           0.003483           0.025663   \n",
       "106  -0.008388           0.004810           0.008329   \n",
       "...        ...                ...                ...   \n",
       "8320  0.000985          -0.082692           0.017006   \n",
       "8342 -0.069999          -0.087372          -0.055484   \n",
       "8344 -0.092871          -0.092871          -0.066582   \n",
       "8349 -0.089497          -0.097280          -0.076165   \n",
       "8351  0.003473           0.003473           0.032843   \n",
       "\n",
       "      retorno_acumulado_sem_custos  e_lucro_bruto  e_lucro_liquido  \n",
       "44                        0.071268           True             True  \n",
       "49                        0.043565           True             True  \n",
       "62                        0.031686           True             True  \n",
       "98                        0.034530           True             True  \n",
       "106                       0.036363           True             True  \n",
       "...                            ...            ...              ...  \n",
       "8320                     -0.054681          False            False  \n",
       "8342                     -0.059873          False            False  \n",
       "8344                     -0.066582          False            False  \n",
       "8349                     -0.070963          False            False  \n",
       "8351                      0.032843           True             True  \n",
       "\n",
       "[497 rows x 35 columns]"
      ]
     },
     "execution_count": 135,
     "metadata": {},
     "output_type": "execute_result"
    }
   ],
   "source": [
    "fechadas"
   ]
  },
  {
   "cell_type": "code",
   "execution_count": 136,
   "id": "b7ec2888",
   "metadata": {
    "ExecuteTime": {
     "end_time": "2022-08-12T19:59:20.435298Z",
     "start_time": "2022-08-12T19:59:20.395269Z"
    }
   },
   "outputs": [
    {
     "data": {
      "text/html": [
       "<div>\n",
       "<style scoped>\n",
       "    .dataframe tbody tr th:only-of-type {\n",
       "        vertical-align: middle;\n",
       "    }\n",
       "\n",
       "    .dataframe tbody tr th {\n",
       "        vertical-align: top;\n",
       "    }\n",
       "\n",
       "    .dataframe thead th {\n",
       "        text-align: right;\n",
       "    }\n",
       "</style>\n",
       "<table border=\"1\" class=\"dataframe\">\n",
       "  <thead>\n",
       "    <tr style=\"text-align: right;\">\n",
       "      <th></th>\n",
       "      <th>setor</th>\n",
       "      <th>open_date</th>\n",
       "      <th>e_lucro_bruto</th>\n",
       "    </tr>\n",
       "  </thead>\n",
       "  <tbody>\n",
       "    <tr>\n",
       "      <th>0</th>\n",
       "      <td>Alimentos e Bebidas</td>\n",
       "      <td>2020-01-23</td>\n",
       "      <td>1.0</td>\n",
       "    </tr>\n",
       "    <tr>\n",
       "      <th>1</th>\n",
       "      <td>Alimentos e Bebidas</td>\n",
       "      <td>2020-02-28</td>\n",
       "      <td>0.0</td>\n",
       "    </tr>\n",
       "    <tr>\n",
       "      <th>2</th>\n",
       "      <td>Alimentos e Bebidas</td>\n",
       "      <td>2020-04-16</td>\n",
       "      <td>0.0</td>\n",
       "    </tr>\n",
       "    <tr>\n",
       "      <th>3</th>\n",
       "      <td>Alimentos e Bebidas</td>\n",
       "      <td>2020-05-13</td>\n",
       "      <td>1.0</td>\n",
       "    </tr>\n",
       "    <tr>\n",
       "      <th>4</th>\n",
       "      <td>Alimentos e Bebidas</td>\n",
       "      <td>2020-08-24</td>\n",
       "      <td>1.0</td>\n",
       "    </tr>\n",
       "    <tr>\n",
       "      <th>...</th>\n",
       "      <td>...</td>\n",
       "      <td>...</td>\n",
       "      <td>...</td>\n",
       "    </tr>\n",
       "    <tr>\n",
       "      <th>422</th>\n",
       "      <td>Varejo</td>\n",
       "      <td>2022-05-09</td>\n",
       "      <td>0.5</td>\n",
       "    </tr>\n",
       "    <tr>\n",
       "      <th>423</th>\n",
       "      <td>Varejo</td>\n",
       "      <td>2022-05-18</td>\n",
       "      <td>0.0</td>\n",
       "    </tr>\n",
       "    <tr>\n",
       "      <th>424</th>\n",
       "      <td>Varejo</td>\n",
       "      <td>2022-06-02</td>\n",
       "      <td>1.0</td>\n",
       "    </tr>\n",
       "    <tr>\n",
       "      <th>425</th>\n",
       "      <td>Varejo</td>\n",
       "      <td>2022-06-03</td>\n",
       "      <td>1.0</td>\n",
       "    </tr>\n",
       "    <tr>\n",
       "      <th>426</th>\n",
       "      <td>Varejo</td>\n",
       "      <td>2022-06-13</td>\n",
       "      <td>1.0</td>\n",
       "    </tr>\n",
       "  </tbody>\n",
       "</table>\n",
       "<p>427 rows × 3 columns</p>\n",
       "</div>"
      ],
      "text/plain": [
       "                   setor  open_date  e_lucro_bruto\n",
       "0    Alimentos e Bebidas 2020-01-23            1.0\n",
       "1    Alimentos e Bebidas 2020-02-28            0.0\n",
       "2    Alimentos e Bebidas 2020-04-16            0.0\n",
       "3    Alimentos e Bebidas 2020-05-13            1.0\n",
       "4    Alimentos e Bebidas 2020-08-24            1.0\n",
       "..                   ...        ...            ...\n",
       "422               Varejo 2022-05-09            0.5\n",
       "423               Varejo 2022-05-18            0.0\n",
       "424               Varejo 2022-06-02            1.0\n",
       "425               Varejo 2022-06-03            1.0\n",
       "426               Varejo 2022-06-13            1.0\n",
       "\n",
       "[427 rows x 3 columns]"
      ]
     },
     "metadata": {},
     "output_type": "display_data"
    }
   ],
   "source": [
    "display(fechadas.groupby(['setor', 'open_date']).e_lucro_bruto.mean().reset_index())"
   ]
  },
  {
   "cell_type": "code",
   "execution_count": 137,
   "id": "ee01b0d9",
   "metadata": {
    "ExecuteTime": {
     "end_time": "2022-08-12T19:59:22.380135Z",
     "start_time": "2022-08-12T19:59:22.100106Z"
    }
   },
   "outputs": [
    {
     "data": {
      "text/plain": [
       "Text(0, 0.5, 'acerto')"
      ]
     },
     "execution_count": 137,
     "metadata": {},
     "output_type": "execute_result"
    },
    {
     "data": {
      "image/png": "[encoded data removed]",
      "text/plain": [
       "<Figure size 1440x576 with 1 Axes>"
      ]
     },
     "metadata": {},
     "output_type": "display_data"
    }
   ],
   "source": [
    "fechadas_agrupadas_semestre = fechadas.groupby(['setor', pd.Grouper(key='open_date', freq='1Y')]).e_lucro_bruto.mean().reset_index()\n",
    "\n",
    "plt.figure(figsize=(20,8))\n",
    "\n",
    "fechadas_agrupadas_semestre['open_date'] = pd.to_datetime(fechadas_agrupadas_semestre['open_date'])\n",
    "fechadas_2020 = fechadas_agrupadas_semestre.set_index('open_date').loc['2020'].reset_index()\n",
    "fechadas_2020['open_date'] = fechadas_2020.open_date.dt.date\n",
    "\n",
    "sns.barplot(x='setor', y='e_lucro_bruto', data=fechadas_2020)\n",
    "plt.axhline(y=0.5, color='blue', linestyle='--')\n",
    "\n",
    "plt.ylabel('acerto')\n",
    "# plt.legend(bbox_to_anchor=(1.05, 1), loc=2, borderaxespad=0.)\n",
    "\n"
   ]
  },
  {
   "cell_type": "code",
   "execution_count": 138,
   "id": "60fb57e0",
   "metadata": {
    "ExecuteTime": {
     "end_time": "2022-08-12T19:59:23.028128Z",
     "start_time": "2022-08-12T19:59:22.988183Z"
    }
   },
   "outputs": [
    {
     "data": {
      "text/html": [
       "<div>\n",
       "<style scoped>\n",
       "    .dataframe tbody tr th:only-of-type {\n",
       "        vertical-align: middle;\n",
       "    }\n",
       "\n",
       "    .dataframe tbody tr th {\n",
       "        vertical-align: top;\n",
       "    }\n",
       "\n",
       "    .dataframe thead th {\n",
       "        text-align: right;\n",
       "    }\n",
       "</style>\n",
       "<table border=\"1\" class=\"dataframe\">\n",
       "  <thead>\n",
       "    <tr style=\"text-align: right;\">\n",
       "      <th></th>\n",
       "      <th>total_trades</th>\n",
       "      <th>gain_halflife</th>\n",
       "      <th>loss_halflife</th>\n",
       "    </tr>\n",
       "    <tr>\n",
       "      <th>open_date</th>\n",
       "      <th></th>\n",
       "      <th></th>\n",
       "      <th></th>\n",
       "    </tr>\n",
       "  </thead>\n",
       "  <tbody>\n",
       "    <tr>\n",
       "      <th>2019-01-31</th>\n",
       "      <td>13</td>\n",
       "      <td>0.461538</td>\n",
       "      <td>0.538462</td>\n",
       "    </tr>\n",
       "    <tr>\n",
       "      <th>2019-07-31</th>\n",
       "      <td>50</td>\n",
       "      <td>0.460000</td>\n",
       "      <td>0.540000</td>\n",
       "    </tr>\n",
       "    <tr>\n",
       "      <th>2020-01-31</th>\n",
       "      <td>29</td>\n",
       "      <td>0.413793</td>\n",
       "      <td>0.586207</td>\n",
       "    </tr>\n",
       "    <tr>\n",
       "      <th>2020-07-31</th>\n",
       "      <td>68</td>\n",
       "      <td>0.441176</td>\n",
       "      <td>0.558824</td>\n",
       "    </tr>\n",
       "    <tr>\n",
       "      <th>2021-01-31</th>\n",
       "      <td>32</td>\n",
       "      <td>0.343750</td>\n",
       "      <td>0.656250</td>\n",
       "    </tr>\n",
       "    <tr>\n",
       "      <th>2021-07-31</th>\n",
       "      <td>26</td>\n",
       "      <td>0.423077</td>\n",
       "      <td>0.576923</td>\n",
       "    </tr>\n",
       "    <tr>\n",
       "      <th>2022-01-31</th>\n",
       "      <td>34</td>\n",
       "      <td>0.441176</td>\n",
       "      <td>0.558824</td>\n",
       "    </tr>\n",
       "    <tr>\n",
       "      <th>2022-07-31</th>\n",
       "      <td>68</td>\n",
       "      <td>0.455882</td>\n",
       "      <td>0.544118</td>\n",
       "    </tr>\n",
       "  </tbody>\n",
       "</table>\n",
       "</div>"
      ],
      "text/plain": [
       "            total_trades  gain_halflife  loss_halflife\n",
       "open_date                                             \n",
       "2019-01-31            13       0.461538       0.538462\n",
       "2019-07-31            50       0.460000       0.540000\n",
       "2020-01-31            29       0.413793       0.586207\n",
       "2020-07-31            68       0.441176       0.558824\n",
       "2021-01-31            32       0.343750       0.656250\n",
       "2021-07-31            26       0.423077       0.576923\n",
       "2022-01-31            34       0.441176       0.558824\n",
       "2022-07-31            68       0.455882       0.544118"
      ]
     },
     "execution_count": 138,
     "metadata": {},
     "output_type": "execute_result"
    }
   ],
   "source": [
    "fechadas_var_semestre = fechadas_stop_var.set_index('open_date').resample('6M').agg(\n",
    "    total_trades = ('status', 'count'),\n",
    "    gain_halflife = ('e_lucro_bruto', 'mean'),\n",
    ")\n",
    "fechadas_var_semestre['loss_halflife'] = 1-fechadas_var_semestre['gain_halflife']\n",
    "\n",
    "fechadas_var_semestre"
   ]
  },
  {
   "cell_type": "code",
   "execution_count": 139,
   "id": "58b652ab",
   "metadata": {
    "ExecuteTime": {
     "end_time": "2022-08-12T19:59:24.060123Z",
     "start_time": "2022-08-12T19:59:24.004161Z"
    }
   },
   "outputs": [
    {
     "data": {
      "text/html": [
       "<div>\n",
       "<style scoped>\n",
       "    .dataframe tbody tr th:only-of-type {\n",
       "        vertical-align: middle;\n",
       "    }\n",
       "\n",
       "    .dataframe tbody tr th {\n",
       "        vertical-align: top;\n",
       "    }\n",
       "\n",
       "    .dataframe thead th {\n",
       "        text-align: right;\n",
       "    }\n",
       "</style>\n",
       "<table border=\"1\" class=\"dataframe\">\n",
       "  <thead>\n",
       "    <tr style=\"text-align: right;\">\n",
       "      <th></th>\n",
       "      <th>total_trades</th>\n",
       "      <th>gain_halflife</th>\n",
       "      <th>loss_halflife</th>\n",
       "    </tr>\n",
       "    <tr>\n",
       "      <th>open_date</th>\n",
       "      <th></th>\n",
       "      <th></th>\n",
       "      <th></th>\n",
       "    </tr>\n",
       "  </thead>\n",
       "  <tbody>\n",
       "    <tr>\n",
       "      <th>2019-01-31</th>\n",
       "      <td>1</td>\n",
       "      <td>1.000000</td>\n",
       "      <td>0.000000</td>\n",
       "    </tr>\n",
       "    <tr>\n",
       "      <th>2019-07-31</th>\n",
       "      <td>24</td>\n",
       "      <td>1.000000</td>\n",
       "      <td>0.000000</td>\n",
       "    </tr>\n",
       "    <tr>\n",
       "      <th>2020-01-31</th>\n",
       "      <td>19</td>\n",
       "      <td>0.947368</td>\n",
       "      <td>0.052632</td>\n",
       "    </tr>\n",
       "    <tr>\n",
       "      <th>2020-07-31</th>\n",
       "      <td>22</td>\n",
       "      <td>0.863636</td>\n",
       "      <td>0.136364</td>\n",
       "    </tr>\n",
       "    <tr>\n",
       "      <th>2021-01-31</th>\n",
       "      <td>21</td>\n",
       "      <td>0.761905</td>\n",
       "      <td>0.238095</td>\n",
       "    </tr>\n",
       "    <tr>\n",
       "      <th>2021-07-31</th>\n",
       "      <td>15</td>\n",
       "      <td>0.933333</td>\n",
       "      <td>0.066667</td>\n",
       "    </tr>\n",
       "    <tr>\n",
       "      <th>2022-01-31</th>\n",
       "      <td>10</td>\n",
       "      <td>0.900000</td>\n",
       "      <td>0.100000</td>\n",
       "    </tr>\n",
       "    <tr>\n",
       "      <th>2022-07-31</th>\n",
       "      <td>17</td>\n",
       "      <td>0.823529</td>\n",
       "      <td>0.176471</td>\n",
       "    </tr>\n",
       "  </tbody>\n",
       "</table>\n",
       "</div>"
      ],
      "text/plain": [
       "            total_trades  gain_halflife  loss_halflife\n",
       "open_date                                             \n",
       "2019-01-31             1       1.000000       0.000000\n",
       "2019-07-31            24       1.000000       0.000000\n",
       "2020-01-31            19       0.947368       0.052632\n",
       "2020-07-31            22       0.863636       0.136364\n",
       "2021-01-31            21       0.761905       0.238095\n",
       "2021-07-31            15       0.933333       0.066667\n",
       "2022-01-31            10       0.900000       0.100000\n",
       "2022-07-31            17       0.823529       0.176471"
      ]
     },
     "execution_count": 139,
     "metadata": {},
     "output_type": "execute_result"
    }
   ],
   "source": [
    "halflife_semestre = fechadas_halflife.set_index('open_date').resample('6M').agg(\n",
    "    total_trades = ('status', 'count'),\n",
    "    gain_halflife = ('e_lucro_bruto', 'mean'),\n",
    ")\n",
    "\n",
    "halflife_semestre['loss_halflife'] = 1-halflife_semestre['gain_halflife']\n",
    "\n",
    "halflife_semestre"
   ]
  },
  {
   "cell_type": "markdown",
   "id": "15e6c395",
   "metadata": {
    "ExecuteTime": {
     "end_time": "2022-08-12T09:31:19.892023Z",
     "start_time": "2022-08-12T09:31:19.883016Z"
    }
   },
   "source": [
    "# Resumo Pares"
   ]
  },
  {
   "cell_type": "code",
   "execution_count": 140,
   "id": "cd3467cc",
   "metadata": {
    "ExecuteTime": {
     "end_time": "2022-08-12T19:59:25.362595Z",
     "start_time": "2022-08-12T19:59:25.322644Z"
    }
   },
   "outputs": [
    {
     "data": {
      "text/html": [
       "<div>\n",
       "<style scoped>\n",
       "    .dataframe tbody tr th:only-of-type {\n",
       "        vertical-align: middle;\n",
       "    }\n",
       "\n",
       "    .dataframe tbody tr th {\n",
       "        vertical-align: top;\n",
       "    }\n",
       "\n",
       "    .dataframe thead th {\n",
       "        text-align: right;\n",
       "    }\n",
       "</style>\n",
       "<table border=\"1\" class=\"dataframe\">\n",
       "  <thead>\n",
       "    <tr style=\"text-align: right;\">\n",
       "      <th></th>\n",
       "      <th>trades</th>\n",
       "      <th>taxa_acerto</th>\n",
       "      <th>prazo_medio_operacao</th>\n",
       "      <th>retorno_bruto_acum</th>\n",
       "      <th>retorno_liquidi_acum</th>\n",
       "    </tr>\n",
       "    <tr>\n",
       "      <th>sorted_pair</th>\n",
       "      <th></th>\n",
       "      <th></th>\n",
       "      <th></th>\n",
       "      <th></th>\n",
       "      <th></th>\n",
       "    </tr>\n",
       "  </thead>\n",
       "  <tbody>\n",
       "    <tr>\n",
       "      <th>(PETR3, PETR4)</th>\n",
       "      <td>17</td>\n",
       "      <td>0.882353</td>\n",
       "      <td>13.882353</td>\n",
       "      <td>0.186008</td>\n",
       "      <td>-0.310134</td>\n",
       "    </tr>\n",
       "    <tr>\n",
       "      <th>(ELET3, ELET6)</th>\n",
       "      <td>13</td>\n",
       "      <td>0.538462</td>\n",
       "      <td>16.307692</td>\n",
       "      <td>0.195510</td>\n",
       "      <td>-0.187058</td>\n",
       "    </tr>\n",
       "    <tr>\n",
       "      <th>(EQTL3, TAEE11)</th>\n",
       "      <td>12</td>\n",
       "      <td>0.750000</td>\n",
       "      <td>13.333333</td>\n",
       "      <td>0.631220</td>\n",
       "      <td>0.266918</td>\n",
       "    </tr>\n",
       "    <tr>\n",
       "      <th>(BRML3, MULT3)</th>\n",
       "      <td>11</td>\n",
       "      <td>0.636364</td>\n",
       "      <td>12.818182</td>\n",
       "      <td>0.277312</td>\n",
       "      <td>-0.047606</td>\n",
       "    </tr>\n",
       "    <tr>\n",
       "      <th>(BRAP4, GGBR4)</th>\n",
       "      <td>10</td>\n",
       "      <td>0.700000</td>\n",
       "      <td>3.800000</td>\n",
       "      <td>0.250880</td>\n",
       "      <td>-0.039379</td>\n",
       "    </tr>\n",
       "    <tr>\n",
       "      <th>(CPFE3, EGIE3)</th>\n",
       "      <td>10</td>\n",
       "      <td>0.700000</td>\n",
       "      <td>7.400000</td>\n",
       "      <td>0.177710</td>\n",
       "      <td>-0.112483</td>\n",
       "    </tr>\n",
       "    <tr>\n",
       "      <th>(CCRO3, RAIL3)</th>\n",
       "      <td>9</td>\n",
       "      <td>0.777778</td>\n",
       "      <td>7.111111</td>\n",
       "      <td>0.715234</td>\n",
       "      <td>0.438282</td>\n",
       "    </tr>\n",
       "    <tr>\n",
       "      <th>(SBSP3, TAEE11)</th>\n",
       "      <td>9</td>\n",
       "      <td>0.666667</td>\n",
       "      <td>10.555556</td>\n",
       "      <td>-0.039941</td>\n",
       "      <td>-0.297086</td>\n",
       "    </tr>\n",
       "    <tr>\n",
       "      <th>(FLRY3, QUAL3)</th>\n",
       "      <td>8</td>\n",
       "      <td>0.750000</td>\n",
       "      <td>11.125000</td>\n",
       "      <td>0.537904</td>\n",
       "      <td>0.292725</td>\n",
       "    </tr>\n",
       "    <tr>\n",
       "      <th>(BBAS3, BBDC4)</th>\n",
       "      <td>8</td>\n",
       "      <td>0.625000</td>\n",
       "      <td>14.875000</td>\n",
       "      <td>0.025087</td>\n",
       "      <td>-0.206601</td>\n",
       "    </tr>\n",
       "    <tr>\n",
       "      <th>(BBDC3, BBDC4)</th>\n",
       "      <td>7</td>\n",
       "      <td>1.000000</td>\n",
       "      <td>28.571429</td>\n",
       "      <td>0.095401</td>\n",
       "      <td>-0.115031</td>\n",
       "    </tr>\n",
       "    <tr>\n",
       "      <th>(BBAS3, BBSE3)</th>\n",
       "      <td>7</td>\n",
       "      <td>0.571429</td>\n",
       "      <td>36.714286</td>\n",
       "      <td>0.015582</td>\n",
       "      <td>-0.194543</td>\n",
       "    </tr>\n",
       "    <tr>\n",
       "      <th>(BBSE3, SANB11)</th>\n",
       "      <td>7</td>\n",
       "      <td>0.571429</td>\n",
       "      <td>38.714286</td>\n",
       "      <td>-0.278570</td>\n",
       "      <td>-0.479099</td>\n",
       "    </tr>\n",
       "    <tr>\n",
       "      <th>(HYPE3, RADL3)</th>\n",
       "      <td>7</td>\n",
       "      <td>0.571429</td>\n",
       "      <td>8.857143</td>\n",
       "      <td>-0.153913</td>\n",
       "      <td>-0.349577</td>\n",
       "    </tr>\n",
       "    <tr>\n",
       "      <th>(BBSE3, ITSA4)</th>\n",
       "      <td>7</td>\n",
       "      <td>0.428571</td>\n",
       "      <td>15.285714</td>\n",
       "      <td>0.056731</td>\n",
       "      <td>-0.147444</td>\n",
       "    </tr>\n",
       "  </tbody>\n",
       "</table>\n",
       "</div>"
      ],
      "text/plain": [
       "                 trades  taxa_acerto  prazo_medio_operacao  \\\n",
       "sorted_pair                                                  \n",
       "(PETR3, PETR4)       17     0.882353             13.882353   \n",
       "(ELET3, ELET6)       13     0.538462             16.307692   \n",
       "(EQTL3, TAEE11)      12     0.750000             13.333333   \n",
       "(BRML3, MULT3)       11     0.636364             12.818182   \n",
       "(BRAP4, GGBR4)       10     0.700000              3.800000   \n",
       "(CPFE3, EGIE3)       10     0.700000              7.400000   \n",
       "(CCRO3, RAIL3)        9     0.777778              7.111111   \n",
       "(SBSP3, TAEE11)       9     0.666667             10.555556   \n",
       "(FLRY3, QUAL3)        8     0.750000             11.125000   \n",
       "(BBAS3, BBDC4)        8     0.625000             14.875000   \n",
       "(BBDC3, BBDC4)        7     1.000000             28.571429   \n",
       "(BBAS3, BBSE3)        7     0.571429             36.714286   \n",
       "(BBSE3, SANB11)       7     0.571429             38.714286   \n",
       "(HYPE3, RADL3)        7     0.571429              8.857143   \n",
       "(BBSE3, ITSA4)        7     0.428571             15.285714   \n",
       "\n",
       "                 retorno_bruto_acum  retorno_liquidi_acum  \n",
       "sorted_pair                                                \n",
       "(PETR3, PETR4)             0.186008             -0.310134  \n",
       "(ELET3, ELET6)             0.195510             -0.187058  \n",
       "(EQTL3, TAEE11)            0.631220              0.266918  \n",
       "(BRML3, MULT3)             0.277312             -0.047606  \n",
       "(BRAP4, GGBR4)             0.250880             -0.039379  \n",
       "(CPFE3, EGIE3)             0.177710             -0.112483  \n",
       "(CCRO3, RAIL3)             0.715234              0.438282  \n",
       "(SBSP3, TAEE11)           -0.039941             -0.297086  \n",
       "(FLRY3, QUAL3)             0.537904              0.292725  \n",
       "(BBAS3, BBDC4)             0.025087             -0.206601  \n",
       "(BBDC3, BBDC4)             0.095401             -0.115031  \n",
       "(BBAS3, BBSE3)             0.015582             -0.194543  \n",
       "(BBSE3, SANB11)           -0.278570             -0.479099  \n",
       "(HYPE3, RADL3)            -0.153913             -0.349577  \n",
       "(BBSE3, ITSA4)             0.056731             -0.147444  "
      ]
     },
     "execution_count": 140,
     "metadata": {},
     "output_type": "execute_result"
    }
   ],
   "source": [
    "fechadas_grouped = fechadas.groupby('sorted_pair').agg(\n",
    "    trades = ('sorted_pair','count'),\n",
    "    taxa_acerto = ('e_lucro_bruto', 'mean'),\n",
    "    prazo_medio_operacao = ('days_open', 'mean'),\n",
    "    retorno_bruto_acum = ('retorno_acumulado_sem_custos', 'sum'),\n",
    "    retorno_liquidi_acum = ('retorno_acumulado', 'sum')\n",
    ")\n",
    "\n",
    "fechadas_grouped.sort_values(by=['trades', 'taxa_acerto'], ascending=False).head(15)"
   ]
  },
  {
   "cell_type": "code",
   "execution_count": 93,
   "id": "e32a1bef",
   "metadata": {
    "ExecuteTime": {
     "end_time": "2022-08-12T19:58:30.118736Z",
     "start_time": "2022-08-12T19:58:30.094726Z"
    }
   },
   "outputs": [
    {
     "data": {
      "text/plain": [
       "Index(['date', 'pair', 'status', 'price_fst_stock', 'price_scnd_stock',\n",
       "       'beta_open', 'beta_close', 'last_residual', 'std_residual',\n",
       "       'std_open_residual', 'residual_open', 'open_price_first_stock',\n",
       "       'open_price_scnd_stock', 'open_date', 'close_limit', 'stop_limit',\n",
       "       'halflife', 'days_open', 'correlation', 'correlation_limit',\n",
       "       'var_limit', 'data_ini', 'data_fin', 'setor', 'sorted_pair', 'side',\n",
       "       'id', 'ratio_sem_custos', 'ratio', 'return', 'retorno_acumulado',\n",
       "       'return_sem_custos', 'retorno_acumulado_sem_custos'],\n",
       "      dtype='object')"
      ]
     },
     "execution_count": 93,
     "metadata": {},
     "output_type": "execute_result"
    }
   ],
   "source": [
    "df_returns.columns"
   ]
  },
  {
   "cell_type": "code",
   "execution_count": 142,
   "id": "f140eccd",
   "metadata": {
    "ExecuteTime": {
     "end_time": "2022-08-12T19:59:48.137812Z",
     "start_time": "2022-08-12T19:59:46.225798Z"
    }
   },
   "outputs": [],
   "source": [
    "df_returns.pivot(index='pair', columns='date', values='return').T.to_excel('retorno_VAR05.xlsx')"
   ]
  },
  {
   "cell_type": "code",
   "execution_count": 96,
   "id": "c4ea54c9",
   "metadata": {
    "ExecuteTime": {
     "end_time": "2022-08-12T17:22:14.410929Z",
     "start_time": "2022-08-12T17:22:14.047820Z"
    }
   },
   "outputs": [],
   "source": [
    "# ibov.pct_change().to_excel('retorno_ibov.xlsx')"
   ]
  },
  {
   "cell_type": "code",
   "execution_count": null,
   "id": "e4971fe7",
   "metadata": {},
   "outputs": [],
   "source": []
  }
 ],
 "metadata": {
  "kernelspec": {
   "display_name": "Python 3",
   "language": "python",
   "name": "python3"
  },
  "language_info": {
   "codemirror_mode": {
    "name": "ipython",
    "version": 3
   },
   "file_extension": ".py",
   "mimetype": "text/x-python",
   "name": "python",
   "nbconvert_exporter": "python",
   "pygments_lexer": "ipython3",
   "version": "3.8.4"
  }
 },
 "nbformat": 4,
 "nbformat_minor": 5
}
