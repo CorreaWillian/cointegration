{
 "cells": [
  {
   "cell_type": "code",
   "execution_count": 1,
   "id": "9088f230",
   "metadata": {
    "ExecuteTime": {
     "end_time": "2022-08-12T12:17:40.440645Z",
     "start_time": "2022-08-12T12:17:37.971822Z"
    }
   },
   "outputs": [],
   "source": [
    "import pandas as pd\n",
    "import numpy as np\n",
    "import seaborn as sns\n",
    "# from backtest import executer\n",
    "import matplotlib.pyplot as plt\n",
    "import plotly.express as px\n",
    "import math\n",
    "import ast\n",
    "from scipy.stats import spearmanr, kstest\n"
   ]
  },
  {
   "cell_type": "code",
   "execution_count": 2,
   "id": "07c2366d",
   "metadata": {
    "ExecuteTime": {
     "end_time": "2022-08-12T12:17:40.453959Z",
     "start_time": "2022-08-12T12:17:40.440645Z"
    }
   },
   "outputs": [],
   "source": [
    "sns.set(rc={'figure.figsize':(15,8)})"
   ]
  },
  {
   "cell_type": "code",
   "execution_count": 3,
   "id": "15a3dbec",
   "metadata": {
    "ExecuteTime": {
     "end_time": "2022-08-12T12:17:41.115795Z",
     "start_time": "2022-08-12T12:17:40.453959Z"
    }
   },
   "outputs": [],
   "source": [
    "portfolio = pd.read_excel('PORTFOLIO.xlsx')\n",
    "\n",
    "df = pd.read_csv('sem_var.csv')\n",
    "\n",
    "df['date'] = pd.to_datetime(df.date)\n",
    "df['open_date'] = pd.to_datetime(df.open_date)\n",
    "df['days_open'] = df['days_open'].astype(float)\n",
    "df['stock1'] = [pair.split(\"'\")[1] for pair in df.pair]"
   ]
  },
  {
   "cell_type": "code",
   "execution_count": 4,
   "id": "7abdf2bb",
   "metadata": {
    "ExecuteTime": {
     "end_time": "2022-08-12T12:17:41.179832Z",
     "start_time": "2022-08-12T12:17:41.115795Z"
    }
   },
   "outputs": [],
   "source": [
    "df = df.merge(portfolio.drop_duplicates('ticker'), left_on='stock1', right_on='ticker',how='left')\n",
    "\n",
    "df.drop(columns=['stock1', 'ticker'], inplace=True)\n",
    "df['pair'] = df.pair.apply(ast.literal_eval)\n",
    "df['sorted_pair'] = df.pair.apply(sorted).apply(tuple)"
   ]
  },
  {
   "cell_type": "code",
   "execution_count": 5,
   "id": "2cfcc2ef",
   "metadata": {
    "ExecuteTime": {
     "end_time": "2022-08-12T12:17:41.211812Z",
     "start_time": "2022-08-12T12:17:41.179832Z"
    }
   },
   "outputs": [],
   "source": [
    "df.drop_duplicates(subset=['date', 'sorted_pair'], keep='first',inplace=True)"
   ]
  },
  {
   "cell_type": "code",
   "execution_count": 6,
   "id": "c5db8664",
   "metadata": {
    "ExecuteTime": {
     "end_time": "2022-08-12T12:17:41.227796Z",
     "start_time": "2022-08-12T12:17:41.211812Z"
    }
   },
   "outputs": [],
   "source": [
    "df.loc[df['residual_open'] < df['std_open_residual'], 'side'] = 'lower'\n",
    "df.loc[df['residual_open'] > df['std_open_residual'], 'side'] = 'upper'"
   ]
  },
  {
   "cell_type": "code",
   "execution_count": 7,
   "id": "bee683b3",
   "metadata": {
    "ExecuteTime": {
     "end_time": "2022-08-12T12:17:42.629913Z",
     "start_time": "2022-08-12T12:17:41.227796Z"
    }
   },
   "outputs": [],
   "source": [
    "returns_list = []\n",
    "i=1\n",
    "closed = df.loc[df.status=='close']\n",
    "\n",
    "for row in closed.itertuples():\n",
    "\n",
    "    historico_par = df.loc[(df.pair==row.pair) & (df.date.between(row.open_date,row.date))].copy()\n",
    "    historico_par.set_index('date', inplace=True)\n",
    "    historico_par['id'] = i\n",
    "    \n",
    "    \n",
    "#     display(historico_par)\n",
    "#     Custo entrada: 1,22% + 0,1% = 1,31%\n",
    "#     Custo saida: 1,22% + 0,25% + 0,1% = 1,57% + Aluguel\n",
    "    \n",
    "#     display(historico_par)\n",
    "    aluguel = (1.0143)**((row.days_open+2)/252) -1\n",
    "    try:\n",
    "        if row.side == 'lower':\n",
    "            \n",
    "            historico_par['ratio_sem_custos'] = historico_par['price_fst_stock'] / historico_par['price_scnd_stock']\n",
    "            \n",
    "            historico_par.at[row.open_date, 'price_fst_stock'] = historico_par.at[row.open_date, 'price_fst_stock']\n",
    "            \n",
    "            # Entrada\n",
    "            historico_par.at[row.open_date, 'price_fst_stock'] = historico_par.loc[row.open_date, 'price_fst_stock'] * (1+0.0071)\n",
    "            historico_par.at[row.open_date, 'price_scnd_stock'] = historico_par.loc[row.open_date, 'price_scnd_stock'] * (1-0.0071)\n",
    "            \n",
    "                    \n",
    "            # Saída\n",
    "            historico_par.at[row.date, 'price_fst_stock'] = historico_par.loc[row.date, 'price_fst_stock'] * (1-0.0071)\n",
    "            historico_par.at[row.date, 'price_scnd_stock'] = historico_par.loc[row.date, 'price_scnd_stock'] * (1+(0.0071+aluguel))\n",
    "\n",
    "            historico_par['ratio'] = historico_par['price_fst_stock'] / historico_par['price_scnd_stock']\n",
    "            \n",
    "        else:\n",
    "            \n",
    "            historico_par['ratio_sem_custos'] = historico_par['price_scnd_stock'] / historico_par['price_fst_stock']\n",
    "            \n",
    "            historico_par.at[row.open_date, 'price_scnd_stock'] = historico_par.loc[row.open_date, 'price_scnd_stock']\n",
    "            # Entrada\n",
    "            historico_par.at[row.open_date, 'price_scnd_stock'] = historico_par.loc[row.open_date, 'price_scnd_stock'] * (1+0.0071)\n",
    "            historico_par.at[row.open_date, 'price_fst_stock'] = historico_par.loc[row.open_date, 'price_fst_stock'] * (1-0.0071)\n",
    "\n",
    "            # Saida\n",
    "            historico_par.at[row.date, 'price_scnd_stock'] = historico_par.loc[row.date, 'price_scnd_stock'] * (1-0.0071)\n",
    "            historico_par.at[row.date, 'price_fst_stock'] = historico_par.loc[row.date, 'price_fst_stock'] * (1+(0.0071+aluguel))\n",
    "\n",
    "            historico_par['ratio'] = historico_par['price_scnd_stock'] / historico_par['price_fst_stock']\n",
    "        \n",
    "        \n",
    "        historico_par['open_price_first_stock'] = historico_par.at[row.open_date, 'price_fst_stock']\n",
    "        historico_par['open_price_scnd_stock'] = historico_par.at[row.open_date, 'price_scnd_stock']\n",
    "        \n",
    "        historico_par['return'] = (historico_par.ratio / historico_par.ratio.shift(1)) -1\n",
    "        historico_par['retorno_acumulado'] = np.cumprod(1+historico_par['return']) -1\n",
    "        \n",
    "        historico_par['return_sem_custos'] = (historico_par.ratio_sem_custos / historico_par.ratio_sem_custos.shift(1)) -1\n",
    "        historico_par['retorno_acumulado_sem_custos'] = (np.cumprod(1+historico_par['return_sem_custos']) -1)\n",
    "        \n",
    "        returns_list.append(historico_par)\n",
    "        \n",
    "    except Exception as e:\n",
    "#         print(e)\n",
    "        pass\n",
    "    \n",
    "    i+=1"
   ]
  },
  {
   "cell_type": "code",
   "execution_count": 8,
   "id": "961975aa",
   "metadata": {
    "ExecuteTime": {
     "end_time": "2022-08-12T12:17:42.652525Z",
     "start_time": "2022-08-12T12:17:42.629913Z"
    }
   },
   "outputs": [],
   "source": [
    "def result_calculator(row, kind='CN'):\n",
    "    \n",
    "    if kind=='CN':\n",
    "        multiplier = 1\n",
    "    if kind == 'BN':\n",
    "        multiplier = row.beta_open\n",
    "    \n",
    "    if row['residual_open'] < row['std_open_residual']:\n",
    "        long_result =(row['price_fst_stock'] / row['open_price_first_stock'])\n",
    "        short_result = (row['open_price_scnd_stock'] / row['price_scnd_stock'])\n",
    "        \n",
    "        short_result = multiplier * short_result\n",
    "        result = (long_result * short_result) - 1\n",
    "        \n",
    "        return result, 'lower'\n",
    "    \n",
    "    elif row['residual_open'] > row['std_open_residual']:\n",
    "        long_result = (row['open_price_first_stock'] / row['price_fst_stock'])\n",
    "        short_result = (row['price_scnd_stock'] / row['open_price_scnd_stock'])\n",
    "        \n",
    "        short_result = multiplier * short_result\n",
    "        result = (long_result * short_result) - 1\n",
    "\n",
    "        return result, 'upper'"
   ]
  },
  {
   "cell_type": "code",
   "execution_count": 9,
   "id": "8bde9973",
   "metadata": {
    "ExecuteTime": {
     "end_time": "2022-08-12T12:17:42.717904Z",
     "start_time": "2022-08-12T12:17:42.652525Z"
    }
   },
   "outputs": [],
   "source": [
    "df_returns = pd.concat(returns_list)\n",
    "df_returns.reset_index(inplace=True)"
   ]
  },
  {
   "cell_type": "code",
   "execution_count": 10,
   "id": "e6f4326e",
   "metadata": {
    "ExecuteTime": {
     "end_time": "2022-08-12T12:17:42.757784Z",
     "start_time": "2022-08-12T12:17:42.717904Z"
    }
   },
   "outputs": [],
   "source": [
    "log_retorno = np.log(1+df_returns.set_index(['date', 'pair', 'open_date','status'])[['return', 'return_sem_custos']]).fillna(0)\n",
    "retorno_acumulado =  np.exp(log_retorno.cumsum()) - 1\n",
    "retorno_acumulado.reset_index(inplace=True)"
   ]
  },
  {
   "cell_type": "code",
   "execution_count": 11,
   "id": "3f1afca4",
   "metadata": {
    "ExecuteTime": {
     "end_time": "2022-08-12T12:17:42.776595Z",
     "start_time": "2022-08-12T12:17:42.757784Z"
    }
   },
   "outputs": [
    {
     "data": {
      "text/plain": [
       "7.640625"
      ]
     },
     "execution_count": 11,
     "metadata": {},
     "output_type": "execute_result"
    }
   ],
   "source": [
    "df_returns.halflife.mean()"
   ]
  },
  {
   "cell_type": "code",
   "execution_count": 12,
   "id": "a88f5f5a",
   "metadata": {
    "ExecuteTime": {
     "end_time": "2022-08-12T12:17:42.792589Z",
     "start_time": "2022-08-12T12:17:42.776595Z"
    }
   },
   "outputs": [],
   "source": [
    "closed = df_returns.loc[df_returns.status=='close']"
   ]
  },
  {
   "cell_type": "code",
   "execution_count": 13,
   "id": "0fb9fa1c",
   "metadata": {
    "ExecuteTime": {
     "end_time": "2022-08-12T12:17:42.824623Z",
     "start_time": "2022-08-12T12:17:42.792589Z"
    }
   },
   "outputs": [],
   "source": [
    "ibov = pd.read_csv('ibov.csv', usecols=[0,4], index_col=0)\n",
    "ibov.index = pd.to_datetime(ibov.index)\n",
    "ibov = ibov.loc[df_returns.date.min():df_returns.date.max()]"
   ]
  },
  {
   "cell_type": "code",
   "execution_count": 14,
   "id": "1ea0155f",
   "metadata": {
    "ExecuteTime": {
     "end_time": "2022-08-12T12:17:42.840590Z",
     "start_time": "2022-08-12T12:17:42.824623Z"
    }
   },
   "outputs": [],
   "source": [
    "log_ret_ibov = np.log(ibov/ibov.shift())\n",
    "ibov_return = ibov/ibov.shift() -1\n",
    "ibov_retornos = ibov/ibov.shift() -1\n",
    "cumsum_ibov = np.cumsum(log_ret_ibov)\n",
    "ibov_pct = np.exp(cumsum_ibov) -1"
   ]
  },
  {
   "cell_type": "code",
   "execution_count": 15,
   "id": "10284154",
   "metadata": {
    "ExecuteTime": {
     "end_time": "2022-08-12T12:17:42.872600Z",
     "start_time": "2022-08-12T12:17:42.848595Z"
    },
    "scrolled": false
   },
   "outputs": [],
   "source": [
    "# Retorno com custos\n",
    "acumulado_com_custos = np.cumprod(1+df_returns.groupby('date').sum()['return']) -1"
   ]
  },
  {
   "cell_type": "code",
   "execution_count": 16,
   "id": "46dc62c1",
   "metadata": {
    "ExecuteTime": {
     "end_time": "2022-08-12T12:17:42.888604Z",
     "start_time": "2022-08-12T12:17:42.872600Z"
    }
   },
   "outputs": [],
   "source": [
    "# Resultado sem custos por dia\n",
    "acumulado_sem_custo = np.cumprod(1+df_returns.groupby('date').sum().return_sem_custos) -1\n"
   ]
  },
  {
   "cell_type": "code",
   "execution_count": 17,
   "id": "8fb65541",
   "metadata": {
    "ExecuteTime": {
     "end_time": "2022-08-12T12:17:43.403577Z",
     "start_time": "2022-08-12T12:17:42.888604Z"
    }
   },
   "outputs": [
    {
     "name": "stderr",
     "output_type": "stream",
     "text": [
      "<ipython-input-17-902cf3657bf9>:4: SettingWithCopyWarning: \n",
      "A value is trying to be set on a copy of a slice from a DataFrame.\n",
      "Try using .loc[row_indexer,col_indexer] = value instead\n",
      "\n",
      "See the caveats in the documentation: https://pandas.pydata.org/pandas-docs/stable/user_guide/indexing.html#returning-a-view-versus-a-copy\n",
      "  fechadas['e_lucro_bruto'] = fechadas['retorno_acumulado_sem_custos'] > 0\n",
      "<ipython-input-17-902cf3657bf9>:5: SettingWithCopyWarning: \n",
      "A value is trying to be set on a copy of a slice from a DataFrame.\n",
      "Try using .loc[row_indexer,col_indexer] = value instead\n",
      "\n",
      "See the caveats in the documentation: https://pandas.pydata.org/pandas-docs/stable/user_guide/indexing.html#returning-a-view-versus-a-copy\n",
      "  fechadas['e_lucro_liquido'] = fechadas['retorno_acumulado'] > 0\n"
     ]
    }
   ],
   "source": [
    "# Operações Fechadas\n",
    "fechadas = df_returns.loc[df_returns.status=='close']\n",
    "\n",
    "fechadas['e_lucro_bruto'] = fechadas['retorno_acumulado_sem_custos'] > 0\n",
    "fechadas['e_lucro_liquido'] = fechadas['retorno_acumulado'] > 0\n",
    "\n",
    "retorno_diario = df_returns.groupby('date').sum()"
   ]
  },
  {
   "cell_type": "markdown",
   "id": "580b4b51",
   "metadata": {},
   "source": [
    "# Graficos"
   ]
  },
  {
   "cell_type": "code",
   "execution_count": 18,
   "id": "eca0d042",
   "metadata": {
    "ExecuteTime": {
     "end_time": "2022-08-12T12:17:43.888335Z",
     "start_time": "2022-08-12T12:17:43.403577Z"
    }
   },
   "outputs": [
    {
     "data": {
      "text/plain": [
       "<matplotlib.legend.Legend at 0x19918dfb4c0>"
      ]
     },
     "execution_count": 18,
     "metadata": {},
     "output_type": "execute_result"
    },
    {
     "data": {
      "image/png": "[encoded data removed]",
      "text/plain": [
       "<Figure size 1080x576 with 1 Axes>"
      ]
     },
     "metadata": {},
     "output_type": "display_data"
    }
   ],
   "source": [
    "sns.lineplot(x=ibov_pct.index, y=ibov_pct.close, label='ibov')\n",
    "sns.lineplot(x=acumulado_com_custos.index, y=acumulado_com_custos, label='retorno acumulado')\n",
    "plt.ylabel('retorno')\n",
    "plt.xlabel('data')\n",
    "\n",
    "plt.legend()\n",
    "plt.legend(bbox_to_anchor=(1.01, 1), loc=2, borderaxespad=0.)\n",
    "\n",
    "# sns.lineplot(x=cumsum_result_BN.index, y=cumsum_result_BN, label='cointegration beta neutral')\n"
   ]
  },
  {
   "cell_type": "code",
   "execution_count": 19,
   "id": "053f82e9",
   "metadata": {
    "ExecuteTime": {
     "end_time": "2022-08-12T12:17:44.351307Z",
     "start_time": "2022-08-12T12:17:43.888335Z"
    },
    "scrolled": false
   },
   "outputs": [
    {
     "data": {
      "text/plain": [
       "<matplotlib.legend.Legend at 0x19918e5cd90>"
      ]
     },
     "execution_count": 19,
     "metadata": {},
     "output_type": "execute_result"
    },
    {
     "data": {
      "image/png": "[encoded data removed]",
      "text/plain": [
       "<Figure size 1080x576 with 1 Axes>"
      ]
     },
     "metadata": {},
     "output_type": "display_data"
    }
   ],
   "source": [
    "sns.lineplot(x=ibov_pct.index, y=ibov_pct.close, label='ibov')\n",
    "sns.lineplot(x=acumulado_sem_custo.index, y=acumulado_sem_custo, label='retorno acumulado\\nsem custos')\n",
    "plt.ylabel('retorno')\n",
    "plt.xlabel('data')\n",
    "\n",
    "plt.legend()\n",
    "plt.legend(bbox_to_anchor=(1.01, 1), loc=2, borderaxespad=0.)"
   ]
  },
  {
   "cell_type": "code",
   "execution_count": 44,
   "id": "c76701eb",
   "metadata": {
    "ExecuteTime": {
     "end_time": "2022-08-12T12:19:40.877440Z",
     "start_time": "2022-08-12T12:19:40.861423Z"
    }
   },
   "outputs": [],
   "source": [
    "retornos_diarios = pd.concat([ibov_return, retorno_diario[['return', 'return_sem_custos']]], axis=1)\n",
    "retornos_diarios.fillna(0, inplace=True)\n",
    "retornos_diarios.columns = ['ibov', 'retorno_com_custos', 'retorno_sem_custos']"
   ]
  },
  {
   "cell_type": "code",
   "execution_count": 45,
   "id": "0694cde9",
   "metadata": {
    "ExecuteTime": {
     "end_time": "2022-08-12T12:19:41.304943Z",
     "start_time": "2022-08-12T12:19:41.280986Z"
    }
   },
   "outputs": [
    {
     "data": {
      "text/html": [
       "<div>\n",
       "<style scoped>\n",
       "    .dataframe tbody tr th:only-of-type {\n",
       "        vertical-align: middle;\n",
       "    }\n",
       "\n",
       "    .dataframe tbody tr th {\n",
       "        vertical-align: top;\n",
       "    }\n",
       "\n",
       "    .dataframe thead th {\n",
       "        text-align: right;\n",
       "    }\n",
       "</style>\n",
       "<table border=\"1\" class=\"dataframe\">\n",
       "  <thead>\n",
       "    <tr style=\"text-align: right;\">\n",
       "      <th></th>\n",
       "      <th>ibov</th>\n",
       "      <th>retorno_com_custos</th>\n",
       "      <th>retorno_sem_custos</th>\n",
       "    </tr>\n",
       "  </thead>\n",
       "  <tbody>\n",
       "    <tr>\n",
       "      <th>2019-07-03</th>\n",
       "      <td>0.000000</td>\n",
       "      <td>0.000000</td>\n",
       "      <td>0.000000</td>\n",
       "    </tr>\n",
       "    <tr>\n",
       "      <th>2019-07-04</th>\n",
       "      <td>0.015611</td>\n",
       "      <td>-0.003661</td>\n",
       "      <td>0.010588</td>\n",
       "    </tr>\n",
       "    <tr>\n",
       "      <th>2019-07-05</th>\n",
       "      <td>0.020060</td>\n",
       "      <td>0.010990</td>\n",
       "      <td>0.025449</td>\n",
       "    </tr>\n",
       "    <tr>\n",
       "      <th>2019-07-08</th>\n",
       "      <td>0.024372</td>\n",
       "      <td>0.001046</td>\n",
       "      <td>0.015362</td>\n",
       "    </tr>\n",
       "    <tr>\n",
       "      <th>2019-07-10</th>\n",
       "      <td>0.036984</td>\n",
       "      <td>0.007896</td>\n",
       "      <td>0.022310</td>\n",
       "    </tr>\n",
       "    <tr>\n",
       "      <th>...</th>\n",
       "      <td>...</td>\n",
       "      <td>...</td>\n",
       "      <td>...</td>\n",
       "    </tr>\n",
       "    <tr>\n",
       "      <th>2022-06-27</th>\n",
       "      <td>-0.012534</td>\n",
       "      <td>-0.952930</td>\n",
       "      <td>3.854673</td>\n",
       "    </tr>\n",
       "    <tr>\n",
       "      <th>2022-06-28</th>\n",
       "      <td>-0.014229</td>\n",
       "      <td>-0.954086</td>\n",
       "      <td>3.874462</td>\n",
       "    </tr>\n",
       "    <tr>\n",
       "      <th>2022-06-29</th>\n",
       "      <td>-0.023725</td>\n",
       "      <td>-0.950068</td>\n",
       "      <td>4.301092</td>\n",
       "    </tr>\n",
       "    <tr>\n",
       "      <th>2022-06-30</th>\n",
       "      <td>-0.034309</td>\n",
       "      <td>-0.940007</td>\n",
       "      <td>5.369185</td>\n",
       "    </tr>\n",
       "    <tr>\n",
       "      <th>2022-07-01</th>\n",
       "      <td>-0.030272</td>\n",
       "      <td>-0.944377</td>\n",
       "      <td>5.086972</td>\n",
       "    </tr>\n",
       "  </tbody>\n",
       "</table>\n",
       "<p>745 rows × 3 columns</p>\n",
       "</div>"
      ],
      "text/plain": [
       "                ibov  retorno_com_custos  retorno_sem_custos\n",
       "2019-07-03  0.000000            0.000000            0.000000\n",
       "2019-07-04  0.015611           -0.003661            0.010588\n",
       "2019-07-05  0.020060            0.010990            0.025449\n",
       "2019-07-08  0.024372            0.001046            0.015362\n",
       "2019-07-10  0.036984            0.007896            0.022310\n",
       "...              ...                 ...                 ...\n",
       "2022-06-27 -0.012534           -0.952930            3.854673\n",
       "2022-06-28 -0.014229           -0.954086            3.874462\n",
       "2022-06-29 -0.023725           -0.950068            4.301092\n",
       "2022-06-30 -0.034309           -0.940007            5.369185\n",
       "2022-07-01 -0.030272           -0.944377            5.086972\n",
       "\n",
       "[745 rows x 3 columns]"
      ]
     },
     "execution_count": 45,
     "metadata": {},
     "output_type": "execute_result"
    }
   ],
   "source": [
    "log_retornos = np.log(1+retornos_diarios)\n",
    "retornos_acumulados = np.exp(log_retornos.cumsum()) -1\n",
    "retornos_acumulados"
   ]
  },
  {
   "cell_type": "markdown",
   "id": "75cb943a",
   "metadata": {},
   "source": [
    "# Descritivas"
   ]
  },
  {
   "cell_type": "code",
   "execution_count": 53,
   "id": "9592a3a3",
   "metadata": {
    "ExecuteTime": {
     "end_time": "2022-08-12T12:20:55.358532Z",
     "start_time": "2022-08-12T12:20:55.326532Z"
    }
   },
   "outputs": [
    {
     "data": {
      "text/html": [
       "<div>\n",
       "<style scoped>\n",
       "    .dataframe tbody tr th:only-of-type {\n",
       "        vertical-align: middle;\n",
       "    }\n",
       "\n",
       "    .dataframe tbody tr th {\n",
       "        vertical-align: top;\n",
       "    }\n",
       "\n",
       "    .dataframe thead th {\n",
       "        text-align: right;\n",
       "    }\n",
       "</style>\n",
       "<table border=\"1\" class=\"dataframe\">\n",
       "  <thead>\n",
       "    <tr style=\"text-align: right;\">\n",
       "      <th></th>\n",
       "      <th>ibov</th>\n",
       "      <th>retorno_com_custos</th>\n",
       "      <th>retorno_sem_custos</th>\n",
       "    </tr>\n",
       "  </thead>\n",
       "  <tbody>\n",
       "    <tr>\n",
       "      <th>count</th>\n",
       "      <td>745.000000</td>\n",
       "      <td>745.000000</td>\n",
       "      <td>745.000000</td>\n",
       "    </tr>\n",
       "    <tr>\n",
       "      <th>mean</th>\n",
       "      <td>0.000142</td>\n",
       "      <td>-0.003457</td>\n",
       "      <td>0.002816</td>\n",
       "    </tr>\n",
       "    <tr>\n",
       "      <th>std</th>\n",
       "      <td>0.019005</td>\n",
       "      <td>0.028763</td>\n",
       "      <td>0.028099</td>\n",
       "    </tr>\n",
       "    <tr>\n",
       "      <th>min</th>\n",
       "      <td>-0.147797</td>\n",
       "      <td>-0.138751</td>\n",
       "      <td>-0.138086</td>\n",
       "    </tr>\n",
       "    <tr>\n",
       "      <th>25%</th>\n",
       "      <td>-0.008153</td>\n",
       "      <td>-0.013467</td>\n",
       "      <td>-0.005352</td>\n",
       "    </tr>\n",
       "    <tr>\n",
       "      <th>50%</th>\n",
       "      <td>0.000625</td>\n",
       "      <td>0.000000</td>\n",
       "      <td>0.000000</td>\n",
       "    </tr>\n",
       "    <tr>\n",
       "      <th>75%</th>\n",
       "      <td>0.009616</td>\n",
       "      <td>0.004115</td>\n",
       "      <td>0.009201</td>\n",
       "    </tr>\n",
       "    <tr>\n",
       "      <th>max</th>\n",
       "      <td>0.139082</td>\n",
       "      <td>0.201486</td>\n",
       "      <td>0.201486</td>\n",
       "    </tr>\n",
       "  </tbody>\n",
       "</table>\n",
       "</div>"
      ],
      "text/plain": [
       "             ibov  retorno_com_custos  retorno_sem_custos\n",
       "count  745.000000          745.000000          745.000000\n",
       "mean     0.000142           -0.003457            0.002816\n",
       "std      0.019005            0.028763            0.028099\n",
       "min     -0.147797           -0.138751           -0.138086\n",
       "25%     -0.008153           -0.013467           -0.005352\n",
       "50%      0.000625            0.000000            0.000000\n",
       "75%      0.009616            0.004115            0.009201\n",
       "max      0.139082            0.201486            0.201486"
      ]
     },
     "execution_count": 53,
     "metadata": {},
     "output_type": "execute_result"
    }
   ],
   "source": [
    "retornos_diarios.describe()"
   ]
  },
  {
   "cell_type": "code",
   "execution_count": 54,
   "id": "130f4316",
   "metadata": {
    "ExecuteTime": {
     "end_time": "2022-08-12T12:21:04.718248Z",
     "start_time": "2022-08-12T12:21:04.702214Z"
    }
   },
   "outputs": [
    {
     "name": "stdout",
     "output_type": "stream",
     "text": [
      "Correlação de Spearman Resutado líquido: 0.0129\n"
     ]
    }
   ],
   "source": [
    "coeficiente_liquido, p_valor = spearmanr(retornos_diarios[['ibov', 'retorno_com_custos']])\n",
    "print('Correlação de Spearman Resutado líquido: {:0.3}'.format(coeficiente_liquido))"
   ]
  },
  {
   "cell_type": "code",
   "execution_count": 55,
   "id": "cfac5193",
   "metadata": {
    "ExecuteTime": {
     "end_time": "2022-08-12T12:21:05.046213Z",
     "start_time": "2022-08-12T12:21:05.030214Z"
    }
   },
   "outputs": [
    {
     "name": "stdout",
     "output_type": "stream",
     "text": [
      "Correlação de Spearman Resutado bruto: 0.0275\n"
     ]
    }
   ],
   "source": [
    "coeficiente_bruto, p_valor = spearmanr(retornos_diarios[['ibov', 'retorno_sem_custos']])\n",
    "print('Correlação de Spearman Resutado bruto: {:0.3}'.format(coeficiente_bruto))"
   ]
  },
  {
   "cell_type": "code",
   "execution_count": 56,
   "id": "e1dc7a8f",
   "metadata": {
    "ExecuteTime": {
     "end_time": "2022-08-12T12:21:05.447973Z",
     "start_time": "2022-08-12T12:21:05.439935Z"
    }
   },
   "outputs": [
    {
     "data": {
      "text/plain": [
       "KstestResult(statistic=0.46349655667498924, pvalue=4.503467688320636e-147)"
      ]
     },
     "execution_count": 56,
     "metadata": {},
     "output_type": "execute_result"
    }
   ],
   "source": [
    "# TESTE NORMALIDADE\n",
    "#perform Kolmogorov-Smirnov test\n",
    "kstest(retornos_diarios.retorno_sem_custos, 'norm')"
   ]
  },
  {
   "cell_type": "code",
   "execution_count": 57,
   "id": "597f8b0b",
   "metadata": {
    "ExecuteTime": {
     "end_time": "2022-08-12T12:21:06.047961Z",
     "start_time": "2022-08-12T12:21:06.031922Z"
    }
   },
   "outputs": [
    {
     "data": {
      "text/plain": [
       "KstestResult(statistic=0.4579846870088634, pvalue=2.0746775529915294e-143)"
      ]
     },
     "execution_count": 57,
     "metadata": {},
     "output_type": "execute_result"
    }
   ],
   "source": [
    "# TESTE NORMALIDADE\n",
    "#perform Kolmogorov-Smirnov test\n",
    "kstest(retornos_diarios.retorno_com_custos, 'norm')"
   ]
  },
  {
   "cell_type": "code",
   "execution_count": 58,
   "id": "d5112cca",
   "metadata": {
    "ExecuteTime": {
     "end_time": "2022-08-12T12:21:06.608014Z",
     "start_time": "2022-08-12T12:21:06.583976Z"
    }
   },
   "outputs": [
    {
     "data": {
      "text/plain": [
       "count    1182.000000\n",
       "mean       -0.002179\n",
       "std         0.022271\n",
       "min        -0.109944\n",
       "25%        -0.012972\n",
       "50%        -0.002264\n",
       "75%         0.007445\n",
       "max         0.206783\n",
       "Name: return, dtype: float64"
      ]
     },
     "execution_count": 58,
     "metadata": {},
     "output_type": "execute_result"
    }
   ],
   "source": [
    "df_returns['return'].describe()"
   ]
  },
  {
   "cell_type": "code",
   "execution_count": 59,
   "id": "4f19b986",
   "metadata": {
    "ExecuteTime": {
     "end_time": "2022-08-12T12:21:07.657195Z",
     "start_time": "2022-08-12T12:21:07.633164Z"
    }
   },
   "outputs": [
    {
     "data": {
      "text/plain": [
       "count    1182.000000\n",
       "mean        0.001775\n",
       "std         0.021906\n",
       "min        -0.109944\n",
       "25%        -0.007965\n",
       "50%         0.001240\n",
       "75%         0.010196\n",
       "max         0.206783\n",
       "Name: return_sem_custos, dtype: float64"
      ]
     },
     "execution_count": 59,
     "metadata": {},
     "output_type": "execute_result"
    }
   ],
   "source": [
    "df_returns['return_sem_custos'].describe()"
   ]
  },
  {
   "cell_type": "markdown",
   "id": "e3678607",
   "metadata": {
    "ExecuteTime": {
     "end_time": "2022-08-12T03:45:46.655213Z",
     "start_time": "2022-08-12T03:45:46.631172Z"
    }
   },
   "source": [
    "# Eficacia"
   ]
  },
  {
   "cell_type": "code",
   "execution_count": 60,
   "id": "e2cf828f",
   "metadata": {
    "ExecuteTime": {
     "end_time": "2022-08-12T12:21:09.435413Z",
     "start_time": "2022-08-12T12:21:09.404725Z"
    }
   },
   "outputs": [
    {
     "data": {
      "text/html": [
       "<div>\n",
       "<style scoped>\n",
       "    .dataframe tbody tr th:only-of-type {\n",
       "        vertical-align: middle;\n",
       "    }\n",
       "\n",
       "    .dataframe tbody tr th {\n",
       "        vertical-align: top;\n",
       "    }\n",
       "\n",
       "    .dataframe thead th {\n",
       "        text-align: right;\n",
       "    }\n",
       "</style>\n",
       "<table border=\"1\" class=\"dataframe\">\n",
       "  <thead>\n",
       "    <tr style=\"text-align: right;\">\n",
       "      <th></th>\n",
       "      <th>num_operacoes</th>\n",
       "      <th>taxa_acerto</th>\n",
       "      <th>tempo_medio_operacao</th>\n",
       "    </tr>\n",
       "    <tr>\n",
       "      <th>open_date</th>\n",
       "      <th></th>\n",
       "      <th></th>\n",
       "      <th></th>\n",
       "    </tr>\n",
       "  </thead>\n",
       "  <tbody>\n",
       "    <tr>\n",
       "      <th>2019-07-31</th>\n",
       "      <td>1</td>\n",
       "      <td>1.000000</td>\n",
       "      <td>7.000000</td>\n",
       "    </tr>\n",
       "    <tr>\n",
       "      <th>2020-01-31</th>\n",
       "      <td>15</td>\n",
       "      <td>0.600000</td>\n",
       "      <td>6.533333</td>\n",
       "    </tr>\n",
       "    <tr>\n",
       "      <th>2020-07-31</th>\n",
       "      <td>28</td>\n",
       "      <td>0.714286</td>\n",
       "      <td>7.678571</td>\n",
       "    </tr>\n",
       "    <tr>\n",
       "      <th>2021-01-31</th>\n",
       "      <td>26</td>\n",
       "      <td>0.653846</td>\n",
       "      <td>7.923077</td>\n",
       "    </tr>\n",
       "    <tr>\n",
       "      <th>2021-07-31</th>\n",
       "      <td>25</td>\n",
       "      <td>0.600000</td>\n",
       "      <td>7.640000</td>\n",
       "    </tr>\n",
       "    <tr>\n",
       "      <th>2022-01-31</th>\n",
       "      <td>30</td>\n",
       "      <td>0.633333</td>\n",
       "      <td>6.833333</td>\n",
       "    </tr>\n",
       "    <tr>\n",
       "      <th>2022-07-31</th>\n",
       "      <td>37</td>\n",
       "      <td>0.540541</td>\n",
       "      <td>7.513514</td>\n",
       "    </tr>\n",
       "  </tbody>\n",
       "</table>\n",
       "</div>"
      ],
      "text/plain": [
       "            num_operacoes  taxa_acerto  tempo_medio_operacao\n",
       "open_date                                                   \n",
       "2019-07-31              1     1.000000              7.000000\n",
       "2020-01-31             15     0.600000              6.533333\n",
       "2020-07-31             28     0.714286              7.678571\n",
       "2021-01-31             26     0.653846              7.923077\n",
       "2021-07-31             25     0.600000              7.640000\n",
       "2022-01-31             30     0.633333              6.833333\n",
       "2022-07-31             37     0.540541              7.513514"
      ]
     },
     "execution_count": 60,
     "metadata": {},
     "output_type": "execute_result"
    }
   ],
   "source": [
    "eficacia = fechadas.set_index('open_date').resample('6M').agg(\n",
    "    num_operacoes = ('pair', 'count'),\n",
    "    taxa_acerto = ('e_lucro_bruto', 'mean'),\n",
    "    tempo_medio_operacao = ('days_open', 'mean')\n",
    ")\n",
    "\n",
    "eficacia"
   ]
  },
  {
   "cell_type": "markdown",
   "id": "e367ab41",
   "metadata": {},
   "source": [
    "# Desempenho"
   ]
  },
  {
   "cell_type": "code",
   "execution_count": 61,
   "id": "6c73550c",
   "metadata": {
    "ExecuteTime": {
     "end_time": "2022-08-12T12:21:11.762511Z",
     "start_time": "2022-08-12T12:21:11.746476Z"
    }
   },
   "outputs": [
    {
     "data": {
      "text/plain": [
       "0.3060079618164384"
      ]
     },
     "execution_count": 61,
     "metadata": {},
     "output_type": "execute_result"
    }
   ],
   "source": [
    "vol_ibov = log_ret_ibov.close.std() * math.sqrt(252)\n",
    "vol_ibov"
   ]
  },
  {
   "cell_type": "code",
   "execution_count": 62,
   "id": "f56efccf",
   "metadata": {
    "ExecuteTime": {
     "end_time": "2022-08-12T12:21:12.341789Z",
     "start_time": "2022-08-12T12:21:12.317916Z"
    }
   },
   "outputs": [
    {
     "data": {
      "text/plain": [
       "0.5164685561116649"
      ]
     },
     "execution_count": 62,
     "metadata": {},
     "output_type": "execute_result"
    }
   ],
   "source": [
    "log_return = np.log(1+retorno_diario['return'])\n",
    "vol_return = log_return.std() * math.sqrt(252)\n",
    "vol_return"
   ]
  },
  {
   "cell_type": "code",
   "execution_count": 63,
   "id": "32bde9e3",
   "metadata": {
    "ExecuteTime": {
     "end_time": "2022-08-12T12:21:12.759521Z",
     "start_time": "2022-08-12T12:21:12.735486Z"
    }
   },
   "outputs": [
    {
     "data": {
      "text/plain": [
       "0.49852523302372037"
      ]
     },
     "execution_count": 63,
     "metadata": {},
     "output_type": "execute_result"
    }
   ],
   "source": [
    "log_return_sem_custo = np.log(1+retorno_diario['return_sem_custos'])\n",
    "vol_return_sem_custo = log_return_sem_custo.std() * math.sqrt(252)\n",
    "vol_return_sem_custo"
   ]
  },
  {
   "cell_type": "code",
   "execution_count": 64,
   "id": "92f70dd4",
   "metadata": {
    "ExecuteTime": {
     "end_time": "2022-08-12T12:21:15.690126Z",
     "start_time": "2022-08-12T12:21:15.666094Z"
    }
   },
   "outputs": [
    {
     "data": {
      "text/html": [
       "<div>\n",
       "<style scoped>\n",
       "    .dataframe tbody tr th:only-of-type {\n",
       "        vertical-align: middle;\n",
       "    }\n",
       "\n",
       "    .dataframe tbody tr th {\n",
       "        vertical-align: top;\n",
       "    }\n",
       "\n",
       "    .dataframe thead th {\n",
       "        text-align: right;\n",
       "    }\n",
       "</style>\n",
       "<table border=\"1\" class=\"dataframe\">\n",
       "  <thead>\n",
       "    <tr style=\"text-align: right;\">\n",
       "      <th></th>\n",
       "      <th>retorno_acumulado_bruto</th>\n",
       "      <th>taxa_acerto</th>\n",
       "      <th>retorno_acumulado_liquido</th>\n",
       "      <th>desvio_padrao</th>\n",
       "      <th>sharpe</th>\n",
       "      <th>correlacao_ibov</th>\n",
       "    </tr>\n",
       "  </thead>\n",
       "  <tbody>\n",
       "    <tr>\n",
       "      <th>0</th>\n",
       "      <td>5.153541</td>\n",
       "      <td>0.623457</td>\n",
       "      <td>-0.943251</td>\n",
       "      <td>0.516469</td>\n",
       "      <td>-1.826347</td>\n",
       "      <td>0.012871</td>\n",
       "    </tr>\n",
       "  </tbody>\n",
       "</table>\n",
       "</div>"
      ],
      "text/plain": [
       "   retorno_acumulado_bruto  taxa_acerto  retorno_acumulado_liquido  \\\n",
       "0                 5.153541     0.623457                  -0.943251   \n",
       "\n",
       "   desvio_padrao    sharpe  correlacao_ibov  \n",
       "0       0.516469 -1.826347         0.012871  "
      ]
     },
     "execution_count": 64,
     "metadata": {},
     "output_type": "execute_result"
    }
   ],
   "source": [
    "retorno_acumulado_bruto = retorno_acumulado['return_sem_custos'].iloc[-1]\n",
    "taxa_acerto = fechadas['e_lucro_bruto'].mean()\n",
    "retorno_acumulado_liquido = retorno_acumulado['return'].iloc[-1]\n",
    "\n",
    "desempenho = pd.DataFrame([{\n",
    "    'retorno_acumulado_bruto':retorno_acumulado_bruto,\n",
    "    'taxa_acerto': taxa_acerto,\n",
    "    'retorno_acumulado_liquido': retorno_acumulado_liquido,\n",
    "    'desvio_padrao': vol_return,\n",
    "    'sharpe': retorno_acumulado_liquido/vol_return,\n",
    "    'correlacao_ibov': coeficiente_liquido\n",
    "    }])\n",
    "\n",
    "desempenho"
   ]
  },
  {
   "cell_type": "code",
   "execution_count": 66,
   "id": "9e80b3c5",
   "metadata": {
    "ExecuteTime": {
     "end_time": "2022-08-12T12:21:42.900653Z",
     "start_time": "2022-08-12T12:21:42.876374Z"
    }
   },
   "outputs": [],
   "source": [
    "fechadas_halflife = fechadas.loc[(fechadas.days_open > fechadas.halflife) & (fechadas.beta_close!='VAR CLOSE')]\n",
    "fechadas_stop_var = fechadas.loc[(fechadas.beta_close=='VAR CLOSE')]\n",
    "fechadas_retorno = fechadas.loc[(abs(fechadas.last_residual) <= fechadas.close_limit) & (fechadas.beta_close!='VAR CLOSE') & (fechadas.days_open <= fechadas.halflife)]"
   ]
  },
  {
   "cell_type": "code",
   "execution_count": 67,
   "id": "4f303f74",
   "metadata": {
    "ExecuteTime": {
     "end_time": "2022-08-12T12:21:43.271984Z",
     "start_time": "2022-08-12T12:21:43.264018Z"
    }
   },
   "outputs": [],
   "source": [
    "todos_indices = fechadas_stop_var.index.tolist() + fechadas_halflife.index.tolist() + fechadas_retorno.index.tolist()\n",
    "\n",
    "seen = set()\n",
    "dupes = [x for x in todos_indices if x in seen or seen.add(x)]    "
   ]
  },
  {
   "cell_type": "code",
   "execution_count": 68,
   "id": "1d8c74ab",
   "metadata": {
    "ExecuteTime": {
     "end_time": "2022-08-12T12:21:43.625188Z",
     "start_time": "2022-08-12T12:21:43.601153Z"
    }
   },
   "outputs": [
    {
     "data": {
      "text/plain": [
       "{1302}"
      ]
     },
     "execution_count": 68,
     "metadata": {},
     "output_type": "execute_result"
    }
   ],
   "source": [
    "set(fechadas.index.tolist()) - set(todos_indices)"
   ]
  },
  {
   "cell_type": "code",
   "execution_count": 70,
   "id": "dc3997ed",
   "metadata": {
    "ExecuteTime": {
     "end_time": "2022-08-12T12:22:10.658741Z",
     "start_time": "2022-08-12T12:22:10.634742Z"
    }
   },
   "outputs": [
    {
     "data": {
      "text/html": [
       "<div>\n",
       "<style scoped>\n",
       "    .dataframe tbody tr th:only-of-type {\n",
       "        vertical-align: middle;\n",
       "    }\n",
       "\n",
       "    .dataframe tbody tr th {\n",
       "        vertical-align: top;\n",
       "    }\n",
       "\n",
       "    .dataframe thead th {\n",
       "        text-align: right;\n",
       "    }\n",
       "</style>\n",
       "<table border=\"1\" class=\"dataframe\">\n",
       "  <thead>\n",
       "    <tr style=\"text-align: right;\">\n",
       "      <th></th>\n",
       "      <th>total_trades</th>\n",
       "      <th>gain_halflife</th>\n",
       "      <th>loss_halflife</th>\n",
       "    </tr>\n",
       "    <tr>\n",
       "      <th>open_date</th>\n",
       "      <th></th>\n",
       "      <th></th>\n",
       "      <th></th>\n",
       "    </tr>\n",
       "  </thead>\n",
       "  <tbody>\n",
       "  </tbody>\n",
       "</table>\n",
       "</div>"
      ],
      "text/plain": [
       "Empty DataFrame\n",
       "Columns: [total_trades, gain_halflife, loss_halflife]\n",
       "Index: []"
      ]
     },
     "execution_count": 70,
     "metadata": {},
     "output_type": "execute_result"
    }
   ],
   "source": [
    "fechadas_var_semestre = fechadas_stop_var.set_index('open_date').resample('6M').agg(\n",
    "    total_trades = ('status', 'count'),\n",
    "    gain_halflife = ('e_lucro_bruto', 'mean'),\n",
    ")\n",
    "fechadas_var_semestre['loss_halflife'] = 1-fechadas_var_semestre['gain_halflife']\n",
    "\n",
    "fechadas_var_semestre"
   ]
  },
  {
   "cell_type": "code",
   "execution_count": 71,
   "id": "8956dd2c",
   "metadata": {
    "ExecuteTime": {
     "end_time": "2022-08-12T12:22:11.534378Z",
     "start_time": "2022-08-12T12:22:11.490880Z"
    }
   },
   "outputs": [
    {
     "data": {
      "text/html": [
       "<div>\n",
       "<style scoped>\n",
       "    .dataframe tbody tr th:only-of-type {\n",
       "        vertical-align: middle;\n",
       "    }\n",
       "\n",
       "    .dataframe tbody tr th {\n",
       "        vertical-align: top;\n",
       "    }\n",
       "\n",
       "    .dataframe thead th {\n",
       "        text-align: right;\n",
       "    }\n",
       "</style>\n",
       "<table border=\"1\" class=\"dataframe\">\n",
       "  <thead>\n",
       "    <tr style=\"text-align: right;\">\n",
       "      <th></th>\n",
       "      <th>total_trades</th>\n",
       "      <th>gain_halflife</th>\n",
       "      <th>loss_halflife</th>\n",
       "    </tr>\n",
       "    <tr>\n",
       "      <th>open_date</th>\n",
       "      <th></th>\n",
       "      <th></th>\n",
       "      <th></th>\n",
       "    </tr>\n",
       "  </thead>\n",
       "  <tbody>\n",
       "    <tr>\n",
       "      <th>2019-07-31</th>\n",
       "      <td>1</td>\n",
       "      <td>1.000000</td>\n",
       "      <td>0.000000</td>\n",
       "    </tr>\n",
       "    <tr>\n",
       "      <th>2020-01-31</th>\n",
       "      <td>12</td>\n",
       "      <td>0.500000</td>\n",
       "      <td>0.500000</td>\n",
       "    </tr>\n",
       "    <tr>\n",
       "      <th>2020-07-31</th>\n",
       "      <td>21</td>\n",
       "      <td>0.619048</td>\n",
       "      <td>0.380952</td>\n",
       "    </tr>\n",
       "    <tr>\n",
       "      <th>2021-01-31</th>\n",
       "      <td>25</td>\n",
       "      <td>0.640000</td>\n",
       "      <td>0.360000</td>\n",
       "    </tr>\n",
       "    <tr>\n",
       "      <th>2021-07-31</th>\n",
       "      <td>21</td>\n",
       "      <td>0.523810</td>\n",
       "      <td>0.476190</td>\n",
       "    </tr>\n",
       "    <tr>\n",
       "      <th>2022-01-31</th>\n",
       "      <td>28</td>\n",
       "      <td>0.607143</td>\n",
       "      <td>0.392857</td>\n",
       "    </tr>\n",
       "    <tr>\n",
       "      <th>2022-07-31</th>\n",
       "      <td>27</td>\n",
       "      <td>0.407407</td>\n",
       "      <td>0.592593</td>\n",
       "    </tr>\n",
       "  </tbody>\n",
       "</table>\n",
       "</div>"
      ],
      "text/plain": [
       "            total_trades  gain_halflife  loss_halflife\n",
       "open_date                                             \n",
       "2019-07-31             1       1.000000       0.000000\n",
       "2020-01-31            12       0.500000       0.500000\n",
       "2020-07-31            21       0.619048       0.380952\n",
       "2021-01-31            25       0.640000       0.360000\n",
       "2021-07-31            21       0.523810       0.476190\n",
       "2022-01-31            28       0.607143       0.392857\n",
       "2022-07-31            27       0.407407       0.592593"
      ]
     },
     "execution_count": 71,
     "metadata": {},
     "output_type": "execute_result"
    }
   ],
   "source": [
    "halflife_semestre = fechadas_halflife.set_index('open_date').resample('6M').agg(\n",
    "    total_trades = ('status', 'count'),\n",
    "    gain_halflife = ('e_lucro_bruto', 'mean'),\n",
    ")\n",
    "\n",
    "halflife_semestre['loss_halflife'] = 1-halflife_semestre['gain_halflife']\n",
    "\n",
    "halflife_semestre"
   ]
  },
  {
   "cell_type": "markdown",
   "id": "af9664c5",
   "metadata": {
    "ExecuteTime": {
     "end_time": "2022-08-12T09:31:19.892023Z",
     "start_time": "2022-08-12T09:31:19.883016Z"
    }
   },
   "source": [
    "# Resumo Pares"
   ]
  },
  {
   "cell_type": "code",
   "execution_count": 72,
   "id": "34bf5449",
   "metadata": {
    "ExecuteTime": {
     "end_time": "2022-08-12T12:22:14.230833Z",
     "start_time": "2022-08-12T12:22:14.174817Z"
    }
   },
   "outputs": [
    {
     "data": {
      "text/html": [
       "<div>\n",
       "<style scoped>\n",
       "    .dataframe tbody tr th:only-of-type {\n",
       "        vertical-align: middle;\n",
       "    }\n",
       "\n",
       "    .dataframe tbody tr th {\n",
       "        vertical-align: top;\n",
       "    }\n",
       "\n",
       "    .dataframe thead th {\n",
       "        text-align: right;\n",
       "    }\n",
       "</style>\n",
       "<table border=\"1\" class=\"dataframe\">\n",
       "  <thead>\n",
       "    <tr style=\"text-align: right;\">\n",
       "      <th></th>\n",
       "      <th>trades</th>\n",
       "      <th>taxa_acerto</th>\n",
       "      <th>prazo_medio_operacao</th>\n",
       "      <th>retorno_bruto_acum</th>\n",
       "      <th>retorno_liquidi_acum</th>\n",
       "    </tr>\n",
       "    <tr>\n",
       "      <th>sorted_pair</th>\n",
       "      <th></th>\n",
       "      <th></th>\n",
       "      <th></th>\n",
       "      <th></th>\n",
       "      <th></th>\n",
       "    </tr>\n",
       "  </thead>\n",
       "  <tbody>\n",
       "    <tr>\n",
       "      <th>(ELET3, ELET6)</th>\n",
       "      <td>17</td>\n",
       "      <td>0.647059</td>\n",
       "      <td>5.294118</td>\n",
       "      <td>0.139527</td>\n",
       "      <td>-0.347181</td>\n",
       "    </tr>\n",
       "    <tr>\n",
       "      <th>(EQTL3, TAEE11)</th>\n",
       "      <td>12</td>\n",
       "      <td>0.583333</td>\n",
       "      <td>5.583333</td>\n",
       "      <td>0.216186</td>\n",
       "      <td>-0.130921</td>\n",
       "    </tr>\n",
       "    <tr>\n",
       "      <th>(CPFE3, EGIE3)</th>\n",
       "      <td>11</td>\n",
       "      <td>0.545455</td>\n",
       "      <td>7.000000</td>\n",
       "      <td>0.136290</td>\n",
       "      <td>-0.180983</td>\n",
       "    </tr>\n",
       "    <tr>\n",
       "      <th>(PETR3, PETR4)</th>\n",
       "      <td>10</td>\n",
       "      <td>0.500000</td>\n",
       "      <td>6.000000</td>\n",
       "      <td>0.059086</td>\n",
       "      <td>-0.226939</td>\n",
       "    </tr>\n",
       "    <tr>\n",
       "      <th>(GGBR4, GOAU4)</th>\n",
       "      <td>8</td>\n",
       "      <td>0.500000</td>\n",
       "      <td>5.625000</td>\n",
       "      <td>0.012063</td>\n",
       "      <td>-0.215605</td>\n",
       "    </tr>\n",
       "    <tr>\n",
       "      <th>(BBDC3, BBDC4)</th>\n",
       "      <td>6</td>\n",
       "      <td>0.833333</td>\n",
       "      <td>6.833333</td>\n",
       "      <td>0.034032</td>\n",
       "      <td>-0.137826</td>\n",
       "    </tr>\n",
       "    <tr>\n",
       "      <th>(BRML3, MULT3)</th>\n",
       "      <td>6</td>\n",
       "      <td>0.833333</td>\n",
       "      <td>6.666667</td>\n",
       "      <td>0.346330</td>\n",
       "      <td>0.165678</td>\n",
       "    </tr>\n",
       "    <tr>\n",
       "      <th>(FLRY3, QUAL3)</th>\n",
       "      <td>6</td>\n",
       "      <td>0.833333</td>\n",
       "      <td>9.166667</td>\n",
       "      <td>0.618380</td>\n",
       "      <td>0.429019</td>\n",
       "    </tr>\n",
       "    <tr>\n",
       "      <th>(GGBR4, USIM5)</th>\n",
       "      <td>6</td>\n",
       "      <td>0.500000</td>\n",
       "      <td>8.666667</td>\n",
       "      <td>0.036608</td>\n",
       "      <td>-0.135913</td>\n",
       "    </tr>\n",
       "    <tr>\n",
       "      <th>(KLBN11, SUZB3)</th>\n",
       "      <td>5</td>\n",
       "      <td>1.000000</td>\n",
       "      <td>6.200000</td>\n",
       "      <td>0.163027</td>\n",
       "      <td>0.016159</td>\n",
       "    </tr>\n",
       "    <tr>\n",
       "      <th>(GOAU4, USIM5)</th>\n",
       "      <td>5</td>\n",
       "      <td>0.400000</td>\n",
       "      <td>8.000000</td>\n",
       "      <td>-0.119148</td>\n",
       "      <td>-0.258446</td>\n",
       "    </tr>\n",
       "    <tr>\n",
       "      <th>(BBDC4, SANB11)</th>\n",
       "      <td>4</td>\n",
       "      <td>0.750000</td>\n",
       "      <td>8.500000</td>\n",
       "      <td>0.091147</td>\n",
       "      <td>-0.025741</td>\n",
       "    </tr>\n",
       "    <tr>\n",
       "      <th>(FLRY3, HAPV3)</th>\n",
       "      <td>4</td>\n",
       "      <td>0.250000</td>\n",
       "      <td>8.500000</td>\n",
       "      <td>-0.093802</td>\n",
       "      <td>-0.205408</td>\n",
       "    </tr>\n",
       "    <tr>\n",
       "      <th>(BBDC3, ITUB4)</th>\n",
       "      <td>3</td>\n",
       "      <td>0.666667</td>\n",
       "      <td>11.666667</td>\n",
       "      <td>0.018729</td>\n",
       "      <td>-0.068045</td>\n",
       "    </tr>\n",
       "    <tr>\n",
       "      <th>(CYRE3, EZTC3)</th>\n",
       "      <td>3</td>\n",
       "      <td>0.666667</td>\n",
       "      <td>7.333333</td>\n",
       "      <td>0.016298</td>\n",
       "      <td>-0.069691</td>\n",
       "    </tr>\n",
       "  </tbody>\n",
       "</table>\n",
       "</div>"
      ],
      "text/plain": [
       "                 trades  taxa_acerto  prazo_medio_operacao  \\\n",
       "sorted_pair                                                  \n",
       "(ELET3, ELET6)       17     0.647059              5.294118   \n",
       "(EQTL3, TAEE11)      12     0.583333              5.583333   \n",
       "(CPFE3, EGIE3)       11     0.545455              7.000000   \n",
       "(PETR3, PETR4)       10     0.500000              6.000000   \n",
       "(GGBR4, GOAU4)        8     0.500000              5.625000   \n",
       "(BBDC3, BBDC4)        6     0.833333              6.833333   \n",
       "(BRML3, MULT3)        6     0.833333              6.666667   \n",
       "(FLRY3, QUAL3)        6     0.833333              9.166667   \n",
       "(GGBR4, USIM5)        6     0.500000              8.666667   \n",
       "(KLBN11, SUZB3)       5     1.000000              6.200000   \n",
       "(GOAU4, USIM5)        5     0.400000              8.000000   \n",
       "(BBDC4, SANB11)       4     0.750000              8.500000   \n",
       "(FLRY3, HAPV3)        4     0.250000              8.500000   \n",
       "(BBDC3, ITUB4)        3     0.666667             11.666667   \n",
       "(CYRE3, EZTC3)        3     0.666667              7.333333   \n",
       "\n",
       "                 retorno_bruto_acum  retorno_liquidi_acum  \n",
       "sorted_pair                                                \n",
       "(ELET3, ELET6)             0.139527             -0.347181  \n",
       "(EQTL3, TAEE11)            0.216186             -0.130921  \n",
       "(CPFE3, EGIE3)             0.136290             -0.180983  \n",
       "(PETR3, PETR4)             0.059086             -0.226939  \n",
       "(GGBR4, GOAU4)             0.012063             -0.215605  \n",
       "(BBDC3, BBDC4)             0.034032             -0.137826  \n",
       "(BRML3, MULT3)             0.346330              0.165678  \n",
       "(FLRY3, QUAL3)             0.618380              0.429019  \n",
       "(GGBR4, USIM5)             0.036608             -0.135913  \n",
       "(KLBN11, SUZB3)            0.163027              0.016159  \n",
       "(GOAU4, USIM5)            -0.119148             -0.258446  \n",
       "(BBDC4, SANB11)            0.091147             -0.025741  \n",
       "(FLRY3, HAPV3)            -0.093802             -0.205408  \n",
       "(BBDC3, ITUB4)             0.018729             -0.068045  \n",
       "(CYRE3, EZTC3)             0.016298             -0.069691  "
      ]
     },
     "execution_count": 72,
     "metadata": {},
     "output_type": "execute_result"
    }
   ],
   "source": [
    "fechadas_grouped = fechadas.groupby('sorted_pair').agg(\n",
    "    trades = ('sorted_pair','count'),\n",
    "    taxa_acerto = ('e_lucro_bruto', 'mean'),\n",
    "    prazo_medio_operacao = ('days_open', 'mean'),\n",
    "    retorno_bruto_acum = ('retorno_acumulado_sem_custos', 'sum'),\n",
    "    retorno_liquidi_acum = ('retorno_acumulado', 'sum')\n",
    ")\n",
    "\n",
    "fechadas_grouped.sort_values(by=['trades', 'taxa_acerto'], ascending=False).head(15)"
   ]
  },
  {
   "cell_type": "code",
   "execution_count": null,
   "id": "e78f1cdd",
   "metadata": {},
   "outputs": [],
   "source": []
  },
  {
   "cell_type": "code",
   "execution_count": null,
   "id": "17bdf6dc",
   "metadata": {},
   "outputs": [],
   "source": []
  }
 ],
 "metadata": {
  "kernelspec": {
   "display_name": "Python 3",
   "language": "python",
   "name": "python3"
  },
  "language_info": {
   "codemirror_mode": {
    "name": "ipython",
    "version": 3
   },
   "file_extension": ".py",
   "mimetype": "text/x-python",
   "name": "python",
   "nbconvert_exporter": "python",
   "pygments_lexer": "ipython3",
   "version": "3.8.4"
  }
 },
 "nbformat": 4,
 "nbformat_minor": 5
}
