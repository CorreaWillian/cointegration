{
 "cells": [
  {
   "cell_type": "code",
   "execution_count": 1,
   "id": "24f6da11",
   "metadata": {
    "ExecuteTime": {
     "end_time": "2022-08-13T11:29:04.399416Z",
     "start_time": "2022-08-13T11:28:59.126629Z"
    }
   },
   "outputs": [],
   "source": [
    "import pandas as pd\n",
    "import numpy as np\n",
    "import seaborn as sns\n",
    "# from backtest import executer\n",
    "import matplotlib.pyplot as plt\n",
    "import plotly.express as px\n",
    "import math\n",
    "import ast\n",
    "from scipy.stats import spearmanr, kstest\n"
   ]
  },
  {
   "cell_type": "code",
   "execution_count": 2,
   "id": "5b207e23",
   "metadata": {
    "ExecuteTime": {
     "end_time": "2022-08-13T11:29:04.430212Z",
     "start_time": "2022-08-13T11:29:04.406720Z"
    }
   },
   "outputs": [],
   "source": [
    "sns.set(rc={'figure.figsize':(15,8)})"
   ]
  },
  {
   "cell_type": "code",
   "execution_count": 3,
   "id": "8421e692",
   "metadata": {
    "ExecuteTime": {
     "end_time": "2022-08-13T11:29:09.828623Z",
     "start_time": "2022-08-13T11:29:04.434295Z"
    }
   },
   "outputs": [
    {
     "name": "stderr",
     "output_type": "stream",
     "text": [
      "<ipython-input-3-a27d1f30bd85>:9: FutureWarning: Value based partial slicing on non-monotonic DatetimeIndexes with non-existing keys is deprecated and will raise a KeyError in a future Version.\n",
      "  df = df.set_index('open_date').loc['2019-01-01':].reset_index()\n"
     ]
    }
   ],
   "source": [
    "portfolio = pd.read_excel('PORTFOLIO.xlsx')\n",
    "\n",
    "df = pd.read_csv('ComVar_Quarentena.csv')\n",
    "\n",
    "\n",
    "df['date'] = pd.to_datetime(df.date)\n",
    "df['open_date'] = pd.to_datetime(df.open_date)\n",
    "\n",
    "df = df.set_index('open_date').loc['2019-01-01':].reset_index()\n",
    "\n",
    "df['days_open'] = df['days_open'].astype(float)\n",
    "df['stock1'] = [pair.split(\"'\")[1] for pair in df.pair]"
   ]
  },
  {
   "cell_type": "code",
   "execution_count": 4,
   "id": "e0c98484",
   "metadata": {
    "ExecuteTime": {
     "end_time": "2022-08-13T11:29:10.393885Z",
     "start_time": "2022-08-13T11:29:09.833624Z"
    }
   },
   "outputs": [],
   "source": [
    "df = df.merge(portfolio.drop_duplicates('ticker'), left_on='stock1', right_on='ticker',how='left')\n",
    "\n",
    "df.drop(columns=['stock1', 'ticker'], inplace=True)\n",
    "df['pair'] = df.pair.apply(ast.literal_eval)\n",
    "df['sorted_pair'] = df.pair.apply(sorted).apply(tuple)"
   ]
  },
  {
   "cell_type": "code",
   "execution_count": 5,
   "id": "df68f90e",
   "metadata": {
    "ExecuteTime": {
     "end_time": "2022-08-13T11:29:10.430527Z",
     "start_time": "2022-08-13T11:29:10.398965Z"
    }
   },
   "outputs": [],
   "source": [
    "df.drop_duplicates(subset=['date', 'sorted_pair'], keep='first',inplace=True)"
   ]
  },
  {
   "cell_type": "code",
   "execution_count": 6,
   "id": "bd10714f",
   "metadata": {
    "ExecuteTime": {
     "end_time": "2022-08-13T11:29:10.462528Z",
     "start_time": "2022-08-13T11:29:10.438531Z"
    }
   },
   "outputs": [],
   "source": [
    "df.loc[df['residual_open'] < df['std_open_residual'], 'side'] = 'lower'\n",
    "df.loc[df['residual_open'] > df['std_open_residual'], 'side'] = 'upper'"
   ]
  },
  {
   "cell_type": "code",
   "execution_count": 7,
   "id": "40f4971d",
   "metadata": {
    "ExecuteTime": {
     "end_time": "2022-08-13T11:29:35.900837Z",
     "start_time": "2022-08-13T11:29:10.469532Z"
    }
   },
   "outputs": [],
   "source": [
    "returns_list = []\n",
    "i=1\n",
    "closed = df.loc[df.status=='close']\n",
    "\n",
    "for row in closed.itertuples():\n",
    "\n",
    "    historico_par = df.loc[(df.pair==row.pair) & (df.date.between(row.open_date,row.date))].copy()\n",
    "    historico_par.set_index('date', inplace=True)\n",
    "    historico_par['id'] = i\n",
    "    \n",
    "    \n",
    "#     display(historico_par)\n",
    "#     Custo entrada: 1,22% + 0,1% = 1,31%\n",
    "#     Custo saida: 1,22% + 0,25% + 0,1% = 1,57% + Aluguel\n",
    "    \n",
    "#     display(historico_par)\n",
    "    aluguel = (1.0143)**((row.days_open+2)/252) -1\n",
    "    try:\n",
    "        if row.side == 'lower':\n",
    "            \n",
    "            historico_par['ratio_sem_custos'] = historico_par['price_fst_stock'] / historico_par['price_scnd_stock']\n",
    "            \n",
    "            historico_par.at[row.open_date, 'price_fst_stock'] = historico_par.at[row.open_date, 'price_fst_stock']\n",
    "            \n",
    "            # Entrada\n",
    "            historico_par.at[row.open_date, 'price_fst_stock'] = historico_par.loc[row.open_date, 'price_fst_stock'] * (1+0.0071)\n",
    "            historico_par.at[row.open_date, 'price_scnd_stock'] = historico_par.loc[row.open_date, 'price_scnd_stock'] * (1-0.0071)\n",
    "            \n",
    "                    \n",
    "            # Saída\n",
    "            historico_par.at[row.date, 'price_fst_stock'] = historico_par.loc[row.date, 'price_fst_stock'] * (1-0.0071)\n",
    "            historico_par.at[row.date, 'price_scnd_stock'] = historico_par.loc[row.date, 'price_scnd_stock'] * (1+(0.0071+aluguel))\n",
    "\n",
    "            historico_par['ratio'] = historico_par['price_fst_stock'] / historico_par['price_scnd_stock']\n",
    "            \n",
    "        else:\n",
    "            \n",
    "            historico_par['ratio_sem_custos'] = historico_par['price_scnd_stock'] / historico_par['price_fst_stock']\n",
    "            \n",
    "            historico_par.at[row.open_date, 'price_scnd_stock'] = historico_par.loc[row.open_date, 'price_scnd_stock']\n",
    "            # Entrada\n",
    "            historico_par.at[row.open_date, 'price_scnd_stock'] = historico_par.loc[row.open_date, 'price_scnd_stock'] * (1+0.0071)\n",
    "            historico_par.at[row.open_date, 'price_fst_stock'] = historico_par.loc[row.open_date, 'price_fst_stock'] * (1-0.0071)\n",
    "\n",
    "            # Saida\n",
    "            historico_par.at[row.date, 'price_scnd_stock'] = historico_par.loc[row.date, 'price_scnd_stock'] * (1-0.0071)\n",
    "            historico_par.at[row.date, 'price_fst_stock'] = historico_par.loc[row.date, 'price_fst_stock'] * (1+(0.0071+aluguel))\n",
    "\n",
    "            historico_par['ratio'] = historico_par['price_scnd_stock'] / historico_par['price_fst_stock']\n",
    "        \n",
    "        \n",
    "        historico_par['open_price_first_stock'] = historico_par.at[row.open_date, 'price_fst_stock']\n",
    "        historico_par['open_price_scnd_stock'] = historico_par.at[row.open_date, 'price_scnd_stock']\n",
    "        \n",
    "        historico_par['return'] = (historico_par.ratio / historico_par.ratio.shift(1)) -1\n",
    "        historico_par['retorno_acumulado'] = np.cumprod(1+historico_par['return']) -1\n",
    "        \n",
    "        historico_par['return_sem_custos'] = (historico_par.ratio_sem_custos / historico_par.ratio_sem_custos.shift(1)) -1\n",
    "        historico_par['retorno_acumulado_sem_custos'] = (np.cumprod(1+historico_par['return_sem_custos']) -1)\n",
    "        \n",
    "        returns_list.append(historico_par)\n",
    "        \n",
    "    except Exception as e:\n",
    "#         print(e)\n",
    "        pass\n",
    "    \n",
    "    i+=1"
   ]
  },
  {
   "cell_type": "code",
   "execution_count": 8,
   "id": "b491a03c",
   "metadata": {
    "ExecuteTime": {
     "end_time": "2022-08-13T11:29:35.932836Z",
     "start_time": "2022-08-13T11:29:35.904836Z"
    }
   },
   "outputs": [],
   "source": [
    "def result_calculator(row, kind='CN'):\n",
    "    \n",
    "    if kind=='CN':\n",
    "        multiplier = 1\n",
    "    if kind == 'BN':\n",
    "        multiplier = row.beta_open\n",
    "    \n",
    "    if row['residual_open'] < row['std_open_residual']:\n",
    "        long_result =(row['price_fst_stock'] / row['open_price_first_stock'])\n",
    "        short_result = (row['open_price_scnd_stock'] / row['price_scnd_stock'])\n",
    "        \n",
    "        short_result = multiplier * short_result\n",
    "        result = (long_result * short_result) - 1\n",
    "        \n",
    "        return result, 'lower'\n",
    "    \n",
    "    elif row['residual_open'] > row['std_open_residual']:\n",
    "        long_result = (row['open_price_first_stock'] / row['price_fst_stock'])\n",
    "        short_result = (row['price_scnd_stock'] / row['open_price_scnd_stock'])\n",
    "        \n",
    "        short_result = multiplier * short_result\n",
    "        result = (long_result * short_result) - 1\n",
    "\n",
    "        return result, 'upper'"
   ]
  },
  {
   "cell_type": "code",
   "execution_count": 9,
   "id": "9703159a",
   "metadata": {
    "ExecuteTime": {
     "end_time": "2022-08-13T11:29:37.086389Z",
     "start_time": "2022-08-13T11:29:35.936836Z"
    }
   },
   "outputs": [],
   "source": [
    "df_returns = pd.concat(returns_list)\n",
    "df_returns.reset_index(inplace=True)"
   ]
  },
  {
   "cell_type": "code",
   "execution_count": 10,
   "id": "780b00dd",
   "metadata": {
    "ExecuteTime": {
     "end_time": "2022-08-13T11:29:37.194416Z",
     "start_time": "2022-08-13T11:29:37.091393Z"
    }
   },
   "outputs": [],
   "source": [
    "log_retorno = np.log(1+df_returns.set_index(['date', 'pair', 'open_date','status'])[['return', 'return_sem_custos']]).fillna(0)\n",
    "retorno_acumulado =  np.exp(log_retorno.cumsum()) - 1\n",
    "retorno_acumulado.reset_index(inplace=True)"
   ]
  },
  {
   "cell_type": "code",
   "execution_count": 11,
   "id": "34eb91a1",
   "metadata": {
    "ExecuteTime": {
     "end_time": "2022-08-13T11:29:37.241776Z",
     "start_time": "2022-08-13T11:29:37.199393Z"
    }
   },
   "outputs": [
    {
     "data": {
      "text/plain": [
       "8.242048517520216"
      ]
     },
     "execution_count": 11,
     "metadata": {},
     "output_type": "execute_result"
    }
   ],
   "source": [
    "df_returns.halflife.mean()"
   ]
  },
  {
   "cell_type": "code",
   "execution_count": 12,
   "id": "89cb6add",
   "metadata": {
    "ExecuteTime": {
     "end_time": "2022-08-13T11:29:37.271491Z",
     "start_time": "2022-08-13T11:29:37.248773Z"
    }
   },
   "outputs": [],
   "source": [
    "closed = df_returns.loc[df_returns.status=='close']"
   ]
  },
  {
   "cell_type": "code",
   "execution_count": 13,
   "id": "0ef07d35",
   "metadata": {
    "ExecuteTime": {
     "end_time": "2022-08-13T11:29:37.333203Z",
     "start_time": "2022-08-13T11:29:37.277513Z"
    }
   },
   "outputs": [],
   "source": [
    "ibov = pd.read_csv('ibov.csv', usecols=[0,4], index_col=0)\n",
    "ibov.index = pd.to_datetime(ibov.index)\n",
    "ibov = ibov.loc[df_returns.date.min():df_returns.date.max()]"
   ]
  },
  {
   "cell_type": "code",
   "execution_count": 14,
   "id": "bd8eebbf",
   "metadata": {
    "ExecuteTime": {
     "end_time": "2022-08-13T11:29:37.379312Z",
     "start_time": "2022-08-13T11:29:37.344286Z"
    }
   },
   "outputs": [],
   "source": [
    "log_ret_ibov = np.log(ibov/ibov.shift())\n",
    "ibov_return = ibov/ibov.shift() -1\n",
    "ibov_retornos = ibov/ibov.shift() -1\n",
    "cumsum_ibov = np.cumsum(log_ret_ibov)\n",
    "ibov_pct = np.exp(cumsum_ibov) -1"
   ]
  },
  {
   "cell_type": "code",
   "execution_count": 15,
   "id": "b4089769",
   "metadata": {
    "ExecuteTime": {
     "end_time": "2022-08-13T11:29:37.412304Z",
     "start_time": "2022-08-13T11:29:37.385308Z"
    },
    "scrolled": false
   },
   "outputs": [],
   "source": [
    "# Retorno com custos\n",
    "acumulado_com_custos = np.cumprod(1+df_returns.groupby('date').sum()['return']) -1"
   ]
  },
  {
   "cell_type": "code",
   "execution_count": 16,
   "id": "80fe7fb8",
   "metadata": {
    "ExecuteTime": {
     "end_time": "2022-08-13T11:29:37.459309Z",
     "start_time": "2022-08-13T11:29:37.419305Z"
    }
   },
   "outputs": [],
   "source": [
    "# Resultado sem custos por dia\n",
    "acumulado_sem_custo = np.cumprod(1+df_returns.groupby('date').sum().return_sem_custos) -1\n"
   ]
  },
  {
   "cell_type": "code",
   "execution_count": 17,
   "id": "2ff94575",
   "metadata": {
    "ExecuteTime": {
     "end_time": "2022-08-13T11:29:37.728307Z",
     "start_time": "2022-08-13T11:29:37.464304Z"
    }
   },
   "outputs": [
    {
     "name": "stderr",
     "output_type": "stream",
     "text": [
      "<ipython-input-17-902cf3657bf9>:4: SettingWithCopyWarning: \n",
      "A value is trying to be set on a copy of a slice from a DataFrame.\n",
      "Try using .loc[row_indexer,col_indexer] = value instead\n",
      "\n",
      "See the caveats in the documentation: https://pandas.pydata.org/pandas-docs/stable/user_guide/indexing.html#returning-a-view-versus-a-copy\n",
      "  fechadas['e_lucro_bruto'] = fechadas['retorno_acumulado_sem_custos'] > 0\n",
      "<ipython-input-17-902cf3657bf9>:5: SettingWithCopyWarning: \n",
      "A value is trying to be set on a copy of a slice from a DataFrame.\n",
      "Try using .loc[row_indexer,col_indexer] = value instead\n",
      "\n",
      "See the caveats in the documentation: https://pandas.pydata.org/pandas-docs/stable/user_guide/indexing.html#returning-a-view-versus-a-copy\n",
      "  fechadas['e_lucro_liquido'] = fechadas['retorno_acumulado'] > 0\n"
     ]
    }
   ],
   "source": [
    "# Operações Fechadas\n",
    "fechadas = df_returns.loc[df_returns.status=='close']\n",
    "\n",
    "fechadas['e_lucro_bruto'] = fechadas['retorno_acumulado_sem_custos'] > 0\n",
    "fechadas['e_lucro_liquido'] = fechadas['retorno_acumulado'] > 0\n",
    "\n",
    "retorno_diario = df_returns.groupby('date').sum()"
   ]
  },
  {
   "cell_type": "markdown",
   "id": "fab02e65",
   "metadata": {},
   "source": [
    "# Graficos"
   ]
  },
  {
   "cell_type": "code",
   "execution_count": 18,
   "id": "e93adcb0",
   "metadata": {
    "ExecuteTime": {
     "end_time": "2022-08-13T11:29:41.230160Z",
     "start_time": "2022-08-13T11:29:37.771304Z"
    }
   },
   "outputs": [
    {
     "data": {
      "text/plain": [
       "<matplotlib.legend.Legend at 0x281f6ee1280>"
      ]
     },
     "execution_count": 18,
     "metadata": {},
     "output_type": "execute_result"
    },
    {
     "data": {
      "image/png": "[encoded data removed]",
      "text/plain": [
       "<Figure size 1080x576 with 1 Axes>"
      ]
     },
     "metadata": {},
     "output_type": "display_data"
    }
   ],
   "source": [
    "sns.lineplot(x=ibov_pct.index, y=ibov_pct.close, label='ibov')\n",
    "sns.lineplot(x=acumulado_com_custos.index, y=acumulado_com_custos, label='retorno acumulado')\n",
    "plt.ylabel('retorno')\n",
    "plt.xlabel('data')\n",
    "\n",
    "plt.legend()\n",
    "plt.legend(bbox_to_anchor=(1.01, 1), loc=2, borderaxespad=0.)\n",
    "\n",
    "# sns.lineplot(x=cumsum_result_BN.index, y=cumsum_result_BN, label='cointegration beta neutral')\n"
   ]
  },
  {
   "cell_type": "code",
   "execution_count": 19,
   "id": "676980f6",
   "metadata": {
    "ExecuteTime": {
     "end_time": "2022-08-13T11:29:44.726847Z",
     "start_time": "2022-08-13T11:29:41.236162Z"
    },
    "scrolled": false
   },
   "outputs": [
    {
     "data": {
      "text/plain": [
       "<matplotlib.legend.Legend at 0x281f714ed60>"
      ]
     },
     "execution_count": 19,
     "metadata": {},
     "output_type": "execute_result"
    },
    {
     "data": {
      "image/png": "[encoded data removed]",
      "text/plain": [
       "<Figure size 1080x576 with 1 Axes>"
      ]
     },
     "metadata": {},
     "output_type": "display_data"
    }
   ],
   "source": [
    "sns.lineplot(x=ibov_pct.index, y=ibov_pct.close, label='ibov')\n",
    "sns.lineplot(x=acumulado_sem_custo.index, y=acumulado_sem_custo, label='retorno acumulado\\nsem custos')\n",
    "plt.ylabel('retorno')\n",
    "plt.xlabel('data')\n",
    "\n",
    "plt.legend()\n",
    "plt.legend(bbox_to_anchor=(1.01, 1), loc=2, borderaxespad=0.)"
   ]
  },
  {
   "cell_type": "code",
   "execution_count": 20,
   "id": "adfb673f",
   "metadata": {
    "ExecuteTime": {
     "end_time": "2022-08-13T11:29:44.758851Z",
     "start_time": "2022-08-13T11:29:44.731850Z"
    }
   },
   "outputs": [],
   "source": [
    "retornos_diarios = pd.concat([ibov_return, retorno_diario[['return', 'return_sem_custos']]], axis=1)\n",
    "retornos_diarios.fillna(0, inplace=True)\n",
    "retornos_diarios.columns = ['ibov', 'retorno_com_custos', 'retorno_sem_custos']"
   ]
  },
  {
   "cell_type": "code",
   "execution_count": 21,
   "id": "a914e3d0",
   "metadata": {
    "ExecuteTime": {
     "end_time": "2022-08-13T11:29:44.832845Z",
     "start_time": "2022-08-13T11:29:44.762850Z"
    }
   },
   "outputs": [
    {
     "data": {
      "text/html": [
       "<div>\n",
       "<style scoped>\n",
       "    .dataframe tbody tr th:only-of-type {\n",
       "        vertical-align: middle;\n",
       "    }\n",
       "\n",
       "    .dataframe tbody tr th {\n",
       "        vertical-align: top;\n",
       "    }\n",
       "\n",
       "    .dataframe thead th {\n",
       "        text-align: right;\n",
       "    }\n",
       "</style>\n",
       "<table border=\"1\" class=\"dataframe\">\n",
       "  <thead>\n",
       "    <tr style=\"text-align: right;\">\n",
       "      <th></th>\n",
       "      <th>ibov</th>\n",
       "      <th>retorno_com_custos</th>\n",
       "      <th>retorno_sem_custos</th>\n",
       "    </tr>\n",
       "  </thead>\n",
       "  <tbody>\n",
       "    <tr>\n",
       "      <th>2019-01-02</th>\n",
       "      <td>0.000000</td>\n",
       "      <td>0.000000</td>\n",
       "      <td>0.000000</td>\n",
       "    </tr>\n",
       "    <tr>\n",
       "      <th>2019-01-03</th>\n",
       "      <td>0.006065</td>\n",
       "      <td>-0.013558</td>\n",
       "      <td>0.000550</td>\n",
       "    </tr>\n",
       "    <tr>\n",
       "      <th>2019-01-04</th>\n",
       "      <td>0.009109</td>\n",
       "      <td>-0.005673</td>\n",
       "      <td>0.008547</td>\n",
       "    </tr>\n",
       "    <tr>\n",
       "      <th>2019-01-07</th>\n",
       "      <td>0.007548</td>\n",
       "      <td>-0.030467</td>\n",
       "      <td>-0.002651</td>\n",
       "    </tr>\n",
       "    <tr>\n",
       "      <th>2019-01-08</th>\n",
       "      <td>0.011207</td>\n",
       "      <td>-0.062533</td>\n",
       "      <td>-0.021626</td>\n",
       "    </tr>\n",
       "    <tr>\n",
       "      <th>...</th>\n",
       "      <td>...</td>\n",
       "      <td>...</td>\n",
       "      <td>...</td>\n",
       "    </tr>\n",
       "    <tr>\n",
       "      <th>2022-06-20</th>\n",
       "      <td>0.097141</td>\n",
       "      <td>-0.999993</td>\n",
       "      <td>19.469733</td>\n",
       "    </tr>\n",
       "    <tr>\n",
       "      <th>2022-06-21</th>\n",
       "      <td>0.095295</td>\n",
       "      <td>-0.999993</td>\n",
       "      <td>17.590915</td>\n",
       "    </tr>\n",
       "    <tr>\n",
       "      <th>2022-06-22</th>\n",
       "      <td>0.093504</td>\n",
       "      <td>-0.999993</td>\n",
       "      <td>19.552185</td>\n",
       "    </tr>\n",
       "    <tr>\n",
       "      <th>2022-06-23</th>\n",
       "      <td>0.077660</td>\n",
       "      <td>-0.999993</td>\n",
       "      <td>20.419645</td>\n",
       "    </tr>\n",
       "    <tr>\n",
       "      <th>2022-06-24</th>\n",
       "      <td>0.084165</td>\n",
       "      <td>-0.999992</td>\n",
       "      <td>21.550508</td>\n",
       "    </tr>\n",
       "  </tbody>\n",
       "</table>\n",
       "<p>864 rows × 3 columns</p>\n",
       "</div>"
      ],
      "text/plain": [
       "                ibov  retorno_com_custos  retorno_sem_custos\n",
       "2019-01-02  0.000000            0.000000            0.000000\n",
       "2019-01-03  0.006065           -0.013558            0.000550\n",
       "2019-01-04  0.009109           -0.005673            0.008547\n",
       "2019-01-07  0.007548           -0.030467           -0.002651\n",
       "2019-01-08  0.011207           -0.062533           -0.021626\n",
       "...              ...                 ...                 ...\n",
       "2022-06-20  0.097141           -0.999993           19.469733\n",
       "2022-06-21  0.095295           -0.999993           17.590915\n",
       "2022-06-22  0.093504           -0.999993           19.552185\n",
       "2022-06-23  0.077660           -0.999993           20.419645\n",
       "2022-06-24  0.084165           -0.999992           21.550508\n",
       "\n",
       "[864 rows x 3 columns]"
      ]
     },
     "execution_count": 21,
     "metadata": {},
     "output_type": "execute_result"
    }
   ],
   "source": [
    "log_retornos = np.log(1+retornos_diarios)\n",
    "retornos_acumulados = np.exp(log_retornos.cumsum()) -1\n",
    "retornos_acumulados"
   ]
  },
  {
   "cell_type": "markdown",
   "id": "485bf089",
   "metadata": {},
   "source": [
    "# Descritivas"
   ]
  },
  {
   "cell_type": "code",
   "execution_count": 22,
   "id": "4670ff51",
   "metadata": {
    "ExecuteTime": {
     "end_time": "2022-08-13T11:29:44.918852Z",
     "start_time": "2022-08-13T11:29:44.837866Z"
    }
   },
   "outputs": [
    {
     "data": {
      "text/html": [
       "<div>\n",
       "<style scoped>\n",
       "    .dataframe tbody tr th:only-of-type {\n",
       "        vertical-align: middle;\n",
       "    }\n",
       "\n",
       "    .dataframe tbody tr th {\n",
       "        vertical-align: top;\n",
       "    }\n",
       "\n",
       "    .dataframe thead th {\n",
       "        text-align: right;\n",
       "    }\n",
       "</style>\n",
       "<table border=\"1\" class=\"dataframe\">\n",
       "  <thead>\n",
       "    <tr style=\"text-align: right;\">\n",
       "      <th></th>\n",
       "      <th>ibov</th>\n",
       "      <th>retorno_com_custos</th>\n",
       "      <th>retorno_sem_custos</th>\n",
       "    </tr>\n",
       "  </thead>\n",
       "  <tbody>\n",
       "    <tr>\n",
       "      <th>count</th>\n",
       "      <td>864.000000</td>\n",
       "      <td>864.000000</td>\n",
       "      <td>864.000000</td>\n",
       "    </tr>\n",
       "    <tr>\n",
       "      <th>mean</th>\n",
       "      <td>0.000262</td>\n",
       "      <td>-0.011294</td>\n",
       "      <td>0.005727</td>\n",
       "    </tr>\n",
       "    <tr>\n",
       "      <th>std</th>\n",
       "      <td>0.018215</td>\n",
       "      <td>0.065423</td>\n",
       "      <td>0.065236</td>\n",
       "    </tr>\n",
       "    <tr>\n",
       "      <th>min</th>\n",
       "      <td>-0.147797</td>\n",
       "      <td>-0.421534</td>\n",
       "      <td>-0.384249</td>\n",
       "    </tr>\n",
       "    <tr>\n",
       "      <th>25%</th>\n",
       "      <td>-0.007783</td>\n",
       "      <td>-0.037183</td>\n",
       "      <td>-0.020936</td>\n",
       "    </tr>\n",
       "    <tr>\n",
       "      <th>50%</th>\n",
       "      <td>0.000817</td>\n",
       "      <td>-0.007375</td>\n",
       "      <td>0.000000</td>\n",
       "    </tr>\n",
       "    <tr>\n",
       "      <th>75%</th>\n",
       "      <td>0.009629</td>\n",
       "      <td>0.013808</td>\n",
       "      <td>0.024935</td>\n",
       "    </tr>\n",
       "    <tr>\n",
       "      <th>max</th>\n",
       "      <td>0.139082</td>\n",
       "      <td>0.363511</td>\n",
       "      <td>0.408877</td>\n",
       "    </tr>\n",
       "  </tbody>\n",
       "</table>\n",
       "</div>"
      ],
      "text/plain": [
       "             ibov  retorno_com_custos  retorno_sem_custos\n",
       "count  864.000000          864.000000          864.000000\n",
       "mean     0.000262           -0.011294            0.005727\n",
       "std      0.018215            0.065423            0.065236\n",
       "min     -0.147797           -0.421534           -0.384249\n",
       "25%     -0.007783           -0.037183           -0.020936\n",
       "50%      0.000817           -0.007375            0.000000\n",
       "75%      0.009629            0.013808            0.024935\n",
       "max      0.139082            0.363511            0.408877"
      ]
     },
     "execution_count": 22,
     "metadata": {},
     "output_type": "execute_result"
    }
   ],
   "source": [
    "retornos_diarios.describe()"
   ]
  },
  {
   "cell_type": "code",
   "execution_count": 23,
   "id": "1ba5e993",
   "metadata": {
    "ExecuteTime": {
     "end_time": "2022-08-13T11:29:44.950849Z",
     "start_time": "2022-08-13T11:29:44.923851Z"
    }
   },
   "outputs": [
    {
     "name": "stdout",
     "output_type": "stream",
     "text": [
      "Correlação de Spearman Resutado líquido: 0.109\n"
     ]
    }
   ],
   "source": [
    "coeficiente_liquido, p_valor = spearmanr(retornos_diarios[['ibov', 'retorno_com_custos']])\n",
    "print('Correlação de Spearman Resutado líquido: {:0.3}'.format(coeficiente_liquido))"
   ]
  },
  {
   "cell_type": "code",
   "execution_count": 24,
   "id": "99b48d50",
   "metadata": {
    "ExecuteTime": {
     "end_time": "2022-08-13T11:29:44.980850Z",
     "start_time": "2022-08-13T11:29:44.955852Z"
    }
   },
   "outputs": [
    {
     "name": "stdout",
     "output_type": "stream",
     "text": [
      "Correlação de Spearman Resutado bruto: 0.113\n"
     ]
    }
   ],
   "source": [
    "coeficiente_bruto, p_valor = spearmanr(retornos_diarios[['ibov', 'retorno_sem_custos']])\n",
    "print('Correlação de Spearman Resutado bruto: {:0.3}'.format(coeficiente_bruto))"
   ]
  },
  {
   "cell_type": "code",
   "execution_count": 25,
   "id": "beaa7d7d",
   "metadata": {
    "ExecuteTime": {
     "end_time": "2022-08-13T11:29:45.013856Z",
     "start_time": "2022-08-13T11:29:44.984852Z"
    }
   },
   "outputs": [
    {
     "data": {
      "text/plain": [
       "KstestResult(statistic=0.43113665549787816, pvalue=1.9646877390058218e-146)"
      ]
     },
     "execution_count": 25,
     "metadata": {},
     "output_type": "execute_result"
    }
   ],
   "source": [
    "# TESTE NORMALIDADE\n",
    "#perform Kolmogorov-Smirnov test\n",
    "kstest(retornos_diarios.retorno_sem_custos, 'norm')"
   ]
  },
  {
   "cell_type": "code",
   "execution_count": 26,
   "id": "c1414e53",
   "metadata": {
    "ExecuteTime": {
     "end_time": "2022-08-13T11:29:45.052532Z",
     "start_time": "2022-08-13T11:29:45.020855Z"
    }
   },
   "outputs": [
    {
     "data": {
      "text/plain": [
       "KstestResult(statistic=0.42665831270588983, pvalue=2.847798568091724e-143)"
      ]
     },
     "execution_count": 26,
     "metadata": {},
     "output_type": "execute_result"
    }
   ],
   "source": [
    "# TESTE NORMALIDADE\n",
    "#perform Kolmogorov-Smirnov test\n",
    "kstest(retornos_diarios.retorno_com_custos, 'norm')"
   ]
  },
  {
   "cell_type": "code",
   "execution_count": 27,
   "id": "eede319a",
   "metadata": {
    "ExecuteTime": {
     "end_time": "2022-08-13T11:29:45.118925Z",
     "start_time": "2022-08-13T11:29:45.057698Z"
    }
   },
   "outputs": [
    {
     "data": {
      "text/plain": [
       "count    3199.000000\n",
       "mean       -0.003050\n",
       "std         0.027318\n",
       "min        -0.242895\n",
       "25%        -0.015432\n",
       "50%        -0.002869\n",
       "75%         0.009401\n",
       "max         0.238407\n",
       "Name: return, dtype: float64"
      ]
     },
     "execution_count": 27,
     "metadata": {},
     "output_type": "execute_result"
    }
   ],
   "source": [
    "df_returns['return'].describe()"
   ]
  },
  {
   "cell_type": "code",
   "execution_count": 28,
   "id": "37542eb2",
   "metadata": {
    "ExecuteTime": {
     "end_time": "2022-08-13T11:29:45.181645Z",
     "start_time": "2022-08-13T11:29:45.131923Z"
    }
   },
   "outputs": [
    {
     "data": {
      "text/plain": [
       "count    3199.000000\n",
       "mean        0.001547\n",
       "std         0.027186\n",
       "min        -0.242895\n",
       "25%        -0.011080\n",
       "50%         0.000724\n",
       "75%         0.012757\n",
       "max         0.256469\n",
       "Name: return_sem_custos, dtype: float64"
      ]
     },
     "execution_count": 28,
     "metadata": {},
     "output_type": "execute_result"
    }
   ],
   "source": [
    "df_returns['return_sem_custos'].describe()"
   ]
  },
  {
   "cell_type": "markdown",
   "id": "c9d35e24",
   "metadata": {
    "ExecuteTime": {
     "end_time": "2022-08-12T03:45:46.655213Z",
     "start_time": "2022-08-12T03:45:46.631172Z"
    }
   },
   "source": [
    "# Eficacia"
   ]
  },
  {
   "cell_type": "code",
   "execution_count": 29,
   "id": "3ae4074a",
   "metadata": {
    "ExecuteTime": {
     "end_time": "2022-08-13T11:29:45.377799Z",
     "start_time": "2022-08-13T11:29:45.186643Z"
    },
    "scrolled": true
   },
   "outputs": [
    {
     "data": {
      "text/html": [
       "<div>\n",
       "<style scoped>\n",
       "    .dataframe tbody tr th:only-of-type {\n",
       "        vertical-align: middle;\n",
       "    }\n",
       "\n",
       "    .dataframe tbody tr th {\n",
       "        vertical-align: top;\n",
       "    }\n",
       "\n",
       "    .dataframe thead th {\n",
       "        text-align: right;\n",
       "    }\n",
       "</style>\n",
       "<table border=\"1\" class=\"dataframe\">\n",
       "  <thead>\n",
       "    <tr style=\"text-align: right;\">\n",
       "      <th></th>\n",
       "      <th>num_operacoes</th>\n",
       "      <th>taxa_acerto</th>\n",
       "      <th>tempo_medio_operacao</th>\n",
       "    </tr>\n",
       "    <tr>\n",
       "      <th>open_date</th>\n",
       "      <th></th>\n",
       "      <th></th>\n",
       "      <th></th>\n",
       "    </tr>\n",
       "  </thead>\n",
       "  <tbody>\n",
       "    <tr>\n",
       "      <th>2019-01-31</th>\n",
       "      <td>18</td>\n",
       "      <td>0.611111</td>\n",
       "      <td>5.833333</td>\n",
       "    </tr>\n",
       "    <tr>\n",
       "      <th>2019-07-31</th>\n",
       "      <td>105</td>\n",
       "      <td>0.647619</td>\n",
       "      <td>7.447619</td>\n",
       "    </tr>\n",
       "    <tr>\n",
       "      <th>2020-01-31</th>\n",
       "      <td>54</td>\n",
       "      <td>0.537037</td>\n",
       "      <td>6.333333</td>\n",
       "    </tr>\n",
       "    <tr>\n",
       "      <th>2020-07-31</th>\n",
       "      <td>96</td>\n",
       "      <td>0.552083</td>\n",
       "      <td>5.104167</td>\n",
       "    </tr>\n",
       "    <tr>\n",
       "      <th>2021-01-31</th>\n",
       "      <td>58</td>\n",
       "      <td>0.603448</td>\n",
       "      <td>6.482759</td>\n",
       "    </tr>\n",
       "    <tr>\n",
       "      <th>2021-07-31</th>\n",
       "      <td>46</td>\n",
       "      <td>0.543478</td>\n",
       "      <td>6.782609</td>\n",
       "    </tr>\n",
       "    <tr>\n",
       "      <th>2022-01-31</th>\n",
       "      <td>49</td>\n",
       "      <td>0.510204</td>\n",
       "      <td>5.857143</td>\n",
       "    </tr>\n",
       "    <tr>\n",
       "      <th>2022-07-31</th>\n",
       "      <td>85</td>\n",
       "      <td>0.564706</td>\n",
       "      <td>6.094118</td>\n",
       "    </tr>\n",
       "  </tbody>\n",
       "</table>\n",
       "</div>"
      ],
      "text/plain": [
       "            num_operacoes  taxa_acerto  tempo_medio_operacao\n",
       "open_date                                                   \n",
       "2019-01-31             18     0.611111              5.833333\n",
       "2019-07-31            105     0.647619              7.447619\n",
       "2020-01-31             54     0.537037              6.333333\n",
       "2020-07-31             96     0.552083              5.104167\n",
       "2021-01-31             58     0.603448              6.482759\n",
       "2021-07-31             46     0.543478              6.782609\n",
       "2022-01-31             49     0.510204              5.857143\n",
       "2022-07-31             85     0.564706              6.094118"
      ]
     },
     "execution_count": 29,
     "metadata": {},
     "output_type": "execute_result"
    }
   ],
   "source": [
    "eficacia = fechadas.set_index('open_date').resample('6M').agg(\n",
    "    num_operacoes = ('pair', 'count'),\n",
    "    taxa_acerto = ('e_lucro_bruto', 'mean'),\n",
    "    tempo_medio_operacao = ('days_open', 'mean')\n",
    ")\n",
    "\n",
    "eficacia"
   ]
  },
  {
   "cell_type": "markdown",
   "id": "3c2bac50",
   "metadata": {},
   "source": [
    "# Desempenho"
   ]
  },
  {
   "cell_type": "code",
   "execution_count": 30,
   "id": "6e6b8fe8",
   "metadata": {
    "ExecuteTime": {
     "end_time": "2022-08-13T11:29:45.425457Z",
     "start_time": "2022-08-13T11:29:45.392804Z"
    }
   },
   "outputs": [
    {
     "data": {
      "text/plain": [
       "0.2930617527924815"
      ]
     },
     "execution_count": 30,
     "metadata": {},
     "output_type": "execute_result"
    }
   ],
   "source": [
    "vol_ibov = log_ret_ibov.close.std() * math.sqrt(252)\n",
    "vol_ibov"
   ]
  },
  {
   "cell_type": "code",
   "execution_count": 31,
   "id": "0017ec3b",
   "metadata": {
    "ExecuteTime": {
     "end_time": "2022-08-13T11:29:45.456487Z",
     "start_time": "2022-08-13T11:29:45.429462Z"
    }
   },
   "outputs": [
    {
     "data": {
      "text/plain": [
       "1.1089793673992767"
      ]
     },
     "execution_count": 31,
     "metadata": {},
     "output_type": "execute_result"
    }
   ],
   "source": [
    "log_return = np.log(1+retorno_diario['return'])\n",
    "vol_return = log_return.std() * math.sqrt(252)\n",
    "vol_return"
   ]
  },
  {
   "cell_type": "code",
   "execution_count": 32,
   "id": "a03c8f87",
   "metadata": {
    "ExecuteTime": {
     "end_time": "2022-08-13T11:29:45.505859Z",
     "start_time": "2022-08-13T11:29:45.461464Z"
    }
   },
   "outputs": [
    {
     "data": {
      "text/plain": [
       "1.060952360197953"
      ]
     },
     "execution_count": 32,
     "metadata": {},
     "output_type": "execute_result"
    }
   ],
   "source": [
    "log_return_sem_custo = np.log(1+retorno_diario['return_sem_custos'])\n",
    "vol_return_sem_custo = log_return_sem_custo.std() * math.sqrt(252)\n",
    "vol_return_sem_custo"
   ]
  },
  {
   "cell_type": "code",
   "execution_count": 33,
   "id": "b81e302f",
   "metadata": {
    "ExecuteTime": {
     "end_time": "2022-08-13T11:29:45.569537Z",
     "start_time": "2022-08-13T11:29:45.510851Z"
    }
   },
   "outputs": [
    {
     "data": {
      "text/html": [
       "<div>\n",
       "<style scoped>\n",
       "    .dataframe tbody tr th:only-of-type {\n",
       "        vertical-align: middle;\n",
       "    }\n",
       "\n",
       "    .dataframe tbody tr th {\n",
       "        vertical-align: top;\n",
       "    }\n",
       "\n",
       "    .dataframe thead th {\n",
       "        text-align: right;\n",
       "    }\n",
       "</style>\n",
       "<table border=\"1\" class=\"dataframe\">\n",
       "  <thead>\n",
       "    <tr style=\"text-align: right;\">\n",
       "      <th></th>\n",
       "      <th>retorno_acumulado_bruto</th>\n",
       "      <th>taxa_acerto</th>\n",
       "      <th>retorno_acumulado_liquido</th>\n",
       "      <th>desvio_padrao</th>\n",
       "      <th>sharpe</th>\n",
       "      <th>correlacao_ibov</th>\n",
       "    </tr>\n",
       "  </thead>\n",
       "  <tbody>\n",
       "    <tr>\n",
       "      <th>0</th>\n",
       "      <td>42.536727</td>\n",
       "      <td>0.575342</td>\n",
       "      <td>-0.999983</td>\n",
       "      <td>1.108979</td>\n",
       "      <td>-0.901715</td>\n",
       "      <td>0.109324</td>\n",
       "    </tr>\n",
       "  </tbody>\n",
       "</table>\n",
       "</div>"
      ],
      "text/plain": [
       "   retorno_acumulado_bruto  taxa_acerto  retorno_acumulado_liquido  \\\n",
       "0                42.536727     0.575342                  -0.999983   \n",
       "\n",
       "   desvio_padrao    sharpe  correlacao_ibov  \n",
       "0       1.108979 -0.901715         0.109324  "
      ]
     },
     "execution_count": 33,
     "metadata": {},
     "output_type": "execute_result"
    }
   ],
   "source": [
    "retorno_acumulado_bruto = retorno_acumulado['return_sem_custos'].iloc[-1]\n",
    "taxa_acerto = fechadas['e_lucro_bruto'].mean()\n",
    "retorno_acumulado_liquido = retorno_acumulado['return'].iloc[-1]\n",
    "\n",
    "desempenho = pd.DataFrame([{\n",
    "    'retorno_acumulado_bruto':retorno_acumulado_bruto,\n",
    "    'taxa_acerto': taxa_acerto,\n",
    "    'retorno_acumulado_liquido': retorno_acumulado_liquido,\n",
    "    'desvio_padrao': vol_return,\n",
    "    'sharpe': retorno_acumulado_liquido/vol_return,\n",
    "    'correlacao_ibov': coeficiente_liquido\n",
    "    }])\n",
    "\n",
    "desempenho"
   ]
  },
  {
   "cell_type": "code",
   "execution_count": 34,
   "id": "352f323f",
   "metadata": {
    "ExecuteTime": {
     "end_time": "2022-08-13T11:29:45.736512Z",
     "start_time": "2022-08-13T11:29:45.577545Z"
    }
   },
   "outputs": [
    {
     "data": {
      "text/html": [
       "<div>\n",
       "<style scoped>\n",
       "    .dataframe tbody tr th:only-of-type {\n",
       "        vertical-align: middle;\n",
       "    }\n",
       "\n",
       "    .dataframe tbody tr th {\n",
       "        vertical-align: top;\n",
       "    }\n",
       "\n",
       "    .dataframe thead th {\n",
       "        text-align: right;\n",
       "    }\n",
       "</style>\n",
       "<table border=\"1\" class=\"dataframe\">\n",
       "  <thead>\n",
       "    <tr style=\"text-align: right;\">\n",
       "      <th></th>\n",
       "      <th>price_fst_stock</th>\n",
       "      <th>price_scnd_stock</th>\n",
       "      <th>beta_open</th>\n",
       "      <th>last_residual</th>\n",
       "      <th>std_residual</th>\n",
       "      <th>std_open_residual</th>\n",
       "      <th>residual_open</th>\n",
       "      <th>open_price_first_stock</th>\n",
       "      <th>open_price_scnd_stock</th>\n",
       "      <th>close_limit</th>\n",
       "      <th>...</th>\n",
       "      <th>var_limit</th>\n",
       "      <th>id</th>\n",
       "      <th>ratio_sem_custos</th>\n",
       "      <th>ratio</th>\n",
       "      <th>return</th>\n",
       "      <th>retorno_acumulado</th>\n",
       "      <th>return_sem_custos</th>\n",
       "      <th>retorno_acumulado_sem_custos</th>\n",
       "      <th>e_lucro_bruto</th>\n",
       "      <th>e_lucro_liquido</th>\n",
       "    </tr>\n",
       "    <tr>\n",
       "      <th>setor</th>\n",
       "      <th></th>\n",
       "      <th></th>\n",
       "      <th></th>\n",
       "      <th></th>\n",
       "      <th></th>\n",
       "      <th></th>\n",
       "      <th></th>\n",
       "      <th></th>\n",
       "      <th></th>\n",
       "      <th></th>\n",
       "      <th></th>\n",
       "      <th></th>\n",
       "      <th></th>\n",
       "      <th></th>\n",
       "      <th></th>\n",
       "      <th></th>\n",
       "      <th></th>\n",
       "      <th></th>\n",
       "      <th></th>\n",
       "      <th></th>\n",
       "      <th></th>\n",
       "    </tr>\n",
       "  </thead>\n",
       "  <tbody>\n",
       "    <tr>\n",
       "      <th>Alimentos e Bebidas</th>\n",
       "      <td>131.255904</td>\n",
       "      <td>143.264297</td>\n",
       "      <td>8.492752</td>\n",
       "      <td>-20.571493</td>\n",
       "      <td>12.689605</td>\n",
       "      <td>11.869967</td>\n",
       "      <td>-9.362041</td>\n",
       "      <td>145.632609</td>\n",
       "      <td>142.731268</td>\n",
       "      <td>5.934984</td>\n",
       "      <td>...</td>\n",
       "      <td>-0.321289</td>\n",
       "      <td>1726</td>\n",
       "      <td>6.409265</td>\n",
       "      <td>6.315459</td>\n",
       "      <td>-0.126516</td>\n",
       "      <td>-0.214901</td>\n",
       "      <td>-0.024267</td>\n",
       "      <td>-0.015499</td>\n",
       "      <td>4</td>\n",
       "      <td>4</td>\n",
       "    </tr>\n",
       "    <tr>\n",
       "      <th>Aéreas</th>\n",
       "      <td>299.045422</td>\n",
       "      <td>242.515998</td>\n",
       "      <td>6.144519</td>\n",
       "      <td>12.849180</td>\n",
       "      <td>10.316754</td>\n",
       "      <td>9.808664</td>\n",
       "      <td>4.158747</td>\n",
       "      <td>285.478683</td>\n",
       "      <td>239.342602</td>\n",
       "      <td>4.904332</td>\n",
       "      <td>...</td>\n",
       "      <td>-0.252653</td>\n",
       "      <td>1243</td>\n",
       "      <td>5.370313</td>\n",
       "      <td>5.292343</td>\n",
       "      <td>-0.235963</td>\n",
       "      <td>-0.275014</td>\n",
       "      <td>-0.122677</td>\n",
       "      <td>-0.078325</td>\n",
       "      <td>3</td>\n",
       "      <td>1</td>\n",
       "    </tr>\n",
       "    <tr>\n",
       "      <th>Bens Industriais</th>\n",
       "      <td>187.352925</td>\n",
       "      <td>238.228624</td>\n",
       "      <td>12.551664</td>\n",
       "      <td>-13.732893</td>\n",
       "      <td>11.949103</td>\n",
       "      <td>11.330290</td>\n",
       "      <td>-11.829228</td>\n",
       "      <td>192.914771</td>\n",
       "      <td>238.224549</td>\n",
       "      <td>5.665145</td>\n",
       "      <td>...</td>\n",
       "      <td>-0.468209</td>\n",
       "      <td>3510</td>\n",
       "      <td>12.065101</td>\n",
       "      <td>11.889982</td>\n",
       "      <td>-0.105863</td>\n",
       "      <td>-0.366533</td>\n",
       "      <td>0.154392</td>\n",
       "      <td>0.031960</td>\n",
       "      <td>7</td>\n",
       "      <td>5</td>\n",
       "    </tr>\n",
       "    <tr>\n",
       "      <th>Construção Civil</th>\n",
       "      <td>89.509067</td>\n",
       "      <td>91.291879</td>\n",
       "      <td>4.285753</td>\n",
       "      <td>-8.183164</td>\n",
       "      <td>5.478434</td>\n",
       "      <td>5.903019</td>\n",
       "      <td>-7.656836</td>\n",
       "      <td>95.157020</td>\n",
       "      <td>92.279955</td>\n",
       "      <td>2.951510</td>\n",
       "      <td>...</td>\n",
       "      <td>-0.134128</td>\n",
       "      <td>2125</td>\n",
       "      <td>5.555072</td>\n",
       "      <td>5.472135</td>\n",
       "      <td>-0.047656</td>\n",
       "      <td>-0.240560</td>\n",
       "      <td>0.027261</td>\n",
       "      <td>-0.099514</td>\n",
       "      <td>2</td>\n",
       "      <td>0</td>\n",
       "    </tr>\n",
       "    <tr>\n",
       "      <th>Educação</th>\n",
       "      <td>4.876085</td>\n",
       "      <td>36.588365</td>\n",
       "      <td>0.322578</td>\n",
       "      <td>0.701090</td>\n",
       "      <td>0.382567</td>\n",
       "      <td>0.386486</td>\n",
       "      <td>0.952488</td>\n",
       "      <td>4.964500</td>\n",
       "      <td>36.728937</td>\n",
       "      <td>0.193243</td>\n",
       "      <td>...</td>\n",
       "      <td>-0.070895</td>\n",
       "      <td>933</td>\n",
       "      <td>15.306529</td>\n",
       "      <td>15.085771</td>\n",
       "      <td>0.083837</td>\n",
       "      <td>0.042069</td>\n",
       "      <td>0.130009</td>\n",
       "      <td>0.101582</td>\n",
       "      <td>1</td>\n",
       "      <td>1</td>\n",
       "    </tr>\n",
       "    <tr>\n",
       "      <th>Exploração de imóveis</th>\n",
       "      <td>132.939284</td>\n",
       "      <td>193.094945</td>\n",
       "      <td>6.728059</td>\n",
       "      <td>-3.967373</td>\n",
       "      <td>3.587894</td>\n",
       "      <td>3.540050</td>\n",
       "      <td>1.811562</td>\n",
       "      <td>136.836492</td>\n",
       "      <td>189.847972</td>\n",
       "      <td>1.770025</td>\n",
       "      <td>...</td>\n",
       "      <td>-0.183916</td>\n",
       "      <td>1560</td>\n",
       "      <td>7.107946</td>\n",
       "      <td>7.004947</td>\n",
       "      <td>-0.189732</td>\n",
       "      <td>0.009525</td>\n",
       "      <td>-0.032841</td>\n",
       "      <td>0.272662</td>\n",
       "      <td>6</td>\n",
       "      <td>3</td>\n",
       "    </tr>\n",
       "    <tr>\n",
       "      <th>Financeiro</th>\n",
       "      <td>3722.426356</td>\n",
       "      <td>4069.308673</td>\n",
       "      <td>291.120100</td>\n",
       "      <td>-80.543964</td>\n",
       "      <td>202.349127</td>\n",
       "      <td>196.153059</td>\n",
       "      <td>-73.178299</td>\n",
       "      <td>3723.298642</td>\n",
       "      <td>4075.767034</td>\n",
       "      <td>98.076529</td>\n",
       "      <td>...</td>\n",
       "      <td>-7.048828</td>\n",
       "      <td>44986</td>\n",
       "      <td>279.642182</td>\n",
       "      <td>275.570349</td>\n",
       "      <td>-2.231560</td>\n",
       "      <td>-3.238804</td>\n",
       "      <td>0.857579</td>\n",
       "      <td>2.406461</td>\n",
       "      <td>111</td>\n",
       "      <td>59</td>\n",
       "    </tr>\n",
       "    <tr>\n",
       "      <th>Mineração e Siderurgia</th>\n",
       "      <td>757.972967</td>\n",
       "      <td>535.336111</td>\n",
       "      <td>49.066440</td>\n",
       "      <td>10.946304</td>\n",
       "      <td>27.124212</td>\n",
       "      <td>25.810710</td>\n",
       "      <td>18.120735</td>\n",
       "      <td>746.133853</td>\n",
       "      <td>531.172364</td>\n",
       "      <td>12.905355</td>\n",
       "      <td>...</td>\n",
       "      <td>-1.036107</td>\n",
       "      <td>11395</td>\n",
       "      <td>36.998375</td>\n",
       "      <td>36.461605</td>\n",
       "      <td>-0.499734</td>\n",
       "      <td>-1.277081</td>\n",
       "      <td>0.109489</td>\n",
       "      <td>-0.292116</td>\n",
       "      <td>17</td>\n",
       "      <td>8</td>\n",
       "    </tr>\n",
       "    <tr>\n",
       "      <th>Papel e Celulose</th>\n",
       "      <td>159.645238</td>\n",
       "      <td>293.512194</td>\n",
       "      <td>3.012716</td>\n",
       "      <td>-1.694049</td>\n",
       "      <td>5.431925</td>\n",
       "      <td>5.596192</td>\n",
       "      <td>0.238764</td>\n",
       "      <td>163.715730</td>\n",
       "      <td>298.236508</td>\n",
       "      <td>2.798096</td>\n",
       "      <td>...</td>\n",
       "      <td>-0.153175</td>\n",
       "      <td>2660</td>\n",
       "      <td>4.507928</td>\n",
       "      <td>4.442636</td>\n",
       "      <td>-0.008994</td>\n",
       "      <td>0.069957</td>\n",
       "      <td>0.079289</td>\n",
       "      <td>0.247486</td>\n",
       "      <td>6</td>\n",
       "      <td>4</td>\n",
       "    </tr>\n",
       "    <tr>\n",
       "      <th>Petroleo, gás e biocombustíveis</th>\n",
       "      <td>471.717192</td>\n",
       "      <td>450.259925</td>\n",
       "      <td>22.429308</td>\n",
       "      <td>-1.910289</td>\n",
       "      <td>13.344575</td>\n",
       "      <td>12.938056</td>\n",
       "      <td>0.022819</td>\n",
       "      <td>485.805306</td>\n",
       "      <td>457.821620</td>\n",
       "      <td>6.469028</td>\n",
       "      <td>...</td>\n",
       "      <td>-0.474689</td>\n",
       "      <td>7509</td>\n",
       "      <td>22.863286</td>\n",
       "      <td>22.530738</td>\n",
       "      <td>0.023001</td>\n",
       "      <td>-0.516011</td>\n",
       "      <td>0.391129</td>\n",
       "      <td>0.113055</td>\n",
       "      <td>15</td>\n",
       "      <td>3</td>\n",
       "    </tr>\n",
       "    <tr>\n",
       "      <th>Saúde</th>\n",
       "      <td>840.048894</td>\n",
       "      <td>891.669813</td>\n",
       "      <td>32.575210</td>\n",
       "      <td>-30.749580</td>\n",
       "      <td>46.183897</td>\n",
       "      <td>44.750067</td>\n",
       "      <td>-46.935980</td>\n",
       "      <td>850.208775</td>\n",
       "      <td>886.095224</td>\n",
       "      <td>22.375034</td>\n",
       "      <td>...</td>\n",
       "      <td>-1.551935</td>\n",
       "      <td>15098</td>\n",
       "      <td>36.785527</td>\n",
       "      <td>36.251820</td>\n",
       "      <td>-0.357073</td>\n",
       "      <td>-0.790833</td>\n",
       "      <td>0.226547</td>\n",
       "      <td>0.355432</td>\n",
       "      <td>23</td>\n",
       "      <td>17</td>\n",
       "    </tr>\n",
       "    <tr>\n",
       "      <th>Telecomunicações</th>\n",
       "      <td>129.829068</td>\n",
       "      <td>127.057538</td>\n",
       "      <td>9.060746</td>\n",
       "      <td>3.780645</td>\n",
       "      <td>3.886379</td>\n",
       "      <td>3.971771</td>\n",
       "      <td>7.027790</td>\n",
       "      <td>126.624167</td>\n",
       "      <td>126.124469</td>\n",
       "      <td>1.985885</td>\n",
       "      <td>...</td>\n",
       "      <td>-0.075544</td>\n",
       "      <td>2110</td>\n",
       "      <td>4.454182</td>\n",
       "      <td>4.389671</td>\n",
       "      <td>-0.026856</td>\n",
       "      <td>-0.011143</td>\n",
       "      <td>0.032223</td>\n",
       "      <td>0.106057</td>\n",
       "      <td>4</td>\n",
       "      <td>2</td>\n",
       "    </tr>\n",
       "    <tr>\n",
       "      <th>Utilidade Pública</th>\n",
       "      <td>3790.560134</td>\n",
       "      <td>3581.424023</td>\n",
       "      <td>174.260800</td>\n",
       "      <td>0.872138</td>\n",
       "      <td>148.420154</td>\n",
       "      <td>142.991095</td>\n",
       "      <td>34.263427</td>\n",
       "      <td>3828.899773</td>\n",
       "      <td>3592.249990</td>\n",
       "      <td>71.495548</td>\n",
       "      <td>...</td>\n",
       "      <td>-4.221706</td>\n",
       "      <td>38968</td>\n",
       "      <td>182.072355</td>\n",
       "      <td>179.421432</td>\n",
       "      <td>-0.773286</td>\n",
       "      <td>-2.597761</td>\n",
       "      <td>1.238952</td>\n",
       "      <td>1.222641</td>\n",
       "      <td>77</td>\n",
       "      <td>37</td>\n",
       "    </tr>\n",
       "    <tr>\n",
       "      <th>Varejo</th>\n",
       "      <td>947.910527</td>\n",
       "      <td>829.263957</td>\n",
       "      <td>51.103676</td>\n",
       "      <td>-83.228969</td>\n",
       "      <td>72.846982</td>\n",
       "      <td>70.648614</td>\n",
       "      <td>-59.407541</td>\n",
       "      <td>928.586170</td>\n",
       "      <td>816.956030</td>\n",
       "      <td>35.324307</td>\n",
       "      <td>...</td>\n",
       "      <td>-1.520663</td>\n",
       "      <td>13596</td>\n",
       "      <td>46.173956</td>\n",
       "      <td>45.499333</td>\n",
       "      <td>-0.354977</td>\n",
       "      <td>-0.304449</td>\n",
       "      <td>0.126965</td>\n",
       "      <td>0.595977</td>\n",
       "      <td>18</td>\n",
       "      <td>16</td>\n",
       "    </tr>\n",
       "  </tbody>\n",
       "</table>\n",
       "<p>14 rows × 25 columns</p>\n",
       "</div>"
      ],
      "text/plain": [
       "                                 price_fst_stock  price_scnd_stock  \\\n",
       "setor                                                                \n",
       "Alimentos e Bebidas                   131.255904        143.264297   \n",
       "Aéreas                                299.045422        242.515998   \n",
       "Bens Industriais                      187.352925        238.228624   \n",
       "Construção Civil                       89.509067         91.291879   \n",
       "Educação                                4.876085         36.588365   \n",
       "Exploração de imóveis                 132.939284        193.094945   \n",
       "Financeiro                           3722.426356       4069.308673   \n",
       "Mineração e Siderurgia                757.972967        535.336111   \n",
       "Papel e Celulose                      159.645238        293.512194   \n",
       "Petroleo, gás e biocombustíveis       471.717192        450.259925   \n",
       "Saúde                                 840.048894        891.669813   \n",
       "Telecomunicações                      129.829068        127.057538   \n",
       "Utilidade Pública                    3790.560134       3581.424023   \n",
       "Varejo                                947.910527        829.263957   \n",
       "\n",
       "                                  beta_open  last_residual  std_residual  \\\n",
       "setor                                                                      \n",
       "Alimentos e Bebidas                8.492752     -20.571493     12.689605   \n",
       "Aéreas                             6.144519      12.849180     10.316754   \n",
       "Bens Industriais                  12.551664     -13.732893     11.949103   \n",
       "Construção Civil                   4.285753      -8.183164      5.478434   \n",
       "Educação                           0.322578       0.701090      0.382567   \n",
       "Exploração de imóveis              6.728059      -3.967373      3.587894   \n",
       "Financeiro                       291.120100     -80.543964    202.349127   \n",
       "Mineração e Siderurgia            49.066440      10.946304     27.124212   \n",
       "Papel e Celulose                   3.012716      -1.694049      5.431925   \n",
       "Petroleo, gás e biocombustíveis   22.429308      -1.910289     13.344575   \n",
       "Saúde                             32.575210     -30.749580     46.183897   \n",
       "Telecomunicações                   9.060746       3.780645      3.886379   \n",
       "Utilidade Pública                174.260800       0.872138    148.420154   \n",
       "Varejo                            51.103676     -83.228969     72.846982   \n",
       "\n",
       "                                 std_open_residual  residual_open  \\\n",
       "setor                                                               \n",
       "Alimentos e Bebidas                      11.869967      -9.362041   \n",
       "Aéreas                                    9.808664       4.158747   \n",
       "Bens Industriais                         11.330290     -11.829228   \n",
       "Construção Civil                          5.903019      -7.656836   \n",
       "Educação                                  0.386486       0.952488   \n",
       "Exploração de imóveis                     3.540050       1.811562   \n",
       "Financeiro                              196.153059     -73.178299   \n",
       "Mineração e Siderurgia                   25.810710      18.120735   \n",
       "Papel e Celulose                          5.596192       0.238764   \n",
       "Petroleo, gás e biocombustíveis          12.938056       0.022819   \n",
       "Saúde                                    44.750067     -46.935980   \n",
       "Telecomunicações                          3.971771       7.027790   \n",
       "Utilidade Pública                       142.991095      34.263427   \n",
       "Varejo                                   70.648614     -59.407541   \n",
       "\n",
       "                                 open_price_first_stock  \\\n",
       "setor                                                     \n",
       "Alimentos e Bebidas                          145.632609   \n",
       "Aéreas                                       285.478683   \n",
       "Bens Industriais                             192.914771   \n",
       "Construção Civil                              95.157020   \n",
       "Educação                                       4.964500   \n",
       "Exploração de imóveis                        136.836492   \n",
       "Financeiro                                  3723.298642   \n",
       "Mineração e Siderurgia                       746.133853   \n",
       "Papel e Celulose                             163.715730   \n",
       "Petroleo, gás e biocombustíveis              485.805306   \n",
       "Saúde                                        850.208775   \n",
       "Telecomunicações                             126.624167   \n",
       "Utilidade Pública                           3828.899773   \n",
       "Varejo                                       928.586170   \n",
       "\n",
       "                                 open_price_scnd_stock  close_limit  ...  \\\n",
       "setor                                                                ...   \n",
       "Alimentos e Bebidas                         142.731268     5.934984  ...   \n",
       "Aéreas                                      239.342602     4.904332  ...   \n",
       "Bens Industriais                            238.224549     5.665145  ...   \n",
       "Construção Civil                             92.279955     2.951510  ...   \n",
       "Educação                                     36.728937     0.193243  ...   \n",
       "Exploração de imóveis                       189.847972     1.770025  ...   \n",
       "Financeiro                                 4075.767034    98.076529  ...   \n",
       "Mineração e Siderurgia                      531.172364    12.905355  ...   \n",
       "Papel e Celulose                            298.236508     2.798096  ...   \n",
       "Petroleo, gás e biocombustíveis             457.821620     6.469028  ...   \n",
       "Saúde                                       886.095224    22.375034  ...   \n",
       "Telecomunicações                            126.124469     1.985885  ...   \n",
       "Utilidade Pública                          3592.249990    71.495548  ...   \n",
       "Varejo                                      816.956030    35.324307  ...   \n",
       "\n",
       "                                 var_limit     id  ratio_sem_custos  \\\n",
       "setor                                                                 \n",
       "Alimentos e Bebidas              -0.321289   1726          6.409265   \n",
       "Aéreas                           -0.252653   1243          5.370313   \n",
       "Bens Industriais                 -0.468209   3510         12.065101   \n",
       "Construção Civil                 -0.134128   2125          5.555072   \n",
       "Educação                         -0.070895    933         15.306529   \n",
       "Exploração de imóveis            -0.183916   1560          7.107946   \n",
       "Financeiro                       -7.048828  44986        279.642182   \n",
       "Mineração e Siderurgia           -1.036107  11395         36.998375   \n",
       "Papel e Celulose                 -0.153175   2660          4.507928   \n",
       "Petroleo, gás e biocombustíveis  -0.474689   7509         22.863286   \n",
       "Saúde                            -1.551935  15098         36.785527   \n",
       "Telecomunicações                 -0.075544   2110          4.454182   \n",
       "Utilidade Pública                -4.221706  38968        182.072355   \n",
       "Varejo                           -1.520663  13596         46.173956   \n",
       "\n",
       "                                      ratio    return  retorno_acumulado  \\\n",
       "setor                                                                      \n",
       "Alimentos e Bebidas                6.315459 -0.126516          -0.214901   \n",
       "Aéreas                             5.292343 -0.235963          -0.275014   \n",
       "Bens Industriais                  11.889982 -0.105863          -0.366533   \n",
       "Construção Civil                   5.472135 -0.047656          -0.240560   \n",
       "Educação                          15.085771  0.083837           0.042069   \n",
       "Exploração de imóveis              7.004947 -0.189732           0.009525   \n",
       "Financeiro                       275.570349 -2.231560          -3.238804   \n",
       "Mineração e Siderurgia            36.461605 -0.499734          -1.277081   \n",
       "Papel e Celulose                   4.442636 -0.008994           0.069957   \n",
       "Petroleo, gás e biocombustíveis   22.530738  0.023001          -0.516011   \n",
       "Saúde                             36.251820 -0.357073          -0.790833   \n",
       "Telecomunicações                   4.389671 -0.026856          -0.011143   \n",
       "Utilidade Pública                179.421432 -0.773286          -2.597761   \n",
       "Varejo                            45.499333 -0.354977          -0.304449   \n",
       "\n",
       "                                 return_sem_custos  \\\n",
       "setor                                                \n",
       "Alimentos e Bebidas                      -0.024267   \n",
       "Aéreas                                   -0.122677   \n",
       "Bens Industriais                          0.154392   \n",
       "Construção Civil                          0.027261   \n",
       "Educação                                  0.130009   \n",
       "Exploração de imóveis                    -0.032841   \n",
       "Financeiro                                0.857579   \n",
       "Mineração e Siderurgia                    0.109489   \n",
       "Papel e Celulose                          0.079289   \n",
       "Petroleo, gás e biocombustíveis           0.391129   \n",
       "Saúde                                     0.226547   \n",
       "Telecomunicações                          0.032223   \n",
       "Utilidade Pública                         1.238952   \n",
       "Varejo                                    0.126965   \n",
       "\n",
       "                                 retorno_acumulado_sem_custos  e_lucro_bruto  \\\n",
       "setor                                                                          \n",
       "Alimentos e Bebidas                                 -0.015499              4   \n",
       "Aéreas                                              -0.078325              3   \n",
       "Bens Industriais                                     0.031960              7   \n",
       "Construção Civil                                    -0.099514              2   \n",
       "Educação                                             0.101582              1   \n",
       "Exploração de imóveis                                0.272662              6   \n",
       "Financeiro                                           2.406461            111   \n",
       "Mineração e Siderurgia                              -0.292116             17   \n",
       "Papel e Celulose                                     0.247486              6   \n",
       "Petroleo, gás e biocombustíveis                      0.113055             15   \n",
       "Saúde                                                0.355432             23   \n",
       "Telecomunicações                                     0.106057              4   \n",
       "Utilidade Pública                                    1.222641             77   \n",
       "Varejo                                               0.595977             18   \n",
       "\n",
       "                                 e_lucro_liquido  \n",
       "setor                                             \n",
       "Alimentos e Bebidas                            4  \n",
       "Aéreas                                         1  \n",
       "Bens Industriais                               5  \n",
       "Construção Civil                               0  \n",
       "Educação                                       1  \n",
       "Exploração de imóveis                          3  \n",
       "Financeiro                                    59  \n",
       "Mineração e Siderurgia                         8  \n",
       "Papel e Celulose                               4  \n",
       "Petroleo, gás e biocombustíveis                3  \n",
       "Saúde                                         17  \n",
       "Telecomunicações                               2  \n",
       "Utilidade Pública                             37  \n",
       "Varejo                                        16  \n",
       "\n",
       "[14 rows x 25 columns]"
      ]
     },
     "execution_count": 34,
     "metadata": {},
     "output_type": "execute_result"
    }
   ],
   "source": [
    "fechadas.groupby('setor').agg('sum')"
   ]
  },
  {
   "cell_type": "code",
   "execution_count": 35,
   "id": "eccd9d58",
   "metadata": {
    "ExecuteTime": {
     "end_time": "2022-08-13T11:29:46.972052Z",
     "start_time": "2022-08-13T11:29:45.745249Z"
    }
   },
   "outputs": [
    {
     "data": {
      "image/png": "[encoded data removed]",
      "text/plain": [
       "<Figure size 1080x576 with 1 Axes>"
      ]
     },
     "metadata": {},
     "output_type": "display_data"
    }
   ],
   "source": [
    "halfyear_accuracy = fechadas.set_index('open_date').resample('6M')[['e_lucro_bruto']].mean().reset_index()\n",
    "halfyear_accuracy.columns = ['open_date', 'retorno']\n",
    "halfyear_accuracy['open_date'] = halfyear_accuracy['open_date'].dt.date\n",
    "halfyear_accuracy = halfyear_accuracy.melt(id_vars='open_date', value_name='acerto')\n",
    "\n",
    "sns.barplot(x='open_date', y='acerto', hue='variable', data=halfyear_accuracy)\n",
    "plt.axhline(y=0.5, color='blue', linestyle='--')\n",
    "plt.xlabel('data')\n",
    "# plt.xticks(rotation=90)\n",
    "plt.legend(bbox_to_anchor=(1.05, 1), loc=2, borderaxespad=0.)\n",
    "plt.show()"
   ]
  },
  {
   "cell_type": "code",
   "execution_count": 36,
   "id": "ca323fc5",
   "metadata": {
    "ExecuteTime": {
     "end_time": "2022-08-13T11:29:47.005447Z",
     "start_time": "2022-08-13T11:29:46.977050Z"
    }
   },
   "outputs": [
    {
     "data": {
      "text/html": [
       "<div>\n",
       "<style scoped>\n",
       "    .dataframe tbody tr th:only-of-type {\n",
       "        vertical-align: middle;\n",
       "    }\n",
       "\n",
       "    .dataframe tbody tr th {\n",
       "        vertical-align: top;\n",
       "    }\n",
       "\n",
       "    .dataframe thead th {\n",
       "        text-align: right;\n",
       "    }\n",
       "</style>\n",
       "<table border=\"1\" class=\"dataframe\">\n",
       "  <thead>\n",
       "    <tr style=\"text-align: right;\">\n",
       "      <th></th>\n",
       "      <th>open_date</th>\n",
       "      <th>variable</th>\n",
       "      <th>acerto</th>\n",
       "    </tr>\n",
       "  </thead>\n",
       "  <tbody>\n",
       "    <tr>\n",
       "      <th>0</th>\n",
       "      <td>2019-01-31</td>\n",
       "      <td>retorno</td>\n",
       "      <td>0.611111</td>\n",
       "    </tr>\n",
       "    <tr>\n",
       "      <th>1</th>\n",
       "      <td>2019-07-31</td>\n",
       "      <td>retorno</td>\n",
       "      <td>0.647619</td>\n",
       "    </tr>\n",
       "    <tr>\n",
       "      <th>2</th>\n",
       "      <td>2020-01-31</td>\n",
       "      <td>retorno</td>\n",
       "      <td>0.537037</td>\n",
       "    </tr>\n",
       "    <tr>\n",
       "      <th>3</th>\n",
       "      <td>2020-07-31</td>\n",
       "      <td>retorno</td>\n",
       "      <td>0.552083</td>\n",
       "    </tr>\n",
       "    <tr>\n",
       "      <th>4</th>\n",
       "      <td>2021-01-31</td>\n",
       "      <td>retorno</td>\n",
       "      <td>0.603448</td>\n",
       "    </tr>\n",
       "    <tr>\n",
       "      <th>5</th>\n",
       "      <td>2021-07-31</td>\n",
       "      <td>retorno</td>\n",
       "      <td>0.543478</td>\n",
       "    </tr>\n",
       "    <tr>\n",
       "      <th>6</th>\n",
       "      <td>2022-01-31</td>\n",
       "      <td>retorno</td>\n",
       "      <td>0.510204</td>\n",
       "    </tr>\n",
       "    <tr>\n",
       "      <th>7</th>\n",
       "      <td>2022-07-31</td>\n",
       "      <td>retorno</td>\n",
       "      <td>0.564706</td>\n",
       "    </tr>\n",
       "  </tbody>\n",
       "</table>\n",
       "</div>"
      ],
      "text/plain": [
       "    open_date variable    acerto\n",
       "0  2019-01-31  retorno  0.611111\n",
       "1  2019-07-31  retorno  0.647619\n",
       "2  2020-01-31  retorno  0.537037\n",
       "3  2020-07-31  retorno  0.552083\n",
       "4  2021-01-31  retorno  0.603448\n",
       "5  2021-07-31  retorno  0.543478\n",
       "6  2022-01-31  retorno  0.510204\n",
       "7  2022-07-31  retorno  0.564706"
      ]
     },
     "execution_count": 36,
     "metadata": {},
     "output_type": "execute_result"
    }
   ],
   "source": [
    "halfyear_accuracy"
   ]
  },
  {
   "cell_type": "code",
   "execution_count": 37,
   "id": "647f3977",
   "metadata": {
    "ExecuteTime": {
     "end_time": "2022-08-13T11:29:47.121690Z",
     "start_time": "2022-08-13T11:29:47.016436Z"
    }
   },
   "outputs": [
    {
     "data": {
      "text/html": [
       "<div>\n",
       "<style scoped>\n",
       "    .dataframe tbody tr th:only-of-type {\n",
       "        vertical-align: middle;\n",
       "    }\n",
       "\n",
       "    .dataframe tbody tr th {\n",
       "        vertical-align: top;\n",
       "    }\n",
       "\n",
       "    .dataframe thead th {\n",
       "        text-align: right;\n",
       "    }\n",
       "</style>\n",
       "<table border=\"1\" class=\"dataframe\">\n",
       "  <thead>\n",
       "    <tr style=\"text-align: right;\">\n",
       "      <th></th>\n",
       "      <th>date</th>\n",
       "      <th>open_date</th>\n",
       "      <th>pair</th>\n",
       "      <th>status</th>\n",
       "      <th>price_fst_stock</th>\n",
       "      <th>price_scnd_stock</th>\n",
       "      <th>beta_open</th>\n",
       "      <th>beta_close</th>\n",
       "      <th>last_residual</th>\n",
       "      <th>std_residual</th>\n",
       "      <th>...</th>\n",
       "      <th>side</th>\n",
       "      <th>id</th>\n",
       "      <th>ratio_sem_custos</th>\n",
       "      <th>ratio</th>\n",
       "      <th>return</th>\n",
       "      <th>retorno_acumulado</th>\n",
       "      <th>return_sem_custos</th>\n",
       "      <th>retorno_acumulado_sem_custos</th>\n",
       "      <th>e_lucro_bruto</th>\n",
       "      <th>e_lucro_liquido</th>\n",
       "    </tr>\n",
       "  </thead>\n",
       "  <tbody>\n",
       "    <tr>\n",
       "      <th>7</th>\n",
       "      <td>2019-05-06</td>\n",
       "      <td>2019-04-24</td>\n",
       "      <td>(CCRO3, ECOR3)</td>\n",
       "      <td>close</td>\n",
       "      <td>11.718472</td>\n",
       "      <td>8.479366</td>\n",
       "      <td>1.192578</td>\n",
       "      <td>1.1845665497455284</td>\n",
       "      <td>1.289334</td>\n",
       "      <td>0.465580</td>\n",
       "      <td>...</td>\n",
       "      <td>upper</td>\n",
       "      <td>1</td>\n",
       "      <td>0.734308</td>\n",
       "      <td>0.723590</td>\n",
       "      <td>-0.006270</td>\n",
       "      <td>-0.051924</td>\n",
       "      <td>0.008449</td>\n",
       "      <td>-0.024121</td>\n",
       "      <td>False</td>\n",
       "      <td>False</td>\n",
       "    </tr>\n",
       "    <tr>\n",
       "      <th>12</th>\n",
       "      <td>2019-02-01</td>\n",
       "      <td>2019-01-28</td>\n",
       "      <td>(BRML3, MULT3)</td>\n",
       "      <td>close</td>\n",
       "      <td>13.439225</td>\n",
       "      <td>24.385624</td>\n",
       "      <td>0.599995</td>\n",
       "      <td>VAR CLOSE</td>\n",
       "      <td>0.019772</td>\n",
       "      <td>0.321958</td>\n",
       "      <td>...</td>\n",
       "      <td>upper</td>\n",
       "      <td>2</td>\n",
       "      <td>1.841079</td>\n",
       "      <td>1.814511</td>\n",
       "      <td>0.005838</td>\n",
       "      <td>0.014003</td>\n",
       "      <td>0.020566</td>\n",
       "      <td>0.043565</td>\n",
       "      <td>True</td>\n",
       "      <td>True</td>\n",
       "    </tr>\n",
       "    <tr>\n",
       "      <th>19</th>\n",
       "      <td>2019-05-08</td>\n",
       "      <td>2019-04-29</td>\n",
       "      <td>(BRML3, MULT3)</td>\n",
       "      <td>close</td>\n",
       "      <td>11.418350</td>\n",
       "      <td>23.022537</td>\n",
       "      <td>0.609782</td>\n",
       "      <td>0.6050452500556807</td>\n",
       "      <td>-0.783007</td>\n",
       "      <td>0.303903</td>\n",
       "      <td>...</td>\n",
       "      <td>lower</td>\n",
       "      <td>3</td>\n",
       "      <td>0.503282</td>\n",
       "      <td>0.495964</td>\n",
       "      <td>-0.028067</td>\n",
       "      <td>-0.039400</td>\n",
       "      <td>-0.013726</td>\n",
       "      <td>-0.011285</td>\n",
       "      <td>False</td>\n",
       "      <td>False</td>\n",
       "    </tr>\n",
       "    <tr>\n",
       "      <th>26</th>\n",
       "      <td>2019-06-14</td>\n",
       "      <td>2019-06-06</td>\n",
       "      <td>(BRML3, MULT3)</td>\n",
       "      <td>close</td>\n",
       "      <td>13.185712</td>\n",
       "      <td>25.773151</td>\n",
       "      <td>0.591845</td>\n",
       "      <td>0.5839001178325625</td>\n",
       "      <td>-0.524460</td>\n",
       "      <td>0.318016</td>\n",
       "      <td>...</td>\n",
       "      <td>lower</td>\n",
       "      <td>4</td>\n",
       "      <td>0.519156</td>\n",
       "      <td>0.511607</td>\n",
       "      <td>-0.014439</td>\n",
       "      <td>-0.011640</td>\n",
       "      <td>0.000103</td>\n",
       "      <td>0.017288</td>\n",
       "      <td>True</td>\n",
       "      <td>False</td>\n",
       "    </tr>\n",
       "    <tr>\n",
       "      <th>32</th>\n",
       "      <td>2019-01-28</td>\n",
       "      <td>2019-01-18</td>\n",
       "      <td>(B3SA3, BBAS3)</td>\n",
       "      <td>close</td>\n",
       "      <td>9.339474</td>\n",
       "      <td>39.616710</td>\n",
       "      <td>0.126603</td>\n",
       "      <td>0.13127538589045346</td>\n",
       "      <td>0.977604</td>\n",
       "      <td>0.230240</td>\n",
       "      <td>...</td>\n",
       "      <td>upper</td>\n",
       "      <td>5</td>\n",
       "      <td>4.304207</td>\n",
       "      <td>4.241857</td>\n",
       "      <td>-0.043956</td>\n",
       "      <td>-0.087231</td>\n",
       "      <td>-0.029903</td>\n",
       "      <td>-0.060568</td>\n",
       "      <td>False</td>\n",
       "      <td>False</td>\n",
       "    </tr>\n",
       "    <tr>\n",
       "      <th>...</th>\n",
       "      <td>...</td>\n",
       "      <td>...</td>\n",
       "      <td>...</td>\n",
       "      <td>...</td>\n",
       "      <td>...</td>\n",
       "      <td>...</td>\n",
       "      <td>...</td>\n",
       "      <td>...</td>\n",
       "      <td>...</td>\n",
       "      <td>...</td>\n",
       "      <td>...</td>\n",
       "      <td>...</td>\n",
       "      <td>...</td>\n",
       "      <td>...</td>\n",
       "      <td>...</td>\n",
       "      <td>...</td>\n",
       "      <td>...</td>\n",
       "      <td>...</td>\n",
       "      <td>...</td>\n",
       "      <td>...</td>\n",
       "      <td>...</td>\n",
       "    </tr>\n",
       "    <tr>\n",
       "      <th>3679</th>\n",
       "      <td>2022-02-16</td>\n",
       "      <td>2022-01-31</td>\n",
       "      <td>(SOMA3, ALPA4)</td>\n",
       "      <td>close</td>\n",
       "      <td>13.384768</td>\n",
       "      <td>26.897661</td>\n",
       "      <td>0.213015</td>\n",
       "      <td>0.1962354716969698</td>\n",
       "      <td>1.604310</td>\n",
       "      <td>1.294916</td>\n",
       "      <td>...</td>\n",
       "      <td>upper</td>\n",
       "      <td>561</td>\n",
       "      <td>2.039910</td>\n",
       "      <td>2.009573</td>\n",
       "      <td>-0.042548</td>\n",
       "      <td>-0.019601</td>\n",
       "      <td>-0.028094</td>\n",
       "      <td>0.009433</td>\n",
       "      <td>True</td>\n",
       "      <td>False</td>\n",
       "    </tr>\n",
       "    <tr>\n",
       "      <th>3700</th>\n",
       "      <td>2022-06-06</td>\n",
       "      <td>2022-05-09</td>\n",
       "      <td>(SOMA3, ASAI3)</td>\n",
       "      <td>close</td>\n",
       "      <td>11.021190</td>\n",
       "      <td>15.599025</td>\n",
       "      <td>0.811444</td>\n",
       "      <td>0.88996891081946</td>\n",
       "      <td>-3.451311</td>\n",
       "      <td>1.615629</td>\n",
       "      <td>...</td>\n",
       "      <td>lower</td>\n",
       "      <td>562</td>\n",
       "      <td>0.717518</td>\n",
       "      <td>0.706531</td>\n",
       "      <td>-0.049965</td>\n",
       "      <td>-0.033707</td>\n",
       "      <td>-0.035192</td>\n",
       "      <td>-0.004646</td>\n",
       "      <td>False</td>\n",
       "      <td>False</td>\n",
       "    </tr>\n",
       "    <tr>\n",
       "      <th>3702</th>\n",
       "      <td>2022-04-05</td>\n",
       "      <td>2022-04-04</td>\n",
       "      <td>(VIIA3, CVCB3)</td>\n",
       "      <td>close</td>\n",
       "      <td>4.001387</td>\n",
       "      <td>17.405609</td>\n",
       "      <td>0.773178</td>\n",
       "      <td>VAR CLOSE</td>\n",
       "      <td>-3.501767</td>\n",
       "      <td>1.520897</td>\n",
       "      <td>...</td>\n",
       "      <td>lower</td>\n",
       "      <td>563</td>\n",
       "      <td>0.233218</td>\n",
       "      <td>0.229891</td>\n",
       "      <td>-0.092871</td>\n",
       "      <td>-0.092871</td>\n",
       "      <td>-0.066582</td>\n",
       "      <td>-0.066582</td>\n",
       "      <td>False</td>\n",
       "      <td>False</td>\n",
       "    </tr>\n",
       "    <tr>\n",
       "      <th>3707</th>\n",
       "      <td>2022-04-08</td>\n",
       "      <td>2022-04-04</td>\n",
       "      <td>(VIIA3, LREN3)</td>\n",
       "      <td>close</td>\n",
       "      <td>3.574440</td>\n",
       "      <td>26.767631</td>\n",
       "      <td>0.645305</td>\n",
       "      <td>VAR CLOSE</td>\n",
       "      <td>-1.436871</td>\n",
       "      <td>1.164183</td>\n",
       "      <td>...</td>\n",
       "      <td>lower</td>\n",
       "      <td>565</td>\n",
       "      <td>0.135491</td>\n",
       "      <td>0.133536</td>\n",
       "      <td>-0.089497</td>\n",
       "      <td>-0.097280</td>\n",
       "      <td>-0.076165</td>\n",
       "      <td>-0.070963</td>\n",
       "      <td>False</td>\n",
       "      <td>False</td>\n",
       "    </tr>\n",
       "    <tr>\n",
       "      <th>3709</th>\n",
       "      <td>2022-06-10</td>\n",
       "      <td>2022-06-02</td>\n",
       "      <td>(VIIA3, LREN3)</td>\n",
       "      <td>close</td>\n",
       "      <td>2.809907</td>\n",
       "      <td>24.110692</td>\n",
       "      <td>0.691625</td>\n",
       "      <td>0.7115990310168517</td>\n",
       "      <td>-0.003470</td>\n",
       "      <td>1.124270</td>\n",
       "      <td>...</td>\n",
       "      <td>lower</td>\n",
       "      <td>566</td>\n",
       "      <td>0.118262</td>\n",
       "      <td>0.116542</td>\n",
       "      <td>0.003473</td>\n",
       "      <td>0.003473</td>\n",
       "      <td>0.032843</td>\n",
       "      <td>0.032843</td>\n",
       "      <td>True</td>\n",
       "      <td>True</td>\n",
       "    </tr>\n",
       "  </tbody>\n",
       "</table>\n",
       "<p>511 rows × 35 columns</p>\n",
       "</div>"
      ],
      "text/plain": [
       "           date  open_date            pair status  price_fst_stock  \\\n",
       "7    2019-05-06 2019-04-24  (CCRO3, ECOR3)  close        11.718472   \n",
       "12   2019-02-01 2019-01-28  (BRML3, MULT3)  close        13.439225   \n",
       "19   2019-05-08 2019-04-29  (BRML3, MULT3)  close        11.418350   \n",
       "26   2019-06-14 2019-06-06  (BRML3, MULT3)  close        13.185712   \n",
       "32   2019-01-28 2019-01-18  (B3SA3, BBAS3)  close         9.339474   \n",
       "...         ...        ...             ...    ...              ...   \n",
       "3679 2022-02-16 2022-01-31  (SOMA3, ALPA4)  close        13.384768   \n",
       "3700 2022-06-06 2022-05-09  (SOMA3, ASAI3)  close        11.021190   \n",
       "3702 2022-04-05 2022-04-04  (VIIA3, CVCB3)  close         4.001387   \n",
       "3707 2022-04-08 2022-04-04  (VIIA3, LREN3)  close         3.574440   \n",
       "3709 2022-06-10 2022-06-02  (VIIA3, LREN3)  close         2.809907   \n",
       "\n",
       "      price_scnd_stock  beta_open           beta_close  last_residual  \\\n",
       "7             8.479366   1.192578   1.1845665497455284       1.289334   \n",
       "12           24.385624   0.599995            VAR CLOSE       0.019772   \n",
       "19           23.022537   0.609782   0.6050452500556807      -0.783007   \n",
       "26           25.773151   0.591845   0.5839001178325625      -0.524460   \n",
       "32           39.616710   0.126603  0.13127538589045346       0.977604   \n",
       "...                ...        ...                  ...            ...   \n",
       "3679         26.897661   0.213015   0.1962354716969698       1.604310   \n",
       "3700         15.599025   0.811444     0.88996891081946      -3.451311   \n",
       "3702         17.405609   0.773178            VAR CLOSE      -3.501767   \n",
       "3707         26.767631   0.645305            VAR CLOSE      -1.436871   \n",
       "3709         24.110692   0.691625   0.7115990310168517      -0.003470   \n",
       "\n",
       "      std_residual  ...   side   id  ratio_sem_custos     ratio    return  \\\n",
       "7         0.465580  ...  upper    1          0.734308  0.723590 -0.006270   \n",
       "12        0.321958  ...  upper    2          1.841079  1.814511  0.005838   \n",
       "19        0.303903  ...  lower    3          0.503282  0.495964 -0.028067   \n",
       "26        0.318016  ...  lower    4          0.519156  0.511607 -0.014439   \n",
       "32        0.230240  ...  upper    5          4.304207  4.241857 -0.043956   \n",
       "...            ...  ...    ...  ...               ...       ...       ...   \n",
       "3679      1.294916  ...  upper  561          2.039910  2.009573 -0.042548   \n",
       "3700      1.615629  ...  lower  562          0.717518  0.706531 -0.049965   \n",
       "3702      1.520897  ...  lower  563          0.233218  0.229891 -0.092871   \n",
       "3707      1.164183  ...  lower  565          0.135491  0.133536 -0.089497   \n",
       "3709      1.124270  ...  lower  566          0.118262  0.116542  0.003473   \n",
       "\n",
       "      retorno_acumulado  return_sem_custos  retorno_acumulado_sem_custos  \\\n",
       "7             -0.051924           0.008449                     -0.024121   \n",
       "12             0.014003           0.020566                      0.043565   \n",
       "19            -0.039400          -0.013726                     -0.011285   \n",
       "26            -0.011640           0.000103                      0.017288   \n",
       "32            -0.087231          -0.029903                     -0.060568   \n",
       "...                 ...                ...                           ...   \n",
       "3679          -0.019601          -0.028094                      0.009433   \n",
       "3700          -0.033707          -0.035192                     -0.004646   \n",
       "3702          -0.092871          -0.066582                     -0.066582   \n",
       "3707          -0.097280          -0.076165                     -0.070963   \n",
       "3709           0.003473           0.032843                      0.032843   \n",
       "\n",
       "      e_lucro_bruto  e_lucro_liquido  \n",
       "7             False            False  \n",
       "12             True             True  \n",
       "19            False            False  \n",
       "26             True            False  \n",
       "32            False            False  \n",
       "...             ...              ...  \n",
       "3679           True            False  \n",
       "3700          False            False  \n",
       "3702          False            False  \n",
       "3707          False            False  \n",
       "3709           True             True  \n",
       "\n",
       "[511 rows x 35 columns]"
      ]
     },
     "execution_count": 37,
     "metadata": {},
     "output_type": "execute_result"
    }
   ],
   "source": [
    "fechadas"
   ]
  },
  {
   "cell_type": "code",
   "execution_count": 38,
   "id": "2857bed6",
   "metadata": {
    "ExecuteTime": {
     "end_time": "2022-08-13T11:29:47.219040Z",
     "start_time": "2022-08-13T11:29:47.126719Z"
    }
   },
   "outputs": [
    {
     "data": {
      "text/html": [
       "<div>\n",
       "<style scoped>\n",
       "    .dataframe tbody tr th:only-of-type {\n",
       "        vertical-align: middle;\n",
       "    }\n",
       "\n",
       "    .dataframe tbody tr th {\n",
       "        vertical-align: top;\n",
       "    }\n",
       "\n",
       "    .dataframe thead th {\n",
       "        text-align: right;\n",
       "    }\n",
       "</style>\n",
       "<table border=\"1\" class=\"dataframe\">\n",
       "  <thead>\n",
       "    <tr style=\"text-align: right;\">\n",
       "      <th></th>\n",
       "      <th>setor</th>\n",
       "      <th>open_date</th>\n",
       "      <th>e_lucro_bruto</th>\n",
       "    </tr>\n",
       "  </thead>\n",
       "  <tbody>\n",
       "    <tr>\n",
       "      <th>0</th>\n",
       "      <td>Alimentos e Bebidas</td>\n",
       "      <td>2020-01-23</td>\n",
       "      <td>0.0</td>\n",
       "    </tr>\n",
       "    <tr>\n",
       "      <th>1</th>\n",
       "      <td>Alimentos e Bebidas</td>\n",
       "      <td>2020-02-28</td>\n",
       "      <td>0.0</td>\n",
       "    </tr>\n",
       "    <tr>\n",
       "      <th>2</th>\n",
       "      <td>Alimentos e Bebidas</td>\n",
       "      <td>2020-04-16</td>\n",
       "      <td>0.0</td>\n",
       "    </tr>\n",
       "    <tr>\n",
       "      <th>3</th>\n",
       "      <td>Alimentos e Bebidas</td>\n",
       "      <td>2020-05-13</td>\n",
       "      <td>1.0</td>\n",
       "    </tr>\n",
       "    <tr>\n",
       "      <th>4</th>\n",
       "      <td>Alimentos e Bebidas</td>\n",
       "      <td>2020-08-24</td>\n",
       "      <td>1.0</td>\n",
       "    </tr>\n",
       "    <tr>\n",
       "      <th>...</th>\n",
       "      <td>...</td>\n",
       "      <td>...</td>\n",
       "      <td>...</td>\n",
       "    </tr>\n",
       "    <tr>\n",
       "      <th>429</th>\n",
       "      <td>Varejo</td>\n",
       "      <td>2022-05-09</td>\n",
       "      <td>0.5</td>\n",
       "    </tr>\n",
       "    <tr>\n",
       "      <th>430</th>\n",
       "      <td>Varejo</td>\n",
       "      <td>2022-05-18</td>\n",
       "      <td>0.0</td>\n",
       "    </tr>\n",
       "    <tr>\n",
       "      <th>431</th>\n",
       "      <td>Varejo</td>\n",
       "      <td>2022-06-02</td>\n",
       "      <td>1.0</td>\n",
       "    </tr>\n",
       "    <tr>\n",
       "      <th>432</th>\n",
       "      <td>Varejo</td>\n",
       "      <td>2022-06-03</td>\n",
       "      <td>1.0</td>\n",
       "    </tr>\n",
       "    <tr>\n",
       "      <th>433</th>\n",
       "      <td>Varejo</td>\n",
       "      <td>2022-06-13</td>\n",
       "      <td>1.0</td>\n",
       "    </tr>\n",
       "  </tbody>\n",
       "</table>\n",
       "<p>434 rows × 3 columns</p>\n",
       "</div>"
      ],
      "text/plain": [
       "                   setor  open_date  e_lucro_bruto\n",
       "0    Alimentos e Bebidas 2020-01-23            0.0\n",
       "1    Alimentos e Bebidas 2020-02-28            0.0\n",
       "2    Alimentos e Bebidas 2020-04-16            0.0\n",
       "3    Alimentos e Bebidas 2020-05-13            1.0\n",
       "4    Alimentos e Bebidas 2020-08-24            1.0\n",
       "..                   ...        ...            ...\n",
       "429               Varejo 2022-05-09            0.5\n",
       "430               Varejo 2022-05-18            0.0\n",
       "431               Varejo 2022-06-02            1.0\n",
       "432               Varejo 2022-06-03            1.0\n",
       "433               Varejo 2022-06-13            1.0\n",
       "\n",
       "[434 rows x 3 columns]"
      ]
     },
     "metadata": {},
     "output_type": "display_data"
    }
   ],
   "source": [
    "display(fechadas.groupby(['setor', 'open_date']).e_lucro_bruto.mean().reset_index())"
   ]
  },
  {
   "cell_type": "code",
   "execution_count": 39,
   "id": "291d60b1",
   "metadata": {
    "ExecuteTime": {
     "end_time": "2022-08-13T11:29:48.687294Z",
     "start_time": "2022-08-13T11:29:47.231056Z"
    }
   },
   "outputs": [
    {
     "data": {
      "text/plain": [
       "Text(0, 0.5, 'acerto')"
      ]
     },
     "execution_count": 39,
     "metadata": {},
     "output_type": "execute_result"
    },
    {
     "data": {
      "image/png": "[encoded data removed]",
      "text/plain": [
       "<Figure size 1440x576 with 1 Axes>"
      ]
     },
     "metadata": {},
     "output_type": "display_data"
    }
   ],
   "source": [
    "fechadas_agrupadas_semestre = fechadas.groupby(['setor', pd.Grouper(key='open_date', freq='1Y')]).e_lucro_bruto.mean().reset_index()\n",
    "\n",
    "plt.figure(figsize=(20,8))\n",
    "\n",
    "fechadas_agrupadas_semestre['open_date'] = pd.to_datetime(fechadas_agrupadas_semestre['open_date'])\n",
    "fechadas_2020 = fechadas_agrupadas_semestre.set_index('open_date').loc['2020'].reset_index()\n",
    "fechadas_2020['open_date'] = fechadas_2020.open_date.dt.date\n",
    "\n",
    "sns.barplot(x='setor', y='e_lucro_bruto', data=fechadas_2020)\n",
    "plt.axhline(y=0.5, color='blue', linestyle='--')\n",
    "\n",
    "plt.ylabel('acerto')\n",
    "# plt.legend(bbox_to_anchor=(1.05, 1), loc=2, borderaxespad=0.)\n",
    "\n"
   ]
  },
  {
   "cell_type": "code",
   "execution_count": 40,
   "id": "7da2f1e6",
   "metadata": {
    "ExecuteTime": {
     "end_time": "2022-08-13T11:29:48.764198Z",
     "start_time": "2022-08-13T11:29:48.693290Z"
    }
   },
   "outputs": [
    {
     "data": {
      "text/html": [
       "<div>\n",
       "<style scoped>\n",
       "    .dataframe tbody tr th:only-of-type {\n",
       "        vertical-align: middle;\n",
       "    }\n",
       "\n",
       "    .dataframe tbody tr th {\n",
       "        vertical-align: top;\n",
       "    }\n",
       "\n",
       "    .dataframe thead th {\n",
       "        text-align: right;\n",
       "    }\n",
       "</style>\n",
       "<table border=\"1\" class=\"dataframe\">\n",
       "  <thead>\n",
       "    <tr style=\"text-align: right;\">\n",
       "      <th></th>\n",
       "      <th>total_trades</th>\n",
       "      <th>gain_halflife</th>\n",
       "    </tr>\n",
       "    <tr>\n",
       "      <th>open_date</th>\n",
       "      <th></th>\n",
       "      <th></th>\n",
       "    </tr>\n",
       "  </thead>\n",
       "  <tbody>\n",
       "    <tr>\n",
       "      <th>2019-01-31</th>\n",
       "      <td>18</td>\n",
       "      <td>0.611111</td>\n",
       "    </tr>\n",
       "    <tr>\n",
       "      <th>2019-07-31</th>\n",
       "      <td>105</td>\n",
       "      <td>0.647619</td>\n",
       "    </tr>\n",
       "    <tr>\n",
       "      <th>2020-01-31</th>\n",
       "      <td>54</td>\n",
       "      <td>0.537037</td>\n",
       "    </tr>\n",
       "    <tr>\n",
       "      <th>2020-07-31</th>\n",
       "      <td>96</td>\n",
       "      <td>0.552083</td>\n",
       "    </tr>\n",
       "    <tr>\n",
       "      <th>2021-01-31</th>\n",
       "      <td>58</td>\n",
       "      <td>0.603448</td>\n",
       "    </tr>\n",
       "    <tr>\n",
       "      <th>2021-07-31</th>\n",
       "      <td>46</td>\n",
       "      <td>0.543478</td>\n",
       "    </tr>\n",
       "    <tr>\n",
       "      <th>2022-01-31</th>\n",
       "      <td>49</td>\n",
       "      <td>0.510204</td>\n",
       "    </tr>\n",
       "    <tr>\n",
       "      <th>2022-07-31</th>\n",
       "      <td>85</td>\n",
       "      <td>0.564706</td>\n",
       "    </tr>\n",
       "  </tbody>\n",
       "</table>\n",
       "</div>"
      ],
      "text/plain": [
       "            total_trades  gain_halflife\n",
       "open_date                              \n",
       "2019-01-31            18       0.611111\n",
       "2019-07-31           105       0.647619\n",
       "2020-01-31            54       0.537037\n",
       "2020-07-31            96       0.552083\n",
       "2021-01-31            58       0.603448\n",
       "2021-07-31            46       0.543478\n",
       "2022-01-31            49       0.510204\n",
       "2022-07-31            85       0.564706"
      ]
     },
     "execution_count": 40,
     "metadata": {},
     "output_type": "execute_result"
    }
   ],
   "source": [
    "fechadas.set_index('open_date').resample('6M').agg(\n",
    "    total_trades = ('status', 'count'),\n",
    "    gain_halflife = ('e_lucro_bruto', 'mean'))"
   ]
  },
  {
   "cell_type": "code",
   "execution_count": 47,
   "id": "9c9a8463",
   "metadata": {
    "ExecuteTime": {
     "end_time": "2022-08-13T11:30:45.268723Z",
     "start_time": "2022-08-13T11:30:45.245720Z"
    }
   },
   "outputs": [],
   "source": [
    "fechadas_halflife = fechadas.loc[(fechadas.days_open > fechadas.halflife) & (fechadas.beta_close!='VAR CLOSE')]\n",
    "fechadas_stop_var = fechadas.loc[(fechadas.beta_close=='VAR CLOSE')]\n",
    "fechadas_retorno = fechadas.loc[(abs(fechadas.last_residual) <= fechadas.close_limit) & (fechadas.beta_close!='VAR CLOSE') & (fechadas.days_open <= fechadas.halflife)]"
   ]
  },
  {
   "cell_type": "code",
   "execution_count": 48,
   "id": "832ea345",
   "metadata": {
    "ExecuteTime": {
     "end_time": "2022-08-13T11:30:45.711721Z",
     "start_time": "2022-08-13T11:30:45.693719Z"
    }
   },
   "outputs": [],
   "source": [
    "# # fechadas_halflife = fechadas.loc[(fechadas.days_open > fechadas.halflife) & (fechadas.beta_close!='VAR CLOSE')]\n",
    "# fechadas_stop_var = fechadas.loc[(fechadas.beta_close=='VAR CLOSE')]\n",
    "# fechadas_retorno = fechadas.loc[(abs(fechadas.last_residual) <= fechadas.close_limit) & (fechadas.beta_close!='VAR CLOSE')]"
   ]
  },
  {
   "cell_type": "code",
   "execution_count": 49,
   "id": "1861dc2d",
   "metadata": {
    "ExecuteTime": {
     "end_time": "2022-08-13T11:30:46.121729Z",
     "start_time": "2022-08-13T11:30:46.103719Z"
    }
   },
   "outputs": [],
   "source": [
    "todos_indices = fechadas_stop_var.index.tolist() + fechadas_halflife.index.tolist() + fechadas_retorno.index.tolist()\n",
    "\n",
    "seen = set()\n",
    "dupes = [x for x in todos_indices if x in seen or seen.add(x)]    "
   ]
  },
  {
   "cell_type": "code",
   "execution_count": 50,
   "id": "39884a5d",
   "metadata": {
    "ExecuteTime": {
     "end_time": "2022-08-13T11:30:46.787721Z",
     "start_time": "2022-08-13T11:30:46.762721Z"
    }
   },
   "outputs": [
    {
     "data": {
      "text/plain": [
       "set()"
      ]
     },
     "execution_count": 50,
     "metadata": {},
     "output_type": "execute_result"
    }
   ],
   "source": [
    "set(fechadas.index.tolist()) - set(todos_indices)"
   ]
  },
  {
   "cell_type": "code",
   "execution_count": 51,
   "id": "f6dca1f2",
   "metadata": {
    "ExecuteTime": {
     "end_time": "2022-08-13T11:30:47.416720Z",
     "start_time": "2022-08-13T11:30:47.394721Z"
    }
   },
   "outputs": [
    {
     "data": {
      "text/plain": [
       "(511, 35)"
      ]
     },
     "execution_count": 51,
     "metadata": {},
     "output_type": "execute_result"
    }
   ],
   "source": [
    "fechadas.shape"
   ]
  },
  {
   "cell_type": "code",
   "execution_count": 52,
   "id": "07eb2720",
   "metadata": {
    "ExecuteTime": {
     "end_time": "2022-08-13T11:30:47.956718Z",
     "start_time": "2022-08-13T11:30:47.890732Z"
    }
   },
   "outputs": [
    {
     "data": {
      "text/html": [
       "<div>\n",
       "<style scoped>\n",
       "    .dataframe tbody tr th:only-of-type {\n",
       "        vertical-align: middle;\n",
       "    }\n",
       "\n",
       "    .dataframe tbody tr th {\n",
       "        vertical-align: top;\n",
       "    }\n",
       "\n",
       "    .dataframe thead th {\n",
       "        text-align: right;\n",
       "    }\n",
       "</style>\n",
       "<table border=\"1\" class=\"dataframe\">\n",
       "  <thead>\n",
       "    <tr style=\"text-align: right;\">\n",
       "      <th></th>\n",
       "      <th>total_trades</th>\n",
       "      <th>gain_retorno_media</th>\n",
       "      <th>loss_retorno_media</th>\n",
       "    </tr>\n",
       "    <tr>\n",
       "      <th>open_date</th>\n",
       "      <th></th>\n",
       "      <th></th>\n",
       "      <th></th>\n",
       "    </tr>\n",
       "  </thead>\n",
       "  <tbody>\n",
       "    <tr>\n",
       "      <th>2019-01-31</th>\n",
       "      <td>3</td>\n",
       "      <td>1.0</td>\n",
       "      <td>0.0</td>\n",
       "    </tr>\n",
       "    <tr>\n",
       "      <th>2019-07-31</th>\n",
       "      <td>11</td>\n",
       "      <td>1.0</td>\n",
       "      <td>0.0</td>\n",
       "    </tr>\n",
       "    <tr>\n",
       "      <th>2020-01-31</th>\n",
       "      <td>3</td>\n",
       "      <td>1.0</td>\n",
       "      <td>0.0</td>\n",
       "    </tr>\n",
       "    <tr>\n",
       "      <th>2020-07-31</th>\n",
       "      <td>12</td>\n",
       "      <td>1.0</td>\n",
       "      <td>0.0</td>\n",
       "    </tr>\n",
       "    <tr>\n",
       "      <th>2021-01-31</th>\n",
       "      <td>2</td>\n",
       "      <td>1.0</td>\n",
       "      <td>0.0</td>\n",
       "    </tr>\n",
       "    <tr>\n",
       "      <th>2021-07-31</th>\n",
       "      <td>4</td>\n",
       "      <td>1.0</td>\n",
       "      <td>0.0</td>\n",
       "    </tr>\n",
       "    <tr>\n",
       "      <th>2022-01-31</th>\n",
       "      <td>3</td>\n",
       "      <td>1.0</td>\n",
       "      <td>0.0</td>\n",
       "    </tr>\n",
       "    <tr>\n",
       "      <th>2022-07-31</th>\n",
       "      <td>9</td>\n",
       "      <td>1.0</td>\n",
       "      <td>0.0</td>\n",
       "    </tr>\n",
       "  </tbody>\n",
       "</table>\n",
       "</div>"
      ],
      "text/plain": [
       "            total_trades  gain_retorno_media  loss_retorno_media\n",
       "open_date                                                       \n",
       "2019-01-31             3                 1.0                 0.0\n",
       "2019-07-31            11                 1.0                 0.0\n",
       "2020-01-31             3                 1.0                 0.0\n",
       "2020-07-31            12                 1.0                 0.0\n",
       "2021-01-31             2                 1.0                 0.0\n",
       "2021-07-31             4                 1.0                 0.0\n",
       "2022-01-31             3                 1.0                 0.0\n",
       "2022-07-31             9                 1.0                 0.0"
      ]
     },
     "execution_count": 52,
     "metadata": {},
     "output_type": "execute_result"
    }
   ],
   "source": [
    "fechadas_retorno_semestre = fechadas_retorno.set_index('open_date').resample('6M').agg(\n",
    "    total_trades = ('status', 'count'),\n",
    "    gain_retorno_media = ('e_lucro_bruto', 'mean'),\n",
    ")\n",
    "fechadas_retorno_semestre['loss_retorno_media'] = 1-fechadas_retorno_semestre['gain_retorno_media']\n",
    "\n",
    "fechadas_retorno_semestre"
   ]
  },
  {
   "cell_type": "code",
   "execution_count": 53,
   "id": "a97a9150",
   "metadata": {
    "ExecuteTime": {
     "end_time": "2022-08-13T11:30:50.624729Z",
     "start_time": "2022-08-13T11:30:50.561724Z"
    }
   },
   "outputs": [
    {
     "data": {
      "text/html": [
       "<div>\n",
       "<style scoped>\n",
       "    .dataframe tbody tr th:only-of-type {\n",
       "        vertical-align: middle;\n",
       "    }\n",
       "\n",
       "    .dataframe tbody tr th {\n",
       "        vertical-align: top;\n",
       "    }\n",
       "\n",
       "    .dataframe thead th {\n",
       "        text-align: right;\n",
       "    }\n",
       "</style>\n",
       "<table border=\"1\" class=\"dataframe\">\n",
       "  <thead>\n",
       "    <tr style=\"text-align: right;\">\n",
       "      <th></th>\n",
       "      <th>total_trades</th>\n",
       "      <th>gain_var</th>\n",
       "      <th>loss_var</th>\n",
       "    </tr>\n",
       "    <tr>\n",
       "      <th>open_date</th>\n",
       "      <th></th>\n",
       "      <th></th>\n",
       "      <th></th>\n",
       "    </tr>\n",
       "  </thead>\n",
       "  <tbody>\n",
       "    <tr>\n",
       "      <th>2019-01-31</th>\n",
       "      <td>6</td>\n",
       "      <td>0.666667</td>\n",
       "      <td>0.333333</td>\n",
       "    </tr>\n",
       "    <tr>\n",
       "      <th>2019-07-31</th>\n",
       "      <td>20</td>\n",
       "      <td>0.800000</td>\n",
       "      <td>0.200000</td>\n",
       "    </tr>\n",
       "    <tr>\n",
       "      <th>2020-01-31</th>\n",
       "      <td>15</td>\n",
       "      <td>0.600000</td>\n",
       "      <td>0.400000</td>\n",
       "    </tr>\n",
       "    <tr>\n",
       "      <th>2020-07-31</th>\n",
       "      <td>49</td>\n",
       "      <td>0.428571</td>\n",
       "      <td>0.571429</td>\n",
       "    </tr>\n",
       "    <tr>\n",
       "      <th>2021-01-31</th>\n",
       "      <td>21</td>\n",
       "      <td>0.571429</td>\n",
       "      <td>0.428571</td>\n",
       "    </tr>\n",
       "    <tr>\n",
       "      <th>2021-07-31</th>\n",
       "      <td>8</td>\n",
       "      <td>0.500000</td>\n",
       "      <td>0.500000</td>\n",
       "    </tr>\n",
       "    <tr>\n",
       "      <th>2022-01-31</th>\n",
       "      <td>16</td>\n",
       "      <td>0.375000</td>\n",
       "      <td>0.625000</td>\n",
       "    </tr>\n",
       "    <tr>\n",
       "      <th>2022-07-31</th>\n",
       "      <td>45</td>\n",
       "      <td>0.555556</td>\n",
       "      <td>0.444444</td>\n",
       "    </tr>\n",
       "  </tbody>\n",
       "</table>\n",
       "</div>"
      ],
      "text/plain": [
       "            total_trades  gain_var  loss_var\n",
       "open_date                                   \n",
       "2019-01-31             6  0.666667  0.333333\n",
       "2019-07-31            20  0.800000  0.200000\n",
       "2020-01-31            15  0.600000  0.400000\n",
       "2020-07-31            49  0.428571  0.571429\n",
       "2021-01-31            21  0.571429  0.428571\n",
       "2021-07-31             8  0.500000  0.500000\n",
       "2022-01-31            16  0.375000  0.625000\n",
       "2022-07-31            45  0.555556  0.444444"
      ]
     },
     "execution_count": 53,
     "metadata": {},
     "output_type": "execute_result"
    }
   ],
   "source": [
    "fechadas_var_semestre = fechadas_stop_var.set_index('open_date').resample('6M').agg(\n",
    "    total_trades = ('status', 'count'),\n",
    "    gain_var = ('e_lucro_bruto', 'mean'),\n",
    ")\n",
    "fechadas_var_semestre['loss_var'] = 1-fechadas_var_semestre['gain_var']\n",
    "\n",
    "fechadas_var_semestre"
   ]
  },
  {
   "cell_type": "code",
   "execution_count": 54,
   "id": "8e59d33a",
   "metadata": {
    "ExecuteTime": {
     "end_time": "2022-08-13T11:30:52.172722Z",
     "start_time": "2022-08-13T11:30:52.117725Z"
    }
   },
   "outputs": [
    {
     "data": {
      "text/html": [
       "<div>\n",
       "<style scoped>\n",
       "    .dataframe tbody tr th:only-of-type {\n",
       "        vertical-align: middle;\n",
       "    }\n",
       "\n",
       "    .dataframe tbody tr th {\n",
       "        vertical-align: top;\n",
       "    }\n",
       "\n",
       "    .dataframe thead th {\n",
       "        text-align: right;\n",
       "    }\n",
       "</style>\n",
       "<table border=\"1\" class=\"dataframe\">\n",
       "  <thead>\n",
       "    <tr style=\"text-align: right;\">\n",
       "      <th></th>\n",
       "      <th>total_trades</th>\n",
       "      <th>gain_halflife</th>\n",
       "      <th>loss_halflife</th>\n",
       "    </tr>\n",
       "    <tr>\n",
       "      <th>open_date</th>\n",
       "      <th></th>\n",
       "      <th></th>\n",
       "      <th></th>\n",
       "    </tr>\n",
       "  </thead>\n",
       "  <tbody>\n",
       "    <tr>\n",
       "      <th>2019-01-31</th>\n",
       "      <td>9</td>\n",
       "      <td>0.444444</td>\n",
       "      <td>0.555556</td>\n",
       "    </tr>\n",
       "    <tr>\n",
       "      <th>2019-07-31</th>\n",
       "      <td>74</td>\n",
       "      <td>0.554054</td>\n",
       "      <td>0.445946</td>\n",
       "    </tr>\n",
       "    <tr>\n",
       "      <th>2020-01-31</th>\n",
       "      <td>36</td>\n",
       "      <td>0.472222</td>\n",
       "      <td>0.527778</td>\n",
       "    </tr>\n",
       "    <tr>\n",
       "      <th>2020-07-31</th>\n",
       "      <td>35</td>\n",
       "      <td>0.571429</td>\n",
       "      <td>0.428571</td>\n",
       "    </tr>\n",
       "    <tr>\n",
       "      <th>2021-01-31</th>\n",
       "      <td>35</td>\n",
       "      <td>0.600000</td>\n",
       "      <td>0.400000</td>\n",
       "    </tr>\n",
       "    <tr>\n",
       "      <th>2021-07-31</th>\n",
       "      <td>34</td>\n",
       "      <td>0.500000</td>\n",
       "      <td>0.500000</td>\n",
       "    </tr>\n",
       "    <tr>\n",
       "      <th>2022-01-31</th>\n",
       "      <td>30</td>\n",
       "      <td>0.533333</td>\n",
       "      <td>0.466667</td>\n",
       "    </tr>\n",
       "    <tr>\n",
       "      <th>2022-07-31</th>\n",
       "      <td>31</td>\n",
       "      <td>0.451613</td>\n",
       "      <td>0.548387</td>\n",
       "    </tr>\n",
       "  </tbody>\n",
       "</table>\n",
       "</div>"
      ],
      "text/plain": [
       "            total_trades  gain_halflife  loss_halflife\n",
       "open_date                                             \n",
       "2019-01-31             9       0.444444       0.555556\n",
       "2019-07-31            74       0.554054       0.445946\n",
       "2020-01-31            36       0.472222       0.527778\n",
       "2020-07-31            35       0.571429       0.428571\n",
       "2021-01-31            35       0.600000       0.400000\n",
       "2021-07-31            34       0.500000       0.500000\n",
       "2022-01-31            30       0.533333       0.466667\n",
       "2022-07-31            31       0.451613       0.548387"
      ]
     },
     "execution_count": 54,
     "metadata": {},
     "output_type": "execute_result"
    }
   ],
   "source": [
    "halflife_semestre = fechadas_halflife.set_index('open_date').resample('6M').agg(\n",
    "    total_trades = ('status', 'count'),\n",
    "    gain_halflife = ('e_lucro_bruto', 'mean'),\n",
    ")\n",
    "\n",
    "halflife_semestre['loss_halflife'] = 1-halflife_semestre['gain_halflife']\n",
    "\n",
    "halflife_semestre"
   ]
  },
  {
   "cell_type": "markdown",
   "id": "ec7a89d5",
   "metadata": {
    "ExecuteTime": {
     "end_time": "2022-08-12T09:31:19.892023Z",
     "start_time": "2022-08-12T09:31:19.883016Z"
    }
   },
   "source": [
    "# Resumo Pares"
   ]
  },
  {
   "cell_type": "code",
   "execution_count": null,
   "id": "915947cc",
   "metadata": {
    "ExecuteTime": {
     "end_time": "2022-08-13T11:29:48.910462Z",
     "start_time": "2022-08-13T11:29:17.971Z"
    }
   },
   "outputs": [],
   "source": [
    "fechadas_grouped = fechadas.groupby('sorted_pair').agg(\n",
    "    trades = ('sorted_pair','count'),\n",
    "    taxa_acerto = ('e_lucro_bruto', 'mean'),\n",
    "    prazo_medio_operacao = ('days_open', 'mean'),\n",
    "    retorno_bruto_acum = ('retorno_acumulado_sem_custos', 'sum'),\n",
    "    retorno_liquidi_acum = ('retorno_acumulado', 'sum')\n",
    ")\n",
    "\n",
    "fechadas_grouped.sort_values(by=['trades', 'taxa_acerto'], ascending=False).head(15)"
   ]
  },
  {
   "cell_type": "code",
   "execution_count": null,
   "id": "f8063443",
   "metadata": {},
   "outputs": [],
   "source": []
  },
  {
   "cell_type": "code",
   "execution_count": null,
   "id": "04f5c767",
   "metadata": {},
   "outputs": [],
   "source": []
  }
 ],
 "metadata": {
  "kernelspec": {
   "display_name": "Python 3",
   "language": "python",
   "name": "python3"
  },
  "language_info": {
   "codemirror_mode": {
    "name": "ipython",
    "version": 3
   },
   "file_extension": ".py",
   "mimetype": "text/x-python",
   "name": "python",
   "nbconvert_exporter": "python",
   "pygments_lexer": "ipython3",
   "version": "3.8.4"
  }
 },
 "nbformat": 4,
 "nbformat_minor": 5
}
