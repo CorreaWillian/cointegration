{
 "cells": [
  {
   "cell_type": "code",
   "execution_count": 1,
   "id": "1b483842",
   "metadata": {
    "ExecuteTime": {
     "end_time": "2022-08-12T14:42:04.861716Z",
     "start_time": "2022-08-12T14:41:57.660931Z"
    }
   },
   "outputs": [],
   "source": [
    "import pandas as pd\n",
    "import numpy as np\n",
    "import seaborn as sns\n",
    "# from backtest import executer\n",
    "import matplotlib.pyplot as plt\n",
    "import plotly.express as px\n",
    "import math\n",
    "import ast\n",
    "from scipy.stats import spearmanr, kstest\n"
   ]
  },
  {
   "cell_type": "code",
   "execution_count": 2,
   "id": "1a8962dd",
   "metadata": {
    "ExecuteTime": {
     "end_time": "2022-08-12T14:42:10.910032Z",
     "start_time": "2022-08-12T14:42:10.886034Z"
    }
   },
   "outputs": [],
   "source": [
    "sns.set(rc={'figure.figsize':(15,8)})"
   ]
  },
  {
   "cell_type": "code",
   "execution_count": 3,
   "id": "572529c4",
   "metadata": {
    "ExecuteTime": {
     "end_time": "2022-08-12T14:42:14.293332Z",
     "start_time": "2022-08-12T14:42:11.462037Z"
    }
   },
   "outputs": [],
   "source": [
    "portfolio = pd.read_excel('PORTFOLIO.xlsx')\n",
    "\n",
    "df = pd.read_csv('comVar.csv')\n",
    "\n",
    "df['date'] = pd.to_datetime(df.date)\n",
    "df['open_date'] = pd.to_datetime(df.open_date)\n",
    "df['days_open'] = df['days_open'].astype(float)\n",
    "df['stock1'] = [pair.split(\"'\")[1] for pair in df.pair]"
   ]
  },
  {
   "cell_type": "code",
   "execution_count": 4,
   "id": "44b8987b",
   "metadata": {
    "ExecuteTime": {
     "end_time": "2022-08-12T14:42:14.461337Z",
     "start_time": "2022-08-12T14:42:14.293332Z"
    }
   },
   "outputs": [],
   "source": [
    "df = df.merge(portfolio.drop_duplicates('ticker'), left_on='stock1', right_on='ticker',how='left')\n",
    "\n",
    "df.drop(columns=['stock1', 'ticker'], inplace=True)\n",
    "df['pair'] = df.pair.apply(ast.literal_eval)\n",
    "df['sorted_pair'] = df.pair.apply(sorted).apply(tuple)"
   ]
  },
  {
   "cell_type": "code",
   "execution_count": 5,
   "id": "7255508e",
   "metadata": {
    "ExecuteTime": {
     "end_time": "2022-08-12T14:42:14.509333Z",
     "start_time": "2022-08-12T14:42:14.469335Z"
    }
   },
   "outputs": [],
   "source": [
    "df.drop_duplicates(subset=['date', 'sorted_pair'], keep='first',inplace=True)"
   ]
  },
  {
   "cell_type": "code",
   "execution_count": 6,
   "id": "b0a6efdf",
   "metadata": {
    "ExecuteTime": {
     "end_time": "2022-08-12T14:42:14.541334Z",
     "start_time": "2022-08-12T14:42:14.517329Z"
    }
   },
   "outputs": [],
   "source": [
    "df.loc[df['residual_open'] < df['std_open_residual'], 'side'] = 'lower'\n",
    "df.loc[df['residual_open'] > df['std_open_residual'], 'side'] = 'upper'"
   ]
  },
  {
   "cell_type": "code",
   "execution_count": 7,
   "id": "1c132fff",
   "metadata": {
    "ExecuteTime": {
     "end_time": "2022-08-12T14:42:21.966431Z",
     "start_time": "2022-08-12T14:42:14.541334Z"
    }
   },
   "outputs": [],
   "source": [
    "returns_list = []\n",
    "i=1\n",
    "closed = df.loc[df.status=='close']\n",
    "\n",
    "for row in closed.itertuples():\n",
    "\n",
    "    historico_par = df.loc[(df.pair==row.pair) & (df.date.between(row.open_date,row.date))].copy()\n",
    "    historico_par.set_index('date', inplace=True)\n",
    "    historico_par['id'] = i\n",
    "    \n",
    "    \n",
    "#     display(historico_par)\n",
    "#     Custo entrada: 1,22% + 0,1% = 1,31%\n",
    "#     Custo saida: 1,22% + 0,25% + 0,1% = 1,57% + Aluguel\n",
    "    \n",
    "#     display(historico_par)\n",
    "    aluguel = (1.0143)**((row.days_open+2)/252) -1\n",
    "    try:\n",
    "        if row.side == 'lower':\n",
    "            \n",
    "            historico_par['ratio_sem_custos'] = historico_par['price_fst_stock'] / historico_par['price_scnd_stock']\n",
    "            \n",
    "            historico_par.at[row.open_date, 'price_fst_stock'] = historico_par.at[row.open_date, 'price_fst_stock']\n",
    "            \n",
    "            # Entrada\n",
    "            historico_par.at[row.open_date, 'price_fst_stock'] = historico_par.loc[row.open_date, 'price_fst_stock'] * (1+0.0071)\n",
    "            historico_par.at[row.open_date, 'price_scnd_stock'] = historico_par.loc[row.open_date, 'price_scnd_stock'] * (1-0.0071)\n",
    "            \n",
    "                    \n",
    "            # Saída\n",
    "            historico_par.at[row.date, 'price_fst_stock'] = historico_par.loc[row.date, 'price_fst_stock'] * (1-0.0071)\n",
    "            historico_par.at[row.date, 'price_scnd_stock'] = historico_par.loc[row.date, 'price_scnd_stock'] * (1+(0.0071+aluguel))\n",
    "\n",
    "            historico_par['ratio'] = historico_par['price_fst_stock'] / historico_par['price_scnd_stock']\n",
    "            \n",
    "        else:\n",
    "            \n",
    "            historico_par['ratio_sem_custos'] = historico_par['price_scnd_stock'] / historico_par['price_fst_stock']\n",
    "            \n",
    "            historico_par.at[row.open_date, 'price_scnd_stock'] = historico_par.loc[row.open_date, 'price_scnd_stock']\n",
    "            # Entrada\n",
    "            historico_par.at[row.open_date, 'price_scnd_stock'] = historico_par.loc[row.open_date, 'price_scnd_stock'] * (1+0.0071)\n",
    "            historico_par.at[row.open_date, 'price_fst_stock'] = historico_par.loc[row.open_date, 'price_fst_stock'] * (1-0.0071)\n",
    "\n",
    "            # Saida\n",
    "            historico_par.at[row.date, 'price_scnd_stock'] = historico_par.loc[row.date, 'price_scnd_stock'] * (1-0.0071)\n",
    "            historico_par.at[row.date, 'price_fst_stock'] = historico_par.loc[row.date, 'price_fst_stock'] * (1+(0.0071+aluguel))\n",
    "\n",
    "            historico_par['ratio'] = historico_par['price_scnd_stock'] / historico_par['price_fst_stock']\n",
    "        \n",
    "        \n",
    "        historico_par['open_price_first_stock'] = historico_par.at[row.open_date, 'price_fst_stock']\n",
    "        historico_par['open_price_scnd_stock'] = historico_par.at[row.open_date, 'price_scnd_stock']\n",
    "        \n",
    "        historico_par['return'] = (historico_par.ratio / historico_par.ratio.shift(1)) -1\n",
    "        historico_par['retorno_acumulado'] = np.cumprod(1+historico_par['return']) -1\n",
    "        \n",
    "        historico_par['return_sem_custos'] = (historico_par.ratio_sem_custos / historico_par.ratio_sem_custos.shift(1)) -1\n",
    "        historico_par['retorno_acumulado_sem_custos'] = (np.cumprod(1+historico_par['return_sem_custos']) -1)\n",
    "        \n",
    "        returns_list.append(historico_par)\n",
    "        \n",
    "    except Exception as e:\n",
    "#         print(e)\n",
    "        pass\n",
    "    \n",
    "    i+=1"
   ]
  },
  {
   "cell_type": "code",
   "execution_count": 8,
   "id": "988422a5",
   "metadata": {
    "ExecuteTime": {
     "end_time": "2022-08-12T14:42:22.022451Z",
     "start_time": "2022-08-12T14:42:21.974435Z"
    }
   },
   "outputs": [],
   "source": [
    "def result_calculator(row, kind='CN'):\n",
    "    \n",
    "    if kind=='CN':\n",
    "        multiplier = 1\n",
    "    if kind == 'BN':\n",
    "        multiplier = row.beta_open\n",
    "    \n",
    "    if row['residual_open'] < row['std_open_residual']:\n",
    "        long_result =(row['price_fst_stock'] / row['open_price_first_stock'])\n",
    "        short_result = (row['open_price_scnd_stock'] / row['price_scnd_stock'])\n",
    "        \n",
    "        short_result = multiplier * short_result\n",
    "        result = (long_result * short_result) - 1\n",
    "        \n",
    "        return result, 'lower'\n",
    "    \n",
    "    elif row['residual_open'] > row['std_open_residual']:\n",
    "        long_result = (row['open_price_first_stock'] / row['price_fst_stock'])\n",
    "        short_result = (row['price_scnd_stock'] / row['open_price_scnd_stock'])\n",
    "        \n",
    "        short_result = multiplier * short_result\n",
    "        result = (long_result * short_result) - 1\n",
    "\n",
    "        return result, 'upper'"
   ]
  },
  {
   "cell_type": "code",
   "execution_count": 9,
   "id": "138fc5ac",
   "metadata": {
    "ExecuteTime": {
     "end_time": "2022-08-12T14:42:22.871026Z",
     "start_time": "2022-08-12T14:42:22.030432Z"
    }
   },
   "outputs": [],
   "source": [
    "df_returns = pd.concat(returns_list)\n",
    "df_returns.reset_index(inplace=True)"
   ]
  },
  {
   "cell_type": "code",
   "execution_count": 10,
   "id": "ef267164",
   "metadata": {
    "ExecuteTime": {
     "end_time": "2022-08-12T14:42:22.944644Z",
     "start_time": "2022-08-12T14:42:22.878989Z"
    }
   },
   "outputs": [],
   "source": [
    "log_retorno = np.log(1+df_returns.set_index(['date', 'pair', 'open_date','status'])[['return', 'return_sem_custos']]).fillna(0)\n",
    "retorno_acumulado =  np.exp(log_retorno.cumsum()) - 1\n",
    "retorno_acumulado.reset_index(inplace=True)"
   ]
  },
  {
   "cell_type": "code",
   "execution_count": 11,
   "id": "07c5c082",
   "metadata": {
    "ExecuteTime": {
     "end_time": "2022-08-12T14:42:22.992643Z",
     "start_time": "2022-08-12T14:42:22.944644Z"
    }
   },
   "outputs": [
    {
     "data": {
      "text/plain": [
       "7.42054433713784"
      ]
     },
     "execution_count": 11,
     "metadata": {},
     "output_type": "execute_result"
    }
   ],
   "source": [
    "df_returns.halflife.mean()"
   ]
  },
  {
   "cell_type": "code",
   "execution_count": 12,
   "id": "5a36a73c",
   "metadata": {
    "ExecuteTime": {
     "end_time": "2022-08-12T14:42:23.024643Z",
     "start_time": "2022-08-12T14:42:22.992643Z"
    }
   },
   "outputs": [],
   "source": [
    "closed = df_returns.loc[df_returns.status=='close']"
   ]
  },
  {
   "cell_type": "code",
   "execution_count": 13,
   "id": "0ea400c5",
   "metadata": {
    "ExecuteTime": {
     "end_time": "2022-08-12T14:42:23.088645Z",
     "start_time": "2022-08-12T14:42:23.024643Z"
    }
   },
   "outputs": [],
   "source": [
    "ibov = pd.read_csv('ibov.csv', usecols=[0,4], index_col=0)\n",
    "ibov.index = pd.to_datetime(ibov.index)\n",
    "ibov = ibov.loc[df_returns.date.min():df_returns.date.max()]"
   ]
  },
  {
   "cell_type": "code",
   "execution_count": 14,
   "id": "1b54e482",
   "metadata": {
    "ExecuteTime": {
     "end_time": "2022-08-12T14:42:23.152637Z",
     "start_time": "2022-08-12T14:42:23.096641Z"
    }
   },
   "outputs": [],
   "source": [
    "log_ret_ibov = np.log(ibov/ibov.shift())\n",
    "ibov_return = ibov/ibov.shift() -1\n",
    "ibov_retornos = ibov/ibov.shift() -1\n",
    "cumsum_ibov = np.cumsum(log_ret_ibov)\n",
    "ibov_pct = np.exp(cumsum_ibov) -1"
   ]
  },
  {
   "cell_type": "code",
   "execution_count": 15,
   "id": "9fc5634e",
   "metadata": {
    "ExecuteTime": {
     "end_time": "2022-08-12T14:42:23.216644Z",
     "start_time": "2022-08-12T14:42:23.160642Z"
    },
    "scrolled": false
   },
   "outputs": [],
   "source": [
    "# Retorno com custos\n",
    "acumulado_com_custos = np.cumprod(1+df_returns.groupby('date').sum()['return']) -1"
   ]
  },
  {
   "cell_type": "code",
   "execution_count": 16,
   "id": "c50dba35",
   "metadata": {
    "ExecuteTime": {
     "end_time": "2022-08-12T14:42:23.288649Z",
     "start_time": "2022-08-12T14:42:23.216644Z"
    }
   },
   "outputs": [],
   "source": [
    "# Resultado sem custos por dia\n",
    "acumulado_sem_custo = np.cumprod(1+df_returns.groupby('date').sum().return_sem_custos) -1\n"
   ]
  },
  {
   "cell_type": "code",
   "execution_count": 17,
   "id": "4f022bdb",
   "metadata": {
    "ExecuteTime": {
     "end_time": "2022-08-12T14:42:26.385861Z",
     "start_time": "2022-08-12T14:42:23.296641Z"
    }
   },
   "outputs": [
    {
     "name": "stderr",
     "output_type": "stream",
     "text": [
      "<ipython-input-17-902cf3657bf9>:4: SettingWithCopyWarning: \n",
      "A value is trying to be set on a copy of a slice from a DataFrame.\n",
      "Try using .loc[row_indexer,col_indexer] = value instead\n",
      "\n",
      "See the caveats in the documentation: https://pandas.pydata.org/pandas-docs/stable/user_guide/indexing.html#returning-a-view-versus-a-copy\n",
      "  fechadas['e_lucro_bruto'] = fechadas['retorno_acumulado_sem_custos'] > 0\n",
      "<ipython-input-17-902cf3657bf9>:5: SettingWithCopyWarning: \n",
      "A value is trying to be set on a copy of a slice from a DataFrame.\n",
      "Try using .loc[row_indexer,col_indexer] = value instead\n",
      "\n",
      "See the caveats in the documentation: https://pandas.pydata.org/pandas-docs/stable/user_guide/indexing.html#returning-a-view-versus-a-copy\n",
      "  fechadas['e_lucro_liquido'] = fechadas['retorno_acumulado'] > 0\n"
     ]
    }
   ],
   "source": [
    "# Operações Fechadas\n",
    "fechadas = df_returns.loc[df_returns.status=='close']\n",
    "\n",
    "fechadas['e_lucro_bruto'] = fechadas['retorno_acumulado_sem_custos'] > 0\n",
    "fechadas['e_lucro_liquido'] = fechadas['retorno_acumulado'] > 0\n",
    "\n",
    "retorno_diario = df_returns.groupby('date').sum()"
   ]
  },
  {
   "cell_type": "markdown",
   "id": "fdbcebcb",
   "metadata": {},
   "source": [
    "# Graficos"
   ]
  },
  {
   "cell_type": "code",
   "execution_count": 18,
   "id": "40aa3c0a",
   "metadata": {
    "ExecuteTime": {
     "end_time": "2022-08-12T14:42:29.885886Z",
     "start_time": "2022-08-12T14:42:26.398426Z"
    }
   },
   "outputs": [
    {
     "data": {
      "text/plain": [
       "<matplotlib.legend.Legend at 0x20a3492af40>"
      ]
     },
     "execution_count": 18,
     "metadata": {},
     "output_type": "execute_result"
    },
    {
     "data": {
      "image/png": "[encoded data removed]",
      "text/plain": [
       "<Figure size 1080x576 with 1 Axes>"
      ]
     },
     "metadata": {},
     "output_type": "display_data"
    }
   ],
   "source": [
    "sns.lineplot(x=ibov_pct.index, y=ibov_pct.close, label='ibov')\n",
    "sns.lineplot(x=acumulado_com_custos.index, y=acumulado_com_custos, label='retorno acumulado')\n",
    "plt.ylabel('retorno')\n",
    "plt.xlabel('data')\n",
    "\n",
    "plt.legend()\n",
    "plt.legend(bbox_to_anchor=(1.01, 1), loc=2, borderaxespad=0.)\n",
    "\n",
    "# sns.lineplot(x=cumsum_result_BN.index, y=cumsum_result_BN, label='cointegration beta neutral')\n"
   ]
  },
  {
   "cell_type": "code",
   "execution_count": 19,
   "id": "b7330898",
   "metadata": {
    "ExecuteTime": {
     "end_time": "2022-08-12T14:42:33.715483Z",
     "start_time": "2022-08-12T14:42:29.885886Z"
    },
    "scrolled": false
   },
   "outputs": [
    {
     "data": {
      "text/plain": [
       "<matplotlib.legend.Legend at 0x20a34e26340>"
      ]
     },
     "execution_count": 19,
     "metadata": {},
     "output_type": "execute_result"
    },
    {
     "data": {
      "image/png": "[encoded data removed]",
      "text/plain": [
       "<Figure size 1080x576 with 1 Axes>"
      ]
     },
     "metadata": {},
     "output_type": "display_data"
    }
   ],
   "source": [
    "sns.lineplot(x=ibov_pct.index, y=ibov_pct.close, label='ibov')\n",
    "sns.lineplot(x=acumulado_sem_custo.index, y=acumulado_sem_custo, label='retorno acumulado\\nsem custos')\n",
    "plt.ylabel('retorno')\n",
    "plt.xlabel('data')\n",
    "\n",
    "plt.legend()\n",
    "plt.legend(bbox_to_anchor=(1.01, 1), loc=2, borderaxespad=0.)"
   ]
  },
  {
   "cell_type": "code",
   "execution_count": 20,
   "id": "3ab1a39e",
   "metadata": {
    "ExecuteTime": {
     "end_time": "2022-08-12T14:42:33.757501Z",
     "start_time": "2022-08-12T14:42:33.717506Z"
    }
   },
   "outputs": [],
   "source": [
    "retornos_diarios = pd.concat([ibov_return, retorno_diario[['return', 'return_sem_custos']]], axis=1)\n",
    "retornos_diarios.fillna(0, inplace=True)\n",
    "retornos_diarios.columns = ['ibov', 'retorno_com_custos', 'retorno_sem_custos']"
   ]
  },
  {
   "cell_type": "code",
   "execution_count": 21,
   "id": "4361e1e9",
   "metadata": {
    "ExecuteTime": {
     "end_time": "2022-08-12T14:42:33.821919Z",
     "start_time": "2022-08-12T14:42:33.757501Z"
    }
   },
   "outputs": [
    {
     "data": {
      "text/html": [
       "<div>\n",
       "<style scoped>\n",
       "    .dataframe tbody tr th:only-of-type {\n",
       "        vertical-align: middle;\n",
       "    }\n",
       "\n",
       "    .dataframe tbody tr th {\n",
       "        vertical-align: top;\n",
       "    }\n",
       "\n",
       "    .dataframe thead th {\n",
       "        text-align: right;\n",
       "    }\n",
       "</style>\n",
       "<table border=\"1\" class=\"dataframe\">\n",
       "  <thead>\n",
       "    <tr style=\"text-align: right;\">\n",
       "      <th></th>\n",
       "      <th>ibov</th>\n",
       "      <th>retorno_com_custos</th>\n",
       "      <th>retorno_sem_custos</th>\n",
       "    </tr>\n",
       "  </thead>\n",
       "  <tbody>\n",
       "    <tr>\n",
       "      <th>2019-07-03</th>\n",
       "      <td>0.000000</td>\n",
       "      <td>0.000000</td>\n",
       "      <td>0.000000</td>\n",
       "    </tr>\n",
       "    <tr>\n",
       "      <th>2019-07-04</th>\n",
       "      <td>0.015611</td>\n",
       "      <td>-0.003661</td>\n",
       "      <td>0.010588</td>\n",
       "    </tr>\n",
       "    <tr>\n",
       "      <th>2019-07-05</th>\n",
       "      <td>0.020060</td>\n",
       "      <td>0.010990</td>\n",
       "      <td>0.025449</td>\n",
       "    </tr>\n",
       "    <tr>\n",
       "      <th>2019-07-08</th>\n",
       "      <td>0.024372</td>\n",
       "      <td>0.001046</td>\n",
       "      <td>0.015362</td>\n",
       "    </tr>\n",
       "    <tr>\n",
       "      <th>2019-07-10</th>\n",
       "      <td>0.036984</td>\n",
       "      <td>0.007896</td>\n",
       "      <td>0.022310</td>\n",
       "    </tr>\n",
       "    <tr>\n",
       "      <th>...</th>\n",
       "      <td>...</td>\n",
       "      <td>...</td>\n",
       "      <td>...</td>\n",
       "    </tr>\n",
       "    <tr>\n",
       "      <th>2022-06-27</th>\n",
       "      <td>-0.012534</td>\n",
       "      <td>-0.985626</td>\n",
       "      <td>2.403570</td>\n",
       "    </tr>\n",
       "    <tr>\n",
       "      <th>2022-06-28</th>\n",
       "      <td>-0.014229</td>\n",
       "      <td>-0.986053</td>\n",
       "      <td>2.350427</td>\n",
       "    </tr>\n",
       "    <tr>\n",
       "      <th>2022-06-29</th>\n",
       "      <td>-0.023725</td>\n",
       "      <td>-0.986158</td>\n",
       "      <td>2.325216</td>\n",
       "    </tr>\n",
       "    <tr>\n",
       "      <th>2022-06-30</th>\n",
       "      <td>-0.034309</td>\n",
       "      <td>-0.986614</td>\n",
       "      <td>2.264225</td>\n",
       "    </tr>\n",
       "    <tr>\n",
       "      <th>2022-07-01</th>\n",
       "      <td>-0.030272</td>\n",
       "      <td>-0.986851</td>\n",
       "      <td>2.253429</td>\n",
       "    </tr>\n",
       "  </tbody>\n",
       "</table>\n",
       "<p>745 rows × 3 columns</p>\n",
       "</div>"
      ],
      "text/plain": [
       "                ibov  retorno_com_custos  retorno_sem_custos\n",
       "2019-07-03  0.000000            0.000000            0.000000\n",
       "2019-07-04  0.015611           -0.003661            0.010588\n",
       "2019-07-05  0.020060            0.010990            0.025449\n",
       "2019-07-08  0.024372            0.001046            0.015362\n",
       "2019-07-10  0.036984            0.007896            0.022310\n",
       "...              ...                 ...                 ...\n",
       "2022-06-27 -0.012534           -0.985626            2.403570\n",
       "2022-06-28 -0.014229           -0.986053            2.350427\n",
       "2022-06-29 -0.023725           -0.986158            2.325216\n",
       "2022-06-30 -0.034309           -0.986614            2.264225\n",
       "2022-07-01 -0.030272           -0.986851            2.253429\n",
       "\n",
       "[745 rows x 3 columns]"
      ]
     },
     "execution_count": 21,
     "metadata": {},
     "output_type": "execute_result"
    }
   ],
   "source": [
    "log_retornos = np.log(1+retornos_diarios)\n",
    "retornos_acumulados = np.exp(log_retornos.cumsum()) -1\n",
    "retornos_acumulados"
   ]
  },
  {
   "cell_type": "markdown",
   "id": "15b1a9f1",
   "metadata": {},
   "source": [
    "# Descritivas"
   ]
  },
  {
   "cell_type": "code",
   "execution_count": 22,
   "id": "f9264156",
   "metadata": {
    "ExecuteTime": {
     "end_time": "2022-08-12T14:42:33.965913Z",
     "start_time": "2022-08-12T14:42:33.829915Z"
    }
   },
   "outputs": [
    {
     "data": {
      "text/html": [
       "<div>\n",
       "<style scoped>\n",
       "    .dataframe tbody tr th:only-of-type {\n",
       "        vertical-align: middle;\n",
       "    }\n",
       "\n",
       "    .dataframe tbody tr th {\n",
       "        vertical-align: top;\n",
       "    }\n",
       "\n",
       "    .dataframe thead th {\n",
       "        text-align: right;\n",
       "    }\n",
       "</style>\n",
       "<table border=\"1\" class=\"dataframe\">\n",
       "  <thead>\n",
       "    <tr style=\"text-align: right;\">\n",
       "      <th></th>\n",
       "      <th>ibov</th>\n",
       "      <th>retorno_com_custos</th>\n",
       "      <th>retorno_sem_custos</th>\n",
       "    </tr>\n",
       "  </thead>\n",
       "  <tbody>\n",
       "    <tr>\n",
       "      <th>count</th>\n",
       "      <td>745.000000</td>\n",
       "      <td>745.000000</td>\n",
       "      <td>745.000000</td>\n",
       "    </tr>\n",
       "    <tr>\n",
       "      <th>mean</th>\n",
       "      <td>0.000142</td>\n",
       "      <td>-0.005483</td>\n",
       "      <td>0.001872</td>\n",
       "    </tr>\n",
       "    <tr>\n",
       "      <th>std</th>\n",
       "      <td>0.019005</td>\n",
       "      <td>0.024799</td>\n",
       "      <td>0.024063</td>\n",
       "    </tr>\n",
       "    <tr>\n",
       "      <th>min</th>\n",
       "      <td>-0.147797</td>\n",
       "      <td>-0.154388</td>\n",
       "      <td>-0.140516</td>\n",
       "    </tr>\n",
       "    <tr>\n",
       "      <th>25%</th>\n",
       "      <td>-0.008153</td>\n",
       "      <td>-0.012048</td>\n",
       "      <td>-0.003544</td>\n",
       "    </tr>\n",
       "    <tr>\n",
       "      <th>50%</th>\n",
       "      <td>0.000625</td>\n",
       "      <td>0.000000</td>\n",
       "      <td>0.000000</td>\n",
       "    </tr>\n",
       "    <tr>\n",
       "      <th>75%</th>\n",
       "      <td>0.009616</td>\n",
       "      <td>0.000000</td>\n",
       "      <td>0.006023</td>\n",
       "    </tr>\n",
       "    <tr>\n",
       "      <th>max</th>\n",
       "      <td>0.139082</td>\n",
       "      <td>0.109968</td>\n",
       "      <td>0.140733</td>\n",
       "    </tr>\n",
       "  </tbody>\n",
       "</table>\n",
       "</div>"
      ],
      "text/plain": [
       "             ibov  retorno_com_custos  retorno_sem_custos\n",
       "count  745.000000          745.000000          745.000000\n",
       "mean     0.000142           -0.005483            0.001872\n",
       "std      0.019005            0.024799            0.024063\n",
       "min     -0.147797           -0.154388           -0.140516\n",
       "25%     -0.008153           -0.012048           -0.003544\n",
       "50%      0.000625            0.000000            0.000000\n",
       "75%      0.009616            0.000000            0.006023\n",
       "max      0.139082            0.109968            0.140733"
      ]
     },
     "execution_count": 22,
     "metadata": {},
     "output_type": "execute_result"
    }
   ],
   "source": [
    "retornos_diarios.describe()"
   ]
  },
  {
   "cell_type": "code",
   "execution_count": 23,
   "id": "5a957bbc",
   "metadata": {
    "ExecuteTime": {
     "end_time": "2022-08-12T14:42:34.029920Z",
     "start_time": "2022-08-12T14:42:33.965913Z"
    }
   },
   "outputs": [
    {
     "name": "stdout",
     "output_type": "stream",
     "text": [
      "Correlação de Spearman Resutado líquido: 0.0442\n"
     ]
    }
   ],
   "source": [
    "coeficiente_liquido, p_valor = spearmanr(retornos_diarios[['ibov', 'retorno_com_custos']])\n",
    "print('Correlação de Spearman Resutado líquido: {:0.3}'.format(coeficiente_liquido))"
   ]
  },
  {
   "cell_type": "code",
   "execution_count": 24,
   "id": "7f5c3fe6",
   "metadata": {
    "ExecuteTime": {
     "end_time": "2022-08-12T14:42:34.061915Z",
     "start_time": "2022-08-12T14:42:34.029920Z"
    }
   },
   "outputs": [
    {
     "name": "stdout",
     "output_type": "stream",
     "text": [
      "Correlação de Spearman Resutado bruto: 0.071\n"
     ]
    }
   ],
   "source": [
    "coeficiente_bruto, p_valor = spearmanr(retornos_diarios[['ibov', 'retorno_sem_custos']])\n",
    "print('Correlação de Spearman Resutado bruto: {:0.3}'.format(coeficiente_bruto))"
   ]
  },
  {
   "cell_type": "code",
   "execution_count": 25,
   "id": "d57c4306",
   "metadata": {
    "ExecuteTime": {
     "end_time": "2022-08-12T14:42:34.109922Z",
     "start_time": "2022-08-12T14:42:34.061915Z"
    }
   },
   "outputs": [
    {
     "data": {
      "text/plain": [
       "KstestResult(statistic=0.46452497829579165, pvalue=9.203229662673582e-148)"
      ]
     },
     "execution_count": 25,
     "metadata": {},
     "output_type": "execute_result"
    }
   ],
   "source": [
    "# TESTE NORMALIDADE\n",
    "#perform Kolmogorov-Smirnov test\n",
    "kstest(retornos_diarios.retorno_sem_custos, 'norm')"
   ]
  },
  {
   "cell_type": "code",
   "execution_count": 26,
   "id": "0f2d78c4",
   "metadata": {
    "ExecuteTime": {
     "end_time": "2022-08-12T14:42:34.149911Z",
     "start_time": "2022-08-12T14:42:34.117919Z"
    }
   },
   "outputs": [
    {
     "data": {
      "text/plain": [
       "KstestResult(statistic=0.4666931040907797, pvalue=3.1901618459622263e-149)"
      ]
     },
     "execution_count": 26,
     "metadata": {},
     "output_type": "execute_result"
    }
   ],
   "source": [
    "# TESTE NORMALIDADE\n",
    "#perform Kolmogorov-Smirnov test\n",
    "kstest(retornos_diarios.retorno_com_custos, 'norm')"
   ]
  },
  {
   "cell_type": "code",
   "execution_count": 27,
   "id": "05d1e862",
   "metadata": {
    "ExecuteTime": {
     "end_time": "2022-08-12T14:42:34.325918Z",
     "start_time": "2022-08-12T14:42:34.149911Z"
    }
   },
   "outputs": [
    {
     "data": {
      "text/plain": [
       "count    948.000000\n",
       "mean      -0.004309\n",
       "std        0.021086\n",
       "min       -0.109944\n",
       "25%       -0.013428\n",
       "50%       -0.003831\n",
       "75%        0.005508\n",
       "max        0.110137\n",
       "Name: return, dtype: float64"
      ]
     },
     "execution_count": 27,
     "metadata": {},
     "output_type": "execute_result"
    }
   ],
   "source": [
    "df_returns['return'].describe()"
   ]
  },
  {
   "cell_type": "code",
   "execution_count": 28,
   "id": "cffcefbb",
   "metadata": {
    "ExecuteTime": {
     "end_time": "2022-08-12T14:42:34.406211Z",
     "start_time": "2022-08-12T14:42:34.325918Z"
    }
   },
   "outputs": [
    {
     "data": {
      "text/plain": [
       "count    948.000000\n",
       "mean       0.001471\n",
       "std        0.020706\n",
       "min       -0.109944\n",
       "25%       -0.008107\n",
       "50%        0.000754\n",
       "75%        0.009533\n",
       "max        0.119451\n",
       "Name: return_sem_custos, dtype: float64"
      ]
     },
     "execution_count": 28,
     "metadata": {},
     "output_type": "execute_result"
    }
   ],
   "source": [
    "df_returns['return_sem_custos'].describe()"
   ]
  },
  {
   "cell_type": "markdown",
   "id": "23f8b101",
   "metadata": {
    "ExecuteTime": {
     "end_time": "2022-08-12T03:45:46.655213Z",
     "start_time": "2022-08-12T03:45:46.631172Z"
    }
   },
   "source": [
    "# Eficacia"
   ]
  },
  {
   "cell_type": "code",
   "execution_count": 29,
   "id": "a79dc21a",
   "metadata": {
    "ExecuteTime": {
     "end_time": "2022-08-12T14:42:34.558393Z",
     "start_time": "2022-08-12T14:42:34.406383Z"
    }
   },
   "outputs": [
    {
     "data": {
      "text/html": [
       "<div>\n",
       "<style scoped>\n",
       "    .dataframe tbody tr th:only-of-type {\n",
       "        vertical-align: middle;\n",
       "    }\n",
       "\n",
       "    .dataframe tbody tr th {\n",
       "        vertical-align: top;\n",
       "    }\n",
       "\n",
       "    .dataframe thead th {\n",
       "        text-align: right;\n",
       "    }\n",
       "</style>\n",
       "<table border=\"1\" class=\"dataframe\">\n",
       "  <thead>\n",
       "    <tr style=\"text-align: right;\">\n",
       "      <th></th>\n",
       "      <th>num_operacoes</th>\n",
       "      <th>taxa_acerto</th>\n",
       "      <th>tempo_medio_operacao</th>\n",
       "    </tr>\n",
       "    <tr>\n",
       "      <th>open_date</th>\n",
       "      <th></th>\n",
       "      <th></th>\n",
       "      <th></th>\n",
       "    </tr>\n",
       "  </thead>\n",
       "  <tbody>\n",
       "    <tr>\n",
       "      <th>2019-07-31</th>\n",
       "      <td>1</td>\n",
       "      <td>1.000000</td>\n",
       "      <td>5.000000</td>\n",
       "    </tr>\n",
       "    <tr>\n",
       "      <th>2020-01-31</th>\n",
       "      <td>16</td>\n",
       "      <td>0.750000</td>\n",
       "      <td>4.687500</td>\n",
       "    </tr>\n",
       "    <tr>\n",
       "      <th>2020-07-31</th>\n",
       "      <td>36</td>\n",
       "      <td>0.611111</td>\n",
       "      <td>4.055556</td>\n",
       "    </tr>\n",
       "    <tr>\n",
       "      <th>2021-01-31</th>\n",
       "      <td>30</td>\n",
       "      <td>0.566667</td>\n",
       "      <td>5.933333</td>\n",
       "    </tr>\n",
       "    <tr>\n",
       "      <th>2021-07-31</th>\n",
       "      <td>29</td>\n",
       "      <td>0.620690</td>\n",
       "      <td>6.413793</td>\n",
       "    </tr>\n",
       "    <tr>\n",
       "      <th>2022-01-31</th>\n",
       "      <td>34</td>\n",
       "      <td>0.558824</td>\n",
       "      <td>4.705882</td>\n",
       "    </tr>\n",
       "    <tr>\n",
       "      <th>2022-07-31</th>\n",
       "      <td>45</td>\n",
       "      <td>0.600000</td>\n",
       "      <td>4.511111</td>\n",
       "    </tr>\n",
       "  </tbody>\n",
       "</table>\n",
       "</div>"
      ],
      "text/plain": [
       "            num_operacoes  taxa_acerto  tempo_medio_operacao\n",
       "open_date                                                   \n",
       "2019-07-31              1     1.000000              5.000000\n",
       "2020-01-31             16     0.750000              4.687500\n",
       "2020-07-31             36     0.611111              4.055556\n",
       "2021-01-31             30     0.566667              5.933333\n",
       "2021-07-31             29     0.620690              6.413793\n",
       "2022-01-31             34     0.558824              4.705882\n",
       "2022-07-31             45     0.600000              4.511111"
      ]
     },
     "execution_count": 29,
     "metadata": {},
     "output_type": "execute_result"
    }
   ],
   "source": [
    "eficacia = fechadas.set_index('open_date').resample('6M').agg(\n",
    "    num_operacoes = ('pair', 'count'),\n",
    "    taxa_acerto = ('e_lucro_bruto', 'mean'),\n",
    "    tempo_medio_operacao = ('days_open', 'mean')\n",
    ")\n",
    "\n",
    "eficacia"
   ]
  },
  {
   "cell_type": "markdown",
   "id": "fb808d06",
   "metadata": {},
   "source": [
    "# Desempenho"
   ]
  },
  {
   "cell_type": "code",
   "execution_count": 30,
   "id": "002f556c",
   "metadata": {
    "ExecuteTime": {
     "end_time": "2022-08-12T14:42:34.606386Z",
     "start_time": "2022-08-12T14:42:34.574388Z"
    }
   },
   "outputs": [
    {
     "data": {
      "text/plain": [
       "0.3060079618164384"
      ]
     },
     "execution_count": 30,
     "metadata": {},
     "output_type": "execute_result"
    }
   ],
   "source": [
    "vol_ibov = log_ret_ibov.close.std() * math.sqrt(252)\n",
    "vol_ibov"
   ]
  },
  {
   "cell_type": "code",
   "execution_count": 31,
   "id": "fbdf7dd0",
   "metadata": {
    "ExecuteTime": {
     "end_time": "2022-08-12T14:42:34.689001Z",
     "start_time": "2022-08-12T14:42:34.614386Z"
    }
   },
   "outputs": [
    {
     "data": {
      "text/plain": [
       "0.4637053998290451"
      ]
     },
     "execution_count": 31,
     "metadata": {},
     "output_type": "execute_result"
    }
   ],
   "source": [
    "log_return = np.log(1+retorno_diario['return'])\n",
    "vol_return = log_return.std() * math.sqrt(252)\n",
    "vol_return"
   ]
  },
  {
   "cell_type": "code",
   "execution_count": 32,
   "id": "1607712b",
   "metadata": {
    "ExecuteTime": {
     "end_time": "2022-08-12T14:42:34.746885Z",
     "start_time": "2022-08-12T14:42:34.697515Z"
    }
   },
   "outputs": [
    {
     "data": {
      "text/plain": [
       "0.44422948792577593"
      ]
     },
     "execution_count": 32,
     "metadata": {},
     "output_type": "execute_result"
    }
   ],
   "source": [
    "log_return_sem_custo = np.log(1+retorno_diario['return_sem_custos'])\n",
    "vol_return_sem_custo = log_return_sem_custo.std() * math.sqrt(252)\n",
    "vol_return_sem_custo"
   ]
  },
  {
   "cell_type": "code",
   "execution_count": 33,
   "id": "e4665d38",
   "metadata": {
    "ExecuteTime": {
     "end_time": "2022-08-12T14:42:34.826880Z",
     "start_time": "2022-08-12T14:42:34.746885Z"
    }
   },
   "outputs": [
    {
     "data": {
      "text/html": [
       "<div>\n",
       "<style scoped>\n",
       "    .dataframe tbody tr th:only-of-type {\n",
       "        vertical-align: middle;\n",
       "    }\n",
       "\n",
       "    .dataframe tbody tr th {\n",
       "        vertical-align: top;\n",
       "    }\n",
       "\n",
       "    .dataframe thead th {\n",
       "        text-align: right;\n",
       "    }\n",
       "</style>\n",
       "<table border=\"1\" class=\"dataframe\">\n",
       "  <thead>\n",
       "    <tr style=\"text-align: right;\">\n",
       "      <th></th>\n",
       "      <th>retorno_acumulado_bruto</th>\n",
       "      <th>taxa_acerto</th>\n",
       "      <th>retorno_acumulado_liquido</th>\n",
       "      <th>desvio_padrao</th>\n",
       "      <th>sharpe</th>\n",
       "      <th>correlacao_ibov</th>\n",
       "    </tr>\n",
       "  </thead>\n",
       "  <tbody>\n",
       "    <tr>\n",
       "      <th>0</th>\n",
       "      <td>2.295898</td>\n",
       "      <td>0.60733</td>\n",
       "      <td>-0.986519</td>\n",
       "      <td>0.463705</td>\n",
       "      <td>-2.12747</td>\n",
       "      <td>0.044208</td>\n",
       "    </tr>\n",
       "  </tbody>\n",
       "</table>\n",
       "</div>"
      ],
      "text/plain": [
       "   retorno_acumulado_bruto  taxa_acerto  retorno_acumulado_liquido  \\\n",
       "0                 2.295898      0.60733                  -0.986519   \n",
       "\n",
       "   desvio_padrao   sharpe  correlacao_ibov  \n",
       "0       0.463705 -2.12747         0.044208  "
      ]
     },
     "execution_count": 33,
     "metadata": {},
     "output_type": "execute_result"
    }
   ],
   "source": [
    "retorno_acumulado_bruto = retorno_acumulado['return_sem_custos'].iloc[-1]\n",
    "taxa_acerto = fechadas['e_lucro_bruto'].mean()\n",
    "retorno_acumulado_liquido = retorno_acumulado['return'].iloc[-1]\n",
    "\n",
    "desempenho = pd.DataFrame([{\n",
    "    'retorno_acumulado_bruto':retorno_acumulado_bruto,\n",
    "    'taxa_acerto': taxa_acerto,\n",
    "    'retorno_acumulado_liquido': retorno_acumulado_liquido,\n",
    "    'desvio_padrao': vol_return,\n",
    "    'sharpe': retorno_acumulado_liquido/vol_return,\n",
    "    'correlacao_ibov': coeficiente_liquido\n",
    "    }])\n",
    "\n",
    "desempenho"
   ]
  },
  {
   "cell_type": "code",
   "execution_count": 34,
   "id": "fc48037c",
   "metadata": {
    "ExecuteTime": {
     "end_time": "2022-08-12T14:42:34.896918Z",
     "start_time": "2022-08-12T14:42:34.826880Z"
    }
   },
   "outputs": [],
   "source": [
    "fechadas_halflife = fechadas.loc[(fechadas.days_open > fechadas.halflife) & (fechadas.beta_close!='VAR CLOSE')]\n",
    "fechadas_stop_var = fechadas.loc[(fechadas.beta_close=='VAR CLOSE')]\n",
    "fechadas_retorno = fechadas.loc[(abs(fechadas.last_residual) <= fechadas.close_limit) & (fechadas.beta_close!='VAR CLOSE') & (fechadas.days_open <= fechadas.halflife)]"
   ]
  },
  {
   "cell_type": "code",
   "execution_count": 35,
   "id": "6f658cc2",
   "metadata": {
    "ExecuteTime": {
     "end_time": "2022-08-12T14:42:34.928920Z",
     "start_time": "2022-08-12T14:42:34.904921Z"
    }
   },
   "outputs": [],
   "source": [
    "todos_indices = fechadas_stop_var.index.tolist() + fechadas_halflife.index.tolist() + fechadas_retorno.index.tolist()\n",
    "\n",
    "seen = set()\n",
    "dupes = [x for x in todos_indices if x in seen or seen.add(x)]    "
   ]
  },
  {
   "cell_type": "code",
   "execution_count": 36,
   "id": "2ac18d46",
   "metadata": {
    "ExecuteTime": {
     "end_time": "2022-08-12T14:42:34.980980Z",
     "start_time": "2022-08-12T14:42:34.944920Z"
    }
   },
   "outputs": [
    {
     "data": {
      "text/plain": [
       "{1111}"
      ]
     },
     "execution_count": 36,
     "metadata": {},
     "output_type": "execute_result"
    }
   ],
   "source": [
    "set(fechadas.index.tolist()) - set(todos_indices)"
   ]
  },
  {
   "cell_type": "code",
   "execution_count": 37,
   "id": "f8150618",
   "metadata": {
    "ExecuteTime": {
     "end_time": "2022-08-12T14:42:35.246408Z",
     "start_time": "2022-08-12T14:42:34.980980Z"
    }
   },
   "outputs": [
    {
     "data": {
      "text/html": [
       "<div>\n",
       "<style scoped>\n",
       "    .dataframe tbody tr th:only-of-type {\n",
       "        vertical-align: middle;\n",
       "    }\n",
       "\n",
       "    .dataframe tbody tr th {\n",
       "        vertical-align: top;\n",
       "    }\n",
       "\n",
       "    .dataframe thead th {\n",
       "        text-align: right;\n",
       "    }\n",
       "</style>\n",
       "<table border=\"1\" class=\"dataframe\">\n",
       "  <thead>\n",
       "    <tr style=\"text-align: right;\">\n",
       "      <th></th>\n",
       "      <th>price_fst_stock</th>\n",
       "      <th>price_scnd_stock</th>\n",
       "      <th>beta_open</th>\n",
       "      <th>last_residual</th>\n",
       "      <th>std_residual</th>\n",
       "      <th>std_open_residual</th>\n",
       "      <th>residual_open</th>\n",
       "      <th>open_price_first_stock</th>\n",
       "      <th>open_price_scnd_stock</th>\n",
       "      <th>close_limit</th>\n",
       "      <th>...</th>\n",
       "      <th>var_limit</th>\n",
       "      <th>id</th>\n",
       "      <th>ratio_sem_custos</th>\n",
       "      <th>ratio</th>\n",
       "      <th>return</th>\n",
       "      <th>retorno_acumulado</th>\n",
       "      <th>return_sem_custos</th>\n",
       "      <th>retorno_acumulado_sem_custos</th>\n",
       "      <th>e_lucro_bruto</th>\n",
       "      <th>e_lucro_liquido</th>\n",
       "    </tr>\n",
       "    <tr>\n",
       "      <th>setor</th>\n",
       "      <th></th>\n",
       "      <th></th>\n",
       "      <th></th>\n",
       "      <th></th>\n",
       "      <th></th>\n",
       "      <th></th>\n",
       "      <th></th>\n",
       "      <th></th>\n",
       "      <th></th>\n",
       "      <th></th>\n",
       "      <th></th>\n",
       "      <th></th>\n",
       "      <th></th>\n",
       "      <th></th>\n",
       "      <th></th>\n",
       "      <th></th>\n",
       "      <th></th>\n",
       "      <th></th>\n",
       "      <th></th>\n",
       "      <th></th>\n",
       "      <th></th>\n",
       "    </tr>\n",
       "  </thead>\n",
       "  <tbody>\n",
       "    <tr>\n",
       "      <th>Aéreas</th>\n",
       "      <td>18.487798</td>\n",
       "      <td>26.195276</td>\n",
       "      <td>0.707735</td>\n",
       "      <td>-5.231722</td>\n",
       "      <td>1.947561</td>\n",
       "      <td>1.854899</td>\n",
       "      <td>-4.749677</td>\n",
       "      <td>20.252781</td>\n",
       "      <td>27.691981</td>\n",
       "      <td>0.927450</td>\n",
       "      <td>...</td>\n",
       "      <td>-0.037880</td>\n",
       "      <td>287</td>\n",
       "      <td>1.433808</td>\n",
       "      <td>1.412991</td>\n",
       "      <td>-0.088424</td>\n",
       "      <td>-0.067872</td>\n",
       "      <td>-0.046637</td>\n",
       "      <td>-0.011363</td>\n",
       "      <td>1</td>\n",
       "      <td>0</td>\n",
       "    </tr>\n",
       "    <tr>\n",
       "      <th>Bens Industriais</th>\n",
       "      <td>66.210730</td>\n",
       "      <td>67.838674</td>\n",
       "      <td>4.551102</td>\n",
       "      <td>-3.723671</td>\n",
       "      <td>3.830199</td>\n",
       "      <td>3.689907</td>\n",
       "      <td>-4.515384</td>\n",
       "      <td>66.527746</td>\n",
       "      <td>67.019877</td>\n",
       "      <td>1.844953</td>\n",
       "      <td>...</td>\n",
       "      <td>-0.122537</td>\n",
       "      <td>596</td>\n",
       "      <td>4.373670</td>\n",
       "      <td>4.310383</td>\n",
       "      <td>-0.026821</td>\n",
       "      <td>-0.114136</td>\n",
       "      <td>0.061651</td>\n",
       "      <td>0.028827</td>\n",
       "      <td>3</td>\n",
       "      <td>2</td>\n",
       "    </tr>\n",
       "    <tr>\n",
       "      <th>Construção Civil</th>\n",
       "      <td>59.670920</td>\n",
       "      <td>69.026408</td>\n",
       "      <td>2.712613</td>\n",
       "      <td>4.405035</td>\n",
       "      <td>2.115526</td>\n",
       "      <td>2.083812</td>\n",
       "      <td>4.739335</td>\n",
       "      <td>59.544213</td>\n",
       "      <td>70.919982</td>\n",
       "      <td>1.041906</td>\n",
       "      <td>...</td>\n",
       "      <td>-0.065450</td>\n",
       "      <td>602</td>\n",
       "      <td>4.693497</td>\n",
       "      <td>4.625766</td>\n",
       "      <td>-0.012415</td>\n",
       "      <td>-0.109608</td>\n",
       "      <td>0.060477</td>\n",
       "      <td>0.003797</td>\n",
       "      <td>2</td>\n",
       "      <td>0</td>\n",
       "    </tr>\n",
       "    <tr>\n",
       "      <th>Educação</th>\n",
       "      <td>7.556020</td>\n",
       "      <td>53.477594</td>\n",
       "      <td>0.477652</td>\n",
       "      <td>1.427343</td>\n",
       "      <td>0.595077</td>\n",
       "      <td>0.569337</td>\n",
       "      <td>1.600311</td>\n",
       "      <td>7.734691</td>\n",
       "      <td>55.571778</td>\n",
       "      <td>0.284668</td>\n",
       "      <td>...</td>\n",
       "      <td>-0.083798</td>\n",
       "      <td>462</td>\n",
       "      <td>21.701266</td>\n",
       "      <td>21.387874</td>\n",
       "      <td>0.122129</td>\n",
       "      <td>-0.031423</td>\n",
       "      <td>0.183562</td>\n",
       "      <td>0.055153</td>\n",
       "      <td>1</td>\n",
       "      <td>1</td>\n",
       "    </tr>\n",
       "    <tr>\n",
       "      <th>Exploração de imóveis</th>\n",
       "      <td>112.162528</td>\n",
       "      <td>128.433669</td>\n",
       "      <td>6.366261</td>\n",
       "      <td>-3.536638</td>\n",
       "      <td>3.381324</td>\n",
       "      <td>3.327263</td>\n",
       "      <td>0.859287</td>\n",
       "      <td>116.451151</td>\n",
       "      <td>126.771927</td>\n",
       "      <td>1.663631</td>\n",
       "      <td>...</td>\n",
       "      <td>-0.101596</td>\n",
       "      <td>266</td>\n",
       "      <td>6.218954</td>\n",
       "      <td>6.129054</td>\n",
       "      <td>-0.127767</td>\n",
       "      <td>0.104311</td>\n",
       "      <td>0.001872</td>\n",
       "      <td>0.311958</td>\n",
       "      <td>6</td>\n",
       "      <td>4</td>\n",
       "    </tr>\n",
       "    <tr>\n",
       "      <th>Financeiro</th>\n",
       "      <td>769.174685</td>\n",
       "      <td>936.851329</td>\n",
       "      <td>59.235988</td>\n",
       "      <td>-22.676334</td>\n",
       "      <td>36.305994</td>\n",
       "      <td>35.490756</td>\n",
       "      <td>-25.233716</td>\n",
       "      <td>765.945145</td>\n",
       "      <td>938.253495</td>\n",
       "      <td>17.745378</td>\n",
       "      <td>...</td>\n",
       "      <td>-0.815070</td>\n",
       "      <td>3628</td>\n",
       "      <td>62.127160</td>\n",
       "      <td>61.227642</td>\n",
       "      <td>-0.403486</td>\n",
       "      <td>-1.077591</td>\n",
       "      <td>0.351879</td>\n",
       "      <td>0.176710</td>\n",
       "      <td>27</td>\n",
       "      <td>6</td>\n",
       "    </tr>\n",
       "    <tr>\n",
       "      <th>Mineração e Siderurgia</th>\n",
       "      <td>676.266922</td>\n",
       "      <td>439.477989</td>\n",
       "      <td>42.679435</td>\n",
       "      <td>0.000831</td>\n",
       "      <td>21.138797</td>\n",
       "      <td>20.132387</td>\n",
       "      <td>12.514787</td>\n",
       "      <td>671.906333</td>\n",
       "      <td>432.731194</td>\n",
       "      <td>10.066194</td>\n",
       "      <td>...</td>\n",
       "      <td>-0.505252</td>\n",
       "      <td>2306</td>\n",
       "      <td>31.612454</td>\n",
       "      <td>31.153578</td>\n",
       "      <td>-0.394899</td>\n",
       "      <td>-0.864923</td>\n",
       "      <td>0.024948</td>\n",
       "      <td>-0.159174</td>\n",
       "      <td>13</td>\n",
       "      <td>3</td>\n",
       "    </tr>\n",
       "    <tr>\n",
       "      <th>Papel e Celulose</th>\n",
       "      <td>136.538859</td>\n",
       "      <td>328.734461</td>\n",
       "      <td>1.578734</td>\n",
       "      <td>-4.921762</td>\n",
       "      <td>3.907848</td>\n",
       "      <td>3.915541</td>\n",
       "      <td>-5.872342</td>\n",
       "      <td>137.691015</td>\n",
       "      <td>327.739923</td>\n",
       "      <td>1.957771</td>\n",
       "      <td>...</td>\n",
       "      <td>-0.098014</td>\n",
       "      <td>947</td>\n",
       "      <td>4.416231</td>\n",
       "      <td>4.352475</td>\n",
       "      <td>-0.084502</td>\n",
       "      <td>-0.082836</td>\n",
       "      <td>0.002174</td>\n",
       "      <td>0.089737</td>\n",
       "      <td>4</td>\n",
       "      <td>2</td>\n",
       "    </tr>\n",
       "    <tr>\n",
       "      <th>Petroleo, gás e biocombustíveis</th>\n",
       "      <td>462.659331</td>\n",
       "      <td>447.613107</td>\n",
       "      <td>21.509183</td>\n",
       "      <td>23.147184</td>\n",
       "      <td>13.307596</td>\n",
       "      <td>12.431384</td>\n",
       "      <td>14.186558</td>\n",
       "      <td>460.973190</td>\n",
       "      <td>451.767663</td>\n",
       "      <td>6.215692</td>\n",
       "      <td>...</td>\n",
       "      <td>-0.319217</td>\n",
       "      <td>2327</td>\n",
       "      <td>20.701742</td>\n",
       "      <td>20.402191</td>\n",
       "      <td>-0.256632</td>\n",
       "      <td>-0.725523</td>\n",
       "      <td>0.090737</td>\n",
       "      <td>-0.162845</td>\n",
       "      <td>12</td>\n",
       "      <td>1</td>\n",
       "    </tr>\n",
       "    <tr>\n",
       "      <th>Saúde</th>\n",
       "      <td>219.342860</td>\n",
       "      <td>222.570950</td>\n",
       "      <td>10.986263</td>\n",
       "      <td>-18.644574</td>\n",
       "      <td>13.879181</td>\n",
       "      <td>13.584545</td>\n",
       "      <td>-20.660949</td>\n",
       "      <td>221.206178</td>\n",
       "      <td>220.414259</td>\n",
       "      <td>6.792273</td>\n",
       "      <td>...</td>\n",
       "      <td>-0.359229</td>\n",
       "      <td>1596</td>\n",
       "      <td>13.803235</td>\n",
       "      <td>13.603035</td>\n",
       "      <td>-0.136684</td>\n",
       "      <td>-0.090296</td>\n",
       "      <td>0.067220</td>\n",
       "      <td>0.287156</td>\n",
       "      <td>8</td>\n",
       "      <td>8</td>\n",
       "    </tr>\n",
       "    <tr>\n",
       "      <th>Utilidade Pública</th>\n",
       "      <td>1573.478610</td>\n",
       "      <td>1662.242939</td>\n",
       "      <td>63.243401</td>\n",
       "      <td>3.078490</td>\n",
       "      <td>46.114859</td>\n",
       "      <td>44.249436</td>\n",
       "      <td>-0.333301</td>\n",
       "      <td>1573.133900</td>\n",
       "      <td>1681.462983</td>\n",
       "      <td>22.124718</td>\n",
       "      <td>...</td>\n",
       "      <td>-0.943728</td>\n",
       "      <td>4848</td>\n",
       "      <td>71.615450</td>\n",
       "      <td>70.579757</td>\n",
       "      <td>-0.563062</td>\n",
       "      <td>-0.938979</td>\n",
       "      <td>0.349445</td>\n",
       "      <td>0.697176</td>\n",
       "      <td>36</td>\n",
       "      <td>13</td>\n",
       "    </tr>\n",
       "    <tr>\n",
       "      <th>Varejo</th>\n",
       "      <td>57.669748</td>\n",
       "      <td>100.442289</td>\n",
       "      <td>3.169646</td>\n",
       "      <td>-1.018880</td>\n",
       "      <td>6.702784</td>\n",
       "      <td>6.672313</td>\n",
       "      <td>-2.419441</td>\n",
       "      <td>61.485493</td>\n",
       "      <td>109.894820</td>\n",
       "      <td>3.336156</td>\n",
       "      <td>...</td>\n",
       "      <td>-0.176138</td>\n",
       "      <td>985</td>\n",
       "      <td>2.940874</td>\n",
       "      <td>2.898179</td>\n",
       "      <td>-0.122748</td>\n",
       "      <td>-0.082863</td>\n",
       "      <td>-0.036386</td>\n",
       "      <td>0.060900</td>\n",
       "      <td>3</td>\n",
       "      <td>3</td>\n",
       "    </tr>\n",
       "  </tbody>\n",
       "</table>\n",
       "<p>12 rows × 25 columns</p>\n",
       "</div>"
      ],
      "text/plain": [
       "                                 price_fst_stock  price_scnd_stock  beta_open  \\\n",
       "setor                                                                           \n",
       "Aéreas                                 18.487798         26.195276   0.707735   \n",
       "Bens Industriais                       66.210730         67.838674   4.551102   \n",
       "Construção Civil                       59.670920         69.026408   2.712613   \n",
       "Educação                                7.556020         53.477594   0.477652   \n",
       "Exploração de imóveis                 112.162528        128.433669   6.366261   \n",
       "Financeiro                            769.174685        936.851329  59.235988   \n",
       "Mineração e Siderurgia                676.266922        439.477989  42.679435   \n",
       "Papel e Celulose                      136.538859        328.734461   1.578734   \n",
       "Petroleo, gás e biocombustíveis       462.659331        447.613107  21.509183   \n",
       "Saúde                                 219.342860        222.570950  10.986263   \n",
       "Utilidade Pública                    1573.478610       1662.242939  63.243401   \n",
       "Varejo                                 57.669748        100.442289   3.169646   \n",
       "\n",
       "                                 last_residual  std_residual  \\\n",
       "setor                                                          \n",
       "Aéreas                               -5.231722      1.947561   \n",
       "Bens Industriais                     -3.723671      3.830199   \n",
       "Construção Civil                      4.405035      2.115526   \n",
       "Educação                              1.427343      0.595077   \n",
       "Exploração de imóveis                -3.536638      3.381324   \n",
       "Financeiro                          -22.676334     36.305994   \n",
       "Mineração e Siderurgia                0.000831     21.138797   \n",
       "Papel e Celulose                     -4.921762      3.907848   \n",
       "Petroleo, gás e biocombustíveis      23.147184     13.307596   \n",
       "Saúde                               -18.644574     13.879181   \n",
       "Utilidade Pública                     3.078490     46.114859   \n",
       "Varejo                               -1.018880      6.702784   \n",
       "\n",
       "                                 std_open_residual  residual_open  \\\n",
       "setor                                                               \n",
       "Aéreas                                    1.854899      -4.749677   \n",
       "Bens Industriais                          3.689907      -4.515384   \n",
       "Construção Civil                          2.083812       4.739335   \n",
       "Educação                                  0.569337       1.600311   \n",
       "Exploração de imóveis                     3.327263       0.859287   \n",
       "Financeiro                               35.490756     -25.233716   \n",
       "Mineração e Siderurgia                   20.132387      12.514787   \n",
       "Papel e Celulose                          3.915541      -5.872342   \n",
       "Petroleo, gás e biocombustíveis          12.431384      14.186558   \n",
       "Saúde                                    13.584545     -20.660949   \n",
       "Utilidade Pública                        44.249436      -0.333301   \n",
       "Varejo                                    6.672313      -2.419441   \n",
       "\n",
       "                                 open_price_first_stock  \\\n",
       "setor                                                     \n",
       "Aéreas                                        20.252781   \n",
       "Bens Industriais                              66.527746   \n",
       "Construção Civil                              59.544213   \n",
       "Educação                                       7.734691   \n",
       "Exploração de imóveis                        116.451151   \n",
       "Financeiro                                   765.945145   \n",
       "Mineração e Siderurgia                       671.906333   \n",
       "Papel e Celulose                             137.691015   \n",
       "Petroleo, gás e biocombustíveis              460.973190   \n",
       "Saúde                                        221.206178   \n",
       "Utilidade Pública                           1573.133900   \n",
       "Varejo                                        61.485493   \n",
       "\n",
       "                                 open_price_scnd_stock  close_limit  ...  \\\n",
       "setor                                                                ...   \n",
       "Aéreas                                       27.691981     0.927450  ...   \n",
       "Bens Industriais                             67.019877     1.844953  ...   \n",
       "Construção Civil                             70.919982     1.041906  ...   \n",
       "Educação                                     55.571778     0.284668  ...   \n",
       "Exploração de imóveis                       126.771927     1.663631  ...   \n",
       "Financeiro                                  938.253495    17.745378  ...   \n",
       "Mineração e Siderurgia                      432.731194    10.066194  ...   \n",
       "Papel e Celulose                            327.739923     1.957771  ...   \n",
       "Petroleo, gás e biocombustíveis             451.767663     6.215692  ...   \n",
       "Saúde                                       220.414259     6.792273  ...   \n",
       "Utilidade Pública                          1681.462983    22.124718  ...   \n",
       "Varejo                                      109.894820     3.336156  ...   \n",
       "\n",
       "                                 var_limit    id  ratio_sem_custos      ratio  \\\n",
       "setor                                                                           \n",
       "Aéreas                           -0.037880   287          1.433808   1.412991   \n",
       "Bens Industriais                 -0.122537   596          4.373670   4.310383   \n",
       "Construção Civil                 -0.065450   602          4.693497   4.625766   \n",
       "Educação                         -0.083798   462         21.701266  21.387874   \n",
       "Exploração de imóveis            -0.101596   266          6.218954   6.129054   \n",
       "Financeiro                       -0.815070  3628         62.127160  61.227642   \n",
       "Mineração e Siderurgia           -0.505252  2306         31.612454  31.153578   \n",
       "Papel e Celulose                 -0.098014   947          4.416231   4.352475   \n",
       "Petroleo, gás e biocombustíveis  -0.319217  2327         20.701742  20.402191   \n",
       "Saúde                            -0.359229  1596         13.803235  13.603035   \n",
       "Utilidade Pública                -0.943728  4848         71.615450  70.579757   \n",
       "Varejo                           -0.176138   985          2.940874   2.898179   \n",
       "\n",
       "                                   return  retorno_acumulado  \\\n",
       "setor                                                          \n",
       "Aéreas                          -0.088424          -0.067872   \n",
       "Bens Industriais                -0.026821          -0.114136   \n",
       "Construção Civil                -0.012415          -0.109608   \n",
       "Educação                         0.122129          -0.031423   \n",
       "Exploração de imóveis           -0.127767           0.104311   \n",
       "Financeiro                      -0.403486          -1.077591   \n",
       "Mineração e Siderurgia          -0.394899          -0.864923   \n",
       "Papel e Celulose                -0.084502          -0.082836   \n",
       "Petroleo, gás e biocombustíveis -0.256632          -0.725523   \n",
       "Saúde                           -0.136684          -0.090296   \n",
       "Utilidade Pública               -0.563062          -0.938979   \n",
       "Varejo                          -0.122748          -0.082863   \n",
       "\n",
       "                                 return_sem_custos  \\\n",
       "setor                                                \n",
       "Aéreas                                   -0.046637   \n",
       "Bens Industriais                          0.061651   \n",
       "Construção Civil                          0.060477   \n",
       "Educação                                  0.183562   \n",
       "Exploração de imóveis                     0.001872   \n",
       "Financeiro                                0.351879   \n",
       "Mineração e Siderurgia                    0.024948   \n",
       "Papel e Celulose                          0.002174   \n",
       "Petroleo, gás e biocombustíveis           0.090737   \n",
       "Saúde                                     0.067220   \n",
       "Utilidade Pública                         0.349445   \n",
       "Varejo                                   -0.036386   \n",
       "\n",
       "                                 retorno_acumulado_sem_custos  e_lucro_bruto  \\\n",
       "setor                                                                          \n",
       "Aéreas                                              -0.011363              1   \n",
       "Bens Industriais                                     0.028827              3   \n",
       "Construção Civil                                     0.003797              2   \n",
       "Educação                                             0.055153              1   \n",
       "Exploração de imóveis                                0.311958              6   \n",
       "Financeiro                                           0.176710             27   \n",
       "Mineração e Siderurgia                              -0.159174             13   \n",
       "Papel e Celulose                                     0.089737              4   \n",
       "Petroleo, gás e biocombustíveis                     -0.162845             12   \n",
       "Saúde                                                0.287156              8   \n",
       "Utilidade Pública                                    0.697176             36   \n",
       "Varejo                                               0.060900              3   \n",
       "\n",
       "                                 e_lucro_liquido  \n",
       "setor                                             \n",
       "Aéreas                                         0  \n",
       "Bens Industriais                               2  \n",
       "Construção Civil                               0  \n",
       "Educação                                       1  \n",
       "Exploração de imóveis                          4  \n",
       "Financeiro                                     6  \n",
       "Mineração e Siderurgia                         3  \n",
       "Papel e Celulose                               2  \n",
       "Petroleo, gás e biocombustíveis                1  \n",
       "Saúde                                          8  \n",
       "Utilidade Pública                             13  \n",
       "Varejo                                         3  \n",
       "\n",
       "[12 rows x 25 columns]"
      ]
     },
     "execution_count": 37,
     "metadata": {},
     "output_type": "execute_result"
    }
   ],
   "source": [
    "fechadas.groupby('setor').agg('sum')"
   ]
  },
  {
   "cell_type": "code",
   "execution_count": 38,
   "id": "c5b3736b",
   "metadata": {
    "ExecuteTime": {
     "end_time": "2022-08-12T14:42:36.946785Z",
     "start_time": "2022-08-12T14:42:35.246408Z"
    }
   },
   "outputs": [
    {
     "data": {
      "image/png": "[encoded data removed]",
      "text/plain": [
       "<Figure size 1080x576 with 1 Axes>"
      ]
     },
     "metadata": {},
     "output_type": "display_data"
    }
   ],
   "source": [
    "halfyear_accuracy = fechadas.set_index('open_date').resample('6M')[['e_lucro_bruto']].mean().reset_index()\n",
    "halfyear_accuracy.columns = ['open_date', 'retorno']\n",
    "halfyear_accuracy['open_date'] = halfyear_accuracy['open_date'].dt.date\n",
    "halfyear_accuracy = halfyear_accuracy.melt(id_vars='open_date', value_name='acerto')\n",
    "\n",
    "sns.barplot(x='open_date', y='acerto', hue='variable', data=halfyear_accuracy)\n",
    "plt.axhline(y=0.5, color='blue', linestyle='--')\n",
    "plt.xlabel('data')\n",
    "# plt.xticks(rotation=90)\n",
    "plt.legend(bbox_to_anchor=(1.05, 1), loc=2, borderaxespad=0.)\n",
    "plt.show()"
   ]
  },
  {
   "cell_type": "code",
   "execution_count": 39,
   "id": "56b98e59",
   "metadata": {
    "ExecuteTime": {
     "end_time": "2022-08-12T14:42:37.012806Z",
     "start_time": "2022-08-12T14:42:36.978785Z"
    }
   },
   "outputs": [
    {
     "data": {
      "text/html": [
       "<div>\n",
       "<style scoped>\n",
       "    .dataframe tbody tr th:only-of-type {\n",
       "        vertical-align: middle;\n",
       "    }\n",
       "\n",
       "    .dataframe tbody tr th {\n",
       "        vertical-align: top;\n",
       "    }\n",
       "\n",
       "    .dataframe thead th {\n",
       "        text-align: right;\n",
       "    }\n",
       "</style>\n",
       "<table border=\"1\" class=\"dataframe\">\n",
       "  <thead>\n",
       "    <tr style=\"text-align: right;\">\n",
       "      <th></th>\n",
       "      <th>open_date</th>\n",
       "      <th>variable</th>\n",
       "      <th>acerto</th>\n",
       "    </tr>\n",
       "  </thead>\n",
       "  <tbody>\n",
       "    <tr>\n",
       "      <th>0</th>\n",
       "      <td>2019-07-31</td>\n",
       "      <td>retorno</td>\n",
       "      <td>1.000000</td>\n",
       "    </tr>\n",
       "    <tr>\n",
       "      <th>1</th>\n",
       "      <td>2020-01-31</td>\n",
       "      <td>retorno</td>\n",
       "      <td>0.750000</td>\n",
       "    </tr>\n",
       "    <tr>\n",
       "      <th>2</th>\n",
       "      <td>2020-07-31</td>\n",
       "      <td>retorno</td>\n",
       "      <td>0.611111</td>\n",
       "    </tr>\n",
       "    <tr>\n",
       "      <th>3</th>\n",
       "      <td>2021-01-31</td>\n",
       "      <td>retorno</td>\n",
       "      <td>0.566667</td>\n",
       "    </tr>\n",
       "    <tr>\n",
       "      <th>4</th>\n",
       "      <td>2021-07-31</td>\n",
       "      <td>retorno</td>\n",
       "      <td>0.620690</td>\n",
       "    </tr>\n",
       "    <tr>\n",
       "      <th>5</th>\n",
       "      <td>2022-01-31</td>\n",
       "      <td>retorno</td>\n",
       "      <td>0.558824</td>\n",
       "    </tr>\n",
       "    <tr>\n",
       "      <th>6</th>\n",
       "      <td>2022-07-31</td>\n",
       "      <td>retorno</td>\n",
       "      <td>0.600000</td>\n",
       "    </tr>\n",
       "  </tbody>\n",
       "</table>\n",
       "</div>"
      ],
      "text/plain": [
       "    open_date variable    acerto\n",
       "0  2019-07-31  retorno  1.000000\n",
       "1  2020-01-31  retorno  0.750000\n",
       "2  2020-07-31  retorno  0.611111\n",
       "3  2021-01-31  retorno  0.566667\n",
       "4  2021-07-31  retorno  0.620690\n",
       "5  2022-01-31  retorno  0.558824\n",
       "6  2022-07-31  retorno  0.600000"
      ]
     },
     "execution_count": 39,
     "metadata": {},
     "output_type": "execute_result"
    }
   ],
   "source": [
    "halfyear_accuracy"
   ]
  },
  {
   "cell_type": "code",
   "execution_count": 40,
   "id": "285a22d8",
   "metadata": {
    "ExecuteTime": {
     "end_time": "2022-08-12T14:42:37.346005Z",
     "start_time": "2022-08-12T14:42:37.036785Z"
    }
   },
   "outputs": [
    {
     "data": {
      "text/html": [
       "<div>\n",
       "<style scoped>\n",
       "    .dataframe tbody tr th:only-of-type {\n",
       "        vertical-align: middle;\n",
       "    }\n",
       "\n",
       "    .dataframe tbody tr th {\n",
       "        vertical-align: top;\n",
       "    }\n",
       "\n",
       "    .dataframe thead th {\n",
       "        text-align: right;\n",
       "    }\n",
       "</style>\n",
       "<table border=\"1\" class=\"dataframe\">\n",
       "  <thead>\n",
       "    <tr style=\"text-align: right;\">\n",
       "      <th></th>\n",
       "      <th>date</th>\n",
       "      <th>pair</th>\n",
       "      <th>status</th>\n",
       "      <th>price_fst_stock</th>\n",
       "      <th>price_scnd_stock</th>\n",
       "      <th>beta_open</th>\n",
       "      <th>beta_close</th>\n",
       "      <th>last_residual</th>\n",
       "      <th>std_residual</th>\n",
       "      <th>std_open_residual</th>\n",
       "      <th>...</th>\n",
       "      <th>side</th>\n",
       "      <th>id</th>\n",
       "      <th>ratio_sem_custos</th>\n",
       "      <th>ratio</th>\n",
       "      <th>return</th>\n",
       "      <th>retorno_acumulado</th>\n",
       "      <th>return_sem_custos</th>\n",
       "      <th>retorno_acumulado_sem_custos</th>\n",
       "      <th>e_lucro_bruto</th>\n",
       "      <th>e_lucro_liquido</th>\n",
       "    </tr>\n",
       "  </thead>\n",
       "  <tbody>\n",
       "    <tr>\n",
       "      <th>5</th>\n",
       "      <td>2019-07-11</td>\n",
       "      <td>(BRML3, MULT3)</td>\n",
       "      <td>close</td>\n",
       "      <td>13.980032</td>\n",
       "      <td>27.625499</td>\n",
       "      <td>0.574055</td>\n",
       "      <td>VAR CLOSE</td>\n",
       "      <td>-0.636825</td>\n",
       "      <td>0.337338</td>\n",
       "      <td>0.330478</td>\n",
       "      <td>...</td>\n",
       "      <td>lower</td>\n",
       "      <td>1</td>\n",
       "      <td>0.513494</td>\n",
       "      <td>0.506055</td>\n",
       "      <td>-0.030234</td>\n",
       "      <td>-0.022577</td>\n",
       "      <td>-0.015980</td>\n",
       "      <td>0.005974</td>\n",
       "      <td>True</td>\n",
       "      <td>False</td>\n",
       "    </tr>\n",
       "    <tr>\n",
       "      <th>12</th>\n",
       "      <td>2019-08-19</td>\n",
       "      <td>(BRML3, MULT3)</td>\n",
       "      <td>close</td>\n",
       "      <td>14.075485</td>\n",
       "      <td>25.358666</td>\n",
       "      <td>0.559065</td>\n",
       "      <td>VAR CLOSE</td>\n",
       "      <td>0.337346</td>\n",
       "      <td>0.359815</td>\n",
       "      <td>0.349590</td>\n",
       "      <td>...</td>\n",
       "      <td>upper</td>\n",
       "      <td>2</td>\n",
       "      <td>1.828203</td>\n",
       "      <td>1.801619</td>\n",
       "      <td>0.011286</td>\n",
       "      <td>0.008848</td>\n",
       "      <td>0.026208</td>\n",
       "      <td>0.038375</td>\n",
       "      <td>True</td>\n",
       "      <td>True</td>\n",
       "    </tr>\n",
       "    <tr>\n",
       "      <th>16</th>\n",
       "      <td>2019-08-08</td>\n",
       "      <td>(ELET3, ELET6)</td>\n",
       "      <td>close</td>\n",
       "      <td>38.451762</td>\n",
       "      <td>35.386956</td>\n",
       "      <td>1.105281</td>\n",
       "      <td>VAR CLOSE</td>\n",
       "      <td>2.213153</td>\n",
       "      <td>0.675603</td>\n",
       "      <td>0.650826</td>\n",
       "      <td>...</td>\n",
       "      <td>upper</td>\n",
       "      <td>4</td>\n",
       "      <td>0.933718</td>\n",
       "      <td>0.920295</td>\n",
       "      <td>-0.028446</td>\n",
       "      <td>-0.046767</td>\n",
       "      <td>-0.014275</td>\n",
       "      <td>-0.019032</td>\n",
       "      <td>False</td>\n",
       "      <td>False</td>\n",
       "    </tr>\n",
       "    <tr>\n",
       "      <th>26</th>\n",
       "      <td>2019-09-16</td>\n",
       "      <td>(ELET6, ELET3)</td>\n",
       "      <td>close</td>\n",
       "      <td>38.958454</td>\n",
       "      <td>38.365656</td>\n",
       "      <td>0.869179</td>\n",
       "      <td>0.866586225082961</td>\n",
       "      <td>0.908512</td>\n",
       "      <td>0.612395</td>\n",
       "      <td>0.621898</td>\n",
       "      <td>...</td>\n",
       "      <td>upper</td>\n",
       "      <td>5</td>\n",
       "      <td>0.999483</td>\n",
       "      <td>0.984784</td>\n",
       "      <td>-0.014444</td>\n",
       "      <td>-0.022675</td>\n",
       "      <td>0.000266</td>\n",
       "      <td>0.006098</td>\n",
       "      <td>True</td>\n",
       "      <td>False</td>\n",
       "    </tr>\n",
       "    <tr>\n",
       "      <th>36</th>\n",
       "      <td>2019-10-02</td>\n",
       "      <td>(ELET6, ELET3)</td>\n",
       "      <td>close</td>\n",
       "      <td>34.393483</td>\n",
       "      <td>32.835203</td>\n",
       "      <td>0.866590</td>\n",
       "      <td>VAR CLOSE</td>\n",
       "      <td>1.142085</td>\n",
       "      <td>0.623909</td>\n",
       "      <td>0.618223</td>\n",
       "      <td>...</td>\n",
       "      <td>upper</td>\n",
       "      <td>6</td>\n",
       "      <td>0.968942</td>\n",
       "      <td>0.954693</td>\n",
       "      <td>-0.026550</td>\n",
       "      <td>-0.043948</td>\n",
       "      <td>-0.012020</td>\n",
       "      <td>-0.015801</td>\n",
       "      <td>False</td>\n",
       "      <td>False</td>\n",
       "    </tr>\n",
       "    <tr>\n",
       "      <th>...</th>\n",
       "      <td>...</td>\n",
       "      <td>...</td>\n",
       "      <td>...</td>\n",
       "      <td>...</td>\n",
       "      <td>...</td>\n",
       "      <td>...</td>\n",
       "      <td>...</td>\n",
       "      <td>...</td>\n",
       "      <td>...</td>\n",
       "      <td>...</td>\n",
       "      <td>...</td>\n",
       "      <td>...</td>\n",
       "      <td>...</td>\n",
       "      <td>...</td>\n",
       "      <td>...</td>\n",
       "      <td>...</td>\n",
       "      <td>...</td>\n",
       "      <td>...</td>\n",
       "      <td>...</td>\n",
       "      <td>...</td>\n",
       "      <td>...</td>\n",
       "    </tr>\n",
       "    <tr>\n",
       "      <th>1116</th>\n",
       "      <td>2022-06-09</td>\n",
       "      <td>(LREN3, VIIA3)</td>\n",
       "      <td>close</td>\n",
       "      <td>25.256474</td>\n",
       "      <td>2.889339</td>\n",
       "      <td>1.333153</td>\n",
       "      <td>1.3051668765911315</td>\n",
       "      <td>0.606552</td>\n",
       "      <td>1.530042</td>\n",
       "      <td>1.570381</td>\n",
       "      <td>...</td>\n",
       "      <td>upper</td>\n",
       "      <td>195</td>\n",
       "      <td>0.116075</td>\n",
       "      <td>0.114400</td>\n",
       "      <td>-0.004607</td>\n",
       "      <td>0.009677</td>\n",
       "      <td>0.009968</td>\n",
       "      <td>0.039112</td>\n",
       "      <td>True</td>\n",
       "      <td>True</td>\n",
       "    </tr>\n",
       "    <tr>\n",
       "      <th>1125</th>\n",
       "      <td>2022-05-19</td>\n",
       "      <td>(PETZ3, ALPA4)</td>\n",
       "      <td>close</td>\n",
       "      <td>12.659475</td>\n",
       "      <td>20.898943</td>\n",
       "      <td>0.286549</td>\n",
       "      <td>VAR CLOSE</td>\n",
       "      <td>-2.128658</td>\n",
       "      <td>1.601278</td>\n",
       "      <td>1.575374</td>\n",
       "      <td>...</td>\n",
       "      <td>lower</td>\n",
       "      <td>196</td>\n",
       "      <td>0.614754</td>\n",
       "      <td>0.605747</td>\n",
       "      <td>-0.056926</td>\n",
       "      <td>0.060687</td>\n",
       "      <td>-0.042903</td>\n",
       "      <td>0.091853</td>\n",
       "      <td>True</td>\n",
       "      <td>True</td>\n",
       "    </tr>\n",
       "    <tr>\n",
       "      <th>1131</th>\n",
       "      <td>2022-02-07</td>\n",
       "      <td>(SOMA3, ALPA4)</td>\n",
       "      <td>close</td>\n",
       "      <td>13.369452</td>\n",
       "      <td>25.775684</td>\n",
       "      <td>0.213015</td>\n",
       "      <td>VAR CLOSE</td>\n",
       "      <td>1.943567</td>\n",
       "      <td>1.283011</td>\n",
       "      <td>1.245217</td>\n",
       "      <td>...</td>\n",
       "      <td>upper</td>\n",
       "      <td>197</td>\n",
       "      <td>1.956292</td>\n",
       "      <td>1.927954</td>\n",
       "      <td>0.024809</td>\n",
       "      <td>-0.059420</td>\n",
       "      <td>0.039872</td>\n",
       "      <td>-0.031945</td>\n",
       "      <td>False</td>\n",
       "      <td>False</td>\n",
       "    </tr>\n",
       "    <tr>\n",
       "      <th>1136</th>\n",
       "      <td>2022-04-08</td>\n",
       "      <td>(VIIA3, LREN3)</td>\n",
       "      <td>close</td>\n",
       "      <td>3.574440</td>\n",
       "      <td>26.767631</td>\n",
       "      <td>0.645305</td>\n",
       "      <td>VAR CLOSE</td>\n",
       "      <td>-1.436871</td>\n",
       "      <td>1.164183</td>\n",
       "      <td>1.150397</td>\n",
       "      <td>...</td>\n",
       "      <td>lower</td>\n",
       "      <td>198</td>\n",
       "      <td>0.135491</td>\n",
       "      <td>0.133536</td>\n",
       "      <td>-0.089497</td>\n",
       "      <td>-0.097280</td>\n",
       "      <td>-0.076165</td>\n",
       "      <td>-0.070963</td>\n",
       "      <td>False</td>\n",
       "      <td>False</td>\n",
       "    </tr>\n",
       "    <tr>\n",
       "      <th>1138</th>\n",
       "      <td>2022-06-10</td>\n",
       "      <td>(VIIA3, LREN3)</td>\n",
       "      <td>close</td>\n",
       "      <td>2.809907</td>\n",
       "      <td>24.110692</td>\n",
       "      <td>0.691625</td>\n",
       "      <td>0.7115990310168517</td>\n",
       "      <td>-0.003470</td>\n",
       "      <td>1.124270</td>\n",
       "      <td>1.130945</td>\n",
       "      <td>...</td>\n",
       "      <td>lower</td>\n",
       "      <td>199</td>\n",
       "      <td>0.118262</td>\n",
       "      <td>0.116542</td>\n",
       "      <td>0.003473</td>\n",
       "      <td>0.003473</td>\n",
       "      <td>0.032843</td>\n",
       "      <td>0.032843</td>\n",
       "      <td>True</td>\n",
       "      <td>True</td>\n",
       "    </tr>\n",
       "  </tbody>\n",
       "</table>\n",
       "<p>191 rows × 35 columns</p>\n",
       "</div>"
      ],
      "text/plain": [
       "           date            pair status  price_fst_stock  price_scnd_stock  \\\n",
       "5    2019-07-11  (BRML3, MULT3)  close        13.980032         27.625499   \n",
       "12   2019-08-19  (BRML3, MULT3)  close        14.075485         25.358666   \n",
       "16   2019-08-08  (ELET3, ELET6)  close        38.451762         35.386956   \n",
       "26   2019-09-16  (ELET6, ELET3)  close        38.958454         38.365656   \n",
       "36   2019-10-02  (ELET6, ELET3)  close        34.393483         32.835203   \n",
       "...         ...             ...    ...              ...               ...   \n",
       "1116 2022-06-09  (LREN3, VIIA3)  close        25.256474          2.889339   \n",
       "1125 2022-05-19  (PETZ3, ALPA4)  close        12.659475         20.898943   \n",
       "1131 2022-02-07  (SOMA3, ALPA4)  close        13.369452         25.775684   \n",
       "1136 2022-04-08  (VIIA3, LREN3)  close         3.574440         26.767631   \n",
       "1138 2022-06-10  (VIIA3, LREN3)  close         2.809907         24.110692   \n",
       "\n",
       "      beta_open          beta_close  last_residual  std_residual  \\\n",
       "5      0.574055           VAR CLOSE      -0.636825      0.337338   \n",
       "12     0.559065           VAR CLOSE       0.337346      0.359815   \n",
       "16     1.105281           VAR CLOSE       2.213153      0.675603   \n",
       "26     0.869179   0.866586225082961       0.908512      0.612395   \n",
       "36     0.866590           VAR CLOSE       1.142085      0.623909   \n",
       "...         ...                 ...            ...           ...   \n",
       "1116   1.333153  1.3051668765911315       0.606552      1.530042   \n",
       "1125   0.286549           VAR CLOSE      -2.128658      1.601278   \n",
       "1131   0.213015           VAR CLOSE       1.943567      1.283011   \n",
       "1136   0.645305           VAR CLOSE      -1.436871      1.164183   \n",
       "1138   0.691625  0.7115990310168517      -0.003470      1.124270   \n",
       "\n",
       "      std_open_residual  ...   side   id  ratio_sem_custos     ratio  \\\n",
       "5              0.330478  ...  lower    1          0.513494  0.506055   \n",
       "12             0.349590  ...  upper    2          1.828203  1.801619   \n",
       "16             0.650826  ...  upper    4          0.933718  0.920295   \n",
       "26             0.621898  ...  upper    5          0.999483  0.984784   \n",
       "36             0.618223  ...  upper    6          0.968942  0.954693   \n",
       "...                 ...  ...    ...  ...               ...       ...   \n",
       "1116           1.570381  ...  upper  195          0.116075  0.114400   \n",
       "1125           1.575374  ...  lower  196          0.614754  0.605747   \n",
       "1131           1.245217  ...  upper  197          1.956292  1.927954   \n",
       "1136           1.150397  ...  lower  198          0.135491  0.133536   \n",
       "1138           1.130945  ...  lower  199          0.118262  0.116542   \n",
       "\n",
       "        return  retorno_acumulado  return_sem_custos  \\\n",
       "5    -0.030234          -0.022577          -0.015980   \n",
       "12    0.011286           0.008848           0.026208   \n",
       "16   -0.028446          -0.046767          -0.014275   \n",
       "26   -0.014444          -0.022675           0.000266   \n",
       "36   -0.026550          -0.043948          -0.012020   \n",
       "...        ...                ...                ...   \n",
       "1116 -0.004607           0.009677           0.009968   \n",
       "1125 -0.056926           0.060687          -0.042903   \n",
       "1131  0.024809          -0.059420           0.039872   \n",
       "1136 -0.089497          -0.097280          -0.076165   \n",
       "1138  0.003473           0.003473           0.032843   \n",
       "\n",
       "      retorno_acumulado_sem_custos  e_lucro_bruto  e_lucro_liquido  \n",
       "5                         0.005974           True            False  \n",
       "12                        0.038375           True             True  \n",
       "16                       -0.019032          False            False  \n",
       "26                        0.006098           True            False  \n",
       "36                       -0.015801          False            False  \n",
       "...                            ...            ...              ...  \n",
       "1116                      0.039112           True             True  \n",
       "1125                      0.091853           True             True  \n",
       "1131                     -0.031945          False            False  \n",
       "1136                     -0.070963          False            False  \n",
       "1138                      0.032843           True             True  \n",
       "\n",
       "[191 rows x 35 columns]"
      ]
     },
     "execution_count": 40,
     "metadata": {},
     "output_type": "execute_result"
    }
   ],
   "source": [
    "fechadas"
   ]
  },
  {
   "cell_type": "code",
   "execution_count": 41,
   "id": "edece3f7",
   "metadata": {
    "ExecuteTime": {
     "end_time": "2022-08-12T14:42:37.491960Z",
     "start_time": "2022-08-12T14:42:37.354151Z"
    }
   },
   "outputs": [
    {
     "data": {
      "text/html": [
       "<div>\n",
       "<style scoped>\n",
       "    .dataframe tbody tr th:only-of-type {\n",
       "        vertical-align: middle;\n",
       "    }\n",
       "\n",
       "    .dataframe tbody tr th {\n",
       "        vertical-align: top;\n",
       "    }\n",
       "\n",
       "    .dataframe thead th {\n",
       "        text-align: right;\n",
       "    }\n",
       "</style>\n",
       "<table border=\"1\" class=\"dataframe\">\n",
       "  <thead>\n",
       "    <tr style=\"text-align: right;\">\n",
       "      <th></th>\n",
       "      <th>setor</th>\n",
       "      <th>open_date</th>\n",
       "      <th>e_lucro_bruto</th>\n",
       "    </tr>\n",
       "  </thead>\n",
       "  <tbody>\n",
       "    <tr>\n",
       "      <th>0</th>\n",
       "      <td>Aéreas</td>\n",
       "      <td>2022-06-13</td>\n",
       "      <td>0.0</td>\n",
       "    </tr>\n",
       "    <tr>\n",
       "      <th>1</th>\n",
       "      <td>Aéreas</td>\n",
       "      <td>2022-06-15</td>\n",
       "      <td>1.0</td>\n",
       "    </tr>\n",
       "    <tr>\n",
       "      <th>2</th>\n",
       "      <td>Bens Industriais</td>\n",
       "      <td>2020-01-07</td>\n",
       "      <td>0.0</td>\n",
       "    </tr>\n",
       "    <tr>\n",
       "      <th>3</th>\n",
       "      <td>Bens Industriais</td>\n",
       "      <td>2021-12-29</td>\n",
       "      <td>1.0</td>\n",
       "    </tr>\n",
       "    <tr>\n",
       "      <th>4</th>\n",
       "      <td>Bens Industriais</td>\n",
       "      <td>2022-02-03</td>\n",
       "      <td>1.0</td>\n",
       "    </tr>\n",
       "    <tr>\n",
       "      <th>...</th>\n",
       "      <td>...</td>\n",
       "      <td>...</td>\n",
       "      <td>...</td>\n",
       "    </tr>\n",
       "    <tr>\n",
       "      <th>178</th>\n",
       "      <td>Varejo</td>\n",
       "      <td>2022-01-31</td>\n",
       "      <td>0.0</td>\n",
       "    </tr>\n",
       "    <tr>\n",
       "      <th>179</th>\n",
       "      <td>Varejo</td>\n",
       "      <td>2022-04-04</td>\n",
       "      <td>0.0</td>\n",
       "    </tr>\n",
       "    <tr>\n",
       "      <th>180</th>\n",
       "      <td>Varejo</td>\n",
       "      <td>2022-05-09</td>\n",
       "      <td>1.0</td>\n",
       "    </tr>\n",
       "    <tr>\n",
       "      <th>181</th>\n",
       "      <td>Varejo</td>\n",
       "      <td>2022-06-02</td>\n",
       "      <td>1.0</td>\n",
       "    </tr>\n",
       "    <tr>\n",
       "      <th>182</th>\n",
       "      <td>Varejo</td>\n",
       "      <td>2022-06-03</td>\n",
       "      <td>1.0</td>\n",
       "    </tr>\n",
       "  </tbody>\n",
       "</table>\n",
       "<p>183 rows × 3 columns</p>\n",
       "</div>"
      ],
      "text/plain": [
       "                setor  open_date  e_lucro_bruto\n",
       "0              Aéreas 2022-06-13            0.0\n",
       "1              Aéreas 2022-06-15            1.0\n",
       "2    Bens Industriais 2020-01-07            0.0\n",
       "3    Bens Industriais 2021-12-29            1.0\n",
       "4    Bens Industriais 2022-02-03            1.0\n",
       "..                ...        ...            ...\n",
       "178            Varejo 2022-01-31            0.0\n",
       "179            Varejo 2022-04-04            0.0\n",
       "180            Varejo 2022-05-09            1.0\n",
       "181            Varejo 2022-06-02            1.0\n",
       "182            Varejo 2022-06-03            1.0\n",
       "\n",
       "[183 rows x 3 columns]"
      ]
     },
     "metadata": {},
     "output_type": "display_data"
    }
   ],
   "source": [
    "display(fechadas.groupby(['setor', 'open_date']).e_lucro_bruto.mean().reset_index())"
   ]
  },
  {
   "cell_type": "code",
   "execution_count": 42,
   "id": "0741de38",
   "metadata": {
    "ExecuteTime": {
     "end_time": "2022-08-12T14:42:38.813577Z",
     "start_time": "2022-08-12T14:42:37.491960Z"
    }
   },
   "outputs": [
    {
     "data": {
      "text/plain": [
       "Text(0, 0.5, 'acerto')"
      ]
     },
     "execution_count": 42,
     "metadata": {},
     "output_type": "execute_result"
    },
    {
     "data": {
      "image/png": "[encoded data removed]",
      "text/plain": [
       "<Figure size 1440x576 with 1 Axes>"
      ]
     },
     "metadata": {},
     "output_type": "display_data"
    }
   ],
   "source": [
    "fechadas_agrupadas_semestre = fechadas.groupby(['setor', pd.Grouper(key='open_date', freq='1Y')]).e_lucro_bruto.mean().reset_index()\n",
    "\n",
    "plt.figure(figsize=(20,8))\n",
    "\n",
    "fechadas_agrupadas_semestre['open_date'] = pd.to_datetime(fechadas_agrupadas_semestre['open_date'])\n",
    "fechadas_2020 = fechadas_agrupadas_semestre.set_index('open_date').loc['2020'].reset_index()\n",
    "fechadas_2020['open_date'] = fechadas_2020.open_date.dt.date\n",
    "\n",
    "sns.barplot(x='setor', y='e_lucro_bruto', data=fechadas_2020)\n",
    "plt.axhline(y=0.5, color='blue', linestyle='--')\n",
    "\n",
    "plt.ylabel('acerto')\n",
    "# plt.legend(bbox_to_anchor=(1.05, 1), loc=2, borderaxespad=0.)\n",
    "\n"
   ]
  },
  {
   "cell_type": "code",
   "execution_count": null,
   "id": "1168120b",
   "metadata": {},
   "outputs": [],
   "source": [
    "fechadas.set_index('open_date').resample('6M').agg(\n",
    "    total_trades = ('status', 'count'),\n",
    "    gain_halflife = ('e_lucro_bruto', 'mean'),"
   ]
  },
  {
   "cell_type": "code",
   "execution_count": 46,
   "id": "37a69730",
   "metadata": {
    "ExecuteTime": {
     "end_time": "2022-08-12T14:59:54.263933Z",
     "start_time": "2022-08-12T14:59:54.154528Z"
    }
   },
   "outputs": [
    {
     "data": {
      "text/html": [
       "<div>\n",
       "<style scoped>\n",
       "    .dataframe tbody tr th:only-of-type {\n",
       "        vertical-align: middle;\n",
       "    }\n",
       "\n",
       "    .dataframe tbody tr th {\n",
       "        vertical-align: top;\n",
       "    }\n",
       "\n",
       "    .dataframe thead th {\n",
       "        text-align: right;\n",
       "    }\n",
       "</style>\n",
       "<table border=\"1\" class=\"dataframe\">\n",
       "  <thead>\n",
       "    <tr style=\"text-align: right;\">\n",
       "      <th></th>\n",
       "      <th>total_trades</th>\n",
       "      <th>gain_var</th>\n",
       "      <th>loss_var</th>\n",
       "    </tr>\n",
       "    <tr>\n",
       "      <th>open_date</th>\n",
       "      <th></th>\n",
       "      <th></th>\n",
       "      <th></th>\n",
       "    </tr>\n",
       "  </thead>\n",
       "  <tbody>\n",
       "    <tr>\n",
       "      <th>2019-07-31</th>\n",
       "      <td>1</td>\n",
       "      <td>1.000000</td>\n",
       "      <td>0.000000</td>\n",
       "    </tr>\n",
       "    <tr>\n",
       "      <th>2020-01-31</th>\n",
       "      <td>12</td>\n",
       "      <td>0.833333</td>\n",
       "      <td>0.166667</td>\n",
       "    </tr>\n",
       "    <tr>\n",
       "      <th>2020-07-31</th>\n",
       "      <td>27</td>\n",
       "      <td>0.555556</td>\n",
       "      <td>0.444444</td>\n",
       "    </tr>\n",
       "    <tr>\n",
       "      <th>2021-01-31</th>\n",
       "      <td>13</td>\n",
       "      <td>0.615385</td>\n",
       "      <td>0.384615</td>\n",
       "    </tr>\n",
       "    <tr>\n",
       "      <th>2021-07-31</th>\n",
       "      <td>12</td>\n",
       "      <td>0.583333</td>\n",
       "      <td>0.416667</td>\n",
       "    </tr>\n",
       "    <tr>\n",
       "      <th>2022-01-31</th>\n",
       "      <td>15</td>\n",
       "      <td>0.533333</td>\n",
       "      <td>0.466667</td>\n",
       "    </tr>\n",
       "    <tr>\n",
       "      <th>2022-07-31</th>\n",
       "      <td>28</td>\n",
       "      <td>0.607143</td>\n",
       "      <td>0.392857</td>\n",
       "    </tr>\n",
       "  </tbody>\n",
       "</table>\n",
       "</div>"
      ],
      "text/plain": [
       "            total_trades  gain_var  loss_var\n",
       "open_date                                   \n",
       "2019-07-31             1  1.000000  0.000000\n",
       "2020-01-31            12  0.833333  0.166667\n",
       "2020-07-31            27  0.555556  0.444444\n",
       "2021-01-31            13  0.615385  0.384615\n",
       "2021-07-31            12  0.583333  0.416667\n",
       "2022-01-31            15  0.533333  0.466667\n",
       "2022-07-31            28  0.607143  0.392857"
      ]
     },
     "execution_count": 46,
     "metadata": {},
     "output_type": "execute_result"
    }
   ],
   "source": [
    "fechadas_var_semestre = fechadas_stop_var.set_index('open_date').resample('6M').agg(\n",
    "    total_trades = ('status', 'count'),\n",
    "    gain_var = ('e_lucro_bruto', 'mean'),\n",
    ")\n",
    "fechadas_var_semestre['loss_var'] = 1-fechadas_var_semestre['gain_var']\n",
    "\n",
    "fechadas_var_semestre"
   ]
  },
  {
   "cell_type": "code",
   "execution_count": 44,
   "id": "d95fb4d0",
   "metadata": {
    "ExecuteTime": {
     "end_time": "2022-08-12T14:42:39.292597Z",
     "start_time": "2022-08-12T14:42:39.100587Z"
    }
   },
   "outputs": [
    {
     "data": {
      "text/html": [
       "<div>\n",
       "<style scoped>\n",
       "    .dataframe tbody tr th:only-of-type {\n",
       "        vertical-align: middle;\n",
       "    }\n",
       "\n",
       "    .dataframe tbody tr th {\n",
       "        vertical-align: top;\n",
       "    }\n",
       "\n",
       "    .dataframe thead th {\n",
       "        text-align: right;\n",
       "    }\n",
       "</style>\n",
       "<table border=\"1\" class=\"dataframe\">\n",
       "  <thead>\n",
       "    <tr style=\"text-align: right;\">\n",
       "      <th></th>\n",
       "      <th>total_trades</th>\n",
       "      <th>gain_halflife</th>\n",
       "      <th>loss_halflife</th>\n",
       "    </tr>\n",
       "    <tr>\n",
       "      <th>open_date</th>\n",
       "      <th></th>\n",
       "      <th></th>\n",
       "      <th></th>\n",
       "    </tr>\n",
       "  </thead>\n",
       "  <tbody>\n",
       "    <tr>\n",
       "      <th>2019-09-30</th>\n",
       "      <td>1</td>\n",
       "      <td>1.000000</td>\n",
       "      <td>0.000000</td>\n",
       "    </tr>\n",
       "    <tr>\n",
       "      <th>2020-03-31</th>\n",
       "      <td>6</td>\n",
       "      <td>0.500000</td>\n",
       "      <td>0.500000</td>\n",
       "    </tr>\n",
       "    <tr>\n",
       "      <th>2020-09-30</th>\n",
       "      <td>5</td>\n",
       "      <td>0.600000</td>\n",
       "      <td>0.400000</td>\n",
       "    </tr>\n",
       "    <tr>\n",
       "      <th>2021-03-31</th>\n",
       "      <td>22</td>\n",
       "      <td>0.590909</td>\n",
       "      <td>0.409091</td>\n",
       "    </tr>\n",
       "    <tr>\n",
       "      <th>2021-09-30</th>\n",
       "      <td>11</td>\n",
       "      <td>0.363636</td>\n",
       "      <td>0.636364</td>\n",
       "    </tr>\n",
       "    <tr>\n",
       "      <th>2022-03-31</th>\n",
       "      <td>21</td>\n",
       "      <td>0.523810</td>\n",
       "      <td>0.476190</td>\n",
       "    </tr>\n",
       "    <tr>\n",
       "      <th>2022-09-30</th>\n",
       "      <td>4</td>\n",
       "      <td>0.750000</td>\n",
       "      <td>0.250000</td>\n",
       "    </tr>\n",
       "  </tbody>\n",
       "</table>\n",
       "</div>"
      ],
      "text/plain": [
       "            total_trades  gain_halflife  loss_halflife\n",
       "open_date                                             \n",
       "2019-09-30             1       1.000000       0.000000\n",
       "2020-03-31             6       0.500000       0.500000\n",
       "2020-09-30             5       0.600000       0.400000\n",
       "2021-03-31            22       0.590909       0.409091\n",
       "2021-09-30            11       0.363636       0.636364\n",
       "2022-03-31            21       0.523810       0.476190\n",
       "2022-09-30             4       0.750000       0.250000"
      ]
     },
     "execution_count": 44,
     "metadata": {},
     "output_type": "execute_result"
    }
   ],
   "source": [
    "halflife_semestre = fechadas_halflife.set_index('open_date').resample('6M').agg(\n",
    "    total_trades = ('status', 'count'),\n",
    "    gain_halflife = ('e_lucro_bruto', 'mean'),\n",
    ")\n",
    "\n",
    "halflife_semestre['loss_halflife'] = 1-halflife_semestre['gain_halflife']\n",
    "\n",
    "halflife_semestre"
   ]
  },
  {
   "cell_type": "markdown",
   "id": "b66e424c",
   "metadata": {
    "ExecuteTime": {
     "end_time": "2022-08-12T09:31:19.892023Z",
     "start_time": "2022-08-12T09:31:19.883016Z"
    }
   },
   "source": [
    "# Resumo Pares"
   ]
  },
  {
   "cell_type": "code",
   "execution_count": 45,
   "id": "1f9d8ccf",
   "metadata": {
    "ExecuteTime": {
     "end_time": "2022-08-12T14:42:39.508591Z",
     "start_time": "2022-08-12T14:42:39.300589Z"
    }
   },
   "outputs": [
    {
     "data": {
      "text/html": [
       "<div>\n",
       "<style scoped>\n",
       "    .dataframe tbody tr th:only-of-type {\n",
       "        vertical-align: middle;\n",
       "    }\n",
       "\n",
       "    .dataframe tbody tr th {\n",
       "        vertical-align: top;\n",
       "    }\n",
       "\n",
       "    .dataframe thead th {\n",
       "        text-align: right;\n",
       "    }\n",
       "</style>\n",
       "<table border=\"1\" class=\"dataframe\">\n",
       "  <thead>\n",
       "    <tr style=\"text-align: right;\">\n",
       "      <th></th>\n",
       "      <th>trades</th>\n",
       "      <th>taxa_acerto</th>\n",
       "      <th>prazo_medio_operacao</th>\n",
       "      <th>retorno_bruto_acum</th>\n",
       "      <th>retorno_liquidi_acum</th>\n",
       "    </tr>\n",
       "    <tr>\n",
       "      <th>sorted_pair</th>\n",
       "      <th></th>\n",
       "      <th></th>\n",
       "      <th></th>\n",
       "      <th></th>\n",
       "      <th></th>\n",
       "    </tr>\n",
       "  </thead>\n",
       "  <tbody>\n",
       "    <tr>\n",
       "      <th>(ELET3, ELET6)</th>\n",
       "      <td>17</td>\n",
       "      <td>0.705882</td>\n",
       "      <td>4.823529</td>\n",
       "      <td>0.128551</td>\n",
       "      <td>-0.357420</td>\n",
       "    </tr>\n",
       "    <tr>\n",
       "      <th>(EQTL3, TAEE11)</th>\n",
       "      <td>16</td>\n",
       "      <td>0.562500</td>\n",
       "      <td>3.687500</td>\n",
       "      <td>0.368348</td>\n",
       "      <td>-0.095134</td>\n",
       "    </tr>\n",
       "    <tr>\n",
       "      <th>(PETR3, PETR4)</th>\n",
       "      <td>13</td>\n",
       "      <td>0.846154</td>\n",
       "      <td>3.615385</td>\n",
       "      <td>0.104016</td>\n",
       "      <td>-0.266910</td>\n",
       "    </tr>\n",
       "    <tr>\n",
       "      <th>(CPFE3, EGIE3)</th>\n",
       "      <td>13</td>\n",
       "      <td>0.615385</td>\n",
       "      <td>5.307692</td>\n",
       "      <td>0.047755</td>\n",
       "      <td>-0.322760</td>\n",
       "    </tr>\n",
       "    <tr>\n",
       "      <th>(GGBR4, GOAU4)</th>\n",
       "      <td>9</td>\n",
       "      <td>0.666667</td>\n",
       "      <td>4.000000</td>\n",
       "      <td>0.020916</td>\n",
       "      <td>-0.234615</td>\n",
       "    </tr>\n",
       "    <tr>\n",
       "      <th>(BBDC3, BBDC4)</th>\n",
       "      <td>7</td>\n",
       "      <td>0.857143</td>\n",
       "      <td>6.285714</td>\n",
       "      <td>0.036114</td>\n",
       "      <td>-0.164076</td>\n",
       "    </tr>\n",
       "    <tr>\n",
       "      <th>(BRML3, MULT3)</th>\n",
       "      <td>7</td>\n",
       "      <td>0.857143</td>\n",
       "      <td>5.285714</td>\n",
       "      <td>0.311958</td>\n",
       "      <td>0.104311</td>\n",
       "    </tr>\n",
       "    <tr>\n",
       "      <th>(FLRY3, QUAL3)</th>\n",
       "      <td>7</td>\n",
       "      <td>0.714286</td>\n",
       "      <td>6.714286</td>\n",
       "      <td>0.253770</td>\n",
       "      <td>0.047152</td>\n",
       "    </tr>\n",
       "    <tr>\n",
       "      <th>(BBDC4, SANB11)</th>\n",
       "      <td>7</td>\n",
       "      <td>0.571429</td>\n",
       "      <td>4.142857</td>\n",
       "      <td>0.072531</td>\n",
       "      <td>-0.127865</td>\n",
       "    </tr>\n",
       "    <tr>\n",
       "      <th>(KLBN11, SUZB3)</th>\n",
       "      <td>6</td>\n",
       "      <td>0.666667</td>\n",
       "      <td>4.166667</td>\n",
       "      <td>0.089737</td>\n",
       "      <td>-0.082836</td>\n",
       "    </tr>\n",
       "    <tr>\n",
       "      <th>(GGBR4, USIM5)</th>\n",
       "      <td>6</td>\n",
       "      <td>0.500000</td>\n",
       "      <td>6.833333</td>\n",
       "      <td>0.053332</td>\n",
       "      <td>-0.119086</td>\n",
       "    </tr>\n",
       "    <tr>\n",
       "      <th>(GOAU4, USIM5)</th>\n",
       "      <td>6</td>\n",
       "      <td>0.333333</td>\n",
       "      <td>7.333333</td>\n",
       "      <td>-0.153586</td>\n",
       "      <td>-0.320236</td>\n",
       "    </tr>\n",
       "    <tr>\n",
       "      <th>(FLRY3, HAPV3)</th>\n",
       "      <td>5</td>\n",
       "      <td>0.600000</td>\n",
       "      <td>4.200000</td>\n",
       "      <td>0.042661</td>\n",
       "      <td>-0.100215</td>\n",
       "    </tr>\n",
       "    <tr>\n",
       "      <th>(ECOR3, RAIL3)</th>\n",
       "      <td>4</td>\n",
       "      <td>0.750000</td>\n",
       "      <td>4.750000</td>\n",
       "      <td>0.107037</td>\n",
       "      <td>-0.009463</td>\n",
       "    </tr>\n",
       "    <tr>\n",
       "      <th>(CYRE3, EZTC3)</th>\n",
       "      <td>4</td>\n",
       "      <td>0.500000</td>\n",
       "      <td>4.000000</td>\n",
       "      <td>0.003797</td>\n",
       "      <td>-0.109608</td>\n",
       "    </tr>\n",
       "  </tbody>\n",
       "</table>\n",
       "</div>"
      ],
      "text/plain": [
       "                 trades  taxa_acerto  prazo_medio_operacao  \\\n",
       "sorted_pair                                                  \n",
       "(ELET3, ELET6)       17     0.705882              4.823529   \n",
       "(EQTL3, TAEE11)      16     0.562500              3.687500   \n",
       "(PETR3, PETR4)       13     0.846154              3.615385   \n",
       "(CPFE3, EGIE3)       13     0.615385              5.307692   \n",
       "(GGBR4, GOAU4)        9     0.666667              4.000000   \n",
       "(BBDC3, BBDC4)        7     0.857143              6.285714   \n",
       "(BRML3, MULT3)        7     0.857143              5.285714   \n",
       "(FLRY3, QUAL3)        7     0.714286              6.714286   \n",
       "(BBDC4, SANB11)       7     0.571429              4.142857   \n",
       "(KLBN11, SUZB3)       6     0.666667              4.166667   \n",
       "(GGBR4, USIM5)        6     0.500000              6.833333   \n",
       "(GOAU4, USIM5)        6     0.333333              7.333333   \n",
       "(FLRY3, HAPV3)        5     0.600000              4.200000   \n",
       "(ECOR3, RAIL3)        4     0.750000              4.750000   \n",
       "(CYRE3, EZTC3)        4     0.500000              4.000000   \n",
       "\n",
       "                 retorno_bruto_acum  retorno_liquidi_acum  \n",
       "sorted_pair                                                \n",
       "(ELET3, ELET6)             0.128551             -0.357420  \n",
       "(EQTL3, TAEE11)            0.368348             -0.095134  \n",
       "(PETR3, PETR4)             0.104016             -0.266910  \n",
       "(CPFE3, EGIE3)             0.047755             -0.322760  \n",
       "(GGBR4, GOAU4)             0.020916             -0.234615  \n",
       "(BBDC3, BBDC4)             0.036114             -0.164076  \n",
       "(BRML3, MULT3)             0.311958              0.104311  \n",
       "(FLRY3, QUAL3)             0.253770              0.047152  \n",
       "(BBDC4, SANB11)            0.072531             -0.127865  \n",
       "(KLBN11, SUZB3)            0.089737             -0.082836  \n",
       "(GGBR4, USIM5)             0.053332             -0.119086  \n",
       "(GOAU4, USIM5)            -0.153586             -0.320236  \n",
       "(FLRY3, HAPV3)             0.042661             -0.100215  \n",
       "(ECOR3, RAIL3)             0.107037             -0.009463  \n",
       "(CYRE3, EZTC3)             0.003797             -0.109608  "
      ]
     },
     "execution_count": 45,
     "metadata": {},
     "output_type": "execute_result"
    }
   ],
   "source": [
    "fechadas_grouped = fechadas.groupby('sorted_pair').agg(\n",
    "    trades = ('sorted_pair','count'),\n",
    "    taxa_acerto = ('e_lucro_bruto', 'mean'),\n",
    "    prazo_medio_operacao = ('days_open', 'mean'),\n",
    "    retorno_bruto_acum = ('retorno_acumulado_sem_custos', 'sum'),\n",
    "    retorno_liquidi_acum = ('retorno_acumulado', 'sum')\n",
    ")\n",
    "\n",
    "fechadas_grouped.sort_values(by=['trades', 'taxa_acerto'], ascending=False).head(15)"
   ]
  },
  {
   "cell_type": "code",
   "execution_count": null,
   "id": "5bba04f1",
   "metadata": {},
   "outputs": [],
   "source": []
  },
  {
   "cell_type": "code",
   "execution_count": null,
   "id": "e01aa6c1",
   "metadata": {},
   "outputs": [],
   "source": []
  }
 ],
 "metadata": {
  "kernelspec": {
   "display_name": "Python 3",
   "language": "python",
   "name": "python3"
  },
  "language_info": {
   "codemirror_mode": {
    "name": "ipython",
    "version": 3
   },
   "file_extension": ".py",
   "mimetype": "text/x-python",
   "name": "python",
   "nbconvert_exporter": "python",
   "pygments_lexer": "ipython3",
   "version": "3.8.4"
  }
 },
 "nbformat": 4,
 "nbformat_minor": 5
}
