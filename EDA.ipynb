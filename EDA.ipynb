{
 "cells": [
  {
   "cell_type": "code",
   "execution_count": 1,
   "id": "3bc71c72",
   "metadata": {
    "ExecuteTime": {
     "end_time": "2022-07-30T01:29:30.642561Z",
     "start_time": "2022-07-30T01:29:21.884423Z"
    }
   },
   "outputs": [],
   "source": [
    "import pandas as pd\n",
    "import seaborn as sns\n",
    "from backtest import executer"
   ]
  },
  {
   "cell_type": "code",
   "execution_count": 6,
   "id": "0d106545",
   "metadata": {
    "ExecuteTime": {
     "end_time": "2022-07-30T01:32:43.515469Z",
     "start_time": "2022-07-30T01:32:43.500146Z"
    }
   },
   "outputs": [],
   "source": [
    "def result_calculator(row):\n",
    "\n",
    "    result = (row['price_fst_stock'] - row['open_price_first_stock']) + (row['open_price_scnd_stock'] - row['price_scnd_stock'])\n",
    "    \n",
    "    if row['residual_open'] > row['std_open_residual']:\n",
    "        result = - result\n",
    "\n",
    "    return result "
   ]
  },
  {
   "cell_type": "code",
   "execution_count": 2,
   "id": "5bf74a4d",
   "metadata": {
    "ExecuteTime": {
     "end_time": "2022-07-30T01:32:00.245162Z",
     "start_time": "2022-07-30T01:29:39.868430Z"
    }
   },
   "outputs": [
    {
     "data": {
      "application/vnd.jupyter.widget-view+json": {
       "model_id": "8a2ffafdeec54109933fbb4bf5ca412e",
       "version_major": 2,
       "version_minor": 0
      },
      "text/plain": [
       "  0%|          | 0/500 [00:00<?, ?it/s]"
      ]
     },
     "metadata": {},
     "output_type": "display_data"
    }
   ],
   "source": [
    "dfs = executer()"
   ]
  },
  {
   "cell_type": "code",
   "execution_count": 3,
   "id": "70b30882",
   "metadata": {
    "ExecuteTime": {
     "end_time": "2022-07-30T01:32:05.434940Z",
     "start_time": "2022-07-30T01:32:04.056642Z"
    }
   },
   "outputs": [
    {
     "data": {
      "text/html": [
       "<div>\n",
       "<style scoped>\n",
       "    .dataframe tbody tr th:only-of-type {\n",
       "        vertical-align: middle;\n",
       "    }\n",
       "\n",
       "    .dataframe tbody tr th {\n",
       "        vertical-align: top;\n",
       "    }\n",
       "\n",
       "    .dataframe thead th {\n",
       "        text-align: right;\n",
       "    }\n",
       "</style>\n",
       "<table border=\"1\" class=\"dataframe\">\n",
       "  <thead>\n",
       "    <tr style=\"text-align: right;\">\n",
       "      <th></th>\n",
       "      <th>date</th>\n",
       "      <th>pair</th>\n",
       "      <th>status</th>\n",
       "      <th>price_fst_stock</th>\n",
       "      <th>price_scnd_stock</th>\n",
       "      <th>beta</th>\n",
       "      <th>last_residual</th>\n",
       "      <th>std_residual</th>\n",
       "      <th>std_open_residual</th>\n",
       "      <th>residual_open</th>\n",
       "      <th>open_price_first_stock</th>\n",
       "      <th>open_price_scnd_stock</th>\n",
       "      <th>open_date</th>\n",
       "    </tr>\n",
       "  </thead>\n",
       "  <tbody>\n",
       "    <tr>\n",
       "      <th>0</th>\n",
       "      <td>2018-12-14</td>\n",
       "      <td>(ARZZ3, AZUL4)</td>\n",
       "      <td>False</td>\n",
       "      <td>50.7891</td>\n",
       "      <td>33.35</td>\n",
       "      <td>0.624124</td>\n",
       "      <td>4.087650</td>\n",
       "      <td>2.109399</td>\n",
       "      <td>NaN</td>\n",
       "      <td>NaN</td>\n",
       "      <td>NaN</td>\n",
       "      <td>NaN</td>\n",
       "      <td>NaT</td>\n",
       "    </tr>\n",
       "    <tr>\n",
       "      <th>1</th>\n",
       "      <td>2018-12-17</td>\n",
       "      <td>(ARZZ3, AZUL4)</td>\n",
       "      <td>False</td>\n",
       "      <td>49.7644</td>\n",
       "      <td>31.85</td>\n",
       "      <td>0.620459</td>\n",
       "      <td>4.026344</td>\n",
       "      <td>2.067766</td>\n",
       "      <td>NaN</td>\n",
       "      <td>NaN</td>\n",
       "      <td>NaN</td>\n",
       "      <td>NaN</td>\n",
       "      <td>NaT</td>\n",
       "    </tr>\n",
       "    <tr>\n",
       "      <th>2</th>\n",
       "      <td>2018-12-18</td>\n",
       "      <td>(ARZZ3, AZUL4)</td>\n",
       "      <td>True</td>\n",
       "      <td>50.7118</td>\n",
       "      <td>33.00</td>\n",
       "      <td>0.618525</td>\n",
       "      <td>4.278029</td>\n",
       "      <td>2.043779</td>\n",
       "      <td>2.043779</td>\n",
       "      <td>4.278029</td>\n",
       "      <td>50.7118</td>\n",
       "      <td>33.0</td>\n",
       "      <td>2018-12-18 00:00:00</td>\n",
       "    </tr>\n",
       "    <tr>\n",
       "      <th>3</th>\n",
       "      <td>2018-12-19</td>\n",
       "      <td>(ARZZ3, AZUL4)</td>\n",
       "      <td>True</td>\n",
       "      <td>50.2478</td>\n",
       "      <td>32.37</td>\n",
       "      <td>0.616298</td>\n",
       "      <td>4.222456</td>\n",
       "      <td>2.016459</td>\n",
       "      <td>2.043779</td>\n",
       "      <td>4.278029</td>\n",
       "      <td>50.7118</td>\n",
       "      <td>33.0</td>\n",
       "      <td>2018-12-18 00:00:00</td>\n",
       "    </tr>\n",
       "    <tr>\n",
       "      <th>4</th>\n",
       "      <td>2018-12-20</td>\n",
       "      <td>(ARZZ3, AZUL4)</td>\n",
       "      <td>True</td>\n",
       "      <td>50.9824</td>\n",
       "      <td>33.50</td>\n",
       "      <td>0.615200</td>\n",
       "      <td>4.277016</td>\n",
       "      <td>1.986614</td>\n",
       "      <td>2.043779</td>\n",
       "      <td>4.278029</td>\n",
       "      <td>50.7118</td>\n",
       "      <td>33.0</td>\n",
       "      <td>2018-12-18 00:00:00</td>\n",
       "    </tr>\n",
       "  </tbody>\n",
       "</table>\n",
       "</div>"
      ],
      "text/plain": [
       "        date            pair status  price_fst_stock  price_scnd_stock  \\\n",
       "0 2018-12-14  (ARZZ3, AZUL4)  False          50.7891             33.35   \n",
       "1 2018-12-17  (ARZZ3, AZUL4)  False          49.7644             31.85   \n",
       "2 2018-12-18  (ARZZ3, AZUL4)   True          50.7118             33.00   \n",
       "3 2018-12-19  (ARZZ3, AZUL4)   True          50.2478             32.37   \n",
       "4 2018-12-20  (ARZZ3, AZUL4)   True          50.9824             33.50   \n",
       "\n",
       "       beta  last_residual  std_residual std_open_residual residual_open  \\\n",
       "0  0.624124       4.087650      2.109399               NaN           NaN   \n",
       "1  0.620459       4.026344      2.067766               NaN           NaN   \n",
       "2  0.618525       4.278029      2.043779          2.043779      4.278029   \n",
       "3  0.616298       4.222456      2.016459          2.043779      4.278029   \n",
       "4  0.615200       4.277016      1.986614          2.043779      4.278029   \n",
       "\n",
       "  open_price_first_stock open_price_scnd_stock            open_date  \n",
       "0                    NaN                   NaN                  NaT  \n",
       "1                    NaN                   NaN                  NaT  \n",
       "2                50.7118                  33.0  2018-12-18 00:00:00  \n",
       "3                50.7118                  33.0  2018-12-18 00:00:00  \n",
       "4                50.7118                  33.0  2018-12-18 00:00:00  "
      ]
     },
     "execution_count": 3,
     "metadata": {},
     "output_type": "execute_result"
    }
   ],
   "source": [
    "df_list = [pd.DataFrame(d) for d in dfs]\n",
    "df = pd.concat(df_list)\n",
    "df.head()"
   ]
  },
  {
   "cell_type": "code",
   "execution_count": 4,
   "id": "3212a587",
   "metadata": {
    "ExecuteTime": {
     "end_time": "2022-07-30T01:32:10.713798Z",
     "start_time": "2022-07-30T01:32:10.705435Z"
    }
   },
   "outputs": [],
   "source": [
    "cond = (df.status.isin([True, 'close']))"
   ]
  },
  {
   "cell_type": "code",
   "execution_count": 11,
   "id": "6416f22d",
   "metadata": {
    "ExecuteTime": {
     "end_time": "2022-07-30T01:34:00.908068Z",
     "start_time": "2022-07-30T01:34:00.829092Z"
    }
   },
   "outputs": [],
   "source": [
    "df.loc[cond, 'result'] = df.loc[cond].apply(lambda row: result_calculator(row), axis=1)"
   ]
  },
  {
   "cell_type": "code",
   "execution_count": 12,
   "id": "78495ff1",
   "metadata": {
    "ExecuteTime": {
     "end_time": "2022-07-30T01:34:01.373547Z",
     "start_time": "2022-07-30T01:34:01.358314Z"
    }
   },
   "outputs": [],
   "source": [
    "result_sum = df.loc[cond].groupby('date').result.sum()"
   ]
  },
  {
   "cell_type": "code",
   "execution_count": 60,
   "id": "00052af4",
   "metadata": {
    "ExecuteTime": {
     "end_time": "2022-07-30T01:51:08.340799Z",
     "start_time": "2022-07-30T01:51:07.964982Z"
    }
   },
   "outputs": [
    {
     "data": {
      "text/plain": [
       "<matplotlib.axes._subplots.AxesSubplot at 0x19207d6e4c0>"
      ]
     },
     "execution_count": 60,
     "metadata": {},
     "output_type": "execute_result"
    },
    {
     "data": {
      "image/png": "[encoded data removed]",
      "text/plain": [
       "<Figure size 432x288 with 1 Axes>"
      ]
     },
     "metadata": {
      "needs_background": "light"
     },
     "output_type": "display_data"
    }
   ],
   "source": [
    "sns.lineplot(x=result_sum.index, y=result_sum)"
   ]
  },
  {
   "cell_type": "code",
   "execution_count": 23,
   "id": "bfe93c5b",
   "metadata": {
    "ExecuteTime": {
     "end_time": "2022-07-30T01:38:17.338474Z",
     "start_time": "2022-07-30T01:38:17.317988Z"
    }
   },
   "outputs": [],
   "source": [
    "closed = df.loc[df.status=='close'].groupby('date').result.sum()"
   ]
  },
  {
   "cell_type": "code",
   "execution_count": 28,
   "id": "f1df211b",
   "metadata": {
    "ExecuteTime": {
     "end_time": "2022-07-30T01:39:18.606551Z",
     "start_time": "2022-07-30T01:39:18.235272Z"
    }
   },
   "outputs": [
    {
     "data": {
      "text/plain": [
       "<matplotlib.axes._subplots.AxesSubplot at 0x19207995190>"
      ]
     },
     "execution_count": 28,
     "metadata": {},
     "output_type": "execute_result"
    },
    {
     "data": {
      "image/png": "[encoded data removed]",
      "text/plain": [
       "<Figure size 432x288 with 1 Axes>"
      ]
     },
     "metadata": {
      "needs_background": "light"
     },
     "output_type": "display_data"
    }
   ],
   "source": [
    "sns.lineplot(x=closed.index, y=closed.cumsum())"
   ]
  },
  {
   "cell_type": "code",
   "execution_count": 27,
   "id": "a7b7aa37",
   "metadata": {
    "ExecuteTime": {
     "end_time": "2022-07-30T01:38:59.767823Z",
     "start_time": "2022-07-30T01:38:59.732798Z"
    }
   },
   "outputs": [
    {
     "data": {
      "text/plain": [
       "60.13619999999996"
      ]
     },
     "execution_count": 27,
     "metadata": {},
     "output_type": "execute_result"
    }
   ],
   "source": [
    "df.loc[df.status=='close'].result.sum()"
   ]
  },
  {
   "cell_type": "code",
   "execution_count": 66,
   "id": "56a249a2",
   "metadata": {
    "ExecuteTime": {
     "end_time": "2022-07-30T01:54:13.079562Z",
     "start_time": "2022-07-30T01:54:13.047499Z"
    }
   },
   "outputs": [],
   "source": [
    "final = df.groupby(['open_date', 'pair']).last().reset_index()"
   ]
  },
  {
   "cell_type": "code",
   "execution_count": 69,
   "id": "d9707ab6",
   "metadata": {
    "ExecuteTime": {
     "end_time": "2022-07-30T01:55:48.735256Z",
     "start_time": "2022-07-30T01:55:48.715448Z"
    }
   },
   "outputs": [],
   "source": [
    "final_gpd = final.groupby('date').sum()"
   ]
  },
  {
   "cell_type": "code",
   "execution_count": 71,
   "id": "5d1d5c88",
   "metadata": {
    "ExecuteTime": {
     "end_time": "2022-07-30T01:56:03.255483Z",
     "start_time": "2022-07-30T01:56:02.806374Z"
    }
   },
   "outputs": [
    {
     "data": {
      "text/plain": [
       "<matplotlib.axes._subplots.AxesSubplot at 0x19207e6f820>"
      ]
     },
     "execution_count": 71,
     "metadata": {},
     "output_type": "execute_result"
    },
    {
     "data": {
      "image/png": "[encoded data removed]",
      "text/plain": [
       "<Figure size 432x288 with 1 Axes>"
      ]
     },
     "metadata": {
      "needs_background": "light"
     },
     "output_type": "display_data"
    }
   ],
   "source": [
    "sns.lineplot(x=final_gpd.index, y=final_gpd.result.cumsum())"
   ]
  },
  {
   "cell_type": "code",
   "execution_count": 64,
   "id": "ecce47b3",
   "metadata": {
    "ExecuteTime": {
     "end_time": "2022-07-30T01:53:27.302794Z",
     "start_time": "2022-07-30T01:53:27.262380Z"
    }
   },
   "outputs": [
    {
     "data": {
      "text/html": [
       "<div>\n",
       "<style scoped>\n",
       "    .dataframe tbody tr th:only-of-type {\n",
       "        vertical-align: middle;\n",
       "    }\n",
       "\n",
       "    .dataframe tbody tr th {\n",
       "        vertical-align: top;\n",
       "    }\n",
       "\n",
       "    .dataframe thead th {\n",
       "        text-align: right;\n",
       "    }\n",
       "</style>\n",
       "<table border=\"1\" class=\"dataframe\">\n",
       "  <thead>\n",
       "    <tr style=\"text-align: right;\">\n",
       "      <th></th>\n",
       "      <th>open_date</th>\n",
       "      <th>pair</th>\n",
       "      <th>result</th>\n",
       "      <th>status</th>\n",
       "      <th>date</th>\n",
       "    </tr>\n",
       "  </thead>\n",
       "  <tbody>\n",
       "    <tr>\n",
       "      <th>0</th>\n",
       "      <td>2018-12-14</td>\n",
       "      <td>(ARZZ3, SUZB3)</td>\n",
       "      <td>0.5119</td>\n",
       "      <td>close</td>\n",
       "      <td>2018-12-21</td>\n",
       "    </tr>\n",
       "    <tr>\n",
       "      <th>1</th>\n",
       "      <td>2018-12-17</td>\n",
       "      <td>(BBDC4, ITUB4)</td>\n",
       "      <td>-3.1498</td>\n",
       "      <td>close</td>\n",
       "      <td>2019-02-05</td>\n",
       "    </tr>\n",
       "    <tr>\n",
       "      <th>2</th>\n",
       "      <td>2018-12-18</td>\n",
       "      <td>(ARZZ3, AZUL4)</td>\n",
       "      <td>0.2569</td>\n",
       "      <td>close</td>\n",
       "      <td>2018-12-28</td>\n",
       "    </tr>\n",
       "    <tr>\n",
       "      <th>3</th>\n",
       "      <td>2018-12-18</td>\n",
       "      <td>(BBDC3, GOLL4)</td>\n",
       "      <td>5.5985</td>\n",
       "      <td>close</td>\n",
       "      <td>2019-01-24</td>\n",
       "    </tr>\n",
       "    <tr>\n",
       "      <th>4</th>\n",
       "      <td>2018-12-19</td>\n",
       "      <td>(B3SA3, BBDC4)</td>\n",
       "      <td>-0.1179</td>\n",
       "      <td>close</td>\n",
       "      <td>2019-01-14</td>\n",
       "    </tr>\n",
       "    <tr>\n",
       "      <th>...</th>\n",
       "      <td>...</td>\n",
       "      <td>...</td>\n",
       "      <td>...</td>\n",
       "      <td>...</td>\n",
       "      <td>...</td>\n",
       "    </tr>\n",
       "    <tr>\n",
       "      <th>109</th>\n",
       "      <td>2019-02-26</td>\n",
       "      <td>(BBDC4, BBSE3)</td>\n",
       "      <td>1.0382</td>\n",
       "      <td>True</td>\n",
       "      <td>2019-02-28</td>\n",
       "    </tr>\n",
       "    <tr>\n",
       "      <th>110</th>\n",
       "      <td>2019-02-27</td>\n",
       "      <td>(ARZZ3, CVCB3)</td>\n",
       "      <td>-0.9132</td>\n",
       "      <td>True</td>\n",
       "      <td>2019-02-28</td>\n",
       "    </tr>\n",
       "    <tr>\n",
       "      <th>111</th>\n",
       "      <td>2019-02-27</td>\n",
       "      <td>(ARZZ3, RADL3)</td>\n",
       "      <td>-0.2467</td>\n",
       "      <td>close</td>\n",
       "      <td>2019-02-28</td>\n",
       "    </tr>\n",
       "    <tr>\n",
       "      <th>112</th>\n",
       "      <td>2019-02-27</td>\n",
       "      <td>(BBDC3, ELET3)</td>\n",
       "      <td>1.0027</td>\n",
       "      <td>True</td>\n",
       "      <td>2019-02-28</td>\n",
       "    </tr>\n",
       "    <tr>\n",
       "      <th>113</th>\n",
       "      <td>2019-02-28</td>\n",
       "      <td>(BBDC3, RENT3)</td>\n",
       "      <td>0.0000</td>\n",
       "      <td>True</td>\n",
       "      <td>2019-02-28</td>\n",
       "    </tr>\n",
       "  </tbody>\n",
       "</table>\n",
       "<p>114 rows × 5 columns</p>\n",
       "</div>"
      ],
      "text/plain": [
       "     open_date            pair  result status       date\n",
       "0   2018-12-14  (ARZZ3, SUZB3)  0.5119  close 2018-12-21\n",
       "1   2018-12-17  (BBDC4, ITUB4) -3.1498  close 2019-02-05\n",
       "2   2018-12-18  (ARZZ3, AZUL4)  0.2569  close 2018-12-28\n",
       "3   2018-12-18  (BBDC3, GOLL4)  5.5985  close 2019-01-24\n",
       "4   2018-12-19  (B3SA3, BBDC4) -0.1179  close 2019-01-14\n",
       "..         ...             ...     ...    ...        ...\n",
       "109 2019-02-26  (BBDC4, BBSE3)  1.0382   True 2019-02-28\n",
       "110 2019-02-27  (ARZZ3, CVCB3) -0.9132   True 2019-02-28\n",
       "111 2019-02-27  (ARZZ3, RADL3) -0.2467  close 2019-02-28\n",
       "112 2019-02-27  (BBDC3, ELET3)  1.0027   True 2019-02-28\n",
       "113 2019-02-28  (BBDC3, RENT3)  0.0000   True 2019-02-28\n",
       "\n",
       "[114 rows x 5 columns]"
      ]
     },
     "execution_count": 64,
     "metadata": {},
     "output_type": "execute_result"
    }
   ],
   "source": [
    "final"
   ]
  },
  {
   "cell_type": "code",
   "execution_count": 37,
   "id": "31bd8110",
   "metadata": {
    "ExecuteTime": {
     "end_time": "2022-07-30T01:45:26.582877Z",
     "start_time": "2022-07-30T01:45:26.494138Z"
    }
   },
   "outputs": [
    {
     "data": {
      "text/html": [
       "<div>\n",
       "<style scoped>\n",
       "    .dataframe tbody tr th:only-of-type {\n",
       "        vertical-align: middle;\n",
       "    }\n",
       "\n",
       "    .dataframe tbody tr th {\n",
       "        vertical-align: top;\n",
       "    }\n",
       "\n",
       "    .dataframe thead th {\n",
       "        text-align: right;\n",
       "    }\n",
       "</style>\n",
       "<table border=\"1\" class=\"dataframe\">\n",
       "  <thead>\n",
       "    <tr style=\"text-align: right;\">\n",
       "      <th></th>\n",
       "      <th>date</th>\n",
       "      <th>pair</th>\n",
       "      <th>status</th>\n",
       "      <th>price_fst_stock</th>\n",
       "      <th>price_scnd_stock</th>\n",
       "      <th>beta</th>\n",
       "      <th>last_residual</th>\n",
       "      <th>std_residual</th>\n",
       "      <th>std_open_residual</th>\n",
       "      <th>residual_open</th>\n",
       "      <th>open_price_first_stock</th>\n",
       "      <th>open_price_scnd_stock</th>\n",
       "      <th>open_date</th>\n",
       "      <th>result</th>\n",
       "    </tr>\n",
       "  </thead>\n",
       "  <tbody>\n",
       "    <tr>\n",
       "      <th>8</th>\n",
       "      <td>2018-12-28</td>\n",
       "      <td>(ARZZ3, AZUL4)</td>\n",
       "      <td>close</td>\n",
       "      <td>53.4549</td>\n",
       "      <td>36.0000</td>\n",
       "      <td>0.622494</td>\n",
       "      <td>5.143200</td>\n",
       "      <td>2.006323</td>\n",
       "      <td>2.043779</td>\n",
       "      <td>4.278029</td>\n",
       "      <td>50.7118</td>\n",
       "      <td>33.0</td>\n",
       "      <td>2018-12-18 00:00:00</td>\n",
       "      <td>0.2569</td>\n",
       "    </tr>\n",
       "    <tr>\n",
       "      <th>11</th>\n",
       "      <td>2019-01-04</td>\n",
       "      <td>(ARZZ3, BBDC3)</td>\n",
       "      <td>close</td>\n",
       "      <td>51.7753</td>\n",
       "      <td>25.3607</td>\n",
       "      <td>1.456626</td>\n",
       "      <td>0.313288</td>\n",
       "      <td>1.793075</td>\n",
       "      <td>1.742306</td>\n",
       "      <td>3.835967</td>\n",
       "      <td>51.9588</td>\n",
       "      <td>23.1446</td>\n",
       "      <td>2018-12-21 00:00:00</td>\n",
       "      <td>2.3996</td>\n",
       "    </tr>\n",
       "    <tr>\n",
       "      <th>43</th>\n",
       "      <td>2019-02-20</td>\n",
       "      <td>(ARZZ3, BBDC3)</td>\n",
       "      <td>close</td>\n",
       "      <td>52.6393</td>\n",
       "      <td>28.2287</td>\n",
       "      <td>1.197761</td>\n",
       "      <td>-0.520029</td>\n",
       "      <td>1.825208</td>\n",
       "      <td>1.870653</td>\n",
       "      <td>-4.2187</td>\n",
       "      <td>50.0763</td>\n",
       "      <td>28.6551</td>\n",
       "      <td>2019-02-12 00:00:00</td>\n",
       "      <td>2.9894</td>\n",
       "    </tr>\n",
       "    <tr>\n",
       "      <th>43</th>\n",
       "      <td>2019-02-20</td>\n",
       "      <td>(ARZZ3, BBDC4)</td>\n",
       "      <td>close</td>\n",
       "      <td>52.6393</td>\n",
       "      <td>31.6398</td>\n",
       "      <td>1.065403</td>\n",
       "      <td>-0.519937</td>\n",
       "      <td>1.800860</td>\n",
       "      <td>1.924568</td>\n",
       "      <td>-4.232455</td>\n",
       "      <td>50.0763</td>\n",
       "      <td>32.1508</td>\n",
       "      <td>2019-02-12 00:00:00</td>\n",
       "      <td>3.0740</td>\n",
       "    </tr>\n",
       "    <tr>\n",
       "      <th>16</th>\n",
       "      <td>2019-01-11</td>\n",
       "      <td>(ARZZ3, BBSE3)</td>\n",
       "      <td>close</td>\n",
       "      <td>51.6588</td>\n",
       "      <td>23.4335</td>\n",
       "      <td>2.644258</td>\n",
       "      <td>1.006775</td>\n",
       "      <td>2.170485</td>\n",
       "      <td>2.15564</td>\n",
       "      <td>5.542816</td>\n",
       "      <td>53.6684</td>\n",
       "      <td>22.5046</td>\n",
       "      <td>2019-01-09 00:00:00</td>\n",
       "      <td>2.9385</td>\n",
       "    </tr>\n",
       "    <tr>\n",
       "      <th>...</th>\n",
       "      <td>...</td>\n",
       "      <td>...</td>\n",
       "      <td>...</td>\n",
       "      <td>...</td>\n",
       "      <td>...</td>\n",
       "      <td>...</td>\n",
       "      <td>...</td>\n",
       "      <td>...</td>\n",
       "      <td>...</td>\n",
       "      <td>...</td>\n",
       "      <td>...</td>\n",
       "      <td>...</td>\n",
       "      <td>...</td>\n",
       "      <td>...</td>\n",
       "    </tr>\n",
       "    <tr>\n",
       "      <th>16</th>\n",
       "      <td>2019-01-11</td>\n",
       "      <td>(BBDC4, MULT3)</td>\n",
       "      <td>close</td>\n",
       "      <td>29.4414</td>\n",
       "      <td>23.3131</td>\n",
       "      <td>1.460086</td>\n",
       "      <td>2.482113</td>\n",
       "      <td>0.631900</td>\n",
       "      <td>0.564791</td>\n",
       "      <td>1.520057</td>\n",
       "      <td>29.0441</td>\n",
       "      <td>23.8543</td>\n",
       "      <td>2019-01-07 00:00:00</td>\n",
       "      <td>-0.9385</td>\n",
       "    </tr>\n",
       "    <tr>\n",
       "      <th>28</th>\n",
       "      <td>2019-01-30</td>\n",
       "      <td>(BBDC4, MULT3)</td>\n",
       "      <td>close</td>\n",
       "      <td>30.3920</td>\n",
       "      <td>25.2911</td>\n",
       "      <td>1.562153</td>\n",
       "      <td>-0.100934</td>\n",
       "      <td>0.730683</td>\n",
       "      <td>0.660691</td>\n",
       "      <td>2.745058</td>\n",
       "      <td>29.789</td>\n",
       "      <td>23.3328</td>\n",
       "      <td>2019-01-14 00:00:00</td>\n",
       "      <td>1.3553</td>\n",
       "    </tr>\n",
       "    <tr>\n",
       "      <th>49</th>\n",
       "      <td>2019-02-28</td>\n",
       "      <td>(BBDC4, MULT3)</td>\n",
       "      <td>close</td>\n",
       "      <td>30.7101</td>\n",
       "      <td>24.7695</td>\n",
       "      <td>1.671838</td>\n",
       "      <td>0.404479</td>\n",
       "      <td>0.848129</td>\n",
       "      <td>0.749698</td>\n",
       "      <td>1.58793</td>\n",
       "      <td>31.7037</td>\n",
       "      <td>24.9368</td>\n",
       "      <td>2019-02-08 00:00:00</td>\n",
       "      <td>0.8263</td>\n",
       "    </tr>\n",
       "    <tr>\n",
       "      <th>18</th>\n",
       "      <td>2019-01-15</td>\n",
       "      <td>(BBDC4, RAPT4)</td>\n",
       "      <td>close</td>\n",
       "      <td>29.7322</td>\n",
       "      <td>8.8467</td>\n",
       "      <td>2.712310</td>\n",
       "      <td>2.993703</td>\n",
       "      <td>0.903233</td>\n",
       "      <td>0.85585</td>\n",
       "      <td>2.365195</td>\n",
       "      <td>29.6329</td>\n",
       "      <td>9.1055</td>\n",
       "      <td>2019-01-10 00:00:00</td>\n",
       "      <td>-0.3581</td>\n",
       "    </tr>\n",
       "    <tr>\n",
       "      <th>21</th>\n",
       "      <td>2019-01-18</td>\n",
       "      <td>(BBDC4, RAPT4)</td>\n",
       "      <td>close</td>\n",
       "      <td>30.2785</td>\n",
       "      <td>8.8946</td>\n",
       "      <td>2.798115</td>\n",
       "      <td>3.207541</td>\n",
       "      <td>0.956799</td>\n",
       "      <td>0.923793</td>\n",
       "      <td>2.890483</td>\n",
       "      <td>29.8741</td>\n",
       "      <td>8.9138</td>\n",
       "      <td>2019-01-16 00:00:00</td>\n",
       "      <td>-0.4236</td>\n",
       "    </tr>\n",
       "  </tbody>\n",
       "</table>\n",
       "<p>98 rows × 14 columns</p>\n",
       "</div>"
      ],
      "text/plain": [
       "         date            pair status  price_fst_stock  price_scnd_stock  \\\n",
       "8  2018-12-28  (ARZZ3, AZUL4)  close          53.4549           36.0000   \n",
       "11 2019-01-04  (ARZZ3, BBDC3)  close          51.7753           25.3607   \n",
       "43 2019-02-20  (ARZZ3, BBDC3)  close          52.6393           28.2287   \n",
       "43 2019-02-20  (ARZZ3, BBDC4)  close          52.6393           31.6398   \n",
       "16 2019-01-11  (ARZZ3, BBSE3)  close          51.6588           23.4335   \n",
       "..        ...             ...    ...              ...               ...   \n",
       "16 2019-01-11  (BBDC4, MULT3)  close          29.4414           23.3131   \n",
       "28 2019-01-30  (BBDC4, MULT3)  close          30.3920           25.2911   \n",
       "49 2019-02-28  (BBDC4, MULT3)  close          30.7101           24.7695   \n",
       "18 2019-01-15  (BBDC4, RAPT4)  close          29.7322            8.8467   \n",
       "21 2019-01-18  (BBDC4, RAPT4)  close          30.2785            8.8946   \n",
       "\n",
       "        beta  last_residual  std_residual std_open_residual residual_open  \\\n",
       "8   0.622494       5.143200      2.006323          2.043779      4.278029   \n",
       "11  1.456626       0.313288      1.793075          1.742306      3.835967   \n",
       "43  1.197761      -0.520029      1.825208          1.870653       -4.2187   \n",
       "43  1.065403      -0.519937      1.800860          1.924568     -4.232455   \n",
       "16  2.644258       1.006775      2.170485           2.15564      5.542816   \n",
       "..       ...            ...           ...               ...           ...   \n",
       "16  1.460086       2.482113      0.631900          0.564791      1.520057   \n",
       "28  1.562153      -0.100934      0.730683          0.660691      2.745058   \n",
       "49  1.671838       0.404479      0.848129          0.749698       1.58793   \n",
       "18  2.712310       2.993703      0.903233           0.85585      2.365195   \n",
       "21  2.798115       3.207541      0.956799          0.923793      2.890483   \n",
       "\n",
       "   open_price_first_stock open_price_scnd_stock            open_date  result  \n",
       "8                 50.7118                  33.0  2018-12-18 00:00:00  0.2569  \n",
       "11                51.9588               23.1446  2018-12-21 00:00:00  2.3996  \n",
       "43                50.0763               28.6551  2019-02-12 00:00:00  2.9894  \n",
       "43                50.0763               32.1508  2019-02-12 00:00:00  3.0740  \n",
       "16                53.6684               22.5046  2019-01-09 00:00:00  2.9385  \n",
       "..                    ...                   ...                  ...     ...  \n",
       "16                29.0441               23.8543  2019-01-07 00:00:00 -0.9385  \n",
       "28                 29.789               23.3328  2019-01-14 00:00:00  1.3553  \n",
       "49                31.7037               24.9368  2019-02-08 00:00:00  0.8263  \n",
       "18                29.6329                9.1055  2019-01-10 00:00:00 -0.3581  \n",
       "21                29.8741                8.9138  2019-01-16 00:00:00 -0.4236  \n",
       "\n",
       "[98 rows x 14 columns]"
      ]
     },
     "execution_count": 37,
     "metadata": {},
     "output_type": "execute_result"
    }
   ],
   "source": [
    "df.loc[df.status=='close']"
   ]
  },
  {
   "cell_type": "code",
   "execution_count": null,
   "id": "493e7c9c",
   "metadata": {},
   "outputs": [],
   "source": []
  }
 ],
 "metadata": {
  "kernelspec": {
   "display_name": "Python 3",
   "language": "python",
   "name": "python3"
  },
  "language_info": {
   "codemirror_mode": {
    "name": "ipython",
    "version": 3
   },
   "file_extension": ".py",
   "mimetype": "text/x-python",
   "name": "python",
   "nbconvert_exporter": "python",
   "pygments_lexer": "ipython3",
   "version": "3.8.4"
  }
 },
 "nbformat": 4,
 "nbformat_minor": 5
}
