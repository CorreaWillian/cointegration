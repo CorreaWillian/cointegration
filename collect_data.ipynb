{
 "cells": [
  {
   "cell_type": "code",
   "execution_count": 32,
   "id": "259f0a22",
   "metadata": {
    "ExecuteTime": {
     "end_time": "2022-08-13T23:39:17.480976Z",
     "start_time": "2022-08-13T23:39:17.473975Z"
    }
   },
   "outputs": [],
   "source": [
    "import pandas as pd\n",
    "import numpy as np\n",
    "import MetaTrader5 as mt5\n",
    "from datetime import datetime\n",
    "from itertools import combinations, permutations\n",
    "from dateutil.relativedelta import relativedelta\n",
    "import datetime\n",
    "from datetime import datetime as dt"
   ]
  },
  {
   "cell_type": "code",
   "execution_count": 2,
   "id": "fc7cfeca",
   "metadata": {
    "ExecuteTime": {
     "end_time": "2022-08-13T22:57:22.863403Z",
     "start_time": "2022-08-13T22:57:22.083858Z"
    }
   },
   "outputs": [
    {
     "name": "stderr",
     "output_type": "stream",
     "text": [
      "  % Total    % Received % Xferd  Average Speed   Time    Time     Time  Current\n",
      "                                 Dload  Upload   Total   Spent    Left  Speed\n",
      "\n",
      "  0     0    0     0    0     0      0      0 --:--:-- --:--:-- --:--:--     0\n",
      "  0     0    0     0    0     0      0      0 --:--:-- --:--:-- --:--:--     0\n",
      "100 87127  100 87127    0     0   135k      0 --:--:-- --:--:-- --:--:--  136k\n"
     ]
    }
   ],
   "source": [
    "# !curl https://raw.githubusercontent.com/CorreaWillian/cointegration/testes/ibov.csv -O"
   ]
  },
  {
   "cell_type": "code",
   "execution_count": 33,
   "id": "7397cb1f",
   "metadata": {
    "ExecuteTime": {
     "end_time": "2022-08-13T23:39:20.829396Z",
     "start_time": "2022-08-13T23:39:20.731595Z"
    }
   },
   "outputs": [],
   "source": [
    "df = pd.read_excel('PORTFOLIO2.xlsx')"
   ]
  },
  {
   "cell_type": "code",
   "execution_count": 34,
   "id": "6c48d151",
   "metadata": {
    "ExecuteTime": {
     "end_time": "2022-08-13T23:39:20.924736Z",
     "start_time": "2022-08-13T23:39:20.913753Z"
    }
   },
   "outputs": [],
   "source": [
    "df_gpd = df.groupby('ticker').agg({'data_ini': 'min', 'data_fin': 'max', 'setor':'last'})"
   ]
  },
  {
   "cell_type": "code",
   "execution_count": 35,
   "id": "1258db84",
   "metadata": {
    "ExecuteTime": {
     "end_time": "2022-08-13T23:39:21.111677Z",
     "start_time": "2022-08-13T23:39:21.093646Z"
    }
   },
   "outputs": [],
   "source": [
    "tickers = df.ticker.unique()"
   ]
  },
  {
   "cell_type": "code",
   "execution_count": 36,
   "id": "5383b5a9",
   "metadata": {
    "ExecuteTime": {
     "end_time": "2022-08-13T23:39:21.500073Z",
     "start_time": "2022-08-13T23:39:21.473110Z"
    }
   },
   "outputs": [],
   "source": [
    "if not mt5.initialize():\n",
    "    print(\"initialize() failed, error code =\",mt5.last_error())\n",
    "    quit()"
   ]
  },
  {
   "cell_type": "code",
   "execution_count": 37,
   "id": "3a90f52f",
   "metadata": {
    "ExecuteTime": {
     "end_time": "2022-08-13T23:39:21.981608Z",
     "start_time": "2022-08-13T23:39:21.963602Z"
    }
   },
   "outputs": [
    {
     "data": {
      "text/plain": [
       "Timestamp('2019-01-01 00:00:00')"
      ]
     },
     "execution_count": 37,
     "metadata": {},
     "output_type": "execute_result"
    }
   ],
   "source": [
    "df.data_ini.min()"
   ]
  },
  {
   "cell_type": "code",
   "execution_count": 39,
   "id": "1f70d6df",
   "metadata": {
    "ExecuteTime": {
     "end_time": "2022-08-13T23:39:41.202422Z",
     "start_time": "2022-08-13T23:39:23.127398Z"
    }
   },
   "outputs": [],
   "source": [
    "# Download data\n",
    "df_list = []\n",
    "errors = []\n",
    "\n",
    "utc_from = dt(2019,10,1)\n",
    "utc_to = dt(2020,7,10)\n",
    "\n",
    "for i, row in df_gpd.iterrows():\n",
    "    try: \n",
    "        rates = mt5.copy_rates_range(row.name, mt5.TIMEFRAME_M5,utc_from, utc_to)\n",
    "\n",
    "        # criamos a partir dos dados obtidos DataFrame\n",
    "        rates_frame = pd.DataFrame(rates)\n",
    "        # convertemos o tempo em segundos no formato datetime\n",
    "        rates_frame['time']=pd.to_datetime(rates_frame['time'], unit='s')\n",
    "        rates_frame['ticker'] = row.name\n",
    "\n",
    "        df_list.append(rates_frame[['time', 'close', 'ticker']])\n",
    "    except Exception:\n",
    "        errors.append(row.name)"
   ]
  },
  {
   "cell_type": "code",
   "execution_count": 40,
   "id": "98486d92",
   "metadata": {
    "ExecuteTime": {
     "end_time": "2022-08-13T23:39:41.218421Z",
     "start_time": "2022-08-13T23:39:41.206423Z"
    }
   },
   "outputs": [
    {
     "data": {
      "text/plain": [
       "['BIDI11', 'GNDI3', 'HGTX3', 'LCAM3']"
      ]
     },
     "execution_count": 40,
     "metadata": {},
     "output_type": "execute_result"
    }
   ],
   "source": [
    "errors"
   ]
  },
  {
   "cell_type": "code",
   "execution_count": 41,
   "id": "9ad153c6",
   "metadata": {
    "ExecuteTime": {
     "end_time": "2022-08-13T23:39:42.429945Z",
     "start_time": "2022-08-13T23:39:41.223422Z"
    }
   },
   "outputs": [],
   "source": [
    "df_prices = pd.concat(df_list).pivot(columns='ticker',  index='time', values='close')\n",
    "df_prices.reset_index(inplace=True)\n",
    "\n",
    "df_prices['time'] = pd.to_datetime(df_prices['time'])\n",
    "\n",
    "df_prices['horas_minutos'] = df_prices['time'].dt.time\n",
    "\n",
    "df_prices = df_prices.loc[df_prices['horas_minutos']>=datetime.time(10, 15)]\n",
    "df_prices = df_prices.loc[df_prices['horas_minutos']<=datetime.time(16, 45)]\n"
   ]
  },
  {
   "cell_type": "code",
   "execution_count": 42,
   "id": "b324f133",
   "metadata": {
    "ExecuteTime": {
     "end_time": "2022-08-13T23:39:42.508947Z",
     "start_time": "2022-08-13T23:39:42.434948Z"
    }
   },
   "outputs": [
    {
     "data": {
      "text/html": [
       "<div>\n",
       "<style scoped>\n",
       "    .dataframe tbody tr th:only-of-type {\n",
       "        vertical-align: middle;\n",
       "    }\n",
       "\n",
       "    .dataframe tbody tr th {\n",
       "        vertical-align: top;\n",
       "    }\n",
       "\n",
       "    .dataframe thead th {\n",
       "        text-align: right;\n",
       "    }\n",
       "</style>\n",
       "<table border=\"1\" class=\"dataframe\">\n",
       "  <thead>\n",
       "    <tr style=\"text-align: right;\">\n",
       "      <th>ticker</th>\n",
       "      <th>time</th>\n",
       "      <th>ABEV3</th>\n",
       "      <th>ALPA4</th>\n",
       "      <th>AMER3</th>\n",
       "      <th>ASAI3</th>\n",
       "      <th>AZUL4</th>\n",
       "      <th>B3SA3</th>\n",
       "      <th>BBAS3</th>\n",
       "      <th>BBDC3</th>\n",
       "      <th>BBDC4</th>\n",
       "      <th>...</th>\n",
       "      <th>TOTS3</th>\n",
       "      <th>UGPA3</th>\n",
       "      <th>USIM5</th>\n",
       "      <th>VALE3</th>\n",
       "      <th>VBBR3</th>\n",
       "      <th>VIIA3</th>\n",
       "      <th>VIVT3</th>\n",
       "      <th>WEGE3</th>\n",
       "      <th>YDUQ3</th>\n",
       "      <th>horas_minutos</th>\n",
       "    </tr>\n",
       "  </thead>\n",
       "  <tbody>\n",
       "    <tr>\n",
       "      <th>3</th>\n",
       "      <td>2019-10-01 10:15:00</td>\n",
       "      <td>17.70</td>\n",
       "      <td>25.54</td>\n",
       "      <td>46.89</td>\n",
       "      <td>NaN</td>\n",
       "      <td>50.00</td>\n",
       "      <td>12.95</td>\n",
       "      <td>38.88</td>\n",
       "      <td>20.82</td>\n",
       "      <td>22.71</td>\n",
       "      <td>...</td>\n",
       "      <td>18.69</td>\n",
       "      <td>17.17</td>\n",
       "      <td>6.70</td>\n",
       "      <td>37.64</td>\n",
       "      <td>23.92</td>\n",
       "      <td>8.00</td>\n",
       "      <td>37.15</td>\n",
       "      <td>11.75</td>\n",
       "      <td>34.08</td>\n",
       "      <td>10:15:00</td>\n",
       "    </tr>\n",
       "    <tr>\n",
       "      <th>4</th>\n",
       "      <td>2019-10-01 10:20:00</td>\n",
       "      <td>17.73</td>\n",
       "      <td>25.42</td>\n",
       "      <td>46.78</td>\n",
       "      <td>NaN</td>\n",
       "      <td>50.12</td>\n",
       "      <td>12.96</td>\n",
       "      <td>38.85</td>\n",
       "      <td>20.86</td>\n",
       "      <td>22.73</td>\n",
       "      <td>...</td>\n",
       "      <td>18.68</td>\n",
       "      <td>17.16</td>\n",
       "      <td>6.70</td>\n",
       "      <td>37.61</td>\n",
       "      <td>23.99</td>\n",
       "      <td>7.99</td>\n",
       "      <td>37.10</td>\n",
       "      <td>11.76</td>\n",
       "      <td>33.86</td>\n",
       "      <td>10:20:00</td>\n",
       "    </tr>\n",
       "    <tr>\n",
       "      <th>5</th>\n",
       "      <td>2019-10-01 10:25:00</td>\n",
       "      <td>17.75</td>\n",
       "      <td>25.46</td>\n",
       "      <td>46.72</td>\n",
       "      <td>NaN</td>\n",
       "      <td>50.08</td>\n",
       "      <td>12.93</td>\n",
       "      <td>38.76</td>\n",
       "      <td>20.89</td>\n",
       "      <td>22.71</td>\n",
       "      <td>...</td>\n",
       "      <td>18.68</td>\n",
       "      <td>17.19</td>\n",
       "      <td>6.68</td>\n",
       "      <td>37.58</td>\n",
       "      <td>23.96</td>\n",
       "      <td>7.98</td>\n",
       "      <td>37.00</td>\n",
       "      <td>11.79</td>\n",
       "      <td>33.83</td>\n",
       "      <td>10:25:00</td>\n",
       "    </tr>\n",
       "    <tr>\n",
       "      <th>6</th>\n",
       "      <td>2019-10-01 10:30:00</td>\n",
       "      <td>17.71</td>\n",
       "      <td>25.36</td>\n",
       "      <td>46.82</td>\n",
       "      <td>NaN</td>\n",
       "      <td>49.89</td>\n",
       "      <td>12.86</td>\n",
       "      <td>38.76</td>\n",
       "      <td>20.91</td>\n",
       "      <td>22.76</td>\n",
       "      <td>...</td>\n",
       "      <td>18.71</td>\n",
       "      <td>17.15</td>\n",
       "      <td>6.68</td>\n",
       "      <td>37.73</td>\n",
       "      <td>23.94</td>\n",
       "      <td>7.97</td>\n",
       "      <td>37.08</td>\n",
       "      <td>11.75</td>\n",
       "      <td>33.75</td>\n",
       "      <td>10:30:00</td>\n",
       "    </tr>\n",
       "    <tr>\n",
       "      <th>7</th>\n",
       "      <td>2019-10-01 10:35:00</td>\n",
       "      <td>17.77</td>\n",
       "      <td>25.29</td>\n",
       "      <td>46.84</td>\n",
       "      <td>NaN</td>\n",
       "      <td>49.89</td>\n",
       "      <td>12.88</td>\n",
       "      <td>38.87</td>\n",
       "      <td>20.95</td>\n",
       "      <td>22.79</td>\n",
       "      <td>...</td>\n",
       "      <td>18.75</td>\n",
       "      <td>17.17</td>\n",
       "      <td>6.71</td>\n",
       "      <td>37.79</td>\n",
       "      <td>23.99</td>\n",
       "      <td>7.96</td>\n",
       "      <td>37.07</td>\n",
       "      <td>11.78</td>\n",
       "      <td>33.76</td>\n",
       "      <td>10:35:00</td>\n",
       "    </tr>\n",
       "    <tr>\n",
       "      <th>...</th>\n",
       "      <td>...</td>\n",
       "      <td>...</td>\n",
       "      <td>...</td>\n",
       "      <td>...</td>\n",
       "      <td>...</td>\n",
       "      <td>...</td>\n",
       "      <td>...</td>\n",
       "      <td>...</td>\n",
       "      <td>...</td>\n",
       "      <td>...</td>\n",
       "      <td>...</td>\n",
       "      <td>...</td>\n",
       "      <td>...</td>\n",
       "      <td>...</td>\n",
       "      <td>...</td>\n",
       "      <td>...</td>\n",
       "      <td>...</td>\n",
       "      <td>...</td>\n",
       "      <td>...</td>\n",
       "      <td>...</td>\n",
       "      <td>...</td>\n",
       "    </tr>\n",
       "    <tr>\n",
       "      <th>16882</th>\n",
       "      <td>2020-12-10 10:20:00</td>\n",
       "      <td>NaN</td>\n",
       "      <td>NaN</td>\n",
       "      <td>NaN</td>\n",
       "      <td>NaN</td>\n",
       "      <td>NaN</td>\n",
       "      <td>NaN</td>\n",
       "      <td>NaN</td>\n",
       "      <td>NaN</td>\n",
       "      <td>NaN</td>\n",
       "      <td>...</td>\n",
       "      <td>NaN</td>\n",
       "      <td>NaN</td>\n",
       "      <td>NaN</td>\n",
       "      <td>NaN</td>\n",
       "      <td>NaN</td>\n",
       "      <td>NaN</td>\n",
       "      <td>NaN</td>\n",
       "      <td>NaN</td>\n",
       "      <td>NaN</td>\n",
       "      <td>10:20:00</td>\n",
       "    </tr>\n",
       "    <tr>\n",
       "      <th>16883</th>\n",
       "      <td>2021-02-18 10:35:00</td>\n",
       "      <td>NaN</td>\n",
       "      <td>NaN</td>\n",
       "      <td>NaN</td>\n",
       "      <td>NaN</td>\n",
       "      <td>NaN</td>\n",
       "      <td>NaN</td>\n",
       "      <td>NaN</td>\n",
       "      <td>NaN</td>\n",
       "      <td>NaN</td>\n",
       "      <td>...</td>\n",
       "      <td>NaN</td>\n",
       "      <td>NaN</td>\n",
       "      <td>NaN</td>\n",
       "      <td>NaN</td>\n",
       "      <td>NaN</td>\n",
       "      <td>NaN</td>\n",
       "      <td>NaN</td>\n",
       "      <td>NaN</td>\n",
       "      <td>NaN</td>\n",
       "      <td>10:35:00</td>\n",
       "    </tr>\n",
       "    <tr>\n",
       "      <th>16884</th>\n",
       "      <td>2021-03-01 11:05:00</td>\n",
       "      <td>NaN</td>\n",
       "      <td>NaN</td>\n",
       "      <td>NaN</td>\n",
       "      <td>14.41</td>\n",
       "      <td>NaN</td>\n",
       "      <td>NaN</td>\n",
       "      <td>NaN</td>\n",
       "      <td>NaN</td>\n",
       "      <td>NaN</td>\n",
       "      <td>...</td>\n",
       "      <td>NaN</td>\n",
       "      <td>NaN</td>\n",
       "      <td>NaN</td>\n",
       "      <td>NaN</td>\n",
       "      <td>NaN</td>\n",
       "      <td>NaN</td>\n",
       "      <td>NaN</td>\n",
       "      <td>NaN</td>\n",
       "      <td>NaN</td>\n",
       "      <td>11:05:00</td>\n",
       "    </tr>\n",
       "    <tr>\n",
       "      <th>16885</th>\n",
       "      <td>2021-11-22 10:25:00</td>\n",
       "      <td>NaN</td>\n",
       "      <td>NaN</td>\n",
       "      <td>NaN</td>\n",
       "      <td>NaN</td>\n",
       "      <td>NaN</td>\n",
       "      <td>NaN</td>\n",
       "      <td>NaN</td>\n",
       "      <td>NaN</td>\n",
       "      <td>NaN</td>\n",
       "      <td>...</td>\n",
       "      <td>NaN</td>\n",
       "      <td>NaN</td>\n",
       "      <td>NaN</td>\n",
       "      <td>NaN</td>\n",
       "      <td>NaN</td>\n",
       "      <td>NaN</td>\n",
       "      <td>NaN</td>\n",
       "      <td>NaN</td>\n",
       "      <td>NaN</td>\n",
       "      <td>10:25:00</td>\n",
       "    </tr>\n",
       "    <tr>\n",
       "      <th>16886</th>\n",
       "      <td>2021-11-22 10:40:00</td>\n",
       "      <td>NaN</td>\n",
       "      <td>NaN</td>\n",
       "      <td>NaN</td>\n",
       "      <td>NaN</td>\n",
       "      <td>NaN</td>\n",
       "      <td>NaN</td>\n",
       "      <td>NaN</td>\n",
       "      <td>NaN</td>\n",
       "      <td>NaN</td>\n",
       "      <td>...</td>\n",
       "      <td>NaN</td>\n",
       "      <td>NaN</td>\n",
       "      <td>NaN</td>\n",
       "      <td>NaN</td>\n",
       "      <td>NaN</td>\n",
       "      <td>NaN</td>\n",
       "      <td>NaN</td>\n",
       "      <td>NaN</td>\n",
       "      <td>NaN</td>\n",
       "      <td>10:40:00</td>\n",
       "    </tr>\n",
       "  </tbody>\n",
       "</table>\n",
       "<p>15020 rows × 92 columns</p>\n",
       "</div>"
      ],
      "text/plain": [
       "ticker                time  ABEV3  ALPA4  AMER3  ASAI3  AZUL4  B3SA3  BBAS3  \\\n",
       "3      2019-10-01 10:15:00  17.70  25.54  46.89    NaN  50.00  12.95  38.88   \n",
       "4      2019-10-01 10:20:00  17.73  25.42  46.78    NaN  50.12  12.96  38.85   \n",
       "5      2019-10-01 10:25:00  17.75  25.46  46.72    NaN  50.08  12.93  38.76   \n",
       "6      2019-10-01 10:30:00  17.71  25.36  46.82    NaN  49.89  12.86  38.76   \n",
       "7      2019-10-01 10:35:00  17.77  25.29  46.84    NaN  49.89  12.88  38.87   \n",
       "...                    ...    ...    ...    ...    ...    ...    ...    ...   \n",
       "16882  2020-12-10 10:20:00    NaN    NaN    NaN    NaN    NaN    NaN    NaN   \n",
       "16883  2021-02-18 10:35:00    NaN    NaN    NaN    NaN    NaN    NaN    NaN   \n",
       "16884  2021-03-01 11:05:00    NaN    NaN    NaN  14.41    NaN    NaN    NaN   \n",
       "16885  2021-11-22 10:25:00    NaN    NaN    NaN    NaN    NaN    NaN    NaN   \n",
       "16886  2021-11-22 10:40:00    NaN    NaN    NaN    NaN    NaN    NaN    NaN   \n",
       "\n",
       "ticker  BBDC3  BBDC4  ...  TOTS3  UGPA3  USIM5  VALE3  VBBR3  VIIA3  VIVT3  \\\n",
       "3       20.82  22.71  ...  18.69  17.17   6.70  37.64  23.92   8.00  37.15   \n",
       "4       20.86  22.73  ...  18.68  17.16   6.70  37.61  23.99   7.99  37.10   \n",
       "5       20.89  22.71  ...  18.68  17.19   6.68  37.58  23.96   7.98  37.00   \n",
       "6       20.91  22.76  ...  18.71  17.15   6.68  37.73  23.94   7.97  37.08   \n",
       "7       20.95  22.79  ...  18.75  17.17   6.71  37.79  23.99   7.96  37.07   \n",
       "...       ...    ...  ...    ...    ...    ...    ...    ...    ...    ...   \n",
       "16882     NaN    NaN  ...    NaN    NaN    NaN    NaN    NaN    NaN    NaN   \n",
       "16883     NaN    NaN  ...    NaN    NaN    NaN    NaN    NaN    NaN    NaN   \n",
       "16884     NaN    NaN  ...    NaN    NaN    NaN    NaN    NaN    NaN    NaN   \n",
       "16885     NaN    NaN  ...    NaN    NaN    NaN    NaN    NaN    NaN    NaN   \n",
       "16886     NaN    NaN  ...    NaN    NaN    NaN    NaN    NaN    NaN    NaN   \n",
       "\n",
       "ticker  WEGE3  YDUQ3  horas_minutos  \n",
       "3       11.75  34.08       10:15:00  \n",
       "4       11.76  33.86       10:20:00  \n",
       "5       11.79  33.83       10:25:00  \n",
       "6       11.75  33.75       10:30:00  \n",
       "7       11.78  33.76       10:35:00  \n",
       "...       ...    ...            ...  \n",
       "16882     NaN    NaN       10:20:00  \n",
       "16883     NaN    NaN       10:35:00  \n",
       "16884     NaN    NaN       11:05:00  \n",
       "16885     NaN    NaN       10:25:00  \n",
       "16886     NaN    NaN       10:40:00  \n",
       "\n",
       "[15020 rows x 92 columns]"
      ]
     },
     "execution_count": 42,
     "metadata": {},
     "output_type": "execute_result"
    }
   ],
   "source": [
    "df_prices"
   ]
  },
  {
   "cell_type": "code",
   "execution_count": 43,
   "id": "c64fc1ed",
   "metadata": {
    "ExecuteTime": {
     "end_time": "2022-08-13T23:45:58.442778Z",
     "start_time": "2022-08-13T23:45:36.494231Z"
    }
   },
   "outputs": [],
   "source": [
    "df_prices.to_excel('database5min.xlsx')"
   ]
  },
  {
   "cell_type": "code",
   "execution_count": null,
   "id": "26317958",
   "metadata": {},
   "outputs": [],
   "source": []
  }
 ],
 "metadata": {
  "kernelspec": {
   "display_name": "Python 3",
   "language": "python",
   "name": "python3"
  },
  "language_info": {
   "codemirror_mode": {
    "name": "ipython",
    "version": 3
   },
   "file_extension": ".py",
   "mimetype": "text/x-python",
   "name": "python",
   "nbconvert_exporter": "python",
   "pygments_lexer": "ipython3",
   "version": "3.8.4"
  }
 },
 "nbformat": 4,
 "nbformat_minor": 5
}
