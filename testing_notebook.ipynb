{
 "cells": [
  {
   "cell_type": "code",
   "execution_count": 1,
   "id": "d8162bcf",
   "metadata": {
    "ExecuteTime": {
     "end_time": "2022-07-28T14:29:42.125937Z",
     "start_time": "2022-07-28T14:29:40.676519Z"
    }
   },
   "outputs": [],
   "source": [
    "import statsmodels.api as sm\n",
    "import pandas as pd\n",
    "import statsmodels.tsa.stattools as ts\n",
    "from matplotlib import pyplot as plt\n",
    "import cointegracao\n",
    "from scipy.stats import zscore\n",
    "import seaborn as sns\n",
    "from itertools import combinations, permutations\n",
    "from multiprocessing import Pool\n"
   ]
  },
  {
   "cell_type": "code",
   "execution_count": 2,
   "id": "8c7a2492",
   "metadata": {
    "ExecuteTime": {
     "end_time": "2022-07-28T14:30:40.503182Z",
     "start_time": "2022-07-28T14:30:39.094914Z"
    }
   },
   "outputs": [],
   "source": [
    "bd = pd.read_excel('BD COMPLETO.xlsx')"
   ]
  },
  {
   "cell_type": "code",
   "execution_count": 3,
   "id": "7ab0f8a2",
   "metadata": {
    "ExecuteTime": {
     "end_time": "2022-07-28T14:30:40.630910Z",
     "start_time": "2022-07-28T14:30:40.503182Z"
    }
   },
   "outputs": [
    {
     "data": {
      "text/html": [
       "<div>\n",
       "<style scoped>\n",
       "    .dataframe tbody tr th:only-of-type {\n",
       "        vertical-align: middle;\n",
       "    }\n",
       "\n",
       "    .dataframe tbody tr th {\n",
       "        vertical-align: top;\n",
       "    }\n",
       "\n",
       "    .dataframe thead th {\n",
       "        text-align: right;\n",
       "    }\n",
       "</style>\n",
       "<table border=\"1\" class=\"dataframe\">\n",
       "  <thead>\n",
       "    <tr style=\"text-align: right;\">\n",
       "      <th></th>\n",
       "      <th>ARZZ3</th>\n",
       "      <th>AZUL4</th>\n",
       "      <th>B3SA3</th>\n",
       "      <th>BBAS3</th>\n",
       "      <th>BBDC3</th>\n",
       "      <th>BBDC4</th>\n",
       "      <th>BBSE3</th>\n",
       "      <th>BEEF3</th>\n",
       "      <th>BOVA11</th>\n",
       "      <th>BRAP4</th>\n",
       "      <th>...</th>\n",
       "      <th>SUZB3</th>\n",
       "      <th>TAEE11</th>\n",
       "      <th>TIET11</th>\n",
       "      <th>VVAR3</th>\n",
       "      <th>YDUQ3</th>\n",
       "      <th>NTCO3</th>\n",
       "      <th>ITSA4</th>\n",
       "      <th>BPAC11</th>\n",
       "      <th>BOVV11</th>\n",
       "      <th>dol</th>\n",
       "    </tr>\n",
       "    <tr>\n",
       "      <th>Data</th>\n",
       "      <th></th>\n",
       "      <th></th>\n",
       "      <th></th>\n",
       "      <th></th>\n",
       "      <th></th>\n",
       "      <th></th>\n",
       "      <th></th>\n",
       "      <th></th>\n",
       "      <th></th>\n",
       "      <th></th>\n",
       "      <th></th>\n",
       "      <th></th>\n",
       "      <th></th>\n",
       "      <th></th>\n",
       "      <th></th>\n",
       "      <th></th>\n",
       "      <th></th>\n",
       "      <th></th>\n",
       "      <th></th>\n",
       "      <th></th>\n",
       "      <th></th>\n",
       "    </tr>\n",
       "  </thead>\n",
       "  <tbody>\n",
       "    <tr>\n",
       "      <th>2017-04-11</th>\n",
       "      <td>28.5749</td>\n",
       "      <td>22.40</td>\n",
       "      <td>17.4028</td>\n",
       "      <td>28.1720</td>\n",
       "      <td>17.3703</td>\n",
       "      <td>17.6168</td>\n",
       "      <td>21.0011</td>\n",
       "      <td>9.78</td>\n",
       "      <td>62.42</td>\n",
       "      <td>17.2488</td>\n",
       "      <td>...</td>\n",
       "      <td>12.4039</td>\n",
       "      <td>16.4007</td>\n",
       "      <td>10.4669</td>\n",
       "      <td>3.9803</td>\n",
       "      <td>14.2525</td>\n",
       "      <td>14.7845</td>\n",
       "      <td>6.8240</td>\n",
       "      <td>15.8492</td>\n",
       "      <td>64.46</td>\n",
       "      <td>3.531422</td>\n",
       "    </tr>\n",
       "    <tr>\n",
       "      <th>2017-04-12</th>\n",
       "      <td>28.5031</td>\n",
       "      <td>22.96</td>\n",
       "      <td>17.3301</td>\n",
       "      <td>27.7085</td>\n",
       "      <td>17.2553</td>\n",
       "      <td>17.4412</td>\n",
       "      <td>20.7890</td>\n",
       "      <td>9.87</td>\n",
       "      <td>61.68</td>\n",
       "      <td>16.2195</td>\n",
       "      <td>...</td>\n",
       "      <td>12.2900</td>\n",
       "      <td>16.5075</td>\n",
       "      <td>10.3283</td>\n",
       "      <td>4.2291</td>\n",
       "      <td>14.5797</td>\n",
       "      <td>14.7213</td>\n",
       "      <td>6.7885</td>\n",
       "      <td>16.1625</td>\n",
       "      <td>64.00</td>\n",
       "      <td>3.519090</td>\n",
       "    </tr>\n",
       "    <tr>\n",
       "      <th>2017-04-13</th>\n",
       "      <td>28.7992</td>\n",
       "      <td>22.99</td>\n",
       "      <td>16.8300</td>\n",
       "      <td>26.2664</td>\n",
       "      <td>16.7844</td>\n",
       "      <td>16.9090</td>\n",
       "      <td>20.5403</td>\n",
       "      <td>9.95</td>\n",
       "      <td>60.80</td>\n",
       "      <td>16.3053</td>\n",
       "      <td>...</td>\n",
       "      <td>11.9958</td>\n",
       "      <td>16.2939</td>\n",
       "      <td>10.3822</td>\n",
       "      <td>4.2291</td>\n",
       "      <td>13.9166</td>\n",
       "      <td>14.5948</td>\n",
       "      <td>6.6179</td>\n",
       "      <td>15.5868</td>\n",
       "      <td>62.93</td>\n",
       "      <td>3.536467</td>\n",
       "    </tr>\n",
       "    <tr>\n",
       "      <th>2017-04-17</th>\n",
       "      <td>28.6646</td>\n",
       "      <td>22.85</td>\n",
       "      <td>17.7756</td>\n",
       "      <td>27.4853</td>\n",
       "      <td>17.4415</td>\n",
       "      <td>17.6662</td>\n",
       "      <td>21.2791</td>\n",
       "      <td>10.00</td>\n",
       "      <td>62.25</td>\n",
       "      <td>16.5540</td>\n",
       "      <td>...</td>\n",
       "      <td>11.8250</td>\n",
       "      <td>16.3865</td>\n",
       "      <td>10.4515</td>\n",
       "      <td>4.1793</td>\n",
       "      <td>14.7654</td>\n",
       "      <td>15.0277</td>\n",
       "      <td>6.7956</td>\n",
       "      <td>15.5783</td>\n",
       "      <td>64.44</td>\n",
       "      <td>3.483776</td>\n",
       "    </tr>\n",
       "    <tr>\n",
       "      <th>2017-04-18</th>\n",
       "      <td>28.2609</td>\n",
       "      <td>23.91</td>\n",
       "      <td>17.9120</td>\n",
       "      <td>27.7514</td>\n",
       "      <td>17.4470</td>\n",
       "      <td>17.5619</td>\n",
       "      <td>21.2060</td>\n",
       "      <td>9.95</td>\n",
       "      <td>61.95</td>\n",
       "      <td>16.1166</td>\n",
       "      <td>...</td>\n",
       "      <td>12.1476</td>\n",
       "      <td>16.5929</td>\n",
       "      <td>10.3052</td>\n",
       "      <td>4.3684</td>\n",
       "      <td>14.6769</td>\n",
       "      <td>14.9061</td>\n",
       "      <td>6.8525</td>\n",
       "      <td>15.2397</td>\n",
       "      <td>64.20</td>\n",
       "      <td>3.492744</td>\n",
       "    </tr>\n",
       "    <tr>\n",
       "      <th>...</th>\n",
       "      <td>...</td>\n",
       "      <td>...</td>\n",
       "      <td>...</td>\n",
       "      <td>...</td>\n",
       "      <td>...</td>\n",
       "      <td>...</td>\n",
       "      <td>...</td>\n",
       "      <td>...</td>\n",
       "      <td>...</td>\n",
       "      <td>...</td>\n",
       "      <td>...</td>\n",
       "      <td>...</td>\n",
       "      <td>...</td>\n",
       "      <td>...</td>\n",
       "      <td>...</td>\n",
       "      <td>...</td>\n",
       "      <td>...</td>\n",
       "      <td>...</td>\n",
       "      <td>...</td>\n",
       "      <td>...</td>\n",
       "      <td>...</td>\n",
       "    </tr>\n",
       "    <tr>\n",
       "      <th>2020-09-10</th>\n",
       "      <td>56.9600</td>\n",
       "      <td>26.10</td>\n",
       "      <td>56.0000</td>\n",
       "      <td>32.4254</td>\n",
       "      <td>19.3100</td>\n",
       "      <td>20.8500</td>\n",
       "      <td>26.2800</td>\n",
       "      <td>12.93</td>\n",
       "      <td>95.04</td>\n",
       "      <td>43.0300</td>\n",
       "      <td>...</td>\n",
       "      <td>46.3500</td>\n",
       "      <td>28.7300</td>\n",
       "      <td>14.9000</td>\n",
       "      <td>18.0200</td>\n",
       "      <td>27.3100</td>\n",
       "      <td>49.7500</td>\n",
       "      <td>9.4600</td>\n",
       "      <td>79.1300</td>\n",
       "      <td>99.20</td>\n",
       "      <td>5.325000</td>\n",
       "    </tr>\n",
       "    <tr>\n",
       "      <th>2020-09-11</th>\n",
       "      <td>55.7500</td>\n",
       "      <td>26.58</td>\n",
       "      <td>56.0200</td>\n",
       "      <td>31.8971</td>\n",
       "      <td>18.8700</td>\n",
       "      <td>20.4600</td>\n",
       "      <td>25.4700</td>\n",
       "      <td>12.93</td>\n",
       "      <td>94.48</td>\n",
       "      <td>44.9000</td>\n",
       "      <td>...</td>\n",
       "      <td>45.6000</td>\n",
       "      <td>28.3800</td>\n",
       "      <td>14.6500</td>\n",
       "      <td>17.9600</td>\n",
       "      <td>27.8900</td>\n",
       "      <td>51.6200</td>\n",
       "      <td>9.2700</td>\n",
       "      <td>78.1100</td>\n",
       "      <td>98.60</td>\n",
       "      <td>5.320500</td>\n",
       "    </tr>\n",
       "    <tr>\n",
       "      <th>2020-09-14</th>\n",
       "      <td>57.1700</td>\n",
       "      <td>28.25</td>\n",
       "      <td>58.7300</td>\n",
       "      <td>32.3600</td>\n",
       "      <td>19.1600</td>\n",
       "      <td>20.7000</td>\n",
       "      <td>25.8600</td>\n",
       "      <td>13.27</td>\n",
       "      <td>96.51</td>\n",
       "      <td>44.5500</td>\n",
       "      <td>...</td>\n",
       "      <td>46.1200</td>\n",
       "      <td>28.6000</td>\n",
       "      <td>14.7700</td>\n",
       "      <td>18.3700</td>\n",
       "      <td>30.1100</td>\n",
       "      <td>53.2600</td>\n",
       "      <td>9.3800</td>\n",
       "      <td>81.4800</td>\n",
       "      <td>100.72</td>\n",
       "      <td>5.273000</td>\n",
       "    </tr>\n",
       "    <tr>\n",
       "      <th>2020-09-15</th>\n",
       "      <td>57.5500</td>\n",
       "      <td>28.03</td>\n",
       "      <td>57.2800</td>\n",
       "      <td>31.9900</td>\n",
       "      <td>18.9200</td>\n",
       "      <td>20.4800</td>\n",
       "      <td>26.1000</td>\n",
       "      <td>13.84</td>\n",
       "      <td>96.46</td>\n",
       "      <td>45.3000</td>\n",
       "      <td>...</td>\n",
       "      <td>48.8900</td>\n",
       "      <td>28.5600</td>\n",
       "      <td>14.7600</td>\n",
       "      <td>18.5500</td>\n",
       "      <td>29.7000</td>\n",
       "      <td>53.5000</td>\n",
       "      <td>9.2600</td>\n",
       "      <td>79.8900</td>\n",
       "      <td>100.64</td>\n",
       "      <td>5.278000</td>\n",
       "    </tr>\n",
       "    <tr>\n",
       "      <th>2020-09-16</th>\n",
       "      <td>56.7100</td>\n",
       "      <td>29.09</td>\n",
       "      <td>57.0200</td>\n",
       "      <td>32.0900</td>\n",
       "      <td>19.0400</td>\n",
       "      <td>20.5200</td>\n",
       "      <td>26.2200</td>\n",
       "      <td>13.34</td>\n",
       "      <td>95.91</td>\n",
       "      <td>44.6900</td>\n",
       "      <td>...</td>\n",
       "      <td>47.5800</td>\n",
       "      <td>28.7100</td>\n",
       "      <td>14.7000</td>\n",
       "      <td>18.1600</td>\n",
       "      <td>30.4000</td>\n",
       "      <td>52.7300</td>\n",
       "      <td>9.2600</td>\n",
       "      <td>80.0000</td>\n",
       "      <td>100.21</td>\n",
       "      <td>5.240000</td>\n",
       "    </tr>\n",
       "  </tbody>\n",
       "</table>\n",
       "<p>849 rows × 97 columns</p>\n",
       "</div>"
      ],
      "text/plain": [
       "              ARZZ3  AZUL4    B3SA3    BBAS3    BBDC3    BBDC4    BBSE3  \\\n",
       "Data                                                                      \n",
       "2017-04-11  28.5749  22.40  17.4028  28.1720  17.3703  17.6168  21.0011   \n",
       "2017-04-12  28.5031  22.96  17.3301  27.7085  17.2553  17.4412  20.7890   \n",
       "2017-04-13  28.7992  22.99  16.8300  26.2664  16.7844  16.9090  20.5403   \n",
       "2017-04-17  28.6646  22.85  17.7756  27.4853  17.4415  17.6662  21.2791   \n",
       "2017-04-18  28.2609  23.91  17.9120  27.7514  17.4470  17.5619  21.2060   \n",
       "...             ...    ...      ...      ...      ...      ...      ...   \n",
       "2020-09-10  56.9600  26.10  56.0000  32.4254  19.3100  20.8500  26.2800   \n",
       "2020-09-11  55.7500  26.58  56.0200  31.8971  18.8700  20.4600  25.4700   \n",
       "2020-09-14  57.1700  28.25  58.7300  32.3600  19.1600  20.7000  25.8600   \n",
       "2020-09-15  57.5500  28.03  57.2800  31.9900  18.9200  20.4800  26.1000   \n",
       "2020-09-16  56.7100  29.09  57.0200  32.0900  19.0400  20.5200  26.2200   \n",
       "\n",
       "            BEEF3  BOVA11    BRAP4  ...    SUZB3   TAEE11   TIET11    VVAR3  \\\n",
       "Data                                ...                                       \n",
       "2017-04-11   9.78   62.42  17.2488  ...  12.4039  16.4007  10.4669   3.9803   \n",
       "2017-04-12   9.87   61.68  16.2195  ...  12.2900  16.5075  10.3283   4.2291   \n",
       "2017-04-13   9.95   60.80  16.3053  ...  11.9958  16.2939  10.3822   4.2291   \n",
       "2017-04-17  10.00   62.25  16.5540  ...  11.8250  16.3865  10.4515   4.1793   \n",
       "2017-04-18   9.95   61.95  16.1166  ...  12.1476  16.5929  10.3052   4.3684   \n",
       "...           ...     ...      ...  ...      ...      ...      ...      ...   \n",
       "2020-09-10  12.93   95.04  43.0300  ...  46.3500  28.7300  14.9000  18.0200   \n",
       "2020-09-11  12.93   94.48  44.9000  ...  45.6000  28.3800  14.6500  17.9600   \n",
       "2020-09-14  13.27   96.51  44.5500  ...  46.1200  28.6000  14.7700  18.3700   \n",
       "2020-09-15  13.84   96.46  45.3000  ...  48.8900  28.5600  14.7600  18.5500   \n",
       "2020-09-16  13.34   95.91  44.6900  ...  47.5800  28.7100  14.7000  18.1600   \n",
       "\n",
       "              YDUQ3    NTCO3   ITSA4   BPAC11  BOVV11       dol  \n",
       "Data                                                             \n",
       "2017-04-11  14.2525  14.7845  6.8240  15.8492   64.46  3.531422  \n",
       "2017-04-12  14.5797  14.7213  6.7885  16.1625   64.00  3.519090  \n",
       "2017-04-13  13.9166  14.5948  6.6179  15.5868   62.93  3.536467  \n",
       "2017-04-17  14.7654  15.0277  6.7956  15.5783   64.44  3.483776  \n",
       "2017-04-18  14.6769  14.9061  6.8525  15.2397   64.20  3.492744  \n",
       "...             ...      ...     ...      ...     ...       ...  \n",
       "2020-09-10  27.3100  49.7500  9.4600  79.1300   99.20  5.325000  \n",
       "2020-09-11  27.8900  51.6200  9.2700  78.1100   98.60  5.320500  \n",
       "2020-09-14  30.1100  53.2600  9.3800  81.4800  100.72  5.273000  \n",
       "2020-09-15  29.7000  53.5000  9.2600  79.8900  100.64  5.278000  \n",
       "2020-09-16  30.4000  52.7300  9.2600  80.0000  100.21  5.240000  \n",
       "\n",
       "[849 rows x 97 columns]"
      ]
     },
     "execution_count": 3,
     "metadata": {},
     "output_type": "execute_result"
    }
   ],
   "source": [
    "bd.dropna(axis=0, inplace=True)\n",
    "bd.set_index('Data', inplace=True)\n",
    "bd"
   ]
  },
  {
   "cell_type": "code",
   "execution_count": 4,
   "id": "b92d674c",
   "metadata": {
    "ExecuteTime": {
     "end_time": "2022-07-28T14:30:41.174876Z",
     "start_time": "2022-07-28T14:30:41.142940Z"
    }
   },
   "outputs": [
    {
     "data": {
      "text/html": [
       "<div>\n",
       "<style scoped>\n",
       "    .dataframe tbody tr th:only-of-type {\n",
       "        vertical-align: middle;\n",
       "    }\n",
       "\n",
       "    .dataframe tbody tr th {\n",
       "        vertical-align: top;\n",
       "    }\n",
       "\n",
       "    .dataframe thead th {\n",
       "        text-align: right;\n",
       "    }\n",
       "</style>\n",
       "<table border=\"1\" class=\"dataframe\">\n",
       "  <thead>\n",
       "    <tr style=\"text-align: right;\">\n",
       "      <th></th>\n",
       "      <th>PETR3</th>\n",
       "      <th>PETR4</th>\n",
       "    </tr>\n",
       "    <tr>\n",
       "      <th>Data</th>\n",
       "      <th></th>\n",
       "      <th></th>\n",
       "    </tr>\n",
       "  </thead>\n",
       "  <tbody>\n",
       "    <tr>\n",
       "      <th>2018-02-27</th>\n",
       "      <td>22.2914</td>\n",
       "      <td>20.0038</td>\n",
       "    </tr>\n",
       "    <tr>\n",
       "      <th>2018-02-28</th>\n",
       "      <td>22.3203</td>\n",
       "      <td>19.9665</td>\n",
       "    </tr>\n",
       "    <tr>\n",
       "      <th>2018-03-01</th>\n",
       "      <td>21.9540</td>\n",
       "      <td>19.5665</td>\n",
       "    </tr>\n",
       "    <tr>\n",
       "      <th>2018-03-02</th>\n",
       "      <td>22.3493</td>\n",
       "      <td>20.0131</td>\n",
       "    </tr>\n",
       "    <tr>\n",
       "      <th>2018-03-05</th>\n",
       "      <td>22.9856</td>\n",
       "      <td>20.5806</td>\n",
       "    </tr>\n",
       "    <tr>\n",
       "      <th>...</th>\n",
       "      <td>...</td>\n",
       "      <td>...</td>\n",
       "    </tr>\n",
       "    <tr>\n",
       "      <th>2019-02-25</th>\n",
       "      <td>29.6930</td>\n",
       "      <td>25.8945</td>\n",
       "    </tr>\n",
       "    <tr>\n",
       "      <th>2019-02-26</th>\n",
       "      <td>29.7027</td>\n",
       "      <td>25.7781</td>\n",
       "    </tr>\n",
       "    <tr>\n",
       "      <th>2019-02-27</th>\n",
       "      <td>29.8585</td>\n",
       "      <td>26.2630</td>\n",
       "    </tr>\n",
       "    <tr>\n",
       "      <th>2019-02-28</th>\n",
       "      <td>29.0699</td>\n",
       "      <td>26.2436</td>\n",
       "    </tr>\n",
       "    <tr>\n",
       "      <th>2019-03-01</th>\n",
       "      <td>28.4274</td>\n",
       "      <td>25.8945</td>\n",
       "    </tr>\n",
       "  </tbody>\n",
       "</table>\n",
       "<p>250 rows × 2 columns</p>\n",
       "</div>"
      ],
      "text/plain": [
       "              PETR3    PETR4\n",
       "Data                        \n",
       "2018-02-27  22.2914  20.0038\n",
       "2018-02-28  22.3203  19.9665\n",
       "2018-03-01  21.9540  19.5665\n",
       "2018-03-02  22.3493  20.0131\n",
       "2018-03-05  22.9856  20.5806\n",
       "...             ...      ...\n",
       "2019-02-25  29.6930  25.8945\n",
       "2019-02-26  29.7027  25.7781\n",
       "2019-02-27  29.8585  26.2630\n",
       "2019-02-28  29.0699  26.2436\n",
       "2019-03-01  28.4274  25.8945\n",
       "\n",
       "[250 rows x 2 columns]"
      ]
     },
     "execution_count": 4,
     "metadata": {},
     "output_type": "execute_result"
    }
   ],
   "source": [
    "bd = bd.loc['2018-02-27': '2019-03-02']\n",
    "bd[['PETR3', 'PETR4']]"
   ]
  },
  {
   "cell_type": "code",
   "execution_count": 5,
   "id": "fbda7ced",
   "metadata": {
    "ExecuteTime": {
     "end_time": "2022-07-27T20:41:18.834704Z",
     "start_time": "2022-07-27T20:41:18.529782Z"
    }
   },
   "outputs": [
    {
     "data": {
      "text/plain": [
       "<matplotlib.axes._subplots.AxesSubplot at 0x2cb75a4a700>"
      ]
     },
     "execution_count": 5,
     "metadata": {},
     "output_type": "execute_result"
    },
    {
     "data": {
      "image/png": "[encoded data removed]",
      "text/plain": [
       "<Figure size 432x288 with 1 Axes>"
      ]
     },
     "metadata": {
      "needs_background": "light"
     },
     "output_type": "display_data"
    }
   ],
   "source": [
    "bd[['PETR3', 'PETR4']].plot(kind='scatter', x='PETR4', y='PETR3')"
   ]
  },
  {
   "cell_type": "code",
   "execution_count": 6,
   "id": "4c3c967f",
   "metadata": {
    "ExecuteTime": {
     "end_time": "2022-07-27T20:41:19.478274Z",
     "start_time": "2022-07-27T20:41:18.834704Z"
    }
   },
   "outputs": [
    {
     "data": {
      "image/png": "[encoded data removed]",
      "text/plain": [
       "<Figure size 432x288 with 1 Axes>"
      ]
     },
     "metadata": {
      "needs_background": "light"
     },
     "output_type": "display_data"
    }
   ],
   "source": [
    "a = sns.lineplot(y='LCAM3', x=bd.index, data=bd, label='LCAM3')\n",
    "a = sns.lineplot(y='SANB11', x=bd.index, data=bd, label='SANB11')\n",
    "\n",
    "a.set(yscale='log')\n",
    "\n",
    "plt.xlabel('Date')\n",
    "plt.ylabel('Prices')\n",
    "plt.show()"
   ]
  },
  {
   "cell_type": "code",
   "execution_count": 5,
   "id": "da82f5ca",
   "metadata": {
    "ExecuteTime": {
     "end_time": "2022-07-28T14:30:53.320243Z",
     "start_time": "2022-07-28T14:30:53.304269Z"
    }
   },
   "outputs": [],
   "source": [
    "coint = cointegracao.Cointegration(significance = 0.01, z_score_in=2)"
   ]
  },
  {
   "cell_type": "code",
   "execution_count": null,
   "id": "9662dfd8",
   "metadata": {},
   "outputs": [],
   "source": []
  },
  {
   "cell_type": "code",
   "execution_count": 8,
   "id": "7c5b7e2c",
   "metadata": {
    "ExecuteTime": {
     "end_time": "2022-07-27T20:41:19.510322Z",
     "start_time": "2022-07-27T20:41:19.494276Z"
    }
   },
   "outputs": [],
   "source": [
    "# i_1 = bd.apply(lambda col: coint.adf(col), axis=0)"
   ]
  },
  {
   "cell_type": "code",
   "execution_count": 9,
   "id": "a4d8fa08",
   "metadata": {
    "ExecuteTime": {
     "end_time": "2022-07-27T20:41:21.430222Z",
     "start_time": "2022-07-27T20:41:19.510322Z"
    }
   },
   "outputs": [],
   "source": [
    "i_1 = [coint.adf(bd[col]) for col in bd.columns]\n",
    "i_1 = [ ele for ele in i_1 if ele is not None ]"
   ]
  },
  {
   "cell_type": "code",
   "execution_count": 11,
   "id": "01a595e4",
   "metadata": {
    "ExecuteTime": {
     "end_time": "2022-07-27T20:41:27.136918Z",
     "start_time": "2022-07-27T20:41:27.128917Z"
    }
   },
   "outputs": [],
   "source": [
    "permut = list(combinations(i_1, 2))[:500]"
   ]
  },
  {
   "cell_type": "code",
   "execution_count": 13,
   "id": "31661446",
   "metadata": {
    "ExecuteTime": {
     "end_time": "2022-07-27T20:41:58.875346Z",
     "start_time": "2022-07-27T20:41:53.987294Z"
    }
   },
   "outputs": [],
   "source": [
    "approved = []\n",
    "for pair in permut:\n",
    "    try:\n",
    "        coint_test = coint.cointegration_test(first_stock=bd[pair[0]], scnd_stock=bd[pair[1]])\n",
    "        if coint_test:\n",
    "            approved.append(pair)\n",
    "    except:\n",
    "        pass"
   ]
  },
  {
   "cell_type": "code",
   "execution_count": 15,
   "id": "13b65aaa",
   "metadata": {
    "ExecuteTime": {
     "end_time": "2022-07-27T22:18:36.021184Z",
     "start_time": "2022-07-27T22:18:36.013149Z"
    }
   },
   "outputs": [],
   "source": [
    "def cointegrated(pair):\n",
    "    try:\n",
    "        coint_test = coint.cointegration_test(first_stock=bd[pair[0]], scnd_stock=bd[pair[1]])\n",
    "        if coint_test:\n",
    "            approved.append(pair)\n",
    "            return pair\n",
    "    except:\n",
    "        pass"
   ]
  },
  {
   "cell_type": "code",
   "execution_count": 16,
   "id": "5449c2ec",
   "metadata": {
    "ExecuteTime": {
     "end_time": "2022-07-27T22:18:37.425629Z",
     "start_time": "2022-07-27T22:18:37.409630Z"
    }
   },
   "outputs": [],
   "source": [
    "def executar():\n",
    "    if __name__ == '__main__':\n",
    "\n",
    "        with Pool(3) as p:\n",
    "            results = p.map(cointegrated, permut)\n",
    "\n",
    "        return results"
   ]
  },
  {
   "cell_type": "code",
   "execution_count": null,
   "id": "234e4aa2",
   "metadata": {
    "ExecuteTime": {
     "start_time": "2022-07-27T22:18:38.555Z"
    }
   },
   "outputs": [],
   "source": [
    "results = executar()\n",
    "print(results)"
   ]
  },
  {
   "cell_type": "code",
   "execution_count": 14,
   "id": "4db453ee",
   "metadata": {
    "ExecuteTime": {
     "end_time": "2022-07-27T22:04:23.187929Z",
     "start_time": "2022-07-27T22:04:23.171929Z"
    }
   },
   "outputs": [
    {
     "data": {
      "text/plain": [
       "500"
      ]
     },
     "execution_count": 14,
     "metadata": {},
     "output_type": "execute_result"
    }
   ],
   "source": [
    "len(permut)"
   ]
  },
  {
   "cell_type": "code",
   "execution_count": 20,
   "id": "bc414e2a",
   "metadata": {
    "ExecuteTime": {
     "end_time": "2022-07-27T19:15:50.378869Z",
     "start_time": "2022-07-27T19:15:50.346830Z"
    }
   },
   "outputs": [
    {
     "data": {
      "text/plain": [
       "True"
      ]
     },
     "execution_count": 20,
     "metadata": {},
     "output_type": "execute_result"
    }
   ],
   "source": [
    "coint.cointegration_test(first_stock=bd['HGTX3'], scnd_stock=bd['LREN3'])"
   ]
  },
  {
   "cell_type": "code",
   "execution_count": 21,
   "id": "286b9a55",
   "metadata": {
    "ExecuteTime": {
     "end_time": "2022-07-27T19:15:51.638759Z",
     "start_time": "2022-07-27T19:15:51.438791Z"
    }
   },
   "outputs": [
    {
     "data": {
      "image/png": "[encoded data removed]",
      "text/plain": [
       "<Figure size 432x288 with 1 Axes>"
      ]
     },
     "metadata": {
      "needs_background": "light"
     },
     "output_type": "display_data"
    }
   ],
   "source": [
    "coint.plot_prices()"
   ]
  },
  {
   "cell_type": "code",
   "execution_count": 22,
   "id": "b503c6b4",
   "metadata": {
    "ExecuteTime": {
     "end_time": "2022-07-27T19:15:53.810351Z",
     "start_time": "2022-07-27T19:15:53.242383Z"
    }
   },
   "outputs": [
    {
     "data": {
      "image/png": "[encoded data removed]",
      "text/plain": [
       "<Figure size 432x288 with 1 Axes>"
      ]
     },
     "metadata": {
      "needs_background": "light"
     },
     "output_type": "display_data"
    }
   ],
   "source": [
    "coint.plot_scatter()"
   ]
  },
  {
   "cell_type": "code",
   "execution_count": 23,
   "id": "3ae7898b",
   "metadata": {
    "ExecuteTime": {
     "end_time": "2022-07-27T19:15:56.101390Z",
     "start_time": "2022-07-27T19:15:55.901393Z"
    }
   },
   "outputs": [
    {
     "data": {
      "image/png": "[encoded data removed]",
      "text/plain": [
       "<Figure size 432x288 with 1 Axes>"
      ]
     },
     "metadata": {
      "needs_background": "light"
     },
     "output_type": "display_data"
    }
   ],
   "source": [
    "coint.plot_resid_bounds()"
   ]
  },
  {
   "cell_type": "code",
   "execution_count": 24,
   "id": "394a24bd",
   "metadata": {
    "ExecuteTime": {
     "end_time": "2022-07-27T19:15:58.642583Z",
     "start_time": "2022-07-27T19:15:58.610582Z"
    }
   },
   "outputs": [
    {
     "data": {
      "text/plain": [
       "(-4.483219578611228,\n",
       " 0.00021083394348522685,\n",
       " 0,\n",
       " 249,\n",
       " {'1%': -3.4568881317725864,\n",
       "  '5%': -2.8732185133016057,\n",
       "  '10%': -2.5729936189738876},\n",
       " 434.2485971347595)"
      ]
     },
     "execution_count": 24,
     "metadata": {},
     "output_type": "execute_result"
    }
   ],
   "source": [
    "ts.adfuller(coint.residuals)"
   ]
  },
  {
   "cell_type": "code",
   "execution_count": 18,
   "id": "a9f1da91",
   "metadata": {
    "ExecuteTime": {
     "end_time": "2022-07-27T19:05:38.089686Z",
     "start_time": "2022-07-27T19:05:38.066195Z"
    }
   },
   "outputs": [],
   "source": [
    "Y = bd['PETR3']\n",
    "X = bd['PETR4']\n",
    "X = sm.add_constant(X)\n",
    "model = sm.OLS(Y, X)\n",
    "reg = model.fit()"
   ]
  },
  {
   "cell_type": "code",
   "execution_count": 13,
   "id": "3385b63d",
   "metadata": {
    "ExecuteTime": {
     "end_time": "2022-07-27T16:37:45.879788Z",
     "start_time": "2022-07-27T16:37:45.863773Z"
    }
   },
   "outputs": [
    {
     "data": {
      "text/plain": [
       "const    1.751135\n",
       "PETR4    1.074009\n",
       "dtype: float64"
      ]
     },
     "execution_count": 13,
     "metadata": {},
     "output_type": "execute_result"
    }
   ],
   "source": [
    "reg.params"
   ]
  },
  {
   "cell_type": "code",
   "execution_count": 14,
   "id": "2f1f0a3d",
   "metadata": {
    "ExecuteTime": {
     "end_time": "2022-07-27T16:37:46.455813Z",
     "start_time": "2022-07-27T16:37:45.879788Z"
    }
   },
   "outputs": [
    {
     "data": {
      "image/png": "[encoded data removed]",
      "text/plain": [
       "<Figure size 432x288 with 1 Axes>"
      ]
     },
     "metadata": {
      "needs_background": "light"
     },
     "output_type": "display_data"
    }
   ],
   "source": [
    "sns.scatterplot(x=bd['PETR4'], y=bd['PETR3'])\n",
    "sns.lineplot(x=bd['PETR4'], y=reg.fittedvalues, color='red')\n",
    "plt.show()"
   ]
  },
  {
   "cell_type": "code",
   "execution_count": 15,
   "id": "1f2103c2",
   "metadata": {
    "ExecuteTime": {
     "end_time": "2022-07-27T16:37:46.471787Z",
     "start_time": "2022-07-27T16:37:46.455813Z"
    }
   },
   "outputs": [
    {
     "data": {
      "text/plain": [
       "'PETR4'"
      ]
     },
     "execution_count": 15,
     "metadata": {},
     "output_type": "execute_result"
    }
   ],
   "source": [
    "bd['PETR4'].name"
   ]
  },
  {
   "cell_type": "code",
   "execution_count": 16,
   "id": "aea9bb36",
   "metadata": {
    "ExecuteTime": {
     "end_time": "2022-07-27T16:37:46.487777Z",
     "start_time": "2022-07-27T16:37:46.471787Z"
    }
   },
   "outputs": [],
   "source": [
    "resid = reg.resid\n",
    "resid_mean = resid.mean()\n",
    "k = 2\n",
    "upper = resid.std() * k\n",
    "lower = resid.std() * -k"
   ]
  },
  {
   "cell_type": "code",
   "execution_count": 17,
   "id": "11465cf9",
   "metadata": {
    "ExecuteTime": {
     "end_time": "2022-07-27T16:37:46.807810Z",
     "start_time": "2022-07-27T16:37:46.487777Z"
    }
   },
   "outputs": [
    {
     "data": {
      "image/png": "[encoded data removed]",
      "text/plain": [
       "<Figure size 432x288 with 1 Axes>"
      ]
     },
     "metadata": {
      "needs_background": "light"
     },
     "output_type": "display_data"
    }
   ],
   "source": [
    "sns.lineplot(y=resid, x=resid.index)\n",
    "\n",
    "plt.axhline(y=resid_mean, color='y', linestyle='--', linewidth=1, label='Mean')\n",
    "plt.axhline(y=upper,   color='b', linestyle='--', linewidth=1, label=f'+/-{k} z-score')\n",
    "plt.axhline(y=lower, color='b', linestyle='--', linewidth=1, label='_nolegend_')\n",
    "\n",
    "plt.xlabel('date')\n",
    "plt.ylabel('Residuals')\n",
    "\n",
    "plt.legend()\n",
    "plt.show()"
   ]
  },
  {
   "cell_type": "code",
   "execution_count": 18,
   "id": "73948cdc",
   "metadata": {
    "ExecuteTime": {
     "end_time": "2022-07-27T16:37:46.847782Z",
     "start_time": "2022-07-27T16:37:46.807810Z"
    }
   },
   "outputs": [],
   "source": [
    "adf_resid = ts.adfuller(resid)"
   ]
  },
  {
   "cell_type": "code",
   "execution_count": 19,
   "id": "c83b3145",
   "metadata": {
    "ExecuteTime": {
     "end_time": "2022-07-27T16:37:46.863776Z",
     "start_time": "2022-07-27T16:37:46.847782Z"
    }
   },
   "outputs": [
    {
     "data": {
      "text/plain": [
       "0.0028927625394583384"
      ]
     },
     "execution_count": 19,
     "metadata": {},
     "output_type": "execute_result"
    }
   ],
   "source": [
    "resid_pvalue = adf_resid[1]\n",
    "resid_pvalue"
   ]
  },
  {
   "cell_type": "code",
   "execution_count": 20,
   "id": "c3b36e46",
   "metadata": {
    "ExecuteTime": {
     "end_time": "2022-07-27T16:37:46.903775Z",
     "start_time": "2022-07-27T16:37:46.863776Z"
    }
   },
   "outputs": [
    {
     "data": {
      "text/html": [
       "<table class=\"simpletable\">\n",
       "<caption>OLS Regression Results</caption>\n",
       "<tr>\n",
       "  <th>Dep. Variable:</th>          <td>PETR3</td>      <th>  R-squared:         </th> <td>   0.979</td> \n",
       "</tr>\n",
       "<tr>\n",
       "  <th>Model:</th>                   <td>OLS</td>       <th>  Adj. R-squared:    </th> <td>   0.979</td> \n",
       "</tr>\n",
       "<tr>\n",
       "  <th>Method:</th>             <td>Least Squares</td>  <th>  F-statistic:       </th> <td>1.155e+04</td>\n",
       "</tr>\n",
       "<tr>\n",
       "  <th>Date:</th>             <td>Wed, 27 Jul 2022</td> <th>  Prob (F-statistic):</th> <td>4.95e-210</td>\n",
       "</tr>\n",
       "<tr>\n",
       "  <th>Time:</th>                 <td>13:37:46</td>     <th>  Log-Likelihood:    </th> <td> -197.09</td> \n",
       "</tr>\n",
       "<tr>\n",
       "  <th>No. Observations:</th>      <td>   250</td>      <th>  AIC:               </th> <td>   398.2</td> \n",
       "</tr>\n",
       "<tr>\n",
       "  <th>Df Residuals:</th>          <td>   248</td>      <th>  BIC:               </th> <td>   405.2</td> \n",
       "</tr>\n",
       "<tr>\n",
       "  <th>Df Model:</th>              <td>     1</td>      <th>                     </th>     <td> </td>    \n",
       "</tr>\n",
       "<tr>\n",
       "  <th>Covariance Type:</th>      <td>nonrobust</td>    <th>                     </th>     <td> </td>    \n",
       "</tr>\n",
       "</table>\n",
       "<table class=\"simpletable\">\n",
       "<tr>\n",
       "    <td></td>       <th>coef</th>     <th>std err</th>      <th>t</th>      <th>P>|t|</th>  <th>[0.025</th>    <th>0.975]</th>  \n",
       "</tr>\n",
       "<tr>\n",
       "  <th>const</th> <td>    1.7511</td> <td>    0.211</td> <td>    8.309</td> <td> 0.000</td> <td>    1.336</td> <td>    2.166</td>\n",
       "</tr>\n",
       "<tr>\n",
       "  <th>PETR4</th> <td>    1.0740</td> <td>    0.010</td> <td>  107.493</td> <td> 0.000</td> <td>    1.054</td> <td>    1.094</td>\n",
       "</tr>\n",
       "</table>\n",
       "<table class=\"simpletable\">\n",
       "<tr>\n",
       "  <th>Omnibus:</th>       <td> 0.194</td> <th>  Durbin-Watson:     </th> <td>   0.146</td>\n",
       "</tr>\n",
       "<tr>\n",
       "  <th>Prob(Omnibus):</th> <td> 0.908</td> <th>  Jarque-Bera (JB):  </th> <td>   0.260</td>\n",
       "</tr>\n",
       "<tr>\n",
       "  <th>Skew:</th>          <td> 0.065</td> <th>  Prob(JB):          </th> <td>   0.878</td>\n",
       "</tr>\n",
       "<tr>\n",
       "  <th>Kurtosis:</th>      <td> 2.909</td> <th>  Cond. No.          </th> <td>    132.</td>\n",
       "</tr>\n",
       "</table><br/><br/>Notes:<br/>[1] Standard Errors assume that the covariance matrix of the errors is correctly specified."
      ],
      "text/plain": [
       "<class 'statsmodels.iolib.summary.Summary'>\n",
       "\"\"\"\n",
       "                            OLS Regression Results                            \n",
       "==============================================================================\n",
       "Dep. Variable:                  PETR3   R-squared:                       0.979\n",
       "Model:                            OLS   Adj. R-squared:                  0.979\n",
       "Method:                 Least Squares   F-statistic:                 1.155e+04\n",
       "Date:                Wed, 27 Jul 2022   Prob (F-statistic):          4.95e-210\n",
       "Time:                        13:37:46   Log-Likelihood:                -197.09\n",
       "No. Observations:                 250   AIC:                             398.2\n",
       "Df Residuals:                     248   BIC:                             405.2\n",
       "Df Model:                           1                                         \n",
       "Covariance Type:            nonrobust                                         \n",
       "==============================================================================\n",
       "                 coef    std err          t      P>|t|      [0.025      0.975]\n",
       "------------------------------------------------------------------------------\n",
       "const          1.7511      0.211      8.309      0.000       1.336       2.166\n",
       "PETR4          1.0740      0.010    107.493      0.000       1.054       1.094\n",
       "==============================================================================\n",
       "Omnibus:                        0.194   Durbin-Watson:                   0.146\n",
       "Prob(Omnibus):                  0.908   Jarque-Bera (JB):                0.260\n",
       "Skew:                           0.065   Prob(JB):                        0.878\n",
       "Kurtosis:                       2.909   Cond. No.                         132.\n",
       "==============================================================================\n",
       "\n",
       "Notes:\n",
       "[1] Standard Errors assume that the covariance matrix of the errors is correctly specified.\n",
       "\"\"\""
      ]
     },
     "execution_count": 20,
     "metadata": {},
     "output_type": "execute_result"
    }
   ],
   "source": [
    "reg.summary()"
   ]
  },
  {
   "cell_type": "code",
   "execution_count": 21,
   "id": "79bbd2e3",
   "metadata": {
    "ExecuteTime": {
     "end_time": "2022-07-27T16:37:46.967781Z",
     "start_time": "2022-07-27T16:37:46.903775Z"
    }
   },
   "outputs": [
    {
     "data": {
      "text/plain": [
       "['HC0_se',\n",
       " 'HC1_se',\n",
       " 'HC2_se',\n",
       " 'HC3_se',\n",
       " '_HCCM',\n",
       " '__class__',\n",
       " '__delattr__',\n",
       " '__dict__',\n",
       " '__dir__',\n",
       " '__doc__',\n",
       " '__eq__',\n",
       " '__format__',\n",
       " '__ge__',\n",
       " '__getattribute__',\n",
       " '__gt__',\n",
       " '__hash__',\n",
       " '__init__',\n",
       " '__init_subclass__',\n",
       " '__le__',\n",
       " '__lt__',\n",
       " '__module__',\n",
       " '__ne__',\n",
       " '__new__',\n",
       " '__reduce__',\n",
       " '__reduce_ex__',\n",
       " '__repr__',\n",
       " '__setattr__',\n",
       " '__sizeof__',\n",
       " '__str__',\n",
       " '__subclasshook__',\n",
       " '__weakref__',\n",
       " '_abat_diagonal',\n",
       " '_cache',\n",
       " '_data_attr',\n",
       " '_data_in_cache',\n",
       " '_get_robustcov_results',\n",
       " '_is_nested',\n",
       " '_use_t',\n",
       " '_wexog_singular_values',\n",
       " 'aic',\n",
       " 'bic',\n",
       " 'bse',\n",
       " 'centered_tss',\n",
       " 'compare_f_test',\n",
       " 'compare_lm_test',\n",
       " 'compare_lr_test',\n",
       " 'condition_number',\n",
       " 'conf_int',\n",
       " 'conf_int_el',\n",
       " 'cov_HC0',\n",
       " 'cov_HC1',\n",
       " 'cov_HC2',\n",
       " 'cov_HC3',\n",
       " 'cov_kwds',\n",
       " 'cov_params',\n",
       " 'cov_type',\n",
       " 'df_model',\n",
       " 'df_resid',\n",
       " 'diagn',\n",
       " 'eigenvals',\n",
       " 'el_test',\n",
       " 'ess',\n",
       " 'f_pvalue',\n",
       " 'f_test',\n",
       " 'fittedvalues',\n",
       " 'fvalue',\n",
       " 'get_influence',\n",
       " 'get_prediction',\n",
       " 'get_robustcov_results',\n",
       " 'info_criteria',\n",
       " 'initialize',\n",
       " 'k_constant',\n",
       " 'llf',\n",
       " 'load',\n",
       " 'model',\n",
       " 'mse_model',\n",
       " 'mse_resid',\n",
       " 'mse_total',\n",
       " 'nobs',\n",
       " 'normalized_cov_params',\n",
       " 'outlier_test',\n",
       " 'params',\n",
       " 'predict',\n",
       " 'pvalues',\n",
       " 'remove_data',\n",
       " 'resid',\n",
       " 'resid_pearson',\n",
       " 'rsquared',\n",
       " 'rsquared_adj',\n",
       " 'save',\n",
       " 'scale',\n",
       " 'ssr',\n",
       " 'summary',\n",
       " 'summary2',\n",
       " 't_test',\n",
       " 't_test_pairwise',\n",
       " 'tvalues',\n",
       " 'uncentered_tss',\n",
       " 'use_t',\n",
       " 'wald_test',\n",
       " 'wald_test_terms',\n",
       " 'wresid']"
      ]
     },
     "execution_count": 21,
     "metadata": {},
     "output_type": "execute_result"
    }
   ],
   "source": [
    "dir(reg)"
   ]
  },
  {
   "cell_type": "code",
   "execution_count": 3,
   "id": "4305fa4c",
   "metadata": {
    "ExecuteTime": {
     "end_time": "2022-07-28T15:36:20.811878Z",
     "start_time": "2022-07-28T15:36:20.795881Z"
    }
   },
   "outputs": [],
   "source": [
    "import backtest"
   ]
  },
  {
   "cell_type": "code",
   "execution_count": 4,
   "id": "d32ea0d5",
   "metadata": {
    "ExecuteTime": {
     "end_time": "2022-07-28T15:36:21.171886Z",
     "start_time": "2022-07-28T15:36:21.163882Z"
    }
   },
   "outputs": [],
   "source": [
    "res = backtest.executar()"
   ]
  },
  {
   "cell_type": "code",
   "execution_count": null,
   "id": "341dc2ae",
   "metadata": {},
   "outputs": [],
   "source": []
  }
 ],
 "metadata": {
  "kernelspec": {
   "display_name": "Python 3",
   "language": "python",
   "name": "python3"
  },
  "language_info": {
   "codemirror_mode": {
    "name": "ipython",
    "version": 3
   },
   "file_extension": ".py",
   "mimetype": "text/x-python",
   "name": "python",
   "nbconvert_exporter": "python",
   "pygments_lexer": "ipython3",
   "version": "3.8.4"
  }
 },
 "nbformat": 4,
 "nbformat_minor": 5
}
