{
 "cells": [
  {
   "cell_type": "code",
   "execution_count": 1,
   "id": "4e1dbfa3",
   "metadata": {
    "ExecuteTime": {
     "end_time": "2022-08-06T00:56:56.331652Z",
     "start_time": "2022-08-06T00:56:53.435607Z"
    }
   },
   "outputs": [],
   "source": [
    "import statsmodels.api as sm\n",
    "import pandas as pd\n",
    "import statsmodels.tsa.stattools as ts\n",
    "from matplotlib import pyplot as plt\n",
    "import cointegracao\n",
    "from scipy.stats import zscore\n",
    "import seaborn as sns\n",
    "from itertools import combinations, permutations\n",
    "from multiprocessing import Pool\n"
   ]
  },
  {
   "cell_type": "code",
   "execution_count": 2,
   "id": "908fa228",
   "metadata": {
    "ExecuteTime": {
     "end_time": "2022-08-06T00:56:58.035815Z",
     "start_time": "2022-08-06T00:56:56.331652Z"
    }
   },
   "outputs": [],
   "source": [
    "bd = pd.read_excel('BD COMPLETO.xlsx')"
   ]
  },
  {
   "cell_type": "code",
   "execution_count": 3,
   "id": "0c46c785",
   "metadata": {
    "ExecuteTime": {
     "end_time": "2022-08-06T00:56:58.131599Z",
     "start_time": "2022-08-06T00:56:58.035815Z"
    }
   },
   "outputs": [
    {
     "data": {
      "text/html": [
       "<div>\n",
       "<style scoped>\n",
       "    .dataframe tbody tr th:only-of-type {\n",
       "        vertical-align: middle;\n",
       "    }\n",
       "\n",
       "    .dataframe tbody tr th {\n",
       "        vertical-align: top;\n",
       "    }\n",
       "\n",
       "    .dataframe thead th {\n",
       "        text-align: right;\n",
       "    }\n",
       "</style>\n",
       "<table border=\"1\" class=\"dataframe\">\n",
       "  <thead>\n",
       "    <tr style=\"text-align: right;\">\n",
       "      <th></th>\n",
       "      <th>ARZZ3</th>\n",
       "      <th>AZUL4</th>\n",
       "      <th>B3SA3</th>\n",
       "      <th>BBAS3</th>\n",
       "      <th>BBDC3</th>\n",
       "      <th>BBDC4</th>\n",
       "      <th>BBSE3</th>\n",
       "      <th>BEEF3</th>\n",
       "      <th>BOVA11</th>\n",
       "      <th>BRAP4</th>\n",
       "      <th>...</th>\n",
       "      <th>SUZB3</th>\n",
       "      <th>TAEE11</th>\n",
       "      <th>TIET11</th>\n",
       "      <th>VVAR3</th>\n",
       "      <th>YDUQ3</th>\n",
       "      <th>NTCO3</th>\n",
       "      <th>ITSA4</th>\n",
       "      <th>BPAC11</th>\n",
       "      <th>BOVV11</th>\n",
       "      <th>dol</th>\n",
       "    </tr>\n",
       "    <tr>\n",
       "      <th>Data</th>\n",
       "      <th></th>\n",
       "      <th></th>\n",
       "      <th></th>\n",
       "      <th></th>\n",
       "      <th></th>\n",
       "      <th></th>\n",
       "      <th></th>\n",
       "      <th></th>\n",
       "      <th></th>\n",
       "      <th></th>\n",
       "      <th></th>\n",
       "      <th></th>\n",
       "      <th></th>\n",
       "      <th></th>\n",
       "      <th></th>\n",
       "      <th></th>\n",
       "      <th></th>\n",
       "      <th></th>\n",
       "      <th></th>\n",
       "      <th></th>\n",
       "      <th></th>\n",
       "    </tr>\n",
       "  </thead>\n",
       "  <tbody>\n",
       "    <tr>\n",
       "      <th>2017-04-11</th>\n",
       "      <td>28.5749</td>\n",
       "      <td>22.40</td>\n",
       "      <td>17.4028</td>\n",
       "      <td>28.1720</td>\n",
       "      <td>17.3703</td>\n",
       "      <td>17.6168</td>\n",
       "      <td>21.0011</td>\n",
       "      <td>9.78</td>\n",
       "      <td>62.42</td>\n",
       "      <td>17.2488</td>\n",
       "      <td>...</td>\n",
       "      <td>12.4039</td>\n",
       "      <td>16.4007</td>\n",
       "      <td>10.4669</td>\n",
       "      <td>3.9803</td>\n",
       "      <td>14.2525</td>\n",
       "      <td>14.7845</td>\n",
       "      <td>6.8240</td>\n",
       "      <td>15.8492</td>\n",
       "      <td>64.46</td>\n",
       "      <td>3.531422</td>\n",
       "    </tr>\n",
       "    <tr>\n",
       "      <th>2017-04-12</th>\n",
       "      <td>28.5031</td>\n",
       "      <td>22.96</td>\n",
       "      <td>17.3301</td>\n",
       "      <td>27.7085</td>\n",
       "      <td>17.2553</td>\n",
       "      <td>17.4412</td>\n",
       "      <td>20.7890</td>\n",
       "      <td>9.87</td>\n",
       "      <td>61.68</td>\n",
       "      <td>16.2195</td>\n",
       "      <td>...</td>\n",
       "      <td>12.2900</td>\n",
       "      <td>16.5075</td>\n",
       "      <td>10.3283</td>\n",
       "      <td>4.2291</td>\n",
       "      <td>14.5797</td>\n",
       "      <td>14.7213</td>\n",
       "      <td>6.7885</td>\n",
       "      <td>16.1625</td>\n",
       "      <td>64.00</td>\n",
       "      <td>3.519090</td>\n",
       "    </tr>\n",
       "    <tr>\n",
       "      <th>2017-04-13</th>\n",
       "      <td>28.7992</td>\n",
       "      <td>22.99</td>\n",
       "      <td>16.8300</td>\n",
       "      <td>26.2664</td>\n",
       "      <td>16.7844</td>\n",
       "      <td>16.9090</td>\n",
       "      <td>20.5403</td>\n",
       "      <td>9.95</td>\n",
       "      <td>60.80</td>\n",
       "      <td>16.3053</td>\n",
       "      <td>...</td>\n",
       "      <td>11.9958</td>\n",
       "      <td>16.2939</td>\n",
       "      <td>10.3822</td>\n",
       "      <td>4.2291</td>\n",
       "      <td>13.9166</td>\n",
       "      <td>14.5948</td>\n",
       "      <td>6.6179</td>\n",
       "      <td>15.5868</td>\n",
       "      <td>62.93</td>\n",
       "      <td>3.536467</td>\n",
       "    </tr>\n",
       "    <tr>\n",
       "      <th>2017-04-17</th>\n",
       "      <td>28.6646</td>\n",
       "      <td>22.85</td>\n",
       "      <td>17.7756</td>\n",
       "      <td>27.4853</td>\n",
       "      <td>17.4415</td>\n",
       "      <td>17.6662</td>\n",
       "      <td>21.2791</td>\n",
       "      <td>10.00</td>\n",
       "      <td>62.25</td>\n",
       "      <td>16.5540</td>\n",
       "      <td>...</td>\n",
       "      <td>11.8250</td>\n",
       "      <td>16.3865</td>\n",
       "      <td>10.4515</td>\n",
       "      <td>4.1793</td>\n",
       "      <td>14.7654</td>\n",
       "      <td>15.0277</td>\n",
       "      <td>6.7956</td>\n",
       "      <td>15.5783</td>\n",
       "      <td>64.44</td>\n",
       "      <td>3.483776</td>\n",
       "    </tr>\n",
       "    <tr>\n",
       "      <th>2017-04-18</th>\n",
       "      <td>28.2609</td>\n",
       "      <td>23.91</td>\n",
       "      <td>17.9120</td>\n",
       "      <td>27.7514</td>\n",
       "      <td>17.4470</td>\n",
       "      <td>17.5619</td>\n",
       "      <td>21.2060</td>\n",
       "      <td>9.95</td>\n",
       "      <td>61.95</td>\n",
       "      <td>16.1166</td>\n",
       "      <td>...</td>\n",
       "      <td>12.1476</td>\n",
       "      <td>16.5929</td>\n",
       "      <td>10.3052</td>\n",
       "      <td>4.3684</td>\n",
       "      <td>14.6769</td>\n",
       "      <td>14.9061</td>\n",
       "      <td>6.8525</td>\n",
       "      <td>15.2397</td>\n",
       "      <td>64.20</td>\n",
       "      <td>3.492744</td>\n",
       "    </tr>\n",
       "    <tr>\n",
       "      <th>...</th>\n",
       "      <td>...</td>\n",
       "      <td>...</td>\n",
       "      <td>...</td>\n",
       "      <td>...</td>\n",
       "      <td>...</td>\n",
       "      <td>...</td>\n",
       "      <td>...</td>\n",
       "      <td>...</td>\n",
       "      <td>...</td>\n",
       "      <td>...</td>\n",
       "      <td>...</td>\n",
       "      <td>...</td>\n",
       "      <td>...</td>\n",
       "      <td>...</td>\n",
       "      <td>...</td>\n",
       "      <td>...</td>\n",
       "      <td>...</td>\n",
       "      <td>...</td>\n",
       "      <td>...</td>\n",
       "      <td>...</td>\n",
       "      <td>...</td>\n",
       "    </tr>\n",
       "    <tr>\n",
       "      <th>2020-09-10</th>\n",
       "      <td>56.9600</td>\n",
       "      <td>26.10</td>\n",
       "      <td>56.0000</td>\n",
       "      <td>32.4254</td>\n",
       "      <td>19.3100</td>\n",
       "      <td>20.8500</td>\n",
       "      <td>26.2800</td>\n",
       "      <td>12.93</td>\n",
       "      <td>95.04</td>\n",
       "      <td>43.0300</td>\n",
       "      <td>...</td>\n",
       "      <td>46.3500</td>\n",
       "      <td>28.7300</td>\n",
       "      <td>14.9000</td>\n",
       "      <td>18.0200</td>\n",
       "      <td>27.3100</td>\n",
       "      <td>49.7500</td>\n",
       "      <td>9.4600</td>\n",
       "      <td>79.1300</td>\n",
       "      <td>99.20</td>\n",
       "      <td>5.325000</td>\n",
       "    </tr>\n",
       "    <tr>\n",
       "      <th>2020-09-11</th>\n",
       "      <td>55.7500</td>\n",
       "      <td>26.58</td>\n",
       "      <td>56.0200</td>\n",
       "      <td>31.8971</td>\n",
       "      <td>18.8700</td>\n",
       "      <td>20.4600</td>\n",
       "      <td>25.4700</td>\n",
       "      <td>12.93</td>\n",
       "      <td>94.48</td>\n",
       "      <td>44.9000</td>\n",
       "      <td>...</td>\n",
       "      <td>45.6000</td>\n",
       "      <td>28.3800</td>\n",
       "      <td>14.6500</td>\n",
       "      <td>17.9600</td>\n",
       "      <td>27.8900</td>\n",
       "      <td>51.6200</td>\n",
       "      <td>9.2700</td>\n",
       "      <td>78.1100</td>\n",
       "      <td>98.60</td>\n",
       "      <td>5.320500</td>\n",
       "    </tr>\n",
       "    <tr>\n",
       "      <th>2020-09-14</th>\n",
       "      <td>57.1700</td>\n",
       "      <td>28.25</td>\n",
       "      <td>58.7300</td>\n",
       "      <td>32.3600</td>\n",
       "      <td>19.1600</td>\n",
       "      <td>20.7000</td>\n",
       "      <td>25.8600</td>\n",
       "      <td>13.27</td>\n",
       "      <td>96.51</td>\n",
       "      <td>44.5500</td>\n",
       "      <td>...</td>\n",
       "      <td>46.1200</td>\n",
       "      <td>28.6000</td>\n",
       "      <td>14.7700</td>\n",
       "      <td>18.3700</td>\n",
       "      <td>30.1100</td>\n",
       "      <td>53.2600</td>\n",
       "      <td>9.3800</td>\n",
       "      <td>81.4800</td>\n",
       "      <td>100.72</td>\n",
       "      <td>5.273000</td>\n",
       "    </tr>\n",
       "    <tr>\n",
       "      <th>2020-09-15</th>\n",
       "      <td>57.5500</td>\n",
       "      <td>28.03</td>\n",
       "      <td>57.2800</td>\n",
       "      <td>31.9900</td>\n",
       "      <td>18.9200</td>\n",
       "      <td>20.4800</td>\n",
       "      <td>26.1000</td>\n",
       "      <td>13.84</td>\n",
       "      <td>96.46</td>\n",
       "      <td>45.3000</td>\n",
       "      <td>...</td>\n",
       "      <td>48.8900</td>\n",
       "      <td>28.5600</td>\n",
       "      <td>14.7600</td>\n",
       "      <td>18.5500</td>\n",
       "      <td>29.7000</td>\n",
       "      <td>53.5000</td>\n",
       "      <td>9.2600</td>\n",
       "      <td>79.8900</td>\n",
       "      <td>100.64</td>\n",
       "      <td>5.278000</td>\n",
       "    </tr>\n",
       "    <tr>\n",
       "      <th>2020-09-16</th>\n",
       "      <td>56.7100</td>\n",
       "      <td>29.09</td>\n",
       "      <td>57.0200</td>\n",
       "      <td>32.0900</td>\n",
       "      <td>19.0400</td>\n",
       "      <td>20.5200</td>\n",
       "      <td>26.2200</td>\n",
       "      <td>13.34</td>\n",
       "      <td>95.91</td>\n",
       "      <td>44.6900</td>\n",
       "      <td>...</td>\n",
       "      <td>47.5800</td>\n",
       "      <td>28.7100</td>\n",
       "      <td>14.7000</td>\n",
       "      <td>18.1600</td>\n",
       "      <td>30.4000</td>\n",
       "      <td>52.7300</td>\n",
       "      <td>9.2600</td>\n",
       "      <td>80.0000</td>\n",
       "      <td>100.21</td>\n",
       "      <td>5.240000</td>\n",
       "    </tr>\n",
       "  </tbody>\n",
       "</table>\n",
       "<p>849 rows × 97 columns</p>\n",
       "</div>"
      ],
      "text/plain": [
       "              ARZZ3  AZUL4    B3SA3    BBAS3    BBDC3    BBDC4    BBSE3  \\\n",
       "Data                                                                      \n",
       "2017-04-11  28.5749  22.40  17.4028  28.1720  17.3703  17.6168  21.0011   \n",
       "2017-04-12  28.5031  22.96  17.3301  27.7085  17.2553  17.4412  20.7890   \n",
       "2017-04-13  28.7992  22.99  16.8300  26.2664  16.7844  16.9090  20.5403   \n",
       "2017-04-17  28.6646  22.85  17.7756  27.4853  17.4415  17.6662  21.2791   \n",
       "2017-04-18  28.2609  23.91  17.9120  27.7514  17.4470  17.5619  21.2060   \n",
       "...             ...    ...      ...      ...      ...      ...      ...   \n",
       "2020-09-10  56.9600  26.10  56.0000  32.4254  19.3100  20.8500  26.2800   \n",
       "2020-09-11  55.7500  26.58  56.0200  31.8971  18.8700  20.4600  25.4700   \n",
       "2020-09-14  57.1700  28.25  58.7300  32.3600  19.1600  20.7000  25.8600   \n",
       "2020-09-15  57.5500  28.03  57.2800  31.9900  18.9200  20.4800  26.1000   \n",
       "2020-09-16  56.7100  29.09  57.0200  32.0900  19.0400  20.5200  26.2200   \n",
       "\n",
       "            BEEF3  BOVA11    BRAP4  ...    SUZB3   TAEE11   TIET11    VVAR3  \\\n",
       "Data                                ...                                       \n",
       "2017-04-11   9.78   62.42  17.2488  ...  12.4039  16.4007  10.4669   3.9803   \n",
       "2017-04-12   9.87   61.68  16.2195  ...  12.2900  16.5075  10.3283   4.2291   \n",
       "2017-04-13   9.95   60.80  16.3053  ...  11.9958  16.2939  10.3822   4.2291   \n",
       "2017-04-17  10.00   62.25  16.5540  ...  11.8250  16.3865  10.4515   4.1793   \n",
       "2017-04-18   9.95   61.95  16.1166  ...  12.1476  16.5929  10.3052   4.3684   \n",
       "...           ...     ...      ...  ...      ...      ...      ...      ...   \n",
       "2020-09-10  12.93   95.04  43.0300  ...  46.3500  28.7300  14.9000  18.0200   \n",
       "2020-09-11  12.93   94.48  44.9000  ...  45.6000  28.3800  14.6500  17.9600   \n",
       "2020-09-14  13.27   96.51  44.5500  ...  46.1200  28.6000  14.7700  18.3700   \n",
       "2020-09-15  13.84   96.46  45.3000  ...  48.8900  28.5600  14.7600  18.5500   \n",
       "2020-09-16  13.34   95.91  44.6900  ...  47.5800  28.7100  14.7000  18.1600   \n",
       "\n",
       "              YDUQ3    NTCO3   ITSA4   BPAC11  BOVV11       dol  \n",
       "Data                                                             \n",
       "2017-04-11  14.2525  14.7845  6.8240  15.8492   64.46  3.531422  \n",
       "2017-04-12  14.5797  14.7213  6.7885  16.1625   64.00  3.519090  \n",
       "2017-04-13  13.9166  14.5948  6.6179  15.5868   62.93  3.536467  \n",
       "2017-04-17  14.7654  15.0277  6.7956  15.5783   64.44  3.483776  \n",
       "2017-04-18  14.6769  14.9061  6.8525  15.2397   64.20  3.492744  \n",
       "...             ...      ...     ...      ...     ...       ...  \n",
       "2020-09-10  27.3100  49.7500  9.4600  79.1300   99.20  5.325000  \n",
       "2020-09-11  27.8900  51.6200  9.2700  78.1100   98.60  5.320500  \n",
       "2020-09-14  30.1100  53.2600  9.3800  81.4800  100.72  5.273000  \n",
       "2020-09-15  29.7000  53.5000  9.2600  79.8900  100.64  5.278000  \n",
       "2020-09-16  30.4000  52.7300  9.2600  80.0000  100.21  5.240000  \n",
       "\n",
       "[849 rows x 97 columns]"
      ]
     },
     "execution_count": 3,
     "metadata": {},
     "output_type": "execute_result"
    }
   ],
   "source": [
    "bd.dropna(axis=0, inplace=True)\n",
    "bd.set_index('Data', inplace=True)\n",
    "bd"
   ]
  },
  {
   "cell_type": "code",
   "execution_count": 4,
   "id": "5106f4b4",
   "metadata": {
    "ExecuteTime": {
     "end_time": "2022-08-06T00:56:58.171594Z",
     "start_time": "2022-08-06T00:56:58.131599Z"
    }
   },
   "outputs": [
    {
     "data": {
      "text/html": [
       "<div>\n",
       "<style scoped>\n",
       "    .dataframe tbody tr th:only-of-type {\n",
       "        vertical-align: middle;\n",
       "    }\n",
       "\n",
       "    .dataframe tbody tr th {\n",
       "        vertical-align: top;\n",
       "    }\n",
       "\n",
       "    .dataframe thead th {\n",
       "        text-align: right;\n",
       "    }\n",
       "</style>\n",
       "<table border=\"1\" class=\"dataframe\">\n",
       "  <thead>\n",
       "    <tr style=\"text-align: right;\">\n",
       "      <th></th>\n",
       "      <th>PETR3</th>\n",
       "      <th>PETR4</th>\n",
       "    </tr>\n",
       "    <tr>\n",
       "      <th>Data</th>\n",
       "      <th></th>\n",
       "      <th></th>\n",
       "    </tr>\n",
       "  </thead>\n",
       "  <tbody>\n",
       "    <tr>\n",
       "      <th>2018-02-27</th>\n",
       "      <td>22.2914</td>\n",
       "      <td>20.0038</td>\n",
       "    </tr>\n",
       "    <tr>\n",
       "      <th>2018-02-28</th>\n",
       "      <td>22.3203</td>\n",
       "      <td>19.9665</td>\n",
       "    </tr>\n",
       "    <tr>\n",
       "      <th>2018-03-01</th>\n",
       "      <td>21.9540</td>\n",
       "      <td>19.5665</td>\n",
       "    </tr>\n",
       "    <tr>\n",
       "      <th>2018-03-02</th>\n",
       "      <td>22.3493</td>\n",
       "      <td>20.0131</td>\n",
       "    </tr>\n",
       "    <tr>\n",
       "      <th>2018-03-05</th>\n",
       "      <td>22.9856</td>\n",
       "      <td>20.5806</td>\n",
       "    </tr>\n",
       "    <tr>\n",
       "      <th>...</th>\n",
       "      <td>...</td>\n",
       "      <td>...</td>\n",
       "    </tr>\n",
       "    <tr>\n",
       "      <th>2019-02-25</th>\n",
       "      <td>29.6930</td>\n",
       "      <td>25.8945</td>\n",
       "    </tr>\n",
       "    <tr>\n",
       "      <th>2019-02-26</th>\n",
       "      <td>29.7027</td>\n",
       "      <td>25.7781</td>\n",
       "    </tr>\n",
       "    <tr>\n",
       "      <th>2019-02-27</th>\n",
       "      <td>29.8585</td>\n",
       "      <td>26.2630</td>\n",
       "    </tr>\n",
       "    <tr>\n",
       "      <th>2019-02-28</th>\n",
       "      <td>29.0699</td>\n",
       "      <td>26.2436</td>\n",
       "    </tr>\n",
       "    <tr>\n",
       "      <th>2019-03-01</th>\n",
       "      <td>28.4274</td>\n",
       "      <td>25.8945</td>\n",
       "    </tr>\n",
       "  </tbody>\n",
       "</table>\n",
       "<p>250 rows × 2 columns</p>\n",
       "</div>"
      ],
      "text/plain": [
       "              PETR3    PETR4\n",
       "Data                        \n",
       "2018-02-27  22.2914  20.0038\n",
       "2018-02-28  22.3203  19.9665\n",
       "2018-03-01  21.9540  19.5665\n",
       "2018-03-02  22.3493  20.0131\n",
       "2018-03-05  22.9856  20.5806\n",
       "...             ...      ...\n",
       "2019-02-25  29.6930  25.8945\n",
       "2019-02-26  29.7027  25.7781\n",
       "2019-02-27  29.8585  26.2630\n",
       "2019-02-28  29.0699  26.2436\n",
       "2019-03-01  28.4274  25.8945\n",
       "\n",
       "[250 rows x 2 columns]"
      ]
     },
     "execution_count": 4,
     "metadata": {},
     "output_type": "execute_result"
    }
   ],
   "source": [
    "bd = bd.loc['2018-02-27': '2019-03-02']\n",
    "bd[['PETR3', 'PETR4']]"
   ]
  },
  {
   "cell_type": "code",
   "execution_count": 5,
   "id": "ba92011d",
   "metadata": {
    "ExecuteTime": {
     "end_time": "2022-08-06T00:56:58.483858Z",
     "start_time": "2022-08-06T00:56:58.171594Z"
    }
   },
   "outputs": [
    {
     "data": {
      "text/plain": [
       "<matplotlib.axes._subplots.AxesSubplot at 0x28b076e9a60>"
      ]
     },
     "execution_count": 5,
     "metadata": {},
     "output_type": "execute_result"
    },
    {
     "data": {
      "image/png": "[encoded data removed]",
      "text/plain": [
       "<Figure size 432x288 with 1 Axes>"
      ]
     },
     "metadata": {
      "needs_background": "light"
     },
     "output_type": "display_data"
    }
   ],
   "source": [
    "bd[['PETR3', 'PETR4']].plot(kind='scatter', x='PETR4', y='PETR3')"
   ]
  },
  {
   "cell_type": "code",
   "execution_count": 6,
   "id": "f878cbc1",
   "metadata": {
    "ExecuteTime": {
     "end_time": "2022-08-06T00:56:59.083637Z",
     "start_time": "2022-08-06T00:56:58.483858Z"
    }
   },
   "outputs": [
    {
     "data": {
      "image/png": "[encoded data removed]",
      "text/plain": [
       "<Figure size 432x288 with 1 Axes>"
      ]
     },
     "metadata": {
      "needs_background": "light"
     },
     "output_type": "display_data"
    }
   ],
   "source": [
    "a = sns.lineplot(y='LCAM3', x=bd.index, data=bd, label='LCAM3')\n",
    "a = sns.lineplot(y='SANB11', x=bd.index, data=bd, label='SANB11')\n",
    "\n",
    "a.set(yscale='log')\n",
    "\n",
    "plt.xlabel('Date')\n",
    "plt.ylabel('Prices')\n",
    "plt.show()"
   ]
  },
  {
   "cell_type": "code",
   "execution_count": 7,
   "id": "171d6494",
   "metadata": {
    "ExecuteTime": {
     "end_time": "2022-08-06T00:56:59.099600Z",
     "start_time": "2022-08-06T00:56:59.083637Z"
    }
   },
   "outputs": [],
   "source": [
    "coint = cointegracao.Cointegration(significance = 0.01, z_score_in=2)"
   ]
  },
  {
   "cell_type": "code",
   "execution_count": null,
   "id": "bf83b940",
   "metadata": {},
   "outputs": [],
   "source": []
  },
  {
   "cell_type": "code",
   "execution_count": 8,
   "id": "104d21d4",
   "metadata": {
    "ExecuteTime": {
     "end_time": "2022-08-06T00:56:59.115635Z",
     "start_time": "2022-08-06T00:56:59.107657Z"
    }
   },
   "outputs": [],
   "source": [
    "# i_1 = bd.apply(lambda col: coint.adf(col), axis=0)"
   ]
  },
  {
   "cell_type": "code",
   "execution_count": 9,
   "id": "ddcbce05",
   "metadata": {
    "ExecuteTime": {
     "end_time": "2022-08-06T00:57:01.227642Z",
     "start_time": "2022-08-06T00:56:59.123609Z"
    }
   },
   "outputs": [],
   "source": [
    "i_1 = [coint.adf(bd[col]) for col in bd.columns]\n",
    "i_1 = [ ele for ele in i_1 if ele is not None ]"
   ]
  },
  {
   "cell_type": "code",
   "execution_count": 10,
   "id": "8fc2adac",
   "metadata": {
    "ExecuteTime": {
     "end_time": "2022-08-06T00:57:01.243639Z",
     "start_time": "2022-08-06T00:57:01.227642Z"
    }
   },
   "outputs": [],
   "source": [
    "permut = list(combinations(i_1, 2))[:500]"
   ]
  },
  {
   "cell_type": "code",
   "execution_count": 11,
   "id": "e9d750cb",
   "metadata": {
    "ExecuteTime": {
     "end_time": "2022-08-06T00:57:06.587883Z",
     "start_time": "2022-08-06T00:57:01.243639Z"
    }
   },
   "outputs": [],
   "source": [
    "approved = []\n",
    "for pair in permut:\n",
    "    try:\n",
    "        coint_test = coint.cointegration_test(first_stock=bd[pair[0]], scnd_stock=bd[pair[1]])\n",
    "        if coint_test:\n",
    "            approved.append(pair)\n",
    "    except:\n",
    "        pass"
   ]
  },
  {
   "cell_type": "code",
   "execution_count": 12,
   "id": "905714b1",
   "metadata": {
    "ExecuteTime": {
     "end_time": "2022-08-06T00:57:06.611604Z",
     "start_time": "2022-08-06T00:57:06.587883Z"
    }
   },
   "outputs": [],
   "source": [
    "def cointegrated(pair):\n",
    "    try:\n",
    "        coint_test = coint.cointegration_test(first_stock=bd[pair[0]], scnd_stock=bd[pair[1]])\n",
    "        if coint_test:\n",
    "            approved.append(pair)\n",
    "            return pair\n",
    "    except:\n",
    "        pass"
   ]
  },
  {
   "cell_type": "code",
   "execution_count": 187,
   "id": "05afbf20",
   "metadata": {
    "ExecuteTime": {
     "end_time": "2022-08-06T00:56:04.270053Z",
     "start_time": "2022-08-06T00:56:04.246086Z"
    }
   },
   "outputs": [],
   "source": [
    "def executar():\n",
    "    if __name__ == '__main__':\n",
    "\n",
    "        with Pool(3) as p:\n",
    "            results = p.map(cointegrated, permut)\n",
    "\n",
    "        return results"
   ]
  },
  {
   "cell_type": "code",
   "execution_count": null,
   "id": "a671e402",
   "metadata": {
    "ExecuteTime": {
     "start_time": "2022-08-06T00:55:59.482Z"
    }
   },
   "outputs": [],
   "source": [
    "results = executar()\n",
    "print(results)"
   ]
  },
  {
   "cell_type": "code",
   "execution_count": null,
   "id": "91c3fdbb",
   "metadata": {
    "ExecuteTime": {
     "start_time": "2022-08-06T00:55:59.774Z"
    }
   },
   "outputs": [],
   "source": [
    "len(permut)"
   ]
  },
  {
   "cell_type": "code",
   "execution_count": null,
   "id": "efa5baed",
   "metadata": {
    "ExecuteTime": {
     "start_time": "2022-08-06T00:56:00.137Z"
    }
   },
   "outputs": [],
   "source": [
    "coint.cointegration_test(first_stock=bd['HGTX3'], scnd_stock=bd['LREN3'])"
   ]
  },
  {
   "cell_type": "code",
   "execution_count": null,
   "id": "d741bc1c",
   "metadata": {
    "ExecuteTime": {
     "start_time": "2022-08-06T00:56:00.565Z"
    }
   },
   "outputs": [],
   "source": [
    "coint.plot_prices()"
   ]
  },
  {
   "cell_type": "code",
   "execution_count": null,
   "id": "982d02d5",
   "metadata": {
    "ExecuteTime": {
     "start_time": "2022-08-06T00:56:01.110Z"
    }
   },
   "outputs": [],
   "source": [
    "coint.plot_scatter()"
   ]
  },
  {
   "cell_type": "code",
   "execution_count": null,
   "id": "7da7ad29",
   "metadata": {
    "ExecuteTime": {
     "start_time": "2022-08-06T00:56:01.527Z"
    }
   },
   "outputs": [],
   "source": [
    "coint.plot_resid_bounds()"
   ]
  },
  {
   "cell_type": "code",
   "execution_count": null,
   "id": "25d3116b",
   "metadata": {
    "ExecuteTime": {
     "start_time": "2022-08-06T00:56:01.925Z"
    }
   },
   "outputs": [],
   "source": [
    "ts.adfuller(coint.residuals)"
   ]
  },
  {
   "cell_type": "code",
   "execution_count": 13,
   "id": "2fb17156",
   "metadata": {
    "ExecuteTime": {
     "end_time": "2022-08-06T00:57:15.793566Z",
     "start_time": "2022-08-06T00:57:15.769606Z"
    }
   },
   "outputs": [],
   "source": [
    "Y = bd['PETR3']\n",
    "X = bd['PETR4']\n",
    "X = sm.add_constant(X)\n",
    "model = sm.OLS(Y, X)\n",
    "reg = model.fit()"
   ]
  },
  {
   "cell_type": "code",
   "execution_count": 14,
   "id": "9ed0f33c",
   "metadata": {
    "ExecuteTime": {
     "end_time": "2022-08-06T00:57:16.582109Z",
     "start_time": "2022-08-06T00:57:16.566110Z"
    }
   },
   "outputs": [
    {
     "data": {
      "text/plain": [
       "const    1.751135\n",
       "PETR4    1.074009\n",
       "dtype: float64"
      ]
     },
     "execution_count": 14,
     "metadata": {},
     "output_type": "execute_result"
    }
   ],
   "source": [
    "reg.params"
   ]
  },
  {
   "cell_type": "code",
   "execution_count": 15,
   "id": "6f41b3b4",
   "metadata": {
    "ExecuteTime": {
     "end_time": "2022-08-06T00:57:20.675553Z",
     "start_time": "2022-08-06T00:57:20.195540Z"
    }
   },
   "outputs": [
    {
     "data": {
      "image/png": "[encoded data removed]",
      "text/plain": [
       "<Figure size 432x288 with 1 Axes>"
      ]
     },
     "metadata": {
      "needs_background": "light"
     },
     "output_type": "display_data"
    }
   ],
   "source": [
    "sns.scatterplot(x=bd['PETR4'], y=bd['PETR3'])\n",
    "sns.lineplot(x=bd['PETR4'], y=reg.fittedvalues, color='red')\n",
    "plt.show()"
   ]
  },
  {
   "cell_type": "code",
   "execution_count": 17,
   "id": "99b17f03",
   "metadata": {
    "ExecuteTime": {
     "end_time": "2022-08-06T00:57:22.617562Z",
     "start_time": "2022-08-06T00:57:22.601527Z"
    }
   },
   "outputs": [],
   "source": [
    "resid = reg.resid\n",
    "resid_mean = resid.mean()\n",
    "k = 2\n",
    "upper = resid.std() * k\n",
    "lower = resid.std() * -k"
   ]
  },
  {
   "cell_type": "code",
   "execution_count": 32,
   "id": "cdfcc945",
   "metadata": {
    "ExecuteTime": {
     "end_time": "2022-08-06T01:05:15.019249Z",
     "start_time": "2022-08-06T01:05:14.819250Z"
    }
   },
   "outputs": [
    {
     "data": {
      "image/png": "[encoded data removed]",
      "text/plain": [
       "<Figure size 432x288 with 1 Axes>"
      ]
     },
     "metadata": {
      "needs_background": "light"
     },
     "output_type": "display_data"
    }
   ],
   "source": [
    "sns.lineplot(y=resid, x=resid.index)\n",
    "sns.scatterplot(y=resid, x=resid.index, color='red')\n",
    "\n",
    "\n",
    "plt.axhline(y=resid_mean, color='y', linestyle='--', linewidth=1, label='Mean')\n",
    "plt.axhline(y=upper,   color='b', linestyle='--', linewidth=1, label=f'+/-{k} z-score')\n",
    "plt.axhline(y=lower, color='b', linestyle='--', linewidth=1, label='_nolegend_')\n",
    "\n",
    "plt.xlabel('date')\n",
    "plt.ylabel('Residuals')\n",
    "\n",
    "plt.legend()\n",
    "plt.show()"
   ]
  },
  {
   "cell_type": "code",
   "execution_count": 33,
   "id": "4f3ec28e",
   "metadata": {
    "ExecuteTime": {
     "end_time": "2022-08-06T01:06:17.785056Z",
     "start_time": "2022-08-06T01:06:17.761055Z"
    }
   },
   "outputs": [
    {
     "data": {
      "text/plain": [
       "array([-1.13466334])"
      ]
     },
     "execution_count": 33,
     "metadata": {},
     "output_type": "execute_result"
    }
   ],
   "source": [
    "28.4274-reg.predict([1, 25.8945])"
   ]
  },
  {
   "cell_type": "code",
   "execution_count": 21,
   "id": "30455707",
   "metadata": {
    "ExecuteTime": {
     "end_time": "2022-08-06T01:00:41.592437Z",
     "start_time": "2022-08-06T01:00:41.576405Z"
    }
   },
   "outputs": [
    {
     "data": {
      "text/html": [
       "<div>\n",
       "<style scoped>\n",
       "    .dataframe tbody tr th:only-of-type {\n",
       "        vertical-align: middle;\n",
       "    }\n",
       "\n",
       "    .dataframe tbody tr th {\n",
       "        vertical-align: top;\n",
       "    }\n",
       "\n",
       "    .dataframe thead th {\n",
       "        text-align: right;\n",
       "    }\n",
       "</style>\n",
       "<table border=\"1\" class=\"dataframe\">\n",
       "  <thead>\n",
       "    <tr style=\"text-align: right;\">\n",
       "      <th></th>\n",
       "      <th>PETR4</th>\n",
       "      <th>PETR3</th>\n",
       "    </tr>\n",
       "    <tr>\n",
       "      <th>Data</th>\n",
       "      <th></th>\n",
       "      <th></th>\n",
       "    </tr>\n",
       "  </thead>\n",
       "  <tbody>\n",
       "    <tr>\n",
       "      <th>2018-02-27</th>\n",
       "      <td>20.0038</td>\n",
       "      <td>22.2914</td>\n",
       "    </tr>\n",
       "    <tr>\n",
       "      <th>2018-02-28</th>\n",
       "      <td>19.9665</td>\n",
       "      <td>22.3203</td>\n",
       "    </tr>\n",
       "    <tr>\n",
       "      <th>2018-03-01</th>\n",
       "      <td>19.5665</td>\n",
       "      <td>21.9540</td>\n",
       "    </tr>\n",
       "    <tr>\n",
       "      <th>2018-03-02</th>\n",
       "      <td>20.0131</td>\n",
       "      <td>22.3493</td>\n",
       "    </tr>\n",
       "    <tr>\n",
       "      <th>2018-03-05</th>\n",
       "      <td>20.5806</td>\n",
       "      <td>22.9856</td>\n",
       "    </tr>\n",
       "    <tr>\n",
       "      <th>...</th>\n",
       "      <td>...</td>\n",
       "      <td>...</td>\n",
       "    </tr>\n",
       "    <tr>\n",
       "      <th>2019-02-25</th>\n",
       "      <td>25.8945</td>\n",
       "      <td>29.6930</td>\n",
       "    </tr>\n",
       "    <tr>\n",
       "      <th>2019-02-26</th>\n",
       "      <td>25.7781</td>\n",
       "      <td>29.7027</td>\n",
       "    </tr>\n",
       "    <tr>\n",
       "      <th>2019-02-27</th>\n",
       "      <td>26.2630</td>\n",
       "      <td>29.8585</td>\n",
       "    </tr>\n",
       "    <tr>\n",
       "      <th>2019-02-28</th>\n",
       "      <td>26.2436</td>\n",
       "      <td>29.0699</td>\n",
       "    </tr>\n",
       "    <tr>\n",
       "      <th>2019-03-01</th>\n",
       "      <td>25.8945</td>\n",
       "      <td>28.4274</td>\n",
       "    </tr>\n",
       "  </tbody>\n",
       "</table>\n",
       "<p>250 rows × 2 columns</p>\n",
       "</div>"
      ],
      "text/plain": [
       "              PETR4    PETR3\n",
       "Data                        \n",
       "2018-02-27  20.0038  22.2914\n",
       "2018-02-28  19.9665  22.3203\n",
       "2018-03-01  19.5665  21.9540\n",
       "2018-03-02  20.0131  22.3493\n",
       "2018-03-05  20.5806  22.9856\n",
       "...             ...      ...\n",
       "2019-02-25  25.8945  29.6930\n",
       "2019-02-26  25.7781  29.7027\n",
       "2019-02-27  26.2630  29.8585\n",
       "2019-02-28  26.2436  29.0699\n",
       "2019-03-01  25.8945  28.4274\n",
       "\n",
       "[250 rows x 2 columns]"
      ]
     },
     "execution_count": 21,
     "metadata": {},
     "output_type": "execute_result"
    }
   ],
   "source": [
    "bd[['PETR4','PETR3']]"
   ]
  },
  {
   "cell_type": "code",
   "execution_count": 18,
   "id": "9a39ec1d",
   "metadata": {
    "ExecuteTime": {
     "end_time": "2022-07-27T16:37:46.847782Z",
     "start_time": "2022-07-27T16:37:46.807810Z"
    }
   },
   "outputs": [],
   "source": [
    "adf_resid = ts.adfuller(resid)"
   ]
  },
  {
   "cell_type": "code",
   "execution_count": 19,
   "id": "5f8c7340",
   "metadata": {
    "ExecuteTime": {
     "end_time": "2022-07-27T16:37:46.863776Z",
     "start_time": "2022-07-27T16:37:46.847782Z"
    }
   },
   "outputs": [
    {
     "data": {
      "text/plain": [
       "0.0028927625394583384"
      ]
     },
     "execution_count": 19,
     "metadata": {},
     "output_type": "execute_result"
    }
   ],
   "source": [
    "resid_pvalue = adf_resid[1]\n",
    "resid_pvalue"
   ]
  },
  {
   "cell_type": "code",
   "execution_count": 20,
   "id": "6474b503",
   "metadata": {
    "ExecuteTime": {
     "end_time": "2022-07-27T16:37:46.903775Z",
     "start_time": "2022-07-27T16:37:46.863776Z"
    }
   },
   "outputs": [
    {
     "data": {
      "text/html": [
       "<table class=\"simpletable\">\n",
       "<caption>OLS Regression Results</caption>\n",
       "<tr>\n",
       "  <th>Dep. Variable:</th>          <td>PETR3</td>      <th>  R-squared:         </th> <td>   0.979</td> \n",
       "</tr>\n",
       "<tr>\n",
       "  <th>Model:</th>                   <td>OLS</td>       <th>  Adj. R-squared:    </th> <td>   0.979</td> \n",
       "</tr>\n",
       "<tr>\n",
       "  <th>Method:</th>             <td>Least Squares</td>  <th>  F-statistic:       </th> <td>1.155e+04</td>\n",
       "</tr>\n",
       "<tr>\n",
       "  <th>Date:</th>             <td>Wed, 27 Jul 2022</td> <th>  Prob (F-statistic):</th> <td>4.95e-210</td>\n",
       "</tr>\n",
       "<tr>\n",
       "  <th>Time:</th>                 <td>13:37:46</td>     <th>  Log-Likelihood:    </th> <td> -197.09</td> \n",
       "</tr>\n",
       "<tr>\n",
       "  <th>No. Observations:</th>      <td>   250</td>      <th>  AIC:               </th> <td>   398.2</td> \n",
       "</tr>\n",
       "<tr>\n",
       "  <th>Df Residuals:</th>          <td>   248</td>      <th>  BIC:               </th> <td>   405.2</td> \n",
       "</tr>\n",
       "<tr>\n",
       "  <th>Df Model:</th>              <td>     1</td>      <th>                     </th>     <td> </td>    \n",
       "</tr>\n",
       "<tr>\n",
       "  <th>Covariance Type:</th>      <td>nonrobust</td>    <th>                     </th>     <td> </td>    \n",
       "</tr>\n",
       "</table>\n",
       "<table class=\"simpletable\">\n",
       "<tr>\n",
       "    <td></td>       <th>coef</th>     <th>std err</th>      <th>t</th>      <th>P>|t|</th>  <th>[0.025</th>    <th>0.975]</th>  \n",
       "</tr>\n",
       "<tr>\n",
       "  <th>const</th> <td>    1.7511</td> <td>    0.211</td> <td>    8.309</td> <td> 0.000</td> <td>    1.336</td> <td>    2.166</td>\n",
       "</tr>\n",
       "<tr>\n",
       "  <th>PETR4</th> <td>    1.0740</td> <td>    0.010</td> <td>  107.493</td> <td> 0.000</td> <td>    1.054</td> <td>    1.094</td>\n",
       "</tr>\n",
       "</table>\n",
       "<table class=\"simpletable\">\n",
       "<tr>\n",
       "  <th>Omnibus:</th>       <td> 0.194</td> <th>  Durbin-Watson:     </th> <td>   0.146</td>\n",
       "</tr>\n",
       "<tr>\n",
       "  <th>Prob(Omnibus):</th> <td> 0.908</td> <th>  Jarque-Bera (JB):  </th> <td>   0.260</td>\n",
       "</tr>\n",
       "<tr>\n",
       "  <th>Skew:</th>          <td> 0.065</td> <th>  Prob(JB):          </th> <td>   0.878</td>\n",
       "</tr>\n",
       "<tr>\n",
       "  <th>Kurtosis:</th>      <td> 2.909</td> <th>  Cond. No.          </th> <td>    132.</td>\n",
       "</tr>\n",
       "</table><br/><br/>Notes:<br/>[1] Standard Errors assume that the covariance matrix of the errors is correctly specified."
      ],
      "text/plain": [
       "<class 'statsmodels.iolib.summary.Summary'>\n",
       "\"\"\"\n",
       "                            OLS Regression Results                            \n",
       "==============================================================================\n",
       "Dep. Variable:                  PETR3   R-squared:                       0.979\n",
       "Model:                            OLS   Adj. R-squared:                  0.979\n",
       "Method:                 Least Squares   F-statistic:                 1.155e+04\n",
       "Date:                Wed, 27 Jul 2022   Prob (F-statistic):          4.95e-210\n",
       "Time:                        13:37:46   Log-Likelihood:                -197.09\n",
       "No. Observations:                 250   AIC:                             398.2\n",
       "Df Residuals:                     248   BIC:                             405.2\n",
       "Df Model:                           1                                         \n",
       "Covariance Type:            nonrobust                                         \n",
       "==============================================================================\n",
       "                 coef    std err          t      P>|t|      [0.025      0.975]\n",
       "------------------------------------------------------------------------------\n",
       "const          1.7511      0.211      8.309      0.000       1.336       2.166\n",
       "PETR4          1.0740      0.010    107.493      0.000       1.054       1.094\n",
       "==============================================================================\n",
       "Omnibus:                        0.194   Durbin-Watson:                   0.146\n",
       "Prob(Omnibus):                  0.908   Jarque-Bera (JB):                0.260\n",
       "Skew:                           0.065   Prob(JB):                        0.878\n",
       "Kurtosis:                       2.909   Cond. No.                         132.\n",
       "==============================================================================\n",
       "\n",
       "Notes:\n",
       "[1] Standard Errors assume that the covariance matrix of the errors is correctly specified.\n",
       "\"\"\""
      ]
     },
     "execution_count": 20,
     "metadata": {},
     "output_type": "execute_result"
    }
   ],
   "source": [
    "reg.summary()"
   ]
  },
  {
   "cell_type": "code",
   "execution_count": 21,
   "id": "a12940f2",
   "metadata": {
    "ExecuteTime": {
     "end_time": "2022-07-27T16:37:46.967781Z",
     "start_time": "2022-07-27T16:37:46.903775Z"
    }
   },
   "outputs": [
    {
     "data": {
      "text/plain": [
       "['HC0_se',\n",
       " 'HC1_se',\n",
       " 'HC2_se',\n",
       " 'HC3_se',\n",
       " '_HCCM',\n",
       " '__class__',\n",
       " '__delattr__',\n",
       " '__dict__',\n",
       " '__dir__',\n",
       " '__doc__',\n",
       " '__eq__',\n",
       " '__format__',\n",
       " '__ge__',\n",
       " '__getattribute__',\n",
       " '__gt__',\n",
       " '__hash__',\n",
       " '__init__',\n",
       " '__init_subclass__',\n",
       " '__le__',\n",
       " '__lt__',\n",
       " '__module__',\n",
       " '__ne__',\n",
       " '__new__',\n",
       " '__reduce__',\n",
       " '__reduce_ex__',\n",
       " '__repr__',\n",
       " '__setattr__',\n",
       " '__sizeof__',\n",
       " '__str__',\n",
       " '__subclasshook__',\n",
       " '__weakref__',\n",
       " '_abat_diagonal',\n",
       " '_cache',\n",
       " '_data_attr',\n",
       " '_data_in_cache',\n",
       " '_get_robustcov_results',\n",
       " '_is_nested',\n",
       " '_use_t',\n",
       " '_wexog_singular_values',\n",
       " 'aic',\n",
       " 'bic',\n",
       " 'bse',\n",
       " 'centered_tss',\n",
       " 'compare_f_test',\n",
       " 'compare_lm_test',\n",
       " 'compare_lr_test',\n",
       " 'condition_number',\n",
       " 'conf_int',\n",
       " 'conf_int_el',\n",
       " 'cov_HC0',\n",
       " 'cov_HC1',\n",
       " 'cov_HC2',\n",
       " 'cov_HC3',\n",
       " 'cov_kwds',\n",
       " 'cov_params',\n",
       " 'cov_type',\n",
       " 'df_model',\n",
       " 'df_resid',\n",
       " 'diagn',\n",
       " 'eigenvals',\n",
       " 'el_test',\n",
       " 'ess',\n",
       " 'f_pvalue',\n",
       " 'f_test',\n",
       " 'fittedvalues',\n",
       " 'fvalue',\n",
       " 'get_influence',\n",
       " 'get_prediction',\n",
       " 'get_robustcov_results',\n",
       " 'info_criteria',\n",
       " 'initialize',\n",
       " 'k_constant',\n",
       " 'llf',\n",
       " 'load',\n",
       " 'model',\n",
       " 'mse_model',\n",
       " 'mse_resid',\n",
       " 'mse_total',\n",
       " 'nobs',\n",
       " 'normalized_cov_params',\n",
       " 'outlier_test',\n",
       " 'params',\n",
       " 'predict',\n",
       " 'pvalues',\n",
       " 'remove_data',\n",
       " 'resid',\n",
       " 'resid_pearson',\n",
       " 'rsquared',\n",
       " 'rsquared_adj',\n",
       " 'save',\n",
       " 'scale',\n",
       " 'ssr',\n",
       " 'summary',\n",
       " 'summary2',\n",
       " 't_test',\n",
       " 't_test_pairwise',\n",
       " 'tvalues',\n",
       " 'uncentered_tss',\n",
       " 'use_t',\n",
       " 'wald_test',\n",
       " 'wald_test_terms',\n",
       " 'wresid']"
      ]
     },
     "execution_count": 21,
     "metadata": {},
     "output_type": "execute_result"
    }
   ],
   "source": [
    "dir(reg)"
   ]
  },
  {
   "cell_type": "code",
   "execution_count": 3,
   "id": "32b3b0ec",
   "metadata": {
    "ExecuteTime": {
     "end_time": "2022-07-28T15:36:20.811878Z",
     "start_time": "2022-07-28T15:36:20.795881Z"
    }
   },
   "outputs": [],
   "source": [
    "import backtest"
   ]
  },
  {
   "cell_type": "code",
   "execution_count": 4,
   "id": "b0b0169e",
   "metadata": {
    "ExecuteTime": {
     "end_time": "2022-07-28T15:36:21.171886Z",
     "start_time": "2022-07-28T15:36:21.163882Z"
    }
   },
   "outputs": [],
   "source": [
    "res = backtest.executar()"
   ]
  },
  {
   "cell_type": "code",
   "execution_count": 69,
   "id": "5c7a620f",
   "metadata": {
    "ExecuteTime": {
     "end_time": "2022-08-05T14:26:31.427559Z",
     "start_time": "2022-08-05T14:26:31.405559Z"
    }
   },
   "outputs": [],
   "source": [
    "from statsmodels.tsa.api import VAR\n",
    "import numpy as np"
   ]
  },
  {
   "cell_type": "code",
   "execution_count": 19,
   "id": "5a37d4f7",
   "metadata": {
    "ExecuteTime": {
     "end_time": "2022-08-05T13:02:21.094854Z",
     "start_time": "2022-08-05T13:02:21.085845Z"
    }
   },
   "outputs": [],
   "source": [
    "def undiff(original_df, diff_serie, periods):\n",
    "    \n",
    "    \"\"\"Opposite to differentiate to return in level values to compare\"\"\"\n",
    "    restored = {}\n",
    "    for index, value in diff_serie.items():\n",
    "        \n",
    "        date_offset = index - pd.DateOffset(days=periods)\n",
    "        \n",
    "        if date_offset in original_df.index:\n",
    "            restored[index] = original_df.loc[date_offset] + value\n",
    "        else:\n",
    "            restored[index] = restored[date_offset] + value\n",
    "        \n",
    "    return pd.DataFrame(restored).T"
   ]
  },
  {
   "cell_type": "code",
   "execution_count": 2,
   "id": "ed9252db",
   "metadata": {
    "ExecuteTime": {
     "end_time": "2022-08-05T12:55:01.046061Z",
     "start_time": "2022-08-05T12:54:54.357007Z"
    }
   },
   "outputs": [],
   "source": [
    "df = pd.read_excel('database.xlsx')"
   ]
  },
  {
   "cell_type": "code",
   "execution_count": 49,
   "id": "6c7621b0",
   "metadata": {
    "ExecuteTime": {
     "end_time": "2022-08-05T13:09:36.763589Z",
     "start_time": "2022-08-05T13:09:36.743590Z"
    }
   },
   "outputs": [],
   "source": [
    "df_model = df[['PETR3', 'PETR4']][:-10].dropna()\n",
    "df_test = df[['PETR3', 'PETR4']][-10:]"
   ]
  },
  {
   "cell_type": "code",
   "execution_count": 63,
   "id": "41478766",
   "metadata": {
    "ExecuteTime": {
     "end_time": "2022-08-05T13:10:35.037416Z",
     "start_time": "2022-08-05T13:10:34.604818Z"
    }
   },
   "outputs": [],
   "source": [
    "var_model = VAR(df_model.values)\n",
    "\n",
    "model_fitted = var_model.fit(252, trend='ct')"
   ]
  },
  {
   "cell_type": "code",
   "execution_count": 64,
   "id": "3e72015d",
   "metadata": {
    "ExecuteTime": {
     "end_time": "2022-08-05T13:10:35.069430Z",
     "start_time": "2022-08-05T13:10:35.040421Z"
    }
   },
   "outputs": [],
   "source": [
    "model_predict = model_fitted.forecast(y=df_model.values, steps=10)"
   ]
  },
  {
   "cell_type": "code",
   "execution_count": 65,
   "id": "ecc18bdd",
   "metadata": {
    "ExecuteTime": {
     "end_time": "2022-08-05T13:10:36.035332Z",
     "start_time": "2022-08-05T13:10:35.870378Z"
    }
   },
   "outputs": [
    {
     "data": {
      "text/plain": [
       "<matplotlib.axes._subplots.AxesSubplot at 0x19bcc1f7f70>"
      ]
     },
     "execution_count": 65,
     "metadata": {},
     "output_type": "execute_result"
    },
    {
     "data": {
      "image/png": "[encoded data removed]",
      "text/plain": [
       "<Figure size 432x288 with 1 Axes>"
      ]
     },
     "metadata": {
      "needs_background": "light"
     },
     "output_type": "display_data"
    }
   ],
   "source": [
    "pd.DataFrame(model_predict).plot()"
   ]
  },
  {
   "cell_type": "code",
   "execution_count": 66,
   "id": "14406e99",
   "metadata": {
    "ExecuteTime": {
     "end_time": "2022-08-05T13:10:37.279936Z",
     "start_time": "2022-08-05T13:10:37.047949Z"
    }
   },
   "outputs": [
    {
     "data": {
      "text/plain": [
       "<matplotlib.axes._subplots.AxesSubplot at 0x19bcd230d00>"
      ]
     },
     "execution_count": 66,
     "metadata": {},
     "output_type": "execute_result"
    },
    {
     "data": {
      "image/png": "[encoded data removed]",
      "text/plain": [
       "<Figure size 432x288 with 1 Axes>"
      ]
     },
     "metadata": {
      "needs_background": "light"
     },
     "output_type": "display_data"
    }
   ],
   "source": [
    "df_test.plot()"
   ]
  },
  {
   "cell_type": "code",
   "execution_count": 27,
   "id": "4ef971ee",
   "metadata": {
    "ExecuteTime": {
     "end_time": "2022-08-05T13:05:24.191732Z",
     "start_time": "2022-08-05T13:05:24.152341Z"
    }
   },
   "outputs": [
    {
     "ename": "TypeError",
     "evalue": "unsupported operand type(s) for -: 'int' and 'DateOffset'",
     "output_type": "error",
     "traceback": [
      "\u001b[1;31m---------------------------------------------------------------------------\u001b[0m",
      "\u001b[1;31mTypeError\u001b[0m                                 Traceback (most recent call last)",
      "\u001b[1;32m<ipython-input-27-82545f362a1c>\u001b[0m in \u001b[0;36m<module>\u001b[1;34m\u001b[0m\n\u001b[1;32m----> 1\u001b[1;33m \u001b[0mundiff\u001b[0m\u001b[1;33m(\u001b[0m\u001b[0mdf_test\u001b[0m\u001b[1;33m[\u001b[0m\u001b[1;33m[\u001b[0m\u001b[1;34m'PETR4'\u001b[0m\u001b[1;33m]\u001b[0m\u001b[1;33m]\u001b[0m\u001b[1;33m,\u001b[0m \u001b[0mpd\u001b[0m\u001b[1;33m.\u001b[0m\u001b[0mDataFrame\u001b[0m\u001b[1;33m(\u001b[0m\u001b[0mmodel_predict\u001b[0m\u001b[1;33m)\u001b[0m\u001b[1;33m[\u001b[0m\u001b[1;36m1\u001b[0m\u001b[1;33m]\u001b[0m\u001b[1;33m,\u001b[0m \u001b[1;36m10\u001b[0m\u001b[1;33m)\u001b[0m\u001b[1;33m\u001b[0m\u001b[1;33m\u001b[0m\u001b[0m\n\u001b[0m",
      "\u001b[1;32m<ipython-input-19-1432fe20c6b1>\u001b[0m in \u001b[0;36mundiff\u001b[1;34m(original_df, diff_serie, periods)\u001b[0m\n\u001b[0;32m      5\u001b[0m     \u001b[1;32mfor\u001b[0m \u001b[0mindex\u001b[0m\u001b[1;33m,\u001b[0m \u001b[0mvalue\u001b[0m \u001b[1;32min\u001b[0m \u001b[0mdiff_serie\u001b[0m\u001b[1;33m.\u001b[0m\u001b[0mitems\u001b[0m\u001b[1;33m(\u001b[0m\u001b[1;33m)\u001b[0m\u001b[1;33m:\u001b[0m\u001b[1;33m\u001b[0m\u001b[1;33m\u001b[0m\u001b[0m\n\u001b[0;32m      6\u001b[0m \u001b[1;33m\u001b[0m\u001b[0m\n\u001b[1;32m----> 7\u001b[1;33m         \u001b[0mdate_offset\u001b[0m \u001b[1;33m=\u001b[0m \u001b[0mindex\u001b[0m \u001b[1;33m-\u001b[0m \u001b[0mpd\u001b[0m\u001b[1;33m.\u001b[0m\u001b[0mDateOffset\u001b[0m\u001b[1;33m(\u001b[0m\u001b[0mdays\u001b[0m\u001b[1;33m=\u001b[0m\u001b[0mperiods\u001b[0m\u001b[1;33m)\u001b[0m\u001b[1;33m\u001b[0m\u001b[1;33m\u001b[0m\u001b[0m\n\u001b[0m\u001b[0;32m      8\u001b[0m \u001b[1;33m\u001b[0m\u001b[0m\n\u001b[0;32m      9\u001b[0m         \u001b[1;32mif\u001b[0m \u001b[0mdate_offset\u001b[0m \u001b[1;32min\u001b[0m \u001b[0moriginal_df\u001b[0m\u001b[1;33m.\u001b[0m\u001b[0mindex\u001b[0m\u001b[1;33m:\u001b[0m\u001b[1;33m\u001b[0m\u001b[1;33m\u001b[0m\u001b[0m\n",
      "\u001b[1;31mTypeError\u001b[0m: unsupported operand type(s) for -: 'int' and 'DateOffset'"
     ]
    }
   ],
   "source": [
    "undiff(df_test[['PETR4']], pd.DataFrame(model_predict)[1], 10)"
   ]
  },
  {
   "cell_type": "code",
   "execution_count": 387,
   "id": "0794e515",
   "metadata": {
    "ExecuteTime": {
     "end_time": "2022-08-06T23:42:39.334817Z",
     "start_time": "2022-08-06T23:42:39.318818Z"
    }
   },
   "outputs": [],
   "source": [
    "import backtest\n",
    "from cointegracao import Cointegration\n",
    "import pandas as pd\n",
    "import numpy as np\n",
    "import statsmodels.api as sm\n",
    "from copy import deepcopy\n",
    "import statsmodels.tsa.stattools as ts\n",
    "from sklearn.linear_model import LinearRegression\n",
    "from statsmodels.regression.rolling import RollingRegressionResults"
   ]
  },
  {
   "cell_type": "code",
   "execution_count": 399,
   "id": "8dfd1dd5",
   "metadata": {
    "ExecuteTime": {
     "end_time": "2022-08-06T23:52:40.447163Z",
     "start_time": "2022-08-06T23:52:39.316691Z"
    }
   },
   "outputs": [],
   "source": [
    "df_prices = pd.read_excel('database.xlsx', index_col=0)"
   ]
  },
  {
   "cell_type": "code",
   "execution_count": 224,
   "id": "f726bd35",
   "metadata": {
    "ExecuteTime": {
     "end_time": "2022-08-06T19:42:43.798677Z",
     "start_time": "2022-08-06T19:42:43.782965Z"
    }
   },
   "outputs": [],
   "source": [
    "e = backtest.Executer(df_prices, [('PETR3', 'PETR4')], Cointegration())"
   ]
  },
  {
   "cell_type": "code",
   "execution_count": 225,
   "id": "9edf78b5",
   "metadata": {
    "ExecuteTime": {
     "end_time": "2022-08-06T19:42:43.830676Z",
     "start_time": "2022-08-06T19:42:43.798677Z"
    }
   },
   "outputs": [],
   "source": [
    "# df_prices = df_prices.loc[:'2021-12-29'][-252:]"
   ]
  },
  {
   "cell_type": "code",
   "execution_count": 528,
   "id": "ecb0d42f",
   "metadata": {
    "ExecuteTime": {
     "end_time": "2022-08-07T15:21:23.211109Z",
     "start_time": "2022-08-07T15:21:23.118161Z"
    }
   },
   "outputs": [],
   "source": [
    "x = df_prices['PETR3'] #1\n",
    "y = df_prices['PETR4'] #2\n",
    "\n",
    "x = sm.add_constant(x)\n",
    "model = sm.OLS(y, x)\n",
    "\n",
    "reg = model.fit()"
   ]
  },
  {
   "cell_type": "code",
   "execution_count": 529,
   "id": "794c8d45",
   "metadata": {
    "ExecuteTime": {
     "end_time": "2022-08-07T15:21:23.982000Z",
     "start_time": "2022-08-07T15:21:23.535730Z"
    }
   },
   "outputs": [
    {
     "data": {
      "text/plain": [
       "<matplotlib.axes._subplots.AxesSubplot at 0x28b0edbc190>"
      ]
     },
     "execution_count": 529,
     "metadata": {},
     "output_type": "execute_result"
    },
    {
     "data": {
      "image/png": "[encoded data removed]",
      "text/plain": [
       "<Figure size 432x288 with 1 Axes>"
      ]
     },
     "metadata": {
      "needs_background": "light"
     },
     "output_type": "display_data"
    }
   ],
   "source": [
    "reg.resid.plot()"
   ]
  },
  {
   "cell_type": "code",
   "execution_count": 567,
   "id": "47e71c4e",
   "metadata": {
    "ExecuteTime": {
     "end_time": "2022-08-08T00:07:27.391537Z",
     "start_time": "2022-08-08T00:07:27.343523Z"
    }
   },
   "outputs": [],
   "source": [
    "residual = reg.resid\n",
    "residual_lag = reg.resid.diff().fillna(method='bfill')\n",
    "\n",
    "x_res_lag = sm.add_constant(residual_lag)\n",
    "\n",
    "model = sm.OLS(x_res_lag, reg.resid)\n",
    "\n",
    "res = model.fit()"
   ]
  },
  {
   "cell_type": "code",
   "execution_count": 568,
   "id": "1b145979",
   "metadata": {
    "ExecuteTime": {
     "end_time": "2022-08-08T00:07:27.864005Z",
     "start_time": "2022-08-08T00:07:27.840006Z"
    }
   },
   "outputs": [
    {
     "data": {
      "text/plain": [
       "60.0"
      ]
     },
     "execution_count": 568,
     "metadata": {},
     "output_type": "execute_result"
    }
   ],
   "source": [
    "halflife = round(np.log(2)/(res.params[1])).item()\n",
    "halflife"
   ]
  },
  {
   "cell_type": "code",
   "execution_count": 118,
   "id": "2f86ddd7",
   "metadata": {
    "ExecuteTime": {
     "end_time": "2022-08-06T18:40:51.694487Z",
     "start_time": "2022-08-06T18:40:51.670451Z"
    }
   },
   "outputs": [
    {
     "data": {
      "text/plain": [
       "0.6931471805599453"
      ]
     },
     "execution_count": 118,
     "metadata": {},
     "output_type": "execute_result"
    }
   ],
   "source": [
    "np.log(2)"
   ]
  },
  {
   "cell_type": "code",
   "execution_count": 119,
   "id": "e2bc0b89",
   "metadata": {
    "ExecuteTime": {
     "end_time": "2022-08-06T18:40:58.222168Z",
     "start_time": "2022-08-06T18:40:57.994445Z"
    }
   },
   "outputs": [
    {
     "data": {
      "text/plain": [
       "<matplotlib.axes._subplots.AxesSubplot at 0x28b0accca00>"
      ]
     },
     "execution_count": 119,
     "metadata": {},
     "output_type": "execute_result"
    },
    {
     "data": {
      "image/png": "[encoded data removed]",
      "text/plain": [
       "<Figure size 432x288 with 1 Axes>"
      ]
     },
     "metadata": {
      "needs_background": "light"
     },
     "output_type": "display_data"
    }
   ],
   "source": [
    "reg.resid.plot()"
   ]
  },
  {
   "cell_type": "code",
   "execution_count": 55,
   "id": "74bd84d8",
   "metadata": {
    "ExecuteTime": {
     "end_time": "2022-08-06T18:26:34.879121Z",
     "start_time": "2022-08-06T18:26:24.522499Z"
    }
   },
   "outputs": [
    {
     "data": {
      "text/plain": [
       "[{'date': Timestamp('2019-03-08 00:00:00'),\n",
       "  'pair': ('PETR3', 'PETR4'),\n",
       "  'status': True,\n",
       "  'price_fst_stock': 19.42,\n",
       "  'price_scnd_stock': 17.43,\n",
       "  'beta_open': 1.0947309466742494,\n",
       "  'beta_close': None,\n",
       "  'last_residual': -0.8202796626091349,\n",
       "  'std_residual': 0.37707610856726015,\n",
       "  'std_open_residual': 0.37707610856726015,\n",
       "  'residual_open': -0.8202796626091349,\n",
       "  'open_price_first_stock': 19.42,\n",
       "  'open_price_scnd_stock': 17.43,\n",
       "  'open_date': Timestamp('2019-03-08 00:00:00'),\n",
       "  'close_limit': 0.18853805428359513,\n",
       "  'stop_limit': 1.7541522171344854,\n",
       "  'halflife': 10.0,\n",
       "  'days_open': 0},\n",
       " {'date': Timestamp('2019-03-11 00:00:00'),\n",
       "  'pair': ('PETR3', 'PETR4'),\n",
       "  'status': True,\n",
       "  'price_fst_stock': 20.52,\n",
       "  'price_scnd_stock': 18.13,\n",
       "  'beta_open': 1.0947309466742494,\n",
       "  'beta_close': None,\n",
       "  'last_residual': -0.48024879401475573,\n",
       "  'std_residual': 0.3762621198681272,\n",
       "  'std_open_residual': 0.37707610856726015,\n",
       "  'residual_open': -0.8202796626091349,\n",
       "  'open_price_first_stock': 19.42,\n",
       "  'open_price_scnd_stock': 17.43,\n",
       "  'open_date': Timestamp('2019-03-08 00:00:00'),\n",
       "  'close_limit': 0.18853805428359513,\n",
       "  'stop_limit': 1.7541522171344854,\n",
       "  'halflife': 10.0,\n",
       "  'days_open': 1},\n",
       " {'date': Timestamp('2019-03-12 00:00:00'),\n",
       "  'pair': ('PETR3', 'PETR4'),\n",
       "  'status': True,\n",
       "  'price_fst_stock': 20.18,\n",
       "  'price_scnd_stock': 17.97,\n",
       "  'beta_open': 1.0947309466742494,\n",
       "  'beta_close': None,\n",
       "  'last_residual': -0.636757050287251,\n",
       "  'std_residual': 0.3766619321979198,\n",
       "  'std_open_residual': 0.37707610856726015,\n",
       "  'residual_open': -0.8202796626091349,\n",
       "  'open_price_first_stock': 19.42,\n",
       "  'open_price_scnd_stock': 17.43,\n",
       "  'open_date': Timestamp('2019-03-08 00:00:00'),\n",
       "  'close_limit': 0.18853805428359513,\n",
       "  'stop_limit': 1.7541522171344854,\n",
       "  'halflife': 10.0,\n",
       "  'days_open': 2},\n",
       " {'date': Timestamp('2019-03-13 00:00:00'),\n",
       "  'pair': ('PETR3', 'PETR4'),\n",
       "  'status': True,\n",
       "  'price_fst_stock': 20.72,\n",
       "  'price_scnd_stock': 18.36,\n",
       "  'beta_open': 1.0947309466742494,\n",
       "  'beta_close': None,\n",
       "  'last_residual': -0.5147970435454781,\n",
       "  'std_residual': 0.37592990842949825,\n",
       "  'std_open_residual': 0.37707610856726015,\n",
       "  'residual_open': -0.8202796626091349,\n",
       "  'open_price_first_stock': 19.42,\n",
       "  'open_price_scnd_stock': 17.43,\n",
       "  'open_date': Timestamp('2019-03-08 00:00:00'),\n",
       "  'close_limit': 0.18853805428359513,\n",
       "  'stop_limit': 1.7541522171344854,\n",
       "  'halflife': 10.0,\n",
       "  'days_open': 3},\n",
       " {'date': Timestamp('2019-03-14 00:00:00'),\n",
       "  'pair': ('PETR3', 'PETR4'),\n",
       "  'status': True,\n",
       "  'price_fst_stock': 20.96,\n",
       "  'price_scnd_stock': 18.42,\n",
       "  'beta_open': 1.0947309466742494,\n",
       "  'beta_close': None,\n",
       "  'last_residual': -0.3364384428390572,\n",
       "  'std_residual': 0.3744686066410234,\n",
       "  'std_open_residual': 0.37707610856726015,\n",
       "  'residual_open': -0.8202796626091349,\n",
       "  'open_price_first_stock': 19.42,\n",
       "  'open_price_scnd_stock': 17.43,\n",
       "  'open_date': Timestamp('2019-03-08 00:00:00'),\n",
       "  'close_limit': 0.18853805428359513,\n",
       "  'stop_limit': 1.7541522171344854,\n",
       "  'halflife': 10.0,\n",
       "  'days_open': 4},\n",
       " {'date': Timestamp('2019-03-15 00:00:00'),\n",
       "  'pair': ('PETR3', 'PETR4'),\n",
       "  'status': 'close',\n",
       "  'price_fst_stock': 21.18,\n",
       "  'price_scnd_stock': 18.46,\n",
       "  'beta_open': 1.0947309466742494,\n",
       "  'beta_close': 1.0871316117359946,\n",
       "  'last_residual': -0.158844815029763,\n",
       "  'std_residual': 0.37285000523292927,\n",
       "  'std_open_residual': 0.37707610856726015,\n",
       "  'residual_open': -0.8202796626091349,\n",
       "  'open_price_first_stock': 19.42,\n",
       "  'open_price_scnd_stock': 17.43,\n",
       "  'open_date': Timestamp('2019-03-08 00:00:00'),\n",
       "  'close_limit': 0.18853805428359513,\n",
       "  'stop_limit': 1.7541522171344854,\n",
       "  'halflife': 10.0,\n",
       "  'days_open': 5},\n",
       " {'date': Timestamp('2019-05-21 00:00:00'),\n",
       "  'pair': ('PETR3', 'PETR4'),\n",
       "  'status': True,\n",
       "  'price_fst_stock': 19.29,\n",
       "  'price_scnd_stock': 17.32,\n",
       "  'beta_open': 1.0538211389413266,\n",
       "  'beta_close': None,\n",
       "  'last_residual': -0.748461493534716,\n",
       "  'std_residual': 0.34458177793039424,\n",
       "  'std_open_residual': 0.34458177793039424,\n",
       "  'residual_open': -0.748461493534716,\n",
       "  'open_price_first_stock': 19.29,\n",
       "  'open_price_scnd_stock': 17.32,\n",
       "  'open_date': Timestamp('2019-05-21 00:00:00'),\n",
       "  'close_limit': 0.17229088896520753,\n",
       "  'stop_limit': 1.689163555860799,\n",
       "  'halflife': 7.0,\n",
       "  'days_open': 0},\n",
       " {'date': Timestamp('2019-05-22 00:00:00'),\n",
       "  'pair': ('PETR3', 'PETR4'),\n",
       "  'status': True,\n",
       "  'price_fst_stock': 19.33,\n",
       "  'price_scnd_stock': 17.25,\n",
       "  'beta_open': 1.0538211389413266,\n",
       "  'beta_close': None,\n",
       "  'last_residual': -0.6276880657631523,\n",
       "  'std_residual': 0.3453641331959585,\n",
       "  'std_open_residual': 0.34458177793039424,\n",
       "  'residual_open': -0.748461493534716,\n",
       "  'open_price_first_stock': 19.29,\n",
       "  'open_price_scnd_stock': 17.32,\n",
       "  'open_date': Timestamp('2019-05-21 00:00:00'),\n",
       "  'close_limit': 0.17229088896520753,\n",
       "  'stop_limit': 1.689163555860799,\n",
       "  'halflife': 7.0,\n",
       "  'days_open': 1},\n",
       " {'date': Timestamp('2019-05-23 00:00:00'),\n",
       "  'pair': ('PETR3', 'PETR4'),\n",
       "  'status': True,\n",
       "  'price_fst_stock': 18.99,\n",
       "  'price_scnd_stock': 16.95,\n",
       "  'beta_open': 1.0538211389413266,\n",
       "  'beta_close': None,\n",
       "  'last_residual': -0.643431540223478,\n",
       "  'std_residual': 0.3441525489647019,\n",
       "  'std_open_residual': 0.34458177793039424,\n",
       "  'residual_open': -0.748461493534716,\n",
       "  'open_price_first_stock': 19.29,\n",
       "  'open_price_scnd_stock': 17.32,\n",
       "  'open_date': Timestamp('2019-05-21 00:00:00'),\n",
       "  'close_limit': 0.17229088896520753,\n",
       "  'stop_limit': 1.689163555860799,\n",
       "  'halflife': 7.0,\n",
       "  'days_open': 2},\n",
       " {'date': Timestamp('2019-05-24 00:00:00'),\n",
       "  'pair': ('PETR3', 'PETR4'),\n",
       "  'status': True,\n",
       "  'price_fst_stock': 19.03,\n",
       "  'price_scnd_stock': 17.12,\n",
       "  'beta_open': 1.0538211389413266,\n",
       "  'beta_close': None,\n",
       "  'last_residual': -0.7713523825500239,\n",
       "  'std_residual': 0.3425882667170631,\n",
       "  'std_open_residual': 0.34458177793039424,\n",
       "  'residual_open': -0.748461493534716,\n",
       "  'open_price_first_stock': 19.29,\n",
       "  'open_price_scnd_stock': 17.32,\n",
       "  'open_date': Timestamp('2019-05-21 00:00:00'),\n",
       "  'close_limit': 0.17229088896520753,\n",
       "  'stop_limit': 1.689163555860799,\n",
       "  'halflife': 7.0,\n",
       "  'days_open': 3},\n",
       " {'date': Timestamp('2019-05-27 00:00:00'),\n",
       "  'pair': ('PETR3', 'PETR4'),\n",
       "  'status': True,\n",
       "  'price_fst_stock': 19.31,\n",
       "  'price_scnd_stock': 17.21,\n",
       "  'beta_open': 1.0538211389413266,\n",
       "  'beta_close': None,\n",
       "  'last_residual': -0.5750087281028904,\n",
       "  'std_residual': 0.33839820967440465,\n",
       "  'std_open_residual': 0.34458177793039424,\n",
       "  'residual_open': -0.748461493534716,\n",
       "  'open_price_first_stock': 19.29,\n",
       "  'open_price_scnd_stock': 17.32,\n",
       "  'open_date': Timestamp('2019-05-21 00:00:00'),\n",
       "  'close_limit': 0.17229088896520753,\n",
       "  'stop_limit': 1.689163555860799,\n",
       "  'halflife': 7.0,\n",
       "  'days_open': 4},\n",
       " {'date': Timestamp('2019-05-28 00:00:00'),\n",
       "  'pair': ('PETR3', 'PETR4'),\n",
       "  'status': True,\n",
       "  'price_fst_stock': 19.57,\n",
       "  'price_scnd_stock': 17.58,\n",
       "  'beta_open': 1.0538211389413266,\n",
       "  'beta_close': None,\n",
       "  'last_residual': -0.6910692848447653,\n",
       "  'std_residual': 0.33475129669549436,\n",
       "  'std_open_residual': 0.34458177793039424,\n",
       "  'residual_open': -0.748461493534716,\n",
       "  'open_price_first_stock': 19.29,\n",
       "  'open_price_scnd_stock': 17.32,\n",
       "  'open_date': Timestamp('2019-05-21 00:00:00'),\n",
       "  'close_limit': 0.17229088896520753,\n",
       "  'stop_limit': 1.689163555860799,\n",
       "  'halflife': 7.0,\n",
       "  'days_open': 5},\n",
       " {'date': Timestamp('2019-05-29 00:00:00'),\n",
       "  'pair': ('PETR3', 'PETR4'),\n",
       "  'status': True,\n",
       "  'price_fst_stock': 19.41,\n",
       "  'price_scnd_stock': 17.39,\n",
       "  'beta_open': 1.0538211389413266,\n",
       "  'beta_close': None,\n",
       "  'last_residual': -0.6410470358074107,\n",
       "  'std_residual': 0.3283546464628239,\n",
       "  'std_open_residual': 0.34458177793039424,\n",
       "  'residual_open': -0.748461493534716,\n",
       "  'open_price_first_stock': 19.29,\n",
       "  'open_price_scnd_stock': 17.32,\n",
       "  'open_date': Timestamp('2019-05-21 00:00:00'),\n",
       "  'close_limit': 0.17229088896520753,\n",
       "  'stop_limit': 1.689163555860799,\n",
       "  'halflife': 7.0,\n",
       "  'days_open': 6},\n",
       " {'date': Timestamp('2019-05-30 00:00:00'),\n",
       "  'pair': ('PETR3', 'PETR4'),\n",
       "  'status': True,\n",
       "  'price_fst_stock': 19.38,\n",
       "  'price_scnd_stock': 17.16,\n",
       "  'beta_open': 1.0538211389413266,\n",
       "  'beta_close': None,\n",
       "  'last_residual': -0.4234100094409925,\n",
       "  'std_residual': 0.3239297088041287,\n",
       "  'std_open_residual': 0.34458177793039424,\n",
       "  'residual_open': -0.748461493534716,\n",
       "  'open_price_first_stock': 19.29,\n",
       "  'open_price_scnd_stock': 17.32,\n",
       "  'open_date': Timestamp('2019-05-21 00:00:00'),\n",
       "  'close_limit': 0.17229088896520753,\n",
       "  'stop_limit': 1.689163555860799,\n",
       "  'halflife': 7.0,\n",
       "  'days_open': 7},\n",
       " {'date': Timestamp('2019-05-31 00:00:00'),\n",
       "  'pair': ('PETR3', 'PETR4'),\n",
       "  'status': 'close',\n",
       "  'price_fst_stock': 18.96,\n",
       "  'price_scnd_stock': 16.76,\n",
       "  'beta_open': 1.0538211389413266,\n",
       "  'beta_close': 1.0426340074016291,\n",
       "  'last_residual': -0.42052569501997183,\n",
       "  'std_residual': 0.3220502416021522,\n",
       "  'std_open_residual': 0.34458177793039424,\n",
       "  'residual_open': -0.748461493534716,\n",
       "  'open_price_first_stock': 19.29,\n",
       "  'open_price_scnd_stock': 17.32,\n",
       "  'open_date': Timestamp('2019-05-21 00:00:00'),\n",
       "  'close_limit': 0.17229088896520753,\n",
       "  'stop_limit': 1.689163555860799,\n",
       "  'halflife': 7.0,\n",
       "  'days_open': 8},\n",
       " {'date': Timestamp('2019-08-14 00:00:00'),\n",
       "  'pair': ('PETR3', 'PETR4'),\n",
       "  'status': True,\n",
       "  'price_fst_stock': 18.32,\n",
       "  'price_scnd_stock': 16.46,\n",
       "  'beta_open': 0.993504537416175,\n",
       "  'beta_close': None,\n",
       "  'last_residual': -0.6791534560891854,\n",
       "  'std_residual': 0.3393666774425004,\n",
       "  'std_open_residual': 0.3393666774425004,\n",
       "  'residual_open': -0.6791534560891854,\n",
       "  'open_price_first_stock': 18.32,\n",
       "  'open_price_scnd_stock': 16.46,\n",
       "  'open_date': Timestamp('2019-08-14 00:00:00'),\n",
       "  'close_limit': 0.1696833387212419,\n",
       "  'stop_limit': 1.6787333548849925,\n",
       "  'halflife': 8.0,\n",
       "  'days_open': 0},\n",
       " {'date': Timestamp('2019-08-15 00:00:00'),\n",
       "  'pair': ('PETR3', 'PETR4'),\n",
       "  'status': True,\n",
       "  'price_fst_stock': 17.91,\n",
       "  'price_scnd_stock': 16.0,\n",
       "  'beta_open': 0.993504537416175,\n",
       "  'beta_close': None,\n",
       "  'last_residual': -0.6313722561251431,\n",
       "  'std_residual': 0.3409001921324505,\n",
       "  'std_open_residual': 0.3393666774425004,\n",
       "  'residual_open': -0.6791534560891854,\n",
       "  'open_price_first_stock': 18.32,\n",
       "  'open_price_scnd_stock': 16.46,\n",
       "  'open_date': Timestamp('2019-08-14 00:00:00'),\n",
       "  'close_limit': 0.1696833387212419,\n",
       "  'stop_limit': 1.6787333548849925,\n",
       "  'halflife': 8.0,\n",
       "  'days_open': 1},\n",
       " {'date': Timestamp('2019-08-16 00:00:00'),\n",
       "  'pair': ('PETR3', 'PETR4'),\n",
       "  'status': True,\n",
       "  'price_fst_stock': 17.83,\n",
       "  'price_scnd_stock': 15.79,\n",
       "  'beta_open': 0.993504537416175,\n",
       "  'beta_close': None,\n",
       "  'last_residual': -0.5020486724017488,\n",
       "  'std_residual': 0.3420828447224811,\n",
       "  'std_open_residual': 0.3393666774425004,\n",
       "  'residual_open': -0.6791534560891854,\n",
       "  'open_price_first_stock': 18.32,\n",
       "  'open_price_scnd_stock': 16.46,\n",
       "  'open_date': Timestamp('2019-08-14 00:00:00'),\n",
       "  'close_limit': 0.1696833387212419,\n",
       "  'stop_limit': 1.6787333548849925,\n",
       "  'halflife': 8.0,\n",
       "  'days_open': 2},\n",
       " {'date': Timestamp('2019-08-19 00:00:00'),\n",
       "  'pair': ('PETR3', 'PETR4'),\n",
       "  'status': True,\n",
       "  'price_fst_stock': 18.07,\n",
       "  'price_scnd_stock': 15.87,\n",
       "  'beta_open': 0.993504537416175,\n",
       "  'beta_close': None,\n",
       "  'last_residual': -0.3410389898057353,\n",
       "  'std_residual': 0.3425576806639149,\n",
       "  'std_open_residual': 0.3393666774425004,\n",
       "  'residual_open': -0.6791534560891854,\n",
       "  'open_price_first_stock': 18.32,\n",
       "  'open_price_scnd_stock': 16.46,\n",
       "  'open_date': Timestamp('2019-08-14 00:00:00'),\n",
       "  'close_limit': 0.1696833387212419,\n",
       "  'stop_limit': 1.6787333548849925,\n",
       "  'halflife': 8.0,\n",
       "  'days_open': 3},\n",
       " {'date': Timestamp('2019-08-20 00:00:00'),\n",
       "  'pair': ('PETR3', 'PETR4'),\n",
       "  'status': True,\n",
       "  'price_fst_stock': 17.9,\n",
       "  'price_scnd_stock': 15.86,\n",
       "  'beta_open': 0.993504537416175,\n",
       "  'beta_close': None,\n",
       "  'last_residual': -0.5006371771654763,\n",
       "  'std_residual': 0.3435356182108631,\n",
       "  'std_open_residual': 0.3393666774425004,\n",
       "  'residual_open': -0.6791534560891854,\n",
       "  'open_price_first_stock': 18.32,\n",
       "  'open_price_scnd_stock': 16.46,\n",
       "  'open_date': Timestamp('2019-08-14 00:00:00'),\n",
       "  'close_limit': 0.1696833387212419,\n",
       "  'stop_limit': 1.6787333548849925,\n",
       "  'halflife': 8.0,\n",
       "  'days_open': 4},\n",
       " {'date': Timestamp('2019-08-21 00:00:00'),\n",
       "  'pair': ('PETR3', 'PETR4'),\n",
       "  'status': True,\n",
       "  'price_fst_stock': 18.86,\n",
       "  'price_scnd_stock': 16.81,\n",
       "  'beta_open': 0.993504537416175,\n",
       "  'beta_close': None,\n",
       "  'last_residual': -0.48042889176095827,\n",
       "  'std_residual': 0.34458547717485766,\n",
       "  'std_open_residual': 0.3393666774425004,\n",
       "  'residual_open': -0.6791534560891854,\n",
       "  'open_price_first_stock': 18.32,\n",
       "  'open_price_scnd_stock': 16.46,\n",
       "  'open_date': Timestamp('2019-08-14 00:00:00'),\n",
       "  'close_limit': 0.1696833387212419,\n",
       "  'stop_limit': 1.6787333548849925,\n",
       "  'halflife': 8.0,\n",
       "  'days_open': 5},\n",
       " {'date': Timestamp('2019-08-22 00:00:00'),\n",
       "  'pair': ('PETR3', 'PETR4'),\n",
       "  'status': True,\n",
       "  'price_fst_stock': 18.68,\n",
       "  'price_scnd_stock': 16.66,\n",
       "  'beta_open': 0.993504537416175,\n",
       "  'beta_close': None,\n",
       "  'last_residual': -0.5108706222627895,\n",
       "  'std_residual': 0.3454068997604236,\n",
       "  'std_open_residual': 0.3393666774425004,\n",
       "  'residual_open': -0.6791534560891854,\n",
       "  'open_price_first_stock': 18.32,\n",
       "  'open_price_scnd_stock': 16.46,\n",
       "  'open_date': Timestamp('2019-08-14 00:00:00'),\n",
       "  'close_limit': 0.1696833387212419,\n",
       "  'stop_limit': 1.6787333548849925,\n",
       "  'halflife': 8.0,\n",
       "  'days_open': 6},\n",
       " {'date': Timestamp('2019-08-23 00:00:00'),\n",
       "  'pair': ('PETR3', 'PETR4'),\n",
       "  'status': True,\n",
       "  'price_fst_stock': 18.09,\n",
       "  'price_scnd_stock': 16.03,\n",
       "  'beta_open': 0.993504537416175,\n",
       "  'beta_close': None,\n",
       "  'last_residual': -0.47849174615244294,\n",
       "  'std_residual': 0.345754957641777,\n",
       "  'std_open_residual': 0.3393666774425004,\n",
       "  'residual_open': -0.6791534560891854,\n",
       "  'open_price_first_stock': 18.32,\n",
       "  'open_price_scnd_stock': 16.46,\n",
       "  'open_date': Timestamp('2019-08-14 00:00:00'),\n",
       "  'close_limit': 0.1696833387212419,\n",
       "  'stop_limit': 1.6787333548849925,\n",
       "  'halflife': 8.0,\n",
       "  'days_open': 7},\n",
       " {'date': Timestamp('2019-08-26 00:00:00'),\n",
       "  'pair': ('PETR3', 'PETR4'),\n",
       "  'status': True,\n",
       "  'price_fst_stock': 17.85,\n",
       "  'price_scnd_stock': 15.82,\n",
       "  'beta_open': 0.993504537416175,\n",
       "  'beta_close': None,\n",
       "  'last_residual': -0.5117869639358439,\n",
       "  'std_residual': 0.3462745248585088,\n",
       "  'std_open_residual': 0.3393666774425004,\n",
       "  'residual_open': -0.6791534560891854,\n",
       "  'open_price_first_stock': 18.32,\n",
       "  'open_price_scnd_stock': 16.46,\n",
       "  'open_date': Timestamp('2019-08-14 00:00:00'),\n",
       "  'close_limit': 0.1696833387212419,\n",
       "  'stop_limit': 1.6787333548849925,\n",
       "  'halflife': 8.0,\n",
       "  'days_open': 8},\n",
       " {'date': Timestamp('2019-08-27 00:00:00'),\n",
       "  'pair': ('PETR3', 'PETR4'),\n",
       "  'status': 'close',\n",
       "  'price_fst_stock': 18.19,\n",
       "  'price_scnd_stock': 16.07,\n",
       "  'beta_open': 0.993504537416175,\n",
       "  'beta_close': 0.9833624677959967,\n",
       "  'last_residual': -0.4187458489654965,\n",
       "  'std_residual': 0.3462557461074237,\n",
       "  'std_open_residual': 0.3393666774425004,\n",
       "  'residual_open': -0.6791534560891854,\n",
       "  'open_price_first_stock': 18.32,\n",
       "  'open_price_scnd_stock': 16.46,\n",
       "  'open_date': Timestamp('2019-08-14 00:00:00'),\n",
       "  'close_limit': 0.1696833387212419,\n",
       "  'stop_limit': 1.6787333548849925,\n",
       "  'halflife': 8.0,\n",
       "  'days_open': 9},\n",
       " {'date': Timestamp('2020-02-26 00:00:00'),\n",
       "  'pair': ('PETR3', 'PETR4'),\n",
       "  'status': True,\n",
       "  'price_fst_stock': 18.87,\n",
       "  'price_scnd_stock': 17.64,\n",
       "  'beta_open': 0.849801876903574,\n",
       "  'beta_close': None,\n",
       "  'last_residual': -1.0041748713488126,\n",
       "  'std_residual': 0.3624976481320231,\n",
       "  'std_open_residual': 0.3624976481320231,\n",
       "  'residual_open': -1.0041748713488126,\n",
       "  'open_price_first_stock': 18.87,\n",
       "  'open_price_scnd_stock': 17.64,\n",
       "  'open_date': Timestamp('2020-02-26 00:00:00'),\n",
       "  'close_limit': 0.181248824066038,\n",
       "  'stop_limit': 1.7249952962640727,\n",
       "  'halflife': 7.0,\n",
       "  'days_open': 0},\n",
       " {'date': Timestamp('2020-02-27 00:00:00'),\n",
       "  'pair': ('PETR3', 'PETR4'),\n",
       "  'status': True,\n",
       "  'price_fst_stock': 18.23,\n",
       "  'price_scnd_stock': 17.03,\n",
       "  'beta_open': 0.849801876903574,\n",
       "  'beta_close': None,\n",
       "  'last_residual': -1.1089787347360236,\n",
       "  'std_residual': 0.3633362759481273,\n",
       "  'std_open_residual': 0.3624976481320231,\n",
       "  'residual_open': -1.0041748713488126,\n",
       "  'open_price_first_stock': 18.87,\n",
       "  'open_price_scnd_stock': 17.64,\n",
       "  'open_date': Timestamp('2020-02-26 00:00:00'),\n",
       "  'close_limit': 0.181248824066038,\n",
       "  'stop_limit': 1.7249952962640727,\n",
       "  'halflife': 7.0,\n",
       "  'days_open': 1},\n",
       " {'date': Timestamp('2020-02-28 00:00:00'),\n",
       "  'pair': ('PETR3', 'PETR4'),\n",
       "  'status': True,\n",
       "  'price_fst_stock': 18.44,\n",
       "  'price_scnd_stock': 17.05,\n",
       "  'beta_open': 0.849801876903574,\n",
       "  'beta_close': None,\n",
       "  'last_residual': -0.9027514518014605,\n",
       "  'std_residual': 0.3627906204026645,\n",
       "  'std_open_residual': 0.3624976481320231,\n",
       "  'residual_open': -1.0041748713488126,\n",
       "  'open_price_first_stock': 18.87,\n",
       "  'open_price_scnd_stock': 17.64,\n",
       "  'open_date': Timestamp('2020-02-26 00:00:00'),\n",
       "  'close_limit': 0.181248824066038,\n",
       "  'stop_limit': 1.7249952962640727,\n",
       "  'halflife': 7.0,\n",
       "  'days_open': 2},\n",
       " {'date': Timestamp('2020-03-02 00:00:00'),\n",
       "  'pair': ('PETR3', 'PETR4'),\n",
       "  'status': True,\n",
       "  'price_fst_stock': 19.09,\n",
       "  'price_scnd_stock': 17.85,\n",
       "  'beta_open': 0.849801876903574,\n",
       "  'beta_close': None,\n",
       "  'last_residual': -0.9317925252193326,\n",
       "  'std_residual': 0.3620369973597717,\n",
       "  'std_open_residual': 0.3624976481320231,\n",
       "  'residual_open': -1.0041748713488126,\n",
       "  'open_price_first_stock': 18.87,\n",
       "  'open_price_scnd_stock': 17.64,\n",
       "  'open_date': Timestamp('2020-02-26 00:00:00'),\n",
       "  'close_limit': 0.181248824066038,\n",
       "  'stop_limit': 1.7249952962640727,\n",
       "  'halflife': 7.0,\n",
       "  'days_open': 3},\n",
       " {'date': Timestamp('2020-03-03 00:00:00'),\n",
       "  'pair': ('PETR3', 'PETR4'),\n",
       "  'status': True,\n",
       "  'price_fst_stock': 18.68,\n",
       "  'price_scnd_stock': 17.53,\n",
       "  'beta_open': 0.849801876903574,\n",
       "  'beta_close': None,\n",
       "  'last_residual': -1.0546291500879832,\n",
       "  'std_residual': 0.36503609179085383,\n",
       "  'std_open_residual': 0.3624976481320231,\n",
       "  'residual_open': -1.0041748713488126,\n",
       "  'open_price_first_stock': 18.87,\n",
       "  'open_price_scnd_stock': 17.64,\n",
       "  'open_date': Timestamp('2020-02-26 00:00:00'),\n",
       "  'close_limit': 0.181248824066038,\n",
       "  'stop_limit': 1.7249952962640727,\n",
       "  'halflife': 7.0,\n",
       "  'days_open': 4},\n",
       " {'date': Timestamp('2020-03-04 00:00:00'),\n",
       "  'pair': ('PETR3', 'PETR4'),\n",
       "  'status': True,\n",
       "  'price_fst_stock': 19.17,\n",
       "  'price_scnd_stock': 18.1,\n",
       "  'beta_open': 0.849801876903574,\n",
       "  'beta_close': None,\n",
       "  'last_residual': -1.0509485434781638,\n",
       "  'std_residual': 0.3672585530090812,\n",
       "  'std_open_residual': 0.3624976481320231,\n",
       "  'residual_open': -1.0041748713488126,\n",
       "  'open_price_first_stock': 18.87,\n",
       "  'open_price_scnd_stock': 17.64,\n",
       "  'open_date': Timestamp('2020-02-26 00:00:00'),\n",
       "  'close_limit': 0.181248824066038,\n",
       "  'stop_limit': 1.7249952962640727,\n",
       "  'halflife': 7.0,\n",
       "  'days_open': 5},\n",
       " {'date': Timestamp('2020-03-05 00:00:00'),\n",
       "  'pair': ('PETR3', 'PETR4'),\n",
       "  'status': True,\n",
       "  'price_fst_stock': 18.21,\n",
       "  'price_scnd_stock': 17.02,\n",
       "  'beta_open': 0.849801876903574,\n",
       "  'beta_close': None,\n",
       "  'last_residual': -1.0565329425460455,\n",
       "  'std_residual': 0.3709207820964962,\n",
       "  'std_open_residual': 0.3624976481320231,\n",
       "  'residual_open': -1.0041748713488126,\n",
       "  'open_price_first_stock': 18.87,\n",
       "  'open_price_scnd_stock': 17.64,\n",
       "  'open_date': Timestamp('2020-02-26 00:00:00'),\n",
       "  'close_limit': 0.181248824066038,\n",
       "  'stop_limit': 1.7249952962640727,\n",
       "  'halflife': 7.0,\n",
       "  'days_open': 6},\n",
       " {'date': Timestamp('2020-03-06 00:00:00'),\n",
       "  'pair': ('PETR3', 'PETR4'),\n",
       "  'status': True,\n",
       "  'price_fst_stock': 16.35,\n",
       "  'price_scnd_stock': 15.36,\n",
       "  'beta_open': 0.849801876903574,\n",
       "  'beta_close': None,\n",
       "  'last_residual': -1.4199409844670363,\n",
       "  'std_residual': 0.38177151682916427,\n",
       "  'std_open_residual': 0.3624976481320231,\n",
       "  'residual_open': -1.0041748713488126,\n",
       "  'open_price_first_stock': 18.87,\n",
       "  'open_price_scnd_stock': 17.64,\n",
       "  'open_date': Timestamp('2020-02-26 00:00:00'),\n",
       "  'close_limit': 0.181248824066038,\n",
       "  'stop_limit': 1.7249952962640727,\n",
       "  'halflife': 7.0,\n",
       "  'days_open': 7},\n",
       " {'date': Timestamp('2020-03-09 00:00:00'),\n",
       "  'pair': ('PETR3', 'PETR4'),\n",
       "  'status': 'close',\n",
       "  'price_fst_stock': 11.49,\n",
       "  'price_scnd_stock': 10.8,\n",
       "  'beta_open': 0.849801876903574,\n",
       "  'beta_close': 0.9268910723307744,\n",
       "  'last_residual': -1.9292576904128271,\n",
       "  'std_residual': 0.40359341496372164,\n",
       "  'std_open_residual': 0.3624976481320231,\n",
       "  'residual_open': -1.0041748713488126,\n",
       "  'open_price_first_stock': 18.87,\n",
       "  'open_price_scnd_stock': 17.64,\n",
       "  'open_date': Timestamp('2020-02-26 00:00:00'),\n",
       "  'close_limit': 0.181248824066038,\n",
       "  'stop_limit': 1.7249952962640727,\n",
       "  'halflife': 7.0,\n",
       "  'days_open': 8},\n",
       " {'date': Timestamp('2020-11-23 00:00:00'),\n",
       "  'pair': ('PETR3', 'PETR4'),\n",
       "  'status': True,\n",
       "  'price_fst_stock': 17.48,\n",
       "  'price_scnd_stock': 16.89,\n",
       "  'beta_open': 1.1446169235436194,\n",
       "  'beta_close': None,\n",
       "  'last_residual': -0.47156665248271423,\n",
       "  'std_residual': 0.23543928944343734,\n",
       "  'std_open_residual': 0.23543928944343734,\n",
       "  'residual_open': -0.47156665248271423,\n",
       "  'open_price_first_stock': 17.48,\n",
       "  'open_price_scnd_stock': 16.89,\n",
       "  'open_date': Timestamp('2020-11-23 00:00:00'),\n",
       "  'close_limit': 0.11771964472169524,\n",
       "  'stop_limit': 1.4708785788868513,\n",
       "  'halflife': 6.0,\n",
       "  'days_open': 0},\n",
       " {'date': Timestamp('2020-11-24 00:00:00'),\n",
       "  'pair': ('PETR3', 'PETR4'),\n",
       "  'status': True,\n",
       "  'price_fst_stock': 18.42,\n",
       "  'price_scnd_stock': 17.65,\n",
       "  'beta_open': 1.1446169235436194,\n",
       "  'beta_close': None,\n",
       "  'last_residual': -0.39281706508669245,\n",
       "  'std_residual': 0.2309856652118891,\n",
       "  'std_open_residual': 0.23543928944343734,\n",
       "  'residual_open': -0.47156665248271423,\n",
       "  'open_price_first_stock': 17.48,\n",
       "  'open_price_scnd_stock': 16.89,\n",
       "  'open_date': Timestamp('2020-11-23 00:00:00'),\n",
       "  'close_limit': 0.11771964472169524,\n",
       "  'stop_limit': 1.4708785788868513,\n",
       "  'halflife': 6.0,\n",
       "  'days_open': 1},\n",
       " {'date': Timestamp('2020-11-25 00:00:00'),\n",
       "  'pair': ('PETR3', 'PETR4'),\n",
       "  'status': True,\n",
       "  'price_fst_stock': 18.29,\n",
       "  'price_scnd_stock': 17.67,\n",
       "  'beta_open': 1.1446169235436194,\n",
       "  'beta_close': None,\n",
       "  'last_residual': -0.5367332662526962,\n",
       "  'std_residual': 0.22859737540704822,\n",
       "  'std_open_residual': 0.23543928944343734,\n",
       "  'residual_open': -0.47156665248271423,\n",
       "  'open_price_first_stock': 17.48,\n",
       "  'open_price_scnd_stock': 16.89,\n",
       "  'open_date': Timestamp('2020-11-23 00:00:00'),\n",
       "  'close_limit': 0.11771964472169524,\n",
       "  'stop_limit': 1.4708785788868513,\n",
       "  'halflife': 6.0,\n",
       "  'days_open': 2},\n",
       " {'date': Timestamp('2020-11-26 00:00:00'),\n",
       "  'pair': ('PETR3', 'PETR4'),\n",
       "  'status': True,\n",
       "  'price_fst_stock': 18.01,\n",
       "  'price_scnd_stock': 17.38,\n",
       "  'beta_open': 1.1446169235436194,\n",
       "  'beta_close': None,\n",
       "  'last_residual': -0.47903768740617636,\n",
       "  'std_residual': 0.22832330384343763,\n",
       "  'std_open_residual': 0.23543928944343734,\n",
       "  'residual_open': -0.47156665248271423,\n",
       "  'open_price_first_stock': 17.48,\n",
       "  'open_price_scnd_stock': 16.89,\n",
       "  'open_date': Timestamp('2020-11-23 00:00:00'),\n",
       "  'close_limit': 0.11771964472169524,\n",
       "  'stop_limit': 1.4708785788868513,\n",
       "  'halflife': 6.0,\n",
       "  'days_open': 3},\n",
       " {'date': Timestamp('2020-11-27 00:00:00'),\n",
       "  'pair': ('PETR3', 'PETR4'),\n",
       "  'status': True,\n",
       "  'price_fst_stock': 17.77,\n",
       "  'price_scnd_stock': 17.16,\n",
       "  'beta_open': 1.1446169235436194,\n",
       "  'beta_close': None,\n",
       "  'last_residual': -0.46184545770820407,\n",
       "  'std_residual': 0.22784085244867025,\n",
       "  'std_open_residual': 0.23543928944343734,\n",
       "  'residual_open': -0.47156665248271423,\n",
       "  'open_price_first_stock': 17.48,\n",
       "  'open_price_scnd_stock': 16.89,\n",
       "  'open_date': Timestamp('2020-11-23 00:00:00'),\n",
       "  'close_limit': 0.11771964472169524,\n",
       "  'stop_limit': 1.4708785788868513,\n",
       "  'halflife': 6.0,\n",
       "  'days_open': 4},\n",
       " {'date': Timestamp('2020-11-30 00:00:00'),\n",
       "  'pair': ('PETR3', 'PETR4'),\n",
       "  'status': True,\n",
       "  'price_fst_stock': 17.53,\n",
       "  'price_scnd_stock': 16.76,\n",
       "  'beta_open': 1.1446169235436194,\n",
       "  'beta_close': None,\n",
       "  'last_residual': -0.241196199376283,\n",
       "  'std_residual': 0.22536737188839778,\n",
       "  'std_open_residual': 0.23543928944343734,\n",
       "  'residual_open': -0.47156665248271423,\n",
       "  'open_price_first_stock': 17.48,\n",
       "  'open_price_scnd_stock': 16.89,\n",
       "  'open_date': Timestamp('2020-11-23 00:00:00'),\n",
       "  'close_limit': 0.11771964472169524,\n",
       "  'stop_limit': 1.4708785788868513,\n",
       "  'halflife': 6.0,\n",
       "  'days_open': 5},\n",
       " {'date': Timestamp('2020-12-01 00:00:00'),\n",
       "  'pair': ('PETR3', 'PETR4'),\n",
       "  'status': True,\n",
       "  'price_fst_stock': 18.05,\n",
       "  'price_scnd_stock': 17.23,\n",
       "  'beta_open': 1.1446169235436194,\n",
       "  'beta_close': None,\n",
       "  'last_residual': -0.2504896128623564,\n",
       "  'std_residual': 0.22304897316685102,\n",
       "  'std_open_residual': 0.23543928944343734,\n",
       "  'residual_open': -0.47156665248271423,\n",
       "  'open_price_first_stock': 17.48,\n",
       "  'open_price_scnd_stock': 16.89,\n",
       "  'open_date': Timestamp('2020-11-23 00:00:00'),\n",
       "  'close_limit': 0.11771964472169524,\n",
       "  'stop_limit': 1.4708785788868513,\n",
       "  'halflife': 6.0,\n",
       "  'days_open': 6},\n",
       " {'date': Timestamp('2020-12-02 00:00:00'),\n",
       "  'pair': ('PETR3', 'PETR4'),\n",
       "  'status': 'close',\n",
       "  'price_fst_stock': 18.29,\n",
       "  'price_scnd_stock': 17.44,\n",
       "  'beta_open': 1.1446169235436194,\n",
       "  'beta_close': 1.1357244296986038,\n",
       "  'last_residual': -0.2438206289853717,\n",
       "  'std_residual': 0.22121051684424453,\n",
       "  'std_open_residual': 0.23543928944343734,\n",
       "  'residual_open': -0.47156665248271423,\n",
       "  'open_price_first_stock': 17.48,\n",
       "  'open_price_scnd_stock': 16.89,\n",
       "  'open_date': Timestamp('2020-11-23 00:00:00'),\n",
       "  'close_limit': 0.11771964472169524,\n",
       "  'stop_limit': 1.4708785788868513,\n",
       "  'halflife': 6.0,\n",
       "  'days_open': 7},\n",
       " {'date': Timestamp('2021-02-12 00:00:00'),\n",
       "  'pair': ('PETR3', 'PETR4'),\n",
       "  'status': True,\n",
       "  'price_fst_stock': 19.56,\n",
       "  'price_scnd_stock': 19.14,\n",
       "  'beta_open': 1.0734385426301383,\n",
       "  'beta_close': None,\n",
       "  'last_residual': -0.5126491561036346,\n",
       "  'std_residual': 0.2361977428618788,\n",
       "  'std_open_residual': 0.2361977428618788,\n",
       "  'residual_open': -0.5126491561036346,\n",
       "  'open_price_first_stock': 19.56,\n",
       "  'open_price_scnd_stock': 19.14,\n",
       "  'open_date': Timestamp('2021-02-12 00:00:00'),\n",
       "  'close_limit': 0.11809887143095206,\n",
       "  'stop_limit': 1.4723954857237702,\n",
       "  'halflife': 11.0,\n",
       "  'days_open': 0},\n",
       " {'date': Timestamp('2021-02-17 00:00:00'),\n",
       "  'pair': ('PETR3', 'PETR4'),\n",
       "  'status': True,\n",
       "  'price_fst_stock': 20.37,\n",
       "  'price_scnd_stock': 19.91,\n",
       "  'beta_open': 1.0734385426301383,\n",
       "  'beta_close': None,\n",
       "  'last_residual': -0.5087969804181007,\n",
       "  'std_residual': 0.23075236601021423,\n",
       "  'std_open_residual': 0.2361977428618788,\n",
       "  'residual_open': -0.5126491561036346,\n",
       "  'open_price_first_stock': 19.56,\n",
       "  'open_price_scnd_stock': 19.14,\n",
       "  'open_date': Timestamp('2021-02-12 00:00:00'),\n",
       "  'close_limit': 0.11809887143095206,\n",
       "  'stop_limit': 1.4723954857237702,\n",
       "  'halflife': 11.0,\n",
       "  'days_open': 1},\n",
       " {'date': Timestamp('2021-02-18 00:00:00'),\n",
       "  'pair': ('PETR3', 'PETR4'),\n",
       "  'status': True,\n",
       "  'price_fst_stock': 20.2,\n",
       "  'price_scnd_stock': 19.7,\n",
       "  'beta_open': 1.0734385426301383,\n",
       "  'beta_close': None,\n",
       "  'last_residual': -0.43576207560925795,\n",
       "  'std_residual': 0.22521372441075127,\n",
       "  'std_open_residual': 0.2361977428618788,\n",
       "  'residual_open': -0.5126491561036346,\n",
       "  'open_price_first_stock': 19.56,\n",
       "  'open_price_scnd_stock': 19.14,\n",
       "  'open_date': Timestamp('2021-02-12 00:00:00'),\n",
       "  'close_limit': 0.11809887143095206,\n",
       "  'stop_limit': 1.4723954857237702,\n",
       "  'halflife': 11.0,\n",
       "  'days_open': 2},\n",
       " {'date': Timestamp('2021-02-19 00:00:00'),\n",
       "  'pair': ('PETR3', 'PETR4'),\n",
       "  'status': True,\n",
       "  'price_fst_stock': 18.6,\n",
       "  'price_scnd_stock': 18.39,\n",
       "  'beta_open': 1.0734385426301383,\n",
       "  'beta_close': None,\n",
       "  'last_residual': -0.6205262575613126,\n",
       "  'std_residual': 0.2202449040861136,\n",
       "  'std_open_residual': 0.2361977428618788,\n",
       "  'residual_open': -0.5126491561036346,\n",
       "  'open_price_first_stock': 19.56,\n",
       "  'open_price_scnd_stock': 19.14,\n",
       "  'open_date': Timestamp('2021-02-12 00:00:00'),\n",
       "  'close_limit': 0.11809887143095206,\n",
       "  'stop_limit': 1.4723954857237702,\n",
       "  'halflife': 11.0,\n",
       "  'days_open': 3},\n",
       " {'date': Timestamp('2021-02-22 00:00:00'),\n",
       "  'pair': ('PETR3', 'PETR4'),\n",
       "  'status': True,\n",
       "  'price_fst_stock': 14.79,\n",
       "  'price_scnd_stock': 14.44,\n",
       "  'beta_open': 1.0734385426301383,\n",
       "  'beta_close': None,\n",
       "  'last_residual': -0.22148884240993816,\n",
       "  'std_residual': 0.2135149695168414,\n",
       "  'std_open_residual': 0.2361977428618788,\n",
       "  'residual_open': -0.5126491561036346,\n",
       "  'open_price_first_stock': 19.56,\n",
       "  'open_price_scnd_stock': 19.14,\n",
       "  'open_date': Timestamp('2021-02-12 00:00:00'),\n",
       "  'close_limit': 0.11809887143095206,\n",
       "  'stop_limit': 1.4723954857237702,\n",
       "  'halflife': 11.0,\n",
       "  'days_open': 4},\n",
       " {'date': Timestamp('2021-02-23 00:00:00'),\n",
       "  'pair': ('PETR3', 'PETR4'),\n",
       "  'status': True,\n",
       "  'price_fst_stock': 16.11,\n",
       "  'price_scnd_stock': 16.19,\n",
       "  'beta_open': 1.0734385426301383,\n",
       "  'beta_close': None,\n",
       "  'last_residual': -0.7525458576525104,\n",
       "  'std_residual': 0.21321065123612382,\n",
       "  'std_open_residual': 0.2361977428618788,\n",
       "  'residual_open': -0.5126491561036346,\n",
       "  'open_price_first_stock': 19.56,\n",
       "  'open_price_scnd_stock': 19.14,\n",
       "  'open_date': Timestamp('2021-02-12 00:00:00'),\n",
       "  'close_limit': 0.11809887143095206,\n",
       "  'stop_limit': 1.4723954857237702,\n",
       "  'halflife': 11.0,\n",
       "  'days_open': 5},\n",
       " {'date': Timestamp('2021-02-24 00:00:00'),\n",
       "  'pair': ('PETR3', 'PETR4'),\n",
       "  'status': True,\n",
       "  'price_fst_stock': 16.32,\n",
       "  'price_scnd_stock': 16.42,\n",
       "  'beta_open': 1.0734385426301383,\n",
       "  'beta_close': None,\n",
       "  'last_residual': -0.776903655537339,\n",
       "  'std_residual': 0.21297972622480713,\n",
       "  'std_open_residual': 0.2361977428618788,\n",
       "  'residual_open': -0.5126491561036346,\n",
       "  'open_price_first_stock': 19.56,\n",
       "  'open_price_scnd_stock': 19.14,\n",
       "  'open_date': Timestamp('2021-02-12 00:00:00'),\n",
       "  'close_limit': 0.11809887143095206,\n",
       "  'stop_limit': 1.4723954857237702,\n",
       "  'halflife': 11.0,\n",
       "  'days_open': 6},\n",
       " {'date': Timestamp('2021-02-25 00:00:00'),\n",
       "  'pair': ('PETR3', 'PETR4'),\n",
       "  'status': True,\n",
       "  'price_fst_stock': 15.69,\n",
       "  'price_scnd_stock': 15.61,\n",
       "  'beta_open': 1.0734385426301383,\n",
       "  'beta_close': None,\n",
       "  'last_residual': -0.5423971892732613,\n",
       "  'std_residual': 0.2078516339085743,\n",
       "  'std_open_residual': 0.2361977428618788,\n",
       "  'residual_open': -0.5126491561036346,\n",
       "  'open_price_first_stock': 19.56,\n",
       "  'open_price_scnd_stock': 19.14,\n",
       "  'open_date': Timestamp('2021-02-12 00:00:00'),\n",
       "  'close_limit': 0.11809887143095206,\n",
       "  'stop_limit': 1.4723954857237702,\n",
       "  'halflife': 11.0,\n",
       "  'days_open': 7},\n",
       " {'date': Timestamp('2021-02-26 00:00:00'),\n",
       "  'pair': ('PETR3', 'PETR4'),\n",
       "  'status': True,\n",
       "  'price_fst_stock': 15.2,\n",
       "  'price_scnd_stock': 14.97,\n",
       "  'beta_open': 1.0734385426301383,\n",
       "  'beta_close': None,\n",
       "  'last_residual': -0.35171863887167554,\n",
       "  'std_residual': 0.20258631264107776,\n",
       "  'std_open_residual': 0.2361977428618788,\n",
       "  'residual_open': -0.5126491561036346,\n",
       "  'open_price_first_stock': 19.56,\n",
       "  'open_price_scnd_stock': 19.14,\n",
       "  'open_date': Timestamp('2021-02-12 00:00:00'),\n",
       "  'close_limit': 0.11809887143095206,\n",
       "  'stop_limit': 1.4723954857237702,\n",
       "  'halflife': 11.0,\n",
       "  'days_open': 8},\n",
       " {'date': Timestamp('2021-03-01 00:00:00'),\n",
       "  'pair': ('PETR3', 'PETR4'),\n",
       "  'status': True,\n",
       "  'price_fst_stock': 15.1,\n",
       "  'price_scnd_stock': 14.81,\n",
       "  'beta_open': 1.0734385426301383,\n",
       "  'beta_close': None,\n",
       "  'last_residual': -0.279340506592181,\n",
       "  'std_residual': 0.19861328310304874,\n",
       "  'std_open_residual': 0.2361977428618788,\n",
       "  'residual_open': -0.5126491561036346,\n",
       "  'open_price_first_stock': 19.56,\n",
       "  'open_price_scnd_stock': 19.14,\n",
       "  'open_date': Timestamp('2021-02-12 00:00:00'),\n",
       "  'close_limit': 0.11809887143095206,\n",
       "  'stop_limit': 1.4723954857237702,\n",
       "  'halflife': 11.0,\n",
       "  'days_open': 9},\n",
       " {'date': Timestamp('2021-03-02 00:00:00'),\n",
       "  'pair': ('PETR3', 'PETR4'),\n",
       "  'status': True,\n",
       "  'price_fst_stock': 15.04,\n",
       "  'price_scnd_stock': 14.8,\n",
       "  'beta_open': 1.0734385426301383,\n",
       "  'beta_close': None,\n",
       "  'last_residual': -0.3252999616288079,\n",
       "  'std_residual': 0.19621663713603854,\n",
       "  'std_open_residual': 0.2361977428618788,\n",
       "  'residual_open': -0.5126491561036346,\n",
       "  'open_price_first_stock': 19.56,\n",
       "  'open_price_scnd_stock': 19.14,\n",
       "  'open_date': Timestamp('2021-02-12 00:00:00'),\n",
       "  'close_limit': 0.11809887143095206,\n",
       "  'stop_limit': 1.4723954857237702,\n",
       "  'halflife': 11.0,\n",
       "  'days_open': 10},\n",
       " {'date': Timestamp('2021-03-03 00:00:00'),\n",
       "  'pair': ('PETR3', 'PETR4'),\n",
       "  'status': True,\n",
       "  'price_fst_stock': 14.39,\n",
       "  'price_scnd_stock': 14.26,\n",
       "  'beta_open': 1.0734385426301383,\n",
       "  'beta_close': None,\n",
       "  'last_residual': -0.4046776087005046,\n",
       "  'std_residual': 0.19488174607212672,\n",
       "  'std_open_residual': 0.2361977428618788,\n",
       "  'residual_open': -0.5126491561036346,\n",
       "  'open_price_first_stock': 19.56,\n",
       "  'open_price_scnd_stock': 19.14,\n",
       "  'open_date': Timestamp('2021-02-12 00:00:00'),\n",
       "  'close_limit': 0.11809887143095206,\n",
       "  'stop_limit': 1.4723954857237702,\n",
       "  'halflife': 11.0,\n",
       "  'days_open': 11},\n",
       " {'date': Timestamp('2021-03-04 00:00:00'),\n",
       "  'pair': ('PETR3', 'PETR4'),\n",
       "  'status': 'close',\n",
       "  'price_fst_stock': 15.01,\n",
       "  'price_scnd_stock': 14.95,\n",
       "  'beta_open': 1.0734385426301383,\n",
       "  'beta_close': 1.0490968247854362,\n",
       "  'last_residual': -0.5048693018312225,\n",
       "  'std_residual': 0.19463790526620345,\n",
       "  'std_open_residual': 0.2361977428618788,\n",
       "  'residual_open': -0.5126491561036346,\n",
       "  'open_price_first_stock': 19.56,\n",
       "  'open_price_scnd_stock': 19.14,\n",
       "  'open_date': Timestamp('2021-02-12 00:00:00'),\n",
       "  'close_limit': 0.11809887143095206,\n",
       "  'stop_limit': 1.4723954857237702,\n",
       "  'halflife': 11.0,\n",
       "  'days_open': 12},\n",
       " {'date': Timestamp('2021-12-20 00:00:00'),\n",
       "  'pair': ('PETR3', 'PETR4'),\n",
       "  'status': True,\n",
       "  'price_fst_stock': 25.24,\n",
       "  'price_scnd_stock': 23.18,\n",
       "  'beta_open': 1.1815095441334205,\n",
       "  'beta_close': None,\n",
       "  'last_residual': 0.635775507462963,\n",
       "  'std_residual': 0.2508238474903218,\n",
       "  'std_open_residual': 0.2508238474903218,\n",
       "  'residual_open': 0.635775507462963,\n",
       "  'open_price_first_stock': 25.24,\n",
       "  'open_price_scnd_stock': 23.18,\n",
       "  'open_date': Timestamp('2021-12-20 00:00:00'),\n",
       "  'close_limit': 0.12541192374515742,\n",
       "  'stop_limit': 1.50164769498064,\n",
       "  'halflife': 4.0,\n",
       "  'days_open': 0},\n",
       " {'date': Timestamp('2021-12-21 00:00:00'),\n",
       "  'pair': ('PETR3', 'PETR4'),\n",
       "  'status': True,\n",
       "  'price_fst_stock': 25.36,\n",
       "  'price_scnd_stock': 23.21,\n",
       "  'beta_open': 1.1815095441334205,\n",
       "  'beta_close': None,\n",
       "  'last_residual': 0.7066775928484503,\n",
       "  'std_residual': 0.25477734015763753,\n",
       "  'std_open_residual': 0.2508238474903218,\n",
       "  'residual_open': 0.635775507462963,\n",
       "  'open_price_first_stock': 25.24,\n",
       "  'open_price_scnd_stock': 23.18,\n",
       "  'open_date': Timestamp('2021-12-20 00:00:00'),\n",
       "  'close_limit': 0.12541192374515742,\n",
       "  'stop_limit': 1.50164769498064,\n",
       "  'halflife': 4.0,\n",
       "  'days_open': 1},\n",
       " {'date': Timestamp('2021-12-22 00:00:00'),\n",
       "  'pair': ('PETR3', 'PETR4'),\n",
       "  'status': True,\n",
       "  'price_fst_stock': 25.26,\n",
       "  'price_scnd_stock': 23.18,\n",
       "  'beta_open': 1.1815095441334205,\n",
       "  'beta_close': None,\n",
       "  'last_residual': 0.6301295111755998,\n",
       "  'std_residual': 0.2579075020146143,\n",
       "  'std_open_residual': 0.2508238474903218,\n",
       "  'residual_open': 0.635775507462963,\n",
       "  'open_price_first_stock': 25.24,\n",
       "  'open_price_scnd_stock': 23.18,\n",
       "  'open_date': Timestamp('2021-12-20 00:00:00'),\n",
       "  'close_limit': 0.12541192374515742,\n",
       "  'stop_limit': 1.50164769498064,\n",
       "  'halflife': 4.0,\n",
       "  'days_open': 2},\n",
       " {'date': Timestamp('2021-12-23 00:00:00'),\n",
       "  'pair': ('PETR3', 'PETR4'),\n",
       "  'status': True,\n",
       "  'price_fst_stock': 25.44,\n",
       "  'price_scnd_stock': 23.32,\n",
       "  'beta_open': 1.1815095441334205,\n",
       "  'beta_close': None,\n",
       "  'last_residual': 0.6316811214556886,\n",
       "  'std_residual': 0.26102518395673097,\n",
       "  'std_open_residual': 0.2508238474903218,\n",
       "  'residual_open': 0.635775507462963,\n",
       "  'open_price_first_stock': 25.24,\n",
       "  'open_price_scnd_stock': 23.18,\n",
       "  'open_date': Timestamp('2021-12-20 00:00:00'),\n",
       "  'close_limit': 0.12541192374515742,\n",
       "  'stop_limit': 1.50164769498064,\n",
       "  'halflife': 4.0,\n",
       "  'days_open': 3},\n",
       " {'date': Timestamp('2021-12-27 00:00:00'),\n",
       "  'pair': ('PETR3', 'PETR4'),\n",
       "  'status': True,\n",
       "  'price_fst_stock': 25.95,\n",
       "  'price_scnd_stock': 23.66,\n",
       "  'beta_open': 1.1815095441334205,\n",
       "  'beta_close': None,\n",
       "  'last_residual': 0.7215934178153631,\n",
       "  'std_residual': 0.26504425927641256,\n",
       "  'std_open_residual': 0.2508238474903218,\n",
       "  'residual_open': 0.635775507462963,\n",
       "  'open_price_first_stock': 25.24,\n",
       "  'open_price_scnd_stock': 23.18,\n",
       "  'open_date': Timestamp('2021-12-20 00:00:00'),\n",
       "  'close_limit': 0.12541192374515742,\n",
       "  'stop_limit': 1.50164769498064,\n",
       "  'halflife': 4.0,\n",
       "  'days_open': 4},\n",
       " {'date': Timestamp('2021-12-28 00:00:00'),\n",
       "  'pair': ('PETR3', 'PETR4'),\n",
       "  'status': 'close',\n",
       "  'price_fst_stock': 25.96,\n",
       "  'price_scnd_stock': 23.69,\n",
       "  'beta_open': 1.1815095441334205,\n",
       "  'beta_close': 1.1942162509603258,\n",
       "  'last_residual': 0.6816962823589208,\n",
       "  'std_residual': 0.2683921441750205,\n",
       "  'std_open_residual': 0.2508238474903218,\n",
       "  'residual_open': 0.635775507462963,\n",
       "  'open_price_first_stock': 25.24,\n",
       "  'open_price_scnd_stock': 23.18,\n",
       "  'open_date': Timestamp('2021-12-20 00:00:00'),\n",
       "  'close_limit': 0.12541192374515742,\n",
       "  'stop_limit': 1.50164769498064,\n",
       "  'halflife': 4.0,\n",
       "  'days_open': 5},\n",
       " {'date': Timestamp('2021-12-29 00:00:00'),\n",
       "  'pair': ('PETR3', 'PETR4'),\n",
       "  'status': True,\n",
       "  'price_fst_stock': 25.87,\n",
       "  'price_scnd_stock': 23.49,\n",
       "  'beta_open': 1.1971548497146192,\n",
       "  'beta_close': None,\n",
       "  'last_residual': 0.8147079102821486,\n",
       "  'std_residual': 0.27333360710421706,\n",
       "  'std_open_residual': 0.27333360710421706,\n",
       "  'residual_open': 0.8147079102821486,\n",
       "  'open_price_first_stock': 25.87,\n",
       "  'open_price_scnd_stock': 23.49,\n",
       "  'open_date': Timestamp('2021-12-29 00:00:00'),\n",
       "  'close_limit': 0.13666680355214966,\n",
       "  'stop_limit': 1.5466672142084752,\n",
       "  'halflife': 4.0,\n",
       "  'days_open': 0},\n",
       " {'date': Timestamp('2021-12-30 00:00:00'),\n",
       "  'pair': ('PETR3', 'PETR4'),\n",
       "  'status': True,\n",
       "  'price_fst_stock': 25.66,\n",
       "  'price_scnd_stock': 23.42,\n",
       "  'beta_open': 1.1971548497146192,\n",
       "  'beta_close': None,\n",
       "  'last_residual': 0.6759166629840152,\n",
       "  'std_residual': 0.27638108341501744,\n",
       "  'std_open_residual': 0.27333360710421706,\n",
       "  'residual_open': 0.8147079102821486,\n",
       "  'open_price_first_stock': 25.87,\n",
       "  'open_price_scnd_stock': 23.49,\n",
       "  'open_date': Timestamp('2021-12-29 00:00:00'),\n",
       "  'close_limit': 0.13666680355214966,\n",
       "  'stop_limit': 1.5466672142084752,\n",
       "  'halflife': 4.0,\n",
       "  'days_open': 1},\n",
       " {'date': Timestamp('2022-01-03 00:00:00'),\n",
       "  'pair': ('PETR3', 'PETR4'),\n",
       "  'status': True,\n",
       "  'price_fst_stock': 26.35,\n",
       "  'price_scnd_stock': 23.94,\n",
       "  'beta_open': 1.1971548497146192,\n",
       "  'beta_close': None,\n",
       "  'last_residual': 0.7261161719759777,\n",
       "  'std_residual': 0.2799911878829628,\n",
       "  'std_open_residual': 0.27333360710421706,\n",
       "  'residual_open': 0.8147079102821486,\n",
       "  'open_price_first_stock': 25.87,\n",
       "  'open_price_scnd_stock': 23.49,\n",
       "  'open_date': Timestamp('2021-12-29 00:00:00'),\n",
       "  'close_limit': 0.13666680355214966,\n",
       "  'stop_limit': 1.5466672142084752,\n",
       "  'halflife': 4.0,\n",
       "  'days_open': 2},\n",
       " {'date': Timestamp('2022-01-04 00:00:00'),\n",
       "  'pair': ('PETR3', 'PETR4'),\n",
       "  'status': True,\n",
       "  'price_fst_stock': 26.68,\n",
       "  'price_scnd_stock': 24.03,\n",
       "  'beta_open': 1.1971548497146192,\n",
       "  'beta_close': None,\n",
       "  'last_residual': 0.9272404293479113,\n",
       "  'std_residual': 0.28614744131086545,\n",
       "  'std_open_residual': 0.27333360710421706,\n",
       "  'residual_open': 0.8147079102821486,\n",
       "  'open_price_first_stock': 25.87,\n",
       "  'open_price_scnd_stock': 23.49,\n",
       "  'open_date': Timestamp('2021-12-29 00:00:00'),\n",
       "  'close_limit': 0.13666680355214966,\n",
       "  'stop_limit': 1.5466672142084752,\n",
       "  'halflife': 4.0,\n",
       "  'days_open': 3},\n",
       " {'date': Timestamp('2022-01-05 00:00:00'),\n",
       "  'pair': ('PETR3', 'PETR4'),\n",
       "  'status': True,\n",
       "  'price_fst_stock': 25.59,\n",
       "  'price_scnd_stock': 23.1,\n",
       "  'beta_open': 1.1971548497146192,\n",
       "  'beta_close': None,\n",
       "  'last_residual': 0.9441042188308444,\n",
       "  'std_residual': 0.2923814029535134,\n",
       "  'std_open_residual': 0.27333360710421706,\n",
       "  'residual_open': 0.8147079102821486,\n",
       "  'open_price_first_stock': 25.87,\n",
       "  'open_price_scnd_stock': 23.49,\n",
       "  'open_date': Timestamp('2021-12-29 00:00:00'),\n",
       "  'close_limit': 0.13666680355214966,\n",
       "  'stop_limit': 1.5466672142084752,\n",
       "  'halflife': 4.0,\n",
       "  'days_open': 4},\n",
       " {'date': Timestamp('2022-01-06 00:00:00'),\n",
       "  'pair': ('PETR3', 'PETR4'),\n",
       "  'status': 'close',\n",
       "  'price_fst_stock': 25.56,\n",
       "  'price_scnd_stock': 23.09,\n",
       "  'beta_open': 1.1971548497146192,\n",
       "  'beta_close': 1.2116122798306654,\n",
       "  'last_residual': 0.9119354351400801,\n",
       "  'std_residual': 0.2980585519128613,\n",
       "  'std_open_residual': 0.27333360710421706,\n",
       "  'residual_open': 0.8147079102821486,\n",
       "  'open_price_first_stock': 25.87,\n",
       "  'open_price_scnd_stock': 23.49,\n",
       "  'open_date': Timestamp('2021-12-29 00:00:00'),\n",
       "  'close_limit': 0.13666680355214966,\n",
       "  'stop_limit': 1.5466672142084752,\n",
       "  'halflife': 4.0,\n",
       "  'days_open': 5},\n",
       " {'date': Timestamp('2022-01-07 00:00:00'),\n",
       "  'pair': ('PETR3', 'PETR4'),\n",
       "  'status': True,\n",
       "  'price_fst_stock': 25.77,\n",
       "  'price_scnd_stock': 23.19,\n",
       "  'beta_open': 1.214549869936781,\n",
       "  'beta_close': None,\n",
       "  'last_residual': 0.9852949777773752,\n",
       "  'std_residual': 0.30457459481468807,\n",
       "  'std_open_residual': 0.30457459481468807,\n",
       "  'residual_open': 0.9852949777773752,\n",
       "  'open_price_first_stock': 25.77,\n",
       "  'open_price_scnd_stock': 23.19,\n",
       "  'open_date': Timestamp('2022-01-07 00:00:00'),\n",
       "  'close_limit': 0.152287297407357,\n",
       "  'stop_limit': 1.609149189629389,\n",
       "  'halflife': 4.0,\n",
       "  'days_open': 0},\n",
       " {'date': Timestamp('2022-01-10 00:00:00'),\n",
       "  'pair': ('PETR3', 'PETR4'),\n",
       "  'status': True,\n",
       "  'price_fst_stock': 25.68,\n",
       "  'price_scnd_stock': 23.05,\n",
       "  'beta_open': 1.214549869936781,\n",
       "  'beta_close': None,\n",
       "  'last_residual': 1.0497707724186505,\n",
       "  'std_residual': 0.3118014874399381,\n",
       "  'std_open_residual': 0.30457459481468807,\n",
       "  'residual_open': 0.9852949777773752,\n",
       "  'open_price_first_stock': 25.77,\n",
       "  'open_price_scnd_stock': 23.19,\n",
       "  'open_date': Timestamp('2022-01-07 00:00:00'),\n",
       "  'close_limit': 0.152287297407357,\n",
       "  'stop_limit': 1.609149189629389,\n",
       "  'halflife': 4.0,\n",
       "  'days_open': 1},\n",
       " {'date': Timestamp('2022-01-11 00:00:00'),\n",
       "  'pair': ('PETR3', 'PETR4'),\n",
       "  'status': True,\n",
       "  'price_fst_stock': 26.74,\n",
       "  'price_scnd_stock': 23.74,\n",
       "  'beta_open': 1.214549869936781,\n",
       "  'beta_close': None,\n",
       "  'last_residual': 1.2439710786332157,\n",
       "  'std_residual': 0.3210597790082147,\n",
       "  'std_open_residual': 0.30457459481468807,\n",
       "  'residual_open': 0.9852949777773752,\n",
       "  'open_price_first_stock': 25.77,\n",
       "  'open_price_scnd_stock': 23.19,\n",
       "  'open_date': Timestamp('2022-01-07 00:00:00'),\n",
       "  'close_limit': 0.152287297407357,\n",
       "  'stop_limit': 1.609149189629389,\n",
       "  'halflife': 4.0,\n",
       "  'days_open': 2},\n",
       " {'date': Timestamp('2022-01-12 00:00:00'),\n",
       "  'pair': ('PETR3', 'PETR4'),\n",
       "  'status': True,\n",
       "  'price_fst_stock': 27.63,\n",
       "  'price_scnd_stock': 24.46,\n",
       "  'beta_open': 1.214549869936781,\n",
       "  'beta_close': None,\n",
       "  'last_residual': 1.2242623986662764,\n",
       "  'std_residual': 0.33030574099155885,\n",
       "  'std_open_residual': 0.30457459481468807,\n",
       "  'residual_open': 0.9852949777773752,\n",
       "  'open_price_first_stock': 25.77,\n",
       "  'open_price_scnd_stock': 23.19,\n",
       "  'open_date': Timestamp('2022-01-07 00:00:00'),\n",
       "  'close_limit': 0.152287297407357,\n",
       "  'stop_limit': 1.609149189629389,\n",
       "  'halflife': 4.0,\n",
       "  'days_open': 3},\n",
       " {'date': Timestamp('2022-01-13 00:00:00'),\n",
       "  'pair': ('PETR3', 'PETR4'),\n",
       "  'status': True,\n",
       "  'price_fst_stock': 28.29,\n",
       "  'price_scnd_stock': 24.95,\n",
       "  'beta_open': 1.214549869936781,\n",
       "  'beta_close': None,\n",
       "  'last_residual': 1.2469141450343209,\n",
       "  'std_residual': 0.33936792019449247,\n",
       "  'std_open_residual': 0.30457459481468807,\n",
       "  'residual_open': 0.9852949777773752,\n",
       "  'open_price_first_stock': 25.77,\n",
       "  'open_price_scnd_stock': 23.19,\n",
       "  'open_date': Timestamp('2022-01-07 00:00:00'),\n",
       "  'close_limit': 0.152287297407357,\n",
       "  'stop_limit': 1.609149189629389,\n",
       "  'halflife': 4.0,\n",
       "  'days_open': 4},\n",
       " {'date': Timestamp('2022-01-14 00:00:00'),\n",
       "  'pair': ('PETR3', 'PETR4'),\n",
       "  'status': 'close',\n",
       "  'price_fst_stock': 28.89,\n",
       "  'price_scnd_stock': 25.88,\n",
       "  'beta_open': 1.214549869936781,\n",
       "  'beta_close': 1.235496180289363,\n",
       "  'last_residual': 0.6732992133581241,\n",
       "  'std_residual': 0.34105884770225187,\n",
       "  'std_open_residual': 0.30457459481468807,\n",
       "  'residual_open': 0.9852949777773752,\n",
       "  'open_price_first_stock': 25.77,\n",
       "  'open_price_scnd_stock': 23.19,\n",
       "  'open_date': Timestamp('2022-01-07 00:00:00'),\n",
       "  'close_limit': 0.152287297407357,\n",
       "  'stop_limit': 1.609149189629389,\n",
       "  'halflife': 4.0,\n",
       "  'days_open': 5},\n",
       " {'date': Timestamp('2022-02-23 00:00:00'),\n",
       "  'pair': ('PETR3', 'PETR4'),\n",
       "  'status': True,\n",
       "  'price_fst_stock': 30.33,\n",
       "  'price_scnd_stock': 28.16,\n",
       "  'beta_open': 1.2605615600768092,\n",
       "  'beta_close': None,\n",
       "  'last_residual': -0.9481229579458379,\n",
       "  'std_residual': 0.3523831644542462,\n",
       "  'std_open_residual': 0.3523831644542462,\n",
       "  'residual_open': -0.9481229579458379,\n",
       "  'open_price_first_stock': 30.33,\n",
       "  'open_price_scnd_stock': 28.16,\n",
       "  'open_date': Timestamp('2022-02-23 00:00:00'),\n",
       "  'close_limit': 0.17619158222714013,\n",
       "  'stop_limit': 1.7047663289085095,\n",
       "  'halflife': 6.0,\n",
       "  'days_open': 0},\n",
       " {'date': Timestamp('2022-02-24 00:00:00'),\n",
       "  'pair': ('PETR3', 'PETR4'),\n",
       "  'status': True,\n",
       "  'price_fst_stock': 29.85,\n",
       "  'price_scnd_stock': 27.48,\n",
       "  'beta_open': 1.2605615600768092,\n",
       "  'beta_close': None,\n",
       "  'last_residual': -0.5578375210415842,\n",
       "  'std_residual': 0.3541418305961692,\n",
       "  'std_open_residual': 0.3523831644542462,\n",
       "  'residual_open': -0.9481229579458379,\n",
       "  'open_price_first_stock': 30.33,\n",
       "  'open_price_scnd_stock': 28.16,\n",
       "  'open_date': Timestamp('2022-02-23 00:00:00'),\n",
       "  'close_limit': 0.17619158222714013,\n",
       "  'stop_limit': 1.7047663289085095,\n",
       "  'halflife': 6.0,\n",
       "  'days_open': 1},\n",
       " {'date': Timestamp('2022-02-25 00:00:00'),\n",
       "  'pair': ('PETR3', 'PETR4'),\n",
       "  'status': True,\n",
       "  'price_fst_stock': 30.4,\n",
       "  'price_scnd_stock': 27.98,\n",
       "  'beta_open': 1.2605615600768092,\n",
       "  'beta_close': None,\n",
       "  'last_residual': -0.6209586064423043,\n",
       "  'std_residual': 0.35620737300698474,\n",
       "  'std_open_residual': 0.3523831644542462,\n",
       "  'residual_open': -0.9481229579458379,\n",
       "  'open_price_first_stock': 30.33,\n",
       "  'open_price_scnd_stock': 28.16,\n",
       "  'open_date': Timestamp('2022-02-23 00:00:00'),\n",
       "  'close_limit': 0.17619158222714013,\n",
       "  'stop_limit': 1.7047663289085095,\n",
       "  'halflife': 6.0,\n",
       "  'days_open': 2},\n",
       " {'date': Timestamp('2022-03-02 00:00:00'),\n",
       "  'pair': ('PETR3', 'PETR4'),\n",
       "  'status': True,\n",
       "  'price_fst_stock': 31.36,\n",
       "  'price_scnd_stock': 28.53,\n",
       "  'beta_open': 1.2605615600768092,\n",
       "  'beta_close': None,\n",
       "  'last_residual': -0.3450419740649373,\n",
       "  'std_residual': 0.35661784988493755,\n",
       "  'std_open_residual': 0.3523831644542462,\n",
       "  'residual_open': -0.9481229579458379,\n",
       "  'open_price_first_stock': 30.33,\n",
       "  'open_price_scnd_stock': 28.16,\n",
       "  'open_date': Timestamp('2022-02-23 00:00:00'),\n",
       "  'close_limit': 0.17619158222714013,\n",
       "  'stop_limit': 1.7047663289085095,\n",
       "  'halflife': 6.0,\n",
       "  'days_open': 3},\n",
       " {'date': Timestamp('2022-03-03 00:00:00'),\n",
       "  'pair': ('PETR3', 'PETR4'),\n",
       "  'status': 'close',\n",
       "  'price_fst_stock': 31.11,\n",
       "  'price_scnd_stock': 28.18,\n",
       "  'beta_open': 1.2605615600768092,\n",
       "  'beta_close': 1.2570730227829836,\n",
       "  'last_residual': -0.15690002982105256,\n",
       "  'std_residual': 0.35514526643058386,\n",
       "  'std_open_residual': 0.3523831644542462,\n",
       "  'residual_open': -0.9481229579458379,\n",
       "  'open_price_first_stock': 30.33,\n",
       "  'open_price_scnd_stock': 28.16,\n",
       "  'open_date': Timestamp('2022-02-23 00:00:00'),\n",
       "  'close_limit': 0.17619158222714013,\n",
       "  'stop_limit': 1.7047663289085095,\n",
       "  'halflife': 6.0,\n",
       "  'days_open': 4},\n",
       " {'date': Timestamp('2022-03-10 00:00:00'),\n",
       "  'pair': ('PETR3', 'PETR4'),\n",
       "  'status': True,\n",
       "  'price_fst_stock': 29.8,\n",
       "  'price_scnd_stock': 27.74,\n",
       "  'beta_open': 1.2567647272639442,\n",
       "  'beta_close': None,\n",
       "  'last_residual': -0.8916642273258724,\n",
       "  'std_residual': 0.3549658444624273,\n",
       "  'std_open_residual': 0.3549658444624273,\n",
       "  'residual_open': -0.8916642273258724,\n",
       "  'open_price_first_stock': 29.8,\n",
       "  'open_price_scnd_stock': 27.74,\n",
       "  'open_date': Timestamp('2022-03-10 00:00:00'),\n",
       "  'close_limit': 0.17748292223118833,\n",
       "  'stop_limit': 1.7099316889248293,\n",
       "  'halflife': 7.0,\n",
       "  'days_open': 0},\n",
       " {'date': Timestamp('2022-03-11 00:00:00'),\n",
       "  'pair': ('PETR3', 'PETR4'),\n",
       "  'status': True,\n",
       "  'price_fst_stock': 29.1,\n",
       "  'price_scnd_stock': 26.74,\n",
       "  'beta_open': 1.2567647272639442,\n",
       "  'beta_close': None,\n",
       "  'last_residual': -0.33609317360220103,\n",
       "  'std_residual': 0.35251632992550264,\n",
       "  'std_open_residual': 0.3549658444624273,\n",
       "  'residual_open': -0.8916642273258724,\n",
       "  'open_price_first_stock': 29.8,\n",
       "  'open_price_scnd_stock': 27.74,\n",
       "  'open_date': Timestamp('2022-03-10 00:00:00'),\n",
       "  'close_limit': 0.17748292223118833,\n",
       "  'stop_limit': 1.7099316889248293,\n",
       "  'halflife': 7.0,\n",
       "  'days_open': 1},\n",
       " {'date': Timestamp('2022-03-14 00:00:00'),\n",
       "  'pair': ('PETR3', 'PETR4'),\n",
       "  'status': 'close',\n",
       "  'price_fst_stock': 28.73,\n",
       "  'price_scnd_stock': 26.23,\n",
       "  'beta_open': 1.2567647272639442,\n",
       "  'beta_close': 1.2587709912103233,\n",
       "  'last_residual': -0.06811967437696964,\n",
       "  'std_residual': 0.350468781664336,\n",
       "  'std_open_residual': 0.3549658444624273,\n",
       "  'residual_open': -0.8916642273258724,\n",
       "  'open_price_first_stock': 29.8,\n",
       "  'open_price_scnd_stock': 27.74,\n",
       "  'open_date': Timestamp('2022-03-10 00:00:00'),\n",
       "  'close_limit': 0.17748292223118833,\n",
       "  'stop_limit': 1.7099316889248293,\n",
       "  'halflife': 7.0,\n",
       "  'days_open': 2},\n",
       " {'date': Timestamp('2022-03-31 00:00:00'),\n",
       "  'pair': ('PETR3', 'PETR4'),\n",
       "  'status': True,\n",
       "  'price_fst_stock': 29.46,\n",
       "  'price_scnd_stock': 27.53,\n",
       "  'beta_open': 1.2621824065352945,\n",
       "  'beta_close': None,\n",
       "  'last_residual': -0.9791554511203877,\n",
       "  'std_residual': 0.35646876531971877,\n",
       "  'std_open_residual': 0.35646876531971877,\n",
       "  'residual_open': -0.9791554511203877,\n",
       "  'open_price_first_stock': 29.46,\n",
       "  'open_price_scnd_stock': 27.53,\n",
       "  'open_date': Timestamp('2022-03-31 00:00:00'),\n",
       "  'close_limit': 0.178234382659884,\n",
       "  'stop_limit': 1.712937530639462,\n",
       "  'halflife': 5.0,\n",
       "  'days_open': 0},\n",
       " {'date': Timestamp('2022-04-01 00:00:00'),\n",
       "  'pair': ('PETR3', 'PETR4'),\n",
       "  'status': True,\n",
       "  'price_fst_stock': 29.45,\n",
       "  'price_scnd_stock': 27.17,\n",
       "  'beta_open': 1.2621824065352945,\n",
       "  'beta_close': None,\n",
       "  'last_residual': -0.5284497340148597,\n",
       "  'std_residual': 0.3575646280489334,\n",
       "  'std_open_residual': 0.35646876531971877,\n",
       "  'residual_open': -0.9791554511203877,\n",
       "  'open_price_first_stock': 29.46,\n",
       "  'open_price_scnd_stock': 27.53,\n",
       "  'open_date': Timestamp('2022-03-31 00:00:00'),\n",
       "  'close_limit': 0.178234382659884,\n",
       "  'stop_limit': 1.712937530639462,\n",
       "  'halflife': 5.0,\n",
       "  'days_open': 1},\n",
       " {'date': Timestamp('2022-04-04 00:00:00'),\n",
       "  'pair': ('PETR3', 'PETR4'),\n",
       "  'status': True,\n",
       "  'price_fst_stock': 29.15,\n",
       "  'price_scnd_stock': 26.91,\n",
       "  'beta_open': 1.2621824065352945,\n",
       "  'beta_close': None,\n",
       "  'last_residual': -0.49477513438382914,\n",
       "  'std_residual': 0.3586106644907564,\n",
       "  'std_open_residual': 0.35646876531971877,\n",
       "  'residual_open': -0.9791554511203877,\n",
       "  'open_price_first_stock': 29.46,\n",
       "  'open_price_scnd_stock': 27.53,\n",
       "  'open_date': Timestamp('2022-03-31 00:00:00'),\n",
       "  'close_limit': 0.178234382659884,\n",
       "  'stop_limit': 1.712937530639462,\n",
       "  'halflife': 5.0,\n",
       "  'days_open': 2},\n",
       " {'date': Timestamp('2022-04-05 00:00:00'),\n",
       "  'pair': ('PETR3', 'PETR4'),\n",
       "  'status': True,\n",
       "  'price_fst_stock': 29.11,\n",
       "  'price_scnd_stock': 26.66,\n",
       "  'beta_open': 1.2621824065352945,\n",
       "  'beta_close': None,\n",
       "  'last_residual': -0.21795506760234673,\n",
       "  'std_residual': 0.3584762569049316,\n",
       "  'std_open_residual': 0.35646876531971877,\n",
       "  'residual_open': -0.9791554511203877,\n",
       "  'open_price_first_stock': 29.46,\n",
       "  'open_price_scnd_stock': 27.53,\n",
       "  'open_date': Timestamp('2022-03-31 00:00:00'),\n",
       "  'close_limit': 0.178234382659884,\n",
       "  'stop_limit': 1.712937530639462,\n",
       "  'halflife': 5.0,\n",
       "  'days_open': 3},\n",
       " {'date': Timestamp('2022-04-06 00:00:00'),\n",
       "  'pair': ('PETR3', 'PETR4'),\n",
       "  'status': 'close',\n",
       "  'price_fst_stock': 29.21,\n",
       "  'price_scnd_stock': 26.63,\n",
       "  'beta_open': 1.2621824065352945,\n",
       "  'beta_close': 1.2615188528488082,\n",
       "  'last_residual': -0.08026660320872736,\n",
       "  'std_residual': 0.3582244540107508,\n",
       "  'std_open_residual': 0.35646876531971877,\n",
       "  'residual_open': -0.9791554511203877,\n",
       "  'open_price_first_stock': 29.46,\n",
       "  'open_price_scnd_stock': 27.53,\n",
       "  'open_date': Timestamp('2022-03-31 00:00:00'),\n",
       "  'close_limit': 0.178234382659884,\n",
       "  'stop_limit': 1.712937530639462,\n",
       "  'halflife': 5.0,\n",
       "  'days_open': 4},\n",
       " {'date': Timestamp('2022-05-05 00:00:00'),\n",
       "  'pair': ('PETR3', 'PETR4'),\n",
       "  'status': True,\n",
       "  'price_fst_stock': 31.17,\n",
       "  'price_scnd_stock': 28.78,\n",
       "  'beta_open': 1.2636012367027742,\n",
       "  'beta_close': None,\n",
       "  'last_residual': -0.8324278154292131,\n",
       "  'std_residual': 0.36583352381415235,\n",
       "  'std_open_residual': 0.36583352381415235,\n",
       "  'residual_open': -0.8324278154292131,\n",
       "  'open_price_first_stock': 31.17,\n",
       "  'open_price_scnd_stock': 28.78,\n",
       "  'open_date': Timestamp('2022-05-05 00:00:00'),\n",
       "  'close_limit': 0.1829167619070423,\n",
       "  'stop_limit': 1.731667047628271,\n",
       "  'halflife': 5.0,\n",
       "  'days_open': 0},\n",
       " {'date': Timestamp('2022-05-06 00:00:00'),\n",
       "  'pair': ('PETR3', 'PETR4'),\n",
       "  'status': True,\n",
       "  'price_fst_stock': 32.35,\n",
       "  'price_scnd_stock': 29.72,\n",
       "  'beta_open': 1.2636012367027742,\n",
       "  'beta_close': None,\n",
       "  'last_residual': -0.8233774508860208,\n",
       "  'std_residual': 0.36953406018513907,\n",
       "  'std_open_residual': 0.36583352381415235,\n",
       "  'residual_open': -0.8324278154292131,\n",
       "  'open_price_first_stock': 31.17,\n",
       "  'open_price_scnd_stock': 28.78,\n",
       "  'open_date': Timestamp('2022-05-05 00:00:00'),\n",
       "  'close_limit': 0.1829167619070423,\n",
       "  'stop_limit': 1.731667047628271,\n",
       "  'halflife': 5.0,\n",
       "  'days_open': 1},\n",
       " {'date': Timestamp('2022-05-09 00:00:00'),\n",
       "  'pair': ('PETR3', 'PETR4'),\n",
       "  'status': True,\n",
       "  'price_fst_stock': 31.06,\n",
       "  'price_scnd_stock': 28.92,\n",
       "  'beta_open': 1.2636012367027742,\n",
       "  'beta_close': None,\n",
       "  'last_residual': -1.0864613791780222,\n",
       "  'std_residual': 0.3757604189655637,\n",
       "  'std_open_residual': 0.36583352381415235,\n",
       "  'residual_open': -0.8324278154292131,\n",
       "  'open_price_first_stock': 31.17,\n",
       "  'open_price_scnd_stock': 28.78,\n",
       "  'open_date': Timestamp('2022-05-05 00:00:00'),\n",
       "  'close_limit': 0.1829167619070423,\n",
       "  'stop_limit': 1.731667047628271,\n",
       "  'halflife': 5.0,\n",
       "  'days_open': 2},\n",
       " {'date': Timestamp('2022-05-10 00:00:00'),\n",
       "  'pair': ('PETR3', 'PETR4'),\n",
       "  'status': True,\n",
       "  'price_fst_stock': 31.45,\n",
       "  'price_scnd_stock': 29.17,\n",
       "  'beta_open': 1.2636012367027742,\n",
       "  'beta_close': None,\n",
       "  'last_residual': -0.9929873581455873,\n",
       "  'std_residual': 0.38104764511407974,\n",
       "  'std_open_residual': 0.36583352381415235,\n",
       "  'residual_open': -0.8324278154292131,\n",
       "  'open_price_first_stock': 31.17,\n",
       "  'open_price_scnd_stock': 28.78,\n",
       "  'open_date': Timestamp('2022-05-05 00:00:00'),\n",
       "  'close_limit': 0.1829167619070423,\n",
       "  'stop_limit': 1.731667047628271,\n",
       "  'halflife': 5.0,\n",
       "  'days_open': 3},\n",
       " {'date': Timestamp('2022-05-11 00:00:00'),\n",
       "  'pair': ('PETR3', 'PETR4'),\n",
       "  'status': True,\n",
       "  'price_fst_stock': 33.03,\n",
       "  'price_scnd_stock': 30.18,\n",
       "  'beta_open': 1.2636012367027742,\n",
       "  'beta_close': None,\n",
       "  'last_residual': -0.6685229459504498,\n",
       "  'std_residual': 0.3834163572426766,\n",
       "  'std_open_residual': 0.36583352381415235,\n",
       "  'residual_open': -0.8324278154292131,\n",
       "  'open_price_first_stock': 31.17,\n",
       "  'open_price_scnd_stock': 28.78,\n",
       "  'open_date': Timestamp('2022-05-05 00:00:00'),\n",
       "  'close_limit': 0.1829167619070423,\n",
       "  'stop_limit': 1.731667047628271,\n",
       "  'halflife': 5.0,\n",
       "  'days_open': 4},\n",
       " {'date': Timestamp('2022-05-12 00:00:00'),\n",
       "  'pair': ('PETR3', 'PETR4'),\n",
       "  'status': True,\n",
       "  'price_fst_stock': 33.16,\n",
       "  'price_scnd_stock': 30.42,\n",
       "  'beta_open': 1.2636012367027742,\n",
       "  'beta_close': None,\n",
       "  'last_residual': -0.8194088367162777,\n",
       "  'std_residual': 0.3869063809897209,\n",
       "  'std_open_residual': 0.36583352381415235,\n",
       "  'residual_open': -0.8324278154292131,\n",
       "  'open_price_first_stock': 31.17,\n",
       "  'open_price_scnd_stock': 28.78,\n",
       "  'open_date': Timestamp('2022-05-05 00:00:00'),\n",
       "  'close_limit': 0.1829167619070423,\n",
       "  'stop_limit': 1.731667047628271,\n",
       "  'halflife': 5.0,\n",
       "  'days_open': 5},\n",
       " {'date': Timestamp('2022-05-13 00:00:00'),\n",
       "  'pair': ('PETR3', 'PETR4'),\n",
       "  'status': 'close',\n",
       "  'price_fst_stock': 33.21,\n",
       "  'price_scnd_stock': 30.81,\n",
       "  'beta_open': 1.2636012367027742,\n",
       "  'beta_close': 1.2504458461508514,\n",
       "  'last_residual': -1.2255687585347346,\n",
       "  'std_residual': 0.3945765286082203,\n",
       "  'std_open_residual': 0.36583352381415235,\n",
       "  'residual_open': -0.8324278154292131,\n",
       "  'open_price_first_stock': 31.17,\n",
       "  'open_price_scnd_stock': 28.78,\n",
       "  'open_date': Timestamp('2022-05-05 00:00:00'),\n",
       "  'close_limit': 0.1829167619070423,\n",
       "  'stop_limit': 1.731667047628271,\n",
       "  'halflife': 5.0,\n",
       "  'days_open': 6},\n",
       " {'date': Timestamp('2022-05-20 00:00:00'),\n",
       "  'pair': ('PETR3', 'PETR4'),\n",
       "  'status': True,\n",
       "  'price_fst_stock': 34.15,\n",
       "  'price_scnd_stock': 31.32,\n",
       "  'beta_open': 1.2410528825360214,\n",
       "  'beta_close': None,\n",
       "  'last_residual': -0.84211025968672,\n",
       "  'std_residual': 0.39683137019817155,\n",
       "  'std_open_residual': 0.39683137019817155,\n",
       "  'residual_open': -0.84211025968672,\n",
       "  'open_price_first_stock': 34.15,\n",
       "  'open_price_scnd_stock': 31.32,\n",
       "  'open_date': Timestamp('2022-05-20 00:00:00'),\n",
       "  'close_limit': 0.19841568509908675,\n",
       "  'stop_limit': 1.793662740396344,\n",
       "  'halflife': 6.0,\n",
       "  'days_open': 0},\n",
       " {'date': Timestamp('2022-05-23 00:00:00'),\n",
       "  'pair': ('PETR3', 'PETR4'),\n",
       "  'status': True,\n",
       "  'price_fst_stock': 35.41,\n",
       "  'price_scnd_stock': 32.55,\n",
       "  'beta_open': 1.2410528825360214,\n",
       "  'beta_close': None,\n",
       "  'last_residual': -1.0688263510216274,\n",
       "  'std_residual': 0.4001689386350439,\n",
       "  'std_open_residual': 0.39683137019817155,\n",
       "  'residual_open': -0.84211025968672,\n",
       "  'open_price_first_stock': 34.15,\n",
       "  'open_price_scnd_stock': 31.32,\n",
       "  'open_date': Timestamp('2022-05-20 00:00:00'),\n",
       "  'close_limit': 0.19841568509908675,\n",
       "  'stop_limit': 1.793662740396344,\n",
       "  'halflife': 6.0,\n",
       "  'days_open': 1},\n",
       " {'date': Timestamp('2022-05-24 00:00:00'),\n",
       "  'pair': ('PETR3', 'PETR4'),\n",
       "  'status': True,\n",
       "  'price_fst_stock': 34.4,\n",
       "  'price_scnd_stock': 31.6,\n",
       "  'beta_open': 1.2410528825360214,\n",
       "  'beta_close': None,\n",
       "  'last_residual': -0.8765725520935632,\n",
       "  'std_residual': 0.4022476950857617,\n",
       "  'std_open_residual': 0.39683137019817155,\n",
       "  'residual_open': -0.84211025968672,\n",
       "  'open_price_first_stock': 34.15,\n",
       "  'open_price_scnd_stock': 31.32,\n",
       "  'open_date': Timestamp('2022-05-20 00:00:00'),\n",
       "  'close_limit': 0.19841568509908675,\n",
       "  'stop_limit': 1.793662740396344,\n",
       "  'halflife': 6.0,\n",
       "  'days_open': 2},\n",
       " {'date': Timestamp('2022-05-25 00:00:00'),\n",
       "  'pair': ('PETR3', 'PETR4'),\n",
       "  'status': True,\n",
       "  'price_fst_stock': 35.1,\n",
       "  'price_scnd_stock': 32.05,\n",
       "  'beta_open': 1.2410528825360214,\n",
       "  'beta_close': None,\n",
       "  'last_residual': -0.7067670820486072,\n",
       "  'std_residual': 0.40245522161362945,\n",
       "  'std_open_residual': 0.39683137019817155,\n",
       "  'residual_open': -0.84211025968672,\n",
       "  'open_price_first_stock': 34.15,\n",
       "  'open_price_scnd_stock': 31.32,\n",
       "  'open_date': Timestamp('2022-05-20 00:00:00'),\n",
       "  'close_limit': 0.19841568509908675,\n",
       "  'stop_limit': 1.793662740396344,\n",
       "  'halflife': 6.0,\n",
       "  'days_open': 3},\n",
       " {'date': Timestamp('2022-05-26 00:00:00'),\n",
       "  'pair': ('PETR3', 'PETR4'),\n",
       "  'status': True,\n",
       "  'price_fst_stock': 35.21,\n",
       "  'price_scnd_stock': 32.13,\n",
       "  'beta_open': 1.2410528825360214,\n",
       "  'beta_close': None,\n",
       "  'last_residual': -0.6725986273664191,\n",
       "  'std_residual': 0.4033547755209896,\n",
       "  'std_open_residual': 0.39683137019817155,\n",
       "  'residual_open': -0.84211025968672,\n",
       "  'open_price_first_stock': 34.15,\n",
       "  'open_price_scnd_stock': 31.32,\n",
       "  'open_date': Timestamp('2022-05-20 00:00:00'),\n",
       "  'close_limit': 0.19841568509908675,\n",
       "  'stop_limit': 1.793662740396344,\n",
       "  'halflife': 6.0,\n",
       "  'days_open': 4},\n",
       " {'date': Timestamp('2022-05-27 00:00:00'),\n",
       "  'pair': ('PETR3', 'PETR4'),\n",
       "  'status': True,\n",
       "  'price_fst_stock': 33.74,\n",
       "  'price_scnd_stock': 30.6,\n",
       "  'beta_open': 1.2410528825360214,\n",
       "  'beta_close': None,\n",
       "  'last_residual': -0.25326778561058205,\n",
       "  'std_residual': 0.400928385472988,\n",
       "  'std_open_residual': 0.39683137019817155,\n",
       "  'residual_open': -0.84211025968672,\n",
       "  'open_price_first_stock': 34.15,\n",
       "  'open_price_scnd_stock': 31.32,\n",
       "  'open_date': Timestamp('2022-05-20 00:00:00'),\n",
       "  'close_limit': 0.19841568509908675,\n",
       "  'stop_limit': 1.793662740396344,\n",
       "  'halflife': 6.0,\n",
       "  'days_open': 5},\n",
       " {'date': Timestamp('2022-05-30 00:00:00'),\n",
       "  'pair': ('PETR3', 'PETR4'),\n",
       "  'status': True,\n",
       "  'price_fst_stock': 33.01,\n",
       "  'price_scnd_stock': 29.99,\n",
       "  'beta_open': 1.2410528825360214,\n",
       "  'beta_close': None,\n",
       "  'last_residual': -0.22738099716611515,\n",
       "  'std_residual': 0.3993669677151826,\n",
       "  'std_open_residual': 0.39683137019817155,\n",
       "  'residual_open': -0.84211025968672,\n",
       "  'open_price_first_stock': 34.15,\n",
       "  'open_price_scnd_stock': 31.32,\n",
       "  'open_date': Timestamp('2022-05-20 00:00:00'),\n",
       "  'close_limit': 0.19841568509908675,\n",
       "  'stop_limit': 1.793662740396344,\n",
       "  'halflife': 6.0,\n",
       "  'days_open': 6},\n",
       " {'date': Timestamp('2022-05-31 00:00:00'),\n",
       "  'pair': ('PETR3', 'PETR4'),\n",
       "  'status': 'close',\n",
       "  'price_fst_stock': 33.26,\n",
       "  'price_scnd_stock': 30.06,\n",
       "  'beta_open': 1.2410528825360214,\n",
       "  'beta_close': 1.2250627324264092,\n",
       "  'last_residual': -0.05865081174260922,\n",
       "  'std_residual': 0.39717792650104905,\n",
       "  'std_open_residual': 0.39683137019817155,\n",
       "  'residual_open': -0.84211025968672,\n",
       "  'open_price_first_stock': 34.15,\n",
       "  'open_price_scnd_stock': 31.32,\n",
       "  'open_date': Timestamp('2022-05-20 00:00:00'),\n",
       "  'close_limit': 0.19841568509908675,\n",
       "  'stop_limit': 1.793662740396344,\n",
       "  'halflife': 6.0,\n",
       "  'days_open': 7}]"
      ]
     },
     "execution_count": 55,
     "metadata": {},
     "output_type": "execute_result"
    }
   ],
   "source": [
    "e.backtest(('PETR3', 'PETR4'))"
   ]
  },
  {
   "cell_type": "code",
   "execution_count": 327,
   "id": "da972fd2",
   "metadata": {
    "ExecuteTime": {
     "end_time": "2022-08-06T23:21:35.389501Z",
     "start_time": "2022-08-06T23:21:35.373504Z"
    }
   },
   "outputs": [],
   "source": [
    "d = backtest.Cointegration()"
   ]
  },
  {
   "cell_type": "code",
   "execution_count": 328,
   "id": "1e0bf1d8",
   "metadata": {
    "ExecuteTime": {
     "end_time": "2022-08-06T23:21:35.760630Z",
     "start_time": "2022-08-06T23:21:35.720589Z"
    }
   },
   "outputs": [
    {
     "data": {
      "text/plain": [
       "True"
      ]
     },
     "execution_count": 328,
     "metadata": {},
     "output_type": "execute_result"
    }
   ],
   "source": [
    "d.cointegration_test(df_prices['PETR3'], df_prices['PETR4'])"
   ]
  },
  {
   "cell_type": "code",
   "execution_count": 329,
   "id": "af872155",
   "metadata": {
    "ExecuteTime": {
     "end_time": "2022-08-06T23:21:37.796108Z",
     "start_time": "2022-08-06T23:21:37.764069Z"
    }
   },
   "outputs": [
    {
     "data": {
      "text/html": [
       "<table class=\"simpletable\">\n",
       "<caption>OLS Regression Results</caption>\n",
       "<tr>\n",
       "  <th>Dep. Variable:</th>          <td>PETR3</td>      <th>  R-squared:         </th> <td>   0.990</td> \n",
       "</tr>\n",
       "<tr>\n",
       "  <th>Model:</th>                   <td>OLS</td>       <th>  Adj. R-squared:    </th> <td>   0.989</td> \n",
       "</tr>\n",
       "<tr>\n",
       "  <th>Method:</th>             <td>Least Squares</td>  <th>  F-statistic:       </th> <td>2.365e+04</td>\n",
       "</tr>\n",
       "<tr>\n",
       "  <th>Date:</th>             <td>Sat, 06 Aug 2022</td> <th>  Prob (F-statistic):</th> <td>1.43e-249</td>\n",
       "</tr>\n",
       "<tr>\n",
       "  <th>Time:</th>                 <td>20:21:37</td>     <th>  Log-Likelihood:    </th> <td> -30.212</td> \n",
       "</tr>\n",
       "<tr>\n",
       "  <th>No. Observations:</th>      <td>   252</td>      <th>  AIC:               </th> <td>   64.42</td> \n",
       "</tr>\n",
       "<tr>\n",
       "  <th>Df Residuals:</th>          <td>   250</td>      <th>  BIC:               </th> <td>   71.48</td> \n",
       "</tr>\n",
       "<tr>\n",
       "  <th>Df Model:</th>              <td>     1</td>      <th>                     </th>     <td> </td>    \n",
       "</tr>\n",
       "<tr>\n",
       "  <th>Covariance Type:</th>      <td>nonrobust</td>    <th>                     </th>     <td> </td>    \n",
       "</tr>\n",
       "</table>\n",
       "<table class=\"simpletable\">\n",
       "<tr>\n",
       "    <td></td>       <th>coef</th>     <th>std err</th>      <th>t</th>      <th>P>|t|</th>  <th>[0.025</th>    <th>0.975]</th>  \n",
       "</tr>\n",
       "<tr>\n",
       "  <th>const</th> <td>   -3.0659</td> <td>    0.150</td> <td>  -20.450</td> <td> 0.000</td> <td>   -3.361</td> <td>   -2.771</td>\n",
       "</tr>\n",
       "<tr>\n",
       "  <th>PETR4</th> <td>    1.1972</td> <td>    0.008</td> <td>  153.776</td> <td> 0.000</td> <td>    1.182</td> <td>    1.212</td>\n",
       "</tr>\n",
       "</table>\n",
       "<table class=\"simpletable\">\n",
       "<tr>\n",
       "  <th>Omnibus:</th>       <td> 1.215</td> <th>  Durbin-Watson:     </th> <td>   0.331</td>\n",
       "</tr>\n",
       "<tr>\n",
       "  <th>Prob(Omnibus):</th> <td> 0.545</td> <th>  Jarque-Bera (JB):  </th> <td>   0.936</td>\n",
       "</tr>\n",
       "<tr>\n",
       "  <th>Skew:</th>          <td>-0.126</td> <th>  Prob(JB):          </th> <td>   0.626</td>\n",
       "</tr>\n",
       "<tr>\n",
       "  <th>Kurtosis:</th>      <td> 3.159</td> <th>  Cond. No.          </th> <td>    168.</td>\n",
       "</tr>\n",
       "</table><br/><br/>Notes:<br/>[1] Standard Errors assume that the covariance matrix of the errors is correctly specified."
      ],
      "text/plain": [
       "<class 'statsmodels.iolib.summary.Summary'>\n",
       "\"\"\"\n",
       "                            OLS Regression Results                            \n",
       "==============================================================================\n",
       "Dep. Variable:                  PETR3   R-squared:                       0.990\n",
       "Model:                            OLS   Adj. R-squared:                  0.989\n",
       "Method:                 Least Squares   F-statistic:                 2.365e+04\n",
       "Date:                Sat, 06 Aug 2022   Prob (F-statistic):          1.43e-249\n",
       "Time:                        20:21:37   Log-Likelihood:                -30.212\n",
       "No. Observations:                 252   AIC:                             64.42\n",
       "Df Residuals:                     250   BIC:                             71.48\n",
       "Df Model:                           1                                         \n",
       "Covariance Type:            nonrobust                                         \n",
       "==============================================================================\n",
       "                 coef    std err          t      P>|t|      [0.025      0.975]\n",
       "------------------------------------------------------------------------------\n",
       "const         -3.0659      0.150    -20.450      0.000      -3.361      -2.771\n",
       "PETR4          1.1972      0.008    153.776      0.000       1.182       1.212\n",
       "==============================================================================\n",
       "Omnibus:                        1.215   Durbin-Watson:                   0.331\n",
       "Prob(Omnibus):                  0.545   Jarque-Bera (JB):                0.936\n",
       "Skew:                          -0.126   Prob(JB):                        0.626\n",
       "Kurtosis:                       3.159   Cond. No.                         168.\n",
       "==============================================================================\n",
       "\n",
       "Notes:\n",
       "[1] Standard Errors assume that the covariance matrix of the errors is correctly specified.\n",
       "\"\"\""
      ]
     },
     "execution_count": 329,
     "metadata": {},
     "output_type": "execute_result"
    }
   ],
   "source": [
    "d.reg.summary()"
   ]
  },
  {
   "cell_type": "code",
   "execution_count": 493,
   "id": "69e4f8d9",
   "metadata": {
    "ExecuteTime": {
     "end_time": "2022-08-07T00:37:07.752602Z",
     "start_time": "2022-08-07T00:37:07.744594Z"
    }
   },
   "outputs": [],
   "source": [
    "from arch.unitroot import engle_granger, ADF"
   ]
  },
  {
   "cell_type": "markdown",
   "id": "2a01fc63",
   "metadata": {
    "ExecuteTime": {
     "end_time": "2022-08-06T18:47:27.069802Z",
     "start_time": "2022-08-06T18:47:26.886240Z"
    }
   },
   "source": [
    "d.residuals.plot()"
   ]
  },
  {
   "cell_type": "code",
   "execution_count": 380,
   "id": "08298de7",
   "metadata": {
    "ExecuteTime": {
     "end_time": "2022-08-06T23:39:41.499461Z",
     "start_time": "2022-08-06T23:39:41.475416Z"
    }
   },
   "outputs": [],
   "source": [
    "from statsmodels.tsa.stattools import coint\n",
    "from statsmodels.tsa.adfvalues import mackinnonp\n",
    "import statsmodels.api as sm\n",
    "from statsmodels.regression.rolling import RollingOLS\n"
   ]
  },
  {
   "cell_type": "code",
   "execution_count": 524,
   "id": "6325ac0e",
   "metadata": {
    "ExecuteTime": {
     "end_time": "2022-08-07T00:52:50.001899Z",
     "start_time": "2022-08-07T00:52:49.961860Z"
    }
   },
   "outputs": [
    {
     "data": {
      "text/plain": [
       "-1.11302835792929"
      ]
     },
     "execution_count": 524,
     "metadata": {},
     "output_type": "execute_result"
    }
   ],
   "source": [
    "arch_coint = engle_granger(df_prices['ELET3'], df_prices['ELET6'], trend='c')\n",
    "arch_coint.cointegrating_vector[1]"
   ]
  },
  {
   "cell_type": "code",
   "execution_count": 526,
   "id": "434b8dac",
   "metadata": {
    "ExecuteTime": {
     "end_time": "2022-08-07T00:53:00.261791Z",
     "start_time": "2022-08-07T00:53:00.237791Z"
    }
   },
   "outputs": [
    {
     "data": {
      "text/plain": [
       "const   -3.594595\n",
       "ELET6    1.113028\n",
       "dtype: float64"
      ]
     },
     "execution_count": 526,
     "metadata": {},
     "output_type": "execute_result"
    }
   ],
   "source": [
    "s_reg.params"
   ]
  },
  {
   "cell_type": "code",
   "execution_count": 507,
   "id": "b2c06b46",
   "metadata": {
    "ExecuteTime": {
     "end_time": "2022-08-07T00:41:41.485484Z",
     "start_time": "2022-08-07T00:41:41.437480Z"
    }
   },
   "outputs": [
    {
     "data": {
      "text/plain": [
       "1.471266681642102e-06"
      ]
     },
     "execution_count": 507,
     "metadata": {},
     "output_type": "execute_result"
    }
   ],
   "source": [
    "aa = ADF(arch_coint.resid, method='BIC')\n",
    "aa.pvalue"
   ]
  },
  {
   "cell_type": "code",
   "execution_count": 505,
   "id": "e7a22864",
   "metadata": {
    "ExecuteTime": {
     "end_time": "2022-08-07T00:40:03.068148Z",
     "start_time": "2022-08-07T00:40:02.902085Z"
    }
   },
   "outputs": [
    {
     "data": {
      "text/plain": [
       "(-5.570491448014227,\n",
       " 1.4712666816421648e-06,\n",
       " 1,\n",
       " 1215,\n",
       " {'1%': -3.435743555099632,\n",
       "  '5%': -2.8639217381867486,\n",
       "  '10%': -2.568038075665972},\n",
       " 339.9981085441376)"
      ]
     },
     "execution_count": 505,
     "metadata": {},
     "output_type": "execute_result"
    }
   ],
   "source": [
    "ts.adfuller(s_reg.resid, autolag='BIC')"
   ]
  },
  {
   "cell_type": "code",
   "execution_count": 502,
   "id": "8b1cd856",
   "metadata": {
    "ExecuteTime": {
     "end_time": "2022-08-07T00:39:19.888125Z",
     "start_time": "2022-08-07T00:39:19.612656Z"
    }
   },
   "outputs": [
    {
     "data": {
      "text/plain": [
       "1.2716170350117677e-05"
      ]
     },
     "execution_count": 502,
     "metadata": {},
     "output_type": "execute_result"
    }
   ],
   "source": [
    "coin = coint(df_prices['ELET3'], df_prices['ELET6'], autolag='BIC', trend='c')\n",
    "coin[1]"
   ]
  },
  {
   "cell_type": "code",
   "execution_count": 503,
   "id": "12c1487a",
   "metadata": {
    "ExecuteTime": {
     "end_time": "2022-08-07T00:39:26.762421Z",
     "start_time": "2022-08-07T00:39:26.584658Z"
    }
   },
   "outputs": [
    {
     "data": {
      "text/plain": [
       "1.2908459448336375e-05"
      ]
     },
     "execution_count": 503,
     "metadata": {},
     "output_type": "execute_result"
    }
   ],
   "source": [
    "y= df_prices['ELET3']\n",
    "x = df_prices['ELET6']\n",
    "x = sm.add_constant(x)\n",
    "s_reg = sm.OLS(y,x).fit()\n",
    "add = ts.adfuller(s_reg.resid, autolag='BIC')\n",
    "mackinnonp(add[0], N=2, regression='c')"
   ]
  },
  {
   "cell_type": "code",
   "execution_count": 504,
   "id": "c2a20186",
   "metadata": {
    "ExecuteTime": {
     "end_time": "2022-08-07T00:39:28.056091Z",
     "start_time": "2022-08-07T00:39:27.855337Z"
    }
   },
   "outputs": [
    {
     "data": {
      "text/plain": [
       "1.290845944833645e-05"
      ]
     },
     "execution_count": 504,
     "metadata": {},
     "output_type": "execute_result"
    }
   ],
   "source": [
    "reg = LinearRegression().fit(df_prices[['ELET6']], df_prices[['ELET3']])\n",
    "resi = df_prices[['ELET3']].values - reg.predict(df_prices[['ELET6']])\n",
    "ad = ts.adfuller(resi, autolag='BIC')\n",
    "mackinnonp(ad[0], N=2, regression='c')"
   ]
  },
  {
   "cell_type": "code",
   "execution_count": 586,
   "id": "c9dd9cc8",
   "metadata": {
    "ExecuteTime": {
     "end_time": "2022-08-08T01:06:02.118752Z",
     "start_time": "2022-08-08T01:06:02.094732Z"
    }
   },
   "outputs": [
    {
     "data": {
      "text/plain": [
       "-0.034863664934051575"
      ]
     },
     "execution_count": 586,
     "metadata": {},
     "output_type": "execute_result"
    }
   ],
   "source": [
    "df_prices['ELET3'].pct_change().sort_values().quantile(0.1)"
   ]
  },
  {
   "cell_type": "code",
   "execution_count": 592,
   "id": "91228801",
   "metadata": {
    "ExecuteTime": {
     "end_time": "2022-08-08T01:16:01.214386Z",
     "start_time": "2022-08-08T01:16:01.190346Z"
    }
   },
   "outputs": [
    {
     "data": {
      "text/plain": [
       "1.176293121487808"
      ]
     },
     "execution_count": 592,
     "metadata": {},
     "output_type": "execute_result"
    }
   ],
   "source": [
    "arch_coint.resid.sort_values().quantile(0.95)"
   ]
  },
  {
   "cell_type": "code",
   "execution_count": null,
   "id": "0183e0e5",
   "metadata": {},
   "outputs": [],
   "source": []
  }
 ],
 "metadata": {
  "kernelspec": {
   "display_name": "Python 3",
   "language": "python",
   "name": "python3"
  },
  "language_info": {
   "codemirror_mode": {
    "name": "ipython",
    "version": 3
   },
   "file_extension": ".py",
   "mimetype": "text/x-python",
   "name": "python",
   "nbconvert_exporter": "python",
   "pygments_lexer": "ipython3",
   "version": "3.8.4"
  }
 },
 "nbformat": 4,
 "nbformat_minor": 5
}
