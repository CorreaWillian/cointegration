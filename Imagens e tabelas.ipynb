{
 "cells": [
  {
   "cell_type": "code",
   "execution_count": 1,
   "id": "b5ebc803",
   "metadata": {
    "ExecuteTime": {
     "end_time": "2022-08-15T02:29:22.440108Z",
     "start_time": "2022-08-15T02:29:17.603311Z"
    }
   },
   "outputs": [],
   "source": [
    "import execute\n",
    "import pandas as pd\n",
    "import numpy as np\n",
    "import pickle\n",
    "import seaborn as sns\n",
    "import matplotlib.pyplot as plt\n",
    "import math\n",
    "from scipy.stats import spearmanr, kstest"
   ]
  },
  {
   "cell_type": "code",
   "execution_count": 5,
   "id": "2cbb9508",
   "metadata": {
    "ExecuteTime": {
     "end_time": "2022-08-15T02:29:56.693841Z",
     "start_time": "2022-08-15T02:29:56.675509Z"
    }
   },
   "outputs": [],
   "source": [
    "filepath = r'resultados_sergio\\diario_252_0.01_0.5_desligado_0.05_desligado_desligado.csv.pickle'"
   ]
  },
  {
   "cell_type": "code",
   "execution_count": 6,
   "id": "21dbc773",
   "metadata": {
    "ExecuteTime": {
     "end_time": "2022-08-15T02:29:57.170128Z",
     "start_time": "2022-08-15T02:29:57.141071Z"
    }
   },
   "outputs": [
    {
     "data": {
      "text/html": [
       "<div>\n",
       "<style scoped>\n",
       "    .dataframe tbody tr th:only-of-type {\n",
       "        vertical-align: middle;\n",
       "    }\n",
       "\n",
       "    .dataframe tbody tr th {\n",
       "        vertical-align: top;\n",
       "    }\n",
       "\n",
       "    .dataframe thead th {\n",
       "        text-align: right;\n",
       "    }\n",
       "</style>\n",
       "<table border=\"1\" class=\"dataframe\">\n",
       "  <thead>\n",
       "    <tr style=\"text-align: right;\">\n",
       "      <th></th>\n",
       "      <th>-</th>\n",
       "      <th>--</th>\n",
       "    </tr>\n",
       "  </thead>\n",
       "  <tbody>\n",
       "    <tr>\n",
       "      <th>0</th>\n",
       "      <td>periodo</td>\n",
       "      <td>diario</td>\n",
       "    </tr>\n",
       "    <tr>\n",
       "      <th>1</th>\n",
       "      <td>train_size</td>\n",
       "      <td>252</td>\n",
       "    </tr>\n",
       "    <tr>\n",
       "      <th>2</th>\n",
       "      <td>significancia</td>\n",
       "      <td>0.01</td>\n",
       "    </tr>\n",
       "    <tr>\n",
       "      <th>3</th>\n",
       "      <td>z_score_saida</td>\n",
       "      <td>0.5</td>\n",
       "    </tr>\n",
       "    <tr>\n",
       "      <th>4</th>\n",
       "      <td>z_score_stop</td>\n",
       "      <td>desligado</td>\n",
       "    </tr>\n",
       "    <tr>\n",
       "      <th>5</th>\n",
       "      <td>conf_var</td>\n",
       "      <td>0.05</td>\n",
       "    </tr>\n",
       "    <tr>\n",
       "      <th>6</th>\n",
       "      <td>usar_halflife</td>\n",
       "      <td>desligado</td>\n",
       "    </tr>\n",
       "    <tr>\n",
       "      <th>7</th>\n",
       "      <td>usar_var</td>\n",
       "      <td>desligado</td>\n",
       "    </tr>\n",
       "  </tbody>\n",
       "</table>\n",
       "</div>"
      ],
      "text/plain": [
       "               -         --\n",
       "0        periodo     diario\n",
       "1     train_size        252\n",
       "2  significancia       0.01\n",
       "3  z_score_saida        0.5\n",
       "4   z_score_stop  desligado\n",
       "5       conf_var       0.05\n",
       "6  usar_halflife  desligado\n",
       "7       usar_var  desligado"
      ]
     },
     "execution_count": 6,
     "metadata": {},
     "output_type": "execute_result"
    }
   ],
   "source": [
    "file = filepath[:-11].split('\\\\')[1].split('_')\n",
    "dicionario = ['periodo', 'train_size', 'significancia', 'z_score_saida', 'z_score_stop', 'conf_var', 'usar_halflife', 'usar_var']\n",
    "pd.DataFrame({'-':dicionario, '--':file})"
   ]
  },
  {
   "cell_type": "code",
   "execution_count": 7,
   "id": "6e2ecb2c",
   "metadata": {
    "ExecuteTime": {
     "end_time": "2022-08-15T02:30:00.950437Z",
     "start_time": "2022-08-15T02:30:00.934010Z"
    }
   },
   "outputs": [],
   "source": [
    "with open(filepath, 'rb') as handle:\n",
    "    dict_list = pickle.load(handle)"
   ]
  },
  {
   "cell_type": "code",
   "execution_count": 8,
   "id": "1d05125a",
   "metadata": {
    "ExecuteTime": {
     "end_time": "2022-08-15T02:30:01.279369Z",
     "start_time": "2022-08-15T02:30:01.270586Z"
    }
   },
   "outputs": [
    {
     "data": {
      "text/plain": [
       "2.7426005087315173"
      ]
     },
     "execution_count": 8,
     "metadata": {},
     "output_type": "execute_result"
    }
   ],
   "source": [
    "dict_list['return'].sum()"
   ]
  },
  {
   "cell_type": "code",
   "execution_count": 9,
   "id": "fdffda56",
   "metadata": {
    "ExecuteTime": {
     "end_time": "2022-08-15T02:30:02.060210Z",
     "start_time": "2022-08-15T02:30:02.020777Z"
    }
   },
   "outputs": [],
   "source": [
    "def desfaz(df_antigo):\n",
    "    \n",
    "    d1_list = []\n",
    "    \n",
    "    closed = df_antigo.loc[df_antigo.status=='close']\n",
    "    custos = 0.0071\n",
    "    \n",
    "    for row in closed.itertuples():\n",
    "        \n",
    "        d1 = df_antigo.loc[df_antigo.id == row.id]\n",
    "        d1.set_index('date', inplace=True)\n",
    "        aluguel = (1.0143)**((d1.iloc[-1].days_open+2)/252) -1\n",
    "        \n",
    "        if row.side == 'lower':\n",
    "            \n",
    "            d1.at[row.open_date, 'price_fst_stock'] =  d1.at[row.open_date, 'price_fst_stock'] / (1+0.0071)\n",
    "            d1.at[row.open_date, 'price_scnd_stock'] = d1.at[row.open_date, 'price_scnd_stock'] / (1-0.0071)\n",
    "\n",
    "            d1.at[row.date, 'price_fst_stock'] = d1.at[row.date, 'price_fst_stock'] / (1-custos)\n",
    "            d1.at[row.date, 'price_scnd_stock'] = d1.at[row.date, 'price_scnd_stock'] / (1+(custos+aluguel))\n",
    "            \n",
    "        else:\n",
    "            \n",
    "            d1.at[row.open_date,'price_scnd_stock'] = d1.at[row.open_date,'price_scnd_stock'] / (1+0.0071)\n",
    "            d1.at[row.open_date, 'price_fst_stock'] = d1.at[row.open_date, 'price_fst_stock'] / (1-0.0071)\n",
    "\n",
    "            d1.at[row.date, 'price_scnd_stock'] = d1.at[row.date, 'price_scnd_stock'] / (1-custos)\n",
    "            d1.at[row.date,'price_fst_stock'] = d1.at[row.date,'price_fst_stock'] / (1+(custos+aluguel))\n",
    "            \n",
    "        d1.at[row.open_date,'open_price_first_stock'] = d1.at[row.open_date, 'price_fst_stock']\n",
    "        d1.at[row.open_date, 'open_price_scnd_stock'] = d1.at[row.open_date, 'price_scnd_stock']\n",
    "        \n",
    "        d1_list.append(d1)\n",
    "        \n",
    "    novo=pd.concat(d1_list)        \n",
    "    novo.drop(columns=['ratio_sem_custos', 'ratio', 'return', 'retorno_acumulado', 'return_sem_custos', 'retorno_acumulado_sem_custos', 'side'], inplace=True)\n",
    "    \n",
    "    return novo"
   ]
  },
  {
   "cell_type": "code",
   "execution_count": 10,
   "id": "72617977",
   "metadata": {
    "ExecuteTime": {
     "end_time": "2022-08-15T02:30:03.128854Z",
     "start_time": "2022-08-15T02:30:02.317967Z"
    }
   },
   "outputs": [],
   "source": [
    "df_novo = desfaz(dict_list)"
   ]
  },
  {
   "attachments": {
    "image.png": {
     "image/png": "[encoded data removed]"
    }
   },
   "cell_type": "markdown",
   "id": "9bbcdffa",
   "metadata": {},
   "source": [
    "![image.png](attachment:image.png)"
   ]
  },
  {
   "cell_type": "code",
   "execution_count": 11,
   "id": "8ecde1a6",
   "metadata": {
    "ExecuteTime": {
     "end_time": "2022-08-15T02:30:12.451606Z",
     "start_time": "2022-08-15T02:30:03.133628Z"
    }
   },
   "outputs": [
    {
     "name": "stderr",
     "output_type": "stream",
     "text": [
      "C:\\Users\\willi\\Documents\\GitHub\\cointegration\\execute.py:316: FutureWarning: Value based partial slicing on non-monotonic DatetimeIndexes with non-existing keys is deprecated and will raise a KeyError in a future Version.\n",
      "  df_returns = df_returns.set_index('open_date').loc['2019-01-01':]\n",
      "C:\\Users\\willi\\Documents\\GitHub\\cointegration\\execute.py:316: FutureWarning: Value based partial slicing on non-monotonic DatetimeIndexes with non-existing keys is deprecated and will raise a KeyError in a future Version.\n",
      "  df_returns = df_returns.set_index('open_date').loc['2019-01-01':]\n",
      "C:\\Users\\willi\\Documents\\GitHub\\cointegration\\execute.py:316: FutureWarning: Value based partial slicing on non-monotonic DatetimeIndexes with non-existing keys is deprecated and will raise a KeyError in a future Version.\n",
      "  df_returns = df_returns.set_index('open_date').loc['2019-01-01':]\n"
     ]
    }
   ],
   "source": [
    "custo_baixo = execute.novo_retorno(df_novo.reset_index(), custo_compra=0.00135, custo_venda=0.00385)\n",
    "custo_medio = execute.novo_retorno(df_novo.reset_index(), custo_compra=0.00385, custo_venda=0.00635)\n",
    "custo_alto = execute.novo_retorno(df_novo.reset_index(), custo_compra=0.0064, custo_venda=0.0089)"
   ]
  },
  {
   "cell_type": "code",
   "execution_count": 12,
   "id": "1a8d3721",
   "metadata": {
    "ExecuteTime": {
     "end_time": "2022-08-15T02:30:12.481657Z",
     "start_time": "2022-08-15T02:30:12.457404Z"
    }
   },
   "outputs": [
    {
     "data": {
      "text/plain": [
       "2.7426005087315173"
      ]
     },
     "execution_count": 12,
     "metadata": {},
     "output_type": "execute_result"
    }
   ],
   "source": [
    "dict_list['return'].sum()"
   ]
  },
  {
   "cell_type": "code",
   "execution_count": 13,
   "id": "c3643cb8",
   "metadata": {
    "ExecuteTime": {
     "end_time": "2022-08-15T02:30:12.512429Z",
     "start_time": "2022-08-15T02:30:12.488170Z"
    }
   },
   "outputs": [],
   "source": [
    "log_return_custo_baixo = np.log(1+custo_baixo.groupby('date')['return'].mean().fillna(0))\n",
    "custo_baixo_return = np.exp(log_return_custo_baixo.cumsum()) -1"
   ]
  },
  {
   "cell_type": "code",
   "execution_count": 14,
   "id": "4699439e",
   "metadata": {
    "ExecuteTime": {
     "end_time": "2022-08-15T02:30:12.558909Z",
     "start_time": "2022-08-15T02:30:12.523878Z"
    }
   },
   "outputs": [],
   "source": [
    "log_return_custo_medio = np.log(1+custo_medio.groupby('date')['return'].mean().fillna(0))\n",
    "custo_medio_return = np.exp(log_return_custo_medio.cumsum()) -1"
   ]
  },
  {
   "cell_type": "code",
   "execution_count": 15,
   "id": "96543c88",
   "metadata": {
    "ExecuteTime": {
     "end_time": "2022-08-15T02:30:12.585786Z",
     "start_time": "2022-08-15T02:30:12.564016Z"
    }
   },
   "outputs": [],
   "source": [
    "log_return_custo_alto = np.log(1+custo_alto.groupby('date')['return'].mean().fillna(0))\n",
    "custo_alto_return = np.exp(log_return_custo_alto.cumsum()) -1"
   ]
  },
  {
   "cell_type": "code",
   "execution_count": 16,
   "id": "88bc08ac",
   "metadata": {
    "ExecuteTime": {
     "end_time": "2022-08-15T02:30:14.112743Z",
     "start_time": "2022-08-15T02:30:12.592400Z"
    }
   },
   "outputs": [],
   "source": [
    "# Calcula retorno IBOV\n",
    "ibov = pd.read_excel(r'ibov_historico.xlsx')\n",
    "ibov.set_index('time', inplace=True)\n",
    "\n",
    "ibov = ibov.loc[custo_baixo_return.index.min():custo_baixo_return.index.max()]\n",
    "\n",
    "log_return_ibov = np.log(1+ibov.close.pct_change())\n",
    "ibov_returns = np.exp(log_return_ibov.cumsum()) - 1"
   ]
  },
  {
   "cell_type": "code",
   "execution_count": 17,
   "id": "be890b23",
   "metadata": {
    "ExecuteTime": {
     "end_time": "2022-08-15T02:30:15.479755Z",
     "start_time": "2022-08-15T02:30:14.148712Z"
    },
    "scrolled": false
   },
   "outputs": [
    {
     "data": {
      "text/plain": [
       "Text(0, 0.5, 'retorno')"
      ]
     },
     "execution_count": 17,
     "metadata": {},
     "output_type": "execute_result"
    },
    {
     "data": {
      "image/png": "[encoded data removed]",
      "text/plain": [
       "<Figure size 1080x576 with 1 Axes>"
      ]
     },
     "metadata": {
      "needs_background": "light"
     },
     "output_type": "display_data"
    }
   ],
   "source": [
    "plt.figure(figsize=(15,8))\n",
    "\n",
    "sns.lineplot(x=ibov_returns.index, y=ibov_returns, label='ibov')\n",
    "sns.lineplot(x=custo_baixo_return.index, y=custo_baixo_return, label='custo baixo')\n",
    "sns.lineplot(x=custo_medio_return.index, y=custo_medio_return, label='custo medio')\n",
    "sns.lineplot(x=custo_alto_return.index, y=custo_alto_return, label='custo alto')\n",
    "\n",
    "plt.xlabel('data')\n",
    "plt.ylabel('retorno')\n",
    "# plt.axhline(y=ibov_returns.iloc[-1])\n",
    "# plt.axhline(y=ibov_returns.iloc[-1])\n"
   ]
  },
  {
   "attachments": {
    "image.png": {
     "image/png": "[encoded data removed]"
    }
   },
   "cell_type": "markdown",
   "id": "5e9effef",
   "metadata": {},
   "source": [
    "![image.png](attachment:image.png)"
   ]
  },
  {
   "cell_type": "code",
   "execution_count": 18,
   "id": "7406b82f",
   "metadata": {
    "ExecuteTime": {
     "end_time": "2022-08-15T02:30:15.534825Z",
     "start_time": "2022-08-15T02:30:15.483664Z"
    }
   },
   "outputs": [
    {
     "data": {
      "text/html": [
       "<div>\n",
       "<style scoped>\n",
       "    .dataframe tbody tr th:only-of-type {\n",
       "        vertical-align: middle;\n",
       "    }\n",
       "\n",
       "    .dataframe tbody tr th {\n",
       "        vertical-align: top;\n",
       "    }\n",
       "\n",
       "    .dataframe thead th {\n",
       "        text-align: right;\n",
       "    }\n",
       "</style>\n",
       "<table border=\"1\" class=\"dataframe\">\n",
       "  <thead>\n",
       "    <tr style=\"text-align: right;\">\n",
       "      <th></th>\n",
       "      <th>ibov</th>\n",
       "      <th>custo_baixo</th>\n",
       "      <th>custo_medio</th>\n",
       "      <th>custo_alto</th>\n",
       "    </tr>\n",
       "  </thead>\n",
       "  <tbody>\n",
       "    <tr>\n",
       "      <th>2019-01-02</th>\n",
       "      <td>0.000000</td>\n",
       "      <td>0.000000</td>\n",
       "      <td>0.000000</td>\n",
       "      <td>0.000000</td>\n",
       "    </tr>\n",
       "    <tr>\n",
       "      <th>2019-01-03</th>\n",
       "      <td>0.006065</td>\n",
       "      <td>-0.004646</td>\n",
       "      <td>-0.009617</td>\n",
       "      <td>-0.014661</td>\n",
       "    </tr>\n",
       "    <tr>\n",
       "      <th>2019-01-04</th>\n",
       "      <td>0.009109</td>\n",
       "      <td>0.003310</td>\n",
       "      <td>-0.001700</td>\n",
       "      <td>-0.006785</td>\n",
       "    </tr>\n",
       "    <tr>\n",
       "      <th>2019-01-07</th>\n",
       "      <td>0.007548</td>\n",
       "      <td>-0.004816</td>\n",
       "      <td>-0.012218</td>\n",
       "      <td>-0.019706</td>\n",
       "    </tr>\n",
       "    <tr>\n",
       "      <th>2019-01-08</th>\n",
       "      <td>0.011207</td>\n",
       "      <td>-0.012843</td>\n",
       "      <td>-0.021816</td>\n",
       "      <td>-0.030872</td>\n",
       "    </tr>\n",
       "    <tr>\n",
       "      <th>...</th>\n",
       "      <td>...</td>\n",
       "      <td>...</td>\n",
       "      <td>...</td>\n",
       "      <td>...</td>\n",
       "    </tr>\n",
       "    <tr>\n",
       "      <th>2022-06-10</th>\n",
       "      <td>0.158979</td>\n",
       "      <td>1.627331</td>\n",
       "      <td>0.822775</td>\n",
       "      <td>0.256523</td>\n",
       "    </tr>\n",
       "    <tr>\n",
       "      <th>2022-06-13</th>\n",
       "      <td>0.127302</td>\n",
       "      <td>1.659391</td>\n",
       "      <td>0.845018</td>\n",
       "      <td>0.271856</td>\n",
       "    </tr>\n",
       "    <tr>\n",
       "      <th>2022-06-14</th>\n",
       "      <td>0.121424</td>\n",
       "      <td>1.667627</td>\n",
       "      <td>0.850731</td>\n",
       "      <td>0.275794</td>\n",
       "    </tr>\n",
       "    <tr>\n",
       "      <th>2022-06-15</th>\n",
       "      <td>0.129598</td>\n",
       "      <td>1.696374</td>\n",
       "      <td>0.870676</td>\n",
       "      <td>0.289543</td>\n",
       "    </tr>\n",
       "    <tr>\n",
       "      <th>2022-06-17</th>\n",
       "      <td>0.096833</td>\n",
       "      <td>1.865904</td>\n",
       "      <td>0.978367</td>\n",
       "      <td>0.356836</td>\n",
       "    </tr>\n",
       "  </tbody>\n",
       "</table>\n",
       "<p>859 rows × 4 columns</p>\n",
       "</div>"
      ],
      "text/plain": [
       "                ibov  custo_baixo  custo_medio  custo_alto\n",
       "2019-01-02  0.000000     0.000000     0.000000    0.000000\n",
       "2019-01-03  0.006065    -0.004646    -0.009617   -0.014661\n",
       "2019-01-04  0.009109     0.003310    -0.001700   -0.006785\n",
       "2019-01-07  0.007548    -0.004816    -0.012218   -0.019706\n",
       "2019-01-08  0.011207    -0.012843    -0.021816   -0.030872\n",
       "...              ...          ...          ...         ...\n",
       "2022-06-10  0.158979     1.627331     0.822775    0.256523\n",
       "2022-06-13  0.127302     1.659391     0.845018    0.271856\n",
       "2022-06-14  0.121424     1.667627     0.850731    0.275794\n",
       "2022-06-15  0.129598     1.696374     0.870676    0.289543\n",
       "2022-06-17  0.096833     1.865904     0.978367    0.356836\n",
       "\n",
       "[859 rows x 4 columns]"
      ]
     },
     "execution_count": 18,
     "metadata": {},
     "output_type": "execute_result"
    }
   ],
   "source": [
    "tabela_completa = pd.concat([ibov_returns, custo_baixo_return, custo_medio_return, custo_alto_return], axis=1).fillna(0)\n",
    "tabela_completa.columns = ['ibov', 'custo_baixo', 'custo_medio', 'custo_alto']\n",
    "tabela_completa"
   ]
  },
  {
   "cell_type": "code",
   "execution_count": 19,
   "id": "081291bd",
   "metadata": {
    "ExecuteTime": {
     "end_time": "2022-08-15T02:30:15.562481Z",
     "start_time": "2022-08-15T02:30:15.539983Z"
    }
   },
   "outputs": [
    {
     "data": {
      "text/plain": [
       "0.3296043621870279"
      ]
     },
     "execution_count": 19,
     "metadata": {},
     "output_type": "execute_result"
    }
   ],
   "source": [
    "vol_ibov = log_return_ibov.std() * math.sqrt(252)\n",
    "retorno_ibov = ibov_returns.iloc[-1]\n",
    "\n",
    "sharpe_ibov = retorno_ibov / vol_ibov\n",
    "\n",
    "sharpe_ibov"
   ]
  },
  {
   "cell_type": "code",
   "execution_count": 20,
   "id": "79e7d34f",
   "metadata": {
    "ExecuteTime": {
     "end_time": "2022-08-15T02:30:15.603310Z",
     "start_time": "2022-08-15T02:30:15.570477Z"
    }
   },
   "outputs": [
    {
     "data": {
      "text/plain": [
       "0.45466867635988234"
      ]
     },
     "execution_count": 20,
     "metadata": {},
     "output_type": "execute_result"
    }
   ],
   "source": [
    "vol_custo_baixo = log_return_custo_baixo.std() * math.sqrt(252)\n",
    "retorno_custo_baixo = custo_baixo_return.iloc[-1]\n",
    "\n",
    "sharpe_custo_baixo = retorno_custo_baixo / vol_custo_baixo\n",
    "\n",
    "corr_baixo_ibov, p_valor = spearmanr(tabela_completa[['ibov', 'custo_baixo']])\n",
    "corr_baixo_ibov"
   ]
  },
  {
   "cell_type": "code",
   "execution_count": 21,
   "id": "c286327f",
   "metadata": {
    "ExecuteTime": {
     "end_time": "2022-08-15T02:30:15.629588Z",
     "start_time": "2022-08-15T02:30:15.604314Z"
    }
   },
   "outputs": [
    {
     "data": {
      "text/plain": [
       "0.4676458641009258"
      ]
     },
     "execution_count": 21,
     "metadata": {},
     "output_type": "execute_result"
    }
   ],
   "source": [
    "vol_custo_medio = log_return_custo_medio.std() * math.sqrt(252)\n",
    "retorno_custo_medio = custo_medio_return.iloc[-1]\n",
    "sharpe_custo_medio = retorno_custo_medio / vol_custo_medio\n",
    "\n",
    "corr_medio_ibov, p_valor = spearmanr(tabela_completa[['ibov', 'custo_medio']])\n",
    "corr_medio_ibov"
   ]
  },
  {
   "cell_type": "code",
   "execution_count": 22,
   "id": "fa5f3b3f",
   "metadata": {
    "ExecuteTime": {
     "end_time": "2022-08-15T02:30:15.673670Z",
     "start_time": "2022-08-15T02:30:15.635220Z"
    }
   },
   "outputs": [
    {
     "data": {
      "text/plain": [
       "0.5240431738377319"
      ]
     },
     "execution_count": 22,
     "metadata": {},
     "output_type": "execute_result"
    }
   ],
   "source": [
    "vol_custo_alto = log_return_custo_alto.std() * math.sqrt(252)\n",
    "retorno_custo_alto = custo_alto_return.iloc[-1]\n",
    "sharpe_custo_alto = retorno_custo_alto / vol_custo_alto\n",
    "\n",
    "corr_alto_ibov, p_valor = spearmanr(tabela_completa[['ibov', 'custo_alto']])\n",
    "corr_alto_ibov"
   ]
  },
  {
   "cell_type": "code",
   "execution_count": 23,
   "id": "0514a058",
   "metadata": {
    "ExecuteTime": {
     "end_time": "2022-08-15T02:30:15.725015Z",
     "start_time": "2022-08-15T02:30:15.679189Z"
    }
   },
   "outputs": [
    {
     "data": {
      "text/html": [
       "<div>\n",
       "<style scoped>\n",
       "    .dataframe tbody tr th:only-of-type {\n",
       "        vertical-align: middle;\n",
       "    }\n",
       "\n",
       "    .dataframe tbody tr th {\n",
       "        vertical-align: top;\n",
       "    }\n",
       "\n",
       "    .dataframe thead th {\n",
       "        text-align: right;\n",
       "    }\n",
       "</style>\n",
       "<table border=\"1\" class=\"dataframe\">\n",
       "  <thead>\n",
       "    <tr style=\"text-align: right;\">\n",
       "      <th></th>\n",
       "      <th>0</th>\n",
       "      <th>1</th>\n",
       "      <th>2</th>\n",
       "      <th>3</th>\n",
       "    </tr>\n",
       "  </thead>\n",
       "  <tbody>\n",
       "    <tr>\n",
       "      <th>carteira</th>\n",
       "      <td>Retorno acumulado</td>\n",
       "      <td>Desvio Padrão</td>\n",
       "      <td>Índice de Informação</td>\n",
       "      <td>Correlação IBOV</td>\n",
       "    </tr>\n",
       "    <tr>\n",
       "      <th>Cointegração 1</th>\n",
       "      <td>1.865904</td>\n",
       "      <td>0.27302</td>\n",
       "      <td>6.834311</td>\n",
       "      <td>0.454669</td>\n",
       "    </tr>\n",
       "    <tr>\n",
       "      <th>Cointegração 2</th>\n",
       "      <td>0.978367</td>\n",
       "      <td>0.272077</td>\n",
       "      <td>3.595917</td>\n",
       "      <td>0.467646</td>\n",
       "    </tr>\n",
       "    <tr>\n",
       "      <th>Cointegração 3</th>\n",
       "      <td>0.356836</td>\n",
       "      <td>0.272098</td>\n",
       "      <td>1.311423</td>\n",
       "      <td>0.524043</td>\n",
       "    </tr>\n",
       "    <tr>\n",
       "      <th>IBOV</th>\n",
       "      <td>0.096833</td>\n",
       "      <td>0.293787</td>\n",
       "      <td>0.329604</td>\n",
       "      <td>-</td>\n",
       "    </tr>\n",
       "  </tbody>\n",
       "</table>\n",
       "</div>"
      ],
      "text/plain": [
       "                                0              1                     2  \\\n",
       "carteira        Retorno acumulado  Desvio Padrão  Índice de Informação   \n",
       "Cointegração 1           1.865904        0.27302              6.834311   \n",
       "Cointegração 2           0.978367       0.272077              3.595917   \n",
       "Cointegração 3           0.356836       0.272098              1.311423   \n",
       "IBOV                     0.096833       0.293787              0.329604   \n",
       "\n",
       "                              3  \n",
       "carteira        Correlação IBOV  \n",
       "Cointegração 1         0.454669  \n",
       "Cointegração 2         0.467646  \n",
       "Cointegração 3         0.524043  \n",
       "IBOV                          -  "
      ]
     },
     "execution_count": 23,
     "metadata": {},
     "output_type": "execute_result"
    }
   ],
   "source": [
    "pd.DataFrame({\n",
    "    'carteira':['Retorno acumulado', 'Desvio Padrão', 'Índice de Informação', 'Correlação IBOV'], \n",
    "    'Cointegração 1':[retorno_custo_baixo, vol_custo_baixo, sharpe_custo_baixo, corr_baixo_ibov],\n",
    "    'Cointegração 2': [retorno_custo_medio, vol_custo_medio, sharpe_custo_medio, corr_medio_ibov],\n",
    "    'Cointegração 3': [retorno_custo_alto, vol_custo_alto, sharpe_custo_alto, corr_alto_ibov],\n",
    "    'IBOV': [retorno_ibov, vol_ibov, sharpe_ibov, '-']\n",
    "}\n",
    "            ).T"
   ]
  },
  {
   "cell_type": "markdown",
   "id": "23d1429b",
   "metadata": {},
   "source": [
    "# PARTE 2"
   ]
  },
  {
   "attachments": {
    "image.png": {
     "image/png": "[encoded data removed]"
    }
   },
   "cell_type": "markdown",
   "id": "5efadedf",
   "metadata": {},
   "source": [
    "![image.png](attachment:image.png)"
   ]
  },
  {
   "cell_type": "code",
   "execution_count": 75,
   "id": "830f91d7",
   "metadata": {
    "ExecuteTime": {
     "end_time": "2022-08-15T01:57:03.510393Z",
     "start_time": "2022-08-15T01:57:03.501114Z"
    }
   },
   "outputs": [],
   "source": [
    "filepath = r'resultados_sergio\\diario_252_0.01_0.5_desligado_0.1_desligado_ligado.csv.pickle'"
   ]
  },
  {
   "cell_type": "code",
   "execution_count": 76,
   "id": "db4400bf",
   "metadata": {
    "ExecuteTime": {
     "end_time": "2022-08-15T01:57:04.291295Z",
     "start_time": "2022-08-15T01:57:04.267296Z"
    }
   },
   "outputs": [
    {
     "data": {
      "text/html": [
       "<div>\n",
       "<style scoped>\n",
       "    .dataframe tbody tr th:only-of-type {\n",
       "        vertical-align: middle;\n",
       "    }\n",
       "\n",
       "    .dataframe tbody tr th {\n",
       "        vertical-align: top;\n",
       "    }\n",
       "\n",
       "    .dataframe thead th {\n",
       "        text-align: right;\n",
       "    }\n",
       "</style>\n",
       "<table border=\"1\" class=\"dataframe\">\n",
       "  <thead>\n",
       "    <tr style=\"text-align: right;\">\n",
       "      <th></th>\n",
       "      <th>-</th>\n",
       "      <th>--</th>\n",
       "    </tr>\n",
       "  </thead>\n",
       "  <tbody>\n",
       "    <tr>\n",
       "      <th>0</th>\n",
       "      <td>periodo</td>\n",
       "      <td>diario</td>\n",
       "    </tr>\n",
       "    <tr>\n",
       "      <th>1</th>\n",
       "      <td>train_size</td>\n",
       "      <td>252</td>\n",
       "    </tr>\n",
       "    <tr>\n",
       "      <th>2</th>\n",
       "      <td>significancia</td>\n",
       "      <td>0.01</td>\n",
       "    </tr>\n",
       "    <tr>\n",
       "      <th>3</th>\n",
       "      <td>z_score_saida</td>\n",
       "      <td>0.5</td>\n",
       "    </tr>\n",
       "    <tr>\n",
       "      <th>4</th>\n",
       "      <td>z_score_stop</td>\n",
       "      <td>desligado</td>\n",
       "    </tr>\n",
       "    <tr>\n",
       "      <th>5</th>\n",
       "      <td>conf_var</td>\n",
       "      <td>0.1</td>\n",
       "    </tr>\n",
       "    <tr>\n",
       "      <th>6</th>\n",
       "      <td>usar_halflife</td>\n",
       "      <td>desligado</td>\n",
       "    </tr>\n",
       "    <tr>\n",
       "      <th>7</th>\n",
       "      <td>usar_var</td>\n",
       "      <td>ligado</td>\n",
       "    </tr>\n",
       "  </tbody>\n",
       "</table>\n",
       "</div>"
      ],
      "text/plain": [
       "               -         --\n",
       "0        periodo     diario\n",
       "1     train_size        252\n",
       "2  significancia       0.01\n",
       "3  z_score_saida        0.5\n",
       "4   z_score_stop  desligado\n",
       "5       conf_var        0.1\n",
       "6  usar_halflife  desligado\n",
       "7       usar_var     ligado"
      ]
     },
     "execution_count": 76,
     "metadata": {},
     "output_type": "execute_result"
    }
   ],
   "source": [
    "file = filepath[:-11].split('\\\\')[1].split('_')\n",
    "dicionario = ['periodo', 'train_size', 'significancia', 'z_score_saida', 'z_score_stop', 'conf_var', 'usar_halflife', 'usar_var']\n",
    "pd.DataFrame({'-':dicionario, '--':file})"
   ]
  },
  {
   "cell_type": "code",
   "execution_count": 77,
   "id": "e1c16d47",
   "metadata": {
    "ExecuteTime": {
     "end_time": "2022-08-15T03:09:12.709711Z",
     "start_time": "2022-08-15T03:09:12.697931Z"
    }
   },
   "outputs": [],
   "source": [
    "path_sem_var = r'resultados_sergio\\diario_252_0.01_0.5_desligado_0.05_desligado_desligado.csv.pickle'\n",
    "path_var_1 = r'resultados_sergio\\diario_252_0.01_0.5_desligado_0.01_desligado_ligado.csv.pickle'\n",
    "path_var_5 = r'resultados_sergio\\diario_252_0.01_0.5_desligado_0.05_desligado_ligado.csv.pickle'\n",
    "path_var_10 = r'resultados_sergio\\diario_252_0.01_0.5_desligado_0.1_desligado_ligado.csv.pickle'"
   ]
  },
  {
   "cell_type": "code",
   "execution_count": 78,
   "id": "fb49d12f",
   "metadata": {
    "ExecuteTime": {
     "end_time": "2022-08-15T03:09:21.912532Z",
     "start_time": "2022-08-15T03:09:13.064096Z"
    }
   },
   "outputs": [
    {
     "name": "stderr",
     "output_type": "stream",
     "text": [
      "C:\\Users\\willi\\Documents\\GitHub\\cointegration\\execute.py:316: FutureWarning: Value based partial slicing on non-monotonic DatetimeIndexes with non-existing keys is deprecated and will raise a KeyError in a future Version.\n",
      "  df_returns = df_returns.set_index('open_date').loc['2019-01-01':]\n",
      "C:\\Users\\willi\\Documents\\GitHub\\cointegration\\execute.py:316: FutureWarning: Value based partial slicing on non-monotonic DatetimeIndexes with non-existing keys is deprecated and will raise a KeyError in a future Version.\n",
      "  df_returns = df_returns.set_index('open_date').loc['2019-01-01':]\n",
      "C:\\Users\\willi\\Documents\\GitHub\\cointegration\\execute.py:316: FutureWarning: Value based partial slicing on non-monotonic DatetimeIndexes with non-existing keys is deprecated and will raise a KeyError in a future Version.\n",
      "  df_returns = df_returns.set_index('open_date').loc['2019-01-01':]\n",
      "C:\\Users\\willi\\Documents\\GitHub\\cointegration\\execute.py:316: FutureWarning: Value based partial slicing on non-monotonic DatetimeIndexes with non-existing keys is deprecated and will raise a KeyError in a future Version.\n",
      "  df_returns = df_returns.set_index('open_date').loc['2019-01-01':]\n"
     ]
    }
   ],
   "source": [
    "with open(path_sem_var, 'rb') as handle:\n",
    "    sem_var = desfaz(pickle.load(handle))\n",
    "    \n",
    "with open(path_var_1, 'rb') as handle1:\n",
    "    var1 = desfaz(pickle.load(handle1))\n",
    "\n",
    "with open(path_var_5, 'rb') as handle5:\n",
    "    var5 = desfaz(pickle.load(handle5))  \n",
    "    \n",
    "with open(path_var_10, 'rb') as handle10:\n",
    "    var10 = desfaz(pickle.load(handle10)) \n",
    "\n",
    "\n",
    "sem_var  = execute.novo_retorno(sem_var.reset_index(), custo_compra=0.00135, custo_venda=0.00385)\n",
    "var1 = execute.novo_retorno(var1.reset_index(), custo_compra=0.00135, custo_venda=0.00385)\n",
    "var5 = execute.novo_retorno(var5.reset_index(), custo_compra=0.00135, custo_venda=0.00385)\n",
    "var10 = execute.novo_retorno(var10.reset_index(), custo_compra=0.00135, custo_venda=0.00385)\n"
   ]
  },
  {
   "cell_type": "code",
   "execution_count": 79,
   "id": "00a3eb57",
   "metadata": {
    "ExecuteTime": {
     "end_time": "2022-08-15T03:09:22.110817Z",
     "start_time": "2022-08-15T03:09:21.919531Z"
    }
   },
   "outputs": [
    {
     "name": "stderr",
     "output_type": "stream",
     "text": [
      "<ipython-input-79-47ec52626802>:2: SettingWithCopyWarning: \n",
      "A value is trying to be set on a copy of a slice from a DataFrame.\n",
      "Try using .loc[row_indexer,col_indexer] = value instead\n",
      "\n",
      "See the caveats in the documentation: https://pandas.pydata.org/pandas-docs/stable/user_guide/indexing.html#returning-a-view-versus-a-copy\n",
      "  fechadas_sem_var['e_lucro_bruto'] = fechadas_sem_var['retorno_acumulado_sem_custos'] > 0\n",
      "<ipython-input-79-47ec52626802>:5: SettingWithCopyWarning: \n",
      "A value is trying to be set on a copy of a slice from a DataFrame.\n",
      "Try using .loc[row_indexer,col_indexer] = value instead\n",
      "\n",
      "See the caveats in the documentation: https://pandas.pydata.org/pandas-docs/stable/user_guide/indexing.html#returning-a-view-versus-a-copy\n",
      "  fechadas_var_1['e_lucro_bruto'] = fechadas_var_1['retorno_acumulado_sem_custos'] > 0\n",
      "<ipython-input-79-47ec52626802>:8: SettingWithCopyWarning: \n",
      "A value is trying to be set on a copy of a slice from a DataFrame.\n",
      "Try using .loc[row_indexer,col_indexer] = value instead\n",
      "\n",
      "See the caveats in the documentation: https://pandas.pydata.org/pandas-docs/stable/user_guide/indexing.html#returning-a-view-versus-a-copy\n",
      "  fechadas_var_5['e_lucro_bruto'] = fechadas_var_5['retorno_acumulado_sem_custos'] > 0\n",
      "<ipython-input-79-47ec52626802>:11: SettingWithCopyWarning: \n",
      "A value is trying to be set on a copy of a slice from a DataFrame.\n",
      "Try using .loc[row_indexer,col_indexer] = value instead\n",
      "\n",
      "See the caveats in the documentation: https://pandas.pydata.org/pandas-docs/stable/user_guide/indexing.html#returning-a-view-versus-a-copy\n",
      "  fechadas_var_10['e_lucro_bruto'] = fechadas_var_10['retorno_acumulado_sem_custos'] > 0\n"
     ]
    }
   ],
   "source": [
    "fechadas_sem_var = sem_var.loc[sem_var.status == 'close']\n",
    "fechadas_sem_var['e_lucro_bruto'] = fechadas_sem_var['retorno_acumulado_sem_custos'] > 0\n",
    "\n",
    "fechadas_var_1 = var1.loc[var1.status == 'close']\n",
    "fechadas_var_1['e_lucro_bruto'] = fechadas_var_1['retorno_acumulado_sem_custos'] > 0\n",
    "\n",
    "fechadas_var_5 = var5.loc[var5.status == 'close']\n",
    "fechadas_var_5['e_lucro_bruto'] = fechadas_var_5['retorno_acumulado_sem_custos'] > 0\n",
    "\n",
    "fechadas_var_10 = var10.loc[var10.status == 'close']\n",
    "fechadas_var_10['e_lucro_bruto'] = fechadas_var_10['retorno_acumulado_sem_custos'] > 0"
   ]
  },
  {
   "cell_type": "code",
   "execution_count": 93,
   "id": "9aacdc76",
   "metadata": {
    "ExecuteTime": {
     "end_time": "2022-08-15T03:11:59.744383Z",
     "start_time": "2022-08-15T03:11:59.702391Z"
    }
   },
   "outputs": [
    {
     "data": {
      "text/html": [
       "<div>\n",
       "<style scoped>\n",
       "    .dataframe tbody tr th:only-of-type {\n",
       "        vertical-align: middle;\n",
       "    }\n",
       "\n",
       "    .dataframe tbody tr th {\n",
       "        vertical-align: top;\n",
       "    }\n",
       "\n",
       "    .dataframe thead th {\n",
       "        text-align: right;\n",
       "    }\n",
       "</style>\n",
       "<table border=\"1\" class=\"dataframe\">\n",
       "  <thead>\n",
       "    <tr style=\"text-align: right;\">\n",
       "      <th></th>\n",
       "      <th>num_operacoes</th>\n",
       "      <th>taxa_acerto</th>\n",
       "      <th>tempo_medio_operacao</th>\n",
       "    </tr>\n",
       "    <tr>\n",
       "      <th>open_date</th>\n",
       "      <th></th>\n",
       "      <th></th>\n",
       "      <th></th>\n",
       "    </tr>\n",
       "  </thead>\n",
       "  <tbody>\n",
       "    <tr>\n",
       "      <th>2019-06-30</th>\n",
       "      <td>34</td>\n",
       "      <td>0.911765</td>\n",
       "      <td>22.529412</td>\n",
       "    </tr>\n",
       "    <tr>\n",
       "      <th>2019-12-31</th>\n",
       "      <td>11</td>\n",
       "      <td>0.818182</td>\n",
       "      <td>36.818182</td>\n",
       "    </tr>\n",
       "    <tr>\n",
       "      <th>2020-06-30</th>\n",
       "      <td>25</td>\n",
       "      <td>0.840000</td>\n",
       "      <td>23.440000</td>\n",
       "    </tr>\n",
       "    <tr>\n",
       "      <th>2020-12-31</th>\n",
       "      <td>12</td>\n",
       "      <td>0.833333</td>\n",
       "      <td>20.333333</td>\n",
       "    </tr>\n",
       "    <tr>\n",
       "      <th>2021-06-30</th>\n",
       "      <td>17</td>\n",
       "      <td>0.882353</td>\n",
       "      <td>24.411765</td>\n",
       "    </tr>\n",
       "    <tr>\n",
       "      <th>2021-12-31</th>\n",
       "      <td>5</td>\n",
       "      <td>0.800000</td>\n",
       "      <td>21.400000</td>\n",
       "    </tr>\n",
       "    <tr>\n",
       "      <th>2022-06-30</th>\n",
       "      <td>26</td>\n",
       "      <td>0.846154</td>\n",
       "      <td>21.423077</td>\n",
       "    </tr>\n",
       "  </tbody>\n",
       "</table>\n",
       "</div>"
      ],
      "text/plain": [
       "            num_operacoes  taxa_acerto  tempo_medio_operacao\n",
       "open_date                                                   \n",
       "2019-06-30             34     0.911765             22.529412\n",
       "2019-12-31             11     0.818182             36.818182\n",
       "2020-06-30             25     0.840000             23.440000\n",
       "2020-12-31             12     0.833333             20.333333\n",
       "2021-06-30             17     0.882353             24.411765\n",
       "2021-12-31              5     0.800000             21.400000\n",
       "2022-06-30             26     0.846154             21.423077"
      ]
     },
     "execution_count": 93,
     "metadata": {},
     "output_type": "execute_result"
    }
   ],
   "source": [
    "eficacia_sem_var = fechadas_sem_var.set_index('open_date').resample('6M',closed='left').agg(\n",
    "    num_operacoes = ('pair', 'count'),\n",
    "    taxa_acerto = ('e_lucro_bruto', 'mean'),\n",
    "    tempo_medio_operacao = ('days_open', 'mean')\n",
    ")\n",
    "eficacia_sem_var"
   ]
  },
  {
   "cell_type": "code",
   "execution_count": 94,
   "id": "5c902ffe",
   "metadata": {
    "ExecuteTime": {
     "end_time": "2022-08-15T03:12:00.867414Z",
     "start_time": "2022-08-15T03:12:00.826195Z"
    }
   },
   "outputs": [
    {
     "data": {
      "text/html": [
       "<div>\n",
       "<style scoped>\n",
       "    .dataframe tbody tr th:only-of-type {\n",
       "        vertical-align: middle;\n",
       "    }\n",
       "\n",
       "    .dataframe tbody tr th {\n",
       "        vertical-align: top;\n",
       "    }\n",
       "\n",
       "    .dataframe thead th {\n",
       "        text-align: right;\n",
       "    }\n",
       "</style>\n",
       "<table border=\"1\" class=\"dataframe\">\n",
       "  <thead>\n",
       "    <tr style=\"text-align: right;\">\n",
       "      <th></th>\n",
       "      <th>num_operacoes</th>\n",
       "      <th>taxa_acerto</th>\n",
       "      <th>tempo_medio_operacao</th>\n",
       "    </tr>\n",
       "    <tr>\n",
       "      <th>open_date</th>\n",
       "      <th></th>\n",
       "      <th></th>\n",
       "      <th></th>\n",
       "    </tr>\n",
       "  </thead>\n",
       "  <tbody>\n",
       "    <tr>\n",
       "      <th>2019-06-30</th>\n",
       "      <td>38</td>\n",
       "      <td>0.842105</td>\n",
       "      <td>20.815789</td>\n",
       "    </tr>\n",
       "    <tr>\n",
       "      <th>2019-12-31</th>\n",
       "      <td>12</td>\n",
       "      <td>0.833333</td>\n",
       "      <td>23.000000</td>\n",
       "    </tr>\n",
       "    <tr>\n",
       "      <th>2020-06-30</th>\n",
       "      <td>36</td>\n",
       "      <td>0.722222</td>\n",
       "      <td>12.750000</td>\n",
       "    </tr>\n",
       "    <tr>\n",
       "      <th>2020-12-31</th>\n",
       "      <td>14</td>\n",
       "      <td>0.714286</td>\n",
       "      <td>19.714286</td>\n",
       "    </tr>\n",
       "    <tr>\n",
       "      <th>2021-06-30</th>\n",
       "      <td>18</td>\n",
       "      <td>0.888889</td>\n",
       "      <td>21.277778</td>\n",
       "    </tr>\n",
       "    <tr>\n",
       "      <th>2021-12-31</th>\n",
       "      <td>6</td>\n",
       "      <td>0.666667</td>\n",
       "      <td>23.166667</td>\n",
       "    </tr>\n",
       "    <tr>\n",
       "      <th>2022-06-30</th>\n",
       "      <td>33</td>\n",
       "      <td>0.727273</td>\n",
       "      <td>14.121212</td>\n",
       "    </tr>\n",
       "  </tbody>\n",
       "</table>\n",
       "</div>"
      ],
      "text/plain": [
       "            num_operacoes  taxa_acerto  tempo_medio_operacao\n",
       "open_date                                                   \n",
       "2019-06-30             38     0.842105             20.815789\n",
       "2019-12-31             12     0.833333             23.000000\n",
       "2020-06-30             36     0.722222             12.750000\n",
       "2020-12-31             14     0.714286             19.714286\n",
       "2021-06-30             18     0.888889             21.277778\n",
       "2021-12-31              6     0.666667             23.166667\n",
       "2022-06-30             33     0.727273             14.121212"
      ]
     },
     "execution_count": 94,
     "metadata": {},
     "output_type": "execute_result"
    }
   ],
   "source": [
    "eficacia_var1 = fechadas_var_1.set_index('open_date').resample('6M',closed='left').agg(\n",
    "    num_operacoes = ('pair', 'count'),\n",
    "    taxa_acerto = ('e_lucro_bruto', 'mean'),\n",
    "    tempo_medio_operacao = ('days_open', 'mean')\n",
    ")\n",
    "eficacia_var1"
   ]
  },
  {
   "cell_type": "code",
   "execution_count": 95,
   "id": "153259b0",
   "metadata": {
    "ExecuteTime": {
     "end_time": "2022-08-15T03:12:01.344242Z",
     "start_time": "2022-08-15T03:12:01.308237Z"
    }
   },
   "outputs": [
    {
     "data": {
      "text/html": [
       "<div>\n",
       "<style scoped>\n",
       "    .dataframe tbody tr th:only-of-type {\n",
       "        vertical-align: middle;\n",
       "    }\n",
       "\n",
       "    .dataframe tbody tr th {\n",
       "        vertical-align: top;\n",
       "    }\n",
       "\n",
       "    .dataframe thead th {\n",
       "        text-align: right;\n",
       "    }\n",
       "</style>\n",
       "<table border=\"1\" class=\"dataframe\">\n",
       "  <thead>\n",
       "    <tr style=\"text-align: right;\">\n",
       "      <th></th>\n",
       "      <th>total_trades</th>\n",
       "      <th>gain_var</th>\n",
       "    </tr>\n",
       "    <tr>\n",
       "      <th>open_date</th>\n",
       "      <th></th>\n",
       "      <th></th>\n",
       "    </tr>\n",
       "  </thead>\n",
       "  <tbody>\n",
       "    <tr>\n",
       "      <th>2019-06-30</th>\n",
       "      <td>8</td>\n",
       "      <td>0.500000</td>\n",
       "    </tr>\n",
       "    <tr>\n",
       "      <th>2019-12-31</th>\n",
       "      <td>3</td>\n",
       "      <td>0.333333</td>\n",
       "    </tr>\n",
       "    <tr>\n",
       "      <th>2020-06-30</th>\n",
       "      <td>20</td>\n",
       "      <td>0.550000</td>\n",
       "    </tr>\n",
       "    <tr>\n",
       "      <th>2020-12-31</th>\n",
       "      <td>2</td>\n",
       "      <td>0.000000</td>\n",
       "    </tr>\n",
       "    <tr>\n",
       "      <th>2021-06-30</th>\n",
       "      <td>2</td>\n",
       "      <td>0.500000</td>\n",
       "    </tr>\n",
       "    <tr>\n",
       "      <th>2021-12-31</th>\n",
       "      <td>1</td>\n",
       "      <td>0.000000</td>\n",
       "    </tr>\n",
       "    <tr>\n",
       "      <th>2022-06-30</th>\n",
       "      <td>14</td>\n",
       "      <td>0.428571</td>\n",
       "    </tr>\n",
       "  </tbody>\n",
       "</table>\n",
       "</div>"
      ],
      "text/plain": [
       "            total_trades  gain_var\n",
       "open_date                         \n",
       "2019-06-30             8  0.500000\n",
       "2019-12-31             3  0.333333\n",
       "2020-06-30            20  0.550000\n",
       "2020-12-31             2  0.000000\n",
       "2021-06-30             2  0.500000\n",
       "2021-12-31             1  0.000000\n",
       "2022-06-30            14  0.428571"
      ]
     },
     "execution_count": 95,
     "metadata": {},
     "output_type": "execute_result"
    }
   ],
   "source": [
    "fechadas_stop_var1 = fechadas_var_1.loc[(fechadas_var_1.beta_close=='VAR CLOSE')]\n",
    "\n",
    "fechadas_var1_semestre = fechadas_stop_var1.set_index('open_date').resample('6M',closed='left').agg(\n",
    "    total_trades = ('status', 'count'),\n",
    "    gain_var = ('e_lucro_bruto', 'mean'),\n",
    ")\n",
    "\n",
    "fechadas_var1_semestre"
   ]
  },
  {
   "cell_type": "code",
   "execution_count": 96,
   "id": "c80a8f47",
   "metadata": {
    "ExecuteTime": {
     "end_time": "2022-08-15T03:12:01.836242Z",
     "start_time": "2022-08-15T03:12:01.797238Z"
    }
   },
   "outputs": [
    {
     "data": {
      "text/html": [
       "<div>\n",
       "<style scoped>\n",
       "    .dataframe tbody tr th:only-of-type {\n",
       "        vertical-align: middle;\n",
       "    }\n",
       "\n",
       "    .dataframe tbody tr th {\n",
       "        vertical-align: top;\n",
       "    }\n",
       "\n",
       "    .dataframe thead th {\n",
       "        text-align: right;\n",
       "    }\n",
       "</style>\n",
       "<table border=\"1\" class=\"dataframe\">\n",
       "  <thead>\n",
       "    <tr style=\"text-align: right;\">\n",
       "      <th></th>\n",
       "      <th>num_operacoes</th>\n",
       "      <th>taxa_acerto</th>\n",
       "      <th>tempo_medio_operacao</th>\n",
       "    </tr>\n",
       "    <tr>\n",
       "      <th>open_date</th>\n",
       "      <th></th>\n",
       "      <th></th>\n",
       "      <th></th>\n",
       "    </tr>\n",
       "  </thead>\n",
       "  <tbody>\n",
       "    <tr>\n",
       "      <th>2019-06-30</th>\n",
       "      <td>44</td>\n",
       "      <td>0.727273</td>\n",
       "      <td>16.363636</td>\n",
       "    </tr>\n",
       "    <tr>\n",
       "      <th>2019-12-31</th>\n",
       "      <td>17</td>\n",
       "      <td>0.647059</td>\n",
       "      <td>14.882353</td>\n",
       "    </tr>\n",
       "    <tr>\n",
       "      <th>2020-06-30</th>\n",
       "      <td>39</td>\n",
       "      <td>0.487179</td>\n",
       "      <td>7.000000</td>\n",
       "    </tr>\n",
       "    <tr>\n",
       "      <th>2020-12-31</th>\n",
       "      <td>20</td>\n",
       "      <td>0.550000</td>\n",
       "      <td>19.450000</td>\n",
       "    </tr>\n",
       "    <tr>\n",
       "      <th>2021-06-30</th>\n",
       "      <td>22</td>\n",
       "      <td>0.636364</td>\n",
       "      <td>20.181818</td>\n",
       "    </tr>\n",
       "    <tr>\n",
       "      <th>2021-12-31</th>\n",
       "      <td>8</td>\n",
       "      <td>0.750000</td>\n",
       "      <td>11.000000</td>\n",
       "    </tr>\n",
       "    <tr>\n",
       "      <th>2022-06-30</th>\n",
       "      <td>37</td>\n",
       "      <td>0.621622</td>\n",
       "      <td>10.108108</td>\n",
       "    </tr>\n",
       "  </tbody>\n",
       "</table>\n",
       "</div>"
      ],
      "text/plain": [
       "            num_operacoes  taxa_acerto  tempo_medio_operacao\n",
       "open_date                                                   \n",
       "2019-06-30             44     0.727273             16.363636\n",
       "2019-12-31             17     0.647059             14.882353\n",
       "2020-06-30             39     0.487179              7.000000\n",
       "2020-12-31             20     0.550000             19.450000\n",
       "2021-06-30             22     0.636364             20.181818\n",
       "2021-12-31              8     0.750000             11.000000\n",
       "2022-06-30             37     0.621622             10.108108"
      ]
     },
     "execution_count": 96,
     "metadata": {},
     "output_type": "execute_result"
    }
   ],
   "source": [
    "eficacia_var5 = fechadas_var_5.set_index('open_date').resample('6M',closed='left').agg(\n",
    "    num_operacoes = ('pair', 'count'),\n",
    "    taxa_acerto = ('e_lucro_bruto', 'mean'),\n",
    "    tempo_medio_operacao = ('days_open', 'mean')\n",
    ")\n",
    "eficacia_var5"
   ]
  },
  {
   "cell_type": "code",
   "execution_count": 97,
   "id": "e3aaddb1",
   "metadata": {
    "ExecuteTime": {
     "end_time": "2022-08-15T03:12:04.001718Z",
     "start_time": "2022-08-15T03:12:03.968715Z"
    }
   },
   "outputs": [
    {
     "data": {
      "text/html": [
       "<div>\n",
       "<style scoped>\n",
       "    .dataframe tbody tr th:only-of-type {\n",
       "        vertical-align: middle;\n",
       "    }\n",
       "\n",
       "    .dataframe tbody tr th {\n",
       "        vertical-align: top;\n",
       "    }\n",
       "\n",
       "    .dataframe thead th {\n",
       "        text-align: right;\n",
       "    }\n",
       "</style>\n",
       "<table border=\"1\" class=\"dataframe\">\n",
       "  <thead>\n",
       "    <tr style=\"text-align: right;\">\n",
       "      <th></th>\n",
       "      <th>total_trades</th>\n",
       "      <th>gain_var</th>\n",
       "    </tr>\n",
       "    <tr>\n",
       "      <th>open_date</th>\n",
       "      <th></th>\n",
       "      <th></th>\n",
       "    </tr>\n",
       "  </thead>\n",
       "  <tbody>\n",
       "    <tr>\n",
       "      <th>2019-06-30</th>\n",
       "      <td>28</td>\n",
       "      <td>0.571429</td>\n",
       "    </tr>\n",
       "    <tr>\n",
       "      <th>2019-12-31</th>\n",
       "      <td>10</td>\n",
       "      <td>0.400000</td>\n",
       "    </tr>\n",
       "    <tr>\n",
       "      <th>2020-06-30</th>\n",
       "      <td>29</td>\n",
       "      <td>0.310345</td>\n",
       "    </tr>\n",
       "    <tr>\n",
       "      <th>2020-12-31</th>\n",
       "      <td>9</td>\n",
       "      <td>0.222222</td>\n",
       "    </tr>\n",
       "    <tr>\n",
       "      <th>2021-06-30</th>\n",
       "      <td>11</td>\n",
       "      <td>0.363636</td>\n",
       "    </tr>\n",
       "    <tr>\n",
       "      <th>2021-12-31</th>\n",
       "      <td>6</td>\n",
       "      <td>0.666667</td>\n",
       "    </tr>\n",
       "    <tr>\n",
       "      <th>2022-06-30</th>\n",
       "      <td>24</td>\n",
       "      <td>0.416667</td>\n",
       "    </tr>\n",
       "  </tbody>\n",
       "</table>\n",
       "</div>"
      ],
      "text/plain": [
       "            total_trades  gain_var\n",
       "open_date                         \n",
       "2019-06-30            28  0.571429\n",
       "2019-12-31            10  0.400000\n",
       "2020-06-30            29  0.310345\n",
       "2020-12-31             9  0.222222\n",
       "2021-06-30            11  0.363636\n",
       "2021-12-31             6  0.666667\n",
       "2022-06-30            24  0.416667"
      ]
     },
     "execution_count": 97,
     "metadata": {},
     "output_type": "execute_result"
    }
   ],
   "source": [
    "fechadas_stop_var5 = fechadas_var_5.loc[(fechadas_var_5.beta_close=='VAR CLOSE')]\n",
    "\n",
    "fechadas_var5_semestre = fechadas_stop_var5.set_index('open_date').resample('6M',closed='left').agg(\n",
    "    total_trades = ('status', 'count'),\n",
    "    gain_var = ('e_lucro_bruto', 'mean'),\n",
    ")\n",
    "\n",
    "fechadas_var5_semestre"
   ]
  },
  {
   "cell_type": "code",
   "execution_count": 98,
   "id": "f7cbc4ab",
   "metadata": {
    "ExecuteTime": {
     "end_time": "2022-08-15T03:12:06.277496Z",
     "start_time": "2022-08-15T03:12:06.240137Z"
    }
   },
   "outputs": [
    {
     "data": {
      "text/html": [
       "<div>\n",
       "<style scoped>\n",
       "    .dataframe tbody tr th:only-of-type {\n",
       "        vertical-align: middle;\n",
       "    }\n",
       "\n",
       "    .dataframe tbody tr th {\n",
       "        vertical-align: top;\n",
       "    }\n",
       "\n",
       "    .dataframe thead th {\n",
       "        text-align: right;\n",
       "    }\n",
       "</style>\n",
       "<table border=\"1\" class=\"dataframe\">\n",
       "  <thead>\n",
       "    <tr style=\"text-align: right;\">\n",
       "      <th></th>\n",
       "      <th>num_operacoes</th>\n",
       "      <th>taxa_acerto</th>\n",
       "      <th>tempo_medio_operacao</th>\n",
       "    </tr>\n",
       "    <tr>\n",
       "      <th>open_date</th>\n",
       "      <th></th>\n",
       "      <th></th>\n",
       "      <th></th>\n",
       "    </tr>\n",
       "  </thead>\n",
       "  <tbody>\n",
       "    <tr>\n",
       "      <th>2019-06-30</th>\n",
       "      <td>53</td>\n",
       "      <td>0.603774</td>\n",
       "      <td>10.169811</td>\n",
       "    </tr>\n",
       "    <tr>\n",
       "      <th>2019-12-31</th>\n",
       "      <td>18</td>\n",
       "      <td>0.666667</td>\n",
       "      <td>10.388889</td>\n",
       "    </tr>\n",
       "    <tr>\n",
       "      <th>2020-06-30</th>\n",
       "      <td>46</td>\n",
       "      <td>0.500000</td>\n",
       "      <td>4.695652</td>\n",
       "    </tr>\n",
       "    <tr>\n",
       "      <th>2020-12-31</th>\n",
       "      <td>23</td>\n",
       "      <td>0.521739</td>\n",
       "      <td>14.000000</td>\n",
       "    </tr>\n",
       "    <tr>\n",
       "      <th>2021-06-30</th>\n",
       "      <td>24</td>\n",
       "      <td>0.541667</td>\n",
       "      <td>13.625000</td>\n",
       "    </tr>\n",
       "    <tr>\n",
       "      <th>2021-12-31</th>\n",
       "      <td>11</td>\n",
       "      <td>0.545455</td>\n",
       "      <td>10.454545</td>\n",
       "    </tr>\n",
       "    <tr>\n",
       "      <th>2022-06-30</th>\n",
       "      <td>38</td>\n",
       "      <td>0.552632</td>\n",
       "      <td>8.605263</td>\n",
       "    </tr>\n",
       "  </tbody>\n",
       "</table>\n",
       "</div>"
      ],
      "text/plain": [
       "            num_operacoes  taxa_acerto  tempo_medio_operacao\n",
       "open_date                                                   \n",
       "2019-06-30             53     0.603774             10.169811\n",
       "2019-12-31             18     0.666667             10.388889\n",
       "2020-06-30             46     0.500000              4.695652\n",
       "2020-12-31             23     0.521739             14.000000\n",
       "2021-06-30             24     0.541667             13.625000\n",
       "2021-12-31             11     0.545455             10.454545\n",
       "2022-06-30             38     0.552632              8.605263"
      ]
     },
     "execution_count": 98,
     "metadata": {},
     "output_type": "execute_result"
    }
   ],
   "source": [
    "eficacia_var10 = fechadas_var_10.set_index('open_date').resample('6M',closed='left').agg(\n",
    "    num_operacoes = ('pair', 'count'),\n",
    "    taxa_acerto = ('e_lucro_bruto', 'mean'),\n",
    "    tempo_medio_operacao = ('days_open', 'mean')\n",
    ")\n",
    "eficacia_var10"
   ]
  },
  {
   "cell_type": "code",
   "execution_count": 99,
   "id": "ac7392cc",
   "metadata": {
    "ExecuteTime": {
     "end_time": "2022-08-15T03:12:15.034862Z",
     "start_time": "2022-08-15T03:12:15.004860Z"
    }
   },
   "outputs": [
    {
     "data": {
      "text/html": [
       "<div>\n",
       "<style scoped>\n",
       "    .dataframe tbody tr th:only-of-type {\n",
       "        vertical-align: middle;\n",
       "    }\n",
       "\n",
       "    .dataframe tbody tr th {\n",
       "        vertical-align: top;\n",
       "    }\n",
       "\n",
       "    .dataframe thead th {\n",
       "        text-align: right;\n",
       "    }\n",
       "</style>\n",
       "<table border=\"1\" class=\"dataframe\">\n",
       "  <thead>\n",
       "    <tr style=\"text-align: right;\">\n",
       "      <th></th>\n",
       "      <th>total_trades</th>\n",
       "      <th>gain_var</th>\n",
       "    </tr>\n",
       "    <tr>\n",
       "      <th>open_date</th>\n",
       "      <th></th>\n",
       "      <th></th>\n",
       "    </tr>\n",
       "  </thead>\n",
       "  <tbody>\n",
       "    <tr>\n",
       "      <th>2019-06-30</th>\n",
       "      <td>43</td>\n",
       "      <td>0.511628</td>\n",
       "    </tr>\n",
       "    <tr>\n",
       "      <th>2019-12-31</th>\n",
       "      <td>15</td>\n",
       "      <td>0.600000</td>\n",
       "    </tr>\n",
       "    <tr>\n",
       "      <th>2020-06-30</th>\n",
       "      <td>40</td>\n",
       "      <td>0.425000</td>\n",
       "    </tr>\n",
       "    <tr>\n",
       "      <th>2020-12-31</th>\n",
       "      <td>17</td>\n",
       "      <td>0.352941</td>\n",
       "    </tr>\n",
       "    <tr>\n",
       "      <th>2021-06-30</th>\n",
       "      <td>17</td>\n",
       "      <td>0.411765</td>\n",
       "    </tr>\n",
       "    <tr>\n",
       "      <th>2021-12-31</th>\n",
       "      <td>10</td>\n",
       "      <td>0.500000</td>\n",
       "    </tr>\n",
       "    <tr>\n",
       "      <th>2022-06-30</th>\n",
       "      <td>29</td>\n",
       "      <td>0.413793</td>\n",
       "    </tr>\n",
       "  </tbody>\n",
       "</table>\n",
       "</div>"
      ],
      "text/plain": [
       "            total_trades  gain_var\n",
       "open_date                         \n",
       "2019-06-30            43  0.511628\n",
       "2019-12-31            15  0.600000\n",
       "2020-06-30            40  0.425000\n",
       "2020-12-31            17  0.352941\n",
       "2021-06-30            17  0.411765\n",
       "2021-12-31            10  0.500000\n",
       "2022-06-30            29  0.413793"
      ]
     },
     "execution_count": 99,
     "metadata": {},
     "output_type": "execute_result"
    }
   ],
   "source": [
    "fechadas_stop_var10 = fechadas_var_10.loc[(fechadas_var_10.beta_close=='VAR CLOSE')]\n",
    "\n",
    "fechadas_var10_semestre = fechadas_stop_var10.set_index('open_date').resample('6M',closed='left').agg(\n",
    "    total_trades = ('status', 'count'),\n",
    "    gain_var = ('e_lucro_bruto', 'mean'),\n",
    ")\n",
    "\n",
    "fechadas_var10_semestre"
   ]
  },
  {
   "cell_type": "markdown",
   "id": "5d78bbb8",
   "metadata": {},
   "source": [
    "# descritivas"
   ]
  },
  {
   "cell_type": "code",
   "execution_count": 28,
   "id": "b6bd62c8",
   "metadata": {
    "ExecuteTime": {
     "end_time": "2022-08-15T02:31:37.233019Z",
     "start_time": "2022-08-15T02:31:37.200928Z"
    }
   },
   "outputs": [
    {
     "data": {
      "text/plain": [
       "count    858.000000\n",
       "mean       0.166404\n",
       "std        0.131825\n",
       "min       -0.301521\n",
       "25%        0.081154\n",
       "50%        0.162929\n",
       "75%        0.265539\n",
       "max        0.436909\n",
       "Name: close, dtype: float64"
      ]
     },
     "execution_count": 28,
     "metadata": {},
     "output_type": "execute_result"
    }
   ],
   "source": [
    "ibov_returns.describe()"
   ]
  },
  {
   "cell_type": "code",
   "execution_count": 35,
   "id": "5c3043f5",
   "metadata": {
    "ExecuteTime": {
     "end_time": "2022-08-15T02:35:50.135403Z",
     "start_time": "2022-08-15T02:35:50.113840Z"
    }
   },
   "outputs": [
    {
     "data": {
      "text/plain": [
       "time\n",
       "2019-01-02         NaN\n",
       "2019-01-03    0.006065\n",
       "2019-01-04    0.009109\n",
       "2019-01-07    0.007548\n",
       "2019-01-08    0.011207\n",
       "                ...   \n",
       "2022-06-10    0.158979\n",
       "2022-06-13    0.127302\n",
       "2022-06-14    0.121424\n",
       "2022-06-15    0.129598\n",
       "2022-06-17    0.096833\n",
       "Name: close, Length: 859, dtype: float64"
      ]
     },
     "execution_count": 35,
     "metadata": {},
     "output_type": "execute_result"
    }
   ],
   "source": [
    "ibov_returns"
   ]
  },
  {
   "cell_type": "code",
   "execution_count": 37,
   "id": "68c4bd79",
   "metadata": {
    "ExecuteTime": {
     "end_time": "2022-08-15T02:36:24.634251Z",
     "start_time": "2022-08-15T02:36:24.618963Z"
    }
   },
   "outputs": [
    {
     "data": {
      "text/plain": [
       "KstestResult(statistic=0.4324895537310876, pvalue=2.2409522352351095e-146)"
      ]
     },
     "execution_count": 37,
     "metadata": {},
     "output_type": "execute_result"
    }
   ],
   "source": [
    "# TESTE NORMALIDADE\n",
    "#perform Kolmogorov-Smirnov test\n",
    "kstest(ibov_returns.dropna(), 'norm')"
   ]
  },
  {
   "cell_type": "markdown",
   "id": "551aa174",
   "metadata": {},
   "source": [
    "# GRAFICOS"
   ]
  },
  {
   "cell_type": "code",
   "execution_count": 38,
   "id": "d7988a40",
   "metadata": {
    "ExecuteTime": {
     "end_time": "2022-08-15T02:37:10.837405Z",
     "start_time": "2022-08-15T02:37:10.815075Z"
    }
   },
   "outputs": [],
   "source": [
    "fechadas = custo_baixo.loc[custo_baixo.status=='close']"
   ]
  },
  {
   "cell_type": "code",
   "execution_count": 44,
   "id": "3a591b6f",
   "metadata": {
    "ExecuteTime": {
     "end_time": "2022-08-15T02:39:40.212081Z",
     "start_time": "2022-08-15T02:39:40.151846Z"
    }
   },
   "outputs": [
    {
     "name": "stderr",
     "output_type": "stream",
     "text": [
      "<ipython-input-44-501e524d6e9a>:1: SettingWithCopyWarning: \n",
      "A value is trying to be set on a copy of a slice from a DataFrame.\n",
      "Try using .loc[row_indexer,col_indexer] = value instead\n",
      "\n",
      "See the caveats in the documentation: https://pandas.pydata.org/pandas-docs/stable/user_guide/indexing.html#returning-a-view-versus-a-copy\n",
      "  fechadas['e_lucro_bruto'] = fechadas['retorno_acumulado_sem_custos'] > 0\n"
     ]
    }
   ],
   "source": [
    "fechadas['e_lucro_bruto'] = fechadas['retorno_acumulado_sem_custos'] > 0"
   ]
  },
  {
   "cell_type": "code",
   "execution_count": 45,
   "id": "8493181e",
   "metadata": {
    "ExecuteTime": {
     "end_time": "2022-08-15T02:39:41.272223Z",
     "start_time": "2022-08-15T02:39:40.733845Z"
    }
   },
   "outputs": [
    {
     "data": {
      "image/png": "[encoded data removed]",
      "text/plain": [
       "<Figure size 1080x576 with 1 Axes>"
      ]
     },
     "metadata": {
      "needs_background": "light"
     },
     "output_type": "display_data"
    }
   ],
   "source": [
    "halfyear_accuracy = fechadas.set_index('open_date').resample('6M')[['e_lucro_bruto']].mean().reset_index()\n",
    "halfyear_accuracy.columns = ['open_date', 'retorno']\n",
    "halfyear_accuracy['open_date'] = halfyear_accuracy['open_date'].dt.date\n",
    "halfyear_accuracy = halfyear_accuracy.melt(id_vars='open_date', value_name='acerto')\n",
    "plt.figure(figsize=(15,8))\n",
    "sns.barplot(x='open_date', y='acerto', hue='variable', data=halfyear_accuracy)\n",
    "plt.axhline(y=0.5, color='blue', linestyle='--')\n",
    "plt.xlabel('data')\n",
    "# plt.xticks(rotation=90)\n",
    "plt.legend(bbox_to_anchor=(1.05, 1), loc=2, borderaxespad=0.)\n",
    "plt.show()"
   ]
  },
  {
   "cell_type": "code",
   "execution_count": 67,
   "id": "a39ccac7",
   "metadata": {
    "ExecuteTime": {
     "end_time": "2022-08-15T02:54:05.645833Z",
     "start_time": "2022-08-15T02:54:04.917310Z"
    }
   },
   "outputs": [
    {
     "data": {
      "text/plain": [
       "Text(0, 0.5, 'acerto')"
      ]
     },
     "execution_count": 67,
     "metadata": {},
     "output_type": "execute_result"
    },
    {
     "data": {
      "image/png": "[encoded data removed]",
      "text/plain": [
       "<Figure size 2160x576 with 1 Axes>"
      ]
     },
     "metadata": {
      "needs_background": "light"
     },
     "output_type": "display_data"
    }
   ],
   "source": [
    "fechadas_agrupadas_semestre = fechadas.groupby('setor').e_lucro_bruto.mean().reset_index()\n",
    "\n",
    "plt.figure(figsize=(30,8))\n",
    "\n",
    "# fechadas_agrupadas_semestre['open_date'] = pd.to_datetime(fechadas_agrupadas_semestre['open_date'])\n",
    "# fechadas_2020 = fechadas_agrupadas_semestre.set_index('open_date').loc['2020'].reset_index()\n",
    "# fechadas_2020['open_date'] = fechadas_2020.open_date.dt.date\n",
    "\n",
    "sns.barplot(x='setor', y='e_lucro_bruto', data=fechadas_agrupadas_semestre, color='steelblue')\n",
    "plt.axhline(y=0.5, color='blue', linestyle='--')\n",
    "\n",
    "plt.ylabel('acerto')\n",
    "# plt.legend(bbox_to_anchor=(1.05, 1), loc=2, borderaxespad=0.)\n"
   ]
  },
  {
   "cell_type": "code",
   "execution_count": 74,
   "id": "23ea2e55",
   "metadata": {
    "ExecuteTime": {
     "end_time": "2022-08-15T03:03:42.506359Z",
     "start_time": "2022-08-15T03:03:42.483391Z"
    }
   },
   "outputs": [
    {
     "data": {
      "text/html": [
       "<div>\n",
       "<style scoped>\n",
       "    .dataframe tbody tr th:only-of-type {\n",
       "        vertical-align: middle;\n",
       "    }\n",
       "\n",
       "    .dataframe tbody tr th {\n",
       "        vertical-align: top;\n",
       "    }\n",
       "\n",
       "    .dataframe thead th {\n",
       "        text-align: right;\n",
       "    }\n",
       "</style>\n",
       "<table border=\"1\" class=\"dataframe\">\n",
       "  <thead>\n",
       "    <tr style=\"text-align: right;\">\n",
       "      <th></th>\n",
       "      <th>setor</th>\n",
       "      <th>return</th>\n",
       "    </tr>\n",
       "  </thead>\n",
       "  <tbody>\n",
       "    <tr>\n",
       "      <th>0</th>\n",
       "      <td>Alimentos e Bebidas</td>\n",
       "      <td>2</td>\n",
       "    </tr>\n",
       "    <tr>\n",
       "      <th>1</th>\n",
       "      <td>Aéreas</td>\n",
       "      <td>1</td>\n",
       "    </tr>\n",
       "    <tr>\n",
       "      <th>2</th>\n",
       "      <td>Bens Industriais</td>\n",
       "      <td>2</td>\n",
       "    </tr>\n",
       "    <tr>\n",
       "      <th>3</th>\n",
       "      <td>Construção Civil</td>\n",
       "      <td>2</td>\n",
       "    </tr>\n",
       "    <tr>\n",
       "      <th>4</th>\n",
       "      <td>Exploração de imóveis</td>\n",
       "      <td>2</td>\n",
       "    </tr>\n",
       "    <tr>\n",
       "      <th>5</th>\n",
       "      <td>Financeiro</td>\n",
       "      <td>49</td>\n",
       "    </tr>\n",
       "    <tr>\n",
       "      <th>6</th>\n",
       "      <td>Mineração e Siderurgia</td>\n",
       "      <td>7</td>\n",
       "    </tr>\n",
       "    <tr>\n",
       "      <th>7</th>\n",
       "      <td>Papel e Celulose</td>\n",
       "      <td>3</td>\n",
       "    </tr>\n",
       "    <tr>\n",
       "      <th>8</th>\n",
       "      <td>Petroleo, gás e biocombustíveis</td>\n",
       "      <td>10</td>\n",
       "    </tr>\n",
       "    <tr>\n",
       "      <th>9</th>\n",
       "      <td>Saúde</td>\n",
       "      <td>11</td>\n",
       "    </tr>\n",
       "    <tr>\n",
       "      <th>10</th>\n",
       "      <td>Telecomunicações</td>\n",
       "      <td>2</td>\n",
       "    </tr>\n",
       "    <tr>\n",
       "      <th>11</th>\n",
       "      <td>Utilidade Pública</td>\n",
       "      <td>33</td>\n",
       "    </tr>\n",
       "    <tr>\n",
       "      <th>12</th>\n",
       "      <td>Varejo</td>\n",
       "      <td>6</td>\n",
       "    </tr>\n",
       "  </tbody>\n",
       "</table>\n",
       "</div>"
      ],
      "text/plain": [
       "                              setor  return\n",
       "0               Alimentos e Bebidas       2\n",
       "1                            Aéreas       1\n",
       "2                  Bens Industriais       2\n",
       "3                  Construção Civil       2\n",
       "4             Exploração de imóveis       2\n",
       "5                        Financeiro      49\n",
       "6            Mineração e Siderurgia       7\n",
       "7                  Papel e Celulose       3\n",
       "8   Petroleo, gás e biocombustíveis      10\n",
       "9                             Saúde      11\n",
       "10                 Telecomunicações       2\n",
       "11                Utilidade Pública      33\n",
       "12                           Varejo       6"
      ]
     },
     "execution_count": 74,
     "metadata": {},
     "output_type": "execute_result"
    }
   ],
   "source": [
    "fechadas_agrupadas_semestre\n",
    "fechadas_agrupadas_semestre = fechadas.groupby('setor')['return'].count().reset_index()\n",
    "fechadas_agrupadas_semestre"
   ]
  },
  {
   "cell_type": "code",
   "execution_count": 102,
   "id": "6e4f3109",
   "metadata": {
    "ExecuteTime": {
     "end_time": "2022-08-15T03:23:14.840430Z",
     "start_time": "2022-08-15T03:23:14.800793Z"
    }
   },
   "outputs": [
    {
     "data": {
      "text/html": [
       "<div>\n",
       "<style scoped>\n",
       "    .dataframe tbody tr th:only-of-type {\n",
       "        vertical-align: middle;\n",
       "    }\n",
       "\n",
       "    .dataframe tbody tr th {\n",
       "        vertical-align: top;\n",
       "    }\n",
       "\n",
       "    .dataframe thead th {\n",
       "        text-align: right;\n",
       "    }\n",
       "</style>\n",
       "<table border=\"1\" class=\"dataframe\">\n",
       "  <thead>\n",
       "    <tr style=\"text-align: right;\">\n",
       "      <th></th>\n",
       "      <th>trades</th>\n",
       "      <th>taxa_acerto</th>\n",
       "      <th>prazo_medio_operacao</th>\n",
       "      <th>retorno_bruto_acum</th>\n",
       "      <th>retorno_liquidi_acum</th>\n",
       "    </tr>\n",
       "    <tr>\n",
       "      <th>sorted_pair</th>\n",
       "      <th></th>\n",
       "      <th></th>\n",
       "      <th></th>\n",
       "      <th></th>\n",
       "      <th></th>\n",
       "    </tr>\n",
       "  </thead>\n",
       "  <tbody>\n",
       "    <tr>\n",
       "      <th>(PETR3, PETR4)</th>\n",
       "      <td>9</td>\n",
       "      <td>0.888889</td>\n",
       "      <td>15.333333</td>\n",
       "      <td>0.194054</td>\n",
       "      <td>0.089952</td>\n",
       "    </tr>\n",
       "    <tr>\n",
       "      <th>(EQTL3, TAEE11)</th>\n",
       "      <td>6</td>\n",
       "      <td>1.000000</td>\n",
       "      <td>21.000000</td>\n",
       "      <td>0.465550</td>\n",
       "      <td>0.390292</td>\n",
       "    </tr>\n",
       "    <tr>\n",
       "      <th>(BBAS3, BBSE3)</th>\n",
       "      <td>4</td>\n",
       "      <td>1.000000</td>\n",
       "      <td>17.250000</td>\n",
       "      <td>0.263147</td>\n",
       "      <td>0.214441</td>\n",
       "    </tr>\n",
       "    <tr>\n",
       "      <th>(CMIG4, TAEE11)</th>\n",
       "      <td>4</td>\n",
       "      <td>1.000000</td>\n",
       "      <td>36.750000</td>\n",
       "      <td>0.136047</td>\n",
       "      <td>0.084316</td>\n",
       "    </tr>\n",
       "    <tr>\n",
       "      <th>(B3SA3, BBDC4)</th>\n",
       "      <td>3</td>\n",
       "      <td>1.000000</td>\n",
       "      <td>13.666667</td>\n",
       "      <td>0.112210</td>\n",
       "      <td>0.077301</td>\n",
       "    </tr>\n",
       "    <tr>\n",
       "      <th>(BBDC3, BBDC4)</th>\n",
       "      <td>3</td>\n",
       "      <td>1.000000</td>\n",
       "      <td>16.333333</td>\n",
       "      <td>0.056550</td>\n",
       "      <td>0.021772</td>\n",
       "    </tr>\n",
       "    <tr>\n",
       "      <th>(BBDC3, BBSE3)</th>\n",
       "      <td>3</td>\n",
       "      <td>1.000000</td>\n",
       "      <td>13.666667</td>\n",
       "      <td>0.200917</td>\n",
       "      <td>0.164967</td>\n",
       "    </tr>\n",
       "    <tr>\n",
       "      <th>(BBSE3, ITSA4)</th>\n",
       "      <td>3</td>\n",
       "      <td>1.000000</td>\n",
       "      <td>13.333333</td>\n",
       "      <td>0.220010</td>\n",
       "      <td>0.183906</td>\n",
       "    </tr>\n",
       "    <tr>\n",
       "      <th>(BRAP4, GGBR4)</th>\n",
       "      <td>3</td>\n",
       "      <td>1.000000</td>\n",
       "      <td>5.000000</td>\n",
       "      <td>0.243289</td>\n",
       "      <td>0.208373</td>\n",
       "    </tr>\n",
       "    <tr>\n",
       "      <th>(EGIE3, SBSP3)</th>\n",
       "      <td>3</td>\n",
       "      <td>1.000000</td>\n",
       "      <td>6.666667</td>\n",
       "      <td>0.288937</td>\n",
       "      <td>0.253280</td>\n",
       "    </tr>\n",
       "    <tr>\n",
       "      <th>(FLRY3, QUAL3)</th>\n",
       "      <td>3</td>\n",
       "      <td>1.000000</td>\n",
       "      <td>10.000000</td>\n",
       "      <td>0.394337</td>\n",
       "      <td>0.356892</td>\n",
       "    </tr>\n",
       "    <tr>\n",
       "      <th>(GGBR4, GOAU4)</th>\n",
       "      <td>3</td>\n",
       "      <td>1.000000</td>\n",
       "      <td>17.000000</td>\n",
       "      <td>0.026701</td>\n",
       "      <td>-0.007852</td>\n",
       "    </tr>\n",
       "    <tr>\n",
       "      <th>(KLBN11, SUZB3)</th>\n",
       "      <td>3</td>\n",
       "      <td>1.000000</td>\n",
       "      <td>6.000000</td>\n",
       "      <td>0.190539</td>\n",
       "      <td>0.156075</td>\n",
       "    </tr>\n",
       "    <tr>\n",
       "      <th>(SBSP3, TAEE11)</th>\n",
       "      <td>3</td>\n",
       "      <td>1.000000</td>\n",
       "      <td>32.000000</td>\n",
       "      <td>0.109964</td>\n",
       "      <td>0.071853</td>\n",
       "    </tr>\n",
       "    <tr>\n",
       "      <th>(CPFE3, EGIE3)</th>\n",
       "      <td>3</td>\n",
       "      <td>0.666667</td>\n",
       "      <td>13.333333</td>\n",
       "      <td>0.053692</td>\n",
       "      <td>0.019484</td>\n",
       "    </tr>\n",
       "  </tbody>\n",
       "</table>\n",
       "</div>"
      ],
      "text/plain": [
       "                 trades  taxa_acerto  prazo_medio_operacao  \\\n",
       "sorted_pair                                                  \n",
       "(PETR3, PETR4)        9     0.888889             15.333333   \n",
       "(EQTL3, TAEE11)       6     1.000000             21.000000   \n",
       "(BBAS3, BBSE3)        4     1.000000             17.250000   \n",
       "(CMIG4, TAEE11)       4     1.000000             36.750000   \n",
       "(B3SA3, BBDC4)        3     1.000000             13.666667   \n",
       "(BBDC3, BBDC4)        3     1.000000             16.333333   \n",
       "(BBDC3, BBSE3)        3     1.000000             13.666667   \n",
       "(BBSE3, ITSA4)        3     1.000000             13.333333   \n",
       "(BRAP4, GGBR4)        3     1.000000              5.000000   \n",
       "(EGIE3, SBSP3)        3     1.000000              6.666667   \n",
       "(FLRY3, QUAL3)        3     1.000000             10.000000   \n",
       "(GGBR4, GOAU4)        3     1.000000             17.000000   \n",
       "(KLBN11, SUZB3)       3     1.000000              6.000000   \n",
       "(SBSP3, TAEE11)       3     1.000000             32.000000   \n",
       "(CPFE3, EGIE3)        3     0.666667             13.333333   \n",
       "\n",
       "                 retorno_bruto_acum  retorno_liquidi_acum  \n",
       "sorted_pair                                                \n",
       "(PETR3, PETR4)             0.194054              0.089952  \n",
       "(EQTL3, TAEE11)            0.465550              0.390292  \n",
       "(BBAS3, BBSE3)             0.263147              0.214441  \n",
       "(CMIG4, TAEE11)            0.136047              0.084316  \n",
       "(B3SA3, BBDC4)             0.112210              0.077301  \n",
       "(BBDC3, BBDC4)             0.056550              0.021772  \n",
       "(BBDC3, BBSE3)             0.200917              0.164967  \n",
       "(BBSE3, ITSA4)             0.220010              0.183906  \n",
       "(BRAP4, GGBR4)             0.243289              0.208373  \n",
       "(EGIE3, SBSP3)             0.288937              0.253280  \n",
       "(FLRY3, QUAL3)             0.394337              0.356892  \n",
       "(GGBR4, GOAU4)             0.026701             -0.007852  \n",
       "(KLBN11, SUZB3)            0.190539              0.156075  \n",
       "(SBSP3, TAEE11)            0.109964              0.071853  \n",
       "(CPFE3, EGIE3)             0.053692              0.019484  "
      ]
     },
     "execution_count": 102,
     "metadata": {},
     "output_type": "execute_result"
    }
   ],
   "source": [
    "fechadas_grouped = fechadas.groupby('sorted_pair').agg(\n",
    "    trades = ('sorted_pair','count'),\n",
    "    taxa_acerto = ('e_lucro_bruto', 'mean'),\n",
    "    prazo_medio_operacao = ('days_open', 'mean'),\n",
    "    retorno_bruto_acum = ('retorno_acumulado_sem_custos', 'sum'),\n",
    "    retorno_liquidi_acum = ('retorno_acumulado', 'sum')\n",
    ")\n",
    "\n",
    "fechadas_grouped.sort_values(by=['trades', 'taxa_acerto'], ascending=False).head(15)"
   ]
  },
  {
   "cell_type": "code",
   "execution_count": 103,
   "id": "a340b732",
   "metadata": {
    "ExecuteTime": {
     "end_time": "2022-08-15T03:28:52.725878Z",
     "start_time": "2022-08-15T03:28:52.614836Z"
    }
   },
   "outputs": [],
   "source": [
    "fechadas_grouped.sort_values(by=['trades', 'taxa_acerto'], ascending=False).head(15).to_excel('melhoresPares.xlsx')"
   ]
  },
  {
   "cell_type": "code",
   "execution_count": null,
   "id": "bfc97ec9",
   "metadata": {},
   "outputs": [],
   "source": []
  }
 ],
 "metadata": {
  "kernelspec": {
   "display_name": "Python 3",
   "language": "python",
   "name": "python3"
  },
  "language_info": {
   "codemirror_mode": {
    "name": "ipython",
    "version": 3
   },
   "file_extension": ".py",
   "mimetype": "text/x-python",
   "name": "python",
   "nbconvert_exporter": "python",
   "pygments_lexer": "ipython3",
   "version": "3.8.4"
  }
 },
 "nbformat": 4,
 "nbformat_minor": 5
}
