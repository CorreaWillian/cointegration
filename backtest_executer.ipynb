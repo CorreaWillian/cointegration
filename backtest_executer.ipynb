{
 "cells": [
  {
   "cell_type": "code",
   "execution_count": null,
   "id": "06d1ec3b",
   "metadata": {
    "ExecuteTime": {
     "start_time": "2022-08-14T00:15:50.404Z"
    }
   },
   "outputs": [],
   "source": [
    "import pandas as pd\n",
    "import numpy as np\n",
    "from cointegracao import Cointegration\n",
    "from itertools import combinations, permutations\n",
    "import time\n",
    "from backtest import Executer\n",
    "from tqdm.contrib.concurrent import process_map, thread_map # or thread_map\n",
    "import gc\n",
    "import pickle"
   ]
  },
  {
   "cell_type": "code",
   "execution_count": null,
   "id": "401aeb5e",
   "metadata": {
    "ExecuteTime": {
     "start_time": "2022-08-14T00:15:50.777Z"
    }
   },
   "outputs": [],
   "source": [
    "import execute"
   ]
  },
  {
   "cell_type": "code",
   "execution_count": null,
   "id": "d9d97c3e",
   "metadata": {
    "ExecuteTime": {
     "start_time": "2022-08-14T00:15:51.088Z"
    }
   },
   "outputs": [],
   "source": [
    "n_workers = 7 # Número de CPUS que vai usar, na minha máquina ficou bom com 8, começa testando com 1 e ve se vai melhorando\n",
    "periodo = '5minutos' # Período de teste pode ser 'diario' ou 'minutos' ou '1minutos' ou '5 minutos'\n",
    "\n",
    "# Período de tempo que vai olhar para tras para calcular a cointegração: \n",
    "# no diário uso 252, no de 15 minutos combinamos 1300, 19500 minutos 3900 de 5minutos\n",
    "train_size = 3900\n",
    "significancia = 0.05 # Significancia usada na cointegração\n",
    "z_score_saida = 0.5 # Z-score que considera retorno a média, quando ele vai sair.\n",
    "\n",
    "# Z-score de stop quando o resíduo está indo para longe do retorno a média:\n",
    "# pode ser 'desligado' ou valores acima de 1\n",
    "z_score_stop = 'desligado'\n",
    "conf_var = 0.05 # Confiança do VAR. Também aceita 'desligado' para o caso sem stop\n",
    "\n",
    "usar_halflife = 'desligado' # Usa o stop no halflife. aceita 'ligado' e 'desligado'\n",
    "usar_var = 'ligado' # Usa o var como stop. Aceita 'ligado' e 'desligado'"
   ]
  },
  {
   "cell_type": "code",
   "execution_count": null,
   "id": "2c01749c",
   "metadata": {
    "ExecuteTime": {
     "start_time": "2022-08-14T00:15:51.489Z"
    },
    "scrolled": true
   },
   "outputs": [],
   "source": [
    "if __name__ == '__main__':\n",
    "    resultados_raw = execute.executa(\n",
    "        n_workers = n_workers,\n",
    "        periodo = periodo,\n",
    "        train_size = train_size,\n",
    "        significancia = significancia,\n",
    "        z_score_saida = z_score_saida,\n",
    "        z_score_stop = z_score_stop,\n",
    "        conf_var = conf_var,\n",
    "        usar_halflife = usar_halflife,\n",
    "        usar_var = usar_var    \n",
    "    )"
   ]
  },
  {
   "cell_type": "code",
   "execution_count": null,
   "id": "6d55bd44",
   "metadata": {
    "ExecuteTime": {
     "start_time": "2022-08-14T00:15:51.824Z"
    }
   },
   "outputs": [],
   "source": [
    "# Calcula o retorno a partir dos resultados gerados no backtest\n",
    "df_returns = execute.calcula_retornos(resultados_raw)\n",
    "\n",
    "# Salva um arquivo que preciso para fazer os gráficos e tabelas depois \n",
    "filename = f'{periodo}_{train_size}_{significancia}_{z_score_saida}_{z_score_stop}_{conf_var}_{usar_halflife}_{usar_var}.csv'\n",
    "df_returns.to_csv(filename, index=False)\n",
    "\n",
    "with open(filename+'.pickle', 'wb') as handle:\n",
    "    pickle.dump(df_returns, handle)"
   ]
  },
  {
   "cell_type": "code",
   "execution_count": null,
   "id": "4b66b2bd",
   "metadata": {
    "ExecuteTime": {
     "start_time": "2022-08-14T00:09:56.184Z"
    }
   },
   "outputs": [],
   "source": [
    "# Salva como arquivo de excel. Lembra sempre de escolher um 'nome_arquivo.xlsx' diferente,\n",
    "# senão ele vai salvar em cima do arquivo existente.\n",
    "\n",
    "df_returns.pivot(index='pair', columns='date', values='return').T.to_excel(filename+'.xlsx')"
   ]
  },
  {
   "cell_type": "code",
   "execution_count": null,
   "id": "9748a651",
   "metadata": {},
   "outputs": [],
   "source": []
  },
  {
   "cell_type": "markdown",
   "id": "469796eb",
   "metadata": {},
   "source": [
    "# FAZ O SEGUNDO"
   ]
  },
  {
   "cell_type": "code",
   "execution_count": null,
   "id": "29f07068",
   "metadata": {
    "ExecuteTime": {
     "start_time": "2022-08-14T00:14:51.449Z"
    }
   },
   "outputs": [],
   "source": [
    "n_workers = 7 # Número de CPUS que vai usar, na minha máquina ficou bom com 8, começa testando com 1 e ve se vai melhorando\n",
    "periodo = '5minutos' # Período de teste pode ser 'diario' ou 'minutos' ou '1minutos' ou '5 minutos'\n",
    "\n",
    "# Período de tempo que vai olhar para tras para calcular a cointegração: \n",
    "# no diário uso 252, no de 15 minutos combinamos 3 meses = 15(minutos) * 21(dias uteis) * 3(meses) = 1300, 19500 minutos 3900 de 5minutos\n",
    "train_size = 3900\n",
    "significancia = 0.05 # Significancia usada na cointegração\n",
    "z_score_saida = 0.5 # Z-score que considera retorno a média, quando ele vai sair.\n",
    "\n",
    "# Z-score de stop quando o resíduo está indo para longe do retorno a média:\n",
    "# pode ser 'desligado' ou valores acima de 1\n",
    "z_score_stop = 'desligado'\n",
    "conf_var = 0.05 # Confiança do VAR. Também aceita 'desligado' para o caso sem stop\n",
    "\n",
    "usar_halflife = 'desligado' # Usa o stop no halflife. aceita 'ligado' e 'desligado'\n",
    "usar_var = 'desligado' # Usa o var como stop. Aceita 'ligado' e 'desligado'"
   ]
  },
  {
   "cell_type": "code",
   "execution_count": null,
   "id": "88ae575d",
   "metadata": {
    "ExecuteTime": {
     "start_time": "2022-08-14T00:14:52.886Z"
    }
   },
   "outputs": [],
   "source": [
    "if __name__ == '__main__':\n",
    "    resultados_raw = execute.executa(\n",
    "        n_workers = n_workers,\n",
    "        periodo = periodo,\n",
    "        train_size = train_size,\n",
    "        significancia = significancia,\n",
    "        z_score_saida = z_score_saida,\n",
    "        z_score_stop = z_score_stop,\n",
    "        conf_var = conf_var,\n",
    "        usar_halflife = usar_halflife,\n",
    "        usar_var = usar_var    \n",
    "    )"
   ]
  },
  {
   "cell_type": "code",
   "execution_count": null,
   "id": "1fff486e",
   "metadata": {
    "ExecuteTime": {
     "start_time": "2022-08-14T00:14:53.619Z"
    }
   },
   "outputs": [],
   "source": [
    "# Calcula o retorno a partir dos resultados gerados no backtest\n",
    "df_returns = execute.calcula_retornos(resultados_raw)\n",
    "\n",
    "# Salva um arquivo que preciso para fazer os gráficos e tabelas depois \n",
    "filename = f'{periodo}_{train_size}_{significancia}_{z_score_saida}_{z_score_stop}_{conf_var}_{usar_halflife}_{usar_var}.csv'\n",
    "df_returns.to_csv(filename, index=False)\n",
    "\n",
    "with open(filename+'.pickle', 'wb') as handle:\n",
    "    pickle.dump(df_returns, handle)"
   ]
  },
  {
   "cell_type": "code",
   "execution_count": null,
   "id": "fdd46bc4",
   "metadata": {
    "ExecuteTime": {
     "start_time": "2022-08-14T00:09:58.499Z"
    }
   },
   "outputs": [],
   "source": [
    "# Salva como arquivo de excel. Lembra sempre de escolher um 'nome_arquivo.xlsx' diferente,\n",
    "# senão ele vai salvar em cima do arquivo existente.\n",
    "\n",
    "df_returns.pivot(index='pair', columns='date', values='return').T.to_excel(filename+'.xlsx')"
   ]
  },
  {
   "cell_type": "code",
   "execution_count": null,
   "id": "261f497a",
   "metadata": {},
   "outputs": [],
   "source": []
  },
  {
   "cell_type": "markdown",
   "id": "fa3f5fc4",
   "metadata": {},
   "source": [
    "# 1 minuto"
   ]
  },
  {
   "cell_type": "code",
   "execution_count": null,
   "id": "1847d07a",
   "metadata": {
    "ExecuteTime": {
     "start_time": "2022-08-14T00:14:57.486Z"
    }
   },
   "outputs": [],
   "source": [
    "n_workers = 7 # Número de CPUS que vai usar, na minha máquina ficou bom com 8, começa testando com 1 e ve se vai melhorando\n",
    "periodo = '1minutos' # Período de teste pode ser 'diario' ou 'minutos' ou '1minutos' ou '5 minutos'\n",
    "\n",
    "# Período de tempo que vai olhar para tras para calcular a cointegração: \n",
    "# no diário uso 252, no de 15 minutos combinamos 3 meses = 15(minutos) * 21(dias uteis) * 3(meses) = 1300, 19500 minutos 3900 de 5minutos\n",
    "train_size = 3900\n",
    "significancia = 0.05 # Significancia usada na cointegração\n",
    "z_score_saida = 0.5 # Z-score que considera retorno a média, quando ele vai sair.\n",
    "\n",
    "# Z-score de stop quando o resíduo está indo para longe do retorno a média:\n",
    "# pode ser 'desligado' ou valores acima de 1\n",
    "z_score_stop = 'desligado'\n",
    "conf_var = 0.05 # Confiança do VAR. Também aceita 'desligado' para o caso sem stop\n",
    "\n",
    "usar_halflife = 'desligado' # Usa o stop no halflife. aceita 'ligado' e 'desligado'\n",
    "usar_var = 'desligado' # Usa o var como stop. Aceita 'ligado' e 'desligado'"
   ]
  },
  {
   "cell_type": "code",
   "execution_count": null,
   "id": "1d0e4399",
   "metadata": {
    "ExecuteTime": {
     "start_time": "2022-08-14T00:14:58.157Z"
    }
   },
   "outputs": [],
   "source": [
    "if __name__ == '__main__':\n",
    "    resultados_raw = execute.executa(\n",
    "        n_workers = n_workers,\n",
    "        periodo = periodo,\n",
    "        train_size = train_size,\n",
    "        significancia = significancia,\n",
    "        z_score_saida = z_score_saida,\n",
    "        z_score_stop = z_score_stop,\n",
    "        conf_var = conf_var,\n",
    "        usar_halflife = usar_halflife,\n",
    "        usar_var = usar_var    \n",
    "    )"
   ]
  },
  {
   "cell_type": "code",
   "execution_count": null,
   "id": "f7f0a6ff",
   "metadata": {
    "ExecuteTime": {
     "start_time": "2022-08-14T00:14:58.710Z"
    }
   },
   "outputs": [],
   "source": [
    "# Calcula o retorno a partir dos resultados gerados no backtest\n",
    "df_returns = execute.calcula_retornos(resultados_raw)\n",
    "\n",
    "# Salva um arquivo que preciso para fazer os gráficos e tabelas depois \n",
    "filename = f'{periodo}_{train_size}_{significancia}_{z_score_saida}_{z_score_stop}_{conf_var}_{usar_halflife}_{usar_var}.csv'\n",
    "df_returns.to_csv(filename, index=False)\n",
    "\n",
    "with open(filename+'.pickle', 'wb') as handle:\n",
    "    pickle.dump(df_returns, handle)"
   ]
  },
  {
   "cell_type": "code",
   "execution_count": null,
   "id": "7acd77ce",
   "metadata": {
    "ExecuteTime": {
     "start_time": "2022-08-14T00:14:59.229Z"
    }
   },
   "outputs": [],
   "source": [
    "# Salva como arquivo de excel. Lembra sempre de escolher um 'nome_arquivo.xlsx' diferente,\n",
    "# senão ele vai salvar em cima do arquivo existente.\n",
    "\n",
    "df_returns.pivot(index='pair', columns='date', values='return').T.to_excel(filename+'.xlsx')"
   ]
  },
  {
   "cell_type": "markdown",
   "id": "35c4436a",
   "metadata": {},
   "source": [
    "# Outro de 1 minuto"
   ]
  },
  {
   "cell_type": "code",
   "execution_count": null,
   "id": "6bc4f0c8",
   "metadata": {
    "ExecuteTime": {
     "start_time": "2022-08-14T00:15:00.112Z"
    }
   },
   "outputs": [],
   "source": [
    "n_workers = 7 # Número de CPUS que vai usar, na minha máquina ficou bom com 8, começa testando com 1 e ve se vai melhorando\n",
    "periodo = '1minutos' # Período de teste pode ser 'diario' ou 'minutos' ou '1minutos' ou '5 minutos'\n",
    "\n",
    "# Período de tempo que vai olhar para tras para calcular a cointegração: \n",
    "# no diário uso 252, no de 15 minutos combinamos 3 meses = 15(minutos) * 21(dias uteis) * 3(meses) = 1300, 19500 minutos 3900 de 5minutos\n",
    "train_size = 3900\n",
    "significancia = 0.05 # Significancia usada na cointegração\n",
    "z_score_saida = 0.5 # Z-score que considera retorno a média, quando ele vai sair.\n",
    "\n",
    "# Z-score de stop quando o resíduo está indo para longe do retorno a média:\n",
    "# pode ser 'desligado' ou valores acima de 1\n",
    "z_score_stop = 'desligado'\n",
    "conf_var = 0.05 # Confiança do VAR. Também aceita 'desligado' para o caso sem stop\n",
    "\n",
    "usar_halflife = 'desligado' # Usa o stop no halflife. aceita 'ligado' e 'desligado'\n",
    "usar_var = 'ligado' # Usa o var como stop. Aceita 'ligado' e 'desligado'"
   ]
  },
  {
   "cell_type": "code",
   "execution_count": null,
   "id": "9e68fd4d",
   "metadata": {
    "ExecuteTime": {
     "start_time": "2022-08-14T00:15:00.609Z"
    }
   },
   "outputs": [],
   "source": [
    "if __name__ == '__main__':\n",
    "    resultados_raw = execute.executa(\n",
    "        n_workers = n_workers,\n",
    "        periodo = periodo,\n",
    "        train_size = train_size,\n",
    "        significancia = significancia,\n",
    "        z_score_saida = z_score_saida,\n",
    "        z_score_stop = z_score_stop,\n",
    "        conf_var = conf_var,\n",
    "        usar_halflife = usar_halflife,\n",
    "        usar_var = usar_var    \n",
    "    )"
   ]
  },
  {
   "cell_type": "code",
   "execution_count": null,
   "id": "9d997e7c",
   "metadata": {
    "ExecuteTime": {
     "start_time": "2022-08-14T00:15:01.064Z"
    }
   },
   "outputs": [],
   "source": [
    "# Calcula o retorno a partir dos resultados gerados no backtest\n",
    "df_returns = execute.calcula_retornos(resultados_raw)\n",
    "\n",
    "# Salva um arquivo que preciso para fazer os gráficos e tabelas depois \n",
    "filename = f'{periodo}_{train_size}_{significancia}_{z_score_saida}_{z_score_stop}_{conf_var}_{usar_halflife}_{usar_var}.csv'\n",
    "df_returns.to_csv(filename, index=False)\n",
    "\n",
    "with open(filename+'.pickle', 'wb') as handle:\n",
    "    pickle.dump(df_returns, handle)"
   ]
  },
  {
   "cell_type": "code",
   "execution_count": null,
   "id": "c195035a",
   "metadata": {},
   "outputs": [],
   "source": [
    "# Salva como arquivo de excel. Lembra sempre de escolher um 'nome_arquivo.xlsx' diferente,\n",
    "# senão ele vai salvar em cima do arquivo existente.\n",
    "\n",
    "df_returns.pivot(index='pair', columns='date', values='return').T.to_excel(filename+'.xlsx')"
   ]
  }
 ],
 "metadata": {
  "kernelspec": {
   "display_name": "Python 3",
   "language": "python",
   "name": "python3"
  },
  "language_info": {
   "codemirror_mode": {
    "name": "ipython",
    "version": 3
   },
   "file_extension": ".py",
   "mimetype": "text/x-python",
   "name": "python",
   "nbconvert_exporter": "python",
   "pygments_lexer": "ipython3",
   "version": "3.8.4"
  }
 },
 "nbformat": 4,
 "nbformat_minor": 5
}
