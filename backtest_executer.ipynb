{
 "cells": [
  {
   "cell_type": "code",
   "execution_count": 1,
   "id": "d1e95d9f",
   "metadata": {
    "ExecuteTime": {
     "end_time": "2022-08-14T00:15:56.753333Z",
     "start_time": "2022-08-14T00:15:50.408466Z"
    }
   },
   "outputs": [],
   "source": [
    "import pandas as pd\n",
    "import numpy as np\n",
    "from cointegracao import Cointegration\n",
    "from itertools import combinations, permutations\n",
    "import time\n",
    "from backtest import Executer\n",
    "from tqdm.contrib.concurrent import process_map, thread_map # or thread_map\n",
    "import gc\n",
    "import pickle"
   ]
  },
  {
   "cell_type": "code",
   "execution_count": 2,
   "id": "f6ad935f",
   "metadata": {
    "ExecuteTime": {
     "end_time": "2022-08-14T00:15:56.768281Z",
     "start_time": "2022-08-14T00:15:56.753333Z"
    }
   },
   "outputs": [],
   "source": [
    "import execute"
   ]
  },
  {
   "cell_type": "code",
   "execution_count": 3,
   "id": "b0bbe2f2",
   "metadata": {
    "ExecuteTime": {
     "end_time": "2022-08-14T00:15:56.800280Z",
     "start_time": "2022-08-14T00:15:56.774284Z"
    }
   },
   "outputs": [],
   "source": [
    "n_workers = 7 # Número de CPUS que vai usar, na minha máquina ficou bom com 8, começa testando com 1 e ve se vai melhorando\n",
    "periodo = '5minutos' # Período de teste pode ser 'diario' ou 'minutos' ou '1minutos' ou '5 minutos'\n",
    "\n",
    "# Período de tempo que vai olhar para tras para calcular a cointegração: \n",
    "# no diário uso 252, no de 15 minutos combinamos 1300, 19500 minutos 3900 de 5minutos\n",
    "train_size = 3900\n",
    "significancia = 0.05 # Significancia usada na cointegração\n",
    "z_score_saida = 0.5 # Z-score que considera retorno a média, quando ele vai sair.\n",
    "\n",
    "# Z-score de stop quando o resíduo está indo para longe do retorno a média:\n",
    "# pode ser 'desligado' ou valores acima de 1\n",
    "z_score_stop = 'desligado'\n",
    "conf_var = 0.05 # Confiança do VAR. Também aceita 'desligado' para o caso sem stop\n",
    "\n",
    "usar_halflife = 'desligado' # Usa o stop no halflife. aceita 'ligado' e 'desligado'\n",
    "usar_var = 'ligado' # Usa o var como stop. Aceita 'ligado' e 'desligado'"
   ]
  },
  {
   "cell_type": "code",
   "execution_count": 4,
   "id": "6ef20365",
   "metadata": {
    "ExecuteTime": {
     "end_time": "2022-08-14T05:54:59.673071Z",
     "start_time": "2022-08-14T00:15:56.806285Z"
    },
    "scrolled": true
   },
   "outputs": [
    {
     "name": "stdout",
     "output_type": "stream",
     "text": [
      "Executando 2020-01-01/2020-07-01\n"
     ]
    },
    {
     "data": {
      "application/vnd.jupyter.widget-view+json": {
       "model_id": "ca5c2e89bda1420d9a3456e31e6531e4",
       "version_major": 2,
       "version_minor": 0
      },
      "text/plain": [
       "  0%|          | 0/386 [00:00<?, ?it/s]"
      ]
     },
     "metadata": {},
     "output_type": "display_data"
    }
   ],
   "source": [
    "if __name__ == '__main__':\n",
    "    resultados_raw = execute.executa(\n",
    "        n_workers = n_workers,\n",
    "        periodo = periodo,\n",
    "        train_size = train_size,\n",
    "        significancia = significancia,\n",
    "        z_score_saida = z_score_saida,\n",
    "        z_score_stop = z_score_stop,\n",
    "        conf_var = conf_var,\n",
    "        usar_halflife = usar_halflife,\n",
    "        usar_var = usar_var    \n",
    "    )"
   ]
  },
  {
   "cell_type": "code",
   "execution_count": 3,
   "id": "33aeed22",
   "metadata": {
    "ExecuteTime": {
     "end_time": "2022-08-14T23:23:09.786251Z",
     "start_time": "2022-08-14T23:23:09.294709Z"
    }
   },
   "outputs": [],
   "source": [
    "import pandas as pd"
   ]
  },
  {
   "cell_type": "code",
   "execution_count": 9,
   "id": "4df417e6",
   "metadata": {
    "ExecuteTime": {
     "end_time": "2022-08-14T23:24:30.706083Z",
     "start_time": "2022-08-14T23:24:30.685080Z"
    }
   },
   "outputs": [
    {
     "data": {
      "text/plain": [
       "8"
      ]
     },
     "execution_count": 9,
     "metadata": {},
     "output_type": "execute_result"
    }
   ],
   "source": [
    "len(file)"
   ]
  },
  {
   "cell_type": "code",
   "execution_count": 10,
   "id": "92abee68",
   "metadata": {
    "ExecuteTime": {
     "end_time": "2022-08-14T23:24:37.847826Z",
     "start_time": "2022-08-14T23:24:37.834827Z"
    }
   },
   "outputs": [
    {
     "data": {
      "text/plain": [
       "7"
      ]
     },
     "execution_count": 10,
     "metadata": {},
     "output_type": "execute_result"
    }
   ],
   "source": [
    "len(dicionario)"
   ]
  },
  {
   "cell_type": "code",
   "execution_count": 12,
   "id": "f8cd365c",
   "metadata": {
    "ExecuteTime": {
     "end_time": "2022-08-14T23:25:19.628403Z",
     "start_time": "2022-08-14T23:25:19.606843Z"
    }
   },
   "outputs": [
    {
     "data": {
      "text/html": [
       "<div>\n",
       "<style scoped>\n",
       "    .dataframe tbody tr th:only-of-type {\n",
       "        vertical-align: middle;\n",
       "    }\n",
       "\n",
       "    .dataframe tbody tr th {\n",
       "        vertical-align: top;\n",
       "    }\n",
       "\n",
       "    .dataframe thead th {\n",
       "        text-align: right;\n",
       "    }\n",
       "</style>\n",
       "<table border=\"1\" class=\"dataframe\">\n",
       "  <thead>\n",
       "    <tr style=\"text-align: right;\">\n",
       "      <th></th>\n",
       "      <th>b</th>\n",
       "      <th>a</th>\n",
       "    </tr>\n",
       "  </thead>\n",
       "  <tbody>\n",
       "    <tr>\n",
       "      <th>0</th>\n",
       "      <td>periodo</td>\n",
       "      <td>diario</td>\n",
       "    </tr>\n",
       "    <tr>\n",
       "      <th>1</th>\n",
       "      <td>train_size</td>\n",
       "      <td>252</td>\n",
       "    </tr>\n",
       "    <tr>\n",
       "      <th>2</th>\n",
       "      <td>significancia</td>\n",
       "      <td>0.01</td>\n",
       "    </tr>\n",
       "    <tr>\n",
       "      <th>3</th>\n",
       "      <td>z_score_saida</td>\n",
       "      <td>0.5</td>\n",
       "    </tr>\n",
       "    <tr>\n",
       "      <th>4</th>\n",
       "      <td>z_score_stop</td>\n",
       "      <td>desligado</td>\n",
       "    </tr>\n",
       "    <tr>\n",
       "      <th>5</th>\n",
       "      <td>conf_var</td>\n",
       "      <td>0.01</td>\n",
       "    </tr>\n",
       "    <tr>\n",
       "      <th>6</th>\n",
       "      <td>usar_halflife</td>\n",
       "      <td>desligado</td>\n",
       "    </tr>\n",
       "    <tr>\n",
       "      <th>7</th>\n",
       "      <td>usar_var</td>\n",
       "      <td>ligado.csv</td>\n",
       "    </tr>\n",
       "  </tbody>\n",
       "</table>\n",
       "</div>"
      ],
      "text/plain": [
       "               b           a\n",
       "0        periodo      diario\n",
       "1     train_size         252\n",
       "2  significancia        0.01\n",
       "3  z_score_saida         0.5\n",
       "4   z_score_stop   desligado\n",
       "5       conf_var        0.01\n",
       "6  usar_halflife   desligado\n",
       "7       usar_var  ligado.csv"
      ]
     },
     "execution_count": 12,
     "metadata": {},
     "output_type": "execute_result"
    }
   ],
   "source": [
    "unp = 'diario_252_0.01_0.5_desligado_0.01_desligado_ligado.csv'\n",
    "file = unp.split('_')\n",
    "dicionario = ['periodo', 'train_size', 'significancia', 'z_score_saida', 'z_score_stop', 'conf_var', 'usar_halflife', 'usar_var']\n",
    "pd.DataFrame({'b':dicionario, 'a':file})"
   ]
  },
  {
   "cell_type": "code",
   "execution_count": 5,
   "id": "93ef9c48",
   "metadata": {
    "ExecuteTime": {
     "end_time": "2022-08-14T05:55:01.996587Z",
     "start_time": "2022-08-14T05:54:59.673071Z"
    }
   },
   "outputs": [
    {
     "name": "stderr",
     "output_type": "stream",
     "text": [
      "C:\\Users\\willi\\Documents\\GitHub\\cointegration\\execute.py:229: FutureWarning: Value based partial slicing on non-monotonic DatetimeIndexes with non-existing keys is deprecated and will raise a KeyError in a future Version.\n",
      "  df_returns = df_returns.set_index('open_date').loc['2019-01-01':]\n"
     ]
    }
   ],
   "source": [
    "# Calcula o retorno a partir dos resultados gerados no backtest\n",
    "df_returns = execute.calcula_retornos(resultados_raw)\n",
    "\n",
    "# Salva um arquivo que preciso para fazer os gráficos e tabelas depois \n",
    "filename = f'{periodo}_{train_size}_{significancia}_{z_score_saida}_{z_score_stop}_{conf_var}_{usar_halflife}_{usar_var}.csv'\n",
    "df_returns.to_csv(filename, index=False)\n",
    "\n",
    "with open(filename+'.pickle', 'wb') as handle:\n",
    "    pickle.dump(df_returns, handle)"
   ]
  },
  {
   "cell_type": "code",
   "execution_count": 6,
   "id": "6922a948",
   "metadata": {
    "ExecuteTime": {
     "end_time": "2022-08-14T05:55:03.111731Z",
     "start_time": "2022-08-14T05:55:01.996587Z"
    }
   },
   "outputs": [],
   "source": [
    "# Salva como arquivo de excel. Lembra sempre de escolher um 'nome_arquivo.xlsx' diferente,\n",
    "# senão ele vai salvar em cima do arquivo existente.\n",
    "\n",
    "df_returns.pivot(index='pair', columns='date', values='return').T.to_excel(filename+'.xlsx')"
   ]
  },
  {
   "cell_type": "code",
   "execution_count": null,
   "id": "4107ee65",
   "metadata": {},
   "outputs": [],
   "source": []
  },
  {
   "cell_type": "markdown",
   "id": "5ba25631",
   "metadata": {},
   "source": [
    "# FAZ O SEGUNDO"
   ]
  },
  {
   "cell_type": "code",
   "execution_count": 7,
   "id": "e703e7cb",
   "metadata": {
    "ExecuteTime": {
     "end_time": "2022-08-14T05:55:03.127354Z",
     "start_time": "2022-08-14T05:55:03.111731Z"
    }
   },
   "outputs": [],
   "source": [
    "n_workers = 7 # Número de CPUS que vai usar, na minha máquina ficou bom com 8, começa testando com 1 e ve se vai melhorando\n",
    "periodo = '5minutos' # Período de teste pode ser 'diario' ou 'minutos' ou '1minutos' ou '5 minutos'\n",
    "\n",
    "# Período de tempo que vai olhar para tras para calcular a cointegração: \n",
    "# no diário uso 252, no de 15 minutos combinamos 3 meses = 15(minutos) * 21(dias uteis) * 3(meses) = 1300, 19500 minutos 3900 de 5minutos\n",
    "train_size = 3900\n",
    "significancia = 0.05 # Significancia usada na cointegração\n",
    "z_score_saida = 0.5 # Z-score que considera retorno a média, quando ele vai sair.\n",
    "\n",
    "# Z-score de stop quando o resíduo está indo para longe do retorno a média:\n",
    "# pode ser 'desligado' ou valores acima de 1\n",
    "z_score_stop = 'desligado'\n",
    "conf_var = 0.05 # Confiança do VAR. Também aceita 'desligado' para o caso sem stop\n",
    "\n",
    "usar_halflife = 'desligado' # Usa o stop no halflife. aceita 'ligado' e 'desligado'\n",
    "usar_var = 'desligado' # Usa o var como stop. Aceita 'ligado' e 'desligado'"
   ]
  },
  {
   "cell_type": "code",
   "execution_count": 8,
   "id": "fdfed008",
   "metadata": {
    "ExecuteTime": {
     "end_time": "2022-08-14T10:18:44.618246Z",
     "start_time": "2022-08-14T05:55:03.127354Z"
    }
   },
   "outputs": [
    {
     "name": "stdout",
     "output_type": "stream",
     "text": [
      "Executando 2020-01-01/2020-07-01\n"
     ]
    },
    {
     "data": {
      "application/vnd.jupyter.widget-view+json": {
       "model_id": "932063f711ea4349b879dd125dd7e698",
       "version_major": 2,
       "version_minor": 0
      },
      "text/plain": [
       "  0%|          | 0/386 [00:00<?, ?it/s]"
      ]
     },
     "metadata": {},
     "output_type": "display_data"
    }
   ],
   "source": [
    "if __name__ == '__main__':\n",
    "    resultados_raw = execute.executa(\n",
    "        n_workers = n_workers,\n",
    "        periodo = periodo,\n",
    "        train_size = train_size,\n",
    "        significancia = significancia,\n",
    "        z_score_saida = z_score_saida,\n",
    "        z_score_stop = z_score_stop,\n",
    "        conf_var = conf_var,\n",
    "        usar_halflife = usar_halflife,\n",
    "        usar_var = usar_var    \n",
    "    )"
   ]
  },
  {
   "cell_type": "code",
   "execution_count": 9,
   "id": "c0a3a190",
   "metadata": {
    "ExecuteTime": {
     "end_time": "2022-08-14T10:18:47.387115Z",
     "start_time": "2022-08-14T10:18:44.618246Z"
    }
   },
   "outputs": [
    {
     "name": "stderr",
     "output_type": "stream",
     "text": [
      "C:\\Users\\willi\\Documents\\GitHub\\cointegration\\execute.py:229: FutureWarning: Value based partial slicing on non-monotonic DatetimeIndexes with non-existing keys is deprecated and will raise a KeyError in a future Version.\n",
      "  df_returns = df_returns.set_index('open_date').loc['2019-01-01':]\n"
     ]
    }
   ],
   "source": [
    "# Calcula o retorno a partir dos resultados gerados no backtest\n",
    "df_returns = execute.calcula_retornos(resultados_raw)\n",
    "\n",
    "# Salva um arquivo que preciso para fazer os gráficos e tabelas depois \n",
    "filename = f'{periodo}_{train_size}_{significancia}_{z_score_saida}_{z_score_stop}_{conf_var}_{usar_halflife}_{usar_var}.csv'\n",
    "df_returns.to_csv(filename, index=False)\n",
    "\n",
    "with open(filename+'.pickle', 'wb') as handle:\n",
    "    pickle.dump(df_returns, handle)"
   ]
  },
  {
   "cell_type": "code",
   "execution_count": 10,
   "id": "4e997c8c",
   "metadata": {
    "ExecuteTime": {
     "end_time": "2022-08-14T10:18:49.223250Z",
     "start_time": "2022-08-14T10:18:47.387115Z"
    }
   },
   "outputs": [],
   "source": [
    "# Salva como arquivo de excel. Lembra sempre de escolher um 'nome_arquivo.xlsx' diferente,\n",
    "# senão ele vai salvar em cima do arquivo existente.\n",
    "\n",
    "df_returns.pivot(index='pair', columns='date', values='return').T.to_excel(filename+'.xlsx')"
   ]
  },
  {
   "cell_type": "code",
   "execution_count": null,
   "id": "7e24f190",
   "metadata": {},
   "outputs": [],
   "source": []
  },
  {
   "cell_type": "markdown",
   "id": "90eb0005",
   "metadata": {},
   "source": [
    "# 1 minuto"
   ]
  },
  {
   "cell_type": "code",
   "execution_count": 11,
   "id": "6eb463bd",
   "metadata": {
    "ExecuteTime": {
     "end_time": "2022-08-14T10:18:49.238872Z",
     "start_time": "2022-08-14T10:18:49.223250Z"
    }
   },
   "outputs": [],
   "source": [
    "n_workers = 7 # Número de CPUS que vai usar, na minha máquina ficou bom com 8, começa testando com 1 e ve se vai melhorando\n",
    "periodo = '1minutos' # Período de teste pode ser 'diario' ou 'minutos' ou '1minutos' ou '5 minutos'\n",
    "\n",
    "# Período de tempo que vai olhar para tras para calcular a cointegração: \n",
    "# no diário uso 252, no de 15 minutos combinamos 3 meses = 15(minutos) * 21(dias uteis) * 3(meses) = 1300, 19500 minutos 3900 de 5minutos\n",
    "train_size = 3900\n",
    "significancia = 0.05 # Significancia usada na cointegração\n",
    "z_score_saida = 0.5 # Z-score que considera retorno a média, quando ele vai sair.\n",
    "\n",
    "# Z-score de stop quando o resíduo está indo para longe do retorno a média:\n",
    "# pode ser 'desligado' ou valores acima de 1\n",
    "z_score_stop = 'desligado'\n",
    "conf_var = 0.05 # Confiança do VAR. Também aceita 'desligado' para o caso sem stop\n",
    "\n",
    "usar_halflife = 'desligado' # Usa o stop no halflife. aceita 'ligado' e 'desligado'\n",
    "usar_var = 'desligado' # Usa o var como stop. Aceita 'ligado' e 'desligado'"
   ]
  },
  {
   "cell_type": "code",
   "execution_count": null,
   "id": "a5cde631",
   "metadata": {
    "ExecuteTime": {
     "start_time": "2022-08-14T00:15:55.830Z"
    }
   },
   "outputs": [
    {
     "name": "stdout",
     "output_type": "stream",
     "text": [
      "Executando 2020-01-01/2020-07-01\n"
     ]
    },
    {
     "data": {
      "application/vnd.jupyter.widget-view+json": {
       "model_id": "d6a5a98b9e2c46268462daf736bf62d7",
       "version_major": 2,
       "version_minor": 0
      },
      "text/plain": [
       "  0%|          | 0/386 [00:00<?, ?it/s]"
      ]
     },
     "metadata": {},
     "output_type": "display_data"
    }
   ],
   "source": [
    "if __name__ == '__main__':\n",
    "    resultados_raw = execute.executa(\n",
    "        n_workers = n_workers,\n",
    "        periodo = periodo,\n",
    "        train_size = train_size,\n",
    "        significancia = significancia,\n",
    "        z_score_saida = z_score_saida,\n",
    "        z_score_stop = z_score_stop,\n",
    "        conf_var = conf_var,\n",
    "        usar_halflife = usar_halflife,\n",
    "        usar_var = usar_var    \n",
    "    )"
   ]
  },
  {
   "cell_type": "code",
   "execution_count": null,
   "id": "31e311ac",
   "metadata": {
    "ExecuteTime": {
     "start_time": "2022-08-14T00:15:56.229Z"
    }
   },
   "outputs": [],
   "source": [
    "# Calcula o retorno a partir dos resultados gerados no backtest\n",
    "df_returns = execute.calcula_retornos(resultados_raw)\n",
    "\n",
    "# Salva um arquivo que preciso para fazer os gráficos e tabelas depois \n",
    "filename = f'{periodo}_{train_size}_{significancia}_{z_score_saida}_{z_score_stop}_{conf_var}_{usar_halflife}_{usar_var}.csv'\n",
    "df_returns.to_csv(filename, index=False)\n",
    "\n",
    "with open(filename+'.pickle', 'wb') as handle:\n",
    "    pickle.dump(df_returns, handle)"
   ]
  },
  {
   "cell_type": "code",
   "execution_count": null,
   "id": "1e5945e9",
   "metadata": {
    "ExecuteTime": {
     "start_time": "2022-08-14T00:15:56.603Z"
    }
   },
   "outputs": [],
   "source": [
    "# Salva como arquivo de excel. Lembra sempre de escolher um 'nome_arquivo.xlsx' diferente,\n",
    "# senão ele vai salvar em cima do arquivo existente.\n",
    "\n",
    "df_returns.pivot(index='pair', columns='date', values='return').T.to_excel(filename+'.xlsx')"
   ]
  },
  {
   "cell_type": "markdown",
   "id": "1e2d8045",
   "metadata": {},
   "source": [
    "# Outro de 1 minuto"
   ]
  },
  {
   "cell_type": "code",
   "execution_count": null,
   "id": "1d9c7ab3",
   "metadata": {
    "ExecuteTime": {
     "start_time": "2022-08-14T00:15:57.388Z"
    }
   },
   "outputs": [],
   "source": [
    "n_workers = 7 # Número de CPUS que vai usar, na minha máquina ficou bom com 8, começa testando com 1 e ve se vai melhorando\n",
    "periodo = '1minutos' # Período de teste pode ser 'diario' ou 'minutos' ou '1minutos' ou '5 minutos'\n",
    "\n",
    "# Período de tempo que vai olhar para tras para calcular a cointegração: \n",
    "# no diário uso 252, no de 15 minutos combinamos 3 meses = 15(minutos) * 21(dias uteis) * 3(meses) = 1300, 19500 minutos 3900 de 5minutos\n",
    "train_size = 3900\n",
    "significancia = 0.05 # Significancia usada na cointegração\n",
    "z_score_saida = 0.5 # Z-score que considera retorno a média, quando ele vai sair.\n",
    "\n",
    "# Z-score de stop quando o resíduo está indo para longe do retorno a média:\n",
    "# pode ser 'desligado' ou valores acima de 1\n",
    "z_score_stop = 'desligado'\n",
    "conf_var = 0.05 # Confiança do VAR. Também aceita 'desligado' para o caso sem stop\n",
    "\n",
    "usar_halflife = 'desligado' # Usa o stop no halflife. aceita 'ligado' e 'desligado'\n",
    "usar_var = 'ligado' # Usa o var como stop. Aceita 'ligado' e 'desligado'"
   ]
  },
  {
   "cell_type": "code",
   "execution_count": null,
   "id": "ca692220",
   "metadata": {
    "ExecuteTime": {
     "start_time": "2022-08-14T00:15:57.814Z"
    }
   },
   "outputs": [],
   "source": [
    "if __name__ == '__main__':\n",
    "    resultados_raw = execute.executa(\n",
    "        n_workers = n_workers,\n",
    "        periodo = periodo,\n",
    "        train_size = train_size,\n",
    "        significancia = significancia,\n",
    "        z_score_saida = z_score_saida,\n",
    "        z_score_stop = z_score_stop,\n",
    "        conf_var = conf_var,\n",
    "        usar_halflife = usar_halflife,\n",
    "        usar_var = usar_var    \n",
    "    )"
   ]
  },
  {
   "cell_type": "code",
   "execution_count": null,
   "id": "03bd109d",
   "metadata": {
    "ExecuteTime": {
     "start_time": "2022-08-14T00:15:58.393Z"
    }
   },
   "outputs": [],
   "source": [
    "# Calcula o retorno a partir dos resultados gerados no backtest\n",
    "df_returns = execute.calcula_retornos(resultados_raw)\n",
    "\n",
    "# Salva um arquivo que preciso para fazer os gráficos e tabelas depois \n",
    "filename = f'{periodo}_{train_size}_{significancia}_{z_score_saida}_{z_score_stop}_{conf_var}_{usar_halflife}_{usar_var}.csv'\n",
    "df_returns.to_csv(filename, index=False)\n",
    "\n",
    "with open(filename+'.pickle', 'wb') as handle:\n",
    "    pickle.dump(df_returns, handle)"
   ]
  },
  {
   "cell_type": "code",
   "execution_count": null,
   "id": "bc6dee78",
   "metadata": {
    "ExecuteTime": {
     "start_time": "2022-08-14T00:15:59.092Z"
    }
   },
   "outputs": [],
   "source": [
    "# Salva como arquivo de excel. Lembra sempre de escolher um 'nome_arquivo.xlsx' diferente,\n",
    "# senão ele vai salvar em cima do arquivo existente.\n",
    "\n",
    "df_returns.pivot(index='pair', columns='date', values='return').T.to_excel(filename+'.xlsx')"
   ]
  },
  {
   "cell_type": "code",
   "execution_count": null,
   "id": "f202c173",
   "metadata": {},
   "outputs": [],
   "source": []
  }
 ],
 "metadata": {
  "kernelspec": {
   "display_name": "Python 3",
   "language": "python",
   "name": "python3"
  },
  "language_info": {
   "codemirror_mode": {
    "name": "ipython",
    "version": 3
   },
   "file_extension": ".py",
   "mimetype": "text/x-python",
   "name": "python",
   "nbconvert_exporter": "python",
   "pygments_lexer": "ipython3",
   "version": "3.8.4"
  }
 },
 "nbformat": 4,
 "nbformat_minor": 5
}
