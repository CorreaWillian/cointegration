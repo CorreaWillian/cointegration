{
 "cells": [
  {
   "cell_type": "code",
   "execution_count": 1,
   "id": "9636594a",
   "metadata": {
    "ExecuteTime": {
     "end_time": "2022-08-14T00:15:56.753333Z",
     "start_time": "2022-08-14T00:15:50.408466Z"
    }
   },
   "outputs": [],
   "source": [
    "import pandas as pd\n",
    "import numpy as np\n",
    "from cointegracao import Cointegration\n",
    "from itertools import combinations, permutations\n",
    "import time\n",
    "from backtest import Executer\n",
    "from tqdm.contrib.concurrent import process_map, thread_map # or thread_map\n",
    "import gc\n",
    "import pickle"
   ]
  },
  {
   "cell_type": "code",
   "execution_count": 2,
   "id": "a88306e1",
   "metadata": {
    "ExecuteTime": {
     "end_time": "2022-08-14T00:15:56.768281Z",
     "start_time": "2022-08-14T00:15:56.753333Z"
    }
   },
   "outputs": [],
   "source": [
    "import execute"
   ]
  },
  {
   "cell_type": "code",
   "execution_count": 3,
   "id": "1c87d790",
   "metadata": {
    "ExecuteTime": {
     "end_time": "2022-08-14T00:15:56.800280Z",
     "start_time": "2022-08-14T00:15:56.774284Z"
    }
   },
   "outputs": [],
   "source": [
    "n_workers = 7 # Número de CPUS que vai usar, na minha máquina ficou bom com 8, começa testando com 1 e ve se vai melhorando\n",
    "periodo = '5minutos' # Período de teste pode ser 'diario' ou 'minutos' ou '1minutos' ou '5 minutos'\n",
    "\n",
    "# Período de tempo que vai olhar para tras para calcular a cointegração: \n",
    "# no diário uso 252, no de 15 minutos combinamos 1300, 19500 minutos 3900 de 5minutos\n",
    "train_size = 3900\n",
    "significancia = 0.05 # Significancia usada na cointegração\n",
    "z_score_saida = 0.5 # Z-score que considera retorno a média, quando ele vai sair.\n",
    "\n",
    "# Z-score de stop quando o resíduo está indo para longe do retorno a média:\n",
    "# pode ser 'desligado' ou valores acima de 1\n",
    "z_score_stop = 'desligado'\n",
    "conf_var = 0.05 # Confiança do VAR. Também aceita 'desligado' para o caso sem stop\n",
    "\n",
    "usar_halflife = 'desligado' # Usa o stop no halflife. aceita 'ligado' e 'desligado'\n",
    "usar_var = 'ligado' # Usa o var como stop. Aceita 'ligado' e 'desligado'"
   ]
  },
  {
   "cell_type": "code",
   "execution_count": 4,
   "id": "d66aec1f",
   "metadata": {
    "ExecuteTime": {
     "end_time": "2022-08-14T05:54:59.673071Z",
     "start_time": "2022-08-14T00:15:56.806285Z"
    },
    "scrolled": true
   },
   "outputs": [
    {
     "name": "stdout",
     "output_type": "stream",
     "text": [
      "Executando 2020-01-01/2020-07-01\n"
     ]
    },
    {
     "data": {
      "application/vnd.jupyter.widget-view+json": {
       "model_id": "ca5c2e89bda1420d9a3456e31e6531e4",
       "version_major": 2,
       "version_minor": 0
      },
      "text/plain": [
       "  0%|          | 0/386 [00:00<?, ?it/s]"
      ]
     },
     "metadata": {},
     "output_type": "display_data"
    }
   ],
   "source": [
    "if __name__ == '__main__':\n",
    "    resultados_raw = execute.executa(\n",
    "        n_workers = n_workers,\n",
    "        periodo = periodo,\n",
    "        train_size = train_size,\n",
    "        significancia = significancia,\n",
    "        z_score_saida = z_score_saida,\n",
    "        z_score_stop = z_score_stop,\n",
    "        conf_var = conf_var,\n",
    "        usar_halflife = usar_halflife,\n",
    "        usar_var = usar_var    \n",
    "    )"
   ]
  },
  {
   "cell_type": "code",
   "execution_count": 5,
   "id": "8872e09f",
   "metadata": {
    "ExecuteTime": {
     "end_time": "2022-08-14T05:55:01.996587Z",
     "start_time": "2022-08-14T05:54:59.673071Z"
    }
   },
   "outputs": [
    {
     "name": "stderr",
     "output_type": "stream",
     "text": [
      "C:\\Users\\willi\\Documents\\GitHub\\cointegration\\execute.py:229: FutureWarning: Value based partial slicing on non-monotonic DatetimeIndexes with non-existing keys is deprecated and will raise a KeyError in a future Version.\n",
      "  df_returns = df_returns.set_index('open_date').loc['2019-01-01':]\n"
     ]
    }
   ],
   "source": [
    "# Calcula o retorno a partir dos resultados gerados no backtest\n",
    "df_returns = execute.calcula_retornos(resultados_raw)\n",
    "\n",
    "# Salva um arquivo que preciso para fazer os gráficos e tabelas depois \n",
    "filename = f'{periodo}_{train_size}_{significancia}_{z_score_saida}_{z_score_stop}_{conf_var}_{usar_halflife}_{usar_var}.csv'\n",
    "df_returns.to_csv(filename, index=False)\n",
    "\n",
    "with open(filename+'.pickle', 'wb') as handle:\n",
    "    pickle.dump(df_returns, handle)"
   ]
  },
  {
   "cell_type": "code",
   "execution_count": 6,
   "id": "5c708990",
   "metadata": {
    "ExecuteTime": {
     "end_time": "2022-08-14T05:55:03.111731Z",
     "start_time": "2022-08-14T05:55:01.996587Z"
    }
   },
   "outputs": [],
   "source": [
    "# Salva como arquivo de excel. Lembra sempre de escolher um 'nome_arquivo.xlsx' diferente,\n",
    "# senão ele vai salvar em cima do arquivo existente.\n",
    "\n",
    "df_returns.pivot(index='pair', columns='date', values='return').T.to_excel(filename+'.xlsx')"
   ]
  },
  {
   "cell_type": "code",
   "execution_count": null,
   "id": "cb1d4cd1",
   "metadata": {},
   "outputs": [],
   "source": []
  },
  {
   "cell_type": "markdown",
   "id": "17381e85",
   "metadata": {},
   "source": [
    "# FAZ O SEGUNDO"
   ]
  },
  {
   "cell_type": "code",
   "execution_count": 7,
   "id": "601a9ebf",
   "metadata": {
    "ExecuteTime": {
     "end_time": "2022-08-14T05:55:03.127354Z",
     "start_time": "2022-08-14T05:55:03.111731Z"
    }
   },
   "outputs": [],
   "source": [
    "n_workers = 7 # Número de CPUS que vai usar, na minha máquina ficou bom com 8, começa testando com 1 e ve se vai melhorando\n",
    "periodo = '5minutos' # Período de teste pode ser 'diario' ou 'minutos' ou '1minutos' ou '5 minutos'\n",
    "\n",
    "# Período de tempo que vai olhar para tras para calcular a cointegração: \n",
    "# no diário uso 252, no de 15 minutos combinamos 3 meses = 15(minutos) * 21(dias uteis) * 3(meses) = 1300, 19500 minutos 3900 de 5minutos\n",
    "train_size = 3900\n",
    "significancia = 0.05 # Significancia usada na cointegração\n",
    "z_score_saida = 0.5 # Z-score que considera retorno a média, quando ele vai sair.\n",
    "\n",
    "# Z-score de stop quando o resíduo está indo para longe do retorno a média:\n",
    "# pode ser 'desligado' ou valores acima de 1\n",
    "z_score_stop = 'desligado'\n",
    "conf_var = 0.05 # Confiança do VAR. Também aceita 'desligado' para o caso sem stop\n",
    "\n",
    "usar_halflife = 'desligado' # Usa o stop no halflife. aceita 'ligado' e 'desligado'\n",
    "usar_var = 'desligado' # Usa o var como stop. Aceita 'ligado' e 'desligado'"
   ]
  },
  {
   "cell_type": "code",
   "execution_count": 8,
   "id": "e1f64d2c",
   "metadata": {
    "ExecuteTime": {
     "end_time": "2022-08-14T10:18:44.618246Z",
     "start_time": "2022-08-14T05:55:03.127354Z"
    }
   },
   "outputs": [
    {
     "name": "stdout",
     "output_type": "stream",
     "text": [
      "Executando 2020-01-01/2020-07-01\n"
     ]
    },
    {
     "data": {
      "application/vnd.jupyter.widget-view+json": {
       "model_id": "932063f711ea4349b879dd125dd7e698",
       "version_major": 2,
       "version_minor": 0
      },
      "text/plain": [
       "  0%|          | 0/386 [00:00<?, ?it/s]"
      ]
     },
     "metadata": {},
     "output_type": "display_data"
    }
   ],
   "source": [
    "if __name__ == '__main__':\n",
    "    resultados_raw = execute.executa(\n",
    "        n_workers = n_workers,\n",
    "        periodo = periodo,\n",
    "        train_size = train_size,\n",
    "        significancia = significancia,\n",
    "        z_score_saida = z_score_saida,\n",
    "        z_score_stop = z_score_stop,\n",
    "        conf_var = conf_var,\n",
    "        usar_halflife = usar_halflife,\n",
    "        usar_var = usar_var    \n",
    "    )"
   ]
  },
  {
   "cell_type": "code",
   "execution_count": 9,
   "id": "7289bc62",
   "metadata": {
    "ExecuteTime": {
     "end_time": "2022-08-14T10:18:47.387115Z",
     "start_time": "2022-08-14T10:18:44.618246Z"
    }
   },
   "outputs": [
    {
     "name": "stderr",
     "output_type": "stream",
     "text": [
      "C:\\Users\\willi\\Documents\\GitHub\\cointegration\\execute.py:229: FutureWarning: Value based partial slicing on non-monotonic DatetimeIndexes with non-existing keys is deprecated and will raise a KeyError in a future Version.\n",
      "  df_returns = df_returns.set_index('open_date').loc['2019-01-01':]\n"
     ]
    }
   ],
   "source": [
    "# Calcula o retorno a partir dos resultados gerados no backtest\n",
    "df_returns = execute.calcula_retornos(resultados_raw)\n",
    "\n",
    "# Salva um arquivo que preciso para fazer os gráficos e tabelas depois \n",
    "filename = f'{periodo}_{train_size}_{significancia}_{z_score_saida}_{z_score_stop}_{conf_var}_{usar_halflife}_{usar_var}.csv'\n",
    "df_returns.to_csv(filename, index=False)\n",
    "\n",
    "with open(filename+'.pickle', 'wb') as handle:\n",
    "    pickle.dump(df_returns, handle)"
   ]
  },
  {
   "cell_type": "code",
   "execution_count": 10,
   "id": "50b789c6",
   "metadata": {
    "ExecuteTime": {
     "end_time": "2022-08-14T10:18:49.223250Z",
     "start_time": "2022-08-14T10:18:47.387115Z"
    }
   },
   "outputs": [],
   "source": [
    "# Salva como arquivo de excel. Lembra sempre de escolher um 'nome_arquivo.xlsx' diferente,\n",
    "# senão ele vai salvar em cima do arquivo existente.\n",
    "\n",
    "df_returns.pivot(index='pair', columns='date', values='return').T.to_excel(filename+'.xlsx')"
   ]
  },
  {
   "cell_type": "code",
   "execution_count": null,
   "id": "585e9a21",
   "metadata": {},
   "outputs": [],
   "source": []
  },
  {
   "cell_type": "markdown",
   "id": "52372b51",
   "metadata": {},
   "source": [
    "# 1 minuto"
   ]
  },
  {
   "cell_type": "code",
   "execution_count": 11,
   "id": "c68c22e0",
   "metadata": {
    "ExecuteTime": {
     "end_time": "2022-08-14T10:18:49.238872Z",
     "start_time": "2022-08-14T10:18:49.223250Z"
    }
   },
   "outputs": [],
   "source": [
    "n_workers = 7 # Número de CPUS que vai usar, na minha máquina ficou bom com 8, começa testando com 1 e ve se vai melhorando\n",
    "periodo = '1minutos' # Período de teste pode ser 'diario' ou 'minutos' ou '1minutos' ou '5 minutos'\n",
    "\n",
    "# Período de tempo que vai olhar para tras para calcular a cointegração: \n",
    "# no diário uso 252, no de 15 minutos combinamos 3 meses = 15(minutos) * 21(dias uteis) * 3(meses) = 1300, 19500 minutos 3900 de 5minutos\n",
    "train_size = 3900\n",
    "significancia = 0.05 # Significancia usada na cointegração\n",
    "z_score_saida = 0.5 # Z-score que considera retorno a média, quando ele vai sair.\n",
    "\n",
    "# Z-score de stop quando o resíduo está indo para longe do retorno a média:\n",
    "# pode ser 'desligado' ou valores acima de 1\n",
    "z_score_stop = 'desligado'\n",
    "conf_var = 0.05 # Confiança do VAR. Também aceita 'desligado' para o caso sem stop\n",
    "\n",
    "usar_halflife = 'desligado' # Usa o stop no halflife. aceita 'ligado' e 'desligado'\n",
    "usar_var = 'desligado' # Usa o var como stop. Aceita 'ligado' e 'desligado'"
   ]
  },
  {
   "cell_type": "code",
   "execution_count": null,
   "id": "7b530d6a",
   "metadata": {
    "ExecuteTime": {
     "start_time": "2022-08-14T00:15:55.830Z"
    }
   },
   "outputs": [
    {
     "name": "stdout",
     "output_type": "stream",
     "text": [
      "Executando 2020-01-01/2020-07-01\n"
     ]
    },
    {
     "data": {
      "application/vnd.jupyter.widget-view+json": {
       "model_id": "d6a5a98b9e2c46268462daf736bf62d7",
       "version_major": 2,
       "version_minor": 0
      },
      "text/plain": [
       "  0%|          | 0/386 [00:00<?, ?it/s]"
      ]
     },
     "metadata": {},
     "output_type": "display_data"
    }
   ],
   "source": [
    "if __name__ == '__main__':\n",
    "    resultados_raw = execute.executa(\n",
    "        n_workers = n_workers,\n",
    "        periodo = periodo,\n",
    "        train_size = train_size,\n",
    "        significancia = significancia,\n",
    "        z_score_saida = z_score_saida,\n",
    "        z_score_stop = z_score_stop,\n",
    "        conf_var = conf_var,\n",
    "        usar_halflife = usar_halflife,\n",
    "        usar_var = usar_var    \n",
    "    )"
   ]
  },
  {
   "cell_type": "code",
   "execution_count": null,
   "id": "e985d8fd",
   "metadata": {
    "ExecuteTime": {
     "start_time": "2022-08-14T00:15:56.229Z"
    }
   },
   "outputs": [],
   "source": [
    "# Calcula o retorno a partir dos resultados gerados no backtest\n",
    "df_returns = execute.calcula_retornos(resultados_raw)\n",
    "\n",
    "# Salva um arquivo que preciso para fazer os gráficos e tabelas depois \n",
    "filename = f'{periodo}_{train_size}_{significancia}_{z_score_saida}_{z_score_stop}_{conf_var}_{usar_halflife}_{usar_var}.csv'\n",
    "df_returns.to_csv(filename, index=False)\n",
    "\n",
    "with open(filename+'.pickle', 'wb') as handle:\n",
    "    pickle.dump(df_returns, handle)"
   ]
  },
  {
   "cell_type": "code",
   "execution_count": null,
   "id": "a0d221e2",
   "metadata": {
    "ExecuteTime": {
     "start_time": "2022-08-14T00:15:56.603Z"
    }
   },
   "outputs": [],
   "source": [
    "# Salva como arquivo de excel. Lembra sempre de escolher um 'nome_arquivo.xlsx' diferente,\n",
    "# senão ele vai salvar em cima do arquivo existente.\n",
    "\n",
    "df_returns.pivot(index='pair', columns='date', values='return').T.to_excel(filename+'.xlsx')"
   ]
  },
  {
   "cell_type": "markdown",
   "id": "0bfbcd6f",
   "metadata": {},
   "source": [
    "# Outro de 1 minuto"
   ]
  },
  {
   "cell_type": "code",
   "execution_count": null,
   "id": "1734b109",
   "metadata": {
    "ExecuteTime": {
     "start_time": "2022-08-14T00:15:57.388Z"
    }
   },
   "outputs": [],
   "source": [
    "n_workers = 7 # Número de CPUS que vai usar, na minha máquina ficou bom com 8, começa testando com 1 e ve se vai melhorando\n",
    "periodo = '1minutos' # Período de teste pode ser 'diario' ou 'minutos' ou '1minutos' ou '5 minutos'\n",
    "\n",
    "# Período de tempo que vai olhar para tras para calcular a cointegração: \n",
    "# no diário uso 252, no de 15 minutos combinamos 3 meses = 15(minutos) * 21(dias uteis) * 3(meses) = 1300, 19500 minutos 3900 de 5minutos\n",
    "train_size = 3900\n",
    "significancia = 0.05 # Significancia usada na cointegração\n",
    "z_score_saida = 0.5 # Z-score que considera retorno a média, quando ele vai sair.\n",
    "\n",
    "# Z-score de stop quando o resíduo está indo para longe do retorno a média:\n",
    "# pode ser 'desligado' ou valores acima de 1\n",
    "z_score_stop = 'desligado'\n",
    "conf_var = 0.05 # Confiança do VAR. Também aceita 'desligado' para o caso sem stop\n",
    "\n",
    "usar_halflife = 'desligado' # Usa o stop no halflife. aceita 'ligado' e 'desligado'\n",
    "usar_var = 'ligado' # Usa o var como stop. Aceita 'ligado' e 'desligado'"
   ]
  },
  {
   "cell_type": "code",
   "execution_count": null,
   "id": "52357835",
   "metadata": {
    "ExecuteTime": {
     "start_time": "2022-08-14T00:15:57.814Z"
    }
   },
   "outputs": [],
   "source": [
    "if __name__ == '__main__':\n",
    "    resultados_raw = execute.executa(\n",
    "        n_workers = n_workers,\n",
    "        periodo = periodo,\n",
    "        train_size = train_size,\n",
    "        significancia = significancia,\n",
    "        z_score_saida = z_score_saida,\n",
    "        z_score_stop = z_score_stop,\n",
    "        conf_var = conf_var,\n",
    "        usar_halflife = usar_halflife,\n",
    "        usar_var = usar_var    \n",
    "    )"
   ]
  },
  {
   "cell_type": "code",
   "execution_count": null,
   "id": "0b0d8e6b",
   "metadata": {
    "ExecuteTime": {
     "start_time": "2022-08-14T00:15:58.393Z"
    }
   },
   "outputs": [],
   "source": [
    "# Calcula o retorno a partir dos resultados gerados no backtest\n",
    "df_returns = execute.calcula_retornos(resultados_raw)\n",
    "\n",
    "# Salva um arquivo que preciso para fazer os gráficos e tabelas depois \n",
    "filename = f'{periodo}_{train_size}_{significancia}_{z_score_saida}_{z_score_stop}_{conf_var}_{usar_halflife}_{usar_var}.csv'\n",
    "df_returns.to_csv(filename, index=False)\n",
    "\n",
    "with open(filename+'.pickle', 'wb') as handle:\n",
    "    pickle.dump(df_returns, handle)"
   ]
  },
  {
   "cell_type": "code",
   "execution_count": null,
   "id": "e5de3103",
   "metadata": {
    "ExecuteTime": {
     "start_time": "2022-08-14T00:15:59.092Z"
    }
   },
   "outputs": [],
   "source": [
    "# Salva como arquivo de excel. Lembra sempre de escolher um 'nome_arquivo.xlsx' diferente,\n",
    "# senão ele vai salvar em cima do arquivo existente.\n",
    "\n",
    "df_returns.pivot(index='pair', columns='date', values='return').T.to_excel(filename+'.xlsx')"
   ]
  },
  {
   "cell_type": "code",
   "execution_count": null,
   "id": "f3d0f7a7",
   "metadata": {},
   "outputs": [],
   "source": []
  }
 ],
 "metadata": {
  "kernelspec": {
   "display_name": "Python 3",
   "language": "python",
   "name": "python3"
  },
  "language_info": {
   "codemirror_mode": {
    "name": "ipython",
    "version": 3
   },
   "file_extension": ".py",
   "mimetype": "text/x-python",
   "name": "python",
   "nbconvert_exporter": "python",
   "pygments_lexer": "ipython3",
   "version": "3.8.4"
  }
 },
 "nbformat": 4,
 "nbformat_minor": 5
}
