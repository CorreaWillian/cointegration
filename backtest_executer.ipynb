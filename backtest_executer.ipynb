{
 "cells": [
  {
   "cell_type": "code",
   "execution_count": 11,
   "id": "0756ce73",
   "metadata": {
    "ExecuteTime": {
     "end_time": "2022-08-08T10:20:26.556585Z",
     "start_time": "2022-08-08T10:20:26.543582Z"
    }
   },
   "outputs": [],
   "source": [
    "import pandas as pd\n",
    "import numpy as np\n",
    "from cointegracao import Cointegration\n",
    "from itertools import combinations, permutations\n",
    "import time\n",
    "from backtest import Executer"
   ]
  },
  {
   "cell_type": "code",
   "execution_count": 12,
   "id": "e0334a1d",
   "metadata": {
    "ExecuteTime": {
     "end_time": "2022-08-08T10:20:28.002136Z",
     "start_time": "2022-08-08T10:20:26.714109Z"
    }
   },
   "outputs": [],
   "source": [
    "df_prices = pd.read_excel('database.xlsx', index_col=0)\n",
    "portfolio = pd.read_excel('PORTFOLIO.xlsx') # Stocks in IBX for each period"
   ]
  },
  {
   "cell_type": "code",
   "execution_count": 13,
   "id": "cb6f554b",
   "metadata": {
    "ExecuteTime": {
     "end_time": "2022-08-08T10:20:28.017685Z",
     "start_time": "2022-08-08T10:20:28.002136Z"
    }
   },
   "outputs": [],
   "source": [
    "portfolio.replace('VIVT4', 'VIVT3',inplace=True)\n",
    "# Filter only portfolio stocks that are in prices database\n",
    "portfolio = portfolio[portfolio.ticker.isin(df_prices.columns)]"
   ]
  },
  {
   "cell_type": "code",
   "execution_count": 14,
   "id": "ef26fb7e",
   "metadata": {
    "ExecuteTime": {
     "end_time": "2022-08-08T10:20:28.065655Z",
     "start_time": "2022-08-08T10:20:28.024667Z"
    }
   },
   "outputs": [
    {
     "data": {
      "text/html": [
       "<div>\n",
       "<style scoped>\n",
       "    .dataframe tbody tr th:only-of-type {\n",
       "        vertical-align: middle;\n",
       "    }\n",
       "\n",
       "    .dataframe tbody tr th {\n",
       "        vertical-align: top;\n",
       "    }\n",
       "\n",
       "    .dataframe thead th {\n",
       "        text-align: right;\n",
       "    }\n",
       "</style>\n",
       "<table border=\"1\" class=\"dataframe\">\n",
       "  <thead>\n",
       "    <tr style=\"text-align: right;\">\n",
       "      <th></th>\n",
       "      <th>ABEV3</th>\n",
       "      <th>ALPA4</th>\n",
       "      <th>AMER3</th>\n",
       "      <th>ASAI3</th>\n",
       "      <th>AZUL4</th>\n",
       "      <th>B3SA3</th>\n",
       "      <th>BBAS3</th>\n",
       "      <th>BBDC3</th>\n",
       "      <th>BBDC4</th>\n",
       "      <th>BBSE3</th>\n",
       "      <th>...</th>\n",
       "      <th>TIMS3</th>\n",
       "      <th>TOTS3</th>\n",
       "      <th>UGPA3</th>\n",
       "      <th>USIM5</th>\n",
       "      <th>VALE3</th>\n",
       "      <th>VBBR3</th>\n",
       "      <th>VIIA3</th>\n",
       "      <th>VIVT3</th>\n",
       "      <th>WEGE3</th>\n",
       "      <th>YDUQ3</th>\n",
       "    </tr>\n",
       "    <tr>\n",
       "      <th>time</th>\n",
       "      <th></th>\n",
       "      <th></th>\n",
       "      <th></th>\n",
       "      <th></th>\n",
       "      <th></th>\n",
       "      <th></th>\n",
       "      <th></th>\n",
       "      <th></th>\n",
       "      <th></th>\n",
       "      <th></th>\n",
       "      <th></th>\n",
       "      <th></th>\n",
       "      <th></th>\n",
       "      <th></th>\n",
       "      <th></th>\n",
       "      <th></th>\n",
       "      <th></th>\n",
       "      <th></th>\n",
       "      <th></th>\n",
       "      <th></th>\n",
       "      <th></th>\n",
       "    </tr>\n",
       "  </thead>\n",
       "  <tbody>\n",
       "    <tr>\n",
       "      <th>2017-07-31</th>\n",
       "      <td>16.89</td>\n",
       "      <td>11.33</td>\n",
       "      <td>12.82</td>\n",
       "      <td>NaN</td>\n",
       "      <td>27.29</td>\n",
       "      <td>5.66</td>\n",
       "      <td>22.51</td>\n",
       "      <td>14.27</td>\n",
       "      <td>14.33</td>\n",
       "      <td>18.54</td>\n",
       "      <td>...</td>\n",
       "      <td>9.31</td>\n",
       "      <td>9.55</td>\n",
       "      <td>31.94</td>\n",
       "      <td>4.42</td>\n",
       "      <td>23.43</td>\n",
       "      <td>NaN</td>\n",
       "      <td>5.83</td>\n",
       "      <td>26.03</td>\n",
       "      <td>6.81</td>\n",
       "      <td>18.07</td>\n",
       "    </tr>\n",
       "    <tr>\n",
       "      <th>2017-08-01</th>\n",
       "      <td>16.97</td>\n",
       "      <td>11.41</td>\n",
       "      <td>12.88</td>\n",
       "      <td>NaN</td>\n",
       "      <td>27.19</td>\n",
       "      <td>5.78</td>\n",
       "      <td>22.98</td>\n",
       "      <td>14.34</td>\n",
       "      <td>14.51</td>\n",
       "      <td>18.58</td>\n",
       "      <td>...</td>\n",
       "      <td>9.37</td>\n",
       "      <td>9.53</td>\n",
       "      <td>32.29</td>\n",
       "      <td>4.52</td>\n",
       "      <td>23.25</td>\n",
       "      <td>NaN</td>\n",
       "      <td>5.67</td>\n",
       "      <td>25.52</td>\n",
       "      <td>6.88</td>\n",
       "      <td>17.97</td>\n",
       "    </tr>\n",
       "    <tr>\n",
       "      <th>2017-08-02</th>\n",
       "      <td>17.11</td>\n",
       "      <td>11.56</td>\n",
       "      <td>13.20</td>\n",
       "      <td>NaN</td>\n",
       "      <td>27.41</td>\n",
       "      <td>5.83</td>\n",
       "      <td>23.91</td>\n",
       "      <td>14.49</td>\n",
       "      <td>14.71</td>\n",
       "      <td>18.79</td>\n",
       "      <td>...</td>\n",
       "      <td>9.63</td>\n",
       "      <td>9.60</td>\n",
       "      <td>30.71</td>\n",
       "      <td>4.70</td>\n",
       "      <td>23.29</td>\n",
       "      <td>NaN</td>\n",
       "      <td>5.58</td>\n",
       "      <td>25.83</td>\n",
       "      <td>7.01</td>\n",
       "      <td>17.27</td>\n",
       "    </tr>\n",
       "    <tr>\n",
       "      <th>2017-08-03</th>\n",
       "      <td>16.99</td>\n",
       "      <td>11.11</td>\n",
       "      <td>13.10</td>\n",
       "      <td>NaN</td>\n",
       "      <td>28.03</td>\n",
       "      <td>5.84</td>\n",
       "      <td>24.06</td>\n",
       "      <td>14.23</td>\n",
       "      <td>14.70</td>\n",
       "      <td>18.75</td>\n",
       "      <td>...</td>\n",
       "      <td>9.57</td>\n",
       "      <td>9.99</td>\n",
       "      <td>31.09</td>\n",
       "      <td>4.72</td>\n",
       "      <td>22.97</td>\n",
       "      <td>NaN</td>\n",
       "      <td>5.67</td>\n",
       "      <td>25.86</td>\n",
       "      <td>6.89</td>\n",
       "      <td>16.34</td>\n",
       "    </tr>\n",
       "    <tr>\n",
       "      <th>2017-08-04</th>\n",
       "      <td>16.99</td>\n",
       "      <td>11.23</td>\n",
       "      <td>13.10</td>\n",
       "      <td>NaN</td>\n",
       "      <td>27.79</td>\n",
       "      <td>5.82</td>\n",
       "      <td>24.21</td>\n",
       "      <td>14.33</td>\n",
       "      <td>14.72</td>\n",
       "      <td>18.31</td>\n",
       "      <td>...</td>\n",
       "      <td>9.55</td>\n",
       "      <td>10.34</td>\n",
       "      <td>30.82</td>\n",
       "      <td>4.71</td>\n",
       "      <td>23.38</td>\n",
       "      <td>NaN</td>\n",
       "      <td>5.67</td>\n",
       "      <td>26.03</td>\n",
       "      <td>6.88</td>\n",
       "      <td>16.43</td>\n",
       "    </tr>\n",
       "  </tbody>\n",
       "</table>\n",
       "<p>5 rows × 89 columns</p>\n",
       "</div>"
      ],
      "text/plain": [
       "            ABEV3  ALPA4  AMER3  ASAI3  AZUL4  B3SA3  BBAS3  BBDC3  BBDC4  \\\n",
       "time                                                                        \n",
       "2017-07-31  16.89  11.33  12.82    NaN  27.29   5.66  22.51  14.27  14.33   \n",
       "2017-08-01  16.97  11.41  12.88    NaN  27.19   5.78  22.98  14.34  14.51   \n",
       "2017-08-02  17.11  11.56  13.20    NaN  27.41   5.83  23.91  14.49  14.71   \n",
       "2017-08-03  16.99  11.11  13.10    NaN  28.03   5.84  24.06  14.23  14.70   \n",
       "2017-08-04  16.99  11.23  13.10    NaN  27.79   5.82  24.21  14.33  14.72   \n",
       "\n",
       "            BBSE3  ...  TIMS3  TOTS3  UGPA3  USIM5  VALE3  VBBR3  VIIA3  \\\n",
       "time               ...                                                    \n",
       "2017-07-31  18.54  ...   9.31   9.55  31.94   4.42  23.43    NaN   5.83   \n",
       "2017-08-01  18.58  ...   9.37   9.53  32.29   4.52  23.25    NaN   5.67   \n",
       "2017-08-02  18.79  ...   9.63   9.60  30.71   4.70  23.29    NaN   5.58   \n",
       "2017-08-03  18.75  ...   9.57   9.99  31.09   4.72  22.97    NaN   5.67   \n",
       "2017-08-04  18.31  ...   9.55  10.34  30.82   4.71  23.38    NaN   5.67   \n",
       "\n",
       "            VIVT3  WEGE3  YDUQ3  \n",
       "time                             \n",
       "2017-07-31  26.03   6.81  18.07  \n",
       "2017-08-01  25.52   6.88  17.97  \n",
       "2017-08-02  25.83   7.01  17.27  \n",
       "2017-08-03  25.86   6.89  16.34  \n",
       "2017-08-04  26.03   6.88  16.43  \n",
       "\n",
       "[5 rows x 89 columns]"
      ]
     },
     "execution_count": 14,
     "metadata": {},
     "output_type": "execute_result"
    }
   ],
   "source": [
    "df_prices.head()"
   ]
  },
  {
   "cell_type": "code",
   "execution_count": 15,
   "id": "d7e849d5",
   "metadata": {
    "ExecuteTime": {
     "end_time": "2022-08-08T10:20:28.081651Z",
     "start_time": "2022-08-08T10:20:28.068723Z"
    }
   },
   "outputs": [
    {
     "data": {
      "text/html": [
       "<div>\n",
       "<style scoped>\n",
       "    .dataframe tbody tr th:only-of-type {\n",
       "        vertical-align: middle;\n",
       "    }\n",
       "\n",
       "    .dataframe tbody tr th {\n",
       "        vertical-align: top;\n",
       "    }\n",
       "\n",
       "    .dataframe thead th {\n",
       "        text-align: right;\n",
       "    }\n",
       "</style>\n",
       "<table border=\"1\" class=\"dataframe\">\n",
       "  <thead>\n",
       "    <tr style=\"text-align: right;\">\n",
       "      <th></th>\n",
       "      <th>data_ini</th>\n",
       "      <th>data_fin</th>\n",
       "      <th>ticker</th>\n",
       "      <th>setor</th>\n",
       "    </tr>\n",
       "  </thead>\n",
       "  <tbody>\n",
       "    <tr>\n",
       "      <th>0</th>\n",
       "      <td>2019-07-01</td>\n",
       "      <td>2019-12-31</td>\n",
       "      <td>AZUL4</td>\n",
       "      <td>Aéreas</td>\n",
       "    </tr>\n",
       "    <tr>\n",
       "      <th>1</th>\n",
       "      <td>2019-07-01</td>\n",
       "      <td>2019-12-31</td>\n",
       "      <td>GOLL4</td>\n",
       "      <td>Aéreas</td>\n",
       "    </tr>\n",
       "    <tr>\n",
       "      <th>2</th>\n",
       "      <td>2019-07-01</td>\n",
       "      <td>2019-12-31</td>\n",
       "      <td>ABEV3</td>\n",
       "      <td>Alimentos e Bebidas</td>\n",
       "    </tr>\n",
       "    <tr>\n",
       "      <th>3</th>\n",
       "      <td>2019-07-01</td>\n",
       "      <td>2019-12-31</td>\n",
       "      <td>BRFS3</td>\n",
       "      <td>Alimentos e Bebidas</td>\n",
       "    </tr>\n",
       "    <tr>\n",
       "      <th>4</th>\n",
       "      <td>2019-07-01</td>\n",
       "      <td>2019-12-31</td>\n",
       "      <td>JBSS3</td>\n",
       "      <td>Alimentos e Bebidas</td>\n",
       "    </tr>\n",
       "  </tbody>\n",
       "</table>\n",
       "</div>"
      ],
      "text/plain": [
       "    data_ini   data_fin ticker                setor\n",
       "0 2019-07-01 2019-12-31  AZUL4               Aéreas\n",
       "1 2019-07-01 2019-12-31  GOLL4               Aéreas\n",
       "2 2019-07-01 2019-12-31  ABEV3  Alimentos e Bebidas\n",
       "3 2019-07-01 2019-12-31  BRFS3  Alimentos e Bebidas\n",
       "4 2019-07-01 2019-12-31  JBSS3  Alimentos e Bebidas"
      ]
     },
     "execution_count": 15,
     "metadata": {},
     "output_type": "execute_result"
    }
   ],
   "source": [
    "portfolio.head()"
   ]
  },
  {
   "cell_type": "code",
   "execution_count": 16,
   "id": "94a104f7",
   "metadata": {
    "ExecuteTime": {
     "end_time": "2022-08-08T10:20:28.113672Z",
     "start_time": "2022-08-08T10:20:28.088652Z"
    }
   },
   "outputs": [],
   "source": [
    "def create_request(df):\n",
    "    \n",
    "    \"\"\"\n",
    "    Create a dictionary with intial date, final date and \n",
    "    combination or permutation in pairs of stocks\n",
    "    \"\"\"\n",
    "    \n",
    "    # Initiates a dictionary with key as initial date \n",
    "    permut = {data_ini:[data_fin, []] for data_ini, data_fin in zip(df.data_ini.unique(), df.data_fin.unique())}\n",
    "\n",
    "    # Loop over initial dates\n",
    "    for data in df.data_ini.unique():   \n",
    "        \n",
    "        # Select stocks with same initial date\n",
    "        df_half = df.loc[df.data_ini==data]\n",
    "        \n",
    "        # Loops over sectors to create a permutation\n",
    "        for setor in df_half.setor.unique():\n",
    "            \n",
    "            # Select stocks of same sector and appends its permutations on dictionary\n",
    "            tickers = df_half.loc[df_half.setor == setor, 'ticker'].to_list()\n",
    "            permut[data][-1].extend(list(permutations(tickers, 2)))\n",
    "    \n",
    "    return permut"
   ]
  },
  {
   "cell_type": "code",
   "execution_count": 17,
   "id": "be35fb3f",
   "metadata": {
    "ExecuteTime": {
     "end_time": "2022-08-08T10:20:28.177651Z",
     "start_time": "2022-08-08T10:20:28.119652Z"
    }
   },
   "outputs": [],
   "source": [
    "# Combinations or permutations of pairs for each halfyear\n",
    "requests = create_request(portfolio)"
   ]
  },
  {
   "cell_type": "code",
   "execution_count": 18,
   "id": "07a521ea",
   "metadata": {
    "ExecuteTime": {
     "end_time": "2022-08-08T10:20:28.193678Z",
     "start_time": "2022-08-08T10:20:28.181649Z"
    }
   },
   "outputs": [],
   "source": [
    "coint = Cointegration(z_score_out=0.5, z_score_stop=2)\n",
    "train_size = 252"
   ]
  },
  {
   "cell_type": "code",
   "execution_count": 19,
   "id": "26c8fe41",
   "metadata": {
    "ExecuteTime": {
     "end_time": "2022-08-08T11:03:37.742588Z",
     "start_time": "2022-08-08T10:20:28.814021Z"
    }
   },
   "outputs": [
    {
     "data": {
      "application/vnd.jupyter.widget-view+json": {
       "model_id": "ad23e3e556fd4f7798567e84838574b7",
       "version_major": 2,
       "version_minor": 0
      },
      "text/plain": [
       "  0%|          | 0/286 [00:00<?, ?it/s]"
      ]
     },
     "metadata": {},
     "output_type": "display_data"
    },
    {
     "data": {
      "application/vnd.jupyter.widget-view+json": {
       "model_id": "62b287446bd54354bc1d332123597072",
       "version_major": 2,
       "version_minor": 0
      },
      "text/plain": [
       "  0%|          | 0/386 [00:00<?, ?it/s]"
      ]
     },
     "metadata": {},
     "output_type": "display_data"
    },
    {
     "data": {
      "application/vnd.jupyter.widget-view+json": {
       "model_id": "59277619e241425ebf3a49ab97533465",
       "version_major": 2,
       "version_minor": 0
      },
      "text/plain": [
       "  0%|          | 0/450 [00:00<?, ?it/s]"
      ]
     },
     "metadata": {},
     "output_type": "display_data"
    },
    {
     "data": {
      "application/vnd.jupyter.widget-view+json": {
       "model_id": "715bb96926ca4bddb54b055a67b509dd",
       "version_major": 2,
       "version_minor": 0
      },
      "text/plain": [
       "  0%|          | 0/466 [00:00<?, ?it/s]"
      ]
     },
     "metadata": {},
     "output_type": "display_data"
    },
    {
     "data": {
      "application/vnd.jupyter.widget-view+json": {
       "model_id": "7d70f56bef794bf1a960fdf0238fb86a",
       "version_major": 2,
       "version_minor": 0
      },
      "text/plain": [
       "  0%|          | 0/484 [00:00<?, ?it/s]"
      ]
     },
     "metadata": {},
     "output_type": "display_data"
    },
    {
     "data": {
      "application/vnd.jupyter.widget-view+json": {
       "model_id": "c37a74cc85c1449b8c31d9dae989d5b9",
       "version_major": 2,
       "version_minor": 0
      },
      "text/plain": [
       "  0%|          | 0/656 [00:00<?, ?it/s]"
      ]
     },
     "metadata": {},
     "output_type": "display_data"
    }
   ],
   "source": [
    "# Loops over dict with initial, final dates and permutations\n",
    "# And filters the dataframe with prices with 252 days (one year)\n",
    "# of formation data and 6 months of trading data\n",
    "\n",
    "dic_list = []\n",
    "\n",
    "for key, value in requests.items():\n",
    "    \n",
    "    data_ini = key\n",
    "    data_fin = value[0]\n",
    "\n",
    "    index_ini = df_prices.index.get_indexer(target=[key], method='ffill').item()\n",
    "    index_pre = df_prices.index.get_indexer(target=[data_ini], method='ffill').item() - train_size\n",
    "    index_fin = df_prices.index.get_indexer(target=[value[0]], method='ffill').item()\n",
    "\n",
    "    perm = value[1]\n",
    "    \n",
    "    df_trading = df_prices.iloc[index_pre: index_fin]\n",
    "    \n",
    "    # train_size = df_trading[data_pre:data_ini].shape[0] + 1 \n",
    "\n",
    "    # Multithreding executer\n",
    "    e = Executer(df_trading, perm, coint, train_size=train_size, twoway=False, moving_limits=False)\n",
    "\n",
    "    if __name__ == '__main__':\n",
    "        dic_list.extend(e.executer())\n"
   ]
  },
  {
   "cell_type": "code",
   "execution_count": 20,
   "id": "a50d14d6",
   "metadata": {
    "ExecuteTime": {
     "end_time": "2022-08-08T11:14:19.737294Z",
     "start_time": "2022-08-08T11:14:18.567763Z"
    }
   },
   "outputs": [],
   "source": [
    "df_list = [pd.DataFrame(d) for d in dic_list]\n",
    "df = pd.concat(df_list)"
   ]
  },
  {
   "cell_type": "code",
   "execution_count": 22,
   "id": "2d447e72",
   "metadata": {
    "ExecuteTime": {
     "end_time": "2022-08-08T11:15:20.405650Z",
     "start_time": "2022-08-08T11:15:20.102342Z"
    }
   },
   "outputs": [],
   "source": [
    "# df.to_csv('result_std1.csv', index=False)"
   ]
  },
  {
   "cell_type": "code",
   "execution_count": null,
   "id": "4d96282b",
   "metadata": {},
   "outputs": [],
   "source": []
  }
 ],
 "metadata": {
  "kernelspec": {
   "display_name": "Python 3",
   "language": "python",
   "name": "python3"
  },
  "language_info": {
   "codemirror_mode": {
    "name": "ipython",
    "version": 3
   },
   "file_extension": ".py",
   "mimetype": "text/x-python",
   "name": "python",
   "nbconvert_exporter": "python",
   "pygments_lexer": "ipython3",
   "version": "3.8.4"
  }
 },
 "nbformat": 4,
 "nbformat_minor": 5
}
