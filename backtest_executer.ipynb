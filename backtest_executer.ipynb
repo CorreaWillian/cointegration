{
 "cells": [
  {
   "cell_type": "code",
   "execution_count": null,
   "id": "494b933e",
   "metadata": {
    "ExecuteTime": {
     "end_time": "2022-08-13T16:35:29.111692Z",
     "start_time": "2022-08-13T16:35:26.716525Z"
    }
   },
   "outputs": [],
   "source": [
    "import pandas as pd\n",
    "import numpy as np\n",
    "from cointegracao import Cointegration\n",
    "from itertools import combinations, permutations\n",
    "import time\n",
    "from backtest import Executer\n",
    "from tqdm.contrib.concurrent import process_map, thread_map # or thread_map\n",
    "import gc"
   ]
  },
  {
   "cell_type": "code",
   "execution_count": null,
   "id": "6c9ef4c1",
   "metadata": {
    "ExecuteTime": {
     "end_time": "2022-08-13T16:35:29.142603Z",
     "start_time": "2022-08-13T16:35:29.114568Z"
    }
   },
   "outputs": [],
   "source": [
    "import execute"
   ]
  },
  {
   "cell_type": "code",
   "execution_count": null,
   "id": "86e355a5",
   "metadata": {
    "ExecuteTime": {
     "end_time": "2022-08-13T16:35:29.158605Z",
     "start_time": "2022-08-13T16:35:29.146589Z"
    }
   },
   "outputs": [],
   "source": [
    "n_workers = 7 # Número de CPUS que vai usar, na minha máquina ficou bom com 8, começa testando com 1 e ve se vai melhorando\n",
    "periodo = 'diario' # Período de teste pode ser 'diario' ou 'minutos'\n",
    "\n",
    "# Período de tempo que vai olhar para tras para calcular a cointegração: \n",
    "# no diário uso 252, no de 15 minutos combinamos 3 meses = 15(minutos) * 21(dias uteis) * 3(meses) = 945\n",
    "train_size = 252 \n",
    "significancia = 0.05 # Significancia usada na cointegração\n",
    "z_score_saida = 0.5 # Z-score que considera retorno a média, quando ele vai sair.\n",
    "\n",
    "# Z-score de stop quando o resíduo está indo para longe do retorno a média:\n",
    "# pode ser 'desligado' ou valores acima de 1\n",
    "z_score_stop = 'desligado'\n",
    "conf_var = 0.05 # Confiança do VAR. Também aceita 'desligado' para o caso sem stop\n",
    "\n",
    "usar_halflife = 'desligado' # Usa o stop no halflife. aceita 'ligado' e 'desligado'\n",
    "usar_var = 'ligado' # Usa o var como stop. Aceita 'ligado' e 'desligado'\n"
   ]
  },
  {
   "cell_type": "code",
   "execution_count": null,
   "id": "74b5e689",
   "metadata": {
    "ExecuteTime": {
     "end_time": "2022-08-13T16:37:54.948525Z",
     "start_time": "2022-08-13T16:35:29.161569Z"
    }
   },
   "outputs": [],
   "source": [
    "if __name__ == '__main__':\n",
    "    resultados_raw = execute.executa(\n",
    "        n_workers = n_workers,\n",
    "        periodo = periodo,\n",
    "        train_size = train_size,\n",
    "        significancia = significancia,\n",
    "        z_score_saida = z_score_saida,\n",
    "        z_score_stop = z_score_stop,\n",
    "        conf_var = conf_var,\n",
    "        usar_halflife = usar_halflife,\n",
    "        usar_var = usar_var    \n",
    "    )\n",
    "    "
   ]
  },
  {
   "cell_type": "code",
   "execution_count": null,
   "id": "6069946b",
   "metadata": {
    "ExecuteTime": {
     "end_time": "2022-08-13T16:37:56.512929Z",
     "start_time": "2022-08-13T16:37:54.948525Z"
    }
   },
   "outputs": [],
   "source": [
    "# Calcula o retorno a partir dos resultados gerados no backtest\n",
    "df_returns = execute.calcula_retornos(resultados_raw)\n",
    "\n",
    "# Salva um arquivo que preciso para fazer os gráficos e tabelas depois \n",
    "filename = f'{periodo}_{train_size}_{significancia}_{z_score_saida}_{z_score_stop}_{conf_var}_{usar_halflife}_{usar_var}.csv'\n",
    "df_returns.to_csv(filename, index=False)"
   ]
  },
  {
   "cell_type": "code",
   "execution_count": null,
   "id": "b7cd5ca4",
   "metadata": {
    "ExecuteTime": {
     "end_time": "2022-08-13T16:37:56.654738Z",
     "start_time": "2022-08-13T16:37:56.595209Z"
    }
   },
   "outputs": [],
   "source": [
    "# Transforma do jeito que vc gosta pra salvar em excel\n",
    "df_returns.pivot(index='pair', columns='date', values='return').T"
   ]
  },
  {
   "cell_type": "code",
   "execution_count": null,
   "id": "deb75bad",
   "metadata": {
    "ExecuteTime": {
     "end_time": "2022-08-13T16:37:56.829213Z",
     "start_time": "2022-08-13T16:37:56.658742Z"
    }
   },
   "outputs": [],
   "source": [
    "# Salva como arquivo de excel. Lembra sempre de escolher um 'nome_arquivo.xlsx' diferente,\n",
    "# senão ele vai salvar em cima do arquivo existente.\n",
    "\n",
    "df_returns.pivot(index='pair', columns='date', values='return').T.to_excel('nome_arquivo.xlsx')"
   ]
  },
  {
   "cell_type": "code",
   "execution_count": null,
   "id": "7d251ed5",
   "metadata": {},
   "outputs": [],
   "source": []
  }
 ],
 "metadata": {
  "kernelspec": {
   "display_name": "Python 3",
   "language": "python",
   "name": "python3"
  },
  "language_info": {
   "codemirror_mode": {
    "name": "ipython",
    "version": 3
   },
   "file_extension": ".py",
   "mimetype": "text/x-python",
   "name": "python",
   "nbconvert_exporter": "python",
   "pygments_lexer": "ipython3",
   "version": "3.8.4"
  }
 },
 "nbformat": 4,
 "nbformat_minor": 5
}
