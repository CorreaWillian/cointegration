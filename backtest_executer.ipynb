{
 "cells": [
  {
   "cell_type": "code",
   "execution_count": 1,
   "id": "9957d65d",
   "metadata": {
    "ExecuteTime": {
     "end_time": "2022-08-13T23:55:57.062811Z",
     "start_time": "2022-08-13T23:55:54.122045Z"
    }
   },
   "outputs": [],
   "source": [
    "import pandas as pd\n",
    "import numpy as np\n",
    "from cointegracao import Cointegration\n",
    "from itertools import combinations, permutations\n",
    "import time\n",
    "from backtest import Executer\n",
    "from tqdm.contrib.concurrent import process_map, thread_map # or thread_map\n",
    "import gc\n",
    "import pickle"
   ]
  },
  {
   "cell_type": "code",
   "execution_count": 2,
   "id": "3f1d6cc7",
   "metadata": {
    "ExecuteTime": {
     "end_time": "2022-08-13T23:55:57.078708Z",
     "start_time": "2022-08-13T23:55:57.065694Z"
    }
   },
   "outputs": [],
   "source": [
    "import execute"
   ]
  },
  {
   "cell_type": "code",
   "execution_count": 5,
   "id": "19192093",
   "metadata": {
    "ExecuteTime": {
     "end_time": "2022-08-13T23:56:06.780131Z",
     "start_time": "2022-08-13T23:56:06.774134Z"
    }
   },
   "outputs": [],
   "source": [
    "n_workers = 7 # Número de CPUS que vai usar, na minha máquina ficou bom com 8, começa testando com 1 e ve se vai melhorando\n",
    "periodo = '5minutos' # Período de teste pode ser 'diario' ou 'minutos' ou '1minutos' ou '5 minutos'\n",
    "\n",
    "# Período de tempo que vai olhar para tras para calcular a cointegração: \n",
    "# no diário uso 252, no de 15 minutos combinamos 3 meses = 15(minutos) * 21(dias uteis) * 3(meses) = 1300, 19500 minutos 3900 de 5minutos\n",
    "train_size = 3900\n",
    "significancia = 0.05 # Significancia usada na cointegração\n",
    "z_score_saida = 0.5 # Z-score que considera retorno a média, quando ele vai sair.\n",
    "\n",
    "# Z-score de stop quando o resíduo está indo para longe do retorno a média:\n",
    "# pode ser 'desligado' ou valores acima de 1\n",
    "z_score_stop = 'desligado'\n",
    "conf_var = 0.05 # Confiança do VAR. Também aceita 'desligado' para o caso sem stop\n",
    "\n",
    "usar_halflife = 'desligado' # Usa o stop no halflife. aceita 'ligado' e 'desligado'\n",
    "usar_var = 'ligado' # Usa o var como stop. Aceita 'ligado' e 'desligado'"
   ]
  },
  {
   "cell_type": "code",
   "execution_count": 6,
   "id": "fe65d8ca",
   "metadata": {
    "ExecuteTime": {
     "end_time": "2022-08-14T00:02:58.036001Z",
     "start_time": "2022-08-13T23:56:07.419512Z"
    },
    "scrolled": true
   },
   "outputs": [
    {
     "name": "stdout",
     "output_type": "stream",
     "text": [
      "Executando 2020-01-01/2020-07-01\n"
     ]
    },
    {
     "data": {
      "application/vnd.jupyter.widget-view+json": {
       "model_id": "c26189ba3222424a836dd72a1f4cfc39",
       "version_major": 2,
       "version_minor": 0
      },
      "text/plain": [
       "  0%|          | 0/5 [00:00<?, ?it/s]"
      ]
     },
     "metadata": {},
     "output_type": "display_data"
    }
   ],
   "source": [
    "if __name__ == '__main__':\n",
    "    resultados_raw = execute.executa(\n",
    "        n_workers = n_workers,\n",
    "        periodo = periodo,\n",
    "        train_size = train_size,\n",
    "        significancia = significancia,\n",
    "        z_score_saida = z_score_saida,\n",
    "        z_score_stop = z_score_stop,\n",
    "        conf_var = conf_var,\n",
    "        usar_halflife = usar_halflife,\n",
    "        usar_var = usar_var    \n",
    "    )"
   ]
  },
  {
   "cell_type": "code",
   "execution_count": 9,
   "id": "a8def209",
   "metadata": {
    "ExecuteTime": {
     "end_time": "2022-08-14T00:03:18.396266Z",
     "start_time": "2022-08-14T00:03:18.325350Z"
    }
   },
   "outputs": [],
   "source": [
    "# Calcula o retorno a partir dos resultados gerados no backtest\n",
    "df_returns = execute.calcula_retornos(resultados_raw)\n",
    "\n",
    "# Salva um arquivo que preciso para fazer os gráficos e tabelas depois \n",
    "filename = f'{periodo}_{train_size}_{significancia}_{z_score_saida}_{z_score_stop}_{conf_var}_{usar_halflife}_{usar_var}.csv'\n",
    "df_returns.to_csv(filename, index=False)\n",
    "\n",
    "with open(filename+'.pickle', 'wb') as handle:\n",
    "    pickle.dump(df_returns, handle)"
   ]
  },
  {
   "cell_type": "code",
   "execution_count": 9,
   "id": "0666dadf",
   "metadata": {
    "ExecuteTime": {
     "end_time": "2022-08-13T23:18:36.495718Z",
     "start_time": "2022-08-13T23:18:36.454793Z"
    }
   },
   "outputs": [
    {
     "data": {
      "text/html": [
       "<div>\n",
       "<style scoped>\n",
       "    .dataframe tbody tr th:only-of-type {\n",
       "        vertical-align: middle;\n",
       "    }\n",
       "\n",
       "    .dataframe tbody tr th {\n",
       "        vertical-align: top;\n",
       "    }\n",
       "\n",
       "    .dataframe thead th {\n",
       "        text-align: right;\n",
       "    }\n",
       "</style>\n",
       "<table border=\"1\" class=\"dataframe\">\n",
       "  <thead>\n",
       "    <tr style=\"text-align: right;\">\n",
       "      <th>pair</th>\n",
       "      <th>(ABEV3, BRFS3)</th>\n",
       "    </tr>\n",
       "    <tr>\n",
       "      <th>date</th>\n",
       "      <th></th>\n",
       "    </tr>\n",
       "  </thead>\n",
       "  <tbody>\n",
       "    <tr>\n",
       "      <th>2020-04-16</th>\n",
       "      <td>NaN</td>\n",
       "    </tr>\n",
       "    <tr>\n",
       "      <th>2020-04-17</th>\n",
       "      <td>0.010238</td>\n",
       "    </tr>\n",
       "    <tr>\n",
       "      <th>2020-04-20</th>\n",
       "      <td>0.007793</td>\n",
       "    </tr>\n",
       "    <tr>\n",
       "      <th>2020-04-22</th>\n",
       "      <td>-0.026359</td>\n",
       "    </tr>\n",
       "    <tr>\n",
       "      <th>2020-04-23</th>\n",
       "      <td>-0.009454</td>\n",
       "    </tr>\n",
       "    <tr>\n",
       "      <th>2020-04-24</th>\n",
       "      <td>0.012082</td>\n",
       "    </tr>\n",
       "    <tr>\n",
       "      <th>2020-04-27</th>\n",
       "      <td>-0.070931</td>\n",
       "    </tr>\n",
       "  </tbody>\n",
       "</table>\n",
       "</div>"
      ],
      "text/plain": [
       "pair        (ABEV3, BRFS3)\n",
       "date                      \n",
       "2020-04-16             NaN\n",
       "2020-04-17        0.010238\n",
       "2020-04-20        0.007793\n",
       "2020-04-22       -0.026359\n",
       "2020-04-23       -0.009454\n",
       "2020-04-24        0.012082\n",
       "2020-04-27       -0.070931"
      ]
     },
     "execution_count": 9,
     "metadata": {},
     "output_type": "execute_result"
    }
   ],
   "source": [
    "# Transforma do jeito que vc gosta pra salvar em excel\n",
    "df_returns.pivot(index='pair', columns='date', values='return').T"
   ]
  },
  {
   "cell_type": "code",
   "execution_count": 7,
   "id": "7eb43d34",
   "metadata": {
    "ExecuteTime": {
     "end_time": "2022-08-13T18:08:54.544677Z",
     "start_time": "2022-08-13T18:08:45.185446Z"
    }
   },
   "outputs": [],
   "source": [
    "# Salva como arquivo de excel. Lembra sempre de escolher um 'nome_arquivo.xlsx' diferente,\n",
    "# senão ele vai salvar em cima do arquivo existente.\n",
    "\n",
    "df_returns.pivot(index='pair', columns='date', values='return').T.to_excel(filename+'.xlsx')"
   ]
  }
 ],
 "metadata": {
  "kernelspec": {
   "display_name": "Python 3",
   "language": "python",
   "name": "python3"
  },
  "language_info": {
   "codemirror_mode": {
    "name": "ipython",
    "version": 3
   },
   "file_extension": ".py",
   "mimetype": "text/x-python",
   "name": "python",
   "nbconvert_exporter": "python",
   "pygments_lexer": "ipython3",
   "version": "3.8.4"
  }
 },
 "nbformat": 4,
 "nbformat_minor": 5
}
