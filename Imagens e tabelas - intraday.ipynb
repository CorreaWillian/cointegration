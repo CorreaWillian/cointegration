{
 "cells": [
  {
   "cell_type": "code",
   "execution_count": 1,
   "id": "1fb2ce11",
   "metadata": {
    "ExecuteTime": {
     "end_time": "2022-08-15T09:42:58.191650Z",
     "start_time": "2022-08-15T09:42:53.607374Z"
    }
   },
   "outputs": [],
   "source": [
    "import execute\n",
    "import pandas as pd\n",
    "import numpy as np\n",
    "import pickle\n",
    "import seaborn as sns\n",
    "import matplotlib.pyplot as plt\n",
    "import math\n",
    "from scipy.stats import spearmanr, kstest"
   ]
  },
  {
   "cell_type": "code",
   "execution_count": 84,
   "id": "9e805d83",
   "metadata": {
    "ExecuteTime": {
     "end_time": "2022-08-15T10:09:04.348842Z",
     "start_time": "2022-08-15T10:09:04.338841Z"
    }
   },
   "outputs": [],
   "source": [
    "filepath = r'resultados_sergio\\5minutos_3900_0.05_0.5_desligado_0.05_desligado_ligado.csv.pickle'"
   ]
  },
  {
   "cell_type": "code",
   "execution_count": 85,
   "id": "f2a2d3d9",
   "metadata": {
    "ExecuteTime": {
     "end_time": "2022-08-15T10:09:04.617842Z",
     "start_time": "2022-08-15T10:09:04.589843Z"
    }
   },
   "outputs": [
    {
     "data": {
      "text/html": [
       "<div>\n",
       "<style scoped>\n",
       "    .dataframe tbody tr th:only-of-type {\n",
       "        vertical-align: middle;\n",
       "    }\n",
       "\n",
       "    .dataframe tbody tr th {\n",
       "        vertical-align: top;\n",
       "    }\n",
       "\n",
       "    .dataframe thead th {\n",
       "        text-align: right;\n",
       "    }\n",
       "</style>\n",
       "<table border=\"1\" class=\"dataframe\">\n",
       "  <thead>\n",
       "    <tr style=\"text-align: right;\">\n",
       "      <th></th>\n",
       "      <th>-</th>\n",
       "      <th>--</th>\n",
       "    </tr>\n",
       "  </thead>\n",
       "  <tbody>\n",
       "    <tr>\n",
       "      <th>0</th>\n",
       "      <td>periodo</td>\n",
       "      <td>5minutos</td>\n",
       "    </tr>\n",
       "    <tr>\n",
       "      <th>1</th>\n",
       "      <td>train_size</td>\n",
       "      <td>3900</td>\n",
       "    </tr>\n",
       "    <tr>\n",
       "      <th>2</th>\n",
       "      <td>significancia</td>\n",
       "      <td>0.05</td>\n",
       "    </tr>\n",
       "    <tr>\n",
       "      <th>3</th>\n",
       "      <td>z_score_saida</td>\n",
       "      <td>0.5</td>\n",
       "    </tr>\n",
       "    <tr>\n",
       "      <th>4</th>\n",
       "      <td>z_score_stop</td>\n",
       "      <td>desligado</td>\n",
       "    </tr>\n",
       "    <tr>\n",
       "      <th>5</th>\n",
       "      <td>conf_var</td>\n",
       "      <td>0.05</td>\n",
       "    </tr>\n",
       "    <tr>\n",
       "      <th>6</th>\n",
       "      <td>usar_halflife</td>\n",
       "      <td>desligado</td>\n",
       "    </tr>\n",
       "    <tr>\n",
       "      <th>7</th>\n",
       "      <td>usar_var</td>\n",
       "      <td>ligado</td>\n",
       "    </tr>\n",
       "  </tbody>\n",
       "</table>\n",
       "</div>"
      ],
      "text/plain": [
       "               -         --\n",
       "0        periodo   5minutos\n",
       "1     train_size       3900\n",
       "2  significancia       0.05\n",
       "3  z_score_saida        0.5\n",
       "4   z_score_stop  desligado\n",
       "5       conf_var       0.05\n",
       "6  usar_halflife  desligado\n",
       "7       usar_var     ligado"
      ]
     },
     "execution_count": 85,
     "metadata": {},
     "output_type": "execute_result"
    }
   ],
   "source": [
    "file = filepath[:-11].split('\\\\')[1].split('_')\n",
    "dicionario = ['periodo', 'train_size', 'significancia', 'z_score_saida', 'z_score_stop', 'conf_var', 'usar_halflife', 'usar_var']\n",
    "pd.DataFrame({'-':dicionario, '--':file})"
   ]
  },
  {
   "cell_type": "code",
   "execution_count": 86,
   "id": "791f69d6",
   "metadata": {
    "ExecuteTime": {
     "end_time": "2022-08-15T10:09:05.030131Z",
     "start_time": "2022-08-15T10:09:05.001843Z"
    }
   },
   "outputs": [],
   "source": [
    "with open(filepath, 'rb') as handle:\n",
    "    dict_list = pickle.load(handle)"
   ]
  },
  {
   "cell_type": "code",
   "execution_count": 87,
   "id": "70945e08",
   "metadata": {
    "ExecuteTime": {
     "end_time": "2022-08-15T10:09:05.187133Z",
     "start_time": "2022-08-15T10:09:05.168144Z"
    }
   },
   "outputs": [
    {
     "data": {
      "text/plain": [
       "-5.555433980473059"
      ]
     },
     "execution_count": 87,
     "metadata": {},
     "output_type": "execute_result"
    }
   ],
   "source": [
    "dict_list['return'].sum()"
   ]
  },
  {
   "cell_type": "code",
   "execution_count": 88,
   "id": "2f3b875f",
   "metadata": {
    "ExecuteTime": {
     "end_time": "2022-08-15T10:09:05.346149Z",
     "start_time": "2022-08-15T10:09:05.329156Z"
    }
   },
   "outputs": [],
   "source": [
    "def desfaz(df_antigo):\n",
    "    \n",
    "    d1_list = []\n",
    "    \n",
    "    closed = df_antigo.loc[df_antigo.status=='close']\n",
    "    custos = 0.0071\n",
    "    \n",
    "    for row in closed.itertuples():\n",
    "        \n",
    "        d1 = df_antigo.loc[df_antigo.id == row.id]\n",
    "        d1.set_index('date', inplace=True)\n",
    "        aluguel = (1.0143)**((d1.iloc[-1].days_open+2)/252) -1\n",
    "        \n",
    "        if row.side == 'lower':\n",
    "            \n",
    "            d1.at[row.open_date, 'price_fst_stock'] =  d1.at[row.open_date, 'price_fst_stock'] / (1+0.0071)\n",
    "            d1.at[row.open_date, 'price_scnd_stock'] = d1.at[row.open_date, 'price_scnd_stock'] / (1-0.0071)\n",
    "\n",
    "            d1.at[row.date, 'price_fst_stock'] = d1.at[row.date, 'price_fst_stock'] / (1-custos)\n",
    "            d1.at[row.date, 'price_scnd_stock'] = d1.at[row.date, 'price_scnd_stock'] / (1+(custos+aluguel))\n",
    "            \n",
    "        else:\n",
    "            \n",
    "            d1.at[row.open_date,'price_scnd_stock'] = d1.at[row.open_date,'price_scnd_stock'] / (1+0.0071)\n",
    "            d1.at[row.open_date, 'price_fst_stock'] = d1.at[row.open_date, 'price_fst_stock'] / (1-0.0071)\n",
    "\n",
    "            d1.at[row.date, 'price_scnd_stock'] = d1.at[row.date, 'price_scnd_stock'] / (1-custos)\n",
    "            d1.at[row.date,'price_fst_stock'] = d1.at[row.date,'price_fst_stock'] / (1+(custos+aluguel))\n",
    "            \n",
    "        d1.at[row.open_date,'open_price_first_stock'] = d1.at[row.open_date, 'price_fst_stock']\n",
    "        d1.at[row.open_date, 'open_price_scnd_stock'] = d1.at[row.open_date, 'price_scnd_stock']\n",
    "        \n",
    "        d1_list.append(d1)\n",
    "        \n",
    "    novo=pd.concat(d1_list)        \n",
    "    novo.drop(columns=['ratio_sem_custos', 'ratio', 'return', 'retorno_acumulado', 'return_sem_custos', 'retorno_acumulado_sem_custos', 'side'], inplace=True)\n",
    "    \n",
    "    return novo"
   ]
  },
  {
   "cell_type": "code",
   "execution_count": 89,
   "id": "01270cd4",
   "metadata": {
    "ExecuteTime": {
     "end_time": "2022-08-15T10:09:06.090188Z",
     "start_time": "2022-08-15T10:09:05.497152Z"
    }
   },
   "outputs": [],
   "source": [
    "df_novo = desfaz(dict_list)"
   ]
  },
  {
   "attachments": {
    "image.png": {
     "image/png": "[encoded data removed]"
    }
   },
   "cell_type": "markdown",
   "id": "0eb4b4b1",
   "metadata": {},
   "source": [
    "![image.png](attachment:image.png)"
   ]
  },
  {
   "cell_type": "code",
   "execution_count": 90,
   "id": "28c471af",
   "metadata": {
    "ExecuteTime": {
     "end_time": "2022-08-15T10:09:12.956134Z",
     "start_time": "2022-08-15T10:09:06.090188Z"
    }
   },
   "outputs": [
    {
     "name": "stderr",
     "output_type": "stream",
     "text": [
      "C:\\Users\\willi\\Documents\\GitHub\\cointegration\\execute.py:326: FutureWarning: Value based partial slicing on non-monotonic DatetimeIndexes with non-existing keys is deprecated and will raise a KeyError in a future Version.\n",
      "  df_returns = df_returns.set_index('open_date').loc['2019-01-01':]\n",
      "C:\\Users\\willi\\Documents\\GitHub\\cointegration\\execute.py:326: FutureWarning: Value based partial slicing on non-monotonic DatetimeIndexes with non-existing keys is deprecated and will raise a KeyError in a future Version.\n",
      "  df_returns = df_returns.set_index('open_date').loc['2019-01-01':]\n",
      "C:\\Users\\willi\\Documents\\GitHub\\cointegration\\execute.py:326: FutureWarning: Value based partial slicing on non-monotonic DatetimeIndexes with non-existing keys is deprecated and will raise a KeyError in a future Version.\n",
      "  df_returns = df_returns.set_index('open_date').loc['2019-01-01':]\n"
     ]
    }
   ],
   "source": [
    "custo_baixo = execute.novo_retorno(df_novo.reset_index(), custo_compra=0.00135, custo_venda=0.00385, intraday=True)\n",
    "custo_medio = execute.novo_retorno(df_novo.reset_index(), custo_compra=0.00385, custo_venda=0.00635, intraday=True)\n",
    "custo_alto = execute.novo_retorno(df_novo.reset_index(), custo_compra=0.0064, custo_venda=0.0089, intraday=True)"
   ]
  },
  {
   "cell_type": "code",
   "execution_count": 91,
   "id": "942c4a77",
   "metadata": {
    "ExecuteTime": {
     "end_time": "2022-08-15T10:09:12.992473Z",
     "start_time": "2022-08-15T10:09:12.965470Z"
    }
   },
   "outputs": [
    {
     "data": {
      "text/plain": [
       "-5.555433980473059"
      ]
     },
     "execution_count": 91,
     "metadata": {},
     "output_type": "execute_result"
    }
   ],
   "source": [
    "dict_list['return'].sum()"
   ]
  },
  {
   "cell_type": "code",
   "execution_count": 92,
   "id": "29cec637",
   "metadata": {
    "ExecuteTime": {
     "end_time": "2022-08-15T10:09:13.024377Z",
     "start_time": "2022-08-15T10:09:13.000380Z"
    }
   },
   "outputs": [],
   "source": [
    "log_return_custo_baixo = np.log(1+custo_baixo.set_index('date').resample('1D')['return'].mean())\n",
    "custo_baixo_return = np.exp(log_return_custo_baixo.cumsum()) -1"
   ]
  },
  {
   "cell_type": "code",
   "execution_count": 93,
   "id": "7b636959",
   "metadata": {
    "ExecuteTime": {
     "end_time": "2022-08-15T10:09:13.086388Z",
     "start_time": "2022-08-15T10:09:13.027379Z"
    }
   },
   "outputs": [],
   "source": [
    "log_return_custo_medio = np.log(1+custo_medio.set_index('date').resample('1D')['return'].mean())\n",
    "custo_medio_return = np.exp(log_return_custo_medio.cumsum()) -1"
   ]
  },
  {
   "cell_type": "code",
   "execution_count": 94,
   "id": "61a38b9a",
   "metadata": {
    "ExecuteTime": {
     "end_time": "2022-08-15T10:09:13.134375Z",
     "start_time": "2022-08-15T10:09:13.089376Z"
    }
   },
   "outputs": [],
   "source": [
    "log_return_custo_alto = np.log(1+custo_alto.set_index('date').resample('1D')['return'].mean())\n",
    "custo_alto_return = np.exp(log_return_custo_alto.cumsum()) -1"
   ]
  },
  {
   "cell_type": "code",
   "execution_count": 95,
   "id": "f67fb67f",
   "metadata": {
    "ExecuteTime": {
     "end_time": "2022-08-15T10:09:13.388259Z",
     "start_time": "2022-08-15T10:09:13.141379Z"
    }
   },
   "outputs": [],
   "source": [
    "# Calcula retorno IBOV\n",
    "ibov = pd.read_excel(r'ibov_historico.xlsx')\n",
    "ibov.set_index('time', inplace=True)\n",
    "\n",
    "ibov = ibov.loc[custo_baixo_return.index.min():custo_baixo_return.index.max()]\n",
    "\n",
    "log_return_ibov = np.log(1+ibov.close.pct_change())\n",
    "ibov_returns = np.exp(log_return_ibov.cumsum()) - 1"
   ]
  },
  {
   "cell_type": "code",
   "execution_count": 96,
   "id": "57563b5d",
   "metadata": {
    "ExecuteTime": {
     "end_time": "2022-08-15T10:09:13.997456Z",
     "start_time": "2022-08-15T10:09:13.388259Z"
    }
   },
   "outputs": [
    {
     "data": {
      "text/plain": [
       "<matplotlib.axes._subplots.AxesSubplot at 0x23e014a4b20>"
      ]
     },
     "execution_count": 96,
     "metadata": {},
     "output_type": "execute_result"
    },
    {
     "data": {
      "image/png": "[encoded data removed]",
      "text/plain": [
       "<Figure size 1080x576 with 1 Axes>"
      ]
     },
     "metadata": {
      "needs_background": "light"
     },
     "output_type": "display_data"
    }
   ],
   "source": [
    "plt.figure(figsize=(15,8))\n",
    "# sns.lineplot(x=custo_baixo_return.index, y=custo_baixo_return, label='custo baixo')\n",
    "custo_baixo_return.plot()"
   ]
  },
  {
   "cell_type": "code",
   "execution_count": 97,
   "id": "f245f704",
   "metadata": {
    "ExecuteTime": {
     "end_time": "2022-08-15T10:09:14.697203Z",
     "start_time": "2022-08-15T10:09:14.006451Z"
    },
    "scrolled": false
   },
   "outputs": [
    {
     "data": {
      "text/plain": [
       "Text(0, 0.5, 'retorno')"
      ]
     },
     "execution_count": 97,
     "metadata": {},
     "output_type": "execute_result"
    },
    {
     "data": {
      "image/png": "[encoded data removed]",
      "text/plain": [
       "<Figure size 1080x576 with 1 Axes>"
      ]
     },
     "metadata": {
      "needs_background": "light"
     },
     "output_type": "display_data"
    }
   ],
   "source": [
    "plt.figure(figsize=(15,8))\n",
    "\n",
    "sns.lineplot(x=ibov_returns.index, y=ibov_returns, label='ibov')\n",
    "sns.lineplot(x=custo_baixo_return.index, y=custo_baixo_return, label='custo baixo')\n",
    "sns.lineplot(x=custo_medio_return.index, y=custo_medio_return, label='custo medio')\n",
    "sns.lineplot(x=custo_alto_return.index, y=custo_alto_return, label='custo alto')\n",
    "\n",
    "plt.xlabel('data')\n",
    "plt.ylabel('retorno')\n",
    "# plt.axhline(y=ibov_returns.iloc[-1])\n",
    "# plt.axhline(y=ibov_returns.iloc[-1])\n"
   ]
  },
  {
   "attachments": {
    "image.png": {
     "image/png": "[encoded data removed]"
    }
   },
   "cell_type": "markdown",
   "id": "a16217af",
   "metadata": {},
   "source": [
    "![image.png](attachment:image.png)"
   ]
  },
  {
   "cell_type": "code",
   "execution_count": 68,
   "id": "9314feda",
   "metadata": {
    "ExecuteTime": {
     "end_time": "2022-08-15T09:45:10.585058Z",
     "start_time": "2022-08-15T09:45:10.554322Z"
    }
   },
   "outputs": [
    {
     "data": {
      "text/html": [
       "<div>\n",
       "<style scoped>\n",
       "    .dataframe tbody tr th:only-of-type {\n",
       "        vertical-align: middle;\n",
       "    }\n",
       "\n",
       "    .dataframe tbody tr th {\n",
       "        vertical-align: top;\n",
       "    }\n",
       "\n",
       "    .dataframe thead th {\n",
       "        text-align: right;\n",
       "    }\n",
       "</style>\n",
       "<table border=\"1\" class=\"dataframe\">\n",
       "  <thead>\n",
       "    <tr style=\"text-align: right;\">\n",
       "      <th></th>\n",
       "      <th>ibov</th>\n",
       "      <th>custo_baixo</th>\n",
       "      <th>custo_medio</th>\n",
       "      <th>custo_alto</th>\n",
       "    </tr>\n",
       "  </thead>\n",
       "  <tbody>\n",
       "    <tr>\n",
       "      <th>2019-12-30</th>\n",
       "      <td>0.000000</td>\n",
       "      <td>-0.003389</td>\n",
       "      <td>-0.008363</td>\n",
       "      <td>-0.013411</td>\n",
       "    </tr>\n",
       "    <tr>\n",
       "      <th>2019-12-31</th>\n",
       "      <td>0.000000</td>\n",
       "      <td>0.000000</td>\n",
       "      <td>0.000000</td>\n",
       "      <td>0.000000</td>\n",
       "    </tr>\n",
       "    <tr>\n",
       "      <th>2020-01-01</th>\n",
       "      <td>0.000000</td>\n",
       "      <td>0.000000</td>\n",
       "      <td>0.000000</td>\n",
       "      <td>0.000000</td>\n",
       "    </tr>\n",
       "    <tr>\n",
       "      <th>2020-01-02</th>\n",
       "      <td>0.025319</td>\n",
       "      <td>-0.003591</td>\n",
       "      <td>-0.008600</td>\n",
       "      <td>-0.013683</td>\n",
       "    </tr>\n",
       "    <tr>\n",
       "      <th>2020-01-03</th>\n",
       "      <td>0.017830</td>\n",
       "      <td>-0.003668</td>\n",
       "      <td>-0.008697</td>\n",
       "      <td>-0.013799</td>\n",
       "    </tr>\n",
       "    <tr>\n",
       "      <th>...</th>\n",
       "      <td>...</td>\n",
       "      <td>...</td>\n",
       "      <td>...</td>\n",
       "      <td>...</td>\n",
       "    </tr>\n",
       "    <tr>\n",
       "      <th>2020-06-21</th>\n",
       "      <td>0.000000</td>\n",
       "      <td>0.000000</td>\n",
       "      <td>0.000000</td>\n",
       "      <td>0.000000</td>\n",
       "    </tr>\n",
       "    <tr>\n",
       "      <th>2020-06-22</th>\n",
       "      <td>-0.175615</td>\n",
       "      <td>0.001495</td>\n",
       "      <td>-0.005094</td>\n",
       "      <td>-0.011763</td>\n",
       "    </tr>\n",
       "    <tr>\n",
       "      <th>2020-06-23</th>\n",
       "      <td>-0.170089</td>\n",
       "      <td>0.001541</td>\n",
       "      <td>-0.005091</td>\n",
       "      <td>-0.011802</td>\n",
       "    </tr>\n",
       "    <tr>\n",
       "      <th>2020-06-24</th>\n",
       "      <td>-0.183908</td>\n",
       "      <td>0.001438</td>\n",
       "      <td>-0.005222</td>\n",
       "      <td>-0.011962</td>\n",
       "    </tr>\n",
       "    <tr>\n",
       "      <th>2020-06-25</th>\n",
       "      <td>-0.170020</td>\n",
       "      <td>0.000888</td>\n",
       "      <td>-0.006313</td>\n",
       "      <td>-0.013594</td>\n",
       "    </tr>\n",
       "  </tbody>\n",
       "</table>\n",
       "<p>179 rows × 4 columns</p>\n",
       "</div>"
      ],
      "text/plain": [
       "                ibov  custo_baixo  custo_medio  custo_alto\n",
       "2019-12-30  0.000000    -0.003389    -0.008363   -0.013411\n",
       "2019-12-31  0.000000     0.000000     0.000000    0.000000\n",
       "2020-01-01  0.000000     0.000000     0.000000    0.000000\n",
       "2020-01-02  0.025319    -0.003591    -0.008600   -0.013683\n",
       "2020-01-03  0.017830    -0.003668    -0.008697   -0.013799\n",
       "...              ...          ...          ...         ...\n",
       "2020-06-21  0.000000     0.000000     0.000000    0.000000\n",
       "2020-06-22 -0.175615     0.001495    -0.005094   -0.011763\n",
       "2020-06-23 -0.170089     0.001541    -0.005091   -0.011802\n",
       "2020-06-24 -0.183908     0.001438    -0.005222   -0.011962\n",
       "2020-06-25 -0.170020     0.000888    -0.006313   -0.013594\n",
       "\n",
       "[179 rows x 4 columns]"
      ]
     },
     "execution_count": 68,
     "metadata": {},
     "output_type": "execute_result"
    }
   ],
   "source": [
    "tabela_completa = pd.concat([ibov_returns, custo_baixo_return, custo_medio_return, custo_alto_return], axis=1).fillna(0)\n",
    "tabela_completa.columns = ['ibov', 'custo_baixo', 'custo_medio', 'custo_alto']\n",
    "tabela_completa"
   ]
  },
  {
   "cell_type": "code",
   "execution_count": 69,
   "id": "9a91e8a9",
   "metadata": {
    "ExecuteTime": {
     "end_time": "2022-08-15T09:45:10.617050Z",
     "start_time": "2022-08-15T09:45:10.589056Z"
    }
   },
   "outputs": [
    {
     "data": {
      "text/plain": [
       "-0.27787998528360475"
      ]
     },
     "execution_count": 69,
     "metadata": {},
     "output_type": "execute_result"
    }
   ],
   "source": [
    "vol_ibov = log_return_ibov.std() * math.sqrt(252)\n",
    "retorno_ibov = ibov_returns.iloc[-1]\n",
    "\n",
    "sharpe_ibov = retorno_ibov / vol_ibov\n",
    "\n",
    "sharpe_ibov"
   ]
  },
  {
   "cell_type": "code",
   "execution_count": 70,
   "id": "207e4923",
   "metadata": {
    "ExecuteTime": {
     "end_time": "2022-08-15T09:45:10.649043Z",
     "start_time": "2022-08-15T09:45:10.622068Z"
    }
   },
   "outputs": [
    {
     "data": {
      "text/plain": [
       "-0.41851774094934346"
      ]
     },
     "execution_count": 70,
     "metadata": {},
     "output_type": "execute_result"
    }
   ],
   "source": [
    "vol_custo_baixo = log_return_custo_baixo.std() * math.sqrt(252)\n",
    "retorno_custo_baixo = custo_baixo_return.iloc[-1]\n",
    "\n",
    "sharpe_custo_baixo = retorno_custo_baixo / vol_custo_baixo\n",
    "\n",
    "corr_baixo_ibov, p_valor = spearmanr(tabela_completa[['ibov', 'custo_baixo']])\n",
    "corr_baixo_ibov"
   ]
  },
  {
   "cell_type": "code",
   "execution_count": 71,
   "id": "4738ee7e",
   "metadata": {
    "ExecuteTime": {
     "end_time": "2022-08-15T09:45:10.665055Z",
     "start_time": "2022-08-15T09:45:10.651046Z"
    }
   },
   "outputs": [
    {
     "data": {
      "text/plain": [
       "-0.37472176810895325"
      ]
     },
     "execution_count": 71,
     "metadata": {},
     "output_type": "execute_result"
    }
   ],
   "source": [
    "vol_custo_medio = log_return_custo_medio.std() * math.sqrt(252)\n",
    "retorno_custo_medio = custo_medio_return.iloc[-1]\n",
    "sharpe_custo_medio = retorno_custo_medio / vol_custo_medio\n",
    "\n",
    "corr_medio_ibov, p_valor = spearmanr(tabela_completa[['ibov', 'custo_medio']])\n",
    "corr_medio_ibov"
   ]
  },
  {
   "cell_type": "code",
   "execution_count": 72,
   "id": "990046be",
   "metadata": {
    "ExecuteTime": {
     "end_time": "2022-08-15T09:45:10.697041Z",
     "start_time": "2022-08-15T09:45:10.670051Z"
    }
   },
   "outputs": [
    {
     "data": {
      "text/plain": [
       "-0.36363231744167057"
      ]
     },
     "execution_count": 72,
     "metadata": {},
     "output_type": "execute_result"
    }
   ],
   "source": [
    "vol_custo_alto = log_return_custo_alto.std() * math.sqrt(252)\n",
    "retorno_custo_alto = custo_alto_return.iloc[-1]\n",
    "sharpe_custo_alto = retorno_custo_alto / vol_custo_alto\n",
    "\n",
    "corr_alto_ibov, p_valor = spearmanr(tabela_completa[['ibov', 'custo_alto']])\n",
    "corr_alto_ibov"
   ]
  },
  {
   "cell_type": "code",
   "execution_count": 73,
   "id": "b71f1134",
   "metadata": {
    "ExecuteTime": {
     "end_time": "2022-08-15T09:45:10.729049Z",
     "start_time": "2022-08-15T09:45:10.701050Z"
    }
   },
   "outputs": [
    {
     "data": {
      "text/html": [
       "<div>\n",
       "<style scoped>\n",
       "    .dataframe tbody tr th:only-of-type {\n",
       "        vertical-align: middle;\n",
       "    }\n",
       "\n",
       "    .dataframe tbody tr th {\n",
       "        vertical-align: top;\n",
       "    }\n",
       "\n",
       "    .dataframe thead th {\n",
       "        text-align: right;\n",
       "    }\n",
       "</style>\n",
       "<table border=\"1\" class=\"dataframe\">\n",
       "  <thead>\n",
       "    <tr style=\"text-align: right;\">\n",
       "      <th></th>\n",
       "      <th>0</th>\n",
       "      <th>1</th>\n",
       "      <th>2</th>\n",
       "      <th>3</th>\n",
       "    </tr>\n",
       "  </thead>\n",
       "  <tbody>\n",
       "    <tr>\n",
       "      <th>carteira</th>\n",
       "      <td>Retorno acumulado</td>\n",
       "      <td>Desvio Padrão</td>\n",
       "      <td>Índice de Informação</td>\n",
       "      <td>Correlação IBOV</td>\n",
       "    </tr>\n",
       "    <tr>\n",
       "      <th>Cointegração 1</th>\n",
       "      <td>0.000888</td>\n",
       "      <td>0.010568</td>\n",
       "      <td>0.084015</td>\n",
       "      <td>-0.418518</td>\n",
       "    </tr>\n",
       "    <tr>\n",
       "      <th>Cointegração 2</th>\n",
       "      <td>-0.006313</td>\n",
       "      <td>0.02006</td>\n",
       "      <td>-0.314707</td>\n",
       "      <td>-0.374722</td>\n",
       "    </tr>\n",
       "    <tr>\n",
       "      <th>Cointegração 3</th>\n",
       "      <td>-0.013594</td>\n",
       "      <td>0.030884</td>\n",
       "      <td>-0.440173</td>\n",
       "      <td>-0.363632</td>\n",
       "    </tr>\n",
       "    <tr>\n",
       "      <th>IBOV</th>\n",
       "      <td>-0.17002</td>\n",
       "      <td>0.611848</td>\n",
       "      <td>-0.27788</td>\n",
       "      <td>-</td>\n",
       "    </tr>\n",
       "  </tbody>\n",
       "</table>\n",
       "</div>"
      ],
      "text/plain": [
       "                                0              1                     2  \\\n",
       "carteira        Retorno acumulado  Desvio Padrão  Índice de Informação   \n",
       "Cointegração 1           0.000888       0.010568              0.084015   \n",
       "Cointegração 2          -0.006313        0.02006             -0.314707   \n",
       "Cointegração 3          -0.013594       0.030884             -0.440173   \n",
       "IBOV                     -0.17002       0.611848              -0.27788   \n",
       "\n",
       "                              3  \n",
       "carteira        Correlação IBOV  \n",
       "Cointegração 1        -0.418518  \n",
       "Cointegração 2        -0.374722  \n",
       "Cointegração 3        -0.363632  \n",
       "IBOV                          -  "
      ]
     },
     "execution_count": 73,
     "metadata": {},
     "output_type": "execute_result"
    }
   ],
   "source": [
    "pd.DataFrame({\n",
    "    'carteira':['Retorno acumulado', 'Desvio Padrão', 'Índice de Informação', 'Correlação IBOV'], \n",
    "    'Cointegração 1':[retorno_custo_baixo, vol_custo_baixo, sharpe_custo_baixo, corr_baixo_ibov],\n",
    "    'Cointegração 2': [retorno_custo_medio, vol_custo_medio, sharpe_custo_medio, corr_medio_ibov],\n",
    "    'Cointegração 3': [retorno_custo_alto, vol_custo_alto, sharpe_custo_alto, corr_alto_ibov],\n",
    "    'IBOV': [retorno_ibov, vol_ibov, sharpe_ibov, '-']\n",
    "}\n",
    "            ).T"
   ]
  },
  {
   "cell_type": "markdown",
   "id": "d38491e3",
   "metadata": {},
   "source": [
    "# PARTE 2"
   ]
  },
  {
   "attachments": {
    "image.png": {
     "image/png": "[encoded data removed]"
    }
   },
   "cell_type": "markdown",
   "id": "4c36c5b6",
   "metadata": {},
   "source": [
    "![image.png](attachment:image.png)"
   ]
  },
  {
   "cell_type": "code",
   "execution_count": 182,
   "id": "72c47f8b",
   "metadata": {
    "ExecuteTime": {
     "end_time": "2022-08-15T05:47:39.896068Z",
     "start_time": "2022-08-15T05:47:39.885514Z"
    }
   },
   "outputs": [],
   "source": [
    "filepath = r'resultados_sergio\\diario_252_0.01_0.5_desligado_0.1_desligado_ligado.csv.pickle'"
   ]
  },
  {
   "cell_type": "code",
   "execution_count": 183,
   "id": "cedca9c2",
   "metadata": {
    "ExecuteTime": {
     "end_time": "2022-08-15T05:47:40.210417Z",
     "start_time": "2022-08-15T05:47:40.187379Z"
    }
   },
   "outputs": [
    {
     "data": {
      "text/html": [
       "<div>\n",
       "<style scoped>\n",
       "    .dataframe tbody tr th:only-of-type {\n",
       "        vertical-align: middle;\n",
       "    }\n",
       "\n",
       "    .dataframe tbody tr th {\n",
       "        vertical-align: top;\n",
       "    }\n",
       "\n",
       "    .dataframe thead th {\n",
       "        text-align: right;\n",
       "    }\n",
       "</style>\n",
       "<table border=\"1\" class=\"dataframe\">\n",
       "  <thead>\n",
       "    <tr style=\"text-align: right;\">\n",
       "      <th></th>\n",
       "      <th>-</th>\n",
       "      <th>--</th>\n",
       "    </tr>\n",
       "  </thead>\n",
       "  <tbody>\n",
       "    <tr>\n",
       "      <th>0</th>\n",
       "      <td>periodo</td>\n",
       "      <td>diario</td>\n",
       "    </tr>\n",
       "    <tr>\n",
       "      <th>1</th>\n",
       "      <td>train_size</td>\n",
       "      <td>252</td>\n",
       "    </tr>\n",
       "    <tr>\n",
       "      <th>2</th>\n",
       "      <td>significancia</td>\n",
       "      <td>0.01</td>\n",
       "    </tr>\n",
       "    <tr>\n",
       "      <th>3</th>\n",
       "      <td>z_score_saida</td>\n",
       "      <td>0.5</td>\n",
       "    </tr>\n",
       "    <tr>\n",
       "      <th>4</th>\n",
       "      <td>z_score_stop</td>\n",
       "      <td>desligado</td>\n",
       "    </tr>\n",
       "    <tr>\n",
       "      <th>5</th>\n",
       "      <td>conf_var</td>\n",
       "      <td>0.1</td>\n",
       "    </tr>\n",
       "    <tr>\n",
       "      <th>6</th>\n",
       "      <td>usar_halflife</td>\n",
       "      <td>desligado</td>\n",
       "    </tr>\n",
       "    <tr>\n",
       "      <th>7</th>\n",
       "      <td>usar_var</td>\n",
       "      <td>ligado</td>\n",
       "    </tr>\n",
       "  </tbody>\n",
       "</table>\n",
       "</div>"
      ],
      "text/plain": [
       "               -         --\n",
       "0        periodo     diario\n",
       "1     train_size        252\n",
       "2  significancia       0.01\n",
       "3  z_score_saida        0.5\n",
       "4   z_score_stop  desligado\n",
       "5       conf_var        0.1\n",
       "6  usar_halflife  desligado\n",
       "7       usar_var     ligado"
      ]
     },
     "execution_count": 183,
     "metadata": {},
     "output_type": "execute_result"
    }
   ],
   "source": [
    "file = filepath[:-11].split('\\\\')[1].split('_')\n",
    "dicionario = ['periodo', 'train_size', 'significancia', 'z_score_saida', 'z_score_stop', 'conf_var', 'usar_halflife', 'usar_var']\n",
    "pd.DataFrame({'-':dicionario, '--':file})"
   ]
  },
  {
   "cell_type": "code",
   "execution_count": 184,
   "id": "9e218e1c",
   "metadata": {
    "ExecuteTime": {
     "end_time": "2022-08-15T05:47:40.557395Z",
     "start_time": "2022-08-15T05:47:40.549391Z"
    }
   },
   "outputs": [],
   "source": [
    "path_sem_var = r'resultados_sergio\\diario_252_0.01_0.5_desligado_0.05_desligado_desligado.csv.pickle'\n",
    "path_var_1 = r'resultados_sergio\\diario_252_0.01_0.5_desligado_0.01_desligado_ligado.csv.pickle'\n",
    "path_var_5 = r'resultados_sergio\\diario_252_0.01_0.5_desligado_0.05_desligado_ligado.csv.pickle'\n",
    "path_var_10 = r'resultados_sergio\\diario_252_0.01_0.5_desligado_0.1_desligado_ligado.csv.pickle'"
   ]
  },
  {
   "cell_type": "code",
   "execution_count": 185,
   "id": "601f9c97",
   "metadata": {
    "ExecuteTime": {
     "end_time": "2022-08-15T05:47:47.127054Z",
     "start_time": "2022-08-15T05:47:41.082373Z"
    }
   },
   "outputs": [
    {
     "name": "stderr",
     "output_type": "stream",
     "text": [
      "C:\\Users\\willi\\Documents\\GitHub\\cointegration\\execute.py:326: FutureWarning: Value based partial slicing on non-monotonic DatetimeIndexes with non-existing keys is deprecated and will raise a KeyError in a future Version.\n",
      "  df_returns = df_returns.set_index('open_date').loc['2019-01-01':]\n",
      "C:\\Users\\willi\\Documents\\GitHub\\cointegration\\execute.py:326: FutureWarning: Value based partial slicing on non-monotonic DatetimeIndexes with non-existing keys is deprecated and will raise a KeyError in a future Version.\n",
      "  df_returns = df_returns.set_index('open_date').loc['2019-01-01':]\n",
      "C:\\Users\\willi\\Documents\\GitHub\\cointegration\\execute.py:326: FutureWarning: Value based partial slicing on non-monotonic DatetimeIndexes with non-existing keys is deprecated and will raise a KeyError in a future Version.\n",
      "  df_returns = df_returns.set_index('open_date').loc['2019-01-01':]\n",
      "C:\\Users\\willi\\Documents\\GitHub\\cointegration\\execute.py:326: FutureWarning: Value based partial slicing on non-monotonic DatetimeIndexes with non-existing keys is deprecated and will raise a KeyError in a future Version.\n",
      "  df_returns = df_returns.set_index('open_date').loc['2019-01-01':]\n"
     ]
    }
   ],
   "source": [
    "with open(path_sem_var, 'rb') as handle:\n",
    "    sem_var = desfaz(pickle.load(handle))\n",
    "    \n",
    "with open(path_var_1, 'rb') as handle1:\n",
    "    var1 = desfaz(pickle.load(handle1))\n",
    "\n",
    "with open(path_var_5, 'rb') as handle5:\n",
    "    var5 = desfaz(pickle.load(handle5))  \n",
    "    \n",
    "with open(path_var_10, 'rb') as handle10:\n",
    "    var10 = desfaz(pickle.load(handle10)) \n",
    "\n",
    "\n",
    "sem_var  = execute.novo_retorno(sem_var.reset_index(), custo_compra=0.00135, custo_venda=0.00385)\n",
    "var1 = execute.novo_retorno(var1.reset_index(), custo_compra=0.00135, custo_venda=0.00385)\n",
    "var5 = execute.novo_retorno(var5.reset_index(), custo_compra=0.00135, custo_venda=0.00385)\n",
    "var10 = execute.novo_retorno(var10.reset_index(), custo_compra=0.00135, custo_venda=0.00385)\n"
   ]
  },
  {
   "cell_type": "code",
   "execution_count": 186,
   "id": "ab367e84",
   "metadata": {
    "ExecuteTime": {
     "end_time": "2022-08-15T05:47:47.271580Z",
     "start_time": "2022-08-15T05:47:47.129052Z"
    }
   },
   "outputs": [
    {
     "name": "stderr",
     "output_type": "stream",
     "text": [
      "<ipython-input-186-47ec52626802>:2: SettingWithCopyWarning: \n",
      "A value is trying to be set on a copy of a slice from a DataFrame.\n",
      "Try using .loc[row_indexer,col_indexer] = value instead\n",
      "\n",
      "See the caveats in the documentation: https://pandas.pydata.org/pandas-docs/stable/user_guide/indexing.html#returning-a-view-versus-a-copy\n",
      "  fechadas_sem_var['e_lucro_bruto'] = fechadas_sem_var['retorno_acumulado_sem_custos'] > 0\n",
      "<ipython-input-186-47ec52626802>:5: SettingWithCopyWarning: \n",
      "A value is trying to be set on a copy of a slice from a DataFrame.\n",
      "Try using .loc[row_indexer,col_indexer] = value instead\n",
      "\n",
      "See the caveats in the documentation: https://pandas.pydata.org/pandas-docs/stable/user_guide/indexing.html#returning-a-view-versus-a-copy\n",
      "  fechadas_var_1['e_lucro_bruto'] = fechadas_var_1['retorno_acumulado_sem_custos'] > 0\n",
      "<ipython-input-186-47ec52626802>:8: SettingWithCopyWarning: \n",
      "A value is trying to be set on a copy of a slice from a DataFrame.\n",
      "Try using .loc[row_indexer,col_indexer] = value instead\n",
      "\n",
      "See the caveats in the documentation: https://pandas.pydata.org/pandas-docs/stable/user_guide/indexing.html#returning-a-view-versus-a-copy\n",
      "  fechadas_var_5['e_lucro_bruto'] = fechadas_var_5['retorno_acumulado_sem_custos'] > 0\n",
      "<ipython-input-186-47ec52626802>:11: SettingWithCopyWarning: \n",
      "A value is trying to be set on a copy of a slice from a DataFrame.\n",
      "Try using .loc[row_indexer,col_indexer] = value instead\n",
      "\n",
      "See the caveats in the documentation: https://pandas.pydata.org/pandas-docs/stable/user_guide/indexing.html#returning-a-view-versus-a-copy\n",
      "  fechadas_var_10['e_lucro_bruto'] = fechadas_var_10['retorno_acumulado_sem_custos'] > 0\n"
     ]
    }
   ],
   "source": [
    "fechadas_sem_var = sem_var.loc[sem_var.status == 'close']\n",
    "fechadas_sem_var['e_lucro_bruto'] = fechadas_sem_var['retorno_acumulado_sem_custos'] > 0\n",
    "\n",
    "fechadas_var_1 = var1.loc[var1.status == 'close']\n",
    "fechadas_var_1['e_lucro_bruto'] = fechadas_var_1['retorno_acumulado_sem_custos'] > 0\n",
    "\n",
    "fechadas_var_5 = var5.loc[var5.status == 'close']\n",
    "fechadas_var_5['e_lucro_bruto'] = fechadas_var_5['retorno_acumulado_sem_custos'] > 0\n",
    "\n",
    "fechadas_var_10 = var10.loc[var10.status == 'close']\n",
    "fechadas_var_10['e_lucro_bruto'] = fechadas_var_10['retorno_acumulado_sem_custos'] > 0"
   ]
  },
  {
   "cell_type": "code",
   "execution_count": 187,
   "id": "d04af5ce",
   "metadata": {
    "ExecuteTime": {
     "end_time": "2022-08-15T05:47:47.324853Z",
     "start_time": "2022-08-15T05:47:47.275587Z"
    }
   },
   "outputs": [
    {
     "data": {
      "text/html": [
       "<div>\n",
       "<style scoped>\n",
       "    .dataframe tbody tr th:only-of-type {\n",
       "        vertical-align: middle;\n",
       "    }\n",
       "\n",
       "    .dataframe tbody tr th {\n",
       "        vertical-align: top;\n",
       "    }\n",
       "\n",
       "    .dataframe thead th {\n",
       "        text-align: right;\n",
       "    }\n",
       "</style>\n",
       "<table border=\"1\" class=\"dataframe\">\n",
       "  <thead>\n",
       "    <tr style=\"text-align: right;\">\n",
       "      <th></th>\n",
       "      <th>num_operacoes</th>\n",
       "      <th>taxa_acerto</th>\n",
       "      <th>tempo_medio_operacao</th>\n",
       "    </tr>\n",
       "    <tr>\n",
       "      <th>open_date</th>\n",
       "      <th></th>\n",
       "      <th></th>\n",
       "      <th></th>\n",
       "    </tr>\n",
       "  </thead>\n",
       "  <tbody>\n",
       "    <tr>\n",
       "      <th>2019-06-30</th>\n",
       "      <td>34</td>\n",
       "      <td>0.911765</td>\n",
       "      <td>22.529412</td>\n",
       "    </tr>\n",
       "    <tr>\n",
       "      <th>2019-12-31</th>\n",
       "      <td>11</td>\n",
       "      <td>0.818182</td>\n",
       "      <td>36.818182</td>\n",
       "    </tr>\n",
       "    <tr>\n",
       "      <th>2020-06-30</th>\n",
       "      <td>25</td>\n",
       "      <td>0.840000</td>\n",
       "      <td>23.440000</td>\n",
       "    </tr>\n",
       "    <tr>\n",
       "      <th>2020-12-31</th>\n",
       "      <td>12</td>\n",
       "      <td>0.833333</td>\n",
       "      <td>20.333333</td>\n",
       "    </tr>\n",
       "    <tr>\n",
       "      <th>2021-06-30</th>\n",
       "      <td>17</td>\n",
       "      <td>0.882353</td>\n",
       "      <td>24.411765</td>\n",
       "    </tr>\n",
       "    <tr>\n",
       "      <th>2021-12-31</th>\n",
       "      <td>5</td>\n",
       "      <td>0.800000</td>\n",
       "      <td>21.400000</td>\n",
       "    </tr>\n",
       "    <tr>\n",
       "      <th>2022-06-30</th>\n",
       "      <td>26</td>\n",
       "      <td>0.846154</td>\n",
       "      <td>21.423077</td>\n",
       "    </tr>\n",
       "  </tbody>\n",
       "</table>\n",
       "</div>"
      ],
      "text/plain": [
       "            num_operacoes  taxa_acerto  tempo_medio_operacao\n",
       "open_date                                                   \n",
       "2019-06-30             34     0.911765             22.529412\n",
       "2019-12-31             11     0.818182             36.818182\n",
       "2020-06-30             25     0.840000             23.440000\n",
       "2020-12-31             12     0.833333             20.333333\n",
       "2021-06-30             17     0.882353             24.411765\n",
       "2021-12-31              5     0.800000             21.400000\n",
       "2022-06-30             26     0.846154             21.423077"
      ]
     },
     "execution_count": 187,
     "metadata": {},
     "output_type": "execute_result"
    }
   ],
   "source": [
    "eficacia_sem_var = fechadas_sem_var.set_index('open_date').resample('6M',closed='left').agg(\n",
    "    num_operacoes = ('pair', 'count'),\n",
    "    taxa_acerto = ('e_lucro_bruto', 'mean'),\n",
    "    tempo_medio_operacao = ('days_open', 'mean')\n",
    ")\n",
    "eficacia_sem_var"
   ]
  },
  {
   "cell_type": "code",
   "execution_count": 188,
   "id": "0ff5b598",
   "metadata": {
    "ExecuteTime": {
     "end_time": "2022-08-15T05:47:47.372859Z",
     "start_time": "2022-08-15T05:47:47.332862Z"
    }
   },
   "outputs": [
    {
     "data": {
      "text/html": [
       "<div>\n",
       "<style scoped>\n",
       "    .dataframe tbody tr th:only-of-type {\n",
       "        vertical-align: middle;\n",
       "    }\n",
       "\n",
       "    .dataframe tbody tr th {\n",
       "        vertical-align: top;\n",
       "    }\n",
       "\n",
       "    .dataframe thead th {\n",
       "        text-align: right;\n",
       "    }\n",
       "</style>\n",
       "<table border=\"1\" class=\"dataframe\">\n",
       "  <thead>\n",
       "    <tr style=\"text-align: right;\">\n",
       "      <th></th>\n",
       "      <th>num_operacoes</th>\n",
       "      <th>taxa_acerto</th>\n",
       "      <th>tempo_medio_operacao</th>\n",
       "    </tr>\n",
       "    <tr>\n",
       "      <th>open_date</th>\n",
       "      <th></th>\n",
       "      <th></th>\n",
       "      <th></th>\n",
       "    </tr>\n",
       "  </thead>\n",
       "  <tbody>\n",
       "    <tr>\n",
       "      <th>2019-06-30</th>\n",
       "      <td>38</td>\n",
       "      <td>0.842105</td>\n",
       "      <td>20.815789</td>\n",
       "    </tr>\n",
       "    <tr>\n",
       "      <th>2019-12-31</th>\n",
       "      <td>12</td>\n",
       "      <td>0.833333</td>\n",
       "      <td>23.000000</td>\n",
       "    </tr>\n",
       "    <tr>\n",
       "      <th>2020-06-30</th>\n",
       "      <td>36</td>\n",
       "      <td>0.722222</td>\n",
       "      <td>12.750000</td>\n",
       "    </tr>\n",
       "    <tr>\n",
       "      <th>2020-12-31</th>\n",
       "      <td>14</td>\n",
       "      <td>0.714286</td>\n",
       "      <td>19.714286</td>\n",
       "    </tr>\n",
       "    <tr>\n",
       "      <th>2021-06-30</th>\n",
       "      <td>18</td>\n",
       "      <td>0.888889</td>\n",
       "      <td>21.277778</td>\n",
       "    </tr>\n",
       "    <tr>\n",
       "      <th>2021-12-31</th>\n",
       "      <td>6</td>\n",
       "      <td>0.666667</td>\n",
       "      <td>23.166667</td>\n",
       "    </tr>\n",
       "    <tr>\n",
       "      <th>2022-06-30</th>\n",
       "      <td>33</td>\n",
       "      <td>0.727273</td>\n",
       "      <td>14.121212</td>\n",
       "    </tr>\n",
       "  </tbody>\n",
       "</table>\n",
       "</div>"
      ],
      "text/plain": [
       "            num_operacoes  taxa_acerto  tempo_medio_operacao\n",
       "open_date                                                   \n",
       "2019-06-30             38     0.842105             20.815789\n",
       "2019-12-31             12     0.833333             23.000000\n",
       "2020-06-30             36     0.722222             12.750000\n",
       "2020-12-31             14     0.714286             19.714286\n",
       "2021-06-30             18     0.888889             21.277778\n",
       "2021-12-31              6     0.666667             23.166667\n",
       "2022-06-30             33     0.727273             14.121212"
      ]
     },
     "execution_count": 188,
     "metadata": {},
     "output_type": "execute_result"
    }
   ],
   "source": [
    "eficacia_var1 = fechadas_var_1.set_index('open_date').resample('6M',closed='left').agg(\n",
    "    num_operacoes = ('pair', 'count'),\n",
    "    taxa_acerto = ('e_lucro_bruto', 'mean'),\n",
    "    tempo_medio_operacao = ('days_open', 'mean')\n",
    ")\n",
    "eficacia_var1"
   ]
  },
  {
   "cell_type": "code",
   "execution_count": 189,
   "id": "0d833022",
   "metadata": {
    "ExecuteTime": {
     "end_time": "2022-08-15T05:47:47.419995Z",
     "start_time": "2022-08-15T05:47:47.378996Z"
    }
   },
   "outputs": [
    {
     "data": {
      "text/html": [
       "<div>\n",
       "<style scoped>\n",
       "    .dataframe tbody tr th:only-of-type {\n",
       "        vertical-align: middle;\n",
       "    }\n",
       "\n",
       "    .dataframe tbody tr th {\n",
       "        vertical-align: top;\n",
       "    }\n",
       "\n",
       "    .dataframe thead th {\n",
       "        text-align: right;\n",
       "    }\n",
       "</style>\n",
       "<table border=\"1\" class=\"dataframe\">\n",
       "  <thead>\n",
       "    <tr style=\"text-align: right;\">\n",
       "      <th></th>\n",
       "      <th>total_trades</th>\n",
       "      <th>gain_var</th>\n",
       "    </tr>\n",
       "    <tr>\n",
       "      <th>open_date</th>\n",
       "      <th></th>\n",
       "      <th></th>\n",
       "    </tr>\n",
       "  </thead>\n",
       "  <tbody>\n",
       "    <tr>\n",
       "      <th>2019-06-30</th>\n",
       "      <td>8</td>\n",
       "      <td>0.500000</td>\n",
       "    </tr>\n",
       "    <tr>\n",
       "      <th>2019-12-31</th>\n",
       "      <td>3</td>\n",
       "      <td>0.333333</td>\n",
       "    </tr>\n",
       "    <tr>\n",
       "      <th>2020-06-30</th>\n",
       "      <td>20</td>\n",
       "      <td>0.550000</td>\n",
       "    </tr>\n",
       "    <tr>\n",
       "      <th>2020-12-31</th>\n",
       "      <td>2</td>\n",
       "      <td>0.000000</td>\n",
       "    </tr>\n",
       "    <tr>\n",
       "      <th>2021-06-30</th>\n",
       "      <td>2</td>\n",
       "      <td>0.500000</td>\n",
       "    </tr>\n",
       "    <tr>\n",
       "      <th>2021-12-31</th>\n",
       "      <td>1</td>\n",
       "      <td>0.000000</td>\n",
       "    </tr>\n",
       "    <tr>\n",
       "      <th>2022-06-30</th>\n",
       "      <td>14</td>\n",
       "      <td>0.428571</td>\n",
       "    </tr>\n",
       "  </tbody>\n",
       "</table>\n",
       "</div>"
      ],
      "text/plain": [
       "            total_trades  gain_var\n",
       "open_date                         \n",
       "2019-06-30             8  0.500000\n",
       "2019-12-31             3  0.333333\n",
       "2020-06-30            20  0.550000\n",
       "2020-12-31             2  0.000000\n",
       "2021-06-30             2  0.500000\n",
       "2021-12-31             1  0.000000\n",
       "2022-06-30            14  0.428571"
      ]
     },
     "execution_count": 189,
     "metadata": {},
     "output_type": "execute_result"
    }
   ],
   "source": [
    "fechadas_stop_var1 = fechadas_var_1.loc[(fechadas_var_1.beta_close=='VAR CLOSE')]\n",
    "\n",
    "fechadas_var1_semestre = fechadas_stop_var1.set_index('open_date').resample('6M',closed='left').agg(\n",
    "    total_trades = ('status', 'count'),\n",
    "    gain_var = ('e_lucro_bruto', 'mean'),\n",
    ")\n",
    "\n",
    "fechadas_var1_semestre"
   ]
  },
  {
   "cell_type": "code",
   "execution_count": 190,
   "id": "b321c54a",
   "metadata": {
    "ExecuteTime": {
     "end_time": "2022-08-15T05:47:47.450993Z",
     "start_time": "2022-08-15T05:47:47.421991Z"
    }
   },
   "outputs": [
    {
     "data": {
      "text/html": [
       "<div>\n",
       "<style scoped>\n",
       "    .dataframe tbody tr th:only-of-type {\n",
       "        vertical-align: middle;\n",
       "    }\n",
       "\n",
       "    .dataframe tbody tr th {\n",
       "        vertical-align: top;\n",
       "    }\n",
       "\n",
       "    .dataframe thead th {\n",
       "        text-align: right;\n",
       "    }\n",
       "</style>\n",
       "<table border=\"1\" class=\"dataframe\">\n",
       "  <thead>\n",
       "    <tr style=\"text-align: right;\">\n",
       "      <th></th>\n",
       "      <th>num_operacoes</th>\n",
       "      <th>taxa_acerto</th>\n",
       "      <th>tempo_medio_operacao</th>\n",
       "    </tr>\n",
       "    <tr>\n",
       "      <th>open_date</th>\n",
       "      <th></th>\n",
       "      <th></th>\n",
       "      <th></th>\n",
       "    </tr>\n",
       "  </thead>\n",
       "  <tbody>\n",
       "    <tr>\n",
       "      <th>2019-06-30</th>\n",
       "      <td>44</td>\n",
       "      <td>0.727273</td>\n",
       "      <td>16.363636</td>\n",
       "    </tr>\n",
       "    <tr>\n",
       "      <th>2019-12-31</th>\n",
       "      <td>17</td>\n",
       "      <td>0.647059</td>\n",
       "      <td>14.882353</td>\n",
       "    </tr>\n",
       "    <tr>\n",
       "      <th>2020-06-30</th>\n",
       "      <td>39</td>\n",
       "      <td>0.487179</td>\n",
       "      <td>7.000000</td>\n",
       "    </tr>\n",
       "    <tr>\n",
       "      <th>2020-12-31</th>\n",
       "      <td>20</td>\n",
       "      <td>0.550000</td>\n",
       "      <td>19.450000</td>\n",
       "    </tr>\n",
       "    <tr>\n",
       "      <th>2021-06-30</th>\n",
       "      <td>22</td>\n",
       "      <td>0.636364</td>\n",
       "      <td>20.181818</td>\n",
       "    </tr>\n",
       "    <tr>\n",
       "      <th>2021-12-31</th>\n",
       "      <td>8</td>\n",
       "      <td>0.750000</td>\n",
       "      <td>11.000000</td>\n",
       "    </tr>\n",
       "    <tr>\n",
       "      <th>2022-06-30</th>\n",
       "      <td>37</td>\n",
       "      <td>0.621622</td>\n",
       "      <td>10.108108</td>\n",
       "    </tr>\n",
       "  </tbody>\n",
       "</table>\n",
       "</div>"
      ],
      "text/plain": [
       "            num_operacoes  taxa_acerto  tempo_medio_operacao\n",
       "open_date                                                   \n",
       "2019-06-30             44     0.727273             16.363636\n",
       "2019-12-31             17     0.647059             14.882353\n",
       "2020-06-30             39     0.487179              7.000000\n",
       "2020-12-31             20     0.550000             19.450000\n",
       "2021-06-30             22     0.636364             20.181818\n",
       "2021-12-31              8     0.750000             11.000000\n",
       "2022-06-30             37     0.621622             10.108108"
      ]
     },
     "execution_count": 190,
     "metadata": {},
     "output_type": "execute_result"
    }
   ],
   "source": [
    "eficacia_var5 = fechadas_var_5.set_index('open_date').resample('6M',closed='left').agg(\n",
    "    num_operacoes = ('pair', 'count'),\n",
    "    taxa_acerto = ('e_lucro_bruto', 'mean'),\n",
    "    tempo_medio_operacao = ('days_open', 'mean')\n",
    ")\n",
    "eficacia_var5"
   ]
  },
  {
   "cell_type": "code",
   "execution_count": 191,
   "id": "5cbf7e8f",
   "metadata": {
    "ExecuteTime": {
     "end_time": "2022-08-15T05:47:47.498990Z",
     "start_time": "2022-08-15T05:47:47.455994Z"
    }
   },
   "outputs": [
    {
     "data": {
      "text/html": [
       "<div>\n",
       "<style scoped>\n",
       "    .dataframe tbody tr th:only-of-type {\n",
       "        vertical-align: middle;\n",
       "    }\n",
       "\n",
       "    .dataframe tbody tr th {\n",
       "        vertical-align: top;\n",
       "    }\n",
       "\n",
       "    .dataframe thead th {\n",
       "        text-align: right;\n",
       "    }\n",
       "</style>\n",
       "<table border=\"1\" class=\"dataframe\">\n",
       "  <thead>\n",
       "    <tr style=\"text-align: right;\">\n",
       "      <th></th>\n",
       "      <th>total_trades</th>\n",
       "      <th>gain_var</th>\n",
       "    </tr>\n",
       "    <tr>\n",
       "      <th>open_date</th>\n",
       "      <th></th>\n",
       "      <th></th>\n",
       "    </tr>\n",
       "  </thead>\n",
       "  <tbody>\n",
       "    <tr>\n",
       "      <th>2019-06-30</th>\n",
       "      <td>28</td>\n",
       "      <td>0.571429</td>\n",
       "    </tr>\n",
       "    <tr>\n",
       "      <th>2019-12-31</th>\n",
       "      <td>10</td>\n",
       "      <td>0.400000</td>\n",
       "    </tr>\n",
       "    <tr>\n",
       "      <th>2020-06-30</th>\n",
       "      <td>29</td>\n",
       "      <td>0.310345</td>\n",
       "    </tr>\n",
       "    <tr>\n",
       "      <th>2020-12-31</th>\n",
       "      <td>9</td>\n",
       "      <td>0.222222</td>\n",
       "    </tr>\n",
       "    <tr>\n",
       "      <th>2021-06-30</th>\n",
       "      <td>11</td>\n",
       "      <td>0.363636</td>\n",
       "    </tr>\n",
       "    <tr>\n",
       "      <th>2021-12-31</th>\n",
       "      <td>6</td>\n",
       "      <td>0.666667</td>\n",
       "    </tr>\n",
       "    <tr>\n",
       "      <th>2022-06-30</th>\n",
       "      <td>24</td>\n",
       "      <td>0.416667</td>\n",
       "    </tr>\n",
       "  </tbody>\n",
       "</table>\n",
       "</div>"
      ],
      "text/plain": [
       "            total_trades  gain_var\n",
       "open_date                         \n",
       "2019-06-30            28  0.571429\n",
       "2019-12-31            10  0.400000\n",
       "2020-06-30            29  0.310345\n",
       "2020-12-31             9  0.222222\n",
       "2021-06-30            11  0.363636\n",
       "2021-12-31             6  0.666667\n",
       "2022-06-30            24  0.416667"
      ]
     },
     "execution_count": 191,
     "metadata": {},
     "output_type": "execute_result"
    }
   ],
   "source": [
    "fechadas_stop_var5 = fechadas_var_5.loc[(fechadas_var_5.beta_close=='VAR CLOSE')]\n",
    "\n",
    "fechadas_var5_semestre = fechadas_stop_var5.set_index('open_date').resample('6M',closed='left').agg(\n",
    "    total_trades = ('status', 'count'),\n",
    "    gain_var = ('e_lucro_bruto', 'mean'),\n",
    ")\n",
    "\n",
    "fechadas_var5_semestre"
   ]
  },
  {
   "cell_type": "code",
   "execution_count": 192,
   "id": "105afa73",
   "metadata": {
    "ExecuteTime": {
     "end_time": "2022-08-15T05:47:47.531002Z",
     "start_time": "2022-08-15T05:47:47.503993Z"
    }
   },
   "outputs": [
    {
     "data": {
      "text/html": [
       "<div>\n",
       "<style scoped>\n",
       "    .dataframe tbody tr th:only-of-type {\n",
       "        vertical-align: middle;\n",
       "    }\n",
       "\n",
       "    .dataframe tbody tr th {\n",
       "        vertical-align: top;\n",
       "    }\n",
       "\n",
       "    .dataframe thead th {\n",
       "        text-align: right;\n",
       "    }\n",
       "</style>\n",
       "<table border=\"1\" class=\"dataframe\">\n",
       "  <thead>\n",
       "    <tr style=\"text-align: right;\">\n",
       "      <th></th>\n",
       "      <th>num_operacoes</th>\n",
       "      <th>taxa_acerto</th>\n",
       "      <th>tempo_medio_operacao</th>\n",
       "    </tr>\n",
       "    <tr>\n",
       "      <th>open_date</th>\n",
       "      <th></th>\n",
       "      <th></th>\n",
       "      <th></th>\n",
       "    </tr>\n",
       "  </thead>\n",
       "  <tbody>\n",
       "    <tr>\n",
       "      <th>2019-06-30</th>\n",
       "      <td>53</td>\n",
       "      <td>0.603774</td>\n",
       "      <td>10.169811</td>\n",
       "    </tr>\n",
       "    <tr>\n",
       "      <th>2019-12-31</th>\n",
       "      <td>18</td>\n",
       "      <td>0.666667</td>\n",
       "      <td>10.388889</td>\n",
       "    </tr>\n",
       "    <tr>\n",
       "      <th>2020-06-30</th>\n",
       "      <td>46</td>\n",
       "      <td>0.500000</td>\n",
       "      <td>4.695652</td>\n",
       "    </tr>\n",
       "    <tr>\n",
       "      <th>2020-12-31</th>\n",
       "      <td>23</td>\n",
       "      <td>0.521739</td>\n",
       "      <td>14.000000</td>\n",
       "    </tr>\n",
       "    <tr>\n",
       "      <th>2021-06-30</th>\n",
       "      <td>24</td>\n",
       "      <td>0.541667</td>\n",
       "      <td>13.625000</td>\n",
       "    </tr>\n",
       "    <tr>\n",
       "      <th>2021-12-31</th>\n",
       "      <td>11</td>\n",
       "      <td>0.545455</td>\n",
       "      <td>10.454545</td>\n",
       "    </tr>\n",
       "    <tr>\n",
       "      <th>2022-06-30</th>\n",
       "      <td>38</td>\n",
       "      <td>0.552632</td>\n",
       "      <td>8.605263</td>\n",
       "    </tr>\n",
       "  </tbody>\n",
       "</table>\n",
       "</div>"
      ],
      "text/plain": [
       "            num_operacoes  taxa_acerto  tempo_medio_operacao\n",
       "open_date                                                   \n",
       "2019-06-30             53     0.603774             10.169811\n",
       "2019-12-31             18     0.666667             10.388889\n",
       "2020-06-30             46     0.500000              4.695652\n",
       "2020-12-31             23     0.521739             14.000000\n",
       "2021-06-30             24     0.541667             13.625000\n",
       "2021-12-31             11     0.545455             10.454545\n",
       "2022-06-30             38     0.552632              8.605263"
      ]
     },
     "execution_count": 192,
     "metadata": {},
     "output_type": "execute_result"
    }
   ],
   "source": [
    "eficacia_var10 = fechadas_var_10.set_index('open_date').resample('6M',closed='left').agg(\n",
    "    num_operacoes = ('pair', 'count'),\n",
    "    taxa_acerto = ('e_lucro_bruto', 'mean'),\n",
    "    tempo_medio_operacao = ('days_open', 'mean')\n",
    ")\n",
    "eficacia_var10"
   ]
  },
  {
   "cell_type": "code",
   "execution_count": 193,
   "id": "13d301d2",
   "metadata": {
    "ExecuteTime": {
     "end_time": "2022-08-15T05:47:47.562999Z",
     "start_time": "2022-08-15T05:47:47.535993Z"
    }
   },
   "outputs": [
    {
     "data": {
      "text/html": [
       "<div>\n",
       "<style scoped>\n",
       "    .dataframe tbody tr th:only-of-type {\n",
       "        vertical-align: middle;\n",
       "    }\n",
       "\n",
       "    .dataframe tbody tr th {\n",
       "        vertical-align: top;\n",
       "    }\n",
       "\n",
       "    .dataframe thead th {\n",
       "        text-align: right;\n",
       "    }\n",
       "</style>\n",
       "<table border=\"1\" class=\"dataframe\">\n",
       "  <thead>\n",
       "    <tr style=\"text-align: right;\">\n",
       "      <th></th>\n",
       "      <th>total_trades</th>\n",
       "      <th>gain_var</th>\n",
       "    </tr>\n",
       "    <tr>\n",
       "      <th>open_date</th>\n",
       "      <th></th>\n",
       "      <th></th>\n",
       "    </tr>\n",
       "  </thead>\n",
       "  <tbody>\n",
       "    <tr>\n",
       "      <th>2019-06-30</th>\n",
       "      <td>43</td>\n",
       "      <td>0.511628</td>\n",
       "    </tr>\n",
       "    <tr>\n",
       "      <th>2019-12-31</th>\n",
       "      <td>15</td>\n",
       "      <td>0.600000</td>\n",
       "    </tr>\n",
       "    <tr>\n",
       "      <th>2020-06-30</th>\n",
       "      <td>40</td>\n",
       "      <td>0.425000</td>\n",
       "    </tr>\n",
       "    <tr>\n",
       "      <th>2020-12-31</th>\n",
       "      <td>17</td>\n",
       "      <td>0.352941</td>\n",
       "    </tr>\n",
       "    <tr>\n",
       "      <th>2021-06-30</th>\n",
       "      <td>17</td>\n",
       "      <td>0.411765</td>\n",
       "    </tr>\n",
       "    <tr>\n",
       "      <th>2021-12-31</th>\n",
       "      <td>10</td>\n",
       "      <td>0.500000</td>\n",
       "    </tr>\n",
       "    <tr>\n",
       "      <th>2022-06-30</th>\n",
       "      <td>29</td>\n",
       "      <td>0.413793</td>\n",
       "    </tr>\n",
       "  </tbody>\n",
       "</table>\n",
       "</div>"
      ],
      "text/plain": [
       "            total_trades  gain_var\n",
       "open_date                         \n",
       "2019-06-30            43  0.511628\n",
       "2019-12-31            15  0.600000\n",
       "2020-06-30            40  0.425000\n",
       "2020-12-31            17  0.352941\n",
       "2021-06-30            17  0.411765\n",
       "2021-12-31            10  0.500000\n",
       "2022-06-30            29  0.413793"
      ]
     },
     "execution_count": 193,
     "metadata": {},
     "output_type": "execute_result"
    }
   ],
   "source": [
    "fechadas_stop_var10 = fechadas_var_10.loc[(fechadas_var_10.beta_close=='VAR CLOSE')]\n",
    "\n",
    "fechadas_var10_semestre = fechadas_stop_var10.set_index('open_date').resample('6M',closed='left').agg(\n",
    "    total_trades = ('status', 'count'),\n",
    "    gain_var = ('e_lucro_bruto', 'mean'),\n",
    ")\n",
    "\n",
    "fechadas_var10_semestre"
   ]
  },
  {
   "cell_type": "markdown",
   "id": "b35e35cf",
   "metadata": {},
   "source": [
    "# descritivas"
   ]
  },
  {
   "cell_type": "code",
   "execution_count": 194,
   "id": "5f5ffb07",
   "metadata": {
    "ExecuteTime": {
     "end_time": "2022-08-15T05:47:47.594988Z",
     "start_time": "2022-08-15T05:47:47.566995Z"
    }
   },
   "outputs": [
    {
     "data": {
      "text/plain": [
       "count    120.000000\n",
       "mean      -0.186974\n",
       "std        0.148944\n",
       "min       -0.450300\n",
       "25%       -0.317318\n",
       "50%       -0.199399\n",
       "75%       -0.009064\n",
       "max        0.033577\n",
       "Name: close, dtype: float64"
      ]
     },
     "execution_count": 194,
     "metadata": {},
     "output_type": "execute_result"
    }
   ],
   "source": [
    "ibov_returns.describe()"
   ]
  },
  {
   "cell_type": "code",
   "execution_count": 195,
   "id": "a9db2b0e",
   "metadata": {
    "ExecuteTime": {
     "end_time": "2022-08-15T05:47:47.611018Z",
     "start_time": "2022-08-15T05:47:47.596993Z"
    }
   },
   "outputs": [
    {
     "data": {
      "text/plain": [
       "time\n",
       "2019-12-30         NaN\n",
       "2020-01-02    0.025319\n",
       "2020-01-03    0.017830\n",
       "2020-01-06    0.010662\n",
       "2020-01-07    0.008794\n",
       "                ...   \n",
       "2020-06-19   -0.164927\n",
       "2020-06-22   -0.175615\n",
       "2020-06-23   -0.170089\n",
       "2020-06-24   -0.183908\n",
       "2020-06-25   -0.170020\n",
       "Name: close, Length: 121, dtype: float64"
      ]
     },
     "execution_count": 195,
     "metadata": {},
     "output_type": "execute_result"
    }
   ],
   "source": [
    "ibov_returns"
   ]
  },
  {
   "cell_type": "code",
   "execution_count": 196,
   "id": "3e405d44",
   "metadata": {
    "ExecuteTime": {
     "end_time": "2022-08-15T05:47:47.627004Z",
     "start_time": "2022-08-15T05:47:47.613991Z"
    }
   },
   "outputs": [
    {
     "data": {
      "text/plain": [
       "KstestResult(statistic=0.4866072735748652, pvalue=1.0610673190883458e-26)"
      ]
     },
     "execution_count": 196,
     "metadata": {},
     "output_type": "execute_result"
    }
   ],
   "source": [
    "# TESTE NORMALIDADE\n",
    "#perform Kolmogorov-Smirnov test\n",
    "kstest(ibov_returns.dropna(), 'norm')"
   ]
  },
  {
   "cell_type": "markdown",
   "id": "c2e9ec3e",
   "metadata": {},
   "source": [
    "# GRAFICOS"
   ]
  },
  {
   "cell_type": "code",
   "execution_count": 98,
   "id": "03a66267",
   "metadata": {
    "ExecuteTime": {
     "end_time": "2022-08-15T10:09:30.703554Z",
     "start_time": "2022-08-15T10:09:30.683559Z"
    }
   },
   "outputs": [],
   "source": [
    "fechadas = custo_baixo.loc[custo_baixo.status=='close']"
   ]
  },
  {
   "cell_type": "code",
   "execution_count": 99,
   "id": "968b38c5",
   "metadata": {
    "ExecuteTime": {
     "end_time": "2022-08-15T10:09:30.927011Z",
     "start_time": "2022-08-15T10:09:30.911020Z"
    }
   },
   "outputs": [
    {
     "data": {
      "text/plain": [
       "count    191.000000\n",
       "mean      -0.001038\n",
       "std        0.004710\n",
       "min       -0.014999\n",
       "25%       -0.005374\n",
       "50%       -0.000230\n",
       "75%        0.001910\n",
       "max        0.014984\n",
       "Name: return, dtype: float64"
      ]
     },
     "execution_count": 99,
     "metadata": {},
     "output_type": "execute_result"
    }
   ],
   "source": [
    "fechadas['return'].describe()"
   ]
  },
  {
   "cell_type": "code",
   "execution_count": 101,
   "id": "f5eaa9ad",
   "metadata": {
    "ExecuteTime": {
     "end_time": "2022-08-15T10:09:44.137806Z",
     "start_time": "2022-08-15T10:09:44.097575Z"
    }
   },
   "outputs": [
    {
     "name": "stderr",
     "output_type": "stream",
     "text": [
      "<ipython-input-101-501e524d6e9a>:1: SettingWithCopyWarning: \n",
      "A value is trying to be set on a copy of a slice from a DataFrame.\n",
      "Try using .loc[row_indexer,col_indexer] = value instead\n",
      "\n",
      "See the caveats in the documentation: https://pandas.pydata.org/pandas-docs/stable/user_guide/indexing.html#returning-a-view-versus-a-copy\n",
      "  fechadas['e_lucro_bruto'] = fechadas['retorno_acumulado_sem_custos'] > 0\n"
     ]
    }
   ],
   "source": [
    "fechadas['e_lucro_bruto'] = fechadas['retorno_acumulado_sem_custos'] > 0"
   ]
  },
  {
   "cell_type": "code",
   "execution_count": 102,
   "id": "8a4bc7ec",
   "metadata": {
    "ExecuteTime": {
     "end_time": "2022-08-15T10:09:45.640534Z",
     "start_time": "2022-08-15T10:09:45.426916Z"
    }
   },
   "outputs": [
    {
     "data": {
      "image/png": "[encoded data removed]",
      "text/plain": [
       "<Figure size 1080x576 with 1 Axes>"
      ]
     },
     "metadata": {
      "needs_background": "light"
     },
     "output_type": "display_data"
    }
   ],
   "source": [
    "halfyear_accuracy = fechadas.set_index('open_date').resample('1M')[['e_lucro_bruto']].mean().reset_index()\n",
    "halfyear_accuracy.columns = ['open_date', 'retorno']\n",
    "halfyear_accuracy['open_date'] = halfyear_accuracy['open_date'].dt.date\n",
    "halfyear_accuracy = halfyear_accuracy.melt(id_vars='open_date', value_name='acerto')\n",
    "plt.figure(figsize=(15,8))\n",
    "sns.barplot(x='open_date', y='acerto', hue='variable', data=halfyear_accuracy)\n",
    "plt.axhline(y=0.5, color='blue', linestyle='--')\n",
    "plt.xlabel('data')\n",
    "# plt.xticks(rotation=90)\n",
    "plt.legend(bbox_to_anchor=(1.05, 1), loc=2, borderaxespad=0.)\n",
    "plt.show()"
   ]
  },
  {
   "cell_type": "code",
   "execution_count": 103,
   "id": "9a295f6a",
   "metadata": {
    "ExecuteTime": {
     "end_time": "2022-08-15T10:09:45.997334Z",
     "start_time": "2022-08-15T10:09:45.745563Z"
    }
   },
   "outputs": [
    {
     "data": {
      "text/plain": [
       "Text(0, 0.5, 'acerto')"
      ]
     },
     "execution_count": 103,
     "metadata": {},
     "output_type": "execute_result"
    },
    {
     "data": {
      "image/png": "[encoded data removed]",
      "text/plain": [
       "<Figure size 2160x576 with 1 Axes>"
      ]
     },
     "metadata": {
      "needs_background": "light"
     },
     "output_type": "display_data"
    }
   ],
   "source": [
    "fechadas_agrupadas_semestre = fechadas.groupby('setor').e_lucro_bruto.mean().reset_index()\n",
    "\n",
    "plt.figure(figsize=(30,8))\n",
    "\n",
    "# fechadas_agrupadas_semestre['open_date'] = pd.to_datetime(fechadas_agrupadas_semestre['open_date'])\n",
    "# fechadas_2020 = fechadas_agrupadas_semestre.set_index('open_date').loc['2020'].reset_index()\n",
    "# fechadas_2020['open_date'] = fechadas_2020.open_date.dt.date\n",
    "\n",
    "sns.barplot(x='setor', y='e_lucro_bruto', data=fechadas_agrupadas_semestre, color='steelblue')\n",
    "plt.axhline(y=0.5, color='blue', linestyle='--')\n",
    "\n",
    "plt.ylabel('acerto')\n",
    "# plt.legend(bbox_to_anchor=(1.05, 1), loc=2, borderaxespad=0.)\n"
   ]
  },
  {
   "cell_type": "code",
   "execution_count": 104,
   "id": "75f8849a",
   "metadata": {
    "ExecuteTime": {
     "end_time": "2022-08-15T10:09:46.397218Z",
     "start_time": "2022-08-15T10:09:46.365971Z"
    }
   },
   "outputs": [
    {
     "data": {
      "text/html": [
       "<div>\n",
       "<style scoped>\n",
       "    .dataframe tbody tr th:only-of-type {\n",
       "        vertical-align: middle;\n",
       "    }\n",
       "\n",
       "    .dataframe tbody tr th {\n",
       "        vertical-align: top;\n",
       "    }\n",
       "\n",
       "    .dataframe thead th {\n",
       "        text-align: right;\n",
       "    }\n",
       "</style>\n",
       "<table border=\"1\" class=\"dataframe\">\n",
       "  <thead>\n",
       "    <tr style=\"text-align: right;\">\n",
       "      <th></th>\n",
       "      <th>operacoes</th>\n",
       "      <th>retorno</th>\n",
       "      <th>acerto</th>\n",
       "    </tr>\n",
       "    <tr>\n",
       "      <th>setor</th>\n",
       "      <th></th>\n",
       "      <th></th>\n",
       "      <th></th>\n",
       "    </tr>\n",
       "  </thead>\n",
       "  <tbody>\n",
       "    <tr>\n",
       "      <th>Financeiro</th>\n",
       "      <td>59</td>\n",
       "      <td>-0.137064</td>\n",
       "      <td>0.677966</td>\n",
       "    </tr>\n",
       "    <tr>\n",
       "      <th>Mineração e Siderurgia</th>\n",
       "      <td>16</td>\n",
       "      <td>0.003301</td>\n",
       "      <td>0.750000</td>\n",
       "    </tr>\n",
       "    <tr>\n",
       "      <th>Papel e Celulose</th>\n",
       "      <td>6</td>\n",
       "      <td>-0.019526</td>\n",
       "      <td>0.500000</td>\n",
       "    </tr>\n",
       "    <tr>\n",
       "      <th>Petroleo, gás e biocombustíveis</th>\n",
       "      <td>1</td>\n",
       "      <td>-0.000636</td>\n",
       "      <td>1.000000</td>\n",
       "    </tr>\n",
       "    <tr>\n",
       "      <th>Utilidade Pública</th>\n",
       "      <td>88</td>\n",
       "      <td>0.008297</td>\n",
       "      <td>0.568182</td>\n",
       "    </tr>\n",
       "    <tr>\n",
       "      <th>Varejo</th>\n",
       "      <td>21</td>\n",
       "      <td>-0.052601</td>\n",
       "      <td>0.476190</td>\n",
       "    </tr>\n",
       "  </tbody>\n",
       "</table>\n",
       "</div>"
      ],
      "text/plain": [
       "                                 operacoes   retorno    acerto\n",
       "setor                                                         \n",
       "Financeiro                              59 -0.137064  0.677966\n",
       "Mineração e Siderurgia                  16  0.003301  0.750000\n",
       "Papel e Celulose                         6 -0.019526  0.500000\n",
       "Petroleo, gás e biocombustíveis          1 -0.000636  1.000000\n",
       "Utilidade Pública                       88  0.008297  0.568182\n",
       "Varejo                                  21 -0.052601  0.476190"
      ]
     },
     "execution_count": 104,
     "metadata": {},
     "output_type": "execute_result"
    }
   ],
   "source": [
    "fechadas_agrupadas_semestre = fechadas.groupby('setor').agg(\n",
    "    operacoes=('return', 'count'),\n",
    "    retorno = ('return', 'sum'),\n",
    "    acerto = ('e_lucro_bruto', 'mean')\n",
    "    )\n",
    "fechadas_agrupadas_semestre.to_csv('5min var deslitabela')"
   ]
  },
  {
   "cell_type": "code",
   "execution_count": 80,
   "id": "9e841fad",
   "metadata": {
    "ExecuteTime": {
     "end_time": "2022-08-15T09:45:22.166481Z",
     "start_time": "2022-08-15T09:45:22.118168Z"
    }
   },
   "outputs": [
    {
     "data": {
      "text/html": [
       "<div>\n",
       "<style scoped>\n",
       "    .dataframe tbody tr th:only-of-type {\n",
       "        vertical-align: middle;\n",
       "    }\n",
       "\n",
       "    .dataframe tbody tr th {\n",
       "        vertical-align: top;\n",
       "    }\n",
       "\n",
       "    .dataframe thead th {\n",
       "        text-align: right;\n",
       "    }\n",
       "</style>\n",
       "<table border=\"1\" class=\"dataframe\">\n",
       "  <thead>\n",
       "    <tr style=\"text-align: right;\">\n",
       "      <th></th>\n",
       "      <th>trades</th>\n",
       "      <th>taxa_acerto</th>\n",
       "      <th>prazo_medio_operacao</th>\n",
       "      <th>retorno_bruto_acum</th>\n",
       "      <th>retorno_liquidi_acum</th>\n",
       "    </tr>\n",
       "    <tr>\n",
       "      <th>sorted_pair</th>\n",
       "      <th></th>\n",
       "      <th></th>\n",
       "      <th></th>\n",
       "      <th></th>\n",
       "      <th></th>\n",
       "    </tr>\n",
       "  </thead>\n",
       "  <tbody>\n",
       "    <tr>\n",
       "      <th>(GGBR4, GOAU4)</th>\n",
       "      <td>5</td>\n",
       "      <td>0.800000</td>\n",
       "      <td>281.200000</td>\n",
       "      <td>0.063096</td>\n",
       "      <td>0.008909</td>\n",
       "    </tr>\n",
       "    <tr>\n",
       "      <th>(BBDC3, BBDC4)</th>\n",
       "      <td>4</td>\n",
       "      <td>1.000000</td>\n",
       "      <td>399.500000</td>\n",
       "      <td>0.036443</td>\n",
       "      <td>-0.007442</td>\n",
       "    </tr>\n",
       "    <tr>\n",
       "      <th>(CMIG4, ELET6)</th>\n",
       "      <td>3</td>\n",
       "      <td>1.000000</td>\n",
       "      <td>303.333333</td>\n",
       "      <td>0.087517</td>\n",
       "      <td>0.069443</td>\n",
       "    </tr>\n",
       "    <tr>\n",
       "      <th>(KLBN11, SUZB3)</th>\n",
       "      <td>3</td>\n",
       "      <td>1.000000</td>\n",
       "      <td>151.000000</td>\n",
       "      <td>0.079626</td>\n",
       "      <td>0.057181</td>\n",
       "    </tr>\n",
       "    <tr>\n",
       "      <th>(CRFB3, LREN3)</th>\n",
       "      <td>3</td>\n",
       "      <td>0.666667</td>\n",
       "      <td>431.666667</td>\n",
       "      <td>0.047922</td>\n",
       "      <td>0.029871</td>\n",
       "    </tr>\n",
       "    <tr>\n",
       "      <th>(AMER3, MGLU3)</th>\n",
       "      <td>2</td>\n",
       "      <td>1.000000</td>\n",
       "      <td>450.500000</td>\n",
       "      <td>0.046352</td>\n",
       "      <td>0.034244</td>\n",
       "    </tr>\n",
       "    <tr>\n",
       "      <th>(BBAS3, BBDC3)</th>\n",
       "      <td>2</td>\n",
       "      <td>1.000000</td>\n",
       "      <td>591.500000</td>\n",
       "      <td>0.052503</td>\n",
       "      <td>0.022916</td>\n",
       "    </tr>\n",
       "    <tr>\n",
       "      <th>(BBAS3, BBDC4)</th>\n",
       "      <td>2</td>\n",
       "      <td>1.000000</td>\n",
       "      <td>703.500000</td>\n",
       "      <td>0.024332</td>\n",
       "      <td>0.001728</td>\n",
       "    </tr>\n",
       "    <tr>\n",
       "      <th>(CMIG4, ELET3)</th>\n",
       "      <td>2</td>\n",
       "      <td>1.000000</td>\n",
       "      <td>517.500000</td>\n",
       "      <td>0.050512</td>\n",
       "      <td>0.038269</td>\n",
       "    </tr>\n",
       "    <tr>\n",
       "      <th>(EGIE3, ENEV3)</th>\n",
       "      <td>2</td>\n",
       "      <td>1.000000</td>\n",
       "      <td>93.500000</td>\n",
       "      <td>0.062288</td>\n",
       "      <td>0.050778</td>\n",
       "    </tr>\n",
       "    <tr>\n",
       "      <th>(ELET6, ENBR3)</th>\n",
       "      <td>2</td>\n",
       "      <td>1.000000</td>\n",
       "      <td>280.500000</td>\n",
       "      <td>0.048395</td>\n",
       "      <td>0.036790</td>\n",
       "    </tr>\n",
       "    <tr>\n",
       "      <th>(EGIE3, TAEE11)</th>\n",
       "      <td>2</td>\n",
       "      <td>0.500000</td>\n",
       "      <td>434.000000</td>\n",
       "      <td>0.009355</td>\n",
       "      <td>-0.002530</td>\n",
       "    </tr>\n",
       "    <tr>\n",
       "      <th>(BBAS3, ITUB4)</th>\n",
       "      <td>1</td>\n",
       "      <td>1.000000</td>\n",
       "      <td>393.000000</td>\n",
       "      <td>0.006386</td>\n",
       "      <td>-0.004544</td>\n",
       "    </tr>\n",
       "    <tr>\n",
       "      <th>(BBDC3, ITUB4)</th>\n",
       "      <td>1</td>\n",
       "      <td>1.000000</td>\n",
       "      <td>1715.000000</td>\n",
       "      <td>0.157399</td>\n",
       "      <td>0.134314</td>\n",
       "    </tr>\n",
       "    <tr>\n",
       "      <th>(BBDC4, ITUB4)</th>\n",
       "      <td>1</td>\n",
       "      <td>1.000000</td>\n",
       "      <td>1733.000000</td>\n",
       "      <td>0.101658</td>\n",
       "      <td>0.080353</td>\n",
       "    </tr>\n",
       "  </tbody>\n",
       "</table>\n",
       "</div>"
      ],
      "text/plain": [
       "                 trades  taxa_acerto  prazo_medio_operacao  \\\n",
       "sorted_pair                                                  \n",
       "(GGBR4, GOAU4)        5     0.800000            281.200000   \n",
       "(BBDC3, BBDC4)        4     1.000000            399.500000   \n",
       "(CMIG4, ELET6)        3     1.000000            303.333333   \n",
       "(KLBN11, SUZB3)       3     1.000000            151.000000   \n",
       "(CRFB3, LREN3)        3     0.666667            431.666667   \n",
       "(AMER3, MGLU3)        2     1.000000            450.500000   \n",
       "(BBAS3, BBDC3)        2     1.000000            591.500000   \n",
       "(BBAS3, BBDC4)        2     1.000000            703.500000   \n",
       "(CMIG4, ELET3)        2     1.000000            517.500000   \n",
       "(EGIE3, ENEV3)        2     1.000000             93.500000   \n",
       "(ELET6, ENBR3)        2     1.000000            280.500000   \n",
       "(EGIE3, TAEE11)       2     0.500000            434.000000   \n",
       "(BBAS3, ITUB4)        1     1.000000            393.000000   \n",
       "(BBDC3, ITUB4)        1     1.000000           1715.000000   \n",
       "(BBDC4, ITUB4)        1     1.000000           1733.000000   \n",
       "\n",
       "                 retorno_bruto_acum  retorno_liquidi_acum  \n",
       "sorted_pair                                                \n",
       "(GGBR4, GOAU4)             0.063096              0.008909  \n",
       "(BBDC3, BBDC4)             0.036443             -0.007442  \n",
       "(CMIG4, ELET6)             0.087517              0.069443  \n",
       "(KLBN11, SUZB3)            0.079626              0.057181  \n",
       "(CRFB3, LREN3)             0.047922              0.029871  \n",
       "(AMER3, MGLU3)             0.046352              0.034244  \n",
       "(BBAS3, BBDC3)             0.052503              0.022916  \n",
       "(BBAS3, BBDC4)             0.024332              0.001728  \n",
       "(CMIG4, ELET3)             0.050512              0.038269  \n",
       "(EGIE3, ENEV3)             0.062288              0.050778  \n",
       "(ELET6, ENBR3)             0.048395              0.036790  \n",
       "(EGIE3, TAEE11)            0.009355             -0.002530  \n",
       "(BBAS3, ITUB4)             0.006386             -0.004544  \n",
       "(BBDC3, ITUB4)             0.157399              0.134314  \n",
       "(BBDC4, ITUB4)             0.101658              0.080353  "
      ]
     },
     "execution_count": 80,
     "metadata": {},
     "output_type": "execute_result"
    }
   ],
   "source": [
    "fechadas_grouped = fechadas.groupby('sorted_pair').agg(\n",
    "    trades = ('sorted_pair','count'),\n",
    "    taxa_acerto = ('e_lucro_bruto', 'mean'),\n",
    "    prazo_medio_operacao = ('days_open', 'mean'),\n",
    "    retorno_bruto_acum = ('retorno_acumulado_sem_custos', 'sum'),\n",
    "    retorno_liquidi_acum = ('retorno_acumulado', 'sum')\n",
    ")\n",
    "\n",
    "fechadas_grouped.sort_values(by=['trades', 'taxa_acerto'], ascending=False).head(15)"
   ]
  },
  {
   "cell_type": "code",
   "execution_count": 81,
   "id": "2116f0a3",
   "metadata": {
    "ExecuteTime": {
     "end_time": "2022-08-15T09:45:37.412234Z",
     "start_time": "2022-08-15T09:45:37.351338Z"
    }
   },
   "outputs": [],
   "source": [
    "fechadas_grouped.sort_values(by=['trades', 'taxa_acerto'], ascending=False).to_excel('pares_5min_var_desligado.xlsx')"
   ]
  },
  {
   "cell_type": "code",
   "execution_count": 86,
   "id": "49857a65",
   "metadata": {
    "ExecuteTime": {
     "end_time": "2022-08-15T04:20:28.570819Z",
     "start_time": "2022-08-15T04:20:23.716012Z"
    }
   },
   "outputs": [],
   "source": [
    "custo_baixo.pivot(index='pair', columns='date', values='return').T.to_excel('15_min_custo_baixo.xlsx')"
   ]
  },
  {
   "cell_type": "code",
   "execution_count": null,
   "id": "034eae8a",
   "metadata": {},
   "outputs": [],
   "source": []
  }
 ],
 "metadata": {
  "kernelspec": {
   "display_name": "Python 3",
   "language": "python",
   "name": "python3"
  },
  "language_info": {
   "codemirror_mode": {
    "name": "ipython",
    "version": 3
   },
   "file_extension": ".py",
   "mimetype": "text/x-python",
   "name": "python",
   "nbconvert_exporter": "python",
   "pygments_lexer": "ipython3",
   "version": "3.8.4"
  }
 },
 "nbformat": 4,
 "nbformat_minor": 5
}
